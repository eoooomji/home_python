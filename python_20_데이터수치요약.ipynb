{
  "nbformat": 4,
  "nbformat_minor": 0,
  "metadata": {
    "colab": {
      "provenance": [],
      "authorship_tag": "ABX9TyMAalxzvsMGizk5ouWLQ7r6",
      "include_colab_link": true
    },
    "kernelspec": {
      "name": "python3",
      "display_name": "Python 3"
    },
    "language_info": {
      "name": "python"
    }
  },
  "cells": [
    {
      "cell_type": "markdown",
      "metadata": {
        "id": "view-in-github",
        "colab_type": "text"
      },
      "source": [
        "<a href=\"https://colab.research.google.com/github/eoooomji/home_python/blob/master/python_20_%EB%8D%B0%EC%9D%B4%ED%84%B0%EC%88%98%EC%B9%98%EC%9A%94%EC%95%BD.ipynb\" target=\"_parent\"><img src=\"https://colab.research.google.com/assets/colab-badge.svg\" alt=\"Open In Colab\"/></a>"
      ]
    },
    {
      "cell_type": "markdown",
      "source": [
        "## 4명의 키와 몸무게 계산 ( 합계, 평균, 편차, 분산, 표준편차, 상관계수 )\n",
        "\n",
        "1. python을 이용한 4명의 키와 몸무게\n",
        "\n",
        "2. numpy를 이용한 4명의 키와 몸무게"
      ],
      "metadata": {
        "id": "qxRnKDEjssyr"
      }
    },
    {
      "cell_type": "markdown",
      "source": [
        "### python을 이용한 4명의 키와 몸무게"
      ],
      "metadata": {
        "id": "7qfIaJwDsv3u"
      }
    },
    {
      "cell_type": "code",
      "source": [
        "height = [175, 165, 180, 160]\n",
        "weight = [75, 70, 95, 60]"
      ],
      "metadata": {
        "id": "BJ3moch3s70c"
      },
      "execution_count": 1,
      "outputs": []
    },
    {
      "cell_type": "code",
      "source": [
        "# 합계\n",
        "h_sum = sum(height)\n",
        "w_sum = sum(weight)\n",
        "print('키 합계' , h_sum)\n",
        "print('몸무게 합계' , w_sum)"
      ],
      "metadata": {
        "colab": {
          "base_uri": "https://localhost:8080/"
        },
        "id": "cMG0lflOtN4u",
        "outputId": "af1443bd-36ce-435b-aa4a-672498b23985"
      },
      "execution_count": 6,
      "outputs": [
        {
          "output_type": "stream",
          "name": "stdout",
          "text": [
            "키 합계 680\n",
            "몸무게 합계 300\n"
          ]
        }
      ]
    },
    {
      "cell_type": "code",
      "source": [
        "# 평균\n",
        "length = len(height)\n",
        "\n",
        "h_mean = h_sum / length\n",
        "w_mean = w_sum / length"
      ],
      "metadata": {
        "id": "VvLz-NKItQrn"
      },
      "execution_count": 7,
      "outputs": []
    },
    {
      "cell_type": "code",
      "source": [
        "# 편차\n",
        "h_deviation = [i - h_mean for i in height]\n",
        "w_deviation = [i - w_mean for i in weight]\n",
        "\n",
        "print('키 편차', h_deviation, sum(h_deviation))\n",
        "print('몸무게 편차', w_deviation, sum(w_deviation))"
      ],
      "metadata": {
        "colab": {
          "base_uri": "https://localhost:8080/"
        },
        "id": "UQLNUNEUtare",
        "outputId": "e87672e1-73a9-4702-bfea-76eb47a00aa7"
      },
      "execution_count": 8,
      "outputs": [
        {
          "output_type": "stream",
          "name": "stdout",
          "text": [
            "키 편차 [5.0, -5.0, 10.0, -10.0] 0.0\n",
            "몸무게 편차 [0.0, -5.0, 20.0, -15.0] 0.0\n"
          ]
        }
      ]
    },
    {
      "cell_type": "code",
      "source": [
        "# 분산\n",
        "h_data = [(i - h_mean)**2 for i in height]\n",
        "w_data = [(i - w_mean)**2 for i in weight]\n",
        "\n",
        "h_variance = sum(h_data) / length\n",
        "w_variance = sum(w_data) / length\n",
        "\n",
        "print('키 분산', h_variance)\n",
        "print('몸무게 분산', w_variance)"
      ],
      "metadata": {
        "colab": {
          "base_uri": "https://localhost:8080/"
        },
        "id": "iYP30mlRuH0f",
        "outputId": "fa0b9c3e-40ef-41ea-df22-12569901e1fd"
      },
      "execution_count": 9,
      "outputs": [
        {
          "output_type": "stream",
          "name": "stdout",
          "text": [
            "키 분산 62.5\n",
            "몸무게 분산 162.5\n"
          ]
        }
      ]
    },
    {
      "cell_type": "code",
      "source": [
        "# 표준편차\n",
        "import math\n",
        "\n",
        "h_standard_deviation = math.sqrt(h_variance)\n",
        "w_standard_deviation = math.sqrt(w_variance)\n",
        "\n",
        "print('키 표준편차', h_standard_deviation)\n",
        "print('몸무게 표준편차', w_standard_deviation)"
      ],
      "metadata": {
        "colab": {
          "base_uri": "https://localhost:8080/"
        },
        "id": "7bQZ0w0FubVC",
        "outputId": "1c5f257e-4569-4b2c-f42b-f417629f6fb7"
      },
      "execution_count": 10,
      "outputs": [
        {
          "output_type": "stream",
          "name": "stdout",
          "text": [
            "키 표준편차 7.905694150420948\n",
            "몸무게 표준편차 12.747548783981962\n"
          ]
        }
      ]
    },
    {
      "cell_type": "code",
      "source": [
        "# 공분산\n",
        "h_w_covariance = [i * j for i, j in zip(h_deviation, w_deviation)]\n",
        "print(h_w_covariance)\n",
        "\n",
        "h_w_covariance = sum(h_w_covariance) / length\n",
        "print(h_w_covariance)"
      ],
      "metadata": {
        "colab": {
          "base_uri": "https://localhost:8080/"
        },
        "id": "NqudB1_iuq7y",
        "outputId": "45c351a4-0f6d-4e68-f0ee-73f5e9cc167f"
      },
      "execution_count": 15,
      "outputs": [
        {
          "output_type": "stream",
          "name": "stdout",
          "text": [
            "[0.0, 25.0, 200.0, 150.0]\n",
            "93.75\n"
          ]
        }
      ]
    },
    {
      "cell_type": "code",
      "source": [
        "# 상관관계\n",
        "h_w_coef = h_w_covariance / (h_standard_deviation * w_standard_deviation)\n",
        "print(h_w_coef)"
      ],
      "metadata": {
        "colab": {
          "base_uri": "https://localhost:8080/"
        },
        "id": "15Xt4Y_XvCMq",
        "outputId": "6ebae7b8-7dad-4eed-e9b3-6ff34f73a7de"
      },
      "execution_count": 16,
      "outputs": [
        {
          "output_type": "stream",
          "name": "stdout",
          "text": [
            "0.9302605094190635\n"
          ]
        }
      ]
    },
    {
      "cell_type": "markdown",
      "source": [
        "### numpy를 이용한 4명의 키와 몸무게\n",
        "\n",
        "통계량의 계산이나 기본적인 데이터 분석에 사용되는 함수는 scipy패키지에서도 제공되나  \n",
        "sum, mean, var, cov, corrcoef등은 Scipy 2.0부터 되고 remove되어 numpy에서 사용하도록 권장하고 있다."
      ],
      "metadata": {
        "id": "aEetYxpavVLA"
      }
    },
    {
      "cell_type": "code",
      "source": [
        "import numpy as np"
      ],
      "metadata": {
        "id": "Arj9GkYsvbT-"
      },
      "execution_count": 18,
      "outputs": []
    },
    {
      "cell_type": "code",
      "source": [
        "height = np.array([175, 165, 180, 160])\n",
        "weight = np.array([75, 70, 95, 72])"
      ],
      "metadata": {
        "id": "PLsNbxCMvhJZ"
      },
      "execution_count": 19,
      "outputs": []
    },
    {
      "cell_type": "code",
      "source": [
        "# 합계\n",
        "h_sum = np.sum(height)\n",
        "w_sum = np.sum(weight)\n",
        "\n",
        "print('키 합계', h_sum)\n",
        "print('몸무게 합계', w_sum)"
      ],
      "metadata": {
        "colab": {
          "base_uri": "https://localhost:8080/"
        },
        "id": "QwhkHexEvnVi",
        "outputId": "2ad806d3-0765-4fb8-ec02-82f242305178"
      },
      "execution_count": 21,
      "outputs": [
        {
          "output_type": "stream",
          "name": "stdout",
          "text": [
            "키 합계 680\n",
            "몸무게 합계 312\n"
          ]
        }
      ]
    },
    {
      "cell_type": "code",
      "source": [
        "# 평균\n",
        "h_mean = np.mean(height)\n",
        "w_mean = np.mean(weight)\n",
        "\n",
        "print('키 평균', h_mean)\n",
        "print('몸무게 평균', w_mean)"
      ],
      "metadata": {
        "colab": {
          "base_uri": "https://localhost:8080/"
        },
        "id": "cNJiDAZpvwWA",
        "outputId": "de7c187e-b793-4483-fa0c-98ad70efb41b"
      },
      "execution_count": 22,
      "outputs": [
        {
          "output_type": "stream",
          "name": "stdout",
          "text": [
            "키 평균 170.0\n",
            "몸무게 평균 78.0\n"
          ]
        }
      ]
    },
    {
      "cell_type": "code",
      "source": [
        "# 분산\n",
        "h_variance = np.var(height)\n",
        "w_variance = np.var(weight)\n",
        "\n",
        "print('키 분산', h_variance)\n",
        "print('몸무게 분산', w_variance)"
      ],
      "metadata": {
        "colab": {
          "base_uri": "https://localhost:8080/"
        },
        "id": "blnSnmUZv4MB",
        "outputId": "e6361d06-4838-4988-93af-210404180f1c"
      },
      "execution_count": 23,
      "outputs": [
        {
          "output_type": "stream",
          "name": "stdout",
          "text": [
            "키 분산 62.5\n",
            "몸무게 분산 99.5\n"
          ]
        }
      ]
    },
    {
      "cell_type": "code",
      "source": [
        "# 표준편차\n",
        "h_standard_deviation = np.std(height)\n",
        "w_standard_deviation = np.std(weight)\n",
        "\n",
        "print('키 표준편차', h_standard_deviation)\n",
        "print('몸무게 표준편차', w_standard_deviation)"
      ],
      "metadata": {
        "colab": {
          "base_uri": "https://localhost:8080/"
        },
        "id": "XuJBpXWPwEt_",
        "outputId": "83c564e4-7145-4fa5-ed96-603620033262"
      },
      "execution_count": 24,
      "outputs": [
        {
          "output_type": "stream",
          "name": "stdout",
          "text": [
            "키 표준편차 7.905694150420948\n",
            "몸무게 표준편차 9.974968671630002\n"
          ]
        }
      ]
    },
    {
      "cell_type": "code",
      "source": [
        "# 공분산 (매트릭스로 출력)\n",
        "h_w_covariance = np.cov(height, weight, ddof = 0) # default ddof = 0\n",
        "h_w_covariance"
      ],
      "metadata": {
        "colab": {
          "base_uri": "https://localhost:8080/"
        },
        "id": "1eTLykYZwPSx",
        "outputId": "e0aef356-cf68-4fda-f9c2-d1965691a47a"
      },
      "execution_count": 25,
      "outputs": [
        {
          "output_type": "execute_result",
          "data": {
            "text/plain": [
              "array([[62.5 , 63.75],\n",
              "       [63.75, 99.5 ]])"
            ]
          },
          "metadata": {},
          "execution_count": 25
        }
      ]
    },
    {
      "cell_type": "code",
      "source": [
        "# 상관관계\n",
        "np.corrcoef(height, weight)"
      ],
      "metadata": {
        "colab": {
          "base_uri": "https://localhost:8080/"
        },
        "id": "Ycy1bjvPwXzE",
        "outputId": "4e5c0f4f-c981-4f0e-83cd-b8e2d1499413"
      },
      "execution_count": 26,
      "outputs": [
        {
          "output_type": "execute_result",
          "data": {
            "text/plain": [
              "array([[1.        , 0.80840435],\n",
              "       [0.80840435, 1.        ]])"
            ]
          },
          "metadata": {},
          "execution_count": 26
        }
      ]
    }
  ]
}