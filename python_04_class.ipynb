{
  "nbformat": 4,
  "nbformat_minor": 0,
  "metadata": {
    "colab": {
      "provenance": [],
      "authorship_tag": "ABX9TyNFBH9DSdys+7XU4hAvWy54",
      "include_colab_link": true
    },
    "kernelspec": {
      "name": "python3",
      "display_name": "Python 3"
    },
    "language_info": {
      "name": "python"
    }
  },
  "cells": [
    {
      "cell_type": "markdown",
      "metadata": {
        "id": "view-in-github",
        "colab_type": "text"
      },
      "source": [
        "<a href=\"https://colab.research.google.com/github/eoooomji/home_python/blob/master/python_04_class.ipynb\" target=\"_parent\"><img src=\"https://colab.research.google.com/assets/colab-badge.svg\" alt=\"Open In Colab\"/></a>"
      ]
    },
    {
      "cell_type": "markdown",
      "source": [
        "# Class"
      ],
      "metadata": {
        "id": "FB3Mqc68Smuq"
      }
    },
    {
      "cell_type": "markdown",
      "source": [
        "## callable\n",
        "\n",
        "- 이름 뒤에 괄호( )를 붙이는 것을 call(호출)이라고 한다.\n",
        "\n",
        "- 이름 뒤에 괄호( )를 붙일 수 있는 것을 callable이라고 한다.\n",
        "\n",
        "- python에서 callable인 것이 3가지 유형이 있다.\n",
        "```\n",
        "  (1) function\n",
        "  (2) class(__init__가 정의되었을 경우)\n",
        "  (3) object(__call__가 정의되었을 경우)\n",
        "```\n",
        "\n",
        "객체지향 프로그래밍\n",
        "- is : 메모리 주소\n",
        "- issubclass(child, parent) : 상속여부\n",
        "- isinstance(a, int) : int클래스의 a가 인스턴스인지 여부"
      ],
      "metadata": {
        "id": "GEBzc2KjSoJi"
      }
    },
    {
      "cell_type": "markdown",
      "source": [
        "## def\n",
        "\n",
        "- 정의 + 호출\n",
        "\n",
        "- 외부에서 내부 접근 x"
      ],
      "metadata": {
        "id": "fNCV12d5Ss-h"
      }
    },
    {
      "cell_type": "markdown",
      "source": [
        "## class\n",
        "\n",
        "- 정의 + 인스턴스 생성 및 등록\n",
        "\n",
        "- 외부에서 내부 접근 o\n",
        "\n",
        "- 클래스의 type은 type이다."
      ],
      "metadata": {
        "id": "oOtLtr4ISwwS"
      }
    },
    {
      "cell_type": "code",
      "source": [
        "# int의 literal\n",
        "a = 1\n",
        "print(type(a))"
      ],
      "metadata": {
        "colab": {
          "base_uri": "https://localhost:8080/"
        },
        "id": "YDFjdxNTS0_i",
        "outputId": "ff060f47-e00a-4df1-b0d7-1a75991bb0bb"
      },
      "execution_count": null,
      "outputs": [
        {
          "output_type": "stream",
          "name": "stdout",
          "text": [
            "<class 'int'>\n"
          ]
        }
      ]
    },
    {
      "cell_type": "code",
      "source": [
        "# 문자열 1을 정수값 1로 int의 인스턴스 방식으로 만들 수 있다.\n",
        "a = int('1')\n",
        "print(type(a))"
      ],
      "metadata": {
        "colab": {
          "base_uri": "https://localhost:8080/"
        },
        "id": "VxMba8T3UNDB",
        "outputId": "ecdf126b-ed20-447b-9d49-0d2943cde2e6"
      },
      "execution_count": null,
      "outputs": [
        {
          "output_type": "stream",
          "name": "stdout",
          "text": [
            "<class 'int'>\n"
          ]
        }
      ]
    },
    {
      "cell_type": "code",
      "source": [
        "# int라는 타입으로 a는 생성된 객체인가?\n",
        "isinstance(a, int)"
      ],
      "metadata": {
        "colab": {
          "base_uri": "https://localhost:8080/"
        },
        "id": "m-cspoeLUY2D",
        "outputId": "5c57a211-75fb-46ce-db46-ae414d1d2d32"
      },
      "execution_count": null,
      "outputs": [
        {
          "output_type": "execute_result",
          "data": {
            "text/plain": [
              "True"
            ]
          },
          "metadata": {},
          "execution_count": 3
        }
      ]
    },
    {
      "cell_type": "code",
      "source": [
        "isinstance(a, str)"
      ],
      "metadata": {
        "colab": {
          "base_uri": "https://localhost:8080/"
        },
        "id": "VIlx-Wh5UlRZ",
        "outputId": "cb202bfd-f2cc-4d61-b35a-f183b0f59781"
      },
      "execution_count": null,
      "outputs": [
        {
          "output_type": "execute_result",
          "data": {
            "text/plain": [
              "False"
            ]
          },
          "metadata": {},
          "execution_count": 4
        }
      ]
    },
    {
      "cell_type": "markdown",
      "source": [
        "## 클래스 정의\n",
        "\n",
        "- 클래스를 정의할 때는 대문자로 정의한다."
      ],
      "metadata": {
        "id": "0BsbDJF2UoyZ"
      }
    },
    {
      "cell_type": "code",
      "source": [
        "class A :\n",
        "  x = 1\n",
        "  def prn() :\n",
        "    a = 1"
      ],
      "metadata": {
        "id": "baFpV0tbUsKz"
      },
      "execution_count": null,
      "outputs": []
    },
    {
      "cell_type": "code",
      "source": [
        "callable(A)"
      ],
      "metadata": {
        "colab": {
          "base_uri": "https://localhost:8080/"
        },
        "id": "LL1z5GVlUv88",
        "outputId": "5b6ac164-c6a7-4502-dd77-b3d042b954d6"
      },
      "execution_count": null,
      "outputs": [
        {
          "output_type": "execute_result",
          "data": {
            "text/plain": [
              "True"
            ]
          },
          "metadata": {},
          "execution_count": 7
        }
      ]
    },
    {
      "cell_type": "code",
      "source": [
        "# 사용할 때 괄호를 붙인다. (callable이 가능하기 때문에)\n",
        "A()"
      ],
      "metadata": {
        "colab": {
          "base_uri": "https://localhost:8080/"
        },
        "id": "g6BfK8ALUz2R",
        "outputId": "c2d0164a-999c-4eb2-a451-aea82b818400"
      },
      "execution_count": null,
      "outputs": [
        {
          "output_type": "execute_result",
          "data": {
            "text/plain": [
              "<__main__.A at 0x7f158edbf400>"
            ]
          },
          "metadata": {},
          "execution_count": 8
        }
      ]
    },
    {
      "cell_type": "code",
      "source": [
        "print(dir(A))"
      ],
      "metadata": {
        "colab": {
          "base_uri": "https://localhost:8080/"
        },
        "id": "BxmcZK9vU46U",
        "outputId": "f11d7168-f117-41aa-9877-9b124a5d7343"
      },
      "execution_count": null,
      "outputs": [
        {
          "output_type": "stream",
          "name": "stdout",
          "text": [
            "['__class__', '__delattr__', '__dict__', '__dir__', '__doc__', '__eq__', '__format__', '__ge__', '__getattribute__', '__gt__', '__hash__', '__init__', '__init_subclass__', '__le__', '__lt__', '__module__', '__ne__', '__new__', '__reduce__', '__reduce_ex__', '__repr__', '__setattr__', '__sizeof__', '__str__', '__subclasshook__', '__weakref__', 'prn', 'x']\n"
          ]
        }
      ]
    },
    {
      "cell_type": "code",
      "source": [
        "# k는 A를 인스턴스해서 나온 값이다.(객체 생성)\n",
        "k = A()"
      ],
      "metadata": {
        "id": "WQZphi5vUoMh"
      },
      "execution_count": null,
      "outputs": []
    },
    {
      "cell_type": "code",
      "source": [
        "k()"
      ],
      "metadata": {
        "colab": {
          "base_uri": "https://localhost:8080/",
          "height": 174
        },
        "id": "qZMs1WpbVBMC",
        "outputId": "606e2248-a6d9-4a26-9d6c-d7fa9b43282f"
      },
      "execution_count": null,
      "outputs": [
        {
          "output_type": "error",
          "ename": "TypeError",
          "evalue": "ignored",
          "traceback": [
            "\u001b[0;31m---------------------------------------------------------------------------\u001b[0m",
            "\u001b[0;31mTypeError\u001b[0m                                 Traceback (most recent call last)",
            "\u001b[0;32m<ipython-input-11-6300244b5355>\u001b[0m in \u001b[0;36m<module>\u001b[0;34m\u001b[0m\n\u001b[0;32m----> 1\u001b[0;31m \u001b[0mk\u001b[0m\u001b[0;34m(\u001b[0m\u001b[0;34m)\u001b[0m\u001b[0;34m\u001b[0m\u001b[0;34m\u001b[0m\u001b[0m\n\u001b[0m",
            "\u001b[0;31mTypeError\u001b[0m: 'A' object is not callable"
          ]
        }
      ]
    },
    {
      "cell_type": "code",
      "source": [
        "# 함수 내부의 변수는 밖에서 꺼내올 수 없다.\n",
        "def fn() :\n",
        "  x = 3\n",
        "x"
      ],
      "metadata": {
        "colab": {
          "base_uri": "https://localhost:8080/",
          "height": 211
        },
        "id": "6CIeyKvZVDPh",
        "outputId": "5afee232-42ce-4e21-99af-04625ca73ee0"
      },
      "execution_count": null,
      "outputs": [
        {
          "output_type": "error",
          "ename": "NameError",
          "evalue": "ignored",
          "traceback": [
            "\u001b[0;31m---------------------------------------------------------------------------\u001b[0m",
            "\u001b[0;31mNameError\u001b[0m                                 Traceback (most recent call last)",
            "\u001b[0;32m<ipython-input-12-459a97c28b88>\u001b[0m in \u001b[0;36m<module>\u001b[0;34m\u001b[0m\n\u001b[1;32m      1\u001b[0m \u001b[0;32mdef\u001b[0m \u001b[0mfn\u001b[0m\u001b[0;34m(\u001b[0m\u001b[0;34m)\u001b[0m \u001b[0;34m:\u001b[0m\u001b[0;34m\u001b[0m\u001b[0;34m\u001b[0m\u001b[0m\n\u001b[1;32m      2\u001b[0m   \u001b[0mx\u001b[0m \u001b[0;34m=\u001b[0m \u001b[0;36m3\u001b[0m\u001b[0;34m\u001b[0m\u001b[0;34m\u001b[0m\u001b[0m\n\u001b[0;32m----> 3\u001b[0;31m \u001b[0mx\u001b[0m\u001b[0;34m\u001b[0m\u001b[0;34m\u001b[0m\u001b[0m\n\u001b[0m",
            "\u001b[0;31mNameError\u001b[0m: name 'x' is not defined"
          ]
        }
      ]
    },
    {
      "cell_type": "markdown",
      "source": [
        "클래스는 내부에 있는 값에 접근할 수 있다.\n",
        "2가지 방법으로 접근 가능하다.\n",
        "\n",
        "1. 클래스에서 접근\n",
        "\n",
        "2. 인스턴스에서 접근"
      ],
      "metadata": {
        "id": "R9P-slnyVLI6"
      }
    },
    {
      "cell_type": "code",
      "source": [
        "class A :\n",
        "  x = 1"
      ],
      "metadata": {
        "id": "tLmf314VVWDC"
      },
      "execution_count": null,
      "outputs": []
    },
    {
      "cell_type": "code",
      "source": [
        "# 클래스에서 접근\n",
        "A.x"
      ],
      "metadata": {
        "colab": {
          "base_uri": "https://localhost:8080/"
        },
        "id": "Mnv70jHYVYjU",
        "outputId": "e1c3fe00-c106-477e-cce8-9c37506ec3e4"
      },
      "execution_count": null,
      "outputs": [
        {
          "output_type": "execute_result",
          "data": {
            "text/plain": [
              "1"
            ]
          },
          "metadata": {},
          "execution_count": 14
        }
      ]
    },
    {
      "cell_type": "code",
      "source": [
        "aa = A() # 인스턴스 생성\n",
        "aa.x # 인스턴스에서 접근"
      ],
      "metadata": {
        "colab": {
          "base_uri": "https://localhost:8080/"
        },
        "id": "RDJL8N0dVabc",
        "outputId": "09bc9a85-3161-4031-f6d8-679eab0f1075"
      },
      "execution_count": null,
      "outputs": [
        {
          "output_type": "execute_result",
          "data": {
            "text/plain": [
              "1"
            ]
          },
          "metadata": {},
          "execution_count": 15
        }
      ]
    },
    {
      "cell_type": "code",
      "source": [
        "# python에서 제공하는 내장 클래스(built-in)이다.\n",
        "type(int)"
      ],
      "metadata": {
        "colab": {
          "base_uri": "https://localhost:8080/"
        },
        "id": "_pAygn1uVmOh",
        "outputId": "32ed6b2e-4277-49b7-8bee-9027262c6e8d"
      },
      "execution_count": null,
      "outputs": [
        {
          "output_type": "execute_result",
          "data": {
            "text/plain": [
              "type"
            ]
          },
          "metadata": {},
          "execution_count": 16
        }
      ]
    },
    {
      "cell_type": "code",
      "source": [
        "# 사용자가 정의한 클래스\n",
        "type(A)"
      ],
      "metadata": {
        "colab": {
          "base_uri": "https://localhost:8080/"
        },
        "id": "EmpG7pIpWJ4U",
        "outputId": "dc5874f6-eb95-475f-8bb7-96ff6ee0922b"
      },
      "execution_count": null,
      "outputs": [
        {
          "output_type": "execute_result",
          "data": {
            "text/plain": [
              "type"
            ]
          },
          "metadata": {},
          "execution_count": 17
        }
      ]
    },
    {
      "cell_type": "code",
      "source": [
        "# 함수\n",
        "type(fn)"
      ],
      "metadata": {
        "colab": {
          "base_uri": "https://localhost:8080/"
        },
        "id": "sq2PGfrVWM-U",
        "outputId": "9165683b-78cf-4d16-e4c0-bc5b7c85d082"
      },
      "execution_count": null,
      "outputs": [
        {
          "output_type": "execute_result",
          "data": {
            "text/plain": [
              "function"
            ]
          },
          "metadata": {},
          "execution_count": 18
        }
      ]
    },
    {
      "cell_type": "code",
      "source": [
        "type(aa)"
      ],
      "metadata": {
        "colab": {
          "base_uri": "https://localhost:8080/"
        },
        "id": "YIZ95gwoWP3B",
        "outputId": "6ad71271-1ceb-459b-9cf6-6c8f346431d2"
      },
      "execution_count": null,
      "outputs": [
        {
          "output_type": "execute_result",
          "data": {
            "text/plain": [
              "__main__.A"
            ]
          },
          "metadata": {},
          "execution_count": 19
        }
      ]
    },
    {
      "cell_type": "code",
      "source": [
        "class Employee :\n",
        "  x = 1\n",
        "  def display(self, y) :\n",
        "    self.y = y\n",
        "    print(y)"
      ],
      "metadata": {
        "id": "On2nWrXOWR1M"
      },
      "execution_count": null,
      "outputs": []
    },
    {
      "cell_type": "code",
      "source": [
        "ps = Employee() # 인스턴스 생성"
      ],
      "metadata": {
        "id": "0iXMsvREWWq5"
      },
      "execution_count": null,
      "outputs": []
    },
    {
      "cell_type": "code",
      "source": [
        "ps.x"
      ],
      "metadata": {
        "colab": {
          "base_uri": "https://localhost:8080/"
        },
        "id": "I80ytenLWbAk",
        "outputId": "542cc9f2-64b5-4d83-d1e1-9aa6b9e5ad7d"
      },
      "execution_count": null,
      "outputs": [
        {
          "output_type": "execute_result",
          "data": {
            "text/plain": [
              "1"
            ]
          },
          "metadata": {},
          "execution_count": 24
        }
      ]
    },
    {
      "cell_type": "code",
      "source": [
        "ps.y"
      ],
      "metadata": {
        "colab": {
          "base_uri": "https://localhost:8080/",
          "height": 174
        },
        "id": "sFkZdtOzWcQ9",
        "outputId": "272def63-d99b-46e4-98c4-dfaf71db3e2a"
      },
      "execution_count": null,
      "outputs": [
        {
          "output_type": "error",
          "ename": "AttributeError",
          "evalue": "ignored",
          "traceback": [
            "\u001b[0;31m---------------------------------------------------------------------------\u001b[0m",
            "\u001b[0;31mAttributeError\u001b[0m                            Traceback (most recent call last)",
            "\u001b[0;32m<ipython-input-25-162d0cfa0d0b>\u001b[0m in \u001b[0;36m<module>\u001b[0;34m\u001b[0m\n\u001b[0;32m----> 1\u001b[0;31m \u001b[0mps\u001b[0m\u001b[0;34m.\u001b[0m\u001b[0my\u001b[0m\u001b[0;34m\u001b[0m\u001b[0;34m\u001b[0m\u001b[0m\n\u001b[0m",
            "\u001b[0;31mAttributeError\u001b[0m: 'Employee' object has no attribute 'y'"
          ]
        }
      ]
    },
    {
      "cell_type": "code",
      "source": [
        "ps.display(3)"
      ],
      "metadata": {
        "colab": {
          "base_uri": "https://localhost:8080/"
        },
        "id": "wowuGQ_HWdPs",
        "outputId": "8e771df3-cbc5-4f96-8677-11d4062e8704"
      },
      "execution_count": null,
      "outputs": [
        {
          "output_type": "stream",
          "name": "stdout",
          "text": [
            "3\n"
          ]
        }
      ]
    },
    {
      "cell_type": "code",
      "source": [
        "ps.y"
      ],
      "metadata": {
        "colab": {
          "base_uri": "https://localhost:8080/"
        },
        "id": "BmHleJlyWfHB",
        "outputId": "4022062f-7515-4840-9392-399559e152a0"
      },
      "execution_count": null,
      "outputs": [
        {
          "output_type": "execute_result",
          "data": {
            "text/plain": [
              "3"
            ]
          },
          "metadata": {},
          "execution_count": 27
        }
      ]
    },
    {
      "cell_type": "code",
      "source": [
        "Employee.y"
      ],
      "metadata": {
        "colab": {
          "base_uri": "https://localhost:8080/",
          "height": 174
        },
        "id": "fxzRkU1VWhMl",
        "outputId": "8df3be95-a734-490b-b806-7608454ada54"
      },
      "execution_count": null,
      "outputs": [
        {
          "output_type": "error",
          "ename": "AttributeError",
          "evalue": "ignored",
          "traceback": [
            "\u001b[0;31m---------------------------------------------------------------------------\u001b[0m",
            "\u001b[0;31mAttributeError\u001b[0m                            Traceback (most recent call last)",
            "\u001b[0;32m<ipython-input-28-3977b950e3a4>\u001b[0m in \u001b[0;36m<module>\u001b[0;34m\u001b[0m\n\u001b[0;32m----> 1\u001b[0;31m \u001b[0mEmployee\u001b[0m\u001b[0;34m.\u001b[0m\u001b[0my\u001b[0m\u001b[0;34m\u001b[0m\u001b[0;34m\u001b[0m\u001b[0m\n\u001b[0m",
            "\u001b[0;31mAttributeError\u001b[0m: type object 'Employee' has no attribute 'y'"
          ]
        }
      ]
    },
    {
      "cell_type": "code",
      "source": [
        "ps2 = Employee()"
      ],
      "metadata": {
        "id": "G7xB5SpsWivB"
      },
      "execution_count": null,
      "outputs": []
    },
    {
      "cell_type": "code",
      "source": [
        "ps2.x"
      ],
      "metadata": {
        "colab": {
          "base_uri": "https://localhost:8080/"
        },
        "id": "RDH443QaWlI7",
        "outputId": "b84fc4a8-209b-4da0-ee13-398aaa9e29c4"
      },
      "execution_count": null,
      "outputs": [
        {
          "output_type": "execute_result",
          "data": {
            "text/plain": [
              "1"
            ]
          },
          "metadata": {},
          "execution_count": 30
        }
      ]
    },
    {
      "cell_type": "code",
      "source": [
        "Employee.y = 10"
      ],
      "metadata": {
        "id": "uOYWT_d0WmbS"
      },
      "execution_count": null,
      "outputs": []
    },
    {
      "cell_type": "code",
      "source": [
        "Employee.y"
      ],
      "metadata": {
        "colab": {
          "base_uri": "https://localhost:8080/"
        },
        "id": "p2_OFFi0Wn5b",
        "outputId": "cbad7755-5415-4b16-b416-27cb6cb2f562"
      },
      "execution_count": null,
      "outputs": [
        {
          "output_type": "execute_result",
          "data": {
            "text/plain": [
              "10"
            ]
          },
          "metadata": {},
          "execution_count": 33
        }
      ]
    },
    {
      "cell_type": "code",
      "source": [
        "ps2.display(5)"
      ],
      "metadata": {
        "colab": {
          "base_uri": "https://localhost:8080/"
        },
        "id": "RJV3K0vGWqmz",
        "outputId": "26774910-4c58-4a97-c1ea-8dc696ca89f9"
      },
      "execution_count": null,
      "outputs": [
        {
          "output_type": "stream",
          "name": "stdout",
          "text": [
            "5\n"
          ]
        }
      ]
    },
    {
      "cell_type": "code",
      "source": [
        "ps2.y"
      ],
      "metadata": {
        "colab": {
          "base_uri": "https://localhost:8080/"
        },
        "id": "--WyVCw9Wsh8",
        "outputId": "e6e607f4-10e2-4e78-8603-848f1cc58a03"
      },
      "execution_count": null,
      "outputs": [
        {
          "output_type": "execute_result",
          "data": {
            "text/plain": [
              "5"
            ]
          },
          "metadata": {},
          "execution_count": 35
        }
      ]
    },
    {
      "cell_type": "code",
      "source": [
        "Employee.y"
      ],
      "metadata": {
        "colab": {
          "base_uri": "https://localhost:8080/"
        },
        "id": "USLMSpPPWtwb",
        "outputId": "4126e1ad-7159-4722-f1f7-e8ae685457af"
      },
      "execution_count": null,
      "outputs": [
        {
          "output_type": "execute_result",
          "data": {
            "text/plain": [
              "10"
            ]
          },
          "metadata": {},
          "execution_count": 36
        }
      ]
    },
    {
      "cell_type": "code",
      "source": [
        "class Department :\n",
        "  x = 3 # 클래스 변수\n",
        "  def display(self, y) : #메소드\n",
        "    self.y = y # 인스턴스 변수\n",
        "    print(y)\n",
        "\n",
        "pd = Department()\n",
        "print(pd.x) # 3\n",
        "print(Department.x) # 3\n",
        "# print(Department.y)\n",
        "pd.display(5) # 5\n",
        "# print(Department.y)\n",
        "\n",
        "ps = Department()\n",
        "print(ps.x) # 3\n",
        "ps.x = 10\n",
        "print(ps.x) # 10\n",
        "print(pd.x) # 3\n",
        "print(Department.x) # 3\n",
        "Department.x = 500\n",
        "print(Department.x) # 500\n",
        "print(pd.x) # 500\n",
        "print(ps.x) # 10\n",
        "\n",
        "Department.y = 900\n",
        "print(Department.y) # 900\n",
        "print(pd.y) # 5\n",
        "print(ps.y) # 900\n",
        "pd.display(400)\n",
        "print(pd.y) # 400\n",
        "print(ps.y) # 900"
      ],
      "metadata": {
        "colab": {
          "base_uri": "https://localhost:8080/"
        },
        "id": "PLVsZGovWxPo",
        "outputId": "42485c59-8cd9-4722-f852-35b157180afe"
      },
      "execution_count": null,
      "outputs": [
        {
          "output_type": "stream",
          "name": "stdout",
          "text": [
            "3\n",
            "3\n",
            "5\n",
            "3\n",
            "10\n",
            "3\n",
            "3\n",
            "500\n",
            "500\n",
            "10\n",
            "900\n",
            "5\n",
            "900\n",
            "400\n",
            "400\n",
            "900\n"
          ]
        }
      ]
    },
    {
      "cell_type": "code",
      "source": [
        "# python 함수와 메소드 구분이 모호하다.\n",
        "# shift + tab : builtin_function_or_method\n",
        "sum"
      ],
      "metadata": {
        "colab": {
          "base_uri": "https://localhost:8080/"
        },
        "id": "vweGTITXX280",
        "outputId": "e3201500-4d16-455d-f51f-52dfd003dcc5"
      },
      "execution_count": null,
      "outputs": [
        {
          "output_type": "execute_result",
          "data": {
            "text/plain": [
              "<function sum(iterable, /, start=0)>"
            ]
          },
          "metadata": {},
          "execution_count": 58
        }
      ]
    },
    {
      "cell_type": "markdown",
      "source": [
        "instance에서는 class attribute에 접근 가능하다.  \n",
        "class에서는 instance attribute에 접근할 수 없다."
      ],
      "metadata": {
        "id": "SUVWddrkYCzy"
      }
    },
    {
      "cell_type": "code",
      "source": [
        "class Manager :\n",
        "  x = 3\n",
        "\n",
        "a = Manager()\n",
        "a.red = '레드'\n",
        "\n",
        "print(a.x)\n",
        "print(a.red)\n",
        "print(Manager.red)"
      ],
      "metadata": {
        "colab": {
          "base_uri": "https://localhost:8080/",
          "height": 248
        },
        "id": "-Z2_rYIHYI1S",
        "outputId": "ac8f70b8-4abc-42f3-aa85-adbf25b20e00"
      },
      "execution_count": null,
      "outputs": [
        {
          "output_type": "stream",
          "name": "stdout",
          "text": [
            "3\n",
            "레드\n"
          ]
        },
        {
          "output_type": "error",
          "ename": "AttributeError",
          "evalue": "ignored",
          "traceback": [
            "\u001b[0;31m---------------------------------------------------------------------------\u001b[0m",
            "\u001b[0;31mAttributeError\u001b[0m                            Traceback (most recent call last)",
            "\u001b[0;32m<ipython-input-61-4dc66d75a4c9>\u001b[0m in \u001b[0;36m<module>\u001b[0;34m\u001b[0m\n\u001b[1;32m      7\u001b[0m \u001b[0mprint\u001b[0m\u001b[0;34m(\u001b[0m\u001b[0ma\u001b[0m\u001b[0;34m.\u001b[0m\u001b[0mx\u001b[0m\u001b[0;34m)\u001b[0m\u001b[0;34m\u001b[0m\u001b[0;34m\u001b[0m\u001b[0m\n\u001b[1;32m      8\u001b[0m \u001b[0mprint\u001b[0m\u001b[0;34m(\u001b[0m\u001b[0ma\u001b[0m\u001b[0;34m.\u001b[0m\u001b[0mred\u001b[0m\u001b[0;34m)\u001b[0m\u001b[0;34m\u001b[0m\u001b[0;34m\u001b[0m\u001b[0m\n\u001b[0;32m----> 9\u001b[0;31m \u001b[0mprint\u001b[0m\u001b[0;34m(\u001b[0m\u001b[0mManager\u001b[0m\u001b[0;34m.\u001b[0m\u001b[0mred\u001b[0m\u001b[0;34m)\u001b[0m\u001b[0;34m\u001b[0m\u001b[0;34m\u001b[0m\u001b[0m\n\u001b[0m",
            "\u001b[0;31mAttributeError\u001b[0m: type object 'Manager' has no attribute 'red'"
          ]
        }
      ]
    },
    {
      "cell_type": "code",
      "source": [
        "class A :\n",
        "  a = 1\n",
        "  def display(self, k) :\n",
        "    self.k = k\n",
        "\n",
        "# 인스턴스 메소드에서 첫번째 인자는 무조건 생략할 수 없다. (self를 넣어주어야 한다.)\n",
        "# a라는 변수에 값이 인스턴스에서 주어지지 않는다면 클래스의 변수를 갖고온다.\n",
        "  def prn(self) :\n",
        "    print(self.a)\n",
        "\n",
        "print(A.a)\n",
        "x = A()\n",
        "x.display(5) # self = this와 같은 의미이다.\n",
        "print(x.k)\n",
        "x.prn()"
      ],
      "metadata": {
        "colab": {
          "base_uri": "https://localhost:8080/"
        },
        "id": "Rcnr7qzbYT_8",
        "outputId": "fcd02996-a394-4237-e69f-2525c610f8cb"
      },
      "execution_count": null,
      "outputs": [
        {
          "output_type": "stream",
          "name": "stdout",
          "text": [
            "1\n",
            "5\n",
            "1\n"
          ]
        }
      ]
    },
    {
      "cell_type": "code",
      "source": [
        "A.display(x, 7)\n",
        "x.k"
      ],
      "metadata": {
        "colab": {
          "base_uri": "https://localhost:8080/"
        },
        "id": "wADq6RTMYtLc",
        "outputId": "4259e684-91f7-4fcd-af82-2c323cc6cc5f"
      },
      "execution_count": null,
      "outputs": [
        {
          "output_type": "execute_result",
          "data": {
            "text/plain": [
              "7"
            ]
          },
          "metadata": {},
          "execution_count": 72
        }
      ]
    },
    {
      "cell_type": "code",
      "source": [
        "A.prn(x)\n",
        "x.prn()"
      ],
      "metadata": {
        "colab": {
          "base_uri": "https://localhost:8080/"
        },
        "id": "8s0clXToY8xb",
        "outputId": "cae9ed03-ed56-4d01-e440-0c5932a3cbcb"
      },
      "execution_count": null,
      "outputs": [
        {
          "output_type": "stream",
          "name": "stdout",
          "text": [
            "1\n",
            "1\n"
          ]
        }
      ]
    }
  ]
}