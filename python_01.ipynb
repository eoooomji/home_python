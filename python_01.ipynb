{
  "nbformat": 4,
  "nbformat_minor": 0,
  "metadata": {
    "colab": {
      "provenance": [],
      "authorship_tag": "ABX9TyNEZF3aYOb2Fr/l0l67hCF4",
      "include_colab_link": true
    },
    "kernelspec": {
      "name": "python3",
      "display_name": "Python 3"
    },
    "language_info": {
      "name": "python"
    }
  },
  "cells": [
    {
      "cell_type": "markdown",
      "metadata": {
        "id": "view-in-github",
        "colab_type": "text"
      },
      "source": [
        "<a href=\"https://colab.research.google.com/github/eoooomji/home_python/blob/master/python_01.ipynb\" target=\"_parent\"><img src=\"https://colab.research.google.com/assets/colab-badge.svg\" alt=\"Open In Colab\"/></a>"
      ]
    },
    {
      "cell_type": "code",
      "execution_count": null,
      "metadata": {
        "colab": {
          "base_uri": "https://localhost:8080/"
        },
        "id": "vWEOkYXMDqYG",
        "outputId": "67bd0c47-8238-49d5-951f-a05ee33ef412"
      },
      "outputs": [
        {
          "output_type": "stream",
          "name": "stdout",
          "text": [
            "The Zen of Python, by Tim Peters\n",
            "\n",
            "Beautiful is better than ugly.\n",
            "Explicit is better than implicit.\n",
            "Simple is better than complex.\n",
            "Complex is better than complicated.\n",
            "Flat is better than nested.\n",
            "Sparse is better than dense.\n",
            "Readability counts.\n",
            "Special cases aren't special enough to break the rules.\n",
            "Although practicality beats purity.\n",
            "Errors should never pass silently.\n",
            "Unless explicitly silenced.\n",
            "In the face of ambiguity, refuse the temptation to guess.\n",
            "There should be one-- and preferably only one --obvious way to do it.\n",
            "Although that way may not be obvious at first unless you're Dutch.\n",
            "Now is better than never.\n",
            "Although never is often better than *right* now.\n",
            "If the implementation is hard to explain, it's a bad idea.\n",
            "If the implementation is easy to explain, it may be a good idea.\n",
            "Namespaces are one honking great idea -- let's do more of those!\n"
          ]
        }
      ],
      "source": [
        "import this"
      ]
    },
    {
      "cell_type": "code",
      "source": [
        "print(\"Hello World\")\n",
        "print('Hello World')\n",
        "print('Hello'); print('World')"
      ],
      "metadata": {
        "colab": {
          "base_uri": "https://localhost:8080/"
        },
        "id": "eMwJMFu-EDKF",
        "outputId": "2bd4f51f-8c49-4e6b-8f8c-0b92366dc50d"
      },
      "execution_count": null,
      "outputs": [
        {
          "output_type": "stream",
          "name": "stdout",
          "text": [
            "Hello World\n",
            "Hello World\n",
            "Hello\n",
            "World\n"
          ]
        }
      ]
    },
    {
      "cell_type": "code",
      "source": [
        "a=10; b=20\n",
        "if(a==10 ) and \\\n",
        " (b==20):\n",
        "    print(\"OK\")"
      ],
      "metadata": {
        "colab": {
          "base_uri": "https://localhost:8080/"
        },
        "id": "PysciObEEHtd",
        "outputId": "b3b82c88-11c6-4606-9ed8-ef7f1fbbd968"
      },
      "execution_count": null,
      "outputs": [
        {
          "output_type": "stream",
          "name": "stdout",
          "text": [
            "OK\n"
          ]
        }
      ]
    },
    {
      "cell_type": "code",
      "source": [
        "pen=ko=100\n",
        "print(pen)\n",
        "print(ko)"
      ],
      "metadata": {
        "colab": {
          "base_uri": "https://localhost:8080/"
        },
        "id": "GUGSaHzBFtN1",
        "outputId": "8f26e91b-353f-4f4a-de46-42379f643385"
      },
      "execution_count": null,
      "outputs": [
        {
          "output_type": "stream",
          "name": "stdout",
          "text": [
            "100\n",
            "100\n"
          ]
        }
      ]
    },
    {
      "cell_type": "code",
      "source": [
        "language='korea'\n",
        "body='tag'\n",
        "print(language)\n",
        "print(body)"
      ],
      "metadata": {
        "colab": {
          "base_uri": "https://localhost:8080/"
        },
        "id": "oSgcZueWFw01",
        "outputId": "897c5dad-f5d0-43c1-e760-ad806a055ea5"
      },
      "execution_count": null,
      "outputs": [
        {
          "output_type": "stream",
          "name": "stdout",
          "text": [
            "korea\n",
            "tag\n"
          ]
        }
      ]
    },
    {
      "cell_type": "code",
      "source": [
        "a=1\n",
        "a=eval('a+4')\n",
        "print(a)"
      ],
      "metadata": {
        "colab": {
          "base_uri": "https://localhost:8080/"
        },
        "id": "tTeocFbLGCN9",
        "outputId": "9ff21e24-2cf6-4416-cbf7-34405e8cab48"
      },
      "execution_count": null,
      "outputs": [
        {
          "output_type": "stream",
          "name": "stdout",
          "text": [
            "5\n"
          ]
        }
      ]
    },
    {
      "cell_type": "code",
      "source": [
        "print(type(5))\n",
        "print(type(20.3))\n",
        "print(type([1,5,8]))\n",
        "print(type((2,6,7)))"
      ],
      "metadata": {
        "colab": {
          "base_uri": "https://localhost:8080/"
        },
        "id": "I1LKxJiiGGHc",
        "outputId": "0b33959b-f196-458c-92dd-439c4ab70d74"
      },
      "execution_count": null,
      "outputs": [
        {
          "output_type": "stream",
          "name": "stdout",
          "text": [
            "<class 'int'>\n",
            "<class 'float'>\n",
            "<class 'list'>\n",
            "<class 'tuple'>\n"
          ]
        }
      ]
    },
    {
      "cell_type": "code",
      "source": [
        "data=1+2j\n",
        "print(data.real)\n",
        "print(data.imag)"
      ],
      "metadata": {
        "colab": {
          "base_uri": "https://localhost:8080/"
        },
        "id": "PXCT07jRGSAb",
        "outputId": "4b6dbd24-498b-4bf1-8299-ad4dc89da7cc"
      },
      "execution_count": null,
      "outputs": [
        {
          "output_type": "stream",
          "name": "stdout",
          "text": [
            "1.0\n",
            "2.0\n"
          ]
        }
      ]
    },
    {
      "cell_type": "code",
      "source": [
        "import sys\n",
        "sys.maxsize"
      ],
      "metadata": {
        "colab": {
          "base_uri": "https://localhost:8080/"
        },
        "id": "VAeJ57lmVCPE",
        "outputId": "2e03f511-2496-4954-d5db-8c0968d0715f"
      },
      "execution_count": null,
      "outputs": [
        {
          "output_type": "execute_result",
          "data": {
            "text/plain": [
              "9223372036854775807"
            ]
          },
          "metadata": {},
          "execution_count": 13
        }
      ]
    },
    {
      "cell_type": "code",
      "source": [
        "9223372036854775807 + 1\n",
        "# 최대값의 정수에 1을 더해주게 되면 최대치를 넘게된다. 하지만 파이썬은 내부적으로 자동 확장을해주므로 오버플로우에러가 없다.\n",
        "# 단, 실행속도가 느려질 수 있다. "
      ],
      "metadata": {
        "colab": {
          "base_uri": "https://localhost:8080/"
        },
        "id": "bfGfoVvNVGw7",
        "outputId": "d47cdff0-50ad-4a5d-dffd-23569fc30a33"
      },
      "execution_count": null,
      "outputs": [
        {
          "output_type": "execute_result",
          "data": {
            "text/plain": [
              "9223372036854775808"
            ]
          },
          "metadata": {},
          "execution_count": 14
        }
      ]
    },
    {
      "cell_type": "markdown",
      "source": [
        "### String"
      ],
      "metadata": {
        "id": "hMME4UeCXhte"
      }
    },
    {
      "cell_type": "code",
      "source": [
        "# sequence\n",
        "# 문자열 슬라이싱\n",
        "s_val='Hello python!'\n",
        "print(s_val)\n",
        "s_val[0:3:1]\n",
        "s_val[1]\n",
        "s_val[1:]\n",
        "s_val[:3]\n",
        "s_val[:]\n",
        "s_val[-1]\n",
        "s_val[-5]\n",
        "s_val[::2] # 2단계씩 스텝을 넘어간다는 뜻으로 해석\n",
        "s_val[::-2]\n",
        "s_val[::-1]"
      ],
      "metadata": {
        "colab": {
          "base_uri": "https://localhost:8080/",
          "height": 54
        },
        "id": "2_c6o6ndVRpb",
        "outputId": "b5846aad-b657-4d93-8fbf-f541b2c761aa"
      },
      "execution_count": null,
      "outputs": [
        {
          "output_type": "stream",
          "name": "stdout",
          "text": [
            "Hello python!\n"
          ]
        },
        {
          "output_type": "execute_result",
          "data": {
            "text/plain": [
              "'!nohtyp olleH'"
            ],
            "application/vnd.google.colaboratory.intrinsic+json": {
              "type": "string"
            }
          },
          "metadata": {},
          "execution_count": 25
        }
      ]
    },
    {
      "cell_type": "code",
      "source": [
        "s_val='hello' + ' ' + 'python'\n",
        "s_val"
      ],
      "metadata": {
        "colab": {
          "base_uri": "https://localhost:8080/",
          "height": 35
        },
        "id": "xgmPDCezb4nq",
        "outputId": "c62a5190-bf78-4d59-f9c5-0178bbf13c10"
      },
      "execution_count": null,
      "outputs": [
        {
          "output_type": "execute_result",
          "data": {
            "text/plain": [
              "'hello python'"
            ],
            "application/vnd.google.colaboratory.intrinsic+json": {
              "type": "string"
            }
          },
          "metadata": {},
          "execution_count": 33
        }
      ]
    },
    {
      "cell_type": "code",
      "source": [
        "s_val='win' * 3\n",
        "s_val"
      ],
      "metadata": {
        "colab": {
          "base_uri": "https://localhost:8080/",
          "height": 35
        },
        "id": "jUQcu0iTcClU",
        "outputId": "dfeb4a63-b428-479b-93b1-8663ab0feca9"
      },
      "execution_count": null,
      "outputs": [
        {
          "output_type": "execute_result",
          "data": {
            "text/plain": [
              "'winwinwin'"
            ],
            "application/vnd.google.colaboratory.intrinsic+json": {
              "type": "string"
            }
          },
          "metadata": {},
          "execution_count": 34
        }
      ]
    },
    {
      "cell_type": "code",
      "source": [
        "s_val='hello python!'\n",
        "s_val1='H' + s_val[1:]\n",
        "s_val1\n",
        "len(s_val1)"
      ],
      "metadata": {
        "colab": {
          "base_uri": "https://localhost:8080/"
        },
        "id": "myFt1HE5cS_m",
        "outputId": "faf4ba2b-aba7-49fa-ed30-2edf43a556cc"
      },
      "execution_count": null,
      "outputs": [
        {
          "output_type": "execute_result",
          "data": {
            "text/plain": [
              "13"
            ]
          },
          "metadata": {},
          "execution_count": 37
        }
      ]
    },
    {
      "cell_type": "code",
      "source": [
        "# 'python'가 문자열 s_val1안에 있는가?\n",
        "print('python' in s_val1)\n",
        "# 'python'가 문자열 s_val1안에 없는가?\n",
        "print('python' not in s_val1)"
      ],
      "metadata": {
        "colab": {
          "base_uri": "https://localhost:8080/"
        },
        "id": "5TRSj2LvcceD",
        "outputId": "8c4a9712-6b00-42cf-8bcc-3c7021dbe583"
      },
      "execution_count": null,
      "outputs": [
        {
          "output_type": "stream",
          "name": "stdout",
          "text": [
            "True\n",
            "False\n"
          ]
        }
      ]
    },
    {
      "cell_type": "code",
      "source": [
        "# 여러 줄 문자열은 작은 따옴표나 큰 따옴표를 세번 연속해서 입력한다.\n",
        "s_val=\"\"\"돈이 다 무슨소용인가? 사람이\n",
        "아침에 일어나고 밤에\n",
        "잠자리에 들며 그 사이에\n",
        "하고싶은 일을 한다면 그 사람은 성\n",
        "공한 것이다.\"\"\"\n",
        "print(s_val)"
      ],
      "metadata": {
        "colab": {
          "base_uri": "https://localhost:8080/"
        },
        "id": "9VU_HeepcoOA",
        "outputId": "b731c0e9-26c5-4483-ea2a-c0aed0810cb0"
      },
      "execution_count": null,
      "outputs": [
        {
          "output_type": "stream",
          "name": "stdout",
          "text": [
            "돈이 다 무슨소용인가? 사람이\n",
            "아침에 일어나고 밤에\n",
            "잠자리에 들며 그 사이에\n",
            "하고싶은 일을 한다면 그 사람은 성\n",
            "공한 것이다.\n"
          ]
        }
      ]
    },
    {
      "cell_type": "code",
      "source": [
        "# 사용자로부터 데이터를 받아올 수 있다.\n",
        "input('3+2?')"
      ],
      "metadata": {
        "colab": {
          "base_uri": "https://localhost:8080/",
          "height": 54
        },
        "id": "ADJQkWEBc1Sk",
        "outputId": "5f93feb0-09a3-4a65-ee00-13160ad1c56a"
      },
      "execution_count": null,
      "outputs": [
        {
          "name": "stdout",
          "output_type": "stream",
          "text": [
            "3+2?5\n"
          ]
        },
        {
          "output_type": "execute_result",
          "data": {
            "text/plain": [
              "'5'"
            ],
            "application/vnd.google.colaboratory.intrinsic+json": {
              "type": "string"
            }
          },
          "metadata": {},
          "execution_count": 42
        }
      ]
    },
    {
      "cell_type": "code",
      "source": [],
      "metadata": {
        "id": "68va-oiiU82h"
      },
      "execution_count": null,
      "outputs": []
    },
    {
      "cell_type": "code",
      "source": [
        "a=input('첫번째 정수 입력 : ')"
      ],
      "metadata": {
        "colab": {
          "base_uri": "https://localhost:8080/"
        },
        "id": "ZkEbqhO3c9Cr",
        "outputId": "0e181e96-fa40-43a4-e8f1-78eeac128b65"
      },
      "execution_count": null,
      "outputs": [
        {
          "name": "stdout",
          "output_type": "stream",
          "text": [
            "첫번째 정수 입력 : 10\n"
          ]
        }
      ]
    },
    {
      "cell_type": "code",
      "source": [
        "print(type(a))\n",
        "print(int(a))"
      ],
      "metadata": {
        "colab": {
          "base_uri": "https://localhost:8080/"
        },
        "id": "tppoJdTddBfk",
        "outputId": "2421a739-5c00-42fd-fa1b-8459a3ac729f"
      },
      "execution_count": null,
      "outputs": [
        {
          "output_type": "stream",
          "name": "stdout",
          "text": [
            "<class 'str'>\n",
            "10\n"
          ]
        }
      ]
    },
    {
      "cell_type": "code",
      "source": [
        "b=input('두번째 정수 입력 : ')"
      ],
      "metadata": {
        "colab": {
          "base_uri": "https://localhost:8080/"
        },
        "id": "zniHUC9NdIOk",
        "outputId": "e388a74c-8485-499d-d67f-b38a14558076"
      },
      "execution_count": null,
      "outputs": [
        {
          "name": "stdout",
          "output_type": "stream",
          "text": [
            "두번째 정수 입력 : 6\n"
          ]
        }
      ]
    },
    {
      "cell_type": "code",
      "source": [
        "print(type(b))\n",
        "print(int(b))"
      ],
      "metadata": {
        "colab": {
          "base_uri": "https://localhost:8080/"
        },
        "id": "F3DqmeSDdLJs",
        "outputId": "ce1b2de4-d16d-4334-d52c-4b47bf11b05a"
      },
      "execution_count": null,
      "outputs": [
        {
          "output_type": "stream",
          "name": "stdout",
          "text": [
            "<class 'str'>\n",
            "6\n"
          ]
        }
      ]
    },
    {
      "cell_type": "code",
      "source": [
        "c=int(a)+int(b)\n",
        "print(c)"
      ],
      "metadata": {
        "colab": {
          "base_uri": "https://localhost:8080/"
        },
        "id": "ZnQuGE1qdOnD",
        "outputId": "5ccafbdb-8ebd-43ac-b427-9439a5800212"
      },
      "execution_count": null,
      "outputs": [
        {
          "output_type": "stream",
          "name": "stdout",
          "text": [
            "16\n"
          ]
        }
      ]
    },
    {
      "cell_type": "code",
      "source": [
        "s_val='python'\n",
        "s_val1=83.5\n",
        "print('%s의 점수는 %.2f입니다.' %(s_val, s_val1))"
      ],
      "metadata": {
        "colab": {
          "base_uri": "https://localhost:8080/"
        },
        "id": "tZ5tthwbdRPp",
        "outputId": "2d534593-c469-41ef-b147-26e99ad90884"
      },
      "execution_count": null,
      "outputs": [
        {
          "output_type": "stream",
          "name": "stdout",
          "text": [
            "python의 점수는 83.50입니다.\n"
          ]
        }
      ]
    },
    {
      "cell_type": "code",
      "source": [
        "print('Hello,{0} {2} {1}'.format('Python', 'Script', 3.6)) #'(인덱스)'.format(값)\n",
        "print('Hello,{} {}'.format('Python', 3.6)) # 인덱스를 생략하면 format에 지정한 순서대로 값을 리턴\n",
        "print('Hello, {language} {version}'.format(language='Python', version=3.6)) # 인덱스 대신 이름으로 정하기"
      ],
      "metadata": {
        "colab": {
          "base_uri": "https://localhost:8080/"
        },
        "id": "4fMEAjCOdbt8",
        "outputId": "c05238ac-89db-4490-9b39-d83397f463ec"
      },
      "execution_count": null,
      "outputs": [
        {
          "output_type": "stream",
          "name": "stdout",
          "text": [
            "Hello,Python 3.6 Script\n",
            "Hello,Python 3.6\n",
            "Hello, Python 3.6\n"
          ]
        }
      ]
    },
    {
      "cell_type": "code",
      "source": [
        "hp1='010'\n",
        "hp2='2313'\n",
        "hp3='5548'\n",
        "print(hp1, hp2, hp3, sep='-')"
      ],
      "metadata": {
        "colab": {
          "base_uri": "https://localhost:8080/"
        },
        "id": "wMdaS3wrd-D8",
        "outputId": "ee0d5d1f-3ba9-4ee5-a251-d1b52942cf71"
      },
      "execution_count": null,
      "outputs": [
        {
          "output_type": "stream",
          "name": "stdout",
          "text": [
            "010-2313-5548\n"
          ]
        }
      ]
    },
    {
      "cell_type": "code",
      "source": [
        "print('korea'.lower())\n",
        "print('korea'.upper())\n",
        "print('korea'.swapcase())\n",
        "print('KOREA'.swapcase())\n",
        "print('we are the world'.title())\n",
        "print('we are the world'.capitalize())"
      ],
      "metadata": {
        "colab": {
          "base_uri": "https://localhost:8080/"
        },
        "id": "Og9_6KpxeFyi",
        "outputId": "514ddf4d-4657-4b82-83ee-880b54107b2b"
      },
      "execution_count": null,
      "outputs": [
        {
          "output_type": "stream",
          "name": "stdout",
          "text": [
            "korea\n",
            "KOREA\n",
            "KOREA\n",
            "korea\n",
            "We Are The World\n",
            "We are the world\n"
          ]
        }
      ]
    },
    {
      "cell_type": "code",
      "source": [
        "print('KORea'.islower())\n",
        "print('korea'.islower())\n",
        "print('KORea'.isupper())\n",
        "print('KOREA'.isupper())"
      ],
      "metadata": {
        "colab": {
          "base_uri": "https://localhost:8080/"
        },
        "id": "pF-bGDOyeXji",
        "outputId": "1a024c3f-011c-4645-fe52-9465cb99c050"
      },
      "execution_count": null,
      "outputs": [
        {
          "output_type": "stream",
          "name": "stdout",
          "text": [
            "False\n",
            "True\n",
            "False\n",
            "True\n"
          ]
        }
      ]
    },
    {
      "cell_type": "code",
      "source": [
        "print('we are the world'.find('are'))\n",
        "print('we are the world'.find('WORLD'))\n",
        "print('we are the world'.index('the'))\n",
        "print('we are the world'.index('WORLD'))"
      ],
      "metadata": {
        "colab": {
          "base_uri": "https://localhost:8080/",
          "height": 266
        },
        "id": "P6-S2D5OegeL",
        "outputId": "34e254d1-1116-4b7b-b804-3cb40f8e1920"
      },
      "execution_count": null,
      "outputs": [
        {
          "output_type": "stream",
          "name": "stdout",
          "text": [
            "3\n",
            "-1\n",
            "7\n"
          ]
        },
        {
          "output_type": "error",
          "ename": "ValueError",
          "evalue": "ignored",
          "traceback": [
            "\u001b[0;31m---------------------------------------------------------------------------\u001b[0m",
            "\u001b[0;31mValueError\u001b[0m                                Traceback (most recent call last)",
            "\u001b[0;32m<ipython-input-58-98d18c3395f2>\u001b[0m in \u001b[0;36m<module>\u001b[0;34m\u001b[0m\n\u001b[1;32m      2\u001b[0m \u001b[0mprint\u001b[0m\u001b[0;34m(\u001b[0m\u001b[0;34m'we are the world'\u001b[0m\u001b[0;34m.\u001b[0m\u001b[0mfind\u001b[0m\u001b[0;34m(\u001b[0m\u001b[0;34m'WORLD'\u001b[0m\u001b[0;34m)\u001b[0m\u001b[0;34m)\u001b[0m\u001b[0;34m\u001b[0m\u001b[0;34m\u001b[0m\u001b[0m\n\u001b[1;32m      3\u001b[0m \u001b[0mprint\u001b[0m\u001b[0;34m(\u001b[0m\u001b[0;34m'we are the world'\u001b[0m\u001b[0;34m.\u001b[0m\u001b[0mindex\u001b[0m\u001b[0;34m(\u001b[0m\u001b[0;34m'the'\u001b[0m\u001b[0;34m)\u001b[0m\u001b[0;34m)\u001b[0m\u001b[0;34m\u001b[0m\u001b[0;34m\u001b[0m\u001b[0m\n\u001b[0;32m----> 4\u001b[0;31m \u001b[0mprint\u001b[0m\u001b[0;34m(\u001b[0m\u001b[0;34m'we are the world'\u001b[0m\u001b[0;34m.\u001b[0m\u001b[0mindex\u001b[0m\u001b[0;34m(\u001b[0m\u001b[0;34m'WORLD'\u001b[0m\u001b[0;34m)\u001b[0m\u001b[0;34m)\u001b[0m\u001b[0;34m\u001b[0m\u001b[0;34m\u001b[0m\u001b[0m\n\u001b[0m",
            "\u001b[0;31mValueError\u001b[0m: substring not found"
          ]
        }
      ]
    },
    {
      "cell_type": "code",
      "source": [
        "print('we are the world'.join('**'))\n",
        "print('we are the world'.split())"
      ],
      "metadata": {
        "colab": {
          "base_uri": "https://localhost:8080/"
        },
        "id": "kfG0XCJ8euc4",
        "outputId": "2b60916b-25c3-4bc2-a769-b9bb4ab62151"
      },
      "execution_count": null,
      "outputs": [
        {
          "output_type": "stream",
          "name": "stdout",
          "text": [
            "*we are the world*\n",
            "['we', 'are', 'the', 'world']\n"
          ]
        }
      ]
    },
    {
      "cell_type": "code",
      "source": [
        "# isalnum : 문자열이 영어, 한글, 숫자면 True\n",
        "# isdigit, isdecimal, isnumeric : 문자열이 숫자로 되어있으면 True\n",
        "print('we are'.isalnum())\n",
        "print('weare'.isalnum())\n",
        "print('we123'.isalnum())\n",
        "print('we123'.isdecimal())\n",
        "print('123'.isdecimal())\n",
        "print('123.4'.isdecimal())\n",
        "print('123.4'.isdecimal())\n",
        "print('123.4'.isdigit())"
      ],
      "metadata": {
        "colab": {
          "base_uri": "https://localhost:8080/"
        },
        "id": "VJ4dJgn4fscR",
        "outputId": "26414527-0531-42bc-a097-c6ffecf15596"
      },
      "execution_count": null,
      "outputs": [
        {
          "output_type": "stream",
          "name": "stdout",
          "text": [
            "False\n",
            "True\n",
            "True\n",
            "False\n",
            "True\n",
            "False\n",
            "False\n",
            "False\n"
          ]
        }
      ]
    },
    {
      "cell_type": "markdown",
      "source": [
        "### list"
      ],
      "metadata": {
        "id": "8bm4r-VzXne3"
      }
    },
    {
      "cell_type": "code",
      "source": [
        "# 리스트\n",
        "l_val=[10,20,30]\n",
        "print(l_val)\n",
        "print(type(l_val))"
      ],
      "metadata": {
        "colab": {
          "base_uri": "https://localhost:8080/"
        },
        "id": "3Cc_h1UOn1H3",
        "outputId": "c04d4cc9-de8d-45e2-ebdc-f94c656b3d0d"
      },
      "execution_count": null,
      "outputs": [
        {
          "output_type": "stream",
          "name": "stdout",
          "text": [
            "[10, 20, 30]\n",
            "<class 'list'>\n"
          ]
        }
      ]
    },
    {
      "cell_type": "code",
      "source": [
        "l_val=[5,10,15,20,20,20,25]\n",
        "print(l_val[0])\n",
        "print(l_val[-2])\n",
        "print(l_val[0:2]) # 슬라이싱\n",
        "print(l_val[::2]) # 확장 슬라이싱 (파이썬 2,3 이상)\n",
        "print(l_val+l_val+l_val)\n",
        "print(l_val+[30,35])\n",
        "print(l_val*3)"
      ],
      "metadata": {
        "colab": {
          "base_uri": "https://localhost:8080/"
        },
        "id": "aieqk8BZoDi4",
        "outputId": "e95f1769-b5f6-4f82-d8b6-03e07a37f3f1"
      },
      "execution_count": null,
      "outputs": [
        {
          "output_type": "stream",
          "name": "stdout",
          "text": [
            "5\n",
            "20\n",
            "[5, 10]\n",
            "[5, 15, 20, 25]\n",
            "[5, 10, 15, 20, 20, 20, 25, 5, 10, 15, 20, 20, 20, 25, 5, 10, 15, 20, 20, 20, 25]\n",
            "[5, 10, 15, 20, 20, 20, 25, 30, 35]\n",
            "[5, 10, 15, 20, 20, 20, 25, 5, 10, 15, 20, 20, 20, 25, 5, 10, 15, 20, 20, 20, 25]\n"
          ]
        }
      ]
    },
    {
      "cell_type": "code",
      "source": [
        "l_val=['apple','banana',100,200]\n",
        "l_val[2]=300\n",
        "print(l_val)"
      ],
      "metadata": {
        "colab": {
          "base_uri": "https://localhost:8080/"
        },
        "id": "cP6zpbzIoMKv",
        "outputId": "8a1636b0-adee-4a93-9ed0-21a237c64f18"
      },
      "execution_count": null,
      "outputs": [
        {
          "output_type": "stream",
          "name": "stdout",
          "text": [
            "['apple', 'banana', 300, 200]\n"
          ]
        }
      ]
    },
    {
      "cell_type": "code",
      "source": [
        "l_val=['apple','banana',100,200]\n",
        "l_val[0:2]=[1,2] # 지정한 인덱스[0:2] 범위의 요소를 [1,2]로 변경한다.\n",
        "print(l_val)\n",
        "l_val[0:2]=[100] # 크기가 달라도 된다.\n",
        "print(l_val)"
      ],
      "metadata": {
        "colab": {
          "base_uri": "https://localhost:8080/"
        },
        "id": "TlXc4ktloyC_",
        "outputId": "d9571567-d956-4d51-a064-85267259ed9e"
      },
      "execution_count": null,
      "outputs": [
        {
          "output_type": "stream",
          "name": "stdout",
          "text": [
            "[1, 2, 100, 200]\n",
            "[100, 100, 200]\n"
          ]
        }
      ]
    },
    {
      "cell_type": "code",
      "source": [
        "l_val=['apple','banana',100,200]\n",
        "l_val[0:2]=[] # 요소 2개를 삭제한다.\n",
        "print(l_val)"
      ],
      "metadata": {
        "colab": {
          "base_uri": "https://localhost:8080/"
        },
        "id": "BBnf0GlmpEdf",
        "outputId": "82ca3f20-6c78-45c1-c72b-32f6ed682888"
      },
      "execution_count": null,
      "outputs": [
        {
          "output_type": "stream",
          "name": "stdout",
          "text": [
            "[100, 200]\n"
          ]
        }
      ]
    },
    {
      "cell_type": "code",
      "source": [
        "# 리스트에서 요소를 삭제한다.\n",
        "l_val=[2,4,6,8]\n",
        "del l_val[0]\n",
        "print(l_val)\n",
        "# 리스트에 요소를 추가한다.\n",
        "l_val=[1,2,3]\n",
        "l_val[1]=['red', 'green']\n",
        "print(l_val)"
      ],
      "metadata": {
        "colab": {
          "base_uri": "https://localhost:8080/"
        },
        "id": "O9BN4F86pMDX",
        "outputId": "bb003e4b-4aa4-4226-edda-4c048897aeff"
      },
      "execution_count": null,
      "outputs": [
        {
          "output_type": "stream",
          "name": "stdout",
          "text": [
            "[4, 6, 8]\n",
            "[1, ['red', 'green'], 3]\n"
          ]
        }
      ]
    },
    {
      "cell_type": "code",
      "source": [
        "# 확장 슬라이싱을 사용할 때는 왼쪽과 오른쪽 요소 개수가 같아야 한다.\n",
        "l_val=[2,4,6,8]\n",
        "print(l_val[::2])\n",
        "l_val[::2]=[-1,-2]\n",
        "print(l_val)\n",
        "l_val[::2]=[-1,-2,-4,-6]\n",
        "print(l_val)"
      ],
      "metadata": {
        "colab": {
          "base_uri": "https://localhost:8080/",
          "height": 266
        },
        "id": "CLn7aJPKpfjM",
        "outputId": "7c2cd243-b6eb-41eb-d310-84989abaac0c"
      },
      "execution_count": null,
      "outputs": [
        {
          "output_type": "stream",
          "name": "stdout",
          "text": [
            "[2, 6]\n",
            "[-1, 4, -2, 8]\n"
          ]
        },
        {
          "output_type": "error",
          "ename": "ValueError",
          "evalue": "ignored",
          "traceback": [
            "\u001b[0;31m---------------------------------------------------------------------------\u001b[0m",
            "\u001b[0;31mValueError\u001b[0m                                Traceback (most recent call last)",
            "\u001b[0;32m<ipython-input-29-59b374a0696e>\u001b[0m in \u001b[0;36m<module>\u001b[0;34m\u001b[0m\n\u001b[1;32m      4\u001b[0m \u001b[0ml_val\u001b[0m\u001b[0;34m[\u001b[0m\u001b[0;34m:\u001b[0m\u001b[0;34m:\u001b[0m\u001b[0;36m2\u001b[0m\u001b[0;34m]\u001b[0m\u001b[0;34m=\u001b[0m\u001b[0;34m[\u001b[0m\u001b[0;34m-\u001b[0m\u001b[0;36m1\u001b[0m\u001b[0;34m,\u001b[0m\u001b[0;34m-\u001b[0m\u001b[0;36m2\u001b[0m\u001b[0;34m]\u001b[0m\u001b[0;34m\u001b[0m\u001b[0;34m\u001b[0m\u001b[0m\n\u001b[1;32m      5\u001b[0m \u001b[0mprint\u001b[0m\u001b[0;34m(\u001b[0m\u001b[0ml_val\u001b[0m\u001b[0;34m)\u001b[0m\u001b[0;34m\u001b[0m\u001b[0;34m\u001b[0m\u001b[0m\n\u001b[0;32m----> 6\u001b[0;31m \u001b[0ml_val\u001b[0m\u001b[0;34m[\u001b[0m\u001b[0;34m:\u001b[0m\u001b[0;34m:\u001b[0m\u001b[0;36m2\u001b[0m\u001b[0;34m]\u001b[0m\u001b[0;34m=\u001b[0m\u001b[0;34m[\u001b[0m\u001b[0;34m-\u001b[0m\u001b[0;36m1\u001b[0m\u001b[0;34m,\u001b[0m\u001b[0;34m-\u001b[0m\u001b[0;36m2\u001b[0m\u001b[0;34m,\u001b[0m\u001b[0;34m-\u001b[0m\u001b[0;36m4\u001b[0m\u001b[0;34m,\u001b[0m\u001b[0;34m-\u001b[0m\u001b[0;36m6\u001b[0m\u001b[0;34m]\u001b[0m\u001b[0;34m\u001b[0m\u001b[0;34m\u001b[0m\u001b[0m\n\u001b[0m\u001b[1;32m      7\u001b[0m \u001b[0mprint\u001b[0m\u001b[0;34m(\u001b[0m\u001b[0ml_val\u001b[0m\u001b[0;34m)\u001b[0m\u001b[0;34m\u001b[0m\u001b[0;34m\u001b[0m\u001b[0m\n",
            "\u001b[0;31mValueError\u001b[0m: attempt to assign sequence of size 4 to extended slice of size 2"
          ]
        }
      ]
    },
    {
      "cell_type": "code",
      "source": [
        "# 중첩 배열\n",
        "l_val=[10,20,30]\n",
        "l_val=['start', l_val, 'end']\n",
        "print(l_val)"
      ],
      "metadata": {
        "colab": {
          "base_uri": "https://localhost:8080/"
        },
        "id": "VF1V8pFRqAPn",
        "outputId": "794cc366-29f2-4518-ece4-5dfa056626b0"
      },
      "execution_count": null,
      "outputs": [
        {
          "output_type": "stream",
          "name": "stdout",
          "text": [
            "['start', [10, 20, 30], 'end']\n"
          ]
        }
      ]
    },
    {
      "cell_type": "code",
      "source": [
        "# 언패킹 : 한 변수에서 데이터를 각각 꺼내오는 것\n",
        "a=['foo','bar',4,6]\n",
        "x,y,z,w=a\n",
        "print(x,y,z,w)"
      ],
      "metadata": {
        "colab": {
          "base_uri": "https://localhost:8080/"
        },
        "id": "FxSSxq9mqIYm",
        "outputId": "74ba2f7f-4c2a-4015-c37c-6d9a2da78f0b"
      },
      "execution_count": null,
      "outputs": [
        {
          "output_type": "stream",
          "name": "stdout",
          "text": [
            "foo bar 4 6\n"
          ]
        }
      ]
    },
    {
      "cell_type": "code",
      "source": [
        "# list 메소드\n",
        "# append(x) : x를 리스트의 마지막 요소로 추가\n",
        "# extend(list) : list의 요소로 원 리스트를 확장한다.\n",
        "# insert(i, x) : x를 i번째 위치로 끼워 넣는다.\n",
        "# remove(x) : x와 같은 첫 번째 요소를 삭제한다.\n",
        "# pop(), pop(i) : 마지막 요소를 삭제하고 반환한다, i번째 요소를 삭제하고 반환한다.\n",
        "# clear() : 모든 요소를 삭제한다.\n",
        "# index(x) : x와 같은 값의 인덱스를 리턴한다.\n",
        "# count(x) : x와 같은 값의 갯수를 리턴한다.\n",
        "# sort() : 작은 값부터 정렬한다.\n",
        "# revers() : 리스트를 반대로 정렬한다.\n",
        "# copy() : 얕은 복사를 한다.\n",
        "list1=[10,20]\n",
        "list1.append(30)\n",
        "print(list1)\n",
        "list1.insert(1, 40)\n",
        "print(list1)\n",
        "list1.remove(40)\n",
        "print(list1)\n",
        "list1.pop() # 30\n",
        "print(list1)\n",
        "list1.pop(0) # 10\n",
        "print(list1)\n",
        "list1.clear()\n",
        "print(list1)"
      ],
      "metadata": {
        "colab": {
          "base_uri": "https://localhost:8080/"
        },
        "id": "-Z0ZbrQt2ZmO",
        "outputId": "5412feef-01a1-493b-cfdb-794c554785aa"
      },
      "execution_count": null,
      "outputs": [
        {
          "output_type": "stream",
          "name": "stdout",
          "text": [
            "[10, 20, 30]\n",
            "[10, 40, 20, 30]\n",
            "[10, 20, 30]\n",
            "[10, 20]\n",
            "[20]\n",
            "[]\n"
          ]
        }
      ]
    },
    {
      "cell_type": "code",
      "source": [
        "list2=[5,10,15,20,25,20,10]\n",
        "print(list2.index(20))\n",
        "print(list2.count(10))\n",
        "list2.sort() # 정렬\n",
        "print(list2)\n",
        "list2.reverse() # 역정렬\n",
        "print(list2)\n",
        "list2.copy()"
      ],
      "metadata": {
        "colab": {
          "base_uri": "https://localhost:8080/"
        },
        "id": "D4xT3SoGrN37",
        "outputId": "47def549-4e02-4785-a139-d91f11c4b13a"
      },
      "execution_count": null,
      "outputs": [
        {
          "output_type": "stream",
          "name": "stdout",
          "text": [
            "3\n",
            "2\n",
            "[5, 10, 10, 15, 20, 20, 25]\n",
            "[25, 20, 20, 15, 10, 10, 5]\n"
          ]
        },
        {
          "output_type": "execute_result",
          "data": {
            "text/plain": [
              "[25, 20, 20, 15, 10, 10, 5]"
            ]
          },
          "metadata": {},
          "execution_count": 142
        }
      ]
    },
    {
      "cell_type": "code",
      "source": [
        "l_val=['red','orange','blue','green','white','blac']\n",
        "print(l_val.append(\"orange\"))\n",
        "print(l_val)\n",
        "print(l_val.extend(['yellow','aqua']))\n",
        "print(l_val)\n",
        "l_val.extend('purple')\n",
        "print(l_val)\n",
        "l_val.insert(0,'gray')\n",
        "print(l_val)\n",
        "# l_val.remove('b') # ValueError: list.remove(x): x not in list\n",
        "l_val.remove('p')\n",
        "print(l_val)\n",
        "print(l_val.pop())\n",
        "print(l_val)\n",
        "print(l_val.pop(0))\n",
        "print(l_val)\n",
        "print(l_val.index('blue'))\n",
        "print(l_val.count('white'))\n",
        "print(l_val.sort())\n",
        "print(l_val)\n",
        "print(l_val.reverse())\n",
        "print(l_val)\n",
        "l_val2=l_val.copy()\n",
        "print(l_val)\n",
        "print(l_val2)\n",
        "l_val2[0]='gray'\n",
        "print(l_val)\n",
        "print(l_val2)\n",
        "l_val2.clear()\n",
        "print(l_val2)"
      ],
      "metadata": {
        "colab": {
          "base_uri": "https://localhost:8080/"
        },
        "id": "GkFgK-a2rs9u",
        "outputId": "20a9ec33-32e7-4595-ecf3-573ba60c2338"
      },
      "execution_count": null,
      "outputs": [
        {
          "output_type": "stream",
          "name": "stdout",
          "text": [
            "None\n",
            "['red', 'orange', 'blue', 'green', 'white', 'blac', 'orange']\n",
            "None\n",
            "['red', 'orange', 'blue', 'green', 'white', 'blac', 'orange', 'yellow', 'aqua']\n",
            "['red', 'orange', 'blue', 'green', 'white', 'blac', 'orange', 'yellow', 'aqua', 'p', 'u', 'r', 'p', 'l', 'e']\n",
            "['gray', 'red', 'orange', 'blue', 'green', 'white', 'blac', 'orange', 'yellow', 'aqua', 'p', 'u', 'r', 'p', 'l', 'e']\n",
            "['gray', 'red', 'orange', 'blue', 'green', 'white', 'blac', 'orange', 'yellow', 'aqua', 'u', 'r', 'p', 'l', 'e']\n",
            "e\n",
            "['gray', 'red', 'orange', 'blue', 'green', 'white', 'blac', 'orange', 'yellow', 'aqua', 'u', 'r', 'p', 'l']\n",
            "gray\n",
            "['red', 'orange', 'blue', 'green', 'white', 'blac', 'orange', 'yellow', 'aqua', 'u', 'r', 'p', 'l']\n",
            "2\n",
            "1\n",
            "None\n",
            "['aqua', 'blac', 'blue', 'green', 'l', 'orange', 'orange', 'p', 'r', 'red', 'u', 'white', 'yellow']\n",
            "None\n",
            "['yellow', 'white', 'u', 'red', 'r', 'p', 'orange', 'orange', 'l', 'green', 'blue', 'blac', 'aqua']\n",
            "['yellow', 'white', 'u', 'red', 'r', 'p', 'orange', 'orange', 'l', 'green', 'blue', 'blac', 'aqua']\n",
            "['yellow', 'white', 'u', 'red', 'r', 'p', 'orange', 'orange', 'l', 'green', 'blue', 'blac', 'aqua']\n",
            "['yellow', 'white', 'u', 'red', 'r', 'p', 'orange', 'orange', 'l', 'green', 'blue', 'blac', 'aqua']\n",
            "['gray', 'white', 'u', 'red', 'r', 'p', 'orange', 'orange', 'l', 'green', 'blue', 'blac', 'aqua']\n",
            "[]\n"
          ]
        }
      ]
    },
    {
      "cell_type": "code",
      "source": [
        "# a값을 b에 할당\n",
        "# 하나의 값을 변경하면 둘 다 같이 변경됨(얕은 복사)\n",
        "a=['red','blue']\n",
        "b=a\n",
        "print(a,b)\n",
        "b[0]='white'\n",
        "print(a,b)\n",
        "print('==========')\n",
        "# extend는 확장의 개념. 깊은 복사가 된다.\n",
        "a=['red','green']\n",
        "b=[]\n",
        "print(a,b)\n",
        "b.extend(a)\n",
        "print(a,b)\n",
        "b[0]='black'\n",
        "print(a,b)\n",
        "print('==========')\n",
        "# 일차원에서는 깊은 카피가 발생\n",
        "a=['red','green']\n",
        "b=a.copy()\n",
        "print(a,b)\n",
        "b[0]='black'\n",
        "print(a,b)\n",
        "print('==========')\n",
        "# 이차원 배열에서는 값이 같이 바뀐다. 이차원에서는 얕은 카피가 발생\n",
        "a=[['red','green']]\n",
        "b=a.copy()\n",
        "print(a,b)\n",
        "b[0][0]='black'\n",
        "print(a,b)\n",
        "print('==========')\n",
        "import copy\n",
        "a=[['red','green']]\n",
        "b=copy.deepcopy(a) # 깊은 카피\n",
        "print(a,b)\n",
        "b[0][0]='black'\n",
        "print(a,b)"
      ],
      "metadata": {
        "colab": {
          "base_uri": "https://localhost:8080/"
        },
        "id": "c_ywPqBUszuz",
        "outputId": "e3b457ee-3a09-4081-e148-efcd7f704c42"
      },
      "execution_count": null,
      "outputs": [
        {
          "output_type": "stream",
          "name": "stdout",
          "text": [
            "['red', 'blue'] ['red', 'blue']\n",
            "['white', 'blue'] ['white', 'blue']\n",
            "==========\n",
            "['red', 'green'] []\n",
            "['red', 'green'] ['red', 'green']\n",
            "['red', 'green'] ['black', 'green']\n",
            "==========\n",
            "['red', 'green'] ['red', 'green']\n",
            "['red', 'green'] ['black', 'green']\n",
            "==========\n",
            "[['red', 'green']] [['red', 'green']]\n",
            "[['black', 'green']] [['black', 'green']]\n",
            "==========\n",
            "[['red', 'green']] [['red', 'green']]\n",
            "[['red', 'green']] [['black', 'green']]\n"
          ]
        }
      ]
    },
    {
      "cell_type": "markdown",
      "source": [
        "### Tuple"
      ],
      "metadata": {
        "id": "EzgOlW52XsPI"
      }
    },
    {
      "cell_type": "code",
      "source": [
        "# 튜플(Tuple)\n",
        "# 변경이 불가능한 순서(sequence)가 있는 자료형\n",
        "# 튜플은 ()소괄호로 표현한다.\n",
        "def test():\n",
        "  return 2,3\n",
        "\n",
        "print(test())\n",
        "# 넘기는 값을 2,3 으로 2개로 작성했지만 결곽값은 ()소괄호로 묶여 하나의 값을 리턴\n",
        "# 이를 튜플이라 한다."
      ],
      "metadata": {
        "colab": {
          "base_uri": "https://localhost:8080/"
        },
        "id": "FragHILAuO5y",
        "outputId": "5543cd7e-2239-4a8b-ceaa-06a3eb478bb6"
      },
      "execution_count": null,
      "outputs": [
        {
          "output_type": "stream",
          "name": "stdout",
          "text": [
            "(2, 3)\n"
          ]
        }
      ]
    },
    {
      "cell_type": "code",
      "source": [
        "# 값 사이에 콤마(,)로 구분하여 사용한다.\n",
        "t_val=(10,20,30) # t_val=10,20,30 괄호 없이도 표현이 가능하다\n",
        "print(t_val)\n",
        "print(type(t_val))"
      ],
      "metadata": {
        "colab": {
          "base_uri": "https://localhost:8080/"
        },
        "id": "meNm9d7nvEUh",
        "outputId": "8349f28f-a95c-49b2-aff5-f8e44f328371"
      },
      "execution_count": null,
      "outputs": [
        {
          "output_type": "stream",
          "name": "stdout",
          "text": [
            "(10, 20, 30)\n",
            "<class 'tuple'>\n"
          ]
        }
      ]
    },
    {
      "cell_type": "code",
      "source": [
        "# 괄호()는 수식에서의 ()와 혼동될 가능성이 있기 떄문에 주의해야 한다.\n",
        "# 데이터가 한 개 일때는 반드시 쉼표(,)가 있어야 한다. 괄호는 없어도 쉼표(,)는 있어야 한다.\n",
        "t_val=(1)\n",
        "print(type(t_val))\n",
        "t_val=(1,)\n",
        "print(type(t_val))\n",
        "t_val=1,\n",
        "print(type(t_val))"
      ],
      "metadata": {
        "colab": {
          "base_uri": "https://localhost:8080/"
        },
        "id": "mW4IecFYveb9",
        "outputId": "a62083ec-54db-4377-893c-523fdf9652ea"
      },
      "execution_count": null,
      "outputs": [
        {
          "output_type": "stream",
          "name": "stdout",
          "text": [
            "<class 'int'>\n",
            "<class 'tuple'>\n",
            "<class 'tuple'>\n"
          ]
        }
      ]
    },
    {
      "cell_type": "code",
      "source": [
        "# 튜플은 불면이기 때문에 값을 변경할 수 없다.\n",
        "t_val=(1,2,3)\n",
        "t_val[0]=100"
      ],
      "metadata": {
        "colab": {
          "base_uri": "https://localhost:8080/",
          "height": 193
        },
        "id": "-YlyA8kov1ip",
        "outputId": "fd170385-538b-4d2d-e22b-addedf721041"
      },
      "execution_count": null,
      "outputs": [
        {
          "output_type": "error",
          "ename": "TypeError",
          "evalue": "ignored",
          "traceback": [
            "\u001b[0;31m---------------------------------------------------------------------------\u001b[0m",
            "\u001b[0;31mTypeError\u001b[0m                                 Traceback (most recent call last)",
            "\u001b[0;32m<ipython-input-115-55de0251544f>\u001b[0m in \u001b[0;36m<module>\u001b[0;34m\u001b[0m\n\u001b[1;32m      1\u001b[0m \u001b[0mt_val\u001b[0m\u001b[0;34m=\u001b[0m\u001b[0;34m(\u001b[0m\u001b[0;36m1\u001b[0m\u001b[0;34m,\u001b[0m\u001b[0;36m2\u001b[0m\u001b[0;34m,\u001b[0m\u001b[0;36m3\u001b[0m\u001b[0;34m)\u001b[0m\u001b[0;34m\u001b[0m\u001b[0;34m\u001b[0m\u001b[0m\n\u001b[0;32m----> 2\u001b[0;31m \u001b[0mt_val\u001b[0m\u001b[0;34m[\u001b[0m\u001b[0;36m0\u001b[0m\u001b[0;34m]\u001b[0m\u001b[0;34m=\u001b[0m\u001b[0;36m100\u001b[0m\u001b[0;34m\u001b[0m\u001b[0;34m\u001b[0m\u001b[0m\n\u001b[0m",
            "\u001b[0;31mTypeError\u001b[0m: 'tuple' object does not support item assignment"
          ]
        }
      ]
    },
    {
      "cell_type": "code",
      "source": [
        "t_val=(10,'python',80.2,True)\n",
        "t_val"
      ],
      "metadata": {
        "colab": {
          "base_uri": "https://localhost:8080/"
        },
        "id": "nBgsDwAfv74M",
        "outputId": "c26cf58f-52c5-4a56-8d49-9ba1809d502d"
      },
      "execution_count": null,
      "outputs": [
        {
          "output_type": "execute_result",
          "data": {
            "text/plain": [
              "(10, 'python', 80.2, True)"
            ]
          },
          "metadata": {},
          "execution_count": 116
        }
      ]
    },
    {
      "cell_type": "code",
      "source": [
        "# 인덱스를 이용해서 튜플의 각 원소에 접근할 수 있다.\n",
        "t_val=(5,10,15,20,25,30)\n",
        "print(len(t_val)) # len : 데이터의 개수 리턴\n",
        "print(t_val[1]) # 1인덱스 요소를 리턴\n",
        "print(t_val[-1]) # 음수 사용 시 요소 마지막부터 찾음\n",
        "print(t_val[0:2]) # 슬라이싱\n",
        "print(t_val[::2]) # 확장 슬라이싱(파이썬 2, 3 이상)\n",
        "\n",
        "# +, * 연산자를  사용하여 이어붙일 수도 반복할 수도 있다.\n",
        "print(t_val+t_val+t_val) # 연결하기\n",
        "print(t_val + (35,40)) # 연결하기\n",
        "print(t_val*3) # 반복하기\n",
        "\n",
        "# 튜플에 특정값이 있는지 검사할 수 있다.\n",
        "print(5 in t_val)"
      ],
      "metadata": {
        "colab": {
          "base_uri": "https://localhost:8080/"
        },
        "id": "_OkNjd6DwFdt",
        "outputId": "bf140166-57d2-4698-efc7-205359bb85d1"
      },
      "execution_count": null,
      "outputs": [
        {
          "output_type": "stream",
          "name": "stdout",
          "text": [
            "6\n",
            "10\n",
            "30\n",
            "(5, 10)\n",
            "(5, 15, 25)\n",
            "(5, 10, 15, 20, 25, 30, 5, 10, 15, 20, 25, 30, 5, 10, 15, 20, 25, 30)\n",
            "(5, 10, 15, 20, 25, 30, 35, 40)\n",
            "(5, 10, 15, 20, 25, 30, 5, 10, 15, 20, 25, 30, 5, 10, 15, 20, 25, 30)\n",
            "True\n"
          ]
        }
      ]
    },
    {
      "cell_type": "code",
      "source": [
        "# 튜플은 검색에 관련된 메서드 2개를 갖는다.(count, index)\n",
        "t_val=(1,2,3,2,2,3,3)\n",
        "print(t_val.count(2)) # 2가 몇개 있는가?\n",
        "print(t_val.index(2)) # 첫 번째 2의 인덱스는?\n",
        "print(t_val.index(3,2)) # 첫번째 2의 인덱스를 3인덱스 위치부터 검색해 나간다."
      ],
      "metadata": {
        "colab": {
          "base_uri": "https://localhost:8080/"
        },
        "id": "LHzu6DWewuUl",
        "outputId": "a1de3281-dc9f-4706-bc9a-0b2f066691b1"
      },
      "execution_count": null,
      "outputs": [
        {
          "output_type": "stream",
          "name": "stdout",
          "text": [
            "3\n",
            "1\n",
            "2\n"
          ]
        }
      ]
    },
    {
      "cell_type": "code",
      "source": [
        "# 튜플은 중첩해서 사용할 수 있다.\n",
        "t_val1=('python', 'hello!')\n",
        "t_val2=(t_val1,(1,2,3)) # t_val=t_val,(1,2,3)\n",
        "print(t_val2)"
      ],
      "metadata": {
        "colab": {
          "base_uri": "https://localhost:8080/"
        },
        "id": "0zSWBM-5xGo7",
        "outputId": "6ce9ff1e-c242-435d-edb9-8aaf8cc014d7"
      },
      "execution_count": null,
      "outputs": [
        {
          "output_type": "stream",
          "name": "stdout",
          "text": [
            "(('python', 'hello!'), (1, 2, 3))\n"
          ]
        }
      ]
    },
    {
      "cell_type": "code",
      "source": [
        "# 한 변수에 데이터를 각각 꺼내오는 언패킹을 지원\n",
        "t_val=(10,20,30)\n",
        "l,m,n=t_val # t_val의 각 요소들이 l,m,n에 저장\n",
        "print(l,m,n)\n",
        "print('==========')\n",
        "t_val=((1,2),(3,4))\n",
        "(x1,y1),(x2,y2)=t_val\n",
        "print(x1,y1)\n",
        "print(x2,y2)"
      ],
      "metadata": {
        "colab": {
          "base_uri": "https://localhost:8080/"
        },
        "id": "VoqRNQuRxTgI",
        "outputId": "1c666159-461a-450e-b00a-6ad1652af99c"
      },
      "execution_count": null,
      "outputs": [
        {
          "output_type": "stream",
          "name": "stdout",
          "text": [
            "10 20 30\n",
            "==========\n",
            "1 2\n",
            "3 4\n"
          ]
        }
      ]
    },
    {
      "cell_type": "code",
      "source": [
        "# 확장된 언패킹을 이용한 자유로운 형태 이용\n",
        "t_val=(1,2,3,4,5)\n",
        "a,*b=t_val\n",
        "print(a,b)\n",
        "print(type(a), type(b))\n",
        "# 하나의 요소만 받기 위해서는 단일 값만, 나머지 모두를 받기 위해서는 앞에 *를 붙인다.(나머지의 타입은 list로 리턴)\n",
        "print('==========')\n",
        "*a,b=t_val\n",
        "print(a,b)\n",
        "a,b,*c=t_val\n",
        "print(a,b,c)\n",
        "a,*b,c=t_val\n",
        "print(a,b,c)\n",
        "print('==========')\n",
        "a,*b,*c=t_val\n",
        "print(a,b,c)\n",
        "# SyntaxError: two starred expressions in assignment"
      ],
      "metadata": {
        "colab": {
          "base_uri": "https://localhost:8080/",
          "height": 266
        },
        "id": "YrXwvHgYxqW8",
        "outputId": "bd9c2749-6adc-4d76-a661-fa65d4174ad9"
      },
      "execution_count": null,
      "outputs": [
        {
          "output_type": "stream",
          "name": "stdout",
          "text": [
            "1 [2, 3, 4, 5]\n",
            "<class 'int'> <class 'list'>\n",
            "==========\n",
            "[1, 2, 3, 4] 5\n",
            "1 2 [3, 4, 5]\n",
            "1 [2, 3, 4] 5\n",
            "==========\n"
          ]
        },
        {
          "output_type": "error",
          "ename": "SyntaxError",
          "evalue": "ignored",
          "traceback": [
            "\u001b[0;36m  File \u001b[0;32m\"<ipython-input-131-2e692b9bb5b6>\"\u001b[0;36m, line \u001b[0;32m15\u001b[0m\n\u001b[0;31m    a,*b,*c=t_val\u001b[0m\n\u001b[0m    ^\u001b[0m\n\u001b[0;31mSyntaxError\u001b[0m\u001b[0;31m:\u001b[0m two starred expressions in assignment\n"
          ]
        }
      ]
    },
    {
      "cell_type": "code",
      "source": [
        "# 튜플과 리스트의 공통점\n",
        "# - 임의의 객체를 저장할 수 있다는 것과 순서 자료형이다.\n",
        "\n",
        "# 튜플과 리스트의 차이점\n",
        "# - 튜플은 변경 불가능한 순서 자료형이다.\n",
        "# - 튜플은 함수의 가변 인수를 지원한다.\n",
        "\n",
        "dir(list)"
      ],
      "metadata": {
        "colab": {
          "base_uri": "https://localhost:8080/"
        },
        "id": "KcW9h3dlyPIZ",
        "outputId": "c24ee051-b547-4d23-c633-4594e0f94797"
      },
      "execution_count": null,
      "outputs": [
        {
          "output_type": "execute_result",
          "data": {
            "text/plain": [
              "['__add__',\n",
              " '__class__',\n",
              " '__contains__',\n",
              " '__delattr__',\n",
              " '__delitem__',\n",
              " '__dir__',\n",
              " '__doc__',\n",
              " '__eq__',\n",
              " '__format__',\n",
              " '__ge__',\n",
              " '__getattribute__',\n",
              " '__getitem__',\n",
              " '__gt__',\n",
              " '__hash__',\n",
              " '__iadd__',\n",
              " '__imul__',\n",
              " '__init__',\n",
              " '__init_subclass__',\n",
              " '__iter__',\n",
              " '__le__',\n",
              " '__len__',\n",
              " '__lt__',\n",
              " '__mul__',\n",
              " '__ne__',\n",
              " '__new__',\n",
              " '__reduce__',\n",
              " '__reduce_ex__',\n",
              " '__repr__',\n",
              " '__reversed__',\n",
              " '__rmul__',\n",
              " '__setattr__',\n",
              " '__setitem__',\n",
              " '__sizeof__',\n",
              " '__str__',\n",
              " '__subclasshook__',\n",
              " 'append',\n",
              " 'clear',\n",
              " 'copy',\n",
              " 'count',\n",
              " 'extend',\n",
              " 'index',\n",
              " 'insert',\n",
              " 'pop',\n",
              " 'remove',\n",
              " 'reverse',\n",
              " 'sort']"
            ]
          },
          "metadata": {},
          "execution_count": 147
        }
      ]
    },
    {
      "cell_type": "code",
      "source": [
        "# 리스트와 튜플은 list()와 tuple()내장함수를 사용하여 상호변환이 가능하다.\n",
        "t_val=(1,2,3,4,5)\n",
        "l_val=list(t_val)\n",
        "l_val[0]=100\n",
        "print(l_val)"
      ],
      "metadata": {
        "colab": {
          "base_uri": "https://localhost:8080/"
        },
        "id": "6H3ZmS0ryYyb",
        "outputId": "6068d54e-8dce-46dd-8d7e-39dc91a9419d"
      },
      "execution_count": null,
      "outputs": [
        {
          "output_type": "stream",
          "name": "stdout",
          "text": [
            "[100, 2, 3, 4, 5]\n"
          ]
        }
      ]
    },
    {
      "cell_type": "code",
      "source": [
        "t_val=tuple(l_val)\n",
        "print(t_val)"
      ],
      "metadata": {
        "colab": {
          "base_uri": "https://localhost:8080/"
        },
        "id": "sAkpfHgp2cLt",
        "outputId": "c739e920-a120-45a1-a2f1-13784fa1d935"
      },
      "execution_count": null,
      "outputs": [
        {
          "output_type": "stream",
          "name": "stdout",
          "text": [
            "('yellow', 'white', 'u', 'red', 'r', 'p', 'orange', 'orange', 'l', 'green', 'blue', 'blac', 'aqua')\n"
          ]
        }
      ]
    },
    {
      "cell_type": "code",
      "source": [
        "# 반드시 튜플을 사용하는 3가지 경우\n",
        "# 첫번째는 함수에 있어서 하나 이상의 값을 반환할 때\n",
        "def calc(a,b):\n",
        "  return a+b, a*b # 튜플을 반환한다.\n",
        "x,y=calc(5,4)\n",
        "print(x,y)\n",
        "\n",
        "# 두번째는 튜플에 있는 값들을 함수의 인수로 사용할 때\n",
        "args = (4, 5)\n",
        "print(calc(*args)) # calc(4, 5)\n",
        "\n",
        "# 세번째는 python 2형식의 서식 문자열에 데이터를 공급할 때\n",
        "print(\"%d %f %s\" %(12, 3.4, 'hello'))"
      ],
      "metadata": {
        "colab": {
          "base_uri": "https://localhost:8080/"
        },
        "id": "WS9CwHGW2hyp",
        "outputId": "bcddb577-1521-4ec5-ee7e-95223590a1de"
      },
      "execution_count": null,
      "outputs": [
        {
          "output_type": "stream",
          "name": "stdout",
          "text": [
            "9 20\n",
            "(9, 20)\n",
            "12 3.400000 hello\n"
          ]
        }
      ]
    },
    {
      "cell_type": "code",
      "source": [
        "# *를 줌으로 써 해당의 값을 넘긴다는 뜻\n",
        "def calc(*args) :\n",
        "  print(args)\n",
        "\n",
        "args = (4, 5)\n",
        "calc(*args)\n",
        "\n",
        "args = (4, 5)\n",
        "calc((4, 5))"
      ],
      "metadata": {
        "colab": {
          "base_uri": "https://localhost:8080/"
        },
        "id": "pKKJQYu8rUex",
        "outputId": "04ab3f00-ab6b-4bb4-9254-5d4836031442"
      },
      "execution_count": null,
      "outputs": [
        {
          "output_type": "stream",
          "name": "stdout",
          "text": [
            "(4, 5)\n",
            "((4, 5),)\n"
          ]
        }
      ]
    },
    {
      "cell_type": "markdown",
      "source": [
        "### 집합(sets)\n",
        "\n",
        "집합은 여러 값을 순서 없이 그리고 중복 없이 모아 놓은 자료형이다.  \n",
        "python에서는 set과 frozenset 두 가지 집합 자료형을 제공한다.  \n",
        "set은 변경 가능한 집합이고, frozenset은 변경 불가능한 집합이다.  \n",
        "set은 {}중괄호나 set()으로 표현한다.\n",
        "---\n",
        "멤버십(원소와 집합사이의 귀속관계)검사, 시퀀스에서의 중복제거와 교집합, 합집합 ,차집합 같은 수학연산에 수행에 사용된다.  \n",
        "다른 시퀀스와 마찬가지로 x in set, len(set), 컴프리헨션과 같은 기능을 제공하지마, 삽입 순서를 기록하지는 않는다.  \n",
        "따라서 인덱싱이나 슬라이싱은 사용이 불가능하다.  \n",
        "반복 가능한 객체로부터 집합을 만들 수 있지만 모든 데이터가 원소로 사용할 수 있는 것은 아니다.  \n",
        "해시가능(Hashablre) 이면서 변경 불가능한 자료형만이 집합의 원소로 사용가능하다.  "
      ],
      "metadata": {
        "id": "akCxcgu67aMi"
      }
    },
    {
      "cell_type": "code",
      "source": [
        "s = {}\n",
        "s\n",
        "s = set()\n",
        "s\n",
        "type(s)"
      ],
      "metadata": {
        "colab": {
          "base_uri": "https://localhost:8080/"
        },
        "id": "ZvUXZ_A584Z9",
        "outputId": "1c3c6c7f-9c93-49ac-9c5b-83d80a69367b"
      },
      "execution_count": null,
      "outputs": [
        {
          "output_type": "execute_result",
          "data": {
            "text/plain": [
              "set"
            ]
          },
          "metadata": {},
          "execution_count": 8
        }
      ]
    },
    {
      "cell_type": "code",
      "source": [
        "s = {}\n",
        "print(s)\n",
        "print(type(s))\n",
        "\n",
        "s = set()\n",
        "print(s)\n",
        "print(type(s))"
      ],
      "metadata": {
        "colab": {
          "base_uri": "https://localhost:8080/"
        },
        "id": "P6KwCe4i883p",
        "outputId": "19e0f46a-c932-4193-f729-b898e602b631"
      },
      "execution_count": null,
      "outputs": [
        {
          "output_type": "stream",
          "name": "stdout",
          "text": [
            "{}\n",
            "<class 'dict'>\n",
            "set()\n",
            "<class 'set'>\n"
          ]
        }
      ]
    },
    {
      "cell_type": "code",
      "source": [
        "# 튜플로부터 집합을 만든다. 오름차순으로 생성된다.\n",
        "# 출렬결과가 중괄호로 나온다. ditctionary랑 헷갈리수가 있다.\n",
        "set((3, 1, 2))"
      ],
      "metadata": {
        "colab": {
          "base_uri": "https://localhost:8080/"
        },
        "id": "l1eCmOU29EcM",
        "outputId": "62b997e3-4d40-4b0f-b825-07992c3d6e12"
      },
      "execution_count": null,
      "outputs": [
        {
          "output_type": "execute_result",
          "data": {
            "text/plain": [
              "{1, 2, 3}"
            ]
          },
          "metadata": {},
          "execution_count": 13
        }
      ]
    },
    {
      "cell_type": "code",
      "source": [
        "# 리스트로부터 집합을 만든다. 오름차순으로 생성된다.\n",
        "set([3, 1, 2]) "
      ],
      "metadata": {
        "colab": {
          "base_uri": "https://localhost:8080/"
        },
        "id": "Og-RK1sS9LFJ",
        "outputId": "e80f7231-3f40-46be-afa0-c011677e5a12"
      },
      "execution_count": null,
      "outputs": [
        {
          "output_type": "execute_result",
          "data": {
            "text/plain": [
              "{1, 2, 3}"
            ]
          },
          "metadata": {},
          "execution_count": 14
        }
      ]
    },
    {
      "cell_type": "code",
      "source": [
        "# 문자열로부터 집합을 만든다. 오름차순으로 생성된다.\n",
        "set('python')"
      ],
      "metadata": {
        "colab": {
          "base_uri": "https://localhost:8080/"
        },
        "id": "FRpwQ6hL9PGp",
        "outputId": "4426220c-0055-43f9-d987-edd506c53ab7"
      },
      "execution_count": null,
      "outputs": [
        {
          "output_type": "execute_result",
          "data": {
            "text/plain": [
              "{'h', 'n', 'o', 'p', 't', 'y'}"
            ]
          },
          "metadata": {},
          "execution_count": 15
        }
      ]
    },
    {
      "cell_type": "code",
      "source": [
        "# 중복된 원소는 한번만 표현한다.\n",
        "set((3,2,1,2,3,1,3,2,3,1,1,2,2,3))"
      ],
      "metadata": {
        "colab": {
          "base_uri": "https://localhost:8080/"
        },
        "id": "-Xu1nBfd_0yD",
        "outputId": "7cf7ae02-6246-4626-b8a2-14d3b554e8f7"
      },
      "execution_count": null,
      "outputs": [
        {
          "output_type": "execute_result",
          "data": {
            "text/plain": [
              "{1, 2, 3}"
            ]
          },
          "metadata": {},
          "execution_count": 16
        }
      ]
    },
    {
      "cell_type": "code",
      "source": [
        "# 리스트는 변경이 가능하므로 집합을 생성할 때 Error가 발생한다.\n",
        "a = [1, 2, 3]\n",
        "b = [4, 5, 6]\n",
        "{a, b}"
      ],
      "metadata": {
        "colab": {
          "base_uri": "https://localhost:8080/",
          "height": 211
        },
        "id": "E68NXP9d_6Qh",
        "outputId": "9e42c6ff-9446-4f42-c5d4-769d07de03d4"
      },
      "execution_count": null,
      "outputs": [
        {
          "output_type": "error",
          "ename": "TypeError",
          "evalue": "ignored",
          "traceback": [
            "\u001b[0;31m---------------------------------------------------------------------------\u001b[0m",
            "\u001b[0;31mTypeError\u001b[0m                                 Traceback (most recent call last)",
            "\u001b[0;32m<ipython-input-17-56b0b5e53afb>\u001b[0m in \u001b[0;36m<module>\u001b[0;34m\u001b[0m\n\u001b[1;32m      2\u001b[0m \u001b[0ma\u001b[0m \u001b[0;34m=\u001b[0m \u001b[0;34m[\u001b[0m\u001b[0;36m1\u001b[0m\u001b[0;34m,\u001b[0m \u001b[0;36m2\u001b[0m\u001b[0;34m,\u001b[0m \u001b[0;36m3\u001b[0m\u001b[0;34m]\u001b[0m\u001b[0;34m\u001b[0m\u001b[0;34m\u001b[0m\u001b[0m\n\u001b[1;32m      3\u001b[0m \u001b[0mb\u001b[0m \u001b[0;34m=\u001b[0m \u001b[0;34m[\u001b[0m\u001b[0;36m4\u001b[0m\u001b[0;34m,\u001b[0m \u001b[0;36m5\u001b[0m\u001b[0;34m,\u001b[0m \u001b[0;36m6\u001b[0m\u001b[0;34m]\u001b[0m\u001b[0;34m\u001b[0m\u001b[0;34m\u001b[0m\u001b[0m\n\u001b[0;32m----> 4\u001b[0;31m \u001b[0;34m{\u001b[0m\u001b[0ma\u001b[0m\u001b[0;34m,\u001b[0m \u001b[0mb\u001b[0m\u001b[0;34m}\u001b[0m\u001b[0;34m\u001b[0m\u001b[0;34m\u001b[0m\u001b[0m\n\u001b[0m",
            "\u001b[0;31mTypeError\u001b[0m: unhashable type: 'list'"
          ]
        }
      ]
    },
    {
      "cell_type": "code",
      "source": [
        "# 값이 없을 때는 set 함수를 사용해야 하고, 값을 준다면 {}중괄호로 사용이 가능하다.\n",
        "a = (1, 2, 3)\n",
        "b = (4, 5, 6)\n",
        "c = {a, b}\n",
        "print(c)\n",
        "print(type(c))"
      ],
      "metadata": {
        "colab": {
          "base_uri": "https://localhost:8080/"
        },
        "id": "EqyC6BUhAALg",
        "outputId": "14c98a18-6ed7-4547-c986-f210de5fb635"
      },
      "execution_count": null,
      "outputs": [
        {
          "output_type": "stream",
          "name": "stdout",
          "text": [
            "{(1, 2, 3), (4, 5, 6)}\n",
            "<class 'set'>\n"
          ]
        }
      ]
    },
    {
      "cell_type": "markdown",
      "source": [
        "### frozenset\n",
        "\n",
        "값을 변경하지 않는 범위에서 set객체와 동일하게 동작한다.  \n",
        "frozenset객체의 생성은 집합을 포함한 반복 가능한 자료형으로부터 가능하다.  \n",
        "frozenset()으로 생성한다."
      ],
      "metadata": {
        "id": "aFecwHWhAMYe"
      }
    },
    {
      "cell_type": "code",
      "source": [
        "f = frozenset();\n",
        "print(f)\n",
        "f_val = frozenset([1,2,3,4,5])\n",
        "print(f_val)"
      ],
      "metadata": {
        "colab": {
          "base_uri": "https://localhost:8080/"
        },
        "id": "EQomR43QAW3z",
        "outputId": "bf441c62-a8d5-4c83-ee6f-b1fed21994e2"
      },
      "execution_count": null,
      "outputs": [
        {
          "output_type": "stream",
          "name": "stdout",
          "text": [
            "frozenset()\n",
            "frozenset({1, 2, 3, 4, 5})\n"
          ]
        }
      ]
    },
    {
      "cell_type": "markdown",
      "source": [
        "### 사전(dict)\n",
        "\n",
        "특정 키를 주면 이와 관련된 값을 돌려주는 내용 기반으로 검색하는 자료형  \n",
        "데이터의 저장순서가 없다.  \n",
        "내부적으로 해시 기법을 사용하기 때문에 검색 속도가 빠르다.  \n",
        "key-value형식으로 저장을 하기 때문에 key를 이용해서 value에 접근한다.  \n",
        "key값은 중복을 허용하지 않는다."
      ],
      "metadata": {
        "id": "GF8OPI8fAh9o"
      }
    },
    {
      "cell_type": "code",
      "source": [
        "# 사전(dict)생성은 {}나 dict()함수를 사용해서 생성할 수 있다.\n",
        "d = {'one':1, 'two':2}\n",
        "print(d)\n",
        "print(type(d))\n",
        "\n",
        "d = dict(one = 1, two = 2)\n",
        "print(d)"
      ],
      "metadata": {
        "colab": {
          "base_uri": "https://localhost:8080/"
        },
        "id": "DnC97HJyAue7",
        "outputId": "d261f624-4d68-4312-debe-8b4d1feda012"
      },
      "execution_count": null,
      "outputs": [
        {
          "output_type": "stream",
          "name": "stdout",
          "text": [
            "{'one': 1, 'two': 2}\n",
            "<class 'dict'>\n",
            "{'one': 1, 'two': 2}\n"
          ]
        }
      ]
    },
    {
      "cell_type": "code",
      "source": [],
      "metadata": {
        "id": "UzzxzFlSAhpf"
      },
      "execution_count": null,
      "outputs": []
    },
    {
      "cell_type": "markdown",
      "source": [
        "### Interning\n",
        "\n",
        "- 파이썬은 느리기 때문에 중간에 cache에 저장하는 기법이 있다.\n",
        "- -5 ~ 256은 파이썬엑서 같은 메모리 주소를 사용한다.(interning 기법)\n",
        "\n",
        "1. 숫자(-5 ~ 256) : interning으로 지정할 수 없음\n",
        "\n",
        "2. 문자(a-zA-Z0-9_) : interning으로 지정할 수 있음"
      ],
      "metadata": {
        "id": "9Nr2JrmMVimR"
      }
    },
    {
      "cell_type": "code",
      "source": [
        "a = 100\n",
        "b = 100"
      ],
      "metadata": {
        "id": "wPTgYlkHV1aw"
      },
      "execution_count": null,
      "outputs": []
    },
    {
      "cell_type": "code",
      "source": [
        "# 동등 연산자는 저장된 값을 비교한다.\n",
        "a == b"
      ],
      "metadata": {
        "colab": {
          "base_uri": "https://localhost:8080/"
        },
        "id": "FphZPN1qWD0i",
        "outputId": "9d2a627a-785e-4e2b-b260-e97e103e169c"
      },
      "execution_count": null,
      "outputs": [
        {
          "output_type": "execute_result",
          "data": {
            "text/plain": [
              "True"
            ]
          },
          "metadata": {},
          "execution_count": 6
        }
      ]
    },
    {
      "cell_type": "code",
      "source": [
        "# is는 메모리 주소를 비교한다.\n",
        "a is b"
      ],
      "metadata": {
        "colab": {
          "base_uri": "https://localhost:8080/"
        },
        "id": "hq0VNw3SWBT_",
        "outputId": "eaae5cec-2b73-48cf-c0c5-44306f87c29a"
      },
      "execution_count": null,
      "outputs": [
        {
          "output_type": "execute_result",
          "data": {
            "text/plain": [
              "True"
            ]
          },
          "metadata": {},
          "execution_count": 5
        }
      ]
    },
    {
      "cell_type": "code",
      "source": [
        "a = 257\n",
        "b = 257"
      ],
      "metadata": {
        "id": "YThF5S1uWGZq"
      },
      "execution_count": null,
      "outputs": []
    },
    {
      "cell_type": "code",
      "source": [
        "a == b"
      ],
      "metadata": {
        "colab": {
          "base_uri": "https://localhost:8080/"
        },
        "id": "higsdW4hWPBa",
        "outputId": "b6c08649-ed6a-4835-bee6-0b05faedea66"
      },
      "execution_count": null,
      "outputs": [
        {
          "output_type": "execute_result",
          "data": {
            "text/plain": [
              "True"
            ]
          },
          "metadata": {},
          "execution_count": 9
        }
      ]
    },
    {
      "cell_type": "code",
      "source": [
        "# 범위가 -5 ~ 256을 벗어나 메모리 주소가 다르게 할당되어 False가 출력된다.\n",
        "a is b"
      ],
      "metadata": {
        "colab": {
          "base_uri": "https://localhost:8080/"
        },
        "id": "d5skM83xWQXS",
        "outputId": "7b05835d-c52b-4a1f-bddc-bed16aee01c1"
      },
      "execution_count": null,
      "outputs": [
        {
          "output_type": "execute_result",
          "data": {
            "text/plain": [
              "True"
            ]
          },
          "metadata": {},
          "execution_count": 16
        }
      ]
    },
    {
      "cell_type": "code",
      "source": [
        "# python에서 문자열 일때는 a-zA-Z0-9_는 내부적으로 interning 기법을 사용한다.\n",
        "a = 'python'\n",
        "b = 'python'"
      ],
      "metadata": {
        "id": "-C0K52NPWW95"
      },
      "execution_count": null,
      "outputs": []
    },
    {
      "cell_type": "code",
      "source": [
        "a == b"
      ],
      "metadata": {
        "colab": {
          "base_uri": "https://localhost:8080/"
        },
        "id": "IbRz29XoWfMp",
        "outputId": "8823465c-c336-4d27-b272-03c2530dddc7"
      },
      "execution_count": null,
      "outputs": [
        {
          "output_type": "execute_result",
          "data": {
            "text/plain": [
              "True"
            ]
          },
          "metadata": {},
          "execution_count": 14
        }
      ]
    },
    {
      "cell_type": "code",
      "source": [
        "a is b"
      ],
      "metadata": {
        "colab": {
          "base_uri": "https://localhost:8080/"
        },
        "id": "OSauQo4gWgd_",
        "outputId": "a6d78674-4cde-4add-cc22-d8ce2e5a25e8"
      },
      "execution_count": null,
      "outputs": [
        {
          "output_type": "execute_result",
          "data": {
            "text/plain": [
              "True"
            ]
          },
          "metadata": {},
          "execution_count": 15
        }
      ]
    },
    {
      "cell_type": "code",
      "source": [
        "a = 'python3'\n",
        "b = 'python3'"
      ],
      "metadata": {
        "id": "vNKCaAMmWhWP"
      },
      "execution_count": null,
      "outputs": []
    },
    {
      "cell_type": "code",
      "source": [
        "a == b"
      ],
      "metadata": {
        "colab": {
          "base_uri": "https://localhost:8080/"
        },
        "id": "X9OlCIjiWqdB",
        "outputId": "b89adb49-b827-472a-9bb7-27a5d8db0d82"
      },
      "execution_count": null,
      "outputs": [
        {
          "output_type": "execute_result",
          "data": {
            "text/plain": [
              "True"
            ]
          },
          "metadata": {},
          "execution_count": 18
        }
      ]
    },
    {
      "cell_type": "code",
      "source": [
        "a is b"
      ],
      "metadata": {
        "colab": {
          "base_uri": "https://localhost:8080/"
        },
        "id": "q15C1CXvWrCq",
        "outputId": "ffd0c59f-a669-4324-f8cd-3aa073334d54"
      },
      "execution_count": null,
      "outputs": [
        {
          "output_type": "execute_result",
          "data": {
            "text/plain": [
              "True"
            ]
          },
          "metadata": {},
          "execution_count": 19
        }
      ]
    },
    {
      "cell_type": "code",
      "source": [
        "a = '파이썬'\n",
        "b = '파이썬'"
      ],
      "metadata": {
        "id": "akMpLGxAWsia"
      },
      "execution_count": null,
      "outputs": []
    },
    {
      "cell_type": "code",
      "source": [
        "a == b"
      ],
      "metadata": {
        "colab": {
          "base_uri": "https://localhost:8080/"
        },
        "id": "1Kl0_oqyWvu2",
        "outputId": "eaf4b01e-ce1a-4c6b-bce2-748db20600bf"
      },
      "execution_count": null,
      "outputs": [
        {
          "output_type": "execute_result",
          "data": {
            "text/plain": [
              "True"
            ]
          },
          "metadata": {},
          "execution_count": 21
        }
      ]
    },
    {
      "cell_type": "code",
      "source": [
        "# 한글은 다른 메모리를 할당해 주기 때문에 주소값이 다르게 나와 False로 출력된다.\n",
        "a is b"
      ],
      "metadata": {
        "colab": {
          "base_uri": "https://localhost:8080/"
        },
        "id": "RQJI6uNuWwvn",
        "outputId": "86bcad79-64f6-4530-d728-6d70378b6cb3"
      },
      "execution_count": null,
      "outputs": [
        {
          "output_type": "execute_result",
          "data": {
            "text/plain": [
              "False"
            ]
          },
          "metadata": {},
          "execution_count": 22
        }
      ]
    },
    {
      "cell_type": "code",
      "source": [
        "a = 'python version'\n",
        "b = 'python version'"
      ],
      "metadata": {
        "id": "YNVgPXpoW1aP"
      },
      "execution_count": null,
      "outputs": []
    },
    {
      "cell_type": "code",
      "source": [
        "a == b"
      ],
      "metadata": {
        "colab": {
          "base_uri": "https://localhost:8080/"
        },
        "id": "VrqJp2OiW4mQ",
        "outputId": "f5cf580f-2406-447e-aeea-1b571b76d98e"
      },
      "execution_count": null,
      "outputs": [
        {
          "output_type": "execute_result",
          "data": {
            "text/plain": [
              "True"
            ]
          },
          "metadata": {},
          "execution_count": 24
        }
      ]
    },
    {
      "cell_type": "code",
      "source": [
        "# 영문에 공백이 포함되어 있으면 다른 메모리에 할당이 된다.\n",
        "a is b"
      ],
      "metadata": {
        "colab": {
          "base_uri": "https://localhost:8080/"
        },
        "id": "ib7EvhbKW5Go",
        "outputId": "62eb925a-a514-4e42-ab5a-fce67df3fd38"
      },
      "execution_count": null,
      "outputs": [
        {
          "output_type": "execute_result",
          "data": {
            "text/plain": [
              "False"
            ]
          },
          "metadata": {},
          "execution_count": 25
        }
      ]
    },
    {
      "cell_type": "code",
      "source": [
        "# 영문자일때 공백이 포함되어도 interning기법을 사용할 수 있도록 intern을 지원한다.\n",
        "# 모듈 가져오기\n",
        "from sys import intern"
      ],
      "metadata": {
        "id": "VegSofdmW8kH"
      },
      "execution_count": null,
      "outputs": []
    },
    {
      "cell_type": "code",
      "source": [
        "c = intern('python programing')\n",
        "d = intern('python programing')"
      ],
      "metadata": {
        "id": "bnVpIJcHXEz4"
      },
      "execution_count": null,
      "outputs": []
    },
    {
      "cell_type": "code",
      "source": [
        "c == d"
      ],
      "metadata": {
        "colab": {
          "base_uri": "https://localhost:8080/"
        },
        "id": "XympV0PZXJdU",
        "outputId": "c08357a0-5253-4d19-d019-b35632ebe1c6"
      },
      "execution_count": null,
      "outputs": [
        {
          "output_type": "execute_result",
          "data": {
            "text/plain": [
              "True"
            ]
          },
          "metadata": {},
          "execution_count": 28
        }
      ]
    },
    {
      "cell_type": "code",
      "source": [
        "c is d"
      ],
      "metadata": {
        "colab": {
          "base_uri": "https://localhost:8080/"
        },
        "id": "xd8yqjg5XKVH",
        "outputId": "d5e45d59-ae31-483b-abce-50336bff8de6"
      },
      "execution_count": null,
      "outputs": [
        {
          "output_type": "execute_result",
          "data": {
            "text/plain": [
              "True"
            ]
          },
          "metadata": {},
          "execution_count": 29
        }
      ]
    },
    {
      "cell_type": "code",
      "source": [
        "# intern은 문자열만 사용이 가능하다.\n",
        "help(intern)"
      ],
      "metadata": {
        "colab": {
          "base_uri": "https://localhost:8080/"
        },
        "id": "gtDtRqKHXLHw",
        "outputId": "40cfe9ec-c070-4d2e-928e-e6faa8ce239f"
      },
      "execution_count": null,
      "outputs": [
        {
          "output_type": "stream",
          "name": "stdout",
          "text": [
            "Help on built-in function intern in module sys:\n",
            "\n",
            "intern(string, /)\n",
            "    ``Intern'' the given string.\n",
            "    \n",
            "    This enters the string in the (global) table of interned strings whose\n",
            "    purpose is to speed up dictionary lookups. Return the string itself or\n",
            "    the previously interned string object with the same value.\n",
            "\n"
          ]
        }
      ]
    },
    {
      "cell_type": "code",
      "source": [
        "a = intern(256)\n",
        "b = intenr(256)"
      ],
      "metadata": {
        "colab": {
          "base_uri": "https://localhost:8080/",
          "height": 193
        },
        "id": "L0Oc9FCFXPb6",
        "outputId": "63382094-6427-4a27-9c1d-48812bbc1009"
      },
      "execution_count": null,
      "outputs": [
        {
          "output_type": "error",
          "ename": "TypeError",
          "evalue": "ignored",
          "traceback": [
            "\u001b[0;31m---------------------------------------------------------------------------\u001b[0m",
            "\u001b[0;31mTypeError\u001b[0m                                 Traceback (most recent call last)",
            "\u001b[0;32m<ipython-input-32-b106b69d5431>\u001b[0m in \u001b[0;36m<module>\u001b[0;34m\u001b[0m\n\u001b[0;32m----> 1\u001b[0;31m \u001b[0ma\u001b[0m \u001b[0;34m=\u001b[0m \u001b[0mintern\u001b[0m\u001b[0;34m(\u001b[0m\u001b[0;36m256\u001b[0m\u001b[0;34m)\u001b[0m\u001b[0;34m\u001b[0m\u001b[0;34m\u001b[0m\u001b[0m\n\u001b[0m\u001b[1;32m      2\u001b[0m \u001b[0mb\u001b[0m \u001b[0;34m=\u001b[0m \u001b[0mintenr\u001b[0m\u001b[0;34m(\u001b[0m\u001b[0;36m256\u001b[0m\u001b[0;34m)\u001b[0m\u001b[0;34m\u001b[0m\u001b[0;34m\u001b[0m\u001b[0m\n",
            "\u001b[0;31mTypeError\u001b[0m: intern() argument must be str, not int"
          ]
        }
      ]
    }
  ]
}