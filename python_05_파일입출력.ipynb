{
  "nbformat": 4,
  "nbformat_minor": 0,
  "metadata": {
    "colab": {
      "provenance": [],
      "authorship_tag": "ABX9TyON7zpM/EKs5z46u5qbEs9M",
      "include_colab_link": true
    },
    "kernelspec": {
      "name": "python3",
      "display_name": "Python 3"
    },
    "language_info": {
      "name": "python"
    }
  },
  "cells": [
    {
      "cell_type": "markdown",
      "metadata": {
        "id": "view-in-github",
        "colab_type": "text"
      },
      "source": [
        "<a href=\"https://colab.research.google.com/github/eoooomji/home_python/blob/master/python_05_%ED%8C%8C%EC%9D%BC%EC%9E%85%EC%B6%9C%EB%A0%A5.ipynb\" target=\"_parent\"><img src=\"https://colab.research.google.com/assets/colab-badge.svg\" alt=\"Open In Colab\"/></a>"
      ]
    },
    {
      "cell_type": "markdown",
      "source": [
        "# 파일 입출력"
      ],
      "metadata": {
        "id": "Qy2h8B4hZZPS"
      }
    },
    {
      "cell_type": "markdown",
      "source": [
        "## open()\n",
        "open('파일 경로', '파일 열기 모드')\n",
        "  1. 파일 열기 모드\n",
        "    - w : 쓰기 모드 - 파일에 내용을 쓸 때 사용\n",
        "\n",
        "    - r : 읽기 모드 - 파일에 내용을 읽을 때 사용\n",
        "\n",
        "    - a : 추가 모드 - 파일에 내용을 추가할 때 사용"
      ],
      "metadata": {
        "id": "zoUonxCNaolR"
      }
    },
    {
      "cell_type": "code",
      "execution_count": null,
      "metadata": {
        "id": "e75ajm4MZV9X"
      },
      "outputs": [],
      "source": [
        "# open('파일 경로', '모드')\n",
        "fwrite = open('sample.txt', 'w') # 파일 열기\n",
        "for i in range(1, 4) :\n",
        "  data = '%d번째 줄입니다. \\n' % i\n",
        "  fwrite.write(data)\n",
        "fwrite.close() # 파일 닫기"
      ]
    },
    {
      "cell_type": "code",
      "source": [
        "fread = open('sample.txt', 'r') # sample.txt파일에 데이터를 읽어온다.\n",
        "line = fread.read() # read()는 파일에서 전체를 읽어와 str로 리턴한다.\n",
        "print(type(line))\n",
        "fread.close()"
      ],
      "metadata": {
        "colab": {
          "base_uri": "https://localhost:8080/"
        },
        "id": "wXcBZZguZ7G_",
        "outputId": "ac16a6f6-46a0-4fdd-8bf6-8d747cba5c1e"
      },
      "execution_count": null,
      "outputs": [
        {
          "output_type": "stream",
          "name": "stdout",
          "text": [
            "<class 'str'>\n"
          ]
        }
      ]
    },
    {
      "cell_type": "code",
      "source": [
        "fread = open('sample.txt', 'r') # sample.txt 파일에 데이터를 읽어온다.\n",
        "while True :\n",
        "  line = fread.readline() # readline()은 파일에서 한 라인씩 읽어옴\n",
        "  print(line)\n",
        "  if not line : # 파일에서 더 이상 읽어올 내용이 없으면\n",
        "    break\n",
        "  print(line)\n",
        "fread.close()"
      ],
      "metadata": {
        "colab": {
          "base_uri": "https://localhost:8080/"
        },
        "id": "uokwUFxsaHhE",
        "outputId": "6cb4f037-3670-426f-c5c3-a5cbd7b16c0b"
      },
      "execution_count": null,
      "outputs": [
        {
          "output_type": "stream",
          "name": "stdout",
          "text": [
            "1번째 줄입니다. \n",
            "\n",
            "1번째 줄입니다. \n",
            "\n",
            "2번째 줄입니다. \n",
            "\n",
            "2번째 줄입니다. \n",
            "\n",
            "3번째 줄입니다. \n",
            "\n",
            "3번째 줄입니다. \n",
            "\n",
            "\n"
          ]
        }
      ]
    },
    {
      "cell_type": "code",
      "source": [
        "import os\n",
        "path = os.getcwd()\n",
        "print(path)"
      ],
      "metadata": {
        "colab": {
          "base_uri": "https://localhost:8080/"
        },
        "id": "YDlB2LUoaemu",
        "outputId": "1b5be5f8-c315-4da4-a13f-0d6b3d973f1c"
      },
      "execution_count": null,
      "outputs": [
        {
          "output_type": "stream",
          "name": "stdout",
          "text": [
            "/content\n"
          ]
        }
      ]
    },
    {
      "cell_type": "markdown",
      "source": [
        "## with문과 함께 사용\n",
        "\n",
        "- with문과 함께 파일을 사용하면 읽기, 쓰기할 때 close()를 안해도 된다."
      ],
      "metadata": {
        "id": "tKo6ga-pai76"
      }
    },
    {
      "cell_type": "code",
      "source": [
        "with open('sample.txt', 'w') as f :\n",
        "  for i in range(5, 8) :\n",
        "    data = '%d번째 줄 입니다. \\n' % i\n",
        "    f.write(data)"
      ],
      "metadata": {
        "id": "hPIWrFM1az19"
      },
      "execution_count": null,
      "outputs": []
    },
    {
      "cell_type": "code",
      "source": [
        "with open('sample.txt', 'r') as f :\n",
        "  while True :\n",
        "    line = f.readline()\n",
        "    if not line :\n",
        "      break\n",
        "    print(line)"
      ],
      "metadata": {
        "colab": {
          "base_uri": "https://localhost:8080/"
        },
        "id": "vmLUoZ85a9T0",
        "outputId": "0c555ec4-78cb-45e6-ed22-196cd70e8f46"
      },
      "execution_count": null,
      "outputs": [
        {
          "output_type": "stream",
          "name": "stdout",
          "text": [
            "5번째 줄 입니다. \n",
            "\n",
            "6번째 줄 입니다. \n",
            "\n",
            "7번째 줄 입니다. \n",
            "\n"
          ]
        }
      ]
    },
    {
      "cell_type": "code",
      "source": [
        "with open('text.txt', 'w') as f :\n",
        "  f.writelines(['apple', 'banana', 'lemon']) # str만 가능하다."
      ],
      "metadata": {
        "id": "6q7Db1ZKbHai"
      },
      "execution_count": null,
      "outputs": []
    },
    {
      "cell_type": "code",
      "source": [
        "with open('text.txt', 'r') as f : \n",
        "  print(f.readlines())"
      ],
      "metadata": {
        "colab": {
          "base_uri": "https://localhost:8080/"
        },
        "id": "r4RWhkFBbScK",
        "outputId": "438667b9-d2d1-410c-ca41-ecb12a34604e"
      },
      "execution_count": null,
      "outputs": [
        {
          "output_type": "stream",
          "name": "stdout",
          "text": [
            "['applebananalemon']\n"
          ]
        }
      ]
    },
    {
      "cell_type": "code",
      "source": [
        "import random\n",
        "random.choice([1, 2, 3, 4])"
      ],
      "metadata": {
        "colab": {
          "base_uri": "https://localhost:8080/"
        },
        "id": "JgPfeVbpbc9t",
        "outputId": "2fea24f8-b416-443c-befe-b740991c543f"
      },
      "execution_count": null,
      "outputs": [
        {
          "output_type": "execute_result",
          "data": {
            "text/plain": [
              "3"
            ]
          },
          "metadata": {},
          "execution_count": 11
        }
      ]
    },
    {
      "cell_type": "code",
      "source": [
        "random.randrange(1, 10) # 1부터 10미만 사이의 난수 발생"
      ],
      "metadata": {
        "colab": {
          "base_uri": "https://localhost:8080/"
        },
        "id": "_fTmNpXXbgbM",
        "outputId": "af479ec5-b741-4762-cd14-6841bed32d8c"
      },
      "execution_count": null,
      "outputs": [
        {
          "output_type": "execute_result",
          "data": {
            "text/plain": [
              "3"
            ]
          },
          "metadata": {},
          "execution_count": 12
        }
      ]
    },
    {
      "cell_type": "code",
      "source": [
        "with open('number.txt', 'w') as f :\n",
        "  f.write(str(random.randrange(1, 10)))"
      ],
      "metadata": {
        "id": "MlEMKlQ2bkjU"
      },
      "execution_count": null,
      "outputs": []
    },
    {
      "cell_type": "code",
      "source": [
        "with open('number.txt', 'r') as f :\n",
        "  print(f.read())"
      ],
      "metadata": {
        "colab": {
          "base_uri": "https://localhost:8080/"
        },
        "id": "xzWn3RVubp_U",
        "outputId": "c949b2b2-78d6-42c5-a368-9407d6810f71"
      },
      "execution_count": null,
      "outputs": [
        {
          "output_type": "stream",
          "name": "stdout",
          "text": [
            "7\n"
          ]
        }
      ]
    }
  ]
}