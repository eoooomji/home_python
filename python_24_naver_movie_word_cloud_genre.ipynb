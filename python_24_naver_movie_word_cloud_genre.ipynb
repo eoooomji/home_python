{
  "nbformat": 4,
  "nbformat_minor": 0,
  "metadata": {
    "colab": {
      "provenance": [],
      "authorship_tag": "ABX9TyMoxjlpH5DSx1XQl+O+ijM1",
      "include_colab_link": true
    },
    "kernelspec": {
      "name": "python3",
      "display_name": "Python 3"
    },
    "language_info": {
      "name": "python"
    },
    "widgets": {
      "application/vnd.jupyter.widget-state+json": {
        "0dd1a2fdda5043e5b1bcd185d6f727ff": {
          "model_module": "@jupyter-widgets/controls",
          "model_name": "HBoxModel",
          "model_module_version": "1.5.0",
          "state": {
            "_dom_classes": [],
            "_model_module": "@jupyter-widgets/controls",
            "_model_module_version": "1.5.0",
            "_model_name": "HBoxModel",
            "_view_count": null,
            "_view_module": "@jupyter-widgets/controls",
            "_view_module_version": "1.5.0",
            "_view_name": "HBoxView",
            "box_style": "",
            "children": [
              "IPY_MODEL_fe33c617e90f4c908f498dc9b6a5f25e",
              "IPY_MODEL_4a67f87582aa41c9a1a60989ecb3adf5",
              "IPY_MODEL_1cb59aba4a0f4228bcd70eb74dff8edb"
            ],
            "layout": "IPY_MODEL_da6f6aff913145e0a23c094dd084d948"
          }
        },
        "fe33c617e90f4c908f498dc9b6a5f25e": {
          "model_module": "@jupyter-widgets/controls",
          "model_name": "HTMLModel",
          "model_module_version": "1.5.0",
          "state": {
            "_dom_classes": [],
            "_model_module": "@jupyter-widgets/controls",
            "_model_module_version": "1.5.0",
            "_model_name": "HTMLModel",
            "_view_count": null,
            "_view_module": "@jupyter-widgets/controls",
            "_view_module_version": "1.5.0",
            "_view_name": "HTMLView",
            "description": "",
            "description_tooltip": null,
            "layout": "IPY_MODEL_709fc689d75a4e9a959fe61285d4185d",
            "placeholder": "​",
            "style": "IPY_MODEL_1f68e24027eb442c94e18ccc3c9868d3",
            "value": "100%"
          }
        },
        "4a67f87582aa41c9a1a60989ecb3adf5": {
          "model_module": "@jupyter-widgets/controls",
          "model_name": "FloatProgressModel",
          "model_module_version": "1.5.0",
          "state": {
            "_dom_classes": [],
            "_model_module": "@jupyter-widgets/controls",
            "_model_module_version": "1.5.0",
            "_model_name": "FloatProgressModel",
            "_view_count": null,
            "_view_module": "@jupyter-widgets/controls",
            "_view_module_version": "1.5.0",
            "_view_name": "ProgressView",
            "bar_style": "success",
            "description": "",
            "description_tooltip": null,
            "layout": "IPY_MODEL_364d098822fa461da7388ec814cd29a7",
            "max": 1,
            "min": 0,
            "orientation": "horizontal",
            "style": "IPY_MODEL_625e105c04ce4c1dbd4fef1f34d6dc6b",
            "value": 1
          }
        },
        "1cb59aba4a0f4228bcd70eb74dff8edb": {
          "model_module": "@jupyter-widgets/controls",
          "model_name": "HTMLModel",
          "model_module_version": "1.5.0",
          "state": {
            "_dom_classes": [],
            "_model_module": "@jupyter-widgets/controls",
            "_model_module_version": "1.5.0",
            "_model_name": "HTMLModel",
            "_view_count": null,
            "_view_module": "@jupyter-widgets/controls",
            "_view_module_version": "1.5.0",
            "_view_name": "HTMLView",
            "description": "",
            "description_tooltip": null,
            "layout": "IPY_MODEL_cc27b9e523904ff8947defb3fb69292c",
            "placeholder": "​",
            "style": "IPY_MODEL_738a5d18777449089fadad1402899704",
            "value": " 1/1 [01:17&lt;00:00, 77.03s/it]"
          }
        },
        "da6f6aff913145e0a23c094dd084d948": {
          "model_module": "@jupyter-widgets/base",
          "model_name": "LayoutModel",
          "model_module_version": "1.2.0",
          "state": {
            "_model_module": "@jupyter-widgets/base",
            "_model_module_version": "1.2.0",
            "_model_name": "LayoutModel",
            "_view_count": null,
            "_view_module": "@jupyter-widgets/base",
            "_view_module_version": "1.2.0",
            "_view_name": "LayoutView",
            "align_content": null,
            "align_items": null,
            "align_self": null,
            "border": null,
            "bottom": null,
            "display": null,
            "flex": null,
            "flex_flow": null,
            "grid_area": null,
            "grid_auto_columns": null,
            "grid_auto_flow": null,
            "grid_auto_rows": null,
            "grid_column": null,
            "grid_gap": null,
            "grid_row": null,
            "grid_template_areas": null,
            "grid_template_columns": null,
            "grid_template_rows": null,
            "height": null,
            "justify_content": null,
            "justify_items": null,
            "left": null,
            "margin": null,
            "max_height": null,
            "max_width": null,
            "min_height": null,
            "min_width": null,
            "object_fit": null,
            "object_position": null,
            "order": null,
            "overflow": null,
            "overflow_x": null,
            "overflow_y": null,
            "padding": null,
            "right": null,
            "top": null,
            "visibility": null,
            "width": null
          }
        },
        "709fc689d75a4e9a959fe61285d4185d": {
          "model_module": "@jupyter-widgets/base",
          "model_name": "LayoutModel",
          "model_module_version": "1.2.0",
          "state": {
            "_model_module": "@jupyter-widgets/base",
            "_model_module_version": "1.2.0",
            "_model_name": "LayoutModel",
            "_view_count": null,
            "_view_module": "@jupyter-widgets/base",
            "_view_module_version": "1.2.0",
            "_view_name": "LayoutView",
            "align_content": null,
            "align_items": null,
            "align_self": null,
            "border": null,
            "bottom": null,
            "display": null,
            "flex": null,
            "flex_flow": null,
            "grid_area": null,
            "grid_auto_columns": null,
            "grid_auto_flow": null,
            "grid_auto_rows": null,
            "grid_column": null,
            "grid_gap": null,
            "grid_row": null,
            "grid_template_areas": null,
            "grid_template_columns": null,
            "grid_template_rows": null,
            "height": null,
            "justify_content": null,
            "justify_items": null,
            "left": null,
            "margin": null,
            "max_height": null,
            "max_width": null,
            "min_height": null,
            "min_width": null,
            "object_fit": null,
            "object_position": null,
            "order": null,
            "overflow": null,
            "overflow_x": null,
            "overflow_y": null,
            "padding": null,
            "right": null,
            "top": null,
            "visibility": null,
            "width": null
          }
        },
        "1f68e24027eb442c94e18ccc3c9868d3": {
          "model_module": "@jupyter-widgets/controls",
          "model_name": "DescriptionStyleModel",
          "model_module_version": "1.5.0",
          "state": {
            "_model_module": "@jupyter-widgets/controls",
            "_model_module_version": "1.5.0",
            "_model_name": "DescriptionStyleModel",
            "_view_count": null,
            "_view_module": "@jupyter-widgets/base",
            "_view_module_version": "1.2.0",
            "_view_name": "StyleView",
            "description_width": ""
          }
        },
        "364d098822fa461da7388ec814cd29a7": {
          "model_module": "@jupyter-widgets/base",
          "model_name": "LayoutModel",
          "model_module_version": "1.2.0",
          "state": {
            "_model_module": "@jupyter-widgets/base",
            "_model_module_version": "1.2.0",
            "_model_name": "LayoutModel",
            "_view_count": null,
            "_view_module": "@jupyter-widgets/base",
            "_view_module_version": "1.2.0",
            "_view_name": "LayoutView",
            "align_content": null,
            "align_items": null,
            "align_self": null,
            "border": null,
            "bottom": null,
            "display": null,
            "flex": null,
            "flex_flow": null,
            "grid_area": null,
            "grid_auto_columns": null,
            "grid_auto_flow": null,
            "grid_auto_rows": null,
            "grid_column": null,
            "grid_gap": null,
            "grid_row": null,
            "grid_template_areas": null,
            "grid_template_columns": null,
            "grid_template_rows": null,
            "height": null,
            "justify_content": null,
            "justify_items": null,
            "left": null,
            "margin": null,
            "max_height": null,
            "max_width": null,
            "min_height": null,
            "min_width": null,
            "object_fit": null,
            "object_position": null,
            "order": null,
            "overflow": null,
            "overflow_x": null,
            "overflow_y": null,
            "padding": null,
            "right": null,
            "top": null,
            "visibility": null,
            "width": null
          }
        },
        "625e105c04ce4c1dbd4fef1f34d6dc6b": {
          "model_module": "@jupyter-widgets/controls",
          "model_name": "ProgressStyleModel",
          "model_module_version": "1.5.0",
          "state": {
            "_model_module": "@jupyter-widgets/controls",
            "_model_module_version": "1.5.0",
            "_model_name": "ProgressStyleModel",
            "_view_count": null,
            "_view_module": "@jupyter-widgets/base",
            "_view_module_version": "1.2.0",
            "_view_name": "StyleView",
            "bar_color": null,
            "description_width": ""
          }
        },
        "cc27b9e523904ff8947defb3fb69292c": {
          "model_module": "@jupyter-widgets/base",
          "model_name": "LayoutModel",
          "model_module_version": "1.2.0",
          "state": {
            "_model_module": "@jupyter-widgets/base",
            "_model_module_version": "1.2.0",
            "_model_name": "LayoutModel",
            "_view_count": null,
            "_view_module": "@jupyter-widgets/base",
            "_view_module_version": "1.2.0",
            "_view_name": "LayoutView",
            "align_content": null,
            "align_items": null,
            "align_self": null,
            "border": null,
            "bottom": null,
            "display": null,
            "flex": null,
            "flex_flow": null,
            "grid_area": null,
            "grid_auto_columns": null,
            "grid_auto_flow": null,
            "grid_auto_rows": null,
            "grid_column": null,
            "grid_gap": null,
            "grid_row": null,
            "grid_template_areas": null,
            "grid_template_columns": null,
            "grid_template_rows": null,
            "height": null,
            "justify_content": null,
            "justify_items": null,
            "left": null,
            "margin": null,
            "max_height": null,
            "max_width": null,
            "min_height": null,
            "min_width": null,
            "object_fit": null,
            "object_position": null,
            "order": null,
            "overflow": null,
            "overflow_x": null,
            "overflow_y": null,
            "padding": null,
            "right": null,
            "top": null,
            "visibility": null,
            "width": null
          }
        },
        "738a5d18777449089fadad1402899704": {
          "model_module": "@jupyter-widgets/controls",
          "model_name": "DescriptionStyleModel",
          "model_module_version": "1.5.0",
          "state": {
            "_model_module": "@jupyter-widgets/controls",
            "_model_module_version": "1.5.0",
            "_model_name": "DescriptionStyleModel",
            "_view_count": null,
            "_view_module": "@jupyter-widgets/base",
            "_view_module_version": "1.2.0",
            "_view_name": "StyleView",
            "description_width": ""
          }
        },
        "af07b342f56c49558b2ce2145e3d9fe2": {
          "model_module": "@jupyter-widgets/controls",
          "model_name": "HBoxModel",
          "model_module_version": "1.5.0",
          "state": {
            "_dom_classes": [],
            "_model_module": "@jupyter-widgets/controls",
            "_model_module_version": "1.5.0",
            "_model_name": "HBoxModel",
            "_view_count": null,
            "_view_module": "@jupyter-widgets/controls",
            "_view_module_version": "1.5.0",
            "_view_name": "HBoxView",
            "box_style": "",
            "children": [
              "IPY_MODEL_6ef72f4fe3e4441ebbf0294b42a9cec8",
              "IPY_MODEL_ae56ca91e0b94d1a8d25253534662afe",
              "IPY_MODEL_f839b01836974483b2ba751e33ebd182"
            ],
            "layout": "IPY_MODEL_cf6c7dd0bb0845958667c35bfd7cf0ed"
          }
        },
        "6ef72f4fe3e4441ebbf0294b42a9cec8": {
          "model_module": "@jupyter-widgets/controls",
          "model_name": "HTMLModel",
          "model_module_version": "1.5.0",
          "state": {
            "_dom_classes": [],
            "_model_module": "@jupyter-widgets/controls",
            "_model_module_version": "1.5.0",
            "_model_name": "HTMLModel",
            "_view_count": null,
            "_view_module": "@jupyter-widgets/controls",
            "_view_module_version": "1.5.0",
            "_view_name": "HTMLView",
            "description": "",
            "description_tooltip": null,
            "layout": "IPY_MODEL_51469d7f97d84fadad4c81e8aed7eb84",
            "placeholder": "​",
            "style": "IPY_MODEL_f5ba34855f264bd78d32ca63fefe132d",
            "value": "100%"
          }
        },
        "ae56ca91e0b94d1a8d25253534662afe": {
          "model_module": "@jupyter-widgets/controls",
          "model_name": "FloatProgressModel",
          "model_module_version": "1.5.0",
          "state": {
            "_dom_classes": [],
            "_model_module": "@jupyter-widgets/controls",
            "_model_module_version": "1.5.0",
            "_model_name": "FloatProgressModel",
            "_view_count": null,
            "_view_module": "@jupyter-widgets/controls",
            "_view_module_version": "1.5.0",
            "_view_name": "ProgressView",
            "bar_style": "success",
            "description": "",
            "description_tooltip": null,
            "layout": "IPY_MODEL_f117883e896a45a0a990826bda15ddbf",
            "max": 50,
            "min": 0,
            "orientation": "horizontal",
            "style": "IPY_MODEL_e54ae53a12ca47d58ab6ed3eddef3898",
            "value": 50
          }
        },
        "f839b01836974483b2ba751e33ebd182": {
          "model_module": "@jupyter-widgets/controls",
          "model_name": "HTMLModel",
          "model_module_version": "1.5.0",
          "state": {
            "_dom_classes": [],
            "_model_module": "@jupyter-widgets/controls",
            "_model_module_version": "1.5.0",
            "_model_name": "HTMLModel",
            "_view_count": null,
            "_view_module": "@jupyter-widgets/controls",
            "_view_module_version": "1.5.0",
            "_view_name": "HTMLView",
            "description": "",
            "description_tooltip": null,
            "layout": "IPY_MODEL_0af22c89fc20401fa071b7315850174c",
            "placeholder": "​",
            "style": "IPY_MODEL_2defa2817ea2457ea7f7ada6e84886f6",
            "value": " 50/50 [01:15&lt;00:00,  1.55s/it]"
          }
        },
        "cf6c7dd0bb0845958667c35bfd7cf0ed": {
          "model_module": "@jupyter-widgets/base",
          "model_name": "LayoutModel",
          "model_module_version": "1.2.0",
          "state": {
            "_model_module": "@jupyter-widgets/base",
            "_model_module_version": "1.2.0",
            "_model_name": "LayoutModel",
            "_view_count": null,
            "_view_module": "@jupyter-widgets/base",
            "_view_module_version": "1.2.0",
            "_view_name": "LayoutView",
            "align_content": null,
            "align_items": null,
            "align_self": null,
            "border": null,
            "bottom": null,
            "display": null,
            "flex": null,
            "flex_flow": null,
            "grid_area": null,
            "grid_auto_columns": null,
            "grid_auto_flow": null,
            "grid_auto_rows": null,
            "grid_column": null,
            "grid_gap": null,
            "grid_row": null,
            "grid_template_areas": null,
            "grid_template_columns": null,
            "grid_template_rows": null,
            "height": null,
            "justify_content": null,
            "justify_items": null,
            "left": null,
            "margin": null,
            "max_height": null,
            "max_width": null,
            "min_height": null,
            "min_width": null,
            "object_fit": null,
            "object_position": null,
            "order": null,
            "overflow": null,
            "overflow_x": null,
            "overflow_y": null,
            "padding": null,
            "right": null,
            "top": null,
            "visibility": null,
            "width": null
          }
        },
        "51469d7f97d84fadad4c81e8aed7eb84": {
          "model_module": "@jupyter-widgets/base",
          "model_name": "LayoutModel",
          "model_module_version": "1.2.0",
          "state": {
            "_model_module": "@jupyter-widgets/base",
            "_model_module_version": "1.2.0",
            "_model_name": "LayoutModel",
            "_view_count": null,
            "_view_module": "@jupyter-widgets/base",
            "_view_module_version": "1.2.0",
            "_view_name": "LayoutView",
            "align_content": null,
            "align_items": null,
            "align_self": null,
            "border": null,
            "bottom": null,
            "display": null,
            "flex": null,
            "flex_flow": null,
            "grid_area": null,
            "grid_auto_columns": null,
            "grid_auto_flow": null,
            "grid_auto_rows": null,
            "grid_column": null,
            "grid_gap": null,
            "grid_row": null,
            "grid_template_areas": null,
            "grid_template_columns": null,
            "grid_template_rows": null,
            "height": null,
            "justify_content": null,
            "justify_items": null,
            "left": null,
            "margin": null,
            "max_height": null,
            "max_width": null,
            "min_height": null,
            "min_width": null,
            "object_fit": null,
            "object_position": null,
            "order": null,
            "overflow": null,
            "overflow_x": null,
            "overflow_y": null,
            "padding": null,
            "right": null,
            "top": null,
            "visibility": null,
            "width": null
          }
        },
        "f5ba34855f264bd78d32ca63fefe132d": {
          "model_module": "@jupyter-widgets/controls",
          "model_name": "DescriptionStyleModel",
          "model_module_version": "1.5.0",
          "state": {
            "_model_module": "@jupyter-widgets/controls",
            "_model_module_version": "1.5.0",
            "_model_name": "DescriptionStyleModel",
            "_view_count": null,
            "_view_module": "@jupyter-widgets/base",
            "_view_module_version": "1.2.0",
            "_view_name": "StyleView",
            "description_width": ""
          }
        },
        "f117883e896a45a0a990826bda15ddbf": {
          "model_module": "@jupyter-widgets/base",
          "model_name": "LayoutModel",
          "model_module_version": "1.2.0",
          "state": {
            "_model_module": "@jupyter-widgets/base",
            "_model_module_version": "1.2.0",
            "_model_name": "LayoutModel",
            "_view_count": null,
            "_view_module": "@jupyter-widgets/base",
            "_view_module_version": "1.2.0",
            "_view_name": "LayoutView",
            "align_content": null,
            "align_items": null,
            "align_self": null,
            "border": null,
            "bottom": null,
            "display": null,
            "flex": null,
            "flex_flow": null,
            "grid_area": null,
            "grid_auto_columns": null,
            "grid_auto_flow": null,
            "grid_auto_rows": null,
            "grid_column": null,
            "grid_gap": null,
            "grid_row": null,
            "grid_template_areas": null,
            "grid_template_columns": null,
            "grid_template_rows": null,
            "height": null,
            "justify_content": null,
            "justify_items": null,
            "left": null,
            "margin": null,
            "max_height": null,
            "max_width": null,
            "min_height": null,
            "min_width": null,
            "object_fit": null,
            "object_position": null,
            "order": null,
            "overflow": null,
            "overflow_x": null,
            "overflow_y": null,
            "padding": null,
            "right": null,
            "top": null,
            "visibility": null,
            "width": null
          }
        },
        "e54ae53a12ca47d58ab6ed3eddef3898": {
          "model_module": "@jupyter-widgets/controls",
          "model_name": "ProgressStyleModel",
          "model_module_version": "1.5.0",
          "state": {
            "_model_module": "@jupyter-widgets/controls",
            "_model_module_version": "1.5.0",
            "_model_name": "ProgressStyleModel",
            "_view_count": null,
            "_view_module": "@jupyter-widgets/base",
            "_view_module_version": "1.2.0",
            "_view_name": "StyleView",
            "bar_color": null,
            "description_width": ""
          }
        },
        "0af22c89fc20401fa071b7315850174c": {
          "model_module": "@jupyter-widgets/base",
          "model_name": "LayoutModel",
          "model_module_version": "1.2.0",
          "state": {
            "_model_module": "@jupyter-widgets/base",
            "_model_module_version": "1.2.0",
            "_model_name": "LayoutModel",
            "_view_count": null,
            "_view_module": "@jupyter-widgets/base",
            "_view_module_version": "1.2.0",
            "_view_name": "LayoutView",
            "align_content": null,
            "align_items": null,
            "align_self": null,
            "border": null,
            "bottom": null,
            "display": null,
            "flex": null,
            "flex_flow": null,
            "grid_area": null,
            "grid_auto_columns": null,
            "grid_auto_flow": null,
            "grid_auto_rows": null,
            "grid_column": null,
            "grid_gap": null,
            "grid_row": null,
            "grid_template_areas": null,
            "grid_template_columns": null,
            "grid_template_rows": null,
            "height": null,
            "justify_content": null,
            "justify_items": null,
            "left": null,
            "margin": null,
            "max_height": null,
            "max_width": null,
            "min_height": null,
            "min_width": null,
            "object_fit": null,
            "object_position": null,
            "order": null,
            "overflow": null,
            "overflow_x": null,
            "overflow_y": null,
            "padding": null,
            "right": null,
            "top": null,
            "visibility": null,
            "width": null
          }
        },
        "2defa2817ea2457ea7f7ada6e84886f6": {
          "model_module": "@jupyter-widgets/controls",
          "model_name": "DescriptionStyleModel",
          "model_module_version": "1.5.0",
          "state": {
            "_model_module": "@jupyter-widgets/controls",
            "_model_module_version": "1.5.0",
            "_model_name": "DescriptionStyleModel",
            "_view_count": null,
            "_view_module": "@jupyter-widgets/base",
            "_view_module_version": "1.2.0",
            "_view_name": "StyleView",
            "description_width": ""
          }
        }
      }
    }
  },
  "cells": [
    {
      "cell_type": "markdown",
      "metadata": {
        "id": "view-in-github",
        "colab_type": "text"
      },
      "source": [
        "<a href=\"https://colab.research.google.com/github/eoooomji/home_python/blob/master/python_24_naver_movie_word_cloud_genre.ipynb\" target=\"_parent\"><img src=\"https://colab.research.google.com/assets/colab-badge.svg\" alt=\"Open In Colab\"/></a>"
      ]
    },
    {
      "cell_type": "code",
      "execution_count": null,
      "metadata": {
        "id": "2DTD-ey132oI"
      },
      "outputs": [],
      "source": [
        "!sudo apt-get install -y fonts-nanum\n",
        "!sudo fc-cache -fv\n",
        "!rm ~/.cache/matplotlib -rf"
      ]
    },
    {
      "cell_type": "code",
      "source": [
        "## 구글 드라이브 연결\n",
        "from google.colab import drive\n",
        "drive.mount('/content/drive')\n",
        "\n",
        "#  경로 변경\n",
        "%cd /content/drive/MyDrive/home_python"
      ],
      "metadata": {
        "colab": {
          "base_uri": "https://localhost:8080/"
        },
        "id": "ktqQ4fRG4dZr",
        "outputId": "e67811ca-71c9-4497-db59-31067eb32466"
      },
      "execution_count": 1,
      "outputs": [
        {
          "output_type": "stream",
          "name": "stdout",
          "text": [
            "Mounted at /content/drive\n",
            "/content/drive/MyDrive/home_python\n"
          ]
        }
      ]
    },
    {
      "cell_type": "code",
      "source": [
        "from urllib.request import urlopen\n",
        "from bs4 import BeautifulSoup\n",
        "\n",
        "import pandas as pd\n",
        "\n",
        "from tqdm import tqdm_notebook\n",
        "import re"
      ],
      "metadata": {
        "id": "DwYhxlVV4mJW"
      },
      "execution_count": 2,
      "outputs": []
    },
    {
      "cell_type": "markdown",
      "source": [
        "## Naver 영화 - 평점순 영화별 제목, 리뷰, 장르 크롤링 Crawling\n",
        "\n",
        "https://movie.naver.com/movie/sdb/rank/rmovie.naver?sel=pnt&date=20221215"
      ],
      "metadata": {
        "id": "k8pNrtR44nvh"
      }
    },
    {
      "cell_type": "markdown",
      "source": [
        "### 읽어오는 데이터의 진행률을 볼때\n",
        "\n",
        "- tqdm_notebook 사용"
      ],
      "metadata": {
        "id": "zFOHbGMJ4pqp"
      }
    },
    {
      "cell_type": "code",
      "source": [
        "story = []\n",
        "title = []\n",
        "genre = []\n",
        "\n",
        "for i in tqdm_notebook(range(1, 2)) :\n",
        "  url = 'https://movie.naver.com/movie/sdb/rank/rmovie.naver?sel=pnt&date=20221215' + str(i)\n",
        "  html = urlopen(url)\n",
        "  soup = BeautifulSoup(html, 'lxml')\n",
        "\n",
        "  #print(soup)\n",
        "  #print(type(soup))\n",
        "  #break\n",
        "\n",
        "  titles = soup.find_all('div', class_ = 'tit5') # attrs = {'class' : 'tit5'}\n",
        "  hype = []\n",
        "  href = []\n",
        "\n",
        "  try :\n",
        "    for each in titles :\n",
        "      hype = each.find_all('a')\n",
        "      for link in hype :\n",
        "        # print(link)\n",
        "        # print(type(link))\n",
        "        href.append(link['href'])\n",
        "        #break\n",
        "\n",
        "    for j in tqdm_notebook(range(len(href))) :\n",
        "      domain = 'https://movie.naver.com'\n",
        "      domain = domain + href[j]\n",
        "\n",
        "      # print(domain)\n",
        "\n",
        "      html = urlopen(domain)\n",
        "      soup = BeautifulSoup(html, 'lxml')\n",
        "\n",
        "      genre_list = soup.select('dl.info_spec dd > p > span:nth-of-type(1) > a')\n",
        "      # print(genre_list)\n",
        "      #break\n",
        "\n",
        "      genre_text = []\n",
        "\n",
        "      for i in range(len(genre_list)) :\n",
        "        genre_text.append(genre_list[i].get_text())\n",
        "      genre.append(genre_text)\n",
        "\n",
        "      # print(genre)\n",
        "\n",
        "      title_list = soup.select_one('h3.h_movie > a')\n",
        "      # print(title_list)\n",
        "\n",
        "      title.append(title_list.get_text())\n",
        "\n",
        "      story.append(soup.find('p', class_ = 'con_tx').get_text())\n",
        "  except :\n",
        "    pass\n",
        "  \n",
        "# print(title)\n",
        "# print(genre)\n",
        "# print(story)\n"
      ],
      "metadata": {
        "colab": {
          "base_uri": "https://localhost:8080/",
          "height": 266,
          "referenced_widgets": [
            "0dd1a2fdda5043e5b1bcd185d6f727ff",
            "fe33c617e90f4c908f498dc9b6a5f25e",
            "4a67f87582aa41c9a1a60989ecb3adf5",
            "1cb59aba4a0f4228bcd70eb74dff8edb",
            "da6f6aff913145e0a23c094dd084d948",
            "709fc689d75a4e9a959fe61285d4185d",
            "1f68e24027eb442c94e18ccc3c9868d3",
            "364d098822fa461da7388ec814cd29a7",
            "625e105c04ce4c1dbd4fef1f34d6dc6b",
            "cc27b9e523904ff8947defb3fb69292c",
            "738a5d18777449089fadad1402899704",
            "af07b342f56c49558b2ce2145e3d9fe2",
            "6ef72f4fe3e4441ebbf0294b42a9cec8",
            "ae56ca91e0b94d1a8d25253534662afe",
            "f839b01836974483b2ba751e33ebd182",
            "cf6c7dd0bb0845958667c35bfd7cf0ed",
            "51469d7f97d84fadad4c81e8aed7eb84",
            "f5ba34855f264bd78d32ca63fefe132d",
            "f117883e896a45a0a990826bda15ddbf",
            "e54ae53a12ca47d58ab6ed3eddef3898",
            "0af22c89fc20401fa071b7315850174c",
            "2defa2817ea2457ea7f7ada6e84886f6"
          ]
        },
        "id": "iRsgy_TO42JB",
        "outputId": "4fbb5507-c306-4dbc-95a8-cf5fde8994da"
      },
      "execution_count": 15,
      "outputs": [
        {
          "output_type": "stream",
          "name": "stderr",
          "text": [
            "<ipython-input-15-574f3b5da65d>:5: TqdmDeprecationWarning: This function will be removed in tqdm==5.0.0\n",
            "Please use `tqdm.notebook.tqdm` instead of `tqdm.tqdm_notebook`\n",
            "  for i in tqdm_notebook(range(1, 2)) :\n"
          ]
        },
        {
          "output_type": "display_data",
          "data": {
            "text/plain": [
              "  0%|          | 0/1 [00:00<?, ?it/s]"
            ],
            "application/vnd.jupyter.widget-view+json": {
              "version_major": 2,
              "version_minor": 0,
              "model_id": "0dd1a2fdda5043e5b1bcd185d6f727ff"
            }
          },
          "metadata": {}
        },
        {
          "output_type": "stream",
          "name": "stderr",
          "text": [
            "<ipython-input-15-574f3b5da65d>:26: TqdmDeprecationWarning: This function will be removed in tqdm==5.0.0\n",
            "Please use `tqdm.notebook.tqdm` instead of `tqdm.tqdm_notebook`\n",
            "  for j in tqdm_notebook(range(len(href))) :\n"
          ]
        },
        {
          "output_type": "display_data",
          "data": {
            "text/plain": [
              "  0%|          | 0/50 [00:00<?, ?it/s]"
            ],
            "application/vnd.jupyter.widget-view+json": {
              "version_major": 2,
              "version_minor": 0,
              "model_id": "af07b342f56c49558b2ce2145e3d9fe2"
            }
          },
          "metadata": {}
        },
        {
          "output_type": "stream",
          "name": "stdout",
          "text": [
            "['탑건: 매버릭', '인생은 뷰티풀: 비타돌체', '클라우스', '할머니의 먼 집', '밥정', '그린 북', '가버나움', '베일리 어게인', '원더', '아일라', '디지몬 어드벤처 라스트 에볼루션 : 인연', '극장판 바이올렛 에버가든', '당갈', '아바타 리마스터링', '먼 훗날 우리', '포드 V 페라리', '주전장', '쇼생크 탈출', '터미네이터 2:오리지널', '덕구', '클래식', '라이언 일병 구하기', '나 홀로 집에', '장민호 드라마 최종회', '그대, 고맙소 : 김호중 생애 첫 팬미팅 무비', '사이버 지옥: N번방을 무너뜨려라', '월-E', '빽 투 더 퓨쳐', '사운드 오브 뮤직', '보헤미안 랩소디', '포레스트 검프', '타이타닉', '글래디에이터', '위대한 쇼맨', '명탐정 코난: 할로윈의 신부', '인생은 아름다워', '살인의 추억', '매트릭스', '헬프', '센과 치히로의 행방불명', '태극권', '캐스트 어웨이', '가나의 혼인잔치: 언약', '토이 스토리 3', '쉰들러 리스트', '헌터 킬러', '반지의 제왕: 왕의 귀환', '죽은 시인의 사회', '히든 피겨스', '어벤져스: 엔드게임']\n",
            "[['액션'], ['공연실황', '다큐멘터리'], ['애니메이션', '코미디', '가족'], ['다큐멘터리'], ['다큐멘터리', '드라마'], ['드라마'], ['드라마'], ['모험', '코미디', '드라마'], ['드라마'], ['드라마', '전쟁'], ['애니메이션', '모험'], ['애니메이션', '드라마', '판타지'], ['드라마', '액션'], ['SF', '모험', '액션', '전쟁'], ['드라마', '멜로/로맨스'], ['액션', '드라마'], ['다큐멘터리'], ['드라마'], ['SF', '액션', '스릴러'], ['드라마'], ['멜로/로맨스', '드라마'], ['전쟁', '액션', '드라마'], ['모험', '범죄', '가족', '코미디'], ['공연실황'], ['공연실황'], ['다큐멘터리'], ['애니메이션', 'SF', '가족', '코미디', '멜로/로맨스', '모험'], ['SF', '코미디'], ['멜로/로맨스', '뮤지컬', '드라마'], ['드라마'], ['드라마', '코미디'], ['멜로/로맨스', '드라마'], ['액션', '드라마'], ['드라마', '뮤지컬'], ['애니메이션'], ['드라마', '코미디'], ['범죄', '미스터리', '스릴러', '코미디', '드라마'], ['SF', '액션'], ['드라마'], ['애니메이션', '판타지', '모험', '가족'], ['액션', '코미디'], ['드라마', '모험'], ['다큐멘터리', '드라마'], ['애니메이션', '모험', '코미디', '가족', '판타지'], ['드라마', '전쟁'], ['액션', '스릴러'], ['판타지', '모험', '액션', '전쟁'], ['드라마'], ['드라마'], ['액션', 'SF']]\n",
            "['최고의 파일럿이자 전설적인 인물 매버릭(톰 크루즈)은 자신이 졸업한 훈련학교 교관으로 발탁된다.\\r\\xa0그의 명성을 모르던 팀원들은 매버릭의 지시를 무시하지만 실전을 방불케 하는 상공 훈련에서 눈으로 봐도 믿기 힘든 전설적인 조종 실력에 모두가 압도된다.\\r\\xa0\\r\\xa0매버릭의 지휘아래 견고한 팀워크를 쌓아가던 팀원들에게 국경을 뛰어넘는 위험한 임무가 주어지자\\r\\xa0매버릭은 자신이 가르친 동료들과 함께 마지막이 될 지 모를 하늘 위 비행에 나서는데…', '언제나 화면 정 중앙에 비춰지며 스포트라이트를 한 몸에 받는 스타, ‘트바로티’ 김호중. 하지만 그가 담긴 ‘틀’의 바깥에는 구석지고 어두운, 그럼에도 불구하고 아름다운 또 다른 이야기가 있다.\\xa0\\xa0김호중의 두 번째 극장 영화 <인생은 뷰티풀: 비타돌체>는 틀 바깥으로 잘려 버린 이야기, 사람들의 시선에 갇혀 보이지 않았던 청년 김호중의 이야기, 그리고 그것에서 벗어나려는 가수 김호중의 진솔한 목소리를 전한다.\\xa0\\xa0공연 실황 다큐멘터리 <인생은 뷰티풀: 비타돌체>에서는 오직 이 영화만을 위해 무대를 꾸민 김호중 단독 공연을 최초 공개한다.  트로트 가수 김호중이라는 고정관념에서 벗어나 처음 음악에 대한 열정을 갖게 해 준 클래식 음악들로 구성되어 그의 웅장한 목소리를 생생하게 감상 할 수 있다.\\xa0\\xa0여기에 꿈 많은 스무 살, 음악에 대한 동경으로 떠났던 이탈리아를 다시 찾는 김호중의 다큐 여행기와 버스킹 공연까지 모두 담아 김호중이 그동안 전하고 싶었던 이야기들, 불안하고 가슴 아프기도 했던 속내까지 그의 인생이 <인생은 뷰티풀: 비타돌체>에 모두 담긴다.\\xa0\\xa0김호중이 들려주는 음악 이야기는 모두의 가슴에 깊은 여운과 감동을 선사할 것이다.', '편지 6천 통을 배달하라고요? 소통은커녕 싸움만 일삼는 마을에서요? 불가능해 보이는 임무에 좌절한 우체부. 그냥 포기하려던 차, 장난감 장인을 만나 아이디어가 떠오른다. 아이들에게 장난감을 줄 테니 편지를 쓰라고 하는 거야!', '아흔 셋, 나의 사랑하는 할머니가 자살을 시도했다.\\xa0\\xa0취업준비를 하며 보내던 어느 날, \\xa0나의 가족이자 오랜 친구인 할머니가 먼 곳으로 떠나려 했다는 소식을 듣게 된다. \\xa0아직 나는 할머니를 보낼 수 없어 곁에서 지키기로 했다. \\xa0\\xa0\"할머니 죽으믄 나도 못 본디 괜찮애?\"\\xa0\\xa0무서우면 할머니를 가장 먼저 찾던 아이,\\xa0할머니가 해주는 옛날 이야기를 가장 좋아하던 아이,\\xa0이제 훌쩍 자란 나는 어느새 작아진 할머니를 기억하기 위한 준비를 시작한다. \\xa0\\xa0“할머니, 내가 영화 열심히 찍을 테니까 다 보고 돌아가셔. 그 전에 돌아가시면 안돼”', '잔디, 잡초, 이끼, 나뭇가지.. 자연을 재료 삼아 요리를 만드는 방랑식객 임지호 셰프. \\xa0친어머니와 양어머니에 대한 아픈 사연을 간직한 그는 길에서 인연을 맺은 사람들에게 기꺼이 음식을 대접한다.\\xa0지리산에서 만난 김순규 할머니를 길 위의 어머니로 10년간 모시지만, 끝끝내 찾아온 3번째 이별.\\xa0임지호 셰프는 낳아주신, 길러주신, 그리고 마음을 나눠주신 3명의 어머니를 위해 3일 동안 108접시의 음식을 장만한다.\\xa0‘밥’으로 ‘정’을 나누는 인생의 참맛, 더 늦기 전에 당신과 나누고 싶습니다…', '1962년 미국, 입담과 주먹만 믿고 살아가던 토니 발레롱가(비고 모텐슨)는 교양과 우아함 그 자체인\\r\\xa0천재 피아니스트 돈 셜리(마허샬라 알리) 박사의 운전기사 면접을 보게 된다.\\r\\xa0\\r\\xa0백악관에도 초청되는 등 미국 전역에서 콘서트 요청을 받으며 명성을 떨치고 있는 돈 셜리는\\r\\xa0위험하기로 소문난 미국 남부 투어 공연을 떠나기로 결심하고,\\r\\xa0투어 기간 동안 자신의 보디가드 겸 운전기사로 토니를 고용한다.\\r\\xa0\\r\\xa0거친 인생을 살아온 토니 발레롱가와 교양과 기품을 지키며 살아온 돈 셜리 박사.\\r\\xa0생각, 행동, 말투, 취향까지 달라도 너무 다른 두 사람은\\r\\xa0그들을 위한 여행안내서 ‘그린북’에 의존해 특별한 남부 투어를 시작하는데…', '나를 세상에 태어나게 한 \\r\\xa0\"부모님을 고소하고 싶어요...\"\\r\\xa0-출생기록조차 없이 살아온 어쩌면 12살 소년 \\'자인\\'으로부터', '귀여운 소년 ‘이든’의 단짝 반려견 ‘베일리’는 행복한 생을 마감한다.\\r\\xa0하지만 눈을 떠보니 다시 시작된 견생 2회차, 아니 3회차?!\\r\\xa01등 경찰견 ‘엘리’에서 찰떡같이 마음을 알아주는 소울메이트 ‘티노’까지!\\r\\xa0다시 태어날 때마다 성별과 생김새, 직업(?)에 이름도 바뀌지만,\\r\\xa0여전히 영혼만은 사랑 충만! 애교 충만! 주인바라기 ‘베일리’\\r\\xa0\\r\\xa0어느덧 견생 4회차, 방랑견이 되어 떠돌던 ‘베일리’는\\r\\xa0마침내 자신이 돌아온 진짜 이유를 깨닫고 어딘가로 달려가기 시작하는데…', \"누구보다 위트 있고 호기심 많은 매력 부자 ‘어기'(제이콥 트렘블레이).\\xa0하지만 남들과 다른 외모로 태어난 ‘어기'는 모두가 좋아하는 크리스마스 대신 얼굴을 감출 수 있는 할로윈을 더 좋아한다.\\xa010살이 된 아들에게 더 큰 세상을 보여주고 싶었던 엄마 ‘이사벨’(줄리아 로버츠)과 아빠 ‘네이트’(오웬 윌슨)는 \\xa0‘어기'를 학교에 보낼 준비를 하고, 동생에게 모든 것을 양보해왔지만 \\xa0누구보다 그를 사랑하는 누나 ‘비아'도 ‘어기'의 첫걸음을 응원해준다.\\xa0\\xa0그렇게 가족이 세상의 전부였던 ‘어기'는 처음으로 헬멧을 벗고 낯선 세상에 용감하게 첫발을 내딛지만 \\xa0첫날부터 ‘남다른 외모'로 화제의 주인공이 되고, 사람들의 시선에 큰 상처를 받는다.\\xa0그러나 ‘어기'는 27번의 성형(?)수술을 견뎌낸 긍정적인 성격으로 다시 한번 용기를 내고, \\xa0주변 사람들도 하나둘 변하기 시작하는데...\", '1950년 한국전쟁에 파병된 ‘슐레이만’은 칠흑 같은 어둠 속 홀로 남겨진 5살 소녀를 발견한다.\\xa0전쟁과 부모를 잃은 충격 속에 말을 잃은 소녀. ‘슐레이만’은 소녀에게 터키어로 ‘달’이라는 뜻의 ‘아일라’라는 이름을 지어주고 함께 부대로 향한다. 서로에게 무엇과도 바꿀 수 없는 가장 소중한 존재가 된 두 사람. 그러나 행복도 잠시, ‘슐레이만’은 종전과 함께 고국으로 돌아가라는 명령을 받게 되고, ‘아일라’를 끝까지 지켜내기 위해 모두의 반대 속에 자신의 선택을 감행하게 되는데…\\xa0\\xa0전 세계를 감동시킨 위대한 이야기가 찾아온다!', '컴퓨터 모니터를 통해 세상 밖으로 나온 의문의 알.\\r\\xa0타이치와 히카리 남매 앞에 디지몬과의 신비롭고 운명적인 만남이 펼쳐진다.\\r\\xa0<디지몬 어드벤처 : 운명적 만남>\\r\\xa0\\r\\xa0\"우리들의 끈끈한 \\'인연\\'을 보여주자.\"\\r\\xa0대학생 타이치와 다른 \\'선택받은 아이들\\'은 모두 각자의 자리에서 저마다의 삶을 살아가고 있다.\\r\\xa0그러던 어느 날, 전 세계의 \\'선택받은 아이들\\'에게 의문의 사건이 일어나기 시작한다.\\r\\xa0에오스몬이라 불리는 디지몬에 그 원인이 있음을 알게 된 타이치 일동은 에오스몬을 제압하려 하지만 이내 아구몬을 비롯한 디지몬들의 진화에 문제가 발생하는데…\\r\\xa0세상의 이변에서 다시 한번 친구들을 구할 수 있을까?\\r\\xa0<디지몬 어드벤처 : 라스트 에볼루션 인연>', '친애하는 길베르트 소령님,\\r\\xa0오늘도 또 당신을 떠올리고 말았습니다. \\r\\xa0\\r\\xa0무엇을 보든 무엇을 하든 당신이 떠오릅니다. \\r\\xa0시간이 지나도 당신과 보냈던 기억은 선명하게 되살아납니다. \\r\\xa0\\r\\xa0당신은 날 곁에 두었고 \\r\\xa0아무것도 모르는 제게 살아가는 방법을 가르쳐 주셨고\\r\\xa0처음으로 사랑이라는 감정을 알려주셨습니다. \\r\\xa0그래서 이렇게 또 편지를 쓰게 됩니다. \\r\\xa0\\r\\xa0-언젠가 이 편지가 당신에게 닿기를 바라며-', '전직 레슬링 선수였던 ‘마하비르 싱 포갓(아미르 칸)’은 아버지의 반대로 금메달의 꿈을 이루지 못한 채 레슬링을 포기한다.\\r\\xa0아들을 통해 꿈을 이루겠다는 생각은 내리 딸만 넷이 태어나면서 좌절된다.\\r\\xa0그러던 어느 날, 두 딸이 또래 남자아이들을 신나게 때린 모습에서 잠재력을 발견하고 레슬링 특훈에 돌입한다.\\r\\xa0사람들의 따가운 시선과 조롱에도 불구하고 첫째 기타(파티마 사나 셰이크)와 둘째 바비타(산야 말호트라)는\\r\\xa0아버지의 훈련 속에 재능을 발휘, 승승장구 승리를 거두며 국가대표 레슬러로까지 성장해 마침내 국제대회에 출전하는데...', \"가까운 미래, 지구는 에너지 고갈 문제를 해결하기 위해 머나먼 행성 판도라에서 대체 자원을 채굴하기 시작한다. 하지만 판도라의 독성을 지닌 대기로 인해 자원 획득에 어려움을 겪게 된 인류는 판도라의 토착민 나비족(Na'vi)의 외형에 인간의 의식을 주입, 원격 조종이 가능한 새로운 생명체 ‘아바타’를 탄생시키는 프로그램을 개발한다.\\r\\xa0\\r\\xa0평범한 삶을 살아가던 전직 해병대원 제이크,\\r\\xa0우주의 미래가 걸린 거대한 운명이 그에게 찾아왔다!\\r\\xa0한편, 하반신이 마비된 전직 해병대원 ‘제이크 설리(샘 워싱턴)’는 ‘아바타 프로그램’에 참가할 것을 제안받아 판도라로 향한다. 그곳에서 자신의 ‘아바타’를 통해 자유롭게 걸을 수 있게 된 ‘제이크’는 자원 채굴을 막으려는 나비족(Na'vi)의 무리에 침투하라는 임무를 부여받는다. 임무 수행 중 나비족(Na'vi)의 여전사 ‘네이티리(조 샐다나)’를 만난 ‘제이크’는 그녀와 함께 다채로운 모험을 경험하면서 ‘네이티리’를 사랑하게 되고, 그들과 하나가 되어간다. 하지만 머지않아 전 우주의 운명을 결정짓는 대규모 전투가 시작되면서 ‘제이크’는 최후의 시험대에 오르게 되는데….\\r\\xa0\\r\\xa0\\r\\xa0행성 판도라와 지구의 피할 수 없는 전쟁!\\r\\xa0이 모든 운명을 손에 쥔 제이크의 선택은?\", '2007년 춘절, 귀향하는 기차에서 처음 만나 친구가 된 ‘린젠칭’(정백연)과 ‘팡샤오샤오’(주동우). 베이징에서 함께 꿈을 나누며 연인으로 발전하지만, 현실의 장벽 앞에 결국 가슴 아픈 이별을 하게 된다. 10년이 흐른 후, 두 사람은 북경행 비행기에서 운명처럼 재회하고 지난 시간들을 돌아보며 추억을 이야기하기 시작하는데…', '1960년대, 매출 감소에 빠진 ‘포드’는 판매 활로를 찾기 위해\\r\\xa0스포츠카 레이스를 장악한 절대적 1위 ‘페라리’와의 인수 합병을 추진한다.\\r\\xa0막대한 자금력에도 불구, 계약에 실패하고 엔초 페라리로부터 모욕까지 당한 헨리 포드 2세는\\r\\xa0르망 24시간 레이스에서 페라리를 박살 낼 차를 만들 것을 지시한다. \\r\\xa0\\r\\xa0불가능을 즐기는 두 남자를 주목하라!\\r\\xa0\\r\\xa0세계 3대 자동차 레이싱 대회이자 ‘지옥의 레이스’로 불리는 르망 24시간 레이스.\\r\\xa0출전 경험조차 없는 ‘포드’는 대회 6연패를 차지한 ‘페라리’에 대항하기 위해\\r\\xa0르망 레이스 우승자 출신 자동차 디자이너 ‘캐롤 셸비’(맷 데이먼)를 고용하고, \\r\\xa0그는 누구와도 타협하지 않지만 열정과 실력만큼은 최고인 \\r\\xa0레이서 ‘켄 마일스’(크리스찬 베일)를 자신의 파트너로 영입한다.\\r\\xa0\\r\\xa0포드의 경영진은 제 멋대로인 ‘켄 마일스’를 눈엣가시처럼 여기며\\r\\xa0자신들의 입맛에 맞춘 레이스를 펼치기를 강요하지만\\r\\xa0두 사람은 어떤 간섭에도 굴하지 않고 불가능을 뛰어넘기 위한 질주를 시작하는데…\\r\\xa0\\r\\xa0그 어떤 각본보다 놀라운 실화가 펼쳐진다!', '일본의 인종차별 문제를 다룬 영상을 올린 후 \\r\\xa0우익들의 공격 대상이 된 일본계 미국인 유튜버, 미키 데자키. \\r\\xa0\\r\\xa0그는 일본군’위안부’에 관한 기사를 쓴 기자가 우익들에게 인신공격 당하는 것을 보며 \\r\\xa0왜 그토록 이들이 이 문제를 감추려고 하는지 궁금해졌다.\\r\\xa0호기심을 안고 찾아간 그들은 무시무시한 이야기를 전하고 \\r\\xa0그들의 주장을 반격하는 또 다른 인물들을 만나면서 숨겨진 비밀을 발견하게 되는데… \\r\\xa0\\r\\xa0숨 쉴 틈 없는 전쟁이 시작된다!', '촉망 받던 은행 부지점장 ‘앤디(팀 로빈슨 分)’는 아내와 그 애인을 살해한 혐의로 종신형을 받고 쇼생크 교도소에 수감된다.\\r\\xa0강력범들이 수감된 이곳에서 재소자들은 짐승 취급 당하고, 혹여 간수 눈에 잘못 보였다가는 개죽음 당하기 십상이다.\\r\\xa0처음엔 적응 못하던 ‘앤디’는 교도소 내 모든 물건을 구해주는 ‘레드(모건 프리먼 分)’와 친해지며 교도소 생활에 적응하려 하지만, 악질 재소자에게 걸려 강간까지 당한다.\\r\\xa0그러던 어느 날, 간수장의 세금 면제를 도와주며 간수들의 비공식 회계사로 일하게 되고, 마침내는 소장의 검은 돈까지 관리해주게 된다.\\r\\xa0덕분에 교도소 내 도서관을 열 수 있게 되었을 무렵, 신참내기 ‘토미(길 벨로우스 分)’로부터 ‘앤디’의 무죄를 입증할 기회를 얻지만, 노튼 소장은 ‘앤디’를 독방에 가두고 ‘토미’를 무참히 죽여버리는데...', '미래, 인류와 기계의 전쟁은 계속 되는 가운데 \\r\\xa0스카이넷은 인류 저항군 사령관 존 코너를 없애기 위해\\r\\xa0액체 금속형 로봇인 T-1000을 과거의 어린 존 코너에게로 보낸다. \\r\\xa0\\r\\xa0미래의 인류 운명을 쥔 어린 존 코너. \\r\\xa0스카이넷의 T-1000은 거침없이 숨 가쁜 추격을 시작하는데…', '어린 손자와 살고 있는 일흔 살 덕구 할배는\\xa0자신에게 주어진 시간이 얼마 남지 않음을 알게 된다.\\xa0세상에 덩그러니 남겨질 두 아이들을 위해\\xa0할배는 자신을 대신할 사람을 찾아주기로 하고,\\xa0홀로 먼 길을 떠나 특별한 선물을 준비하는데..', \"같은 대학에 다니는 지혜(손예진)와 수경은 연극반 선배 상민(조인성)을 좋아한다. 하지만 호들갑스런 수경이 상민에게 보낼 편지의 대필을 부탁하고, 지혜는 수경의 이름으로 상민을 향한 자신의 감정을 고백한다. 지혜의 편지로 맺어진 수경과 상민이 가까워지면서 지혜는 괜한 죄의식에 상민을 멀리 하려 하지만, 우연하게도 자꾸만 마주치게 된다. \\r\\xa0\\r\\xa0오래 전, 사랑은 이미 시작되었다... 한편, 아빠를 일찍 여읜 지혜는 지금은 해외 여행 중인 엄마 주희와 단둘이 살다. 엄마의 빈자리를 털기 위해 다락방을 청소하던 지혜는 우연히 엄마의 비밀 상자를 발견하게 된다. 주희의 첫사랑의 기억이 고스란히 담겨있는 비밀 상자를 보면서 지혜는 엄마의 클래식한 사랑을 조금씩 알게 된다. \\r\\xa0\\r\\xa0귀를 기울이면, 그들의 안타까운 사랑이 들려온다!! 1968년 여름... 방학을 맞아 시골 삼촌댁에 간 준하(조승우)는 그곳에서 성주희(손예진)를 만나, 한눈에 그녀에게 매료된다. 그런 주희가 자신에게만 은밀하게 '귀신 나오는 집'에 동행해줄 것을 부탁해온다. 흔쾌히 수락한 준하는 흥분된 마음을 가까스로 누르며 주희와의 약속 장소에 나간다. 그런데 갑작스런 소나기를 만나 배가 떠내려가면서 귀가 시간이 늦어지고, 이 일로 주희는 집안 어른에게 심한 꾸중을 듣고 수원으로 보내진다. 작별 인사도 못하고 헤어진 주희를 향한 준하의 마음은 안타깝기만 하다. 그렇게 방학이 끝나고 학교로 돌아온 준하는 친구 태수에게 연애편지의 대필을 부탁받는데, 상대가 주희란 사실에 깜짝 놀란다. 하지만 태수에게 그 사실을 말하지 못하고, 태수의 이름으로 자신의 마음을 담아 주희에게 편지를 쓴다. 운명이 던져준 또 한번의 인연 편지를 대신 써주며 사랑이 깊어간 엄마와 자신의 묘하게도 닮은 첫사랑. 이 우연의 일치에 내심 의아해하는 지혜는 상민에 대한 생각이 더욱 깊어만 간다. 하지만 이미 친구의 연인이 되어버린 그를 포기하기로 마음먹는데...\", '1944년 6월 6일 노르망디 상륙 작전. 오마하 해변에 대기하고 있던 병사들은 한치 앞도 내다볼 수 없는 긴장된 상황과 두려움에 무기력함을 감출 수 없었다. 노르망디 해변을 응시하는 밀러 대위(Captain Miller: 톰 행크스 분) 그리고 전쟁 중 가장 어려운 임무를 수행해야할 두려움에 지친 그의 대원들. 지옥을 방불케하는 치열한 총격전이 벌어지고 수 많은 병사들이 총 한번 제대로 쏘지 못하고 쓰러져간다. 마침내 밀러 대위를 위시한 그들은 몇번의 죽을 고비를 넘기고 맡은 바 임무를 완수한다.\\xa0 같은 시각, 2차 대전이 종전으로 치닫는 치열한 전황 속에서 미 행정부는 전사자 통보 업무를 진행하던 중 충격적인 사실을 발견하게 된다. 4형제 모두 이 전쟁에 참전한 라이언 가에서 며칠간의 시차를 두고 3형제가 이미 전사하고 막내 제임스 라이언 일병(Private Ryan: 맷 데몬 분)만이 프랑스 전선에 생존해 있음을 알게 된 것이다. 네명의 아들 가운데 이미 셋을 잃은 라이언 부인을 위해 미 행정부는 막내 제임스를 구하기 위한 매우 특별한 작전을 지시한다. 결국 사령부에서 막내를 찾아 집으로 보낼 임무는 밀러에게 부여되고, 이것은 이제껏 수행했던 임무보다 훨씬 어렵고 힘든 것이었다.\\xa0 밀러는 여섯 명의 대원들과 통역병 업햄(Corporal Timothy Upham: 제레미 데이비스 분) 등 새로운 팀을 구성, 작전에 투입된다. 라이언의 행방을 찾아 최전선에 투입된 밀러와 대원들은 미군에게 접수된 마을을 지나던 중 의외로 쉽게 그를 찾아낸다. 하지만 임무 완수의 기쁨도 잠시. 그는 제임스 라이언과 성만 같은 다른 인물로 밝혀진다. 다음 날, 밀러 일행은 우연히 한 부상병을 통해 제임스 라이언이 라멜 지역의 다리를 사수하기 위해 작전에 투입됐고, 현재는 독일군 사이에 고립돼 있다는 사실을 듣게 된다.\\xa0 단 한명의 목숨을 구하기 위해 여덟 명이 위험을 감수해야할 상황에서 대원들은 과연 ‘라이언 일병 한 명의 생명이 그들 여덟 명의 생명보다 더 가치가 있는 것인가?’라는 끊임없는 혼란에 빠진다. 하지만 지휘관으로서 작전을 끝까지 책임지고 성공적으로 완수해야 할 밀러는 부하들을 설득해 다시 라이언 일병이 있다는 곳으로 향한다. 도중에 독일군과의 간헐적인 전투를 치르면서 결국 밀러 일행은 라멜 외곽지역에서 극적으로 라이언 일병을 찾아낸다. 하지만 라이언은 다리를 사수해야할 동료들을 사지에 남겨두고 혼자 돌아가는 것을 거부하는데.', '크리스마스 시즌의 시카고. 말썽꾸러기라 집안 가족들로부터 욕을 듣고 따돌림 당하는 케빈은 늘 자신은 혼자 살거라면서 가족들이 모두 없어졌으면 좋겠다고 생각한다. 자기의 치즈 피자를 먹은 형과 싸워 소동을 일으키자 엄마는 케빈을 3층 다락방으로 올려보낸다. 케빈의 가족들과 케빈의 집에 온 손님들은 다음 날에 크리스마스 연휴를 이용해 프랑스의 친척 집으로 떠날 계획이었다. \\r\\xa0그날 밤, 바람이 세차게 불어 전화선과 전기선이 끊긴다. 케빈의 가족들은 늦잠을 자게 되어 비행기 시간을 맞추기 위해 허둥대다가 그만 3층 다락방에서 잠이 든 케빈을 두고 떠난다. 잠에서 깬 케빈은 혼자 남은 것을 알고 하느님이 자신의 소원을 들어주었다고 기뻐한다. 비행기를 타고 가던 케빈의 어머니는 무엇인가 빠뜨린 기분에 고민하다가 케빈을 두고 왔음에 놀란다. 하지만 전화선이 불통이라, 어쩔 수 없다가 프랑스에 도착한 식구들은 목적지로 가고 엄마는 케빈이 걱정이 되어 집으로 돌아갈 비행기표를 사기 위해 안간힘을 쓰지만 연말연휴라 좌석이 없었다.\\r\\xa0혼자 집에 남은 케빈은 형과 누나 방을 구경하면서 즐거워한다. 그리고 노래를 부르고 트리도 만들면서 자축한다. 그런데 빈집털이 2인조 도둑이 케빈의 집을 호시탐탐 노리고 있다는 것을 알게 되는데...', '노래, 댄스, 예능은 물론 퍼포먼스까지!\\xa0만능엔터테이너이자 트로트 꽃사슴으로 불리는\\xa0아티스트 장민호의 생애 첫 단독 콘서트 실황과 무대 밖 미공개 영상\\xa0그리고 팬들을 향한 그의 진심을 담은 콘서트 무비', '2020년 대한민국을 뒤흔든 트로트계의 파바로티, ‘트바로티 김호중’과 아리스가 서로에게 전하고픈 하나의 진심을 <그대, 고맙소 : 김호중 생애 첫 팬미팅 무비>에 담아 전한다.\\r\\xa0\\r\\xa0“꼭 말해주고 싶었습니다”\\r\\xa0\\r\\xa02020년 8월, 김호중 팬미팅 현장의 열기와 기쁨, 현장에선 보지 못했던 비하인드 스토리와 미공개 무대까지 스크린에 담았다. 스크린X 오리지널 작품으로 기획 단계부터 고려된 3면 촬영 영상이 선보이는 현장보다 더 생생한 팬미팅 무비!\\r\\xa0\\r\\xa0팬미팅 현장에서 열창했던 곡들과 <그대, 고맙소 : 김호중 생애 첫 팬미팅 무비>를 위해 특별히 촬영된 미공개 무대까지 총 10곡의 무대를 선보인다. 역경을 딛고 일어나 인생역전의 아이콘이 되기까지 김호중이 느껴온 심정과 다져온 각오를 표현한 노래들을 담고 있다. 신곡과 미공개 무대들을 포함한 팬미팅 무비는 군입대 전 마지막 팬미팅 영상이자 팬들에게 전하고픈 김호중의 진심을 꾹꾹 눌러 담아 전하고 있다.', \"'N번방’ 사건을 맞닥뜨리게 된 기자, PD, 경찰 등 24명의 인터뷰를 통해 범죄의 실체를 밝혀나가는 사이버 범죄 추적 다큐멘터리\", '텅 빈 지구에 홀로 남아 수백 년이란 시간을 외롭게 일만 하며 보내던 월-E (WALL-E: Waste Allocation Load Lifter Earth-Class, 지구 폐기물 수거-처리용 로봇). 그런 그가 매력적인 탐사 로봇 ‘이브’와 마주친 순간, 잡동사니 수집만이 낙이던 인생에도 소중한 목표가 생긴다. 이브는 지구의 미래를 결정할 열쇠가 우연히 월-E의 손에 들어간 사실을 알게 되고, 고향별로 돌아갈 날만 애타게 기다리는 인간들에게 이를 보고하기 위해 서둘러 우주로 향한다. 한편 월-E는 이브를 뒤쫓아 은하를 가로지르며, 스크린 사상 가장 짜릿한 상상이 넘치는 어드벤처를 선사한다. 이제껏 꿈에서도 볼 수 없었던 미래 세계를 배경으로 우주에서 펼쳐지는 월-E의 환상적인 모험! 애완용 바퀴벌레, 용맹스럽지만 어딘가 나사가 빠진 듯한 사회 부적응 로봇 군단 등 일련의 유쾌한 캐릭터들이 여기에 동참한다.', '힐 밸리(Hill Valley)에 사는 주인공 마티 맥플라이(Marty McFly: 마이클 J. 폭스 분)는 록큰롤, 스케이트보드, 그리고 자동차를 좋아하는 명랑 쾌할한 고교생으로, 아버지 죠지(George Douglas McFly: 크리스핀 글로버 분)와 어머니 로레인(Lorraine Baines: 리아 톰슨 분), 그리고 형과 누나가 있는 가정의 평범한 청소년이다. 평소 친하게 지내던 괴상한 발명가 에메트 브라운 박사(Dr. EmmDr. Emmett L. \"Doc\" Brown: 크리스토퍼 로이드 분)가 스포츠카 드로리안(DeLorean)을 개조해 타임머신을 만들지만, 뜻밖의 사고로 브라운 박사가 테러범들에게 총을 맞고 위험해진 마티는 급기야 30년 전으로 간다.\\r\\xa0극장 간판에는 2류 배우인 로널드 레이건이 보이고 청년인 아버지와 어머니를 보게 된다. 그러나 젊은 아버진 여전히 멍청하고, 무엇보다 어머니가 미래의 아들인 마티를 좋아해 야단이다. 마티가 미래로 가는 것을 도와 줄 사람은 30년 전인 젊은 브라운 박사뿐. 댄스 파티가 열리는 날에 아버지와 어머니가 만났던 것을 기억한 마티는 두 사람을 결합시키고자 어머니와 파티장으로 간다. 그런데, 심술장이 밥(Biff Tannen: 토마스 F. 윌슨 분)이 나타나 어머니를 겁탈하려 하나 화가 난 아버지가 일격에 때려 눕혀 그때부터 소심했던 아버지의 성격이 바낀다. 무사히 부모님은 만나 마티의 존재는 없었지지 않지만 마티의 \\'미래로의 귀환(Back to the future)\\'이 어려워지는 사태를 맞는데....', '음악을 사랑하는 말괄량이 견습 수녀 ‘마리아’는 원장 수녀의 권유로 해군 명문 집안 폰 트랩가의 가정교사가 된다. ‘마리아’는 좀처럼 마음의 문을 열지 않는 폰 트랩가의 일곱 아이들에게 노래를 가르치며 점차 교감하게 되고, 엄격한 ‘폰 트랩 대령’ 역시 마음의 문을 열게 된다. 그러던 어느 날, ‘마리아’는 자신이 ‘폰 트랩 대령’을 사랑하고 있다는 사실을 깨닫게 되고, 자신만의 비밀을 간직한 채 아이들의 곁을 떠나 다시 수녀원에 들어가기로 결심하는데…', '공항에서 수하물 노동자로 일하며 음악의 꿈을 키우던 이민자 출신의 아웃사이더 ‘파록버사라’\\r\\xa0보컬을 구하던 로컬 밴드에 들어가게 되면서 ‘프레디 머큐리’라는 이름으로 밴드 ‘퀸’을 이끌게 된다.\\r\\xa0 \\r\\xa0시대를 앞서가는 독창적인 음악과 화려한 퍼포먼스로 관중들을 사로잡으며 성장하던 ‘퀸’은 \\r\\xa0라디오와 방송에서 외면을 받을 것이라는 음반사의 반대에도 불구하고 \\r\\xa0무려 6분 동안 이어지는 실험적인 곡 ‘보헤미안 랩소디’로 대성공을 거두며 월드스타 반열에 오른다.\\r\\xa0\\r\\xa0그러나 독보적인 존재감을 뿜어내던 ‘프레디 머큐리’는 솔로 데뷔라는 유혹에 흔들리게 되고\\r\\xa0결국 오랜 시간 함께 해왔던 멤버들과 결별을 선언하게 되는데…\\r\\xa0\\r\\xa0세상에서 소외된 아웃사이더에서 전설의 록밴드 ‘퀸’이 되기까지,\\r\\xa0우리가 몰랐던 그들의 진짜 이야기가 시작된다!', '불편한 다리, 남들보다 조금 떨어지는 지능을 가진 외톨이 소년 ‘포레스트 검프’ 헌신적이고 강인한 어머니의 보살핌과 콩깍지 첫사랑 소녀 ‘제니’와의 만남으로 사회의 편견과 괴롭힘 속에서도 따뜻하고 순수한 마음을 지니고 성장한다.\\r\\xa0여느 날과 같이 또래들의 괴롭힘을 피해 도망치던 포레스트는 누구보다 빠르게 달릴 수 있는 자신의 재능을 깨닫고 늘 달리는 삶을 살아간다. 포레스트의 재능을 발견한 대학에서 그를 미식축구 선수로 발탁하고, 졸업 후에도 뛰어난 신체능력으로 군에 들어가 누구도 예상치 못한 성과를 거둬 무공훈장을 수여받는 등 탄탄한 인생 가도에 오르게 된 포레스트.\\r\\xa0하지만 영원히 행복할 것만 같았던 시간도 잠시, 어머니가 병에 걸려 죽음을 맞이하고 첫사랑 제니 역시 그의 곁을 떠나가며 다시 한번 인생의 전환점을 맞이하게 되는데… 과연, 포레스트는 진정한 삶의 행복을 발견할 수 있을까?\\r\\xa0\\r\\xa0진정한 삶의 가치와 의미를 제시하는 감동 바이블!\\r\\xa0올 가을, 다시 한번 세상에서 가장 눈부신 달리기가 시작된다! “Run! Forrest Run!”', '우연한 기회로 티켓을 구해 타이타닉호에 올라탄 자유로운 영혼을 가진 화가 잭(레오나르도 디카프리오)은 \\r\\xa0막강한 재력의 약혼자와 함께 1등실에 승선한 로즈(케이트 윈슬렛)에게 한 눈에 반한다. \\r\\xa0진실한 사랑을 꿈꾸던 로즈 또한 생애 처음 황홀한 감정에 휩싸이고, 둘은 운명 같은 사랑에 빠지는데…', \"{절정기의 로마제국은 그 영토가 광대하여 아프리카 사막에서 잉글랜드 북쪽까지 걸쳐 있었다. 그 당시 세계는 그 총인구의 1/4이 로마 황제의 지배 하에 있었다. 때는 서기 180년, 마르커스 아우렐리우스(Marcus Aurelius) 황제의 12년에 걸친 게르마니아(Germania) 정벌이 거의 마무리되던 무렵이었다. 마지막 하나 남은 적의 요새만 함락하면 이제 로마 제국은 평화가 온다.}\\xa0 평화로운 '5현제 시대'가 막바지에 이른 서기 180년 로마. 어두운 삼림. 수백명의 부대가 숨을 죽이고 서 있다. 마치 폭풍전야와 같이. 장군의 신호가 울리고 거대한 함성소리와 함께 하늘에는 불화살, 불타는 점토 항아리가 난무하고, 땅위는 수많은 병사들의 피로 물든다. 철인(哲人) 황제 마르쿠스 아우렐리우스(Marcus Aurelius: 리차드 해리스 분)가 아들처럼 친애하는 장군 막시무스(General Maximus: 러셀 크로우 분)는 다뉴브 강가 전투에서 대승한다.\\xa0 죽을 날이 머지않은 황제 마르쿠스 아우렐리우스는 막시무스를 총애하여, 아들이 아닌 그에게 왕위를 넘겨주기로 한다. 그러나 황제의 아들 코모두스는 이에 질투와 분노를 느껴 급기야 황제를 살해한다. 왕좌를 이어받은 코모두스는 막시무스와 그의 가족을 죽이라고 명령한다. 가족을 모두 잃고 혼자 겨우 살아남게 된 막시무스는 노예로 전락하고, 투기장의 검투사로 매일 훈련을 받는다. 그에게 남은 건 오로지 새로 즉위한 황제 코모두스에 대한 복수 뿐. 검투사로서 매 경기마다 승리로 이끌면서 살아남자 그의 명성과 인기는 날로 높아간다.\\xa0 로마로 돌아온 그는 아내와 아들을 죽인 코모두스에 대한 복수를 다짐한다. 그러던 어느날, 오래전 사랑했던 황제의 누이 루실라(Lucilla: 코니 닐슨 분)를 다시 만나게 된다. 어느 새 민중의 영웅이 된 막시무스. 코모두스는 그가 아직 살아있음을 알고 분노하지만 민중이 두려워 그를 죽이지 못한다. 드디어 막시무스는 예전의 부하들과 은밀히 만나 사랑하는 아내와 아들, 존경하던 황제를 살해한 난폭한 황제 코모두스에 대한 복수를 결의한다. 아직도 막시무스를 사랑하고 있는 루실라는 동생 코모두스를 배신하고 막시무스의 반란을 도우려 하는데.\", '쇼 비즈니스의 창시자이자, 꿈의 무대로 전세계를 매료시킨 남자\\r\\xa0‘바넘’의 이야기에서 영감을 받아 탄생한 오리지널 뮤지컬 영화 <위대한 쇼맨>.\\r\\xa0<레미제라블> 이후 다시 뮤지컬 영화로 돌아온 휴 잭맨부터 잭 에프론, 미셸 윌리엄스, 레베카 퍼거슨, 젠다야까지\\r\\xa0할리우드 최고의 배우들이 합류해 환상적인 앙상블을 선보인다.\\r\\xa0여기에 <미녀와 야수> 제작진과 <라라랜드> 작사팀의 합류로\\r\\xa0더욱 풍성해진 비주얼과 스토리, 음악까지 선보일 <위대한 쇼맨>은\\r\\xa0‘우리는 누구나 특별하다’는 메시지로 관객들에게 재미는 물론, 감동까지 선사할 것이다.\\r\\xa0\\r\\xa0THIS IS ME! 우리는 누구나 특별하다!', '극악무도한 폭파범 ‘플라먀’에 의해 교묘한 함정에 빠진 아무로 토오루!\\r\\xa0모든 것이 베일에 가려진 ‘플라먀’,\\r\\xa0유일한 단서는 아무로 토오루가 그의 경찰 동기들과 마지막으로 함께 했던 하루.\\r\\xa0이와 동시에 결혼식의 신부가 된 경시청의 사토 형사는 불길한 예감을 감출 수 없는데…\\r\\xa0\\r\\xa0도시 전체를 인질로 삼은 ‘플라먀’,\\r\\xa0그리고 이를 막으려 하는 아무로 토오루와 명탐정 코난의 숨 막히는 공조!\\r\\xa0다시 시작된 카운트다운, 할로윈의 밤이 광란으로 빛난다!', '로마에 갓 상경한 시골 총각 ‘귀도’는 운명처럼 만난 여인 ‘도라’에게 첫눈에 반한다. \\r\\xa0넘치는 재치와 유머로 약혼자가 있던 그녀를 사로잡은 ‘귀도’는 ‘도라’와 단란한 가정을 꾸리며 분신과도 같은 아들 ‘조수아’를 얻는다. \\r\\xa0\\r\\xa0‘조수아’의 다섯 살 생일, 갑작스레 들이닥친 군인들은 ‘귀도’와 ‘조수아’를 수용소 행 기차에 실어버리고, 소식을 들은 ‘도라’ 역시 기차에 따라 오른다. ‘귀도’는 아들을 달래기 위해 무자비한 수용소 생활을 단체게임이라 속이고 1,000점을 따는 우승자에게는 진짜 탱크가 주어진다고 말한다. \\r\\xa0\\r\\xa0불안한 하루하루가 지나 어느덧 전쟁이 끝났다는 말을 들은 ‘귀도’는 마지막으로 ‘조수아’를 창고에 숨겨둔 채 아내를 찾아 나서는데…\\r\\xa0\\r\\xa0전세계를 울린 위대한 사랑, \\r\\xa0마법처럼 놀라운 이야기가 찾아온다!', '1986년 경기도. 젊은 여인이 무참히 강간, 살해당한 시체로 발견된다. 2개월 후, 비슷한 수법의 강간살인사건이 연이어 발생하면서 사건은 세간의 주목을 받기 시작하고, 일대는 연쇄살인이라는 생소한 범죄의 공포에 휩싸인다.\\xa0 사건 발생지역에 특별수사본부가 설치되고, 수사본부는 구희봉 반장(변희봉 분)을 필두로 지역토박이 형사 박두만(송강호 분)과 조용구(김뢰하 분), 그리고 서울 시경에서 자원해 온 서태윤(김상경 분)이 배치된다. 육감으로 대표되는 박두만은 동네 양아치들을 족치며 자백을 강요하고, 서태윤은 사건 서류를 꼼꼼히 검토하며 사건의 실마리를 찾아가지만, 스타일이 다른 두 사람은 처음부터 팽팽한 신경전을 벌인다. 용의자가 검거되고 사건의 끝이 보일 듯 하더니, 매스컴이 몰려든 현장 검증에서 용의자가 범행 사실을 부인하면서 현장은 아수라장이 되고, 구반장은 파면 당한다.\\xa0 수사진이 아연실색할 정도로 범인은 자신의 흔적을 남기지 않는다. 살해하거나 결박할 때도 모두 피해자가 착용했거나 사용하는 물품을 이용한다. 심지어 강간사 일 경우, 대부분 피살자의 몸에 떨어져 있기 마련인 범인의 음모 조차 단 하나도 발견되지 않는다. 후임으로 신동철 반장(송재호 분)이 부임하면서 수사는 활기를 띠기 시작한다. 박두만은 현장에 털 한 오라기 남기지 않는다는 점에 착안, 근처의 절과 목욕탕을 뒤지며 무모증인 사람을 찾아 나서고, 사건 파일을 검토하던 서태윤은 비오는 날, 빨간 옷을 입은 여자가 범행대상이라는 공통점을 밝혀낸다.\\xa0 선제공격에 나선 형사들은 비오는 밤, 여경에게 빨간 옷을 입히고 함정 수사를 벌인다. 그러나 다음날 아침 돌아오는 것은 또다른 여인의 끔찍한 사체. 사건은 해결의 실마리를 다시 감추고 냄비처럼 들끊는 언론은 일선 형사들의 무능을 지적하면서 형사들을 더욱 강박증에 몰아넣는데.', \"인간의 기억마저 AI에 의해 입력되고 삭제 되는 세상.진짜보다 더 진짜 같은 가상 현실 ‘매트릭스’\\r\\xa0그 속에서 진정한 현실을 인식할 수 없게 재배되는 인간들.\\r\\xa0그 ‘매트릭스’를 빠져 나오면서 AI에게 가장 위험한 인물이 된\\r\\xa0'모피어스’는 자신과 함께 인류를 구할 마지막 영웅 ‘그’를 찾아 헤맨다.\\r\\xa0\\r\\xa0마침내 ‘모피어스’는 낮에는 평범한 회사원으로, 밤에는 해커로 활동하는 청년 ‘네오’를 ‘그’로 지목하는데…\\r\\xa0\\r\\xa0꿈에서 깨어난 자들, \\r\\xa0이제 그들이 만드는 새로운 세상이 열린다!\", '1963년, 미국 남부 미시시피 잭슨\\xa0흑인 가정부는 백인 주인과 화장실도 같이 쓸 수 없다?!\\xa0아무도 가정부의 삶에 대해 묻지 않았다. 그녀가 책을 쓰기 전까지는…\\xa0돈 많은 남자와 결혼해 정원과 가정부가 딸린 집의 안주인이 되는 게 최고의 삶이라 여기는 친구들과 달리 대학 졸업 후 작가의 꿈을 이루기 위해 지역 신문사에 취직한 ‘스키터(엠마 스톤)’. 살림 정보 칼럼의 대필을 맡게 된 그녀는 베테랑 가정부 ‘에이빌린(바이올라 데이비스)’에게 도움을 요청한다. \\xa0다른 인생은 꿈꿔보지도 못한 채 가정부가 되어 17명의 백인 아이를 헌신적으로 돌봤지만 정작 자신의 아들은 사고로 잃은 ‘에이빌린’. ‘스키터’에게 살림 노하우를 알려주던 그녀는 어느 누구도 관심 갖지 않았던 자신과 흑인 가정부들의 인생을 책으로 써보자는 위험한 제안을 받는다. \\xa0때 마침 주인집의 화장실을 썼다는 황당한 이유로 쫓겨난 가정부 ‘미니(옥타비아 스펜서)’가 두 여자의 아슬아슬하지만 유쾌한 반란에 합류한다. 차별과 불만을 이야기 하는 것조차 불법이 되고 생명을 위협받는 일이 되는 시대에, 태어나 처음으로 누군가에게 자신들의 이야기를 털어 놓기 시작하는 ‘에이빌린’과 ‘미니’. 그녀들의 용기 있는 고백은 세상을 발칵 뒤집을 만한 책을 탄생시키는데…', '금지된 세계의 문이 열렸다! \\r\\xa0\\r\\xa0이사 가던 날, 수상한 터널을 지나자 인간에게는 금지된 신들의 세계로 오게 된 치히로..\\r\\xa0신들의 음식을 먹은 치히로의 부모님은 돼지로 변해버린다.  \\r\\xa0\\r\\xa0“걱정마, 내가 꼭 구해줄게…”\\r\\xa0\\r\\xa0겁에 질린 치히로에게 다가온 정체불명의 소년 하쿠.\\r\\xa0그의 따뜻한 말에 힘을 얻은 치히로는 인간 세계로 돌아가기 위해 사상 초유의 미션을 시작하는데…', '정치적 혼란기인 원조말. 지방을 관활하던 태감들은 폭정으로 백성을 괴롭히고 있었다. 어릴적 부터 함께 자란 군보와 천보는 무술에서도 뛰어난 실력을 발휘하게 되지만 무술대회에서 천보가 일으킨 사고로 둘은 속세로 떠난다.\\xa0 어느날 궁지에 처한 추설과 동아를 만난 인연으로 두사람은 반군 불소루 사람들과 가깝게 지내게 된다. 이후 명예욕과 권력욕에 눈멀어 관병이 된 천보는 불소루 사람들과 군보를 배신하게 되고 태감 유당의 근거지로 쳐들어가던 사람들은 결국 천보의 배신으로 목숨을 잃게되고 군보는 그 충격으로 정신 이상자가 된다. 그러나 추설의 지극한 정성과 간호로 마침내 충격과 슬픔을 극복한 군보는 자연의 신비 속에서 우주만물의 진리 태극을 깨우치게 된다.\\xa0 마침내 두 사람간의 일대 혈투가 벌어지고 천보는 결국 군보의 손에 의해 죽게된다. 한바탕 혈투가 끝난후 군보는 인간들의 싸움이 모두 그릇된 욕망에서 비롯된 것이라 깨닫고 태극권을 대대로 전수시킬 것을 결심한다. 이후 군보는 이름을 장삼풍이라 개명하고 백성으로 하여금 태극권을 익혀 심신을 수양케 할 것을 목적으로 무당산에 입산, 태극권을 전파하는데 일생을 바친다.', '세상에서 가장 바쁜 사람인양 전세계를 돌아다니며 시간에 얽매여 살아가는 남자 척 놀랜드(톰 행크스 분). ‘페덱스’의 직원인 그는 여자친구 캘리 프레어스(헬렌 헌트 분)와 깊은 사랑을 나누지만 막상 함께 할 시간은 가지지 못한다. 크리스마스 이브, 캘리와의 로맨틱한 데이트를 채 끝내지도 못한 그에게 빨리 비행기를 타라는 호출이 울리고 둘은 연말을 기약하고 헤어지게 된다.\\xa0 캘리가 선물해준 시계를 손에 꼭 쥐고 \"페덱스\" 전용 비행기에 올랐는데, 착륙하기 직전 사고가 나고, 기내는 아수라장이 된다. 그의 몸을 때리는 파도. 눈을 떠보니 완전 별세상이다. 아름다운 해변과, 무성한 나무, 높은 암벽. 아무도 살지않는 섬에 떨어진 것을 알게된 척은 그곳에서의 생존을 위해 이전의 모든 삶을 버리고 새로운 환경에 적응하며 외롭게 살아간다.\\xa0 하지만 캘리에 대한 사랑만을 마음 속에 간직한 채 그녀를 만날 수 있다는 희망을 잃지않는다. 4년후. 고립된 섬에서 1500일이나 되는 시간을 사랑으로 이겨낸 척. 어느 날, 떠내려온 알미늄판자 하나를 이용해 섬을 빠져나갈 방법을 고안해내고 자신이 갖고있는 모든 물건을 이용하여 뗏목을 만든다. 섬에 표류한지 4년만에 거친 파도를 헤치고 탈출을 감행하는데.', '우리는 소망을 잃어버렸다.\\xa0예수의 언약을 잊어버렸다.\\xa0\\xa0하지만 최근 연구를 통해\\xa0숨겨둔 언약의 비밀이 드러나게 되는데…\\xa0예수는 무엇을 약속하셨는가!\\xa0\\xa0역사를 통해 드러난 충격적인 비밀이\\xa0우리의 영성을 두드린다.\\xa0\\xa0가장 안전하고 정확하게 언약 속 비밀을 맞이하라!', '모든 장난감들이 겪는 가장 슬픈일은 바로 주인이 성장해 더이상 자신들과 놀아주지 않는 것. 우디와 버즈에게도 그 위기가 찾아온다. 앤디가 대학에 진학, 집을 떠나게 된 것.  헤어짐의 불안에 떨던 토이들은 앤디 엄마의 실수로 집을 나오게 된 이들은 우여곡절 끝에 탁아소에 기증되는 신세가 된다!  \\xa0그런데 오마이갓, 어린이집 애들 장난이 아니게 난폭하고 험하다. 그리고 상상도 못했던 거대한 음모까지 숨겨져 있는 어린이집 장난감의 세계.  그러다 앤디가 여전히 자신들을 사랑한다는 사실을 알게 된 토이 군단은 앤디 곁으로 돌아가기 위해 생애 가장 큰 모험을 결심한다. 우디를 중심으로 똘똘뭉친 토이들 과연 이들의 위대한 탈출은 성공할 것인가!', '1939년, 독일에게 점령당한 폴란드의 한 도시.\\xa0독일인 사업가이자 냉정한 기회주의자인 오스카 쉰들러는\\xa0유태인이 경영하는 그릇 공장 인수를 위해 수단과 방법을 아끼지 않는다.\\xa0인건비 없이 수백명의 유태인을 고용한 오스카 쉰들러는\\xa0우연히 유태인 회계사인 스턴과 가까워지고,\\xa0나치에 의해 참혹하게 학살되는 유태인들의 참혹한 실상을 마주하게 된다.\\xa0서서히 그의 양심이 흔들리기 시작하고,\\xa0마침내 강제 노동 수용소로부터 유태인들을 구하기로 결심한다.\\xa0그렇게 그는 자신이 구해낼 유태인 명단이 적힌 쉰들러 리스트를 만드는데…', '미 국방부는 격침당한 잠수함의 행방을 찾기 위해 \\r\\xa0‘헌터 킬러’를 극비리에 투입시키고 \\r\\xa0캡틴 ‘글래스’(제라드 버틀러)는 배후에 숨겨진 음모가 있음을 알게 된다. \\r\\xa0한편, 지상에서는 VIP가 납치되어 전세계는 초긴장 상태에 놓이게 되는데… \\r\\xa0\\r\\xa0일촉즉발 위기상황, VIP를 구출하라! \\r\\xa0단 한 척의 공격 잠수함 ‘헌터 킬러’와 \\r\\xa0최정예 특수부대 네이비 씰의 숨막히는 육해공 합동 작전이 펼쳐진다!', '모든 힘을 지배할 악의 군주 ‘사우론’의 절대반지가 깨어나고\\xa0악의 세력이 세상을 지배해가며 중간계는 대혼란에 처한다. \\xa0\\xa0호빗 ‘프로도’와 그의 친구들, 엘프 ‘레골라스’, 인간 전사 ‘아라곤’과 ‘보로미르’ \\xa0드워프 ‘김리’ 그리고 마법사 ‘간달프’로 구성된 반지원정대는 \\xa0평화를 지키기 위해 절대반지를 파괴할 유일한 방법인 \\xa0반지가 만들어진 모르도르를 향해 목숨을 건 여정을 떠난다.\\xa0\\xa0한편, 점점 세력을 넓혀온 사우론과의 피할 수 없는 전쟁을 앞둔\\xa0반지원정대는 드디어 거대한 최후의 전쟁을 시작하는데...', '미국 입시 명문고 웰튼 아카데미,\\r\\xa0공부가 인생의 전부인 학생들이\\r\\xa0아이비리그로 가기 위해 고군분투하는 곳.\\r\\xa0\\r\\xa0새로 부임한 영어 교사 ‘키팅’은\\r\\xa0자신을 선생님이 아닌 “오, 캡틴, 나의 캡틴”이라 불러도 좋다고 말하며\\r\\xa0독특한 수업 방식으로 학생들에게 충격을 안겨 준다.\\r\\xa0\\r\\xa0점차 그를 따르게 된 학생들은\\r\\xa0공부보다 중요한 인생의 의미를 하나씩 알아가고\\r\\xa0새로운 도전을 시작한다.\\r\\xa0\\r\\xa0하지만 이를 위기로 여긴 다른 어른들은\\r\\xa0이들의 용기 있는 도전을 시간 낭비와 반항으로 단정 지으며\\r\\xa0그 책임을 ‘키팅’ 선생님에게 전가하는데...', '천부적인 수학 능력의 흑인 여성 캐서린 존슨\\r\\xa0NASA 흑인 여성들의 리더이자 프로그래머 도로시 본 \\r\\xa0흑인 여성 최초의 NASA 엔지니어를 꿈 꾸는 메리 잭슨\\r\\xa0\\r\\xa0미국과 러시아의 치열한 우주 개발 경쟁으로 보이지 않는 전쟁이 벌어지고 있던\\r\\xa0시절, 천부적인 두뇌와 재능을 가진 그녀들이 NASA 최초의 우주궤도 비행 프로젝트에 선발된다.\\r\\xa0하지만, 흑인이라는 이유로 800m 떨어진 유색인종 전용 화장실을 사용해야 하고, \\r\\xa0여자라는 이유로 중요한 회의에 참석할 수 없으며, \\r\\xa0공용 커피포트 조차 용납되지 않는 따가운 시선에 점점 지쳐 간다. \\r\\xa0\\r\\xa0한편, 우주궤도 비행 프로젝트는 난항을 겪게 되고, \\r\\xa0해결방법은 오직 하나, 비전을 제시할 수 있는 새로운 수학 공식을 찾아내는 것뿐인데….\\r\\xa0\\r\\xa0천재성에는 인종이 없고, 강인함에는 남녀가 없으며, 용기에는 한계가 없다!\\r\\xa0세계를 놀라게 한 그녀들의 이야기가 시작된다', '인피니티 워 이후 절반만 살아남은 지구\\xa0마지막 희망이 된 어벤져스\\xa0먼저 떠난 그들을 위해 모든 것을 걸었다!\\xa0\\xa0위대한 어벤져스\\xa0운명을 바꿀 최후의 전쟁이 펼쳐진다!']\n"
          ]
        }
      ]
    },
    {
      "cell_type": "code",
      "source": [
        "# 줄거리 정규화 처리\n",
        "for i in range(len(story)) :\n",
        "    story[i] = re.sub( '\\{[-=+,#/\\?:^$.@*\\\"※~&%ㆍ!』\\\\‘|\\(\\)\\[\\]\\<\\>`\\'…》“”’]\\}', '', story[ i ] )\n",
        "    # select_one()와 select() 로 텍스트를 가져오면 <br>은 '\\r'로, 공백은 '\\xa0'로 가져온다.\n",
        "    story[i] = re.sub( '\\r\\xa0', '', story[ i ] )\n",
        "    \n",
        "    print(story[i])"
      ],
      "metadata": {
        "colab": {
          "base_uri": "https://localhost:8080/"
        },
        "id": "38RlpAAD7yHW",
        "outputId": "d8fd0404-b60b-45d5-9a06-62b2eaa73c45"
      },
      "execution_count": 16,
      "outputs": [
        {
          "output_type": "stream",
          "name": "stdout",
          "text": [
            "최고의 파일럿이자 전설적인 인물 매버릭(톰 크루즈)은 자신이 졸업한 훈련학교 교관으로 발탁된다.그의 명성을 모르던 팀원들은 매버릭의 지시를 무시하지만 실전을 방불케 하는 상공 훈련에서 눈으로 봐도 믿기 힘든 전설적인 조종 실력에 모두가 압도된다.매버릭의 지휘아래 견고한 팀워크를 쌓아가던 팀원들에게 국경을 뛰어넘는 위험한 임무가 주어지자매버릭은 자신이 가르친 동료들과 함께 마지막이 될 지 모를 하늘 위 비행에 나서는데…\n",
            "언제나 화면 정 중앙에 비춰지며 스포트라이트를 한 몸에 받는 스타, ‘트바로티’ 김호중. 하지만 그가 담긴 ‘틀’의 바깥에는 구석지고 어두운, 그럼에도 불구하고 아름다운 또 다른 이야기가 있다.  김호중의 두 번째 극장 영화 <인생은 뷰티풀: 비타돌체>는 틀 바깥으로 잘려 버린 이야기, 사람들의 시선에 갇혀 보이지 않았던 청년 김호중의 이야기, 그리고 그것에서 벗어나려는 가수 김호중의 진솔한 목소리를 전한다.  공연 실황 다큐멘터리 <인생은 뷰티풀: 비타돌체>에서는 오직 이 영화만을 위해 무대를 꾸민 김호중 단독 공연을 최초 공개한다.  트로트 가수 김호중이라는 고정관념에서 벗어나 처음 음악에 대한 열정을 갖게 해 준 클래식 음악들로 구성되어 그의 웅장한 목소리를 생생하게 감상 할 수 있다.  여기에 꿈 많은 스무 살, 음악에 대한 동경으로 떠났던 이탈리아를 다시 찾는 김호중의 다큐 여행기와 버스킹 공연까지 모두 담아 김호중이 그동안 전하고 싶었던 이야기들, 불안하고 가슴 아프기도 했던 속내까지 그의 인생이 <인생은 뷰티풀: 비타돌체>에 모두 담긴다.  김호중이 들려주는 음악 이야기는 모두의 가슴에 깊은 여운과 감동을 선사할 것이다.\n",
            "편지 6천 통을 배달하라고요? 소통은커녕 싸움만 일삼는 마을에서요? 불가능해 보이는 임무에 좌절한 우체부. 그냥 포기하려던 차, 장난감 장인을 만나 아이디어가 떠오른다. 아이들에게 장난감을 줄 테니 편지를 쓰라고 하는 거야!\n",
            "아흔 셋, 나의 사랑하는 할머니가 자살을 시도했다.  취업준비를 하며 보내던 어느 날,  나의 가족이자 오랜 친구인 할머니가 먼 곳으로 떠나려 했다는 소식을 듣게 된다.  아직 나는 할머니를 보낼 수 없어 곁에서 지키기로 했다.   \"할머니 죽으믄 나도 못 본디 괜찮애?\"  무서우면 할머니를 가장 먼저 찾던 아이, 할머니가 해주는 옛날 이야기를 가장 좋아하던 아이, 이제 훌쩍 자란 나는 어느새 작아진 할머니를 기억하기 위한 준비를 시작한다.   “할머니, 내가 영화 열심히 찍을 테니까 다 보고 돌아가셔. 그 전에 돌아가시면 안돼”\n",
            "잔디, 잡초, 이끼, 나뭇가지.. 자연을 재료 삼아 요리를 만드는 방랑식객 임지호 셰프.  친어머니와 양어머니에 대한 아픈 사연을 간직한 그는 길에서 인연을 맺은 사람들에게 기꺼이 음식을 대접한다. 지리산에서 만난 김순규 할머니를 길 위의 어머니로 10년간 모시지만, 끝끝내 찾아온 3번째 이별. 임지호 셰프는 낳아주신, 길러주신, 그리고 마음을 나눠주신 3명의 어머니를 위해 3일 동안 108접시의 음식을 장만한다. ‘밥’으로 ‘정’을 나누는 인생의 참맛, 더 늦기 전에 당신과 나누고 싶습니다…\n",
            "1962년 미국, 입담과 주먹만 믿고 살아가던 토니 발레롱가(비고 모텐슨)는 교양과 우아함 그 자체인천재 피아니스트 돈 셜리(마허샬라 알리) 박사의 운전기사 면접을 보게 된다.백악관에도 초청되는 등 미국 전역에서 콘서트 요청을 받으며 명성을 떨치고 있는 돈 셜리는위험하기로 소문난 미국 남부 투어 공연을 떠나기로 결심하고,투어 기간 동안 자신의 보디가드 겸 운전기사로 토니를 고용한다.거친 인생을 살아온 토니 발레롱가와 교양과 기품을 지키며 살아온 돈 셜리 박사.생각, 행동, 말투, 취향까지 달라도 너무 다른 두 사람은그들을 위한 여행안내서 ‘그린북’에 의존해 특별한 남부 투어를 시작하는데…\n",
            "나를 세상에 태어나게 한 \"부모님을 고소하고 싶어요...\"-출생기록조차 없이 살아온 어쩌면 12살 소년 '자인'으로부터\n",
            "귀여운 소년 ‘이든’의 단짝 반려견 ‘베일리’는 행복한 생을 마감한다.하지만 눈을 떠보니 다시 시작된 견생 2회차, 아니 3회차?!1등 경찰견 ‘엘리’에서 찰떡같이 마음을 알아주는 소울메이트 ‘티노’까지!다시 태어날 때마다 성별과 생김새, 직업(?)에 이름도 바뀌지만,여전히 영혼만은 사랑 충만! 애교 충만! 주인바라기 ‘베일리’어느덧 견생 4회차, 방랑견이 되어 떠돌던 ‘베일리’는마침내 자신이 돌아온 진짜 이유를 깨닫고 어딘가로 달려가기 시작하는데…\n",
            "누구보다 위트 있고 호기심 많은 매력 부자 ‘어기'(제이콥 트렘블레이). 하지만 남들과 다른 외모로 태어난 ‘어기'는 모두가 좋아하는 크리스마스 대신 얼굴을 감출 수 있는 할로윈을 더 좋아한다. 10살이 된 아들에게 더 큰 세상을 보여주고 싶었던 엄마 ‘이사벨’(줄리아 로버츠)과 아빠 ‘네이트’(오웬 윌슨)는  ‘어기'를 학교에 보낼 준비를 하고, 동생에게 모든 것을 양보해왔지만  누구보다 그를 사랑하는 누나 ‘비아'도 ‘어기'의 첫걸음을 응원해준다.  그렇게 가족이 세상의 전부였던 ‘어기'는 처음으로 헬멧을 벗고 낯선 세상에 용감하게 첫발을 내딛지만  첫날부터 ‘남다른 외모'로 화제의 주인공이 되고, 사람들의 시선에 큰 상처를 받는다. 그러나 ‘어기'는 27번의 성형(?)수술을 견뎌낸 긍정적인 성격으로 다시 한번 용기를 내고,  주변 사람들도 하나둘 변하기 시작하는데...\n",
            "1950년 한국전쟁에 파병된 ‘슐레이만’은 칠흑 같은 어둠 속 홀로 남겨진 5살 소녀를 발견한다. 전쟁과 부모를 잃은 충격 속에 말을 잃은 소녀. ‘슐레이만’은 소녀에게 터키어로 ‘달’이라는 뜻의 ‘아일라’라는 이름을 지어주고 함께 부대로 향한다. 서로에게 무엇과도 바꿀 수 없는 가장 소중한 존재가 된 두 사람. 그러나 행복도 잠시, ‘슐레이만’은 종전과 함께 고국으로 돌아가라는 명령을 받게 되고, ‘아일라’를 끝까지 지켜내기 위해 모두의 반대 속에 자신의 선택을 감행하게 되는데…  전 세계를 감동시킨 위대한 이야기가 찾아온다!\n",
            "컴퓨터 모니터를 통해 세상 밖으로 나온 의문의 알.타이치와 히카리 남매 앞에 디지몬과의 신비롭고 운명적인 만남이 펼쳐진다.<디지몬 어드벤처 : 운명적 만남>\"우리들의 끈끈한 '인연'을 보여주자.\"대학생 타이치와 다른 '선택받은 아이들'은 모두 각자의 자리에서 저마다의 삶을 살아가고 있다.그러던 어느 날, 전 세계의 '선택받은 아이들'에게 의문의 사건이 일어나기 시작한다.에오스몬이라 불리는 디지몬에 그 원인이 있음을 알게 된 타이치 일동은 에오스몬을 제압하려 하지만 이내 아구몬을 비롯한 디지몬들의 진화에 문제가 발생하는데…세상의 이변에서 다시 한번 친구들을 구할 수 있을까?<디지몬 어드벤처 : 라스트 에볼루션 인연>\n",
            "친애하는 길베르트 소령님,오늘도 또 당신을 떠올리고 말았습니다. 무엇을 보든 무엇을 하든 당신이 떠오릅니다. 시간이 지나도 당신과 보냈던 기억은 선명하게 되살아납니다. 당신은 날 곁에 두었고 아무것도 모르는 제게 살아가는 방법을 가르쳐 주셨고처음으로 사랑이라는 감정을 알려주셨습니다. 그래서 이렇게 또 편지를 쓰게 됩니다. -언젠가 이 편지가 당신에게 닿기를 바라며-\n",
            "전직 레슬링 선수였던 ‘마하비르 싱 포갓(아미르 칸)’은 아버지의 반대로 금메달의 꿈을 이루지 못한 채 레슬링을 포기한다.아들을 통해 꿈을 이루겠다는 생각은 내리 딸만 넷이 태어나면서 좌절된다.그러던 어느 날, 두 딸이 또래 남자아이들을 신나게 때린 모습에서 잠재력을 발견하고 레슬링 특훈에 돌입한다.사람들의 따가운 시선과 조롱에도 불구하고 첫째 기타(파티마 사나 셰이크)와 둘째 바비타(산야 말호트라)는아버지의 훈련 속에 재능을 발휘, 승승장구 승리를 거두며 국가대표 레슬러로까지 성장해 마침내 국제대회에 출전하는데...\n",
            "가까운 미래, 지구는 에너지 고갈 문제를 해결하기 위해 머나먼 행성 판도라에서 대체 자원을 채굴하기 시작한다. 하지만 판도라의 독성을 지닌 대기로 인해 자원 획득에 어려움을 겪게 된 인류는 판도라의 토착민 나비족(Na'vi)의 외형에 인간의 의식을 주입, 원격 조종이 가능한 새로운 생명체 ‘아바타’를 탄생시키는 프로그램을 개발한다.평범한 삶을 살아가던 전직 해병대원 제이크,우주의 미래가 걸린 거대한 운명이 그에게 찾아왔다!한편, 하반신이 마비된 전직 해병대원 ‘제이크 설리(샘 워싱턴)’는 ‘아바타 프로그램’에 참가할 것을 제안받아 판도라로 향한다. 그곳에서 자신의 ‘아바타’를 통해 자유롭게 걸을 수 있게 된 ‘제이크’는 자원 채굴을 막으려는 나비족(Na'vi)의 무리에 침투하라는 임무를 부여받는다. 임무 수행 중 나비족(Na'vi)의 여전사 ‘네이티리(조 샐다나)’를 만난 ‘제이크’는 그녀와 함께 다채로운 모험을 경험하면서 ‘네이티리’를 사랑하게 되고, 그들과 하나가 되어간다. 하지만 머지않아 전 우주의 운명을 결정짓는 대규모 전투가 시작되면서 ‘제이크’는 최후의 시험대에 오르게 되는데….행성 판도라와 지구의 피할 수 없는 전쟁!이 모든 운명을 손에 쥔 제이크의 선택은?\n",
            "2007년 춘절, 귀향하는 기차에서 처음 만나 친구가 된 ‘린젠칭’(정백연)과 ‘팡샤오샤오’(주동우). 베이징에서 함께 꿈을 나누며 연인으로 발전하지만, 현실의 장벽 앞에 결국 가슴 아픈 이별을 하게 된다. 10년이 흐른 후, 두 사람은 북경행 비행기에서 운명처럼 재회하고 지난 시간들을 돌아보며 추억을 이야기하기 시작하는데…\n",
            "1960년대, 매출 감소에 빠진 ‘포드’는 판매 활로를 찾기 위해스포츠카 레이스를 장악한 절대적 1위 ‘페라리’와의 인수 합병을 추진한다.막대한 자금력에도 불구, 계약에 실패하고 엔초 페라리로부터 모욕까지 당한 헨리 포드 2세는르망 24시간 레이스에서 페라리를 박살 낼 차를 만들 것을 지시한다. 불가능을 즐기는 두 남자를 주목하라!세계 3대 자동차 레이싱 대회이자 ‘지옥의 레이스’로 불리는 르망 24시간 레이스.출전 경험조차 없는 ‘포드’는 대회 6연패를 차지한 ‘페라리’에 대항하기 위해르망 레이스 우승자 출신 자동차 디자이너 ‘캐롤 셸비’(맷 데이먼)를 고용하고, 그는 누구와도 타협하지 않지만 열정과 실력만큼은 최고인 레이서 ‘켄 마일스’(크리스찬 베일)를 자신의 파트너로 영입한다.포드의 경영진은 제 멋대로인 ‘켄 마일스’를 눈엣가시처럼 여기며자신들의 입맛에 맞춘 레이스를 펼치기를 강요하지만두 사람은 어떤 간섭에도 굴하지 않고 불가능을 뛰어넘기 위한 질주를 시작하는데…그 어떤 각본보다 놀라운 실화가 펼쳐진다!\n",
            "일본의 인종차별 문제를 다룬 영상을 올린 후 우익들의 공격 대상이 된 일본계 미국인 유튜버, 미키 데자키. 그는 일본군’위안부’에 관한 기사를 쓴 기자가 우익들에게 인신공격 당하는 것을 보며 왜 그토록 이들이 이 문제를 감추려고 하는지 궁금해졌다.호기심을 안고 찾아간 그들은 무시무시한 이야기를 전하고 그들의 주장을 반격하는 또 다른 인물들을 만나면서 숨겨진 비밀을 발견하게 되는데… 숨 쉴 틈 없는 전쟁이 시작된다!\n",
            "촉망 받던 은행 부지점장 ‘앤디(팀 로빈슨 分)’는 아내와 그 애인을 살해한 혐의로 종신형을 받고 쇼생크 교도소에 수감된다.강력범들이 수감된 이곳에서 재소자들은 짐승 취급 당하고, 혹여 간수 눈에 잘못 보였다가는 개죽음 당하기 십상이다.처음엔 적응 못하던 ‘앤디’는 교도소 내 모든 물건을 구해주는 ‘레드(모건 프리먼 分)’와 친해지며 교도소 생활에 적응하려 하지만, 악질 재소자에게 걸려 강간까지 당한다.그러던 어느 날, 간수장의 세금 면제를 도와주며 간수들의 비공식 회계사로 일하게 되고, 마침내는 소장의 검은 돈까지 관리해주게 된다.덕분에 교도소 내 도서관을 열 수 있게 되었을 무렵, 신참내기 ‘토미(길 벨로우스 分)’로부터 ‘앤디’의 무죄를 입증할 기회를 얻지만, 노튼 소장은 ‘앤디’를 독방에 가두고 ‘토미’를 무참히 죽여버리는데...\n",
            "미래, 인류와 기계의 전쟁은 계속 되는 가운데 스카이넷은 인류 저항군 사령관 존 코너를 없애기 위해액체 금속형 로봇인 T-1000을 과거의 어린 존 코너에게로 보낸다. 미래의 인류 운명을 쥔 어린 존 코너. 스카이넷의 T-1000은 거침없이 숨 가쁜 추격을 시작하는데…\n",
            "어린 손자와 살고 있는 일흔 살 덕구 할배는 자신에게 주어진 시간이 얼마 남지 않음을 알게 된다. 세상에 덩그러니 남겨질 두 아이들을 위해 할배는 자신을 대신할 사람을 찾아주기로 하고, 홀로 먼 길을 떠나 특별한 선물을 준비하는데..\n",
            "같은 대학에 다니는 지혜(손예진)와 수경은 연극반 선배 상민(조인성)을 좋아한다. 하지만 호들갑스런 수경이 상민에게 보낼 편지의 대필을 부탁하고, 지혜는 수경의 이름으로 상민을 향한 자신의 감정을 고백한다. 지혜의 편지로 맺어진 수경과 상민이 가까워지면서 지혜는 괜한 죄의식에 상민을 멀리 하려 하지만, 우연하게도 자꾸만 마주치게 된다. 오래 전, 사랑은 이미 시작되었다... 한편, 아빠를 일찍 여읜 지혜는 지금은 해외 여행 중인 엄마 주희와 단둘이 살다. 엄마의 빈자리를 털기 위해 다락방을 청소하던 지혜는 우연히 엄마의 비밀 상자를 발견하게 된다. 주희의 첫사랑의 기억이 고스란히 담겨있는 비밀 상자를 보면서 지혜는 엄마의 클래식한 사랑을 조금씩 알게 된다. 귀를 기울이면, 그들의 안타까운 사랑이 들려온다!! 1968년 여름... 방학을 맞아 시골 삼촌댁에 간 준하(조승우)는 그곳에서 성주희(손예진)를 만나, 한눈에 그녀에게 매료된다. 그런 주희가 자신에게만 은밀하게 '귀신 나오는 집'에 동행해줄 것을 부탁해온다. 흔쾌히 수락한 준하는 흥분된 마음을 가까스로 누르며 주희와의 약속 장소에 나간다. 그런데 갑작스런 소나기를 만나 배가 떠내려가면서 귀가 시간이 늦어지고, 이 일로 주희는 집안 어른에게 심한 꾸중을 듣고 수원으로 보내진다. 작별 인사도 못하고 헤어진 주희를 향한 준하의 마음은 안타깝기만 하다. 그렇게 방학이 끝나고 학교로 돌아온 준하는 친구 태수에게 연애편지의 대필을 부탁받는데, 상대가 주희란 사실에 깜짝 놀란다. 하지만 태수에게 그 사실을 말하지 못하고, 태수의 이름으로 자신의 마음을 담아 주희에게 편지를 쓴다. 운명이 던져준 또 한번의 인연 편지를 대신 써주며 사랑이 깊어간 엄마와 자신의 묘하게도 닮은 첫사랑. 이 우연의 일치에 내심 의아해하는 지혜는 상민에 대한 생각이 더욱 깊어만 간다. 하지만 이미 친구의 연인이 되어버린 그를 포기하기로 마음먹는데...\n",
            "1944년 6월 6일 노르망디 상륙 작전. 오마하 해변에 대기하고 있던 병사들은 한치 앞도 내다볼 수 없는 긴장된 상황과 두려움에 무기력함을 감출 수 없었다. 노르망디 해변을 응시하는 밀러 대위(Captain Miller: 톰 행크스 분) 그리고 전쟁 중 가장 어려운 임무를 수행해야할 두려움에 지친 그의 대원들. 지옥을 방불케하는 치열한 총격전이 벌어지고 수 많은 병사들이 총 한번 제대로 쏘지 못하고 쓰러져간다. 마침내 밀러 대위를 위시한 그들은 몇번의 죽을 고비를 넘기고 맡은 바 임무를 완수한다.  같은 시각, 2차 대전이 종전으로 치닫는 치열한 전황 속에서 미 행정부는 전사자 통보 업무를 진행하던 중 충격적인 사실을 발견하게 된다. 4형제 모두 이 전쟁에 참전한 라이언 가에서 며칠간의 시차를 두고 3형제가 이미 전사하고 막내 제임스 라이언 일병(Private Ryan: 맷 데몬 분)만이 프랑스 전선에 생존해 있음을 알게 된 것이다. 네명의 아들 가운데 이미 셋을 잃은 라이언 부인을 위해 미 행정부는 막내 제임스를 구하기 위한 매우 특별한 작전을 지시한다. 결국 사령부에서 막내를 찾아 집으로 보낼 임무는 밀러에게 부여되고, 이것은 이제껏 수행했던 임무보다 훨씬 어렵고 힘든 것이었다.  밀러는 여섯 명의 대원들과 통역병 업햄(Corporal Timothy Upham: 제레미 데이비스 분) 등 새로운 팀을 구성, 작전에 투입된다. 라이언의 행방을 찾아 최전선에 투입된 밀러와 대원들은 미군에게 접수된 마을을 지나던 중 의외로 쉽게 그를 찾아낸다. 하지만 임무 완수의 기쁨도 잠시. 그는 제임스 라이언과 성만 같은 다른 인물로 밝혀진다. 다음 날, 밀러 일행은 우연히 한 부상병을 통해 제임스 라이언이 라멜 지역의 다리를 사수하기 위해 작전에 투입됐고, 현재는 독일군 사이에 고립돼 있다는 사실을 듣게 된다.  단 한명의 목숨을 구하기 위해 여덟 명이 위험을 감수해야할 상황에서 대원들은 과연 ‘라이언 일병 한 명의 생명이 그들 여덟 명의 생명보다 더 가치가 있는 것인가?’라는 끊임없는 혼란에 빠진다. 하지만 지휘관으로서 작전을 끝까지 책임지고 성공적으로 완수해야 할 밀러는 부하들을 설득해 다시 라이언 일병이 있다는 곳으로 향한다. 도중에 독일군과의 간헐적인 전투를 치르면서 결국 밀러 일행은 라멜 외곽지역에서 극적으로 라이언 일병을 찾아낸다. 하지만 라이언은 다리를 사수해야할 동료들을 사지에 남겨두고 혼자 돌아가는 것을 거부하는데.\n",
            "크리스마스 시즌의 시카고. 말썽꾸러기라 집안 가족들로부터 욕을 듣고 따돌림 당하는 케빈은 늘 자신은 혼자 살거라면서 가족들이 모두 없어졌으면 좋겠다고 생각한다. 자기의 치즈 피자를 먹은 형과 싸워 소동을 일으키자 엄마는 케빈을 3층 다락방으로 올려보낸다. 케빈의 가족들과 케빈의 집에 온 손님들은 다음 날에 크리스마스 연휴를 이용해 프랑스의 친척 집으로 떠날 계획이었다. 그날 밤, 바람이 세차게 불어 전화선과 전기선이 끊긴다. 케빈의 가족들은 늦잠을 자게 되어 비행기 시간을 맞추기 위해 허둥대다가 그만 3층 다락방에서 잠이 든 케빈을 두고 떠난다. 잠에서 깬 케빈은 혼자 남은 것을 알고 하느님이 자신의 소원을 들어주었다고 기뻐한다. 비행기를 타고 가던 케빈의 어머니는 무엇인가 빠뜨린 기분에 고민하다가 케빈을 두고 왔음에 놀란다. 하지만 전화선이 불통이라, 어쩔 수 없다가 프랑스에 도착한 식구들은 목적지로 가고 엄마는 케빈이 걱정이 되어 집으로 돌아갈 비행기표를 사기 위해 안간힘을 쓰지만 연말연휴라 좌석이 없었다.혼자 집에 남은 케빈은 형과 누나 방을 구경하면서 즐거워한다. 그리고 노래를 부르고 트리도 만들면서 자축한다. 그런데 빈집털이 2인조 도둑이 케빈의 집을 호시탐탐 노리고 있다는 것을 알게 되는데...\n",
            "노래, 댄스, 예능은 물론 퍼포먼스까지! 만능엔터테이너이자 트로트 꽃사슴으로 불리는 아티스트 장민호의 생애 첫 단독 콘서트 실황과 무대 밖 미공개 영상 그리고 팬들을 향한 그의 진심을 담은 콘서트 무비\n",
            "2020년 대한민국을 뒤흔든 트로트계의 파바로티, ‘트바로티 김호중’과 아리스가 서로에게 전하고픈 하나의 진심을 <그대, 고맙소 : 김호중 생애 첫 팬미팅 무비>에 담아 전한다.“꼭 말해주고 싶었습니다”2020년 8월, 김호중 팬미팅 현장의 열기와 기쁨, 현장에선 보지 못했던 비하인드 스토리와 미공개 무대까지 스크린에 담았다. 스크린X 오리지널 작품으로 기획 단계부터 고려된 3면 촬영 영상이 선보이는 현장보다 더 생생한 팬미팅 무비!팬미팅 현장에서 열창했던 곡들과 <그대, 고맙소 : 김호중 생애 첫 팬미팅 무비>를 위해 특별히 촬영된 미공개 무대까지 총 10곡의 무대를 선보인다. 역경을 딛고 일어나 인생역전의 아이콘이 되기까지 김호중이 느껴온 심정과 다져온 각오를 표현한 노래들을 담고 있다. 신곡과 미공개 무대들을 포함한 팬미팅 무비는 군입대 전 마지막 팬미팅 영상이자 팬들에게 전하고픈 김호중의 진심을 꾹꾹 눌러 담아 전하고 있다.\n",
            "'N번방’ 사건을 맞닥뜨리게 된 기자, PD, 경찰 등 24명의 인터뷰를 통해 범죄의 실체를 밝혀나가는 사이버 범죄 추적 다큐멘터리\n",
            "텅 빈 지구에 홀로 남아 수백 년이란 시간을 외롭게 일만 하며 보내던 월-E (WALL-E: Waste Allocation Load Lifter Earth-Class, 지구 폐기물 수거-처리용 로봇). 그런 그가 매력적인 탐사 로봇 ‘이브’와 마주친 순간, 잡동사니 수집만이 낙이던 인생에도 소중한 목표가 생긴다. 이브는 지구의 미래를 결정할 열쇠가 우연히 월-E의 손에 들어간 사실을 알게 되고, 고향별로 돌아갈 날만 애타게 기다리는 인간들에게 이를 보고하기 위해 서둘러 우주로 향한다. 한편 월-E는 이브를 뒤쫓아 은하를 가로지르며, 스크린 사상 가장 짜릿한 상상이 넘치는 어드벤처를 선사한다. 이제껏 꿈에서도 볼 수 없었던 미래 세계를 배경으로 우주에서 펼쳐지는 월-E의 환상적인 모험! 애완용 바퀴벌레, 용맹스럽지만 어딘가 나사가 빠진 듯한 사회 부적응 로봇 군단 등 일련의 유쾌한 캐릭터들이 여기에 동참한다.\n",
            "힐 밸리(Hill Valley)에 사는 주인공 마티 맥플라이(Marty McFly: 마이클 J. 폭스 분)는 록큰롤, 스케이트보드, 그리고 자동차를 좋아하는 명랑 쾌할한 고교생으로, 아버지 죠지(George Douglas McFly: 크리스핀 글로버 분)와 어머니 로레인(Lorraine Baines: 리아 톰슨 분), 그리고 형과 누나가 있는 가정의 평범한 청소년이다. 평소 친하게 지내던 괴상한 발명가 에메트 브라운 박사(Dr. EmmDr. Emmett L. \"Doc\" Brown: 크리스토퍼 로이드 분)가 스포츠카 드로리안(DeLorean)을 개조해 타임머신을 만들지만, 뜻밖의 사고로 브라운 박사가 테러범들에게 총을 맞고 위험해진 마티는 급기야 30년 전으로 간다.극장 간판에는 2류 배우인 로널드 레이건이 보이고 청년인 아버지와 어머니를 보게 된다. 그러나 젊은 아버진 여전히 멍청하고, 무엇보다 어머니가 미래의 아들인 마티를 좋아해 야단이다. 마티가 미래로 가는 것을 도와 줄 사람은 30년 전인 젊은 브라운 박사뿐. 댄스 파티가 열리는 날에 아버지와 어머니가 만났던 것을 기억한 마티는 두 사람을 결합시키고자 어머니와 파티장으로 간다. 그런데, 심술장이 밥(Biff Tannen: 토마스 F. 윌슨 분)이 나타나 어머니를 겁탈하려 하나 화가 난 아버지가 일격에 때려 눕혀 그때부터 소심했던 아버지의 성격이 바낀다. 무사히 부모님은 만나 마티의 존재는 없었지지 않지만 마티의 '미래로의 귀환(Back to the future)'이 어려워지는 사태를 맞는데....\n",
            "음악을 사랑하는 말괄량이 견습 수녀 ‘마리아’는 원장 수녀의 권유로 해군 명문 집안 폰 트랩가의 가정교사가 된다. ‘마리아’는 좀처럼 마음의 문을 열지 않는 폰 트랩가의 일곱 아이들에게 노래를 가르치며 점차 교감하게 되고, 엄격한 ‘폰 트랩 대령’ 역시 마음의 문을 열게 된다. 그러던 어느 날, ‘마리아’는 자신이 ‘폰 트랩 대령’을 사랑하고 있다는 사실을 깨닫게 되고, 자신만의 비밀을 간직한 채 아이들의 곁을 떠나 다시 수녀원에 들어가기로 결심하는데…\n",
            "공항에서 수하물 노동자로 일하며 음악의 꿈을 키우던 이민자 출신의 아웃사이더 ‘파록버사라’보컬을 구하던 로컬 밴드에 들어가게 되면서 ‘프레디 머큐리’라는 이름으로 밴드 ‘퀸’을 이끌게 된다. 시대를 앞서가는 독창적인 음악과 화려한 퍼포먼스로 관중들을 사로잡으며 성장하던 ‘퀸’은 라디오와 방송에서 외면을 받을 것이라는 음반사의 반대에도 불구하고 무려 6분 동안 이어지는 실험적인 곡 ‘보헤미안 랩소디’로 대성공을 거두며 월드스타 반열에 오른다.그러나 독보적인 존재감을 뿜어내던 ‘프레디 머큐리’는 솔로 데뷔라는 유혹에 흔들리게 되고결국 오랜 시간 함께 해왔던 멤버들과 결별을 선언하게 되는데…세상에서 소외된 아웃사이더에서 전설의 록밴드 ‘퀸’이 되기까지,우리가 몰랐던 그들의 진짜 이야기가 시작된다!\n",
            "불편한 다리, 남들보다 조금 떨어지는 지능을 가진 외톨이 소년 ‘포레스트 검프’ 헌신적이고 강인한 어머니의 보살핌과 콩깍지 첫사랑 소녀 ‘제니’와의 만남으로 사회의 편견과 괴롭힘 속에서도 따뜻하고 순수한 마음을 지니고 성장한다.여느 날과 같이 또래들의 괴롭힘을 피해 도망치던 포레스트는 누구보다 빠르게 달릴 수 있는 자신의 재능을 깨닫고 늘 달리는 삶을 살아간다. 포레스트의 재능을 발견한 대학에서 그를 미식축구 선수로 발탁하고, 졸업 후에도 뛰어난 신체능력으로 군에 들어가 누구도 예상치 못한 성과를 거둬 무공훈장을 수여받는 등 탄탄한 인생 가도에 오르게 된 포레스트.하지만 영원히 행복할 것만 같았던 시간도 잠시, 어머니가 병에 걸려 죽음을 맞이하고 첫사랑 제니 역시 그의 곁을 떠나가며 다시 한번 인생의 전환점을 맞이하게 되는데… 과연, 포레스트는 진정한 삶의 행복을 발견할 수 있을까?진정한 삶의 가치와 의미를 제시하는 감동 바이블!올 가을, 다시 한번 세상에서 가장 눈부신 달리기가 시작된다! “Run! Forrest Run!”\n",
            "우연한 기회로 티켓을 구해 타이타닉호에 올라탄 자유로운 영혼을 가진 화가 잭(레오나르도 디카프리오)은 막강한 재력의 약혼자와 함께 1등실에 승선한 로즈(케이트 윈슬렛)에게 한 눈에 반한다. 진실한 사랑을 꿈꾸던 로즈 또한 생애 처음 황홀한 감정에 휩싸이고, 둘은 운명 같은 사랑에 빠지는데…\n",
            "{절정기의 로마제국은 그 영토가 광대하여 아프리카 사막에서 잉글랜드 북쪽까지 걸쳐 있었다. 그 당시 세계는 그 총인구의 1/4이 로마 황제의 지배 하에 있었다. 때는 서기 180년, 마르커스 아우렐리우스(Marcus Aurelius) 황제의 12년에 걸친 게르마니아(Germania) 정벌이 거의 마무리되던 무렵이었다. 마지막 하나 남은 적의 요새만 함락하면 이제 로마 제국은 평화가 온다.}  평화로운 '5현제 시대'가 막바지에 이른 서기 180년 로마. 어두운 삼림. 수백명의 부대가 숨을 죽이고 서 있다. 마치 폭풍전야와 같이. 장군의 신호가 울리고 거대한 함성소리와 함께 하늘에는 불화살, 불타는 점토 항아리가 난무하고, 땅위는 수많은 병사들의 피로 물든다. 철인(哲人) 황제 마르쿠스 아우렐리우스(Marcus Aurelius: 리차드 해리스 분)가 아들처럼 친애하는 장군 막시무스(General Maximus: 러셀 크로우 분)는 다뉴브 강가 전투에서 대승한다.  죽을 날이 머지않은 황제 마르쿠스 아우렐리우스는 막시무스를 총애하여, 아들이 아닌 그에게 왕위를 넘겨주기로 한다. 그러나 황제의 아들 코모두스는 이에 질투와 분노를 느껴 급기야 황제를 살해한다. 왕좌를 이어받은 코모두스는 막시무스와 그의 가족을 죽이라고 명령한다. 가족을 모두 잃고 혼자 겨우 살아남게 된 막시무스는 노예로 전락하고, 투기장의 검투사로 매일 훈련을 받는다. 그에게 남은 건 오로지 새로 즉위한 황제 코모두스에 대한 복수 뿐. 검투사로서 매 경기마다 승리로 이끌면서 살아남자 그의 명성과 인기는 날로 높아간다.  로마로 돌아온 그는 아내와 아들을 죽인 코모두스에 대한 복수를 다짐한다. 그러던 어느날, 오래전 사랑했던 황제의 누이 루실라(Lucilla: 코니 닐슨 분)를 다시 만나게 된다. 어느 새 민중의 영웅이 된 막시무스. 코모두스는 그가 아직 살아있음을 알고 분노하지만 민중이 두려워 그를 죽이지 못한다. 드디어 막시무스는 예전의 부하들과 은밀히 만나 사랑하는 아내와 아들, 존경하던 황제를 살해한 난폭한 황제 코모두스에 대한 복수를 결의한다. 아직도 막시무스를 사랑하고 있는 루실라는 동생 코모두스를 배신하고 막시무스의 반란을 도우려 하는데.\n",
            "쇼 비즈니스의 창시자이자, 꿈의 무대로 전세계를 매료시킨 남자‘바넘’의 이야기에서 영감을 받아 탄생한 오리지널 뮤지컬 영화 <위대한 쇼맨>.<레미제라블> 이후 다시 뮤지컬 영화로 돌아온 휴 잭맨부터 잭 에프론, 미셸 윌리엄스, 레베카 퍼거슨, 젠다야까지할리우드 최고의 배우들이 합류해 환상적인 앙상블을 선보인다.여기에 <미녀와 야수> 제작진과 <라라랜드> 작사팀의 합류로더욱 풍성해진 비주얼과 스토리, 음악까지 선보일 <위대한 쇼맨>은‘우리는 누구나 특별하다’는 메시지로 관객들에게 재미는 물론, 감동까지 선사할 것이다.THIS IS ME! 우리는 누구나 특별하다!\n",
            "극악무도한 폭파범 ‘플라먀’에 의해 교묘한 함정에 빠진 아무로 토오루!모든 것이 베일에 가려진 ‘플라먀’,유일한 단서는 아무로 토오루가 그의 경찰 동기들과 마지막으로 함께 했던 하루.이와 동시에 결혼식의 신부가 된 경시청의 사토 형사는 불길한 예감을 감출 수 없는데…도시 전체를 인질로 삼은 ‘플라먀’,그리고 이를 막으려 하는 아무로 토오루와 명탐정 코난의 숨 막히는 공조!다시 시작된 카운트다운, 할로윈의 밤이 광란으로 빛난다!\n",
            "로마에 갓 상경한 시골 총각 ‘귀도’는 운명처럼 만난 여인 ‘도라’에게 첫눈에 반한다. 넘치는 재치와 유머로 약혼자가 있던 그녀를 사로잡은 ‘귀도’는 ‘도라’와 단란한 가정을 꾸리며 분신과도 같은 아들 ‘조수아’를 얻는다. ‘조수아’의 다섯 살 생일, 갑작스레 들이닥친 군인들은 ‘귀도’와 ‘조수아’를 수용소 행 기차에 실어버리고, 소식을 들은 ‘도라’ 역시 기차에 따라 오른다. ‘귀도’는 아들을 달래기 위해 무자비한 수용소 생활을 단체게임이라 속이고 1,000점을 따는 우승자에게는 진짜 탱크가 주어진다고 말한다. 불안한 하루하루가 지나 어느덧 전쟁이 끝났다는 말을 들은 ‘귀도’는 마지막으로 ‘조수아’를 창고에 숨겨둔 채 아내를 찾아 나서는데…전세계를 울린 위대한 사랑, 마법처럼 놀라운 이야기가 찾아온다!\n",
            "1986년 경기도. 젊은 여인이 무참히 강간, 살해당한 시체로 발견된다. 2개월 후, 비슷한 수법의 강간살인사건이 연이어 발생하면서 사건은 세간의 주목을 받기 시작하고, 일대는 연쇄살인이라는 생소한 범죄의 공포에 휩싸인다.  사건 발생지역에 특별수사본부가 설치되고, 수사본부는 구희봉 반장(변희봉 분)을 필두로 지역토박이 형사 박두만(송강호 분)과 조용구(김뢰하 분), 그리고 서울 시경에서 자원해 온 서태윤(김상경 분)이 배치된다. 육감으로 대표되는 박두만은 동네 양아치들을 족치며 자백을 강요하고, 서태윤은 사건 서류를 꼼꼼히 검토하며 사건의 실마리를 찾아가지만, 스타일이 다른 두 사람은 처음부터 팽팽한 신경전을 벌인다. 용의자가 검거되고 사건의 끝이 보일 듯 하더니, 매스컴이 몰려든 현장 검증에서 용의자가 범행 사실을 부인하면서 현장은 아수라장이 되고, 구반장은 파면 당한다.  수사진이 아연실색할 정도로 범인은 자신의 흔적을 남기지 않는다. 살해하거나 결박할 때도 모두 피해자가 착용했거나 사용하는 물품을 이용한다. 심지어 강간사 일 경우, 대부분 피살자의 몸에 떨어져 있기 마련인 범인의 음모 조차 단 하나도 발견되지 않는다. 후임으로 신동철 반장(송재호 분)이 부임하면서 수사는 활기를 띠기 시작한다. 박두만은 현장에 털 한 오라기 남기지 않는다는 점에 착안, 근처의 절과 목욕탕을 뒤지며 무모증인 사람을 찾아 나서고, 사건 파일을 검토하던 서태윤은 비오는 날, 빨간 옷을 입은 여자가 범행대상이라는 공통점을 밝혀낸다.  선제공격에 나선 형사들은 비오는 밤, 여경에게 빨간 옷을 입히고 함정 수사를 벌인다. 그러나 다음날 아침 돌아오는 것은 또다른 여인의 끔찍한 사체. 사건은 해결의 실마리를 다시 감추고 냄비처럼 들끊는 언론은 일선 형사들의 무능을 지적하면서 형사들을 더욱 강박증에 몰아넣는데.\n",
            "인간의 기억마저 AI에 의해 입력되고 삭제 되는 세상.진짜보다 더 진짜 같은 가상 현실 ‘매트릭스’그 속에서 진정한 현실을 인식할 수 없게 재배되는 인간들.그 ‘매트릭스’를 빠져 나오면서 AI에게 가장 위험한 인물이 된'모피어스’는 자신과 함께 인류를 구할 마지막 영웅 ‘그’를 찾아 헤맨다.마침내 ‘모피어스’는 낮에는 평범한 회사원으로, 밤에는 해커로 활동하는 청년 ‘네오’를 ‘그’로 지목하는데…꿈에서 깨어난 자들, 이제 그들이 만드는 새로운 세상이 열린다!\n",
            "1963년, 미국 남부 미시시피 잭슨 흑인 가정부는 백인 주인과 화장실도 같이 쓸 수 없다?! 아무도 가정부의 삶에 대해 묻지 않았다. 그녀가 책을 쓰기 전까지는… 돈 많은 남자와 결혼해 정원과 가정부가 딸린 집의 안주인이 되는 게 최고의 삶이라 여기는 친구들과 달리 대학 졸업 후 작가의 꿈을 이루기 위해 지역 신문사에 취직한 ‘스키터(엠마 스톤)’. 살림 정보 칼럼의 대필을 맡게 된 그녀는 베테랑 가정부 ‘에이빌린(바이올라 데이비스)’에게 도움을 요청한다.  다른 인생은 꿈꿔보지도 못한 채 가정부가 되어 17명의 백인 아이를 헌신적으로 돌봤지만 정작 자신의 아들은 사고로 잃은 ‘에이빌린’. ‘스키터’에게 살림 노하우를 알려주던 그녀는 어느 누구도 관심 갖지 않았던 자신과 흑인 가정부들의 인생을 책으로 써보자는 위험한 제안을 받는다.  때 마침 주인집의 화장실을 썼다는 황당한 이유로 쫓겨난 가정부 ‘미니(옥타비아 스펜서)’가 두 여자의 아슬아슬하지만 유쾌한 반란에 합류한다. 차별과 불만을 이야기 하는 것조차 불법이 되고 생명을 위협받는 일이 되는 시대에, 태어나 처음으로 누군가에게 자신들의 이야기를 털어 놓기 시작하는 ‘에이빌린’과 ‘미니’. 그녀들의 용기 있는 고백은 세상을 발칵 뒤집을 만한 책을 탄생시키는데…\n",
            "금지된 세계의 문이 열렸다! 이사 가던 날, 수상한 터널을 지나자 인간에게는 금지된 신들의 세계로 오게 된 치히로..신들의 음식을 먹은 치히로의 부모님은 돼지로 변해버린다.  “걱정마, 내가 꼭 구해줄게…”겁에 질린 치히로에게 다가온 정체불명의 소년 하쿠.그의 따뜻한 말에 힘을 얻은 치히로는 인간 세계로 돌아가기 위해 사상 초유의 미션을 시작하는데…\n",
            "정치적 혼란기인 원조말. 지방을 관활하던 태감들은 폭정으로 백성을 괴롭히고 있었다. 어릴적 부터 함께 자란 군보와 천보는 무술에서도 뛰어난 실력을 발휘하게 되지만 무술대회에서 천보가 일으킨 사고로 둘은 속세로 떠난다.  어느날 궁지에 처한 추설과 동아를 만난 인연으로 두사람은 반군 불소루 사람들과 가깝게 지내게 된다. 이후 명예욕과 권력욕에 눈멀어 관병이 된 천보는 불소루 사람들과 군보를 배신하게 되고 태감 유당의 근거지로 쳐들어가던 사람들은 결국 천보의 배신으로 목숨을 잃게되고 군보는 그 충격으로 정신 이상자가 된다. 그러나 추설의 지극한 정성과 간호로 마침내 충격과 슬픔을 극복한 군보는 자연의 신비 속에서 우주만물의 진리 태극을 깨우치게 된다.  마침내 두 사람간의 일대 혈투가 벌어지고 천보는 결국 군보의 손에 의해 죽게된다. 한바탕 혈투가 끝난후 군보는 인간들의 싸움이 모두 그릇된 욕망에서 비롯된 것이라 깨닫고 태극권을 대대로 전수시킬 것을 결심한다. 이후 군보는 이름을 장삼풍이라 개명하고 백성으로 하여금 태극권을 익혀 심신을 수양케 할 것을 목적으로 무당산에 입산, 태극권을 전파하는데 일생을 바친다.\n",
            "세상에서 가장 바쁜 사람인양 전세계를 돌아다니며 시간에 얽매여 살아가는 남자 척 놀랜드(톰 행크스 분). ‘페덱스’의 직원인 그는 여자친구 캘리 프레어스(헬렌 헌트 분)와 깊은 사랑을 나누지만 막상 함께 할 시간은 가지지 못한다. 크리스마스 이브, 캘리와의 로맨틱한 데이트를 채 끝내지도 못한 그에게 빨리 비행기를 타라는 호출이 울리고 둘은 연말을 기약하고 헤어지게 된다.  캘리가 선물해준 시계를 손에 꼭 쥐고 \"페덱스\" 전용 비행기에 올랐는데, 착륙하기 직전 사고가 나고, 기내는 아수라장이 된다. 그의 몸을 때리는 파도. 눈을 떠보니 완전 별세상이다. 아름다운 해변과, 무성한 나무, 높은 암벽. 아무도 살지않는 섬에 떨어진 것을 알게된 척은 그곳에서의 생존을 위해 이전의 모든 삶을 버리고 새로운 환경에 적응하며 외롭게 살아간다.  하지만 캘리에 대한 사랑만을 마음 속에 간직한 채 그녀를 만날 수 있다는 희망을 잃지않는다. 4년후. 고립된 섬에서 1500일이나 되는 시간을 사랑으로 이겨낸 척. 어느 날, 떠내려온 알미늄판자 하나를 이용해 섬을 빠져나갈 방법을 고안해내고 자신이 갖고있는 모든 물건을 이용하여 뗏목을 만든다. 섬에 표류한지 4년만에 거친 파도를 헤치고 탈출을 감행하는데.\n",
            "우리는 소망을 잃어버렸다. 예수의 언약을 잊어버렸다.  하지만 최근 연구를 통해 숨겨둔 언약의 비밀이 드러나게 되는데… 예수는 무엇을 약속하셨는가!  역사를 통해 드러난 충격적인 비밀이 우리의 영성을 두드린다.  가장 안전하고 정확하게 언약 속 비밀을 맞이하라!\n",
            "모든 장난감들이 겪는 가장 슬픈일은 바로 주인이 성장해 더이상 자신들과 놀아주지 않는 것. 우디와 버즈에게도 그 위기가 찾아온다. 앤디가 대학에 진학, 집을 떠나게 된 것.  헤어짐의 불안에 떨던 토이들은 앤디 엄마의 실수로 집을 나오게 된 이들은 우여곡절 끝에 탁아소에 기증되는 신세가 된다!   그런데 오마이갓, 어린이집 애들 장난이 아니게 난폭하고 험하다. 그리고 상상도 못했던 거대한 음모까지 숨겨져 있는 어린이집 장난감의 세계.  그러다 앤디가 여전히 자신들을 사랑한다는 사실을 알게 된 토이 군단은 앤디 곁으로 돌아가기 위해 생애 가장 큰 모험을 결심한다. 우디를 중심으로 똘똘뭉친 토이들 과연 이들의 위대한 탈출은 성공할 것인가!\n",
            "1939년, 독일에게 점령당한 폴란드의 한 도시. 독일인 사업가이자 냉정한 기회주의자인 오스카 쉰들러는 유태인이 경영하는 그릇 공장 인수를 위해 수단과 방법을 아끼지 않는다. 인건비 없이 수백명의 유태인을 고용한 오스카 쉰들러는 우연히 유태인 회계사인 스턴과 가까워지고, 나치에 의해 참혹하게 학살되는 유태인들의 참혹한 실상을 마주하게 된다. 서서히 그의 양심이 흔들리기 시작하고, 마침내 강제 노동 수용소로부터 유태인들을 구하기로 결심한다. 그렇게 그는 자신이 구해낼 유태인 명단이 적힌 쉰들러 리스트를 만드는데…\n",
            "미 국방부는 격침당한 잠수함의 행방을 찾기 위해 ‘헌터 킬러’를 극비리에 투입시키고 캡틴 ‘글래스’(제라드 버틀러)는 배후에 숨겨진 음모가 있음을 알게 된다. 한편, 지상에서는 VIP가 납치되어 전세계는 초긴장 상태에 놓이게 되는데… 일촉즉발 위기상황, VIP를 구출하라! 단 한 척의 공격 잠수함 ‘헌터 킬러’와 최정예 특수부대 네이비 씰의 숨막히는 육해공 합동 작전이 펼쳐진다!\n",
            "모든 힘을 지배할 악의 군주 ‘사우론’의 절대반지가 깨어나고 악의 세력이 세상을 지배해가며 중간계는 대혼란에 처한다.   호빗 ‘프로도’와 그의 친구들, 엘프 ‘레골라스’, 인간 전사 ‘아라곤’과 ‘보로미르’  드워프 ‘김리’ 그리고 마법사 ‘간달프’로 구성된 반지원정대는  평화를 지키기 위해 절대반지를 파괴할 유일한 방법인  반지가 만들어진 모르도르를 향해 목숨을 건 여정을 떠난다.  한편, 점점 세력을 넓혀온 사우론과의 피할 수 없는 전쟁을 앞둔 반지원정대는 드디어 거대한 최후의 전쟁을 시작하는데...\n",
            "미국 입시 명문고 웰튼 아카데미,공부가 인생의 전부인 학생들이아이비리그로 가기 위해 고군분투하는 곳.새로 부임한 영어 교사 ‘키팅’은자신을 선생님이 아닌 “오, 캡틴, 나의 캡틴”이라 불러도 좋다고 말하며독특한 수업 방식으로 학생들에게 충격을 안겨 준다.점차 그를 따르게 된 학생들은공부보다 중요한 인생의 의미를 하나씩 알아가고새로운 도전을 시작한다.하지만 이를 위기로 여긴 다른 어른들은이들의 용기 있는 도전을 시간 낭비와 반항으로 단정 지으며그 책임을 ‘키팅’ 선생님에게 전가하는데...\n",
            "천부적인 수학 능력의 흑인 여성 캐서린 존슨NASA 흑인 여성들의 리더이자 프로그래머 도로시 본 흑인 여성 최초의 NASA 엔지니어를 꿈 꾸는 메리 잭슨미국과 러시아의 치열한 우주 개발 경쟁으로 보이지 않는 전쟁이 벌어지고 있던시절, 천부적인 두뇌와 재능을 가진 그녀들이 NASA 최초의 우주궤도 비행 프로젝트에 선발된다.하지만, 흑인이라는 이유로 800m 떨어진 유색인종 전용 화장실을 사용해야 하고, 여자라는 이유로 중요한 회의에 참석할 수 없으며, 공용 커피포트 조차 용납되지 않는 따가운 시선에 점점 지쳐 간다. 한편, 우주궤도 비행 프로젝트는 난항을 겪게 되고, 해결방법은 오직 하나, 비전을 제시할 수 있는 새로운 수학 공식을 찾아내는 것뿐인데….천재성에는 인종이 없고, 강인함에는 남녀가 없으며, 용기에는 한계가 없다!세계를 놀라게 한 그녀들의 이야기가 시작된다\n",
            "인피니티 워 이후 절반만 살아남은 지구 마지막 희망이 된 어벤져스 먼저 떠난 그들을 위해 모든 것을 걸었다!  위대한 어벤져스 운명을 바꿀 최후의 전쟁이 펼쳐진다!\n"
          ]
        }
      ]
    },
    {
      "cell_type": "code",
      "source": [
        "print(len(title))\n",
        "print(len(genre))\n",
        "print(len(story))"
      ],
      "metadata": {
        "colab": {
          "base_uri": "https://localhost:8080/"
        },
        "id": "ZR9tBtgD90XT",
        "outputId": "b6badf74-b8a0-4542-ff39-a979f690ada5"
      },
      "execution_count": 17,
      "outputs": [
        {
          "output_type": "stream",
          "name": "stdout",
          "text": [
            "50\n",
            "50\n",
            "50\n"
          ]
        }
      ]
    },
    {
      "cell_type": "markdown",
      "source": [
        "Selenium\n",
        "- 1개 : find_element()\n",
        "- 여러개 : find_elements()\n",
        "\n",
        "BeautifulSoup\n",
        "- 요소 1개 : find()\n",
        "- 요소 여러개 : find_all()\n",
        "- select 1개 : select_one()\n",
        "- select 여러개 : select()"
      ],
      "metadata": {
        "id": "eM4gNDqZ9-YM"
      }
    },
    {
      "cell_type": "markdown",
      "source": [
        "예외 발생\n",
        "\n",
        "- try\n",
        "- except\n",
        "- else\n",
        "- finally\n",
        "- raise"
      ],
      "metadata": {
        "id": "DD4awPNB-LzF"
      }
    },
    {
      "cell_type": "markdown",
      "source": [
        "### Pandas DataFrame 생성"
      ],
      "metadata": {
        "id": "gGNj8WG9-flC"
      }
    },
    {
      "cell_type": "code",
      "source": [
        "movie = pd.DataFrame(data = {'title' : title, 'story' : story, 'genre' : genre})\n",
        "movie.shape"
      ],
      "metadata": {
        "colab": {
          "base_uri": "https://localhost:8080/"
        },
        "id": "rAnWEB6o-iFO",
        "outputId": "4c9a35f7-97e1-4091-d416-1b31ee3f47e7"
      },
      "execution_count": 21,
      "outputs": [
        {
          "output_type": "execute_result",
          "data": {
            "text/plain": [
              "(50, 3)"
            ]
          },
          "metadata": {},
          "execution_count": 21
        }
      ]
    },
    {
      "cell_type": "code",
      "source": [
        "movie.head()"
      ],
      "metadata": {
        "colab": {
          "base_uri": "https://localhost:8080/",
          "height": 337
        },
        "id": "dcN3Fz7x-rBy",
        "outputId": "fbcf4193-5554-48ff-d63a-6ae30e377afd"
      },
      "execution_count": 22,
      "outputs": [
        {
          "output_type": "execute_result",
          "data": {
            "text/plain": [
              "           title                                              story  \\\n",
              "0        탑건: 매버릭  최고의 파일럿이자 전설적인 인물 매버릭(톰 크루즈)은 자신이 졸업한 훈련학교 교관으...   \n",
              "1  인생은 뷰티풀: 비타돌체  언제나 화면 정 중앙에 비춰지며 스포트라이트를 한 몸에 받는 스타, ‘트바로티’ 김...   \n",
              "2           클라우스  편지 6천 통을 배달하라고요? 소통은커녕 싸움만 일삼는 마을에서요? 불가능해 보이는...   \n",
              "3       할머니의 먼 집  아흔 셋, 나의 사랑하는 할머니가 자살을 시도했다.  취업준비를 하며 보내던 어느 ...   \n",
              "4             밥정  잔디, 잡초, 이끼, 나뭇가지.. 자연을 재료 삼아 요리를 만드는 방랑식객 임지호 ...   \n",
              "\n",
              "              genre  \n",
              "0              [액션]  \n",
              "1     [공연실황, 다큐멘터리]  \n",
              "2  [애니메이션, 코미디, 가족]  \n",
              "3           [다큐멘터리]  \n",
              "4      [다큐멘터리, 드라마]  "
            ],
            "text/html": [
              "\n",
              "  <div id=\"df-66cabe3b-17ff-4835-a3b0-3f83b9222f77\">\n",
              "    <div class=\"colab-df-container\">\n",
              "      <div>\n",
              "<style scoped>\n",
              "    .dataframe tbody tr th:only-of-type {\n",
              "        vertical-align: middle;\n",
              "    }\n",
              "\n",
              "    .dataframe tbody tr th {\n",
              "        vertical-align: top;\n",
              "    }\n",
              "\n",
              "    .dataframe thead th {\n",
              "        text-align: right;\n",
              "    }\n",
              "</style>\n",
              "<table border=\"1\" class=\"dataframe\">\n",
              "  <thead>\n",
              "    <tr style=\"text-align: right;\">\n",
              "      <th></th>\n",
              "      <th>title</th>\n",
              "      <th>story</th>\n",
              "      <th>genre</th>\n",
              "    </tr>\n",
              "  </thead>\n",
              "  <tbody>\n",
              "    <tr>\n",
              "      <th>0</th>\n",
              "      <td>탑건: 매버릭</td>\n",
              "      <td>최고의 파일럿이자 전설적인 인물 매버릭(톰 크루즈)은 자신이 졸업한 훈련학교 교관으...</td>\n",
              "      <td>[액션]</td>\n",
              "    </tr>\n",
              "    <tr>\n",
              "      <th>1</th>\n",
              "      <td>인생은 뷰티풀: 비타돌체</td>\n",
              "      <td>언제나 화면 정 중앙에 비춰지며 스포트라이트를 한 몸에 받는 스타, ‘트바로티’ 김...</td>\n",
              "      <td>[공연실황, 다큐멘터리]</td>\n",
              "    </tr>\n",
              "    <tr>\n",
              "      <th>2</th>\n",
              "      <td>클라우스</td>\n",
              "      <td>편지 6천 통을 배달하라고요? 소통은커녕 싸움만 일삼는 마을에서요? 불가능해 보이는...</td>\n",
              "      <td>[애니메이션, 코미디, 가족]</td>\n",
              "    </tr>\n",
              "    <tr>\n",
              "      <th>3</th>\n",
              "      <td>할머니의 먼 집</td>\n",
              "      <td>아흔 셋, 나의 사랑하는 할머니가 자살을 시도했다.  취업준비를 하며 보내던 어느 ...</td>\n",
              "      <td>[다큐멘터리]</td>\n",
              "    </tr>\n",
              "    <tr>\n",
              "      <th>4</th>\n",
              "      <td>밥정</td>\n",
              "      <td>잔디, 잡초, 이끼, 나뭇가지.. 자연을 재료 삼아 요리를 만드는 방랑식객 임지호 ...</td>\n",
              "      <td>[다큐멘터리, 드라마]</td>\n",
              "    </tr>\n",
              "  </tbody>\n",
              "</table>\n",
              "</div>\n",
              "      <button class=\"colab-df-convert\" onclick=\"convertToInteractive('df-66cabe3b-17ff-4835-a3b0-3f83b9222f77')\"\n",
              "              title=\"Convert this dataframe to an interactive table.\"\n",
              "              style=\"display:none;\">\n",
              "        \n",
              "  <svg xmlns=\"http://www.w3.org/2000/svg\" height=\"24px\"viewBox=\"0 0 24 24\"\n",
              "       width=\"24px\">\n",
              "    <path d=\"M0 0h24v24H0V0z\" fill=\"none\"/>\n",
              "    <path d=\"M18.56 5.44l.94 2.06.94-2.06 2.06-.94-2.06-.94-.94-2.06-.94 2.06-2.06.94zm-11 1L8.5 8.5l.94-2.06 2.06-.94-2.06-.94L8.5 2.5l-.94 2.06-2.06.94zm10 10l.94 2.06.94-2.06 2.06-.94-2.06-.94-.94-2.06-.94 2.06-2.06.94z\"/><path d=\"M17.41 7.96l-1.37-1.37c-.4-.4-.92-.59-1.43-.59-.52 0-1.04.2-1.43.59L10.3 9.45l-7.72 7.72c-.78.78-.78 2.05 0 2.83L4 21.41c.39.39.9.59 1.41.59.51 0 1.02-.2 1.41-.59l7.78-7.78 2.81-2.81c.8-.78.8-2.07 0-2.86zM5.41 20L4 18.59l7.72-7.72 1.47 1.35L5.41 20z\"/>\n",
              "  </svg>\n",
              "      </button>\n",
              "      \n",
              "  <style>\n",
              "    .colab-df-container {\n",
              "      display:flex;\n",
              "      flex-wrap:wrap;\n",
              "      gap: 12px;\n",
              "    }\n",
              "\n",
              "    .colab-df-convert {\n",
              "      background-color: #E8F0FE;\n",
              "      border: none;\n",
              "      border-radius: 50%;\n",
              "      cursor: pointer;\n",
              "      display: none;\n",
              "      fill: #1967D2;\n",
              "      height: 32px;\n",
              "      padding: 0 0 0 0;\n",
              "      width: 32px;\n",
              "    }\n",
              "\n",
              "    .colab-df-convert:hover {\n",
              "      background-color: #E2EBFA;\n",
              "      box-shadow: 0px 1px 2px rgba(60, 64, 67, 0.3), 0px 1px 3px 1px rgba(60, 64, 67, 0.15);\n",
              "      fill: #174EA6;\n",
              "    }\n",
              "\n",
              "    [theme=dark] .colab-df-convert {\n",
              "      background-color: #3B4455;\n",
              "      fill: #D2E3FC;\n",
              "    }\n",
              "\n",
              "    [theme=dark] .colab-df-convert:hover {\n",
              "      background-color: #434B5C;\n",
              "      box-shadow: 0px 1px 3px 1px rgba(0, 0, 0, 0.15);\n",
              "      filter: drop-shadow(0px 1px 2px rgba(0, 0, 0, 0.3));\n",
              "      fill: #FFFFFF;\n",
              "    }\n",
              "  </style>\n",
              "\n",
              "      <script>\n",
              "        const buttonEl =\n",
              "          document.querySelector('#df-66cabe3b-17ff-4835-a3b0-3f83b9222f77 button.colab-df-convert');\n",
              "        buttonEl.style.display =\n",
              "          google.colab.kernel.accessAllowed ? 'block' : 'none';\n",
              "\n",
              "        async function convertToInteractive(key) {\n",
              "          const element = document.querySelector('#df-66cabe3b-17ff-4835-a3b0-3f83b9222f77');\n",
              "          const dataTable =\n",
              "            await google.colab.kernel.invokeFunction('convertToInteractive',\n",
              "                                                     [key], {});\n",
              "          if (!dataTable) return;\n",
              "\n",
              "          const docLinkHtml = 'Like what you see? Visit the ' +\n",
              "            '<a target=\"_blank\" href=https://colab.research.google.com/notebooks/data_table.ipynb>data table notebook</a>'\n",
              "            + ' to learn more about interactive tables.';\n",
              "          element.innerHTML = '';\n",
              "          dataTable['output_type'] = 'display_data';\n",
              "          await google.colab.output.renderOutput(dataTable, element);\n",
              "          const docLink = document.createElement('div');\n",
              "          docLink.innerHTML = docLinkHtml;\n",
              "          element.appendChild(docLink);\n",
              "        }\n",
              "      </script>\n",
              "    </div>\n",
              "  </div>\n",
              "  "
            ]
          },
          "metadata": {},
          "execution_count": 22
        }
      ]
    },
    {
      "cell_type": "code",
      "source": [
        "movie.tail()"
      ],
      "metadata": {
        "colab": {
          "base_uri": "https://localhost:8080/",
          "height": 337
        },
        "id": "-45Ysx2C-sfl",
        "outputId": "99f3c967-c292-4069-f498-9fa5b4066f9a"
      },
      "execution_count": 23,
      "outputs": [
        {
          "output_type": "execute_result",
          "data": {
            "text/plain": [
              "            title                                              story  \\\n",
              "45          헌터 킬러  미 국방부는 격침당한 잠수함의 행방을 찾기 위해 ‘헌터 킬러’를 극비리에 투입시키고...   \n",
              "46  반지의 제왕: 왕의 귀환  모든 힘을 지배할 악의 군주 ‘사우론’의 절대반지가 깨어나고 악의 세력이 세상을 지...   \n",
              "47      죽은 시인의 사회  미국 입시 명문고 웰튼 아카데미,공부가 인생의 전부인 학생들이아이비리그로 가기 위해...   \n",
              "48         히든 피겨스  천부적인 수학 능력의 흑인 여성 캐서린 존슨NASA 흑인 여성들의 리더이자 프로그래...   \n",
              "49     어벤져스: 엔드게임  인피니티 워 이후 절반만 살아남은 지구 마지막 희망이 된 어벤져스 먼저 떠난 그들을...   \n",
              "\n",
              "                genre  \n",
              "45          [액션, 스릴러]  \n",
              "46  [판타지, 모험, 액션, 전쟁]  \n",
              "47              [드라마]  \n",
              "48              [드라마]  \n",
              "49           [액션, SF]  "
            ],
            "text/html": [
              "\n",
              "  <div id=\"df-a8ed9ac2-1617-4e8e-a7ff-3ee30b85cc08\">\n",
              "    <div class=\"colab-df-container\">\n",
              "      <div>\n",
              "<style scoped>\n",
              "    .dataframe tbody tr th:only-of-type {\n",
              "        vertical-align: middle;\n",
              "    }\n",
              "\n",
              "    .dataframe tbody tr th {\n",
              "        vertical-align: top;\n",
              "    }\n",
              "\n",
              "    .dataframe thead th {\n",
              "        text-align: right;\n",
              "    }\n",
              "</style>\n",
              "<table border=\"1\" class=\"dataframe\">\n",
              "  <thead>\n",
              "    <tr style=\"text-align: right;\">\n",
              "      <th></th>\n",
              "      <th>title</th>\n",
              "      <th>story</th>\n",
              "      <th>genre</th>\n",
              "    </tr>\n",
              "  </thead>\n",
              "  <tbody>\n",
              "    <tr>\n",
              "      <th>45</th>\n",
              "      <td>헌터 킬러</td>\n",
              "      <td>미 국방부는 격침당한 잠수함의 행방을 찾기 위해 ‘헌터 킬러’를 극비리에 투입시키고...</td>\n",
              "      <td>[액션, 스릴러]</td>\n",
              "    </tr>\n",
              "    <tr>\n",
              "      <th>46</th>\n",
              "      <td>반지의 제왕: 왕의 귀환</td>\n",
              "      <td>모든 힘을 지배할 악의 군주 ‘사우론’의 절대반지가 깨어나고 악의 세력이 세상을 지...</td>\n",
              "      <td>[판타지, 모험, 액션, 전쟁]</td>\n",
              "    </tr>\n",
              "    <tr>\n",
              "      <th>47</th>\n",
              "      <td>죽은 시인의 사회</td>\n",
              "      <td>미국 입시 명문고 웰튼 아카데미,공부가 인생의 전부인 학생들이아이비리그로 가기 위해...</td>\n",
              "      <td>[드라마]</td>\n",
              "    </tr>\n",
              "    <tr>\n",
              "      <th>48</th>\n",
              "      <td>히든 피겨스</td>\n",
              "      <td>천부적인 수학 능력의 흑인 여성 캐서린 존슨NASA 흑인 여성들의 리더이자 프로그래...</td>\n",
              "      <td>[드라마]</td>\n",
              "    </tr>\n",
              "    <tr>\n",
              "      <th>49</th>\n",
              "      <td>어벤져스: 엔드게임</td>\n",
              "      <td>인피니티 워 이후 절반만 살아남은 지구 마지막 희망이 된 어벤져스 먼저 떠난 그들을...</td>\n",
              "      <td>[액션, SF]</td>\n",
              "    </tr>\n",
              "  </tbody>\n",
              "</table>\n",
              "</div>\n",
              "      <button class=\"colab-df-convert\" onclick=\"convertToInteractive('df-a8ed9ac2-1617-4e8e-a7ff-3ee30b85cc08')\"\n",
              "              title=\"Convert this dataframe to an interactive table.\"\n",
              "              style=\"display:none;\">\n",
              "        \n",
              "  <svg xmlns=\"http://www.w3.org/2000/svg\" height=\"24px\"viewBox=\"0 0 24 24\"\n",
              "       width=\"24px\">\n",
              "    <path d=\"M0 0h24v24H0V0z\" fill=\"none\"/>\n",
              "    <path d=\"M18.56 5.44l.94 2.06.94-2.06 2.06-.94-2.06-.94-.94-2.06-.94 2.06-2.06.94zm-11 1L8.5 8.5l.94-2.06 2.06-.94-2.06-.94L8.5 2.5l-.94 2.06-2.06.94zm10 10l.94 2.06.94-2.06 2.06-.94-2.06-.94-.94-2.06-.94 2.06-2.06.94z\"/><path d=\"M17.41 7.96l-1.37-1.37c-.4-.4-.92-.59-1.43-.59-.52 0-1.04.2-1.43.59L10.3 9.45l-7.72 7.72c-.78.78-.78 2.05 0 2.83L4 21.41c.39.39.9.59 1.41.59.51 0 1.02-.2 1.41-.59l7.78-7.78 2.81-2.81c.8-.78.8-2.07 0-2.86zM5.41 20L4 18.59l7.72-7.72 1.47 1.35L5.41 20z\"/>\n",
              "  </svg>\n",
              "      </button>\n",
              "      \n",
              "  <style>\n",
              "    .colab-df-container {\n",
              "      display:flex;\n",
              "      flex-wrap:wrap;\n",
              "      gap: 12px;\n",
              "    }\n",
              "\n",
              "    .colab-df-convert {\n",
              "      background-color: #E8F0FE;\n",
              "      border: none;\n",
              "      border-radius: 50%;\n",
              "      cursor: pointer;\n",
              "      display: none;\n",
              "      fill: #1967D2;\n",
              "      height: 32px;\n",
              "      padding: 0 0 0 0;\n",
              "      width: 32px;\n",
              "    }\n",
              "\n",
              "    .colab-df-convert:hover {\n",
              "      background-color: #E2EBFA;\n",
              "      box-shadow: 0px 1px 2px rgba(60, 64, 67, 0.3), 0px 1px 3px 1px rgba(60, 64, 67, 0.15);\n",
              "      fill: #174EA6;\n",
              "    }\n",
              "\n",
              "    [theme=dark] .colab-df-convert {\n",
              "      background-color: #3B4455;\n",
              "      fill: #D2E3FC;\n",
              "    }\n",
              "\n",
              "    [theme=dark] .colab-df-convert:hover {\n",
              "      background-color: #434B5C;\n",
              "      box-shadow: 0px 1px 3px 1px rgba(0, 0, 0, 0.15);\n",
              "      filter: drop-shadow(0px 1px 2px rgba(0, 0, 0, 0.3));\n",
              "      fill: #FFFFFF;\n",
              "    }\n",
              "  </style>\n",
              "\n",
              "      <script>\n",
              "        const buttonEl =\n",
              "          document.querySelector('#df-a8ed9ac2-1617-4e8e-a7ff-3ee30b85cc08 button.colab-df-convert');\n",
              "        buttonEl.style.display =\n",
              "          google.colab.kernel.accessAllowed ? 'block' : 'none';\n",
              "\n",
              "        async function convertToInteractive(key) {\n",
              "          const element = document.querySelector('#df-a8ed9ac2-1617-4e8e-a7ff-3ee30b85cc08');\n",
              "          const dataTable =\n",
              "            await google.colab.kernel.invokeFunction('convertToInteractive',\n",
              "                                                     [key], {});\n",
              "          if (!dataTable) return;\n",
              "\n",
              "          const docLinkHtml = 'Like what you see? Visit the ' +\n",
              "            '<a target=\"_blank\" href=https://colab.research.google.com/notebooks/data_table.ipynb>data table notebook</a>'\n",
              "            + ' to learn more about interactive tables.';\n",
              "          element.innerHTML = '';\n",
              "          dataTable['output_type'] = 'display_data';\n",
              "          await google.colab.output.renderOutput(dataTable, element);\n",
              "          const docLink = document.createElement('div');\n",
              "          docLink.innerHTML = docLinkHtml;\n",
              "          element.appendChild(docLink);\n",
              "        }\n",
              "      </script>\n",
              "    </div>\n",
              "  </div>\n",
              "  "
            ]
          },
          "metadata": {},
          "execution_count": 23
        }
      ]
    },
    {
      "cell_type": "code",
      "source": [
        "import numpy as np\n",
        "\n",
        "genre_list = np.concatenate(movie['genre']).tolist()\n",
        "print(genre_list) # list 중복값 o\n",
        "\n",
        "genres_list = set(genre_list)\n",
        "print(genres_list) # set 중복값 x"
      ],
      "metadata": {
        "colab": {
          "base_uri": "https://localhost:8080/"
        },
        "id": "IkeNq9N8-ue0",
        "outputId": "9a43a8d7-e3a5-4d92-f0e3-5f882bcb3c7f"
      },
      "execution_count": 26,
      "outputs": [
        {
          "output_type": "stream",
          "name": "stdout",
          "text": [
            "['액션', '공연실황', '다큐멘터리', '애니메이션', '코미디', '가족', '다큐멘터리', '다큐멘터리', '드라마', '드라마', '드라마', '모험', '코미디', '드라마', '드라마', '드라마', '전쟁', '애니메이션', '모험', '애니메이션', '드라마', '판타지', '드라마', '액션', 'SF', '모험', '액션', '전쟁', '드라마', '멜로/로맨스', '액션', '드라마', '다큐멘터리', '드라마', 'SF', '액션', '스릴러', '드라마', '멜로/로맨스', '드라마', '전쟁', '액션', '드라마', '모험', '범죄', '가족', '코미디', '공연실황', '공연실황', '다큐멘터리', '애니메이션', 'SF', '가족', '코미디', '멜로/로맨스', '모험', 'SF', '코미디', '멜로/로맨스', '뮤지컬', '드라마', '드라마', '드라마', '코미디', '멜로/로맨스', '드라마', '액션', '드라마', '드라마', '뮤지컬', '애니메이션', '드라마', '코미디', '범죄', '미스터리', '스릴러', '코미디', '드라마', 'SF', '액션', '드라마', '애니메이션', '판타지', '모험', '가족', '액션', '코미디', '드라마', '모험', '다큐멘터리', '드라마', '애니메이션', '모험', '코미디', '가족', '판타지', '드라마', '전쟁', '액션', '스릴러', '판타지', '모험', '액션', '전쟁', '드라마', '드라마', '액션', 'SF']\n",
            "{'모험', '전쟁', '애니메이션', '범죄', '판타지', '뮤지컬', '액션', '스릴러', '미스터리', 'SF', '멜로/로맨스', '다큐멘터리', '공연실황', '드라마', '가족', '코미디'}\n"
          ]
        }
      ]
    },
    {
      "cell_type": "markdown",
      "source": [
        "### 전체 장르에 대한 코드 부여"
      ],
      "metadata": {
        "id": "RIdtQmBA_aYF"
      }
    },
    {
      "cell_type": "code",
      "source": [
        "genre_code_list_dict = dict((c, i) for i, c in enumerate(genres_list))\n",
        "genre_code_list_dict"
      ],
      "metadata": {
        "colab": {
          "base_uri": "https://localhost:8080/"
        },
        "id": "Dt-6y-F8_cX7",
        "outputId": "43d55827-0ebf-45d5-ebca-849c52bac2b0"
      },
      "execution_count": 32,
      "outputs": [
        {
          "output_type": "execute_result",
          "data": {
            "text/plain": [
              "{'모험': 0,\n",
              " '전쟁': 1,\n",
              " '애니메이션': 2,\n",
              " '범죄': 3,\n",
              " '판타지': 4,\n",
              " '뮤지컬': 5,\n",
              " '액션': 6,\n",
              " '스릴러': 7,\n",
              " '미스터리': 8,\n",
              " 'SF': 9,\n",
              " '멜로/로맨스': 10,\n",
              " '다큐멘터리': 11,\n",
              " '공연실황': 12,\n",
              " '드라마': 13,\n",
              " '가족': 14,\n",
              " '코미디': 15}"
            ]
          },
          "metadata": {},
          "execution_count": 32
        }
      ]
    },
    {
      "cell_type": "code",
      "source": [
        "# 전체 장르 수\n",
        "max_genre_code_length = len(genre_code_list_dict)\n",
        "max_genre_code_length"
      ],
      "metadata": {
        "colab": {
          "base_uri": "https://localhost:8080/"
        },
        "id": "JHsW459ZADJ1",
        "outputId": "f6c43e80-8e99-4bca-dce3-dc3329e455f3"
      },
      "execution_count": 33,
      "outputs": [
        {
          "output_type": "execute_result",
          "data": {
            "text/plain": [
              "16"
            ]
          },
          "metadata": {},
          "execution_count": 33
        }
      ]
    },
    {
      "cell_type": "code",
      "source": [
        "movie['genre_code'] = [[genre_code_list_dict[x] for x in element] for element in movie['genre']]\n",
        "movie.head()"
      ],
      "metadata": {
        "colab": {
          "base_uri": "https://localhost:8080/",
          "height": 337
        },
        "id": "gB2qo2cZAIMN",
        "outputId": "ddb794d0-5d02-4b6a-f655-16c6e562d67b"
      },
      "execution_count": 34,
      "outputs": [
        {
          "output_type": "execute_result",
          "data": {
            "text/plain": [
              "           title                                              story  \\\n",
              "0        탑건: 매버릭  최고의 파일럿이자 전설적인 인물 매버릭(톰 크루즈)은 자신이 졸업한 훈련학교 교관으...   \n",
              "1  인생은 뷰티풀: 비타돌체  언제나 화면 정 중앙에 비춰지며 스포트라이트를 한 몸에 받는 스타, ‘트바로티’ 김...   \n",
              "2           클라우스  편지 6천 통을 배달하라고요? 소통은커녕 싸움만 일삼는 마을에서요? 불가능해 보이는...   \n",
              "3       할머니의 먼 집  아흔 셋, 나의 사랑하는 할머니가 자살을 시도했다.  취업준비를 하며 보내던 어느 ...   \n",
              "4             밥정  잔디, 잡초, 이끼, 나뭇가지.. 자연을 재료 삼아 요리를 만드는 방랑식객 임지호 ...   \n",
              "\n",
              "              genre   genre_code  \n",
              "0              [액션]          [6]  \n",
              "1     [공연실황, 다큐멘터리]     [12, 11]  \n",
              "2  [애니메이션, 코미디, 가족]  [2, 15, 14]  \n",
              "3           [다큐멘터리]         [11]  \n",
              "4      [다큐멘터리, 드라마]     [11, 13]  "
            ],
            "text/html": [
              "\n",
              "  <div id=\"df-6597af2b-b6e1-4eb7-ae0b-b9aa2487696e\">\n",
              "    <div class=\"colab-df-container\">\n",
              "      <div>\n",
              "<style scoped>\n",
              "    .dataframe tbody tr th:only-of-type {\n",
              "        vertical-align: middle;\n",
              "    }\n",
              "\n",
              "    .dataframe tbody tr th {\n",
              "        vertical-align: top;\n",
              "    }\n",
              "\n",
              "    .dataframe thead th {\n",
              "        text-align: right;\n",
              "    }\n",
              "</style>\n",
              "<table border=\"1\" class=\"dataframe\">\n",
              "  <thead>\n",
              "    <tr style=\"text-align: right;\">\n",
              "      <th></th>\n",
              "      <th>title</th>\n",
              "      <th>story</th>\n",
              "      <th>genre</th>\n",
              "      <th>genre_code</th>\n",
              "    </tr>\n",
              "  </thead>\n",
              "  <tbody>\n",
              "    <tr>\n",
              "      <th>0</th>\n",
              "      <td>탑건: 매버릭</td>\n",
              "      <td>최고의 파일럿이자 전설적인 인물 매버릭(톰 크루즈)은 자신이 졸업한 훈련학교 교관으...</td>\n",
              "      <td>[액션]</td>\n",
              "      <td>[6]</td>\n",
              "    </tr>\n",
              "    <tr>\n",
              "      <th>1</th>\n",
              "      <td>인생은 뷰티풀: 비타돌체</td>\n",
              "      <td>언제나 화면 정 중앙에 비춰지며 스포트라이트를 한 몸에 받는 스타, ‘트바로티’ 김...</td>\n",
              "      <td>[공연실황, 다큐멘터리]</td>\n",
              "      <td>[12, 11]</td>\n",
              "    </tr>\n",
              "    <tr>\n",
              "      <th>2</th>\n",
              "      <td>클라우스</td>\n",
              "      <td>편지 6천 통을 배달하라고요? 소통은커녕 싸움만 일삼는 마을에서요? 불가능해 보이는...</td>\n",
              "      <td>[애니메이션, 코미디, 가족]</td>\n",
              "      <td>[2, 15, 14]</td>\n",
              "    </tr>\n",
              "    <tr>\n",
              "      <th>3</th>\n",
              "      <td>할머니의 먼 집</td>\n",
              "      <td>아흔 셋, 나의 사랑하는 할머니가 자살을 시도했다.  취업준비를 하며 보내던 어느 ...</td>\n",
              "      <td>[다큐멘터리]</td>\n",
              "      <td>[11]</td>\n",
              "    </tr>\n",
              "    <tr>\n",
              "      <th>4</th>\n",
              "      <td>밥정</td>\n",
              "      <td>잔디, 잡초, 이끼, 나뭇가지.. 자연을 재료 삼아 요리를 만드는 방랑식객 임지호 ...</td>\n",
              "      <td>[다큐멘터리, 드라마]</td>\n",
              "      <td>[11, 13]</td>\n",
              "    </tr>\n",
              "  </tbody>\n",
              "</table>\n",
              "</div>\n",
              "      <button class=\"colab-df-convert\" onclick=\"convertToInteractive('df-6597af2b-b6e1-4eb7-ae0b-b9aa2487696e')\"\n",
              "              title=\"Convert this dataframe to an interactive table.\"\n",
              "              style=\"display:none;\">\n",
              "        \n",
              "  <svg xmlns=\"http://www.w3.org/2000/svg\" height=\"24px\"viewBox=\"0 0 24 24\"\n",
              "       width=\"24px\">\n",
              "    <path d=\"M0 0h24v24H0V0z\" fill=\"none\"/>\n",
              "    <path d=\"M18.56 5.44l.94 2.06.94-2.06 2.06-.94-2.06-.94-.94-2.06-.94 2.06-2.06.94zm-11 1L8.5 8.5l.94-2.06 2.06-.94-2.06-.94L8.5 2.5l-.94 2.06-2.06.94zm10 10l.94 2.06.94-2.06 2.06-.94-2.06-.94-.94-2.06-.94 2.06-2.06.94z\"/><path d=\"M17.41 7.96l-1.37-1.37c-.4-.4-.92-.59-1.43-.59-.52 0-1.04.2-1.43.59L10.3 9.45l-7.72 7.72c-.78.78-.78 2.05 0 2.83L4 21.41c.39.39.9.59 1.41.59.51 0 1.02-.2 1.41-.59l7.78-7.78 2.81-2.81c.8-.78.8-2.07 0-2.86zM5.41 20L4 18.59l7.72-7.72 1.47 1.35L5.41 20z\"/>\n",
              "  </svg>\n",
              "      </button>\n",
              "      \n",
              "  <style>\n",
              "    .colab-df-container {\n",
              "      display:flex;\n",
              "      flex-wrap:wrap;\n",
              "      gap: 12px;\n",
              "    }\n",
              "\n",
              "    .colab-df-convert {\n",
              "      background-color: #E8F0FE;\n",
              "      border: none;\n",
              "      border-radius: 50%;\n",
              "      cursor: pointer;\n",
              "      display: none;\n",
              "      fill: #1967D2;\n",
              "      height: 32px;\n",
              "      padding: 0 0 0 0;\n",
              "      width: 32px;\n",
              "    }\n",
              "\n",
              "    .colab-df-convert:hover {\n",
              "      background-color: #E2EBFA;\n",
              "      box-shadow: 0px 1px 2px rgba(60, 64, 67, 0.3), 0px 1px 3px 1px rgba(60, 64, 67, 0.15);\n",
              "      fill: #174EA6;\n",
              "    }\n",
              "\n",
              "    [theme=dark] .colab-df-convert {\n",
              "      background-color: #3B4455;\n",
              "      fill: #D2E3FC;\n",
              "    }\n",
              "\n",
              "    [theme=dark] .colab-df-convert:hover {\n",
              "      background-color: #434B5C;\n",
              "      box-shadow: 0px 1px 3px 1px rgba(0, 0, 0, 0.15);\n",
              "      filter: drop-shadow(0px 1px 2px rgba(0, 0, 0, 0.3));\n",
              "      fill: #FFFFFF;\n",
              "    }\n",
              "  </style>\n",
              "\n",
              "      <script>\n",
              "        const buttonEl =\n",
              "          document.querySelector('#df-6597af2b-b6e1-4eb7-ae0b-b9aa2487696e button.colab-df-convert');\n",
              "        buttonEl.style.display =\n",
              "          google.colab.kernel.accessAllowed ? 'block' : 'none';\n",
              "\n",
              "        async function convertToInteractive(key) {\n",
              "          const element = document.querySelector('#df-6597af2b-b6e1-4eb7-ae0b-b9aa2487696e');\n",
              "          const dataTable =\n",
              "            await google.colab.kernel.invokeFunction('convertToInteractive',\n",
              "                                                     [key], {});\n",
              "          if (!dataTable) return;\n",
              "\n",
              "          const docLinkHtml = 'Like what you see? Visit the ' +\n",
              "            '<a target=\"_blank\" href=https://colab.research.google.com/notebooks/data_table.ipynb>data table notebook</a>'\n",
              "            + ' to learn more about interactive tables.';\n",
              "          element.innerHTML = '';\n",
              "          dataTable['output_type'] = 'display_data';\n",
              "          await google.colab.output.renderOutput(dataTable, element);\n",
              "          const docLink = document.createElement('div');\n",
              "          docLink.innerHTML = docLinkHtml;\n",
              "          element.appendChild(docLink);\n",
              "        }\n",
              "      </script>\n",
              "    </div>\n",
              "  </div>\n",
              "  "
            ]
          },
          "metadata": {},
          "execution_count": 34
        }
      ]
    },
    {
      "cell_type": "markdown",
      "source": [
        "### csv로 저장하기"
      ],
      "metadata": {
        "id": "Rf2gS1tcAW3Y"
      }
    },
    {
      "cell_type": "code",
      "source": [
        "movie.to_csv('./data/movie_review_genre.csv')"
      ],
      "metadata": {
        "id": "y6FUN4DyAZBV"
      },
      "execution_count": 35,
      "outputs": []
    },
    {
      "cell_type": "code",
      "source": [
        "genre_list_cnt = np.zeros(16)\n",
        "print(genre_list_cnt)\n",
        "\n",
        "for data in movie['genre_code'] :\n",
        "  for x in data :\n",
        "    genre_list_cnt[x] += 1\n",
        "\n",
        "print(genre_list_cnt)"
      ],
      "metadata": {
        "colab": {
          "base_uri": "https://localhost:8080/"
        },
        "id": "wg2OkdKfAh44",
        "outputId": "99702c2b-2539-4014-a09d-db9fdf72ca05"
      },
      "execution_count": 40,
      "outputs": [
        {
          "output_type": "stream",
          "name": "stdout",
          "text": [
            "[0. 0. 0. 0. 0. 0. 0. 0. 0. 0. 0. 0. 0. 0. 0. 0.]\n",
            "[ 9.  5.  7.  2.  4.  2. 12.  3.  1.  6.  5.  6.  3. 28.  5. 10.]\n"
          ]
        }
      ]
    },
    {
      "cell_type": "code",
      "source": [
        "tags = [(i, j) for i, j in zip(genre_code_list_dict.keys(), genre_list_cnt)]\n",
        "tags"
      ],
      "metadata": {
        "colab": {
          "base_uri": "https://localhost:8080/"
        },
        "id": "Il358MP6BEIj",
        "outputId": "0652577d-3a4a-43f8-97c6-89be48766529"
      },
      "execution_count": 41,
      "outputs": [
        {
          "output_type": "execute_result",
          "data": {
            "text/plain": [
              "[('모험', 9.0),\n",
              " ('전쟁', 5.0),\n",
              " ('애니메이션', 7.0),\n",
              " ('범죄', 2.0),\n",
              " ('판타지', 4.0),\n",
              " ('뮤지컬', 2.0),\n",
              " ('액션', 12.0),\n",
              " ('스릴러', 3.0),\n",
              " ('미스터리', 1.0),\n",
              " ('SF', 6.0),\n",
              " ('멜로/로맨스', 5.0),\n",
              " ('다큐멘터리', 6.0),\n",
              " ('공연실황', 3.0),\n",
              " ('드라마', 28.0),\n",
              " ('가족', 5.0),\n",
              " ('코미디', 10.0)]"
            ]
          },
          "metadata": {},
          "execution_count": 41
        }
      ]
    },
    {
      "cell_type": "markdown",
      "source": [
        "### 워드로 작성하기 \n"
      ],
      "metadata": {
        "id": "sj47zQWFDzmt"
      }
    },
    {
      "cell_type": "code",
      "source": [
        "!pip install wordcloud"
      ],
      "metadata": {
        "colab": {
          "base_uri": "https://localhost:8080/"
        },
        "id": "J4lkIz2oD1im",
        "outputId": "793a6bfd-8a09-46e4-d99f-9955743d20ff"
      },
      "execution_count": 42,
      "outputs": [
        {
          "output_type": "stream",
          "name": "stdout",
          "text": [
            "Looking in indexes: https://pypi.org/simple, https://us-python.pkg.dev/colab-wheels/public/simple/\n",
            "Requirement already satisfied: wordcloud in /usr/local/lib/python3.8/dist-packages (1.8.2.2)\n",
            "Requirement already satisfied: numpy>=1.6.1 in /usr/local/lib/python3.8/dist-packages (from wordcloud) (1.21.6)\n",
            "Requirement already satisfied: pillow in /usr/local/lib/python3.8/dist-packages (from wordcloud) (7.1.2)\n",
            "Requirement already satisfied: matplotlib in /usr/local/lib/python3.8/dist-packages (from wordcloud) (3.2.2)\n",
            "Requirement already satisfied: python-dateutil>=2.1 in /usr/local/lib/python3.8/dist-packages (from matplotlib->wordcloud) (2.8.2)\n",
            "Requirement already satisfied: cycler>=0.10 in /usr/local/lib/python3.8/dist-packages (from matplotlib->wordcloud) (0.11.0)\n",
            "Requirement already satisfied: kiwisolver>=1.0.1 in /usr/local/lib/python3.8/dist-packages (from matplotlib->wordcloud) (1.4.4)\n",
            "Requirement already satisfied: pyparsing!=2.0.4,!=2.1.2,!=2.1.6,>=2.0.1 in /usr/local/lib/python3.8/dist-packages (from matplotlib->wordcloud) (3.0.9)\n",
            "Requirement already satisfied: six>=1.5 in /usr/local/lib/python3.8/dist-packages (from python-dateutil>=2.1->matplotlib->wordcloud) (1.15.0)\n"
          ]
        }
      ]
    },
    {
      "cell_type": "code",
      "source": [
        "import matplotlib.pyplot as plt\n",
        "from wordcloud import WordCloud"
      ],
      "metadata": {
        "id": "H9dqESLED3sp"
      },
      "execution_count": 43,
      "outputs": []
    },
    {
      "cell_type": "code",
      "source": [
        "wordcloud = WordCloud(font_path = 'NanumBarunGothic', background_color = 'white', width = 800, height = 600)\n",
        "cloud = wordcloud.generate_from_frequencies(dict(tags))\n",
        "print(cloud)\n",
        "\n",
        "plt.figure(figsize = (15, 10))\n",
        "plt.axis('off')\n",
        "plt.imshow(cloud)\n",
        "plt.show()"
      ],
      "metadata": {
        "colab": {
          "base_uri": "https://localhost:8080/",
          "height": 593
        },
        "id": "u1OF039hD-FQ",
        "outputId": "7b7dae0b-77cd-4772-b5c6-e998ad0f86e1"
      },
      "execution_count": 45,
      "outputs": [
        {
          "output_type": "stream",
          "name": "stdout",
          "text": [
            "<wordcloud.wordcloud.WordCloud object at 0x7f62e3905e80>\n"
          ]
        },
        {
          "output_type": "display_data",
          "data": {
            "text/plain": [
              "<Figure size 1080x720 with 1 Axes>"
            ],
            "image/png": "[encoded data removed]"
          },
          "metadata": {
            "needs_background": "light"
          }
        }
      ]
    }
  ]
}