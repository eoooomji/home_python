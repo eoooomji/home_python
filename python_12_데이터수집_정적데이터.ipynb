{
  "nbformat": 4,
  "nbformat_minor": 0,
  "metadata": {
    "colab": {
      "provenance": [],
      "authorship_tag": "ABX9TyOxElYTYcVoAJMafdxpKuAj",
      "include_colab_link": true
    },
    "kernelspec": {
      "name": "python3",
      "display_name": "Python 3"
    },
    "language_info": {
      "name": "python"
    }
  },
  "cells": [
    {
      "cell_type": "markdown",
      "metadata": {
        "id": "view-in-github",
        "colab_type": "text"
      },
      "source": [
        "<a href=\"https://colab.research.google.com/github/eoooomji/home_python/blob/master/python_12_%EB%8D%B0%EC%9D%B4%ED%84%B0%EC%88%98%EC%A7%91_%EC%A0%95%EC%A0%81%EB%8D%B0%EC%9D%B4%ED%84%B0.ipynb\" target=\"_parent\"><img src=\"https://colab.research.google.com/assets/colab-badge.svg\" alt=\"Open In Colab\"/></a>"
      ]
    },
    {
      "cell_type": "code",
      "execution_count": null,
      "metadata": {
        "id": "cCYEXvqcZPke"
      },
      "outputs": [],
      "source": [
        "import urllib.request\n",
        "from urllib.request import urlopen\n",
        "import requests\n",
        "import re\n",
        "from bs4 import BeautifulSoup\n",
        "import bs4"
      ]
    },
    {
      "cell_type": "markdown",
      "source": [
        "정적 Crawling"
      ],
      "metadata": {
        "id": "P5W-HFxhisgb"
      }
    },
    {
      "cell_type": "markdown",
      "source": [
        "1. Naver_Movie_Review_Crawling"
      ],
      "metadata": {
        "id": "XI_FKGOkiwK7"
      }
    },
    {
      "cell_type": "code",
      "source": [
        "url  = requests.get('https://movie.naver.com/movie/sdb/rank/rmovie.naver?sel=cur&date=20221208')\n",
        "print(url)\n",
        "\n",
        "html = bs4.BeautifulSoup(url.text, 'html.parser')\n",
        "\n",
        "rank = html.find('div', {'class' : 'tit5'})\n",
        "print(rank)\n",
        "\n",
        "print(re.findall('.*[a-z가-힣].*', rank.text))\n",
        "\n",
        "img = html.find('td', {'class' : 'ac'})\n",
        "print(img)\n",
        "\n",
        "print(img.img['alt'])"
      ],
      "metadata": {
        "colab": {
          "base_uri": "https://localhost:8080/"
        },
        "id": "krwcLSFti2M4",
        "outputId": "1515cf18-11fc-45ab-fe95-1d75f43c8c99"
      },
      "execution_count": null,
      "outputs": [
        {
          "output_type": "stream",
          "name": "stdout",
          "text": [
            "<Response [200]>\n",
            "<div class=\"tit5\">\n",
            "<a href=\"/movie/bi/mi/basic.naver?code=81888\" title=\"탑건: 매버릭\">탑건: 매버릭</a>\n",
            "</div>\n",
            "['탑건: 매버릭']\n",
            "<td class=\"ac\"><img alt=\"01\" height=\"13\" src=\"https://ssl.pstatic.net/imgmovie/2007/img/common/bullet_r_r01.gif\" width=\"14\"/></td>\n",
            "01\n"
          ]
        }
      ]
    },
    {
      "cell_type": "code",
      "source": [
        "rank = []\n",
        "title = []\n",
        "point = []"
      ],
      "metadata": {
        "id": "WTbtuz12tgIM"
      },
      "execution_count": null,
      "outputs": []
    },
    {
      "cell_type": "code",
      "source": [
        "url = 'https://movie.naver.com/movie/sdb/rank/rmovie.naver?sel=pnt&date=20221208'\n",
        "movie_html = requests.get(url)\n",
        "bs_movie = BeautifulSoup(movie_html.text, 'html.parser')\n",
        "\n",
        "rank_html = bs_movie.find_all('img', {'alt' : re.compile(\"^[0-9]+$\")})\n",
        "# print(rank_html)\n",
        "\n",
        "#rank_html = bs_movie.select('td.ac img[alt]')\n",
        "#for element in rank_html :\n",
        "#  if(element['alt'] != \"na\") :\n",
        "#    rank.append(element)\n",
        "#  print(element)\n",
        "\n",
        "title_html = bs_movie.select('td.title')\n",
        "# print(title_html)\n",
        "\n",
        "point_html = bs_movie.select('td.point')\n",
        "# print(point_html)\n",
        "\n",
        "for x, y, z in zip(rank_html, title_html, point_html) :\n",
        "  print(x['alt'], re.sub('\\n', '', y.text), z.text)"
      ],
      "metadata": {
        "colab": {
          "base_uri": "https://localhost:8080/"
        },
        "id": "EmRyKf_yti4a",
        "outputId": "7971196e-1c44-4fd9-f887-b6853de82da1"
      },
      "execution_count": null,
      "outputs": [
        {
          "output_type": "stream",
          "name": "stdout",
          "text": [
            "01 탑건: 매버릭 9.76\n",
            "02 인생은 뷰티풀: 비타돌체 9.70\n",
            "03 클라우스 9.66\n",
            "04 할머니의 먼 집 9.62\n",
            "05 밥정 9.60\n",
            "06 그린 북 9.60\n",
            "07 가버나움 9.59\n",
            "08 베일리 어게인 9.54\n",
            "09 원더 9.53\n",
            "010 아일라 9.52\n",
            "11 디지몬 어드벤처 라스트 에볼루션 : 인연 9.51\n",
            "12 극장판 바이올렛 에버가든 9.50\n",
            "13 당갈 9.49\n",
            "14 아바타 리마스터링 9.48\n",
            "15 포드 V 페라리 9.47\n",
            "16 먼 훗날 우리 9.47\n",
            "17 주전장 9.46\n",
            "18 쇼생크 탈출 9.46\n",
            "19 터미네이터 2:오리지널 9.45\n",
            "20 덕구 9.45\n",
            "21 클래식 9.44\n",
            "22 라이언 일병 구하기 9.43\n",
            "23 나 홀로 집에 9.43\n",
            "24 장민호 드라마 최종회 9.43\n",
            "25 그대, 고맙소 : 김호중 생애 첫 팬미팅 무비 9.43\n",
            "26 명탐정 코난: 할로윈의 신부 9.42\n",
            "27 월-E 9.42\n",
            "28 빽 투 더 퓨쳐 9.42\n",
            "29 사운드 오브 뮤직 9.42\n",
            "30 보헤미안 랩소디 9.42\n",
            "31 포레스트 검프 9.41\n",
            "32 타이타닉 9.41\n",
            "33 글래디에이터 9.41\n",
            "34 위대한 쇼맨 9.41\n",
            "35 인생은 아름다워 9.41\n",
            "36 살인의 추억 9.41\n",
            "37 매트릭스 9.40\n",
            "38 헬프 9.40\n",
            "39 센과 치히로의 행방불명 9.40\n",
            "40 태극권 9.40\n",
            "41 캐스트 어웨이 9.40\n",
            "42 가나의 혼인잔치: 언약 9.39\n",
            "43 토이 스토리 3 9.39\n",
            "44 쉰들러 리스트 9.39\n",
            "45 헌터 킬러 9.39\n",
            "46 반지의 제왕: 왕의 귀환 9.38\n",
            "47 죽은 시인의 사회 9.38\n",
            "48 히든 피겨스 9.38\n",
            "49 어벤져스: 엔드게임 9.38\n",
            "50 집으로... 9.38\n"
          ]
        }
      ]
    }
  ]
}