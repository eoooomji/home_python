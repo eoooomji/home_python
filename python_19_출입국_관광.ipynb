{
  "nbformat": 4,
  "nbformat_minor": 0,
  "metadata": {
    "colab": {
      "provenance": [],
      "authorship_tag": "ABX9TyP3pyKWpxsz2nMSkNnGRq5h",
      "include_colab_link": true
    },
    "kernelspec": {
      "name": "python3",
      "display_name": "Python 3"
    },
    "language_info": {
      "name": "python"
    }
  },
  "cells": [
    {
      "cell_type": "markdown",
      "metadata": {
        "id": "view-in-github",
        "colab_type": "text"
      },
      "source": [
        "<a href=\"https://colab.research.google.com/github/eoooomji/home_python/blob/master/python_19_%EC%B6%9C%EC%9E%85%EA%B5%AD_%EA%B4%80%EA%B4%91.ipynb\" target=\"_parent\"><img src=\"https://colab.research.google.com/assets/colab-badge.svg\" alt=\"Open In Colab\"/></a>"
      ]
    },
    {
      "cell_type": "code",
      "execution_count": 1,
      "metadata": {
        "colab": {
          "base_uri": "https://localhost:8080/"
        },
        "id": "o-f-25RrpayK",
        "outputId": "fd193331-666e-4080-f95c-d7fbb261f314"
      },
      "outputs": [
        {
          "output_type": "stream",
          "name": "stdout",
          "text": [
            "Mounted at /content/drive\n",
            "/content/drive/MyDrive/home_python\n"
          ]
        }
      ],
      "source": [
        "from google.colab import drive\n",
        "drive.mount('/content/drive')\n",
        "\n",
        "%cd /content/drive/MyDrive/home_python"
      ]
    },
    {
      "cell_type": "code",
      "source": [
        "!pip install xmltodict"
      ],
      "metadata": {
        "colab": {
          "base_uri": "https://localhost:8080/"
        },
        "id": "DJxjNasPpkOV",
        "outputId": "da825399-5a70-4f04-f56b-ba45b0342ddd"
      },
      "execution_count": 2,
      "outputs": [
        {
          "output_type": "stream",
          "name": "stdout",
          "text": [
            "Looking in indexes: https://pypi.org/simple, https://us-python.pkg.dev/colab-wheels/public/simple/\n",
            "Collecting xmltodict\n",
            "  Downloading xmltodict-0.13.0-py2.py3-none-any.whl (10.0 kB)\n",
            "Installing collected packages: xmltodict\n",
            "Successfully installed xmltodict-0.13.0\n"
          ]
        }
      ]
    },
    {
      "cell_type": "code",
      "source": [
        "import requests\n",
        "import json\n",
        "import sys\n",
        "import xmltodict"
      ],
      "metadata": {
        "id": "OnJYgR3Xp9f1"
      },
      "execution_count": 3,
      "outputs": []
    },
    {
      "cell_type": "code",
      "source": [
        "def getTourismStatesItem(yyyymm, national_code, edcd) :\n",
        "  url = 'http://openapi.tour.go.kr/openapi/service/EdrcntTourismStatsService/getEdrcntTourismStatsList'\n",
        "  params ={'serviceKey' : '5jf8VPZj4mhOoHu8nKZ5QFU4JF8qhqxaFux0aZv1c++EqWtDWSU2Y3hhquGpCl+lzEpowLxmC4ajrgHzBizgyQ==', 'YM' : yyyymm, 'NAT_CD' : national_code, 'ED_CD' : ed_cd }\n",
        "\n",
        "  response = requests.get(url, params = params)\n",
        "  return response.text\n",
        "\n",
        "jsonResult = []\n",
        "result = []\n",
        "natName = ''\n",
        "\n",
        "print('<<국내 입국한 외국인의 통계를 수집합니다.>>')\n",
        "\n",
        "nat_cd = input('국가 코드를 입력하세요(중국 : 112 / 일본 : 130 / 미국 : 275) : ')\n",
        "nStartYear = int(input('데이터를 몇 년부터 수집할까요? :'))\n",
        "nEndYear = int(input('데이터를 몇 년까지 수집할까요? :'))\n",
        "ed_cd = 'E' # E : 방한 외래 관광객 / D : 해외 출국\n",
        "\n",
        "dataEND = '{0}{1:0>2}'.format(str(nEndYear), str(12))\n",
        "# print(dataEND)\n",
        "isDataEnd = 0 # 데이터 끝 확인용 flag 초기화\n",
        "\n",
        "for year in range(nStartYear, nEndYear + 1) :\n",
        "  for month in range(1, 13) :\n",
        "    if isDataEnd == 1 : break; # 데이터 끝 flag 설정되어 있으면 작업 중지\n",
        "    yyyymm = '{0}{1:0>2}'.format(str(year), str(month))\n",
        "\n",
        "    jsonData = getTourismStatesItem(yyyymm, nat_cd, ed_cd)\n",
        "\n",
        "    jsonData = xmltodict.parse(jsonData)\n",
        "\n",
        "    #print(jsonData)\n",
        "\n",
        "    if jsonData['response']['header']['resultMsg'] == 'OK' :\n",
        "      if jsonData['response']['body']['items'] == '' :\n",
        "        isDataEnd = 1 # 데이터 끝 flag 설정\n",
        "        dataEND = '{0}{1:0>2}'.format(str(year), str(month - 1))\n",
        "        print('데이터 없음...\\n 제공되는 통계 데이터는 %s년 %s월까지입니다.' % str(year), str(month - 1))\n",
        "        break\n",
        "      \n",
        "      # jsonData를 출력하여 확인\n",
        "      natName = jsonData['response']['body']['items']['item']['natKorNm']\n",
        "      natName = natName.replace(' ', '')\n",
        "      num = jsonData['response']['body']['items']['item']['num']\n",
        "      ed = jsonData['response']['body']['items']['item']['ed']\n",
        "      print('[%s_%s : %s]' % (natName, num, ed))"
      ],
      "metadata": {
        "colab": {
          "base_uri": "https://localhost:8080/"
        },
        "id": "rHvXTPf_qDy_",
        "outputId": "faaf56ac-345e-47b0-931a-8c6f2739b757"
      },
      "execution_count": 9,
      "outputs": [
        {
          "output_type": "stream",
          "name": "stdout",
          "text": [
            "<<국내 입국한 외국인의 통계를 수집합니다.>>\n",
            "국가 코드를 입력하세요(중국 : 112 / 일본 : 130 / 미국 : 275) : 112\n",
            "데이터를 몇 년부터 수집할까요? :2018\n",
            "데이터를 몇 년까지 수집할까요? :2019\n",
            "201912\n",
            "[중국_305127 : 방한외래관광객]\n",
            "[중국_345341 : 방한외래관광객]\n",
            "[중국_403413 : 방한외래관광객]\n",
            "[중국_366604 : 방한외래관광객]\n",
            "[중국_370222 : 방한외래관광객]\n",
            "[중국_379891 : 방한외래관광객]\n",
            "[중국_410337 : 방한외래관광객]\n",
            "[중국_478140 : 방한외래관광객]\n",
            "[중국_434595 : 방한외래관광객]\n",
            "[중국_475307 : 방한외래관광객]\n",
            "[중국_404256 : 방한외래관광객]\n",
            "[중국_416279 : 방한외래관광객]\n",
            "[중국_392814 : 방한외래관광객]\n",
            "[중국_453379 : 방한외래관광객]\n",
            "[중국_487623 : 방한외래관광객]\n",
            "[중국_493250 : 방한외래관광객]\n",
            "[중국_500413 : 방한외래관광객]\n",
            "[중국_475007 : 방한외래관광객]\n",
            "[중국_519132 : 방한외래관광객]\n",
            "[중국_578112 : 방한외래관광객]\n",
            "[중국_541350 : 방한외래관광객]\n",
            "[중국_567695 : 방한외래관광객]\n",
            "[중국_505369 : 방한외래관광객]\n",
            "[중국_508877 : 방한외래관광객]\n"
          ]
        }
      ]
    }
  ]
}