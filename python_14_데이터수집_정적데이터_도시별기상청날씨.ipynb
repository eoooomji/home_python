{
  "nbformat": 4,
  "nbformat_minor": 0,
  "metadata": {
    "colab": {
      "provenance": [],
      "authorship_tag": "ABX9TyNX9K9DhR0aZNix9JUfY01f",
      "include_colab_link": true
    },
    "kernelspec": {
      "name": "python3",
      "display_name": "Python 3"
    },
    "language_info": {
      "name": "python"
    }
  },
  "cells": [
    {
      "cell_type": "markdown",
      "metadata": {
        "id": "view-in-github",
        "colab_type": "text"
      },
      "source": [
        "<a href=\"https://colab.research.google.com/github/eoooomji/home_python/blob/master/python_14_%EB%8D%B0%EC%9D%B4%ED%84%B0%EC%88%98%EC%A7%91_%EC%A0%95%EC%A0%81%EB%8D%B0%EC%9D%B4%ED%84%B0_%EB%8F%84%EC%8B%9C%EB%B3%84%EA%B8%B0%EC%83%81%EC%B2%AD%EB%82%A0%EC%94%A8.ipynb\" target=\"_parent\"><img src=\"https://colab.research.google.com/assets/colab-badge.svg\" alt=\"Open In Colab\"/></a>"
      ]
    },
    {
      "cell_type": "markdown",
      "source": [
        "도시별 기상청 날씨 크로링하기\n",
        "\n",
        "https://www.weather.go.kr/w/obs-climate/land/city-obs.do"
      ],
      "metadata": {
        "id": "yJSyGebGFBmo"
      }
    },
    {
      "cell_type": "code",
      "source": [
        "from google.colab import drive\n",
        "drive.mount('/content/drive')\n",
        "\n",
        "%cd /content/drive/MyDrive/home_python"
      ],
      "metadata": {
        "colab": {
          "base_uri": "https://localhost:8080/"
        },
        "id": "OT0O4rLDKEFH",
        "outputId": "1f529d36-c199-4252-ce7d-bf33a6813150"
      },
      "execution_count": 1,
      "outputs": [
        {
          "output_type": "stream",
          "name": "stdout",
          "text": [
            "Mounted at /content/drive\n",
            "/content/drive/MyDrive/home_python\n"
          ]
        }
      ]
    },
    {
      "cell_type": "code",
      "source": [
        "from bs4 import BeautifulSoup\n",
        "import requests"
      ],
      "metadata": {
        "id": "0m30lPvZKG-n"
      },
      "execution_count": 3,
      "outputs": []
    },
    {
      "cell_type": "markdown",
      "source": [
        "작업결과를 저장 할 리스트 준비"
      ],
      "metadata": {
        "id": "QevRVM6gKIzQ"
      }
    },
    {
      "cell_type": "code",
      "source": [
        "result = []"
      ],
      "metadata": {
        "id": "8CE3tt95KIF4"
      },
      "execution_count": 5,
      "outputs": []
    },
    {
      "cell_type": "markdown",
      "source": [
        "BeautifulSoup 객체 생성 및 파싱"
      ],
      "metadata": {
        "id": "j9zAz0fOKNJz"
      }
    },
    {
      "cell_type": "code",
      "source": [
        "header = {\"User-Agent\":\"Mozilla/5.0 (Windows NT 10.0; Win64; x64) AppleWebKit/537.36 (KHTML, like Gecko) Chrome/91.0.4472.124 Safari/537.36\"}\n",
        "url = 'https://www.weather.go.kr/w/obs-climate/land/city-obs.do'\n",
        "\n",
        "res = requests.get(url, headers = header)\n",
        "soup = BeautifulSoup(res.text, 'html.parser')\n",
        "print(type(soup))\n",
        "\n",
        "tbody_tag = soup.find('tbody')\n",
        "tr_rs_tag = tbody_tag.find_all('tr')\n",
        "print(type(tr_rs_tag))\n",
        "\n",
        "for tr_tag in tr_rs_tag :\n",
        "  td_rs_tag = tr_tag.find_all('td')\n",
        "  city = td_rs_tag[0].string\n",
        "  cur_temp = td_rs_tag[5].string\n",
        "  sen_temp = td_rs_tag[7].string\n",
        "  result.append([city, cur_temp, sen_temp])\n"
      ],
      "metadata": {
        "colab": {
          "base_uri": "https://localhost:8080/"
        },
        "id": "mAwME01FKQCH",
        "outputId": "f82d5a93-a228-4462-c31b-9154637c0e68"
      },
      "execution_count": 8,
      "outputs": [
        {
          "output_type": "stream",
          "name": "stdout",
          "text": [
            "<class 'bs4.BeautifulSoup'>\n",
            "<class 'bs4.element.ResultSet'>\n"
          ]
        }
      ]
    },
    {
      "cell_type": "markdown",
      "source": [
        "크롤링 된 도시, 현재기온, 체감온도 결과"
      ],
      "metadata": {
        "id": "bmCX66EZK9Lq"
      }
    },
    {
      "cell_type": "code",
      "source": [
        "for element in result :\n",
        "  print(element)\n",
        "  break"
      ],
      "metadata": {
        "colab": {
          "base_uri": "https://localhost:8080/"
        },
        "id": "h3b8RCESK_EO",
        "outputId": "015baa96-4658-462d-d4b8-14acce2140f1"
      },
      "execution_count": 10,
      "outputs": [
        {
          "output_type": "stream",
          "name": "stdout",
          "text": [
            "['강릉', '-5.5', '-11.4']\n"
          ]
        }
      ]
    },
    {
      "cell_type": "markdown",
      "source": [
        "테이블을 csv 파일로 저장"
      ],
      "metadata": {
        "id": "YYwQXt3lLCdC"
      }
    },
    {
      "cell_type": "code",
      "source": [
        "import csv\n",
        "\n",
        "fields = ['City', 'CurrentTemp', 'SensoryTemperature']\n",
        "\n",
        "with open('./data/weather.csv', 'w', newline = '') as f :\n",
        "  write = csv.writer(f)\n",
        "  write.writerow(fields)\n",
        "  write.writerows(result)"
      ],
      "metadata": {
        "id": "EVvZPTBtLDul"
      },
      "execution_count": 12,
      "outputs": []
    },
    {
      "cell_type": "markdown",
      "source": [
        "저장할 때 날짜 지정"
      ],
      "metadata": {
        "id": "MSxOcTjMLdTn"
      }
    },
    {
      "cell_type": "code",
      "source": [
        "import datetime\n",
        "now = datetime.datetime.today()\n",
        "print(now)\n",
        "print(now.utcnow())\n",
        "print(now.year, now.month, now.day, now.hour, now.minute)\n",
        "print(now.date())\n",
        "print(now.time())"
      ],
      "metadata": {
        "colab": {
          "base_uri": "https://localhost:8080/"
        },
        "id": "lv6tyejILeZQ",
        "outputId": "e36bf466-7b3f-44ec-c7f8-3d929a760f51"
      },
      "execution_count": 13,
      "outputs": [
        {
          "output_type": "stream",
          "name": "stdout",
          "text": [
            "2022-12-17 13:02:52.797461\n",
            "2022-12-17 13:02:52.802292\n",
            "2022 12 17 13 2\n",
            "2022-12-17\n",
            "13:02:52.797461\n"
          ]
        }
      ]
    },
    {
      "cell_type": "code",
      "source": [
        "import time\n",
        "\n",
        "time.strftime('%Y-%m-%d', time.localtime(time.time()))"
      ],
      "metadata": {
        "colab": {
          "base_uri": "https://localhost:8080/",
          "height": 35
        },
        "id": "5wVE3ldfLihU",
        "outputId": "826cb812-d311-4ca8-ba13-66b038a450ff"
      },
      "execution_count": 14,
      "outputs": [
        {
          "output_type": "execute_result",
          "data": {
            "text/plain": [
              "'2022-12-17'"
            ],
            "application/vnd.google.colaboratory.intrinsic+json": {
              "type": "string"
            }
          },
          "metadata": {},
          "execution_count": 14
        }
      ]
    },
    {
      "cell_type": "markdown",
      "source": [
        "파이썬 파일 작성하여 크롤링하기"
      ],
      "metadata": {
        "id": "SwBAAZiBMSBB"
      }
    },
    {
      "cell_type": "code",
      "source": [
        "from bs4 import BeautifulSoup\n",
        "import requests\n",
        "import csv\n",
        "import datetime\n",
        "\n",
        "def weather_temp() :\n",
        "  result = []\n",
        "  header = {\"User-Agent\":\"Mozilla/5.0 (Windows NT 10.0; Win64; x64) AppleWebKit/537.36 (KHTML, like Gecko) Chrome/91.0.4472.124 Safari/537.36\"}\n",
        "  url = 'https://www.weather.go.kr/w/obs-climate/land/city-obs.do'\n",
        "\n",
        "  res = requests.get(url, headers = header)\n",
        "  soup = BeautifulSoup(res.text, 'html.parser')\n",
        "\n",
        "  tbody_tag = soup.find('tbody')\n",
        "  tr_rs_tag = tbody_tag.find_all('tr')\n",
        "\n",
        "  for tr_tag in tr_rs_tag :\n",
        "    td_rs_tag = tr_tag.find_all('td')\n",
        "    city = td_rs_tag[0].string\n",
        "    cur_temp = td_rs_tag[5].string\n",
        "    sen_temp = td_rs_tag[7].string\n",
        "    result.append([city, cur_temp, sen_temp])\n",
        "  return result\n",
        "\n",
        "def main() :\n",
        "  result = weather_temp()\n",
        "  #print('result', result)\n",
        "  to_now = datetime.datetime.today().date()\n",
        "\n",
        "  fields = ['도시', '현재기온', '체감온도']\n",
        "\n",
        "  with open('./data/%s-weathers.csv' % to_now, 'w', newline = '') as f :\n",
        "    write = csv.writer(f)\n",
        "    write.writerow(fields)\n",
        "    write.writerows(result)\n",
        "\n",
        "  print('weather 데이터 저장 완료')\n",
        "\n",
        "  del result[:]\n",
        "\n",
        "\n",
        "if __name__ == '__main__' :\n",
        "  main()"
      ],
      "metadata": {
        "colab": {
          "base_uri": "https://localhost:8080/"
        },
        "id": "F5HyVORnMUFH",
        "outputId": "02a616f6-869a-40ae-976f-310854d95f63"
      },
      "execution_count": 19,
      "outputs": [
        {
          "output_type": "stream",
          "name": "stdout",
          "text": [
            "weather 데이터 저장 완료\n"
          ]
        }
      ]
    },
    {
      "cell_type": "code",
      "source": [
        "to_now = datetime.datetime.today().date()\n",
        "\n",
        "with open('./data/%s-weathers.csv' % to_now, 'r') as f :\n",
        "  print(f.readline())\n",
        "\n",
        "  for element in f :\n",
        "    td_list = element.split(',')\n",
        "    print(td_list[0], td_list[1], td_list[2])"
      ],
      "metadata": {
        "colab": {
          "base_uri": "https://localhost:8080/"
        },
        "id": "IDpXUo7CObN5",
        "outputId": "c755808c-03ab-434a-8b37-bcf503ef61dd"
      },
      "execution_count": 20,
      "outputs": [
        {
          "output_type": "stream",
          "name": "stdout",
          "text": [
            "도시,현재기온,체감온도\n",
            "\n",
            "강릉 -6.0 -12.5\n",
            "\n",
            "강진군 -4.3 -7.6\n",
            "\n",
            "강화 -10.2 -10.2\n",
            "\n",
            "거제 -1.2 -5.1\n",
            "\n",
            "거창 -8.9 -8.9\n",
            "\n",
            "경주시 -4.5 -10.2\n",
            "\n",
            "고산 1.1 -8.3\n",
            "\n",
            "고창 -6.1 -9.3\n",
            "\n",
            "고창군 -5.5 -8.7\n",
            "\n",
            "고흥 -4.0 -9.7\n",
            "\n",
            "광양시 -3.1 -7.6\n",
            "\n",
            "광주 -4.7 -8.6\n",
            "\n",
            "구미 -5.4 -5.4\n",
            "\n",
            "군산 -6.8 -6.8\n",
            "\n",
            "금산 -10.5 -10.5\n",
            "\n",
            "김해시 -3.3 -7.9\n",
            "\n",
            "남원 -7.7 -7.7\n",
            "\n",
            "남해 -1.6 -4.9\n",
            "\n",
            "대관령 -14.9 -22.5\n",
            "\n",
            "대구 -4.6 -9.9\n",
            "\n",
            "대전 -8.6 -8.6\n",
            "\n",
            "동두천 -10.6 -14.3\n",
            "\n",
            "동해 -4.6 -11.4\n",
            "\n",
            "목포 -5.2 -9.7\n",
            "\n",
            "문경 -8.2 -8.2\n",
            "\n",
            "밀양 -3.2 -6.1\n",
            "\n",
            "백령도 -5.2 -14.3\n",
            "\n",
            "보령 -6.6 -6.6\n",
            "\n",
            "보성군 -2.8 -8.0\n",
            "\n",
            "보은 -11.2 -11.2\n",
            "\n",
            "봉화 -6.5 -10.6\n",
            "\n",
            "부산 -3.1 -9.0\n",
            "\n",
            "부안 -5.3 -5.3\n",
            "\n",
            "부여 -8.4 -8.4\n",
            "\n",
            "북강릉 -6.4 -11.7\n",
            "\n",
            "북창원 -3.0 -8.1\n",
            "\n",
            "북춘천 -13.2 -13.2\n",
            "\n",
            "산청 -6.3 -9.0\n",
            "\n",
            "상주 -7.2 -10.4\n",
            "\n",
            "서귀포 0.3 -1.9\n",
            "\n",
            "서산 -5.6 -10.2\n",
            "\n",
            "서울 -9.1 -14.9\n",
            "\n",
            "성산 -0.7 -6.0\n",
            "\n",
            "세종 -8.0 -10.9\n",
            "\n",
            "속초 -7.8 -12.1\n",
            "\n",
            "수원 -9.3 -14.9\n",
            "\n",
            "순창군 -7.2 -7.2\n",
            "\n",
            "순천 -4.9 -8.7\n",
            "\n",
            "안동 -7.4 -11.4\n",
            "\n",
            "양산시 -1.9 -4.1\n",
            "\n",
            "양평 -7.8 -12.3\n",
            "\n",
            "여수 -2.6 -7.9\n",
            "\n",
            "영광군 -5.6 -5.6\n",
            "\n",
            "영덕 -4.8 -11.3\n",
            "\n",
            "영월 -8.2 -11.5\n",
            "\n",
            "영주 -7.7 -14.6\n",
            "\n",
            "영천 -5.4 -9.7\n",
            "\n",
            "완도 -0.8 -6.5\n",
            "\n",
            "울릉도 -2.7 -8.5\n",
            "\n",
            "울산 -3.4 -6.8\n",
            "\n",
            "울진 -5.2 -11.2\n",
            "\n",
            "원주 -7.4 -10.2\n",
            "\n",
            "의령군 -3.6 -7.5\n",
            "\n",
            "의성 -9.2 -9.2\n",
            "\n",
            "이천 -8.5 -12.0\n",
            "\n",
            "인제 -12.3 -12.3\n",
            "\n",
            "인천 -9.4 -15.8\n",
            "\n",
            "임실 -11.1 -11.1\n",
            "\n",
            "장수 -12.7 -12.7\n",
            "\n",
            "장흥 -4.4 -7.6\n",
            "\n",
            "전주 -6.1 -6.1\n",
            "\n",
            "정선군 -9.2 -15.7\n",
            "\n",
            "정읍 -6.4 -6.4\n",
            "\n",
            "제주 1.9 -4.6\n",
            "\n",
            "제천 -12.0 -12.0\n",
            "\n",
            "진도군 -1.5 -6.9\n",
            "\n",
            "진주 -2.8 -5.1\n",
            "\n",
            "창원 -4.3 -7.5\n",
            "\n",
            "천안 -10.9 -10.9\n",
            "\n",
            "철원 -11.8 -11.8\n",
            "\n",
            "청송군 -8.4 -13.0\n",
            "\n",
            "청주 -6.7 -6.7\n",
            "\n",
            "추풍령 -8.7 -13.7\n",
            "\n",
            "춘천 -11.9 -11.9\n",
            "\n",
            "충주 -8.4 -11.9\n",
            "\n",
            "태백 -12.4 -12.4\n",
            "\n",
            "통영 -1.2 -6.8\n",
            "\n",
            "파주 -12.0 -12.0\n",
            "\n",
            "포항 -3.8 -7.2\n",
            "\n",
            "함양군 -7.3 -7.3\n",
            "\n",
            "합천 -4.0 -6.3\n",
            "\n",
            "해남 -4.1 -8.3\n",
            "\n",
            "홍성 -7.4 -10.6\n",
            "\n",
            "홍천 -10.0 -13.8\n",
            "\n",
            "흑산도 -0.8 -8.0\n",
            "\n"
          ]
        }
      ]
    }
  ]
}