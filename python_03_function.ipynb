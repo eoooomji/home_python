{
  "nbformat": 4,
  "nbformat_minor": 0,
  "metadata": {
    "colab": {
      "provenance": [],
      "authorship_tag": "ABX9TyPuWOw3Fkzu7fk1xIJmvdC8",
      "include_colab_link": true
    },
    "kernelspec": {
      "name": "python3",
      "display_name": "Python 3"
    },
    "language_info": {
      "name": "python"
    }
  },
  "cells": [
    {
      "cell_type": "markdown",
      "metadata": {
        "id": "view-in-github",
        "colab_type": "text"
      },
      "source": [
        "<a href=\"https://colab.research.google.com/github/eoooomji/home_python/blob/master/python_03_function.ipynb\" target=\"_parent\"><img src=\"https://colab.research.google.com/assets/colab-badge.svg\" alt=\"Open In Colab\"/></a>"
      ]
    },
    {
      "cell_type": "markdown",
      "source": [
        "# Function\n",
        "\n",
        "```\n",
        "def proc() :\n",
        "  pass\n",
        "- pass는 함수기능 을 구현하지 않을 때 사용한다.\n",
        "- 아무것도 쓰지 않으면 에러가 발생하기 때문에 pass를 사용한다.\n",
        "```\n",
        "#### Function의 기능 및 종류\n",
        "\n",
        "```\n",
        "1. positional( / ), keyword( * ) / ( ** )\n",
        "2. overloading 지원 안함\n",
        "3. 외부 자원 변경(global, nonlocal)\n",
        "```\n"
      ],
      "metadata": {
        "id": "689mCBVe0Dks"
      }
    },
    {
      "cell_type": "code",
      "source": [
        "def proc() :\n",
        "  pass\n",
        "# pass는 구현을 하지 않을 때 사용"
      ],
      "metadata": {
        "id": "07VK6F9B0_tr"
      },
      "execution_count": null,
      "outputs": []
    },
    {
      "cell_type": "code",
      "source": [
        "def display() :\n",
        "  pass\n",
        "\n",
        "display()\n",
        "\n",
        "print(display())"
      ],
      "metadata": {
        "colab": {
          "base_uri": "https://localhost:8080/"
        },
        "id": "_OumrbTi1JTs",
        "outputId": "3f0936d3-ed16-4f90-b1d8-7041d16473db"
      },
      "execution_count": null,
      "outputs": [
        {
          "output_type": "stream",
          "name": "stdout",
          "text": [
            "None\n"
          ]
        }
      ]
    },
    {
      "cell_type": "markdown",
      "source": [
        "### callable\n",
        "\n",
        "- 이름 뒤에 괄호()를 붙이는 것을 call(호출) 이라고 한다.\n",
        "\n",
        "- 이름 뒤에 괄호()를 붙일 수 있는 것을 callable이라고 한다.\n",
        "\n",
        "- 함수는 사용할 때 이름 뒤에 괄호를 붙인다.\n",
        "\n",
        "- python에서 callable인 것이 3가지 유형이 있다.\n",
        "\n",
        "  (1) function  \n",
        "  (2) class(init이 정의 되었을 경우)  \n",
        "  (3) object(call이 정의 되었을 경우)  "
      ],
      "metadata": {
        "id": "yRIniiAe0lR8"
      }
    },
    {
      "cell_type": "code",
      "source": [
        "a = 3\n",
        "a()"
      ],
      "metadata": {
        "colab": {
          "base_uri": "https://localhost:8080/",
          "height": 193
        },
        "id": "aHRbSJ1C1Qe_",
        "outputId": "3a589a60-c9fa-47bc-e2a6-44c173f630ce"
      },
      "execution_count": null,
      "outputs": [
        {
          "output_type": "error",
          "ename": "TypeError",
          "evalue": "ignored",
          "traceback": [
            "\u001b[0;31m---------------------------------------------------------------------------\u001b[0m",
            "\u001b[0;31mTypeError\u001b[0m                                 Traceback (most recent call last)",
            "\u001b[0;32m<ipython-input-5-0bf2a3b2549b>\u001b[0m in \u001b[0;36m<module>\u001b[0;34m\u001b[0m\n\u001b[1;32m      1\u001b[0m \u001b[0ma\u001b[0m \u001b[0;34m=\u001b[0m \u001b[0;36m3\u001b[0m\u001b[0;34m\u001b[0m\u001b[0;34m\u001b[0m\u001b[0m\n\u001b[0;32m----> 2\u001b[0;31m \u001b[0ma\u001b[0m\u001b[0;34m(\u001b[0m\u001b[0;34m)\u001b[0m\u001b[0;34m\u001b[0m\u001b[0;34m\u001b[0m\u001b[0m\n\u001b[0m",
            "\u001b[0;31mTypeError\u001b[0m: 'int' object is not callable"
          ]
        }
      ]
    },
    {
      "cell_type": "code",
      "source": [
        "# python에서는 빌트인 함수를 변수로써 사용이 가능하다.\n",
        "# 허나 사용하게 되면 갖고있던 기능을 잃는다.\n",
        "# 그럴때는 del을 이용하여 지워주게 되면 기존의 기능을 되찾는다.\n",
        "list = 3\n",
        "del list\n",
        "list()"
      ],
      "metadata": {
        "colab": {
          "base_uri": "https://localhost:8080/"
        },
        "id": "y5rXwGZz1V6l",
        "outputId": "de7e6da6-5a14-4588-c90e-9610aaa2c790"
      },
      "execution_count": null,
      "outputs": [
        {
          "output_type": "execute_result",
          "data": {
            "text/plain": [
              "[]"
            ]
          },
          "metadata": {},
          "execution_count": 6
        }
      ]
    },
    {
      "cell_type": "code",
      "source": [
        "def prn() :\n",
        "  return 1\n",
        "\n",
        "prn() # 실행\n",
        "\n",
        "prn # 괄호를 붙이지 않으면 함수식을 그대로 반환한다.\n",
        "\n",
        "callable(prn)\n",
        "# 내장함수 callable은 객체가 ()를 붙여 사용할 수 있는지를 True / Flase로 알려준다."
      ],
      "metadata": {
        "colab": {
          "base_uri": "https://localhost:8080/"
        },
        "id": "1DEbwmTW1jCr",
        "outputId": "ef5842d3-0ae3-47ef-e169-2a4358e9a4a6"
      },
      "execution_count": null,
      "outputs": [
        {
          "output_type": "execute_result",
          "data": {
            "text/plain": [
              "True"
            ]
          },
          "metadata": {},
          "execution_count": 10
        }
      ]
    },
    {
      "cell_type": "code",
      "source": [
        "a = 3\n",
        "callable(a)"
      ],
      "metadata": {
        "colab": {
          "base_uri": "https://localhost:8080/"
        },
        "id": "EjbprIh31yab",
        "outputId": "b6cb5c52-157f-4058-860f-271cef2d77a4"
      },
      "execution_count": null,
      "outputs": [
        {
          "output_type": "execute_result",
          "data": {
            "text/plain": [
              "False"
            ]
          },
          "metadata": {},
          "execution_count": 11
        }
      ]
    },
    {
      "cell_type": "markdown",
      "source": [
        "### 매개변수(parameter) / 인자(argument)\n",
        "\n",
        "1. positional\n",
        "\n",
        "2. keyword\n",
        "\n",
        "3. position & keyword\n",
        "\n",
        "4. position only\n",
        "\n",
        "5. keyword only\n",
        "\n",
        "6. 가변 positional\n",
        "\n",
        "7. 가변 keyword"
      ],
      "metadata": {
        "id": "aJ-HUwyw137L"
      }
    },
    {
      "cell_type": "markdown",
      "source": [
        "#### 1. positional\n",
        "\n",
        "- 함수 호출  \n",
        "\n",
        "- 선언할 때 파라미터의 순서와 호출할 때 인자의 입력순서를 그대로 매칭한다.\n",
        "\n",
        "- 매개변수 순서와 넘겨주는 순서가 중요하다.\n"
      ],
      "metadata": {
        "id": "Tt41tS-O2ILL"
      }
    },
    {
      "cell_type": "code",
      "source": [
        "def proc(a, b) :\n",
        "  return a, b\n",
        "\n",
        "proc(2, 4)"
      ],
      "metadata": {
        "colab": {
          "base_uri": "https://localhost:8080/"
        },
        "id": "_t8gKsnK2Hcn",
        "outputId": "32eb8b0e-2d14-43fd-cedc-504b69f979b1"
      },
      "execution_count": null,
      "outputs": [
        {
          "output_type": "execute_result",
          "data": {
            "text/plain": [
              "(2, 4)"
            ]
          },
          "metadata": {},
          "execution_count": 12
        }
      ]
    },
    {
      "cell_type": "markdown",
      "source": [
        "#### 2. keyword\n",
        "\n",
        "- keyword 방식을 이용하면 순서와 관계없이 파라미터 이름에 따라 값이 대입된다.\n",
        "\n",
        "- 순서와 상관 없이 값을 넘겨줄 수 있다."
      ],
      "metadata": {
        "id": "P0csZaIS2emT"
      }
    },
    {
      "cell_type": "code",
      "source": [
        "proc(b = 4, a = 2)"
      ],
      "metadata": {
        "colab": {
          "base_uri": "https://localhost:8080/"
        },
        "id": "m26jjIlR2eJW",
        "outputId": "0bdf2a30-a5b6-4724-f4fa-8cdb611f0823"
      },
      "execution_count": null,
      "outputs": [
        {
          "output_type": "execute_result",
          "data": {
            "text/plain": [
              "(2, 4)"
            ]
          },
          "metadata": {},
          "execution_count": 13
        }
      ]
    },
    {
      "cell_type": "markdown",
      "source": [
        "#### 3. position & keyword 혼합\n",
        "\n",
        "- 혼합해서 사용시 position 먼저 사용을 해야 오류가 나지 않는다.\n",
        "\n",
        "- 한번 keyword 방식을 사용하면, 그 다음부터 keyword 방법만 사용할 수 있다."
      ],
      "metadata": {
        "id": "_-HxODo72wkb"
      }
    },
    {
      "cell_type": "code",
      "source": [
        "def proc(a, b, c) :\n",
        "  return a, b, c\n",
        "\n",
        "proc(2, c = 5, b = 3)"
      ],
      "metadata": {
        "colab": {
          "base_uri": "https://localhost:8080/"
        },
        "id": "Fp11Oi-02wPb",
        "outputId": "c76efc42-9ddb-4b21-bf8f-05ec76b9f914"
      },
      "execution_count": null,
      "outputs": [
        {
          "output_type": "execute_result",
          "data": {
            "text/plain": [
              "(2, 3, 5)"
            ]
          },
          "metadata": {},
          "execution_count": 14
        }
      ]
    },
    {
      "cell_type": "code",
      "source": [
        "proc(b = 5, a = 4, 8)\n",
        "# SyntaxError: positional argument follows keyword argument"
      ],
      "metadata": {
        "colab": {
          "base_uri": "https://localhost:8080/",
          "height": 137
        },
        "id": "6TqQZj533C-T",
        "outputId": "e36ab2ce-3f27-4e9d-d413-b96395a1e3ab"
      },
      "execution_count": null,
      "outputs": [
        {
          "output_type": "error",
          "ename": "SyntaxError",
          "evalue": "ignored",
          "traceback": [
            "\u001b[0;36m  File \u001b[0;32m\"<ipython-input-15-622090d4b599>\"\u001b[0;36m, line \u001b[0;32m1\u001b[0m\n\u001b[0;31m    proc(b = 5, a = 4, 8)\u001b[0m\n\u001b[0m                       ^\u001b[0m\n\u001b[0;31mSyntaxError\u001b[0m\u001b[0;31m:\u001b[0m positional argument follows keyword argument\n"
          ]
        }
      ]
    },
    {
      "cell_type": "markdown",
      "source": [
        "#### 4. position only\n",
        "\n",
        "- position only는 함수를 사용할 때 position방식으로만 인자를 쓸 수 있도록 강제하는 방법이다.\n",
        "\n",
        "- '/'의 앞에 오는 인자들은 position방식으로 입력할 수 있지만, keyword방식으로 입력할 수 없다.\n",
        "\n",
        "- position only함수를 선언하는 것은 python3.8부터 지원한다.\n",
        "\n",
        "- 이전 버전에서는 사전 정의된 position only함수는 있지만, 사용자가 만들 수는 없었다."
      ],
      "metadata": {
        "id": "h0dPZnZW3vqT"
      }
    },
    {
      "cell_type": "code",
      "source": [
        "# 무조건 / 기호는 뒤에 넣어주어야 한다.\n",
        "def proc(a, b, c, /) :\n",
        "  return a, b, c\n",
        "proc(4, 5, 6)"
      ],
      "metadata": {
        "colab": {
          "base_uri": "https://localhost:8080/"
        },
        "id": "lQKPzM3k4Ngi",
        "outputId": "792ebb51-0677-4ea0-cc07-706b280cf780"
      },
      "execution_count": null,
      "outputs": [
        {
          "output_type": "execute_result",
          "data": {
            "text/plain": [
              "(4, 5, 6)"
            ]
          },
          "metadata": {},
          "execution_count": 16
        }
      ]
    },
    {
      "cell_type": "code",
      "source": [
        "proc(4, c = 5, b = 2)\n",
        "# TypeError: proc() got some positional-only arguments passed as keyword arguments: 'b, c'"
      ],
      "metadata": {
        "colab": {
          "base_uri": "https://localhost:8080/",
          "height": 174
        },
        "id": "a7_o_Lyq4VX7",
        "outputId": "85f9d4ca-8b1d-4b90-9d0c-cddd2f809f9b"
      },
      "execution_count": null,
      "outputs": [
        {
          "output_type": "error",
          "ename": "TypeError",
          "evalue": "ignored",
          "traceback": [
            "\u001b[0;31m---------------------------------------------------------------------------\u001b[0m",
            "\u001b[0;31mTypeError\u001b[0m                                 Traceback (most recent call last)",
            "\u001b[0;32m<ipython-input-17-bd8574b7d712>\u001b[0m in \u001b[0;36m<module>\u001b[0;34m\u001b[0m\n\u001b[0;32m----> 1\u001b[0;31m \u001b[0mproc\u001b[0m\u001b[0;34m(\u001b[0m\u001b[0;36m4\u001b[0m\u001b[0;34m,\u001b[0m \u001b[0mc\u001b[0m \u001b[0;34m=\u001b[0m \u001b[0;36m5\u001b[0m\u001b[0;34m,\u001b[0m \u001b[0mb\u001b[0m \u001b[0;34m=\u001b[0m \u001b[0;36m2\u001b[0m\u001b[0;34m)\u001b[0m\u001b[0;34m\u001b[0m\u001b[0;34m\u001b[0m\u001b[0m\n\u001b[0m",
            "\u001b[0;31mTypeError\u001b[0m: proc() got some positional-only arguments passed as keyword arguments: 'b, c'"
          ]
        }
      ]
    },
    {
      "cell_type": "code",
      "source": [
        "def proc2(a, b, c, /, d, e) :\n",
        "  return a, b, c, d, e\n",
        "print(proc2(1, 2, 3, e = 4, d = 5))"
      ],
      "metadata": {
        "colab": {
          "base_uri": "https://localhost:8080/"
        },
        "id": "YlnLCkaH4bQz",
        "outputId": "65de71fd-64b4-42f6-fbf2-de25a217a389"
      },
      "execution_count": null,
      "outputs": [
        {
          "output_type": "stream",
          "name": "stdout",
          "text": [
            "(1, 2, 3, 5, 4)\n"
          ]
        }
      ]
    },
    {
      "cell_type": "markdown",
      "source": [
        "#### 5. keyword only\n",
        "\n",
        "- keyword only 방식은 인자를 keyword 방식으로만 입력하도록 강제하는 방법이다.\n",
        "\n",
        "- '*' 이후로는 키워드 방식만 가능하다."
      ],
      "metadata": {
        "id": "PJ-qgFir4nyS"
      }
    },
    {
      "cell_type": "code",
      "source": [
        "def proc(*, a, b, c) :\n",
        "  return a, b, c\n",
        "\n",
        "proc(c = 3, a = 5, b = 2)"
      ],
      "metadata": {
        "colab": {
          "base_uri": "https://localhost:8080/"
        },
        "id": "yWyNgboM4zes",
        "outputId": "dfb8626e-d0a1-4055-83e4-a7f8880297fc"
      },
      "execution_count": null,
      "outputs": [
        {
          "output_type": "execute_result",
          "data": {
            "text/plain": [
              "(5, 2, 3)"
            ]
          },
          "metadata": {},
          "execution_count": 19
        }
      ]
    },
    {
      "cell_type": "code",
      "source": [
        "proc(3, 4, 5)"
      ],
      "metadata": {
        "colab": {
          "base_uri": "https://localhost:8080/",
          "height": 174
        },
        "id": "Fbxq-SLb465h",
        "outputId": "217bd2d5-fd0d-40fb-b50f-ffffd7c56113"
      },
      "execution_count": null,
      "outputs": [
        {
          "output_type": "error",
          "ename": "TypeError",
          "evalue": "ignored",
          "traceback": [
            "\u001b[0;31m---------------------------------------------------------------------------\u001b[0m",
            "\u001b[0;31mTypeError\u001b[0m                                 Traceback (most recent call last)",
            "\u001b[0;32m<ipython-input-20-a2e9cb19dd54>\u001b[0m in \u001b[0;36m<module>\u001b[0;34m\u001b[0m\n\u001b[0;32m----> 1\u001b[0;31m \u001b[0mproc\u001b[0m\u001b[0;34m(\u001b[0m\u001b[0;36m3\u001b[0m\u001b[0;34m,\u001b[0m \u001b[0;36m4\u001b[0m\u001b[0;34m,\u001b[0m \u001b[0;36m5\u001b[0m\u001b[0;34m)\u001b[0m\u001b[0;34m\u001b[0m\u001b[0;34m\u001b[0m\u001b[0m\n\u001b[0m",
            "\u001b[0;31mTypeError\u001b[0m: proc() takes 0 positional arguments but 3 were given"
          ]
        }
      ]
    },
    {
      "cell_type": "markdown",
      "source": [
        "#### 6. 가변 positional\n",
        "\n",
        "- 가변 positional은 파라미터 이름에 '*'를 붙인다.\n",
        "\n",
        "- positional 방식으로 입력되는 인자의 개수에 상관없이 모두 받아온다."
      ],
      "metadata": {
        "id": "J3RkJn9k5BP6"
      }
    },
    {
      "cell_type": "code",
      "source": [
        "def proc(*a) :\n",
        "  return a\n",
        "\n",
        "print(proc())\n",
        "print(type(proc()))\n",
        "print(proc(1))\n",
        "print(proc(1, 2))"
      ],
      "metadata": {
        "colab": {
          "base_uri": "https://localhost:8080/"
        },
        "id": "DSA9qonU5SBh",
        "outputId": "42e09304-df83-4ca3-dcde-0ff5c560b273"
      },
      "execution_count": null,
      "outputs": [
        {
          "output_type": "stream",
          "name": "stdout",
          "text": [
            "()\n",
            "<class 'tuple'>\n",
            "(1,)\n",
            "(1, 2)\n"
          ]
        }
      ]
    },
    {
      "cell_type": "code",
      "source": [
        "# 인자로 넘긴 값을 tuple로 반환한다.\n",
        "def proc2(*a) :\n",
        "  print(type(a))\n",
        "  hap = 0\n",
        "  for i in a :\n",
        "    hap += i\n",
        "  return hap\n",
        "\n",
        "print(proc2(1, 3, 5))\n",
        "proc2()"
      ],
      "metadata": {
        "colab": {
          "base_uri": "https://localhost:8080/"
        },
        "id": "I8RNbsu-5hu7",
        "outputId": "dcff696f-907e-4793-f2b5-0b102d4a00a0"
      },
      "execution_count": null,
      "outputs": [
        {
          "output_type": "stream",
          "name": "stdout",
          "text": [
            "<class 'tuple'>\n",
            "9\n",
            "<class 'tuple'>\n"
          ]
        },
        {
          "output_type": "execute_result",
          "data": {
            "text/plain": [
              "0"
            ]
          },
          "metadata": {},
          "execution_count": 27
        }
      ]
    },
    {
      "cell_type": "markdown",
      "source": [
        "#### 7. 가변 keyword\n",
        "\n",
        "- 가변 keyword는 파라미터 이름에 '**'를 붙인다.\n",
        "\n",
        "- keyword 방식으로는 입력되는 인자의 개수에 상관없이 모두 받아온다.\n",
        "\n",
        "- 가변 keyword / 가변 positional은 한 번만 사용할 수 있다."
      ],
      "metadata": {
        "id": "hD2JepOF6CrC"
      }
    },
    {
      "cell_type": "code",
      "source": [
        "# 인자로 넘겨준 이름을 dict의 키로 사용한다.\n",
        "def proc(**a) :\n",
        "  return a\n",
        "\n",
        "print(proc())\n",
        "print(type(proc()))\n",
        "print(proc(a = 1))\n",
        "print(proc(a = 1, b = 2))"
      ],
      "metadata": {
        "colab": {
          "base_uri": "https://localhost:8080/"
        },
        "id": "apun1j9A6CMj",
        "outputId": "e276d599-857a-47dc-d6b5-013f6e18246f"
      },
      "execution_count": null,
      "outputs": [
        {
          "output_type": "stream",
          "name": "stdout",
          "text": [
            "{}\n",
            "<class 'dict'>\n",
            "{'a': 1}\n",
            "{'a': 1, 'b': 2}\n"
          ]
        }
      ]
    },
    {
      "cell_type": "code",
      "source": [
        "def proc2(**a) :\n",
        "  print(type(a))\n",
        "  return a\n",
        "\n",
        "print(proc2(x = 2, y = 3))\n",
        "print(proc2(x = 3, y = 1, z = [1, 2, 3]))"
      ],
      "metadata": {
        "colab": {
          "base_uri": "https://localhost:8080/"
        },
        "id": "xAH3Z5-G6wli",
        "outputId": "22556d2b-a0f6-4358-e74d-42cf4134c616"
      },
      "execution_count": null,
      "outputs": [
        {
          "output_type": "stream",
          "name": "stdout",
          "text": [
            "<class 'dict'>\n",
            "{'x': 2, 'y': 3}\n",
            "<class 'dict'>\n",
            "{'x': 3, 'y': 1, 'z': [1, 2, 3]}\n"
          ]
        }
      ]
    },
    {
      "cell_type": "code",
      "source": [
        "def proc(*a, *b) :\n",
        "  return a, b"
      ],
      "metadata": {
        "colab": {
          "base_uri": "https://localhost:8080/",
          "height": 137
        },
        "id": "iBxOzZS_7cCJ",
        "outputId": "d26440ae-267a-4f78-b7b4-dbf4282a1822"
      },
      "execution_count": null,
      "outputs": [
        {
          "output_type": "error",
          "ename": "SyntaxError",
          "evalue": "ignored",
          "traceback": [
            "\u001b[0;36m  File \u001b[0;32m\"<ipython-input-31-901fb769f5c6>\"\u001b[0;36m, line \u001b[0;32m1\u001b[0m\n\u001b[0;31m    def proc(*a, *b) :\u001b[0m\n\u001b[0m                 ^\u001b[0m\n\u001b[0;31mSyntaxError\u001b[0m\u001b[0;31m:\u001b[0m invalid syntax\n"
          ]
        }
      ]
    },
    {
      "cell_type": "code",
      "source": [
        "def proc(**a, **b) :\n",
        "  return a, b"
      ],
      "metadata": {
        "colab": {
          "base_uri": "https://localhost:8080/",
          "height": 137
        },
        "id": "wjUhHeMM7gRs",
        "outputId": "a453394a-867a-4545-ae7c-2559bd1c6c17"
      },
      "execution_count": null,
      "outputs": [
        {
          "output_type": "error",
          "ename": "SyntaxError",
          "evalue": "ignored",
          "traceback": [
            "\u001b[0;36m  File \u001b[0;32m\"<ipython-input-32-d20bbf11b521>\"\u001b[0;36m, line \u001b[0;32m1\u001b[0m\n\u001b[0;31m    def proc(**a, **b) :\u001b[0m\n\u001b[0m                  ^\u001b[0m\n\u001b[0;31mSyntaxError\u001b[0m\u001b[0;31m:\u001b[0m invalid syntax\n"
          ]
        }
      ]
    },
    {
      "cell_type": "code",
      "source": [
        "def proc(*a, b) :\n",
        "  return a, b\n",
        "\n",
        "print(proc(1, 2, 3, 4, b = 5))"
      ],
      "metadata": {
        "colab": {
          "base_uri": "https://localhost:8080/"
        },
        "id": "z5OwKOX67kYJ",
        "outputId": "e7e8d941-ee58-4d1e-cb75-0d7d7b72469b"
      },
      "execution_count": null,
      "outputs": [
        {
          "output_type": "stream",
          "name": "stdout",
          "text": [
            "((1, 2, 3, 4), 5)\n"
          ]
        }
      ]
    },
    {
      "cell_type": "markdown",
      "source": [
        "### return\n",
        "\n",
        "- 함수의 결과값을 넘겨주는 목적으로 사용한다.\n",
        "\n",
        "- 함수를 강제적을로 종료할 때 사용한다.\n",
        "\n",
        "- 함수는 return을 2번 이상 사용할 수 없다.\n",
        "\n",
        "- 함수의 결과를 2개 이상으로 받고 싶다면 unpacking해서 값을 받는다."
      ],
      "metadata": {
        "id": "iUJVvLPw7s-B"
      }
    },
    {
      "cell_type": "code",
      "source": [
        "def proc(*a) :\n",
        "  total = 0\n",
        "  avg = 0\n",
        "  for i in a :\n",
        "    total += i\n",
        "\n",
        "  avg = total / len(a)\n",
        "  return (total, avg)"
      ],
      "metadata": {
        "id": "fHsryuF476TJ"
      },
      "execution_count": null,
      "outputs": []
    },
    {
      "cell_type": "code",
      "source": [
        "# 함수의 결과를 2개로 받고 싶을 때 unpacking을 사용하면 된다.\n",
        "print(proc(1, 2, 3, 4))\n",
        "total, avg = proc(1, 2, 3, 4)\n",
        "print(total)\n",
        "print(avg)"
      ],
      "metadata": {
        "colab": {
          "base_uri": "https://localhost:8080/"
        },
        "id": "5s8O94tf8Eqw",
        "outputId": "ce72060a-aa2b-4ff8-d2aa-94e47ecef59b"
      },
      "execution_count": null,
      "outputs": [
        {
          "output_type": "stream",
          "name": "stdout",
          "text": [
            "(10, 2.5)\n",
            "10\n",
            "2.5\n"
          ]
        }
      ]
    },
    {
      "cell_type": "code",
      "source": [
        "def proc(**a) :\n",
        "  total = 0\n",
        "  avg = 0\n",
        "  # for key in a :\n",
        "   # total += a[key]\n",
        "  # for key, value in a.items() :\n",
        "  for _, value in a.items() :\n",
        "    total += value\n",
        "  avg = total / len(a)\n",
        "  return (total, avg)"
      ],
      "metadata": {
        "id": "OOdeYum298cP"
      },
      "execution_count": null,
      "outputs": []
    },
    {
      "cell_type": "code",
      "source": [
        "print(proc(a = 5, b = 6, c = 7, d = 8))\n",
        "total, avg = proc(a = 5, b = 6, c = 7, d = 8)\n",
        "print(total)\n",
        "print(avg)"
      ],
      "metadata": {
        "colab": {
          "base_uri": "https://localhost:8080/"
        },
        "id": "e2EorQ8h9JCw",
        "outputId": "b84a5281-4f8f-47f9-dc1c-88dfa43d5765"
      },
      "execution_count": null,
      "outputs": [
        {
          "output_type": "stream",
          "name": "stdout",
          "text": [
            "(26, 6.5)\n",
            "26\n",
            "6.5\n"
          ]
        }
      ]
    },
    {
      "cell_type": "markdown",
      "source": [
        "#### overloading / overriding\n",
        "\n",
        "1. overloading : 단일  \n",
        "  함수의 이름은 같은데, 매개변수 개수 또는 매개 변수의 타입이 달라야 한다.  \n",
        "  python은 overload를 지원하지 않는다.\n",
        "\n",
        "2. overriding : 상속"
      ],
      "metadata": {
        "id": "c0czKT-F-qeA"
      }
    },
    {
      "cell_type": "code",
      "source": [
        "def add(a) :\n",
        "  return a + 1\n",
        "\n",
        "add(3)"
      ],
      "metadata": {
        "colab": {
          "base_uri": "https://localhost:8080/"
        },
        "id": "kfnHocna_Lnb",
        "outputId": "485c30c3-760d-4af0-c709-77a3d3965ad1"
      },
      "execution_count": null,
      "outputs": [
        {
          "output_type": "execute_result",
          "data": {
            "text/plain": [
              "4"
            ]
          },
          "metadata": {},
          "execution_count": 44
        }
      ]
    },
    {
      "cell_type": "code",
      "source": [
        "def add(a, b) :\n",
        "  return a + b\n",
        "\n",
        "add(5, 6)"
      ],
      "metadata": {
        "colab": {
          "base_uri": "https://localhost:8080/"
        },
        "id": "waPHCnBI_PCX",
        "outputId": "aebf214d-7f66-42a1-e679-c584f7eb8a22"
      },
      "execution_count": null,
      "outputs": [
        {
          "output_type": "execute_result",
          "data": {
            "text/plain": [
              "11"
            ]
          },
          "metadata": {},
          "execution_count": 45
        }
      ]
    },
    {
      "cell_type": "code",
      "source": [
        "# overloading 사례(python은 지원 안함)\n",
        "def add(a) :\n",
        "  return a + 1\n",
        "\n",
        "def add(a, b) :\n",
        "  return a + b\n",
        "\n",
        "add(3)\n",
        "add(5, 6)"
      ],
      "metadata": {
        "colab": {
          "base_uri": "https://localhost:8080/",
          "height": 229
        },
        "id": "fjlmKny6_R36",
        "outputId": "9880b0f0-4cfb-4e81-ed13-5a098bc447e3"
      },
      "execution_count": null,
      "outputs": [
        {
          "output_type": "error",
          "ename": "TypeError",
          "evalue": "ignored",
          "traceback": [
            "\u001b[0;31m---------------------------------------------------------------------------\u001b[0m",
            "\u001b[0;31mTypeError\u001b[0m                                 Traceback (most recent call last)",
            "\u001b[0;32m<ipython-input-46-e7431ca0f831>\u001b[0m in \u001b[0;36m<module>\u001b[0;34m\u001b[0m\n\u001b[1;32m      6\u001b[0m   \u001b[0;32mreturn\u001b[0m \u001b[0ma\u001b[0m \u001b[0;34m+\u001b[0m \u001b[0mb\u001b[0m\u001b[0;34m\u001b[0m\u001b[0;34m\u001b[0m\u001b[0m\n\u001b[1;32m      7\u001b[0m \u001b[0;34m\u001b[0m\u001b[0m\n\u001b[0;32m----> 8\u001b[0;31m \u001b[0madd\u001b[0m\u001b[0;34m(\u001b[0m\u001b[0;36m3\u001b[0m\u001b[0;34m)\u001b[0m\u001b[0;34m\u001b[0m\u001b[0;34m\u001b[0m\u001b[0m\n\u001b[0m\u001b[1;32m      9\u001b[0m \u001b[0madd\u001b[0m\u001b[0;34m(\u001b[0m\u001b[0;36m5\u001b[0m\u001b[0;34m,\u001b[0m \u001b[0;36m6\u001b[0m\u001b[0;34m)\u001b[0m\u001b[0;34m\u001b[0m\u001b[0;34m\u001b[0m\u001b[0m\n",
            "\u001b[0;31mTypeError\u001b[0m: add() missing 1 required positional argument: 'b'"
          ]
        }
      ]
    },
    {
      "cell_type": "code",
      "source": [
        "def proc(a, b) :\n",
        "  return a + b\n",
        "\n",
        "type(proc)\n",
        "dir(proc)\n",
        "type(proc.__name__)"
      ],
      "metadata": {
        "colab": {
          "base_uri": "https://localhost:8080/"
        },
        "id": "CI69v6nU_gqo",
        "outputId": "dfc84454-a13e-4024-c6e5-a2d50967a57c"
      },
      "execution_count": null,
      "outputs": [
        {
          "output_type": "execute_result",
          "data": {
            "text/plain": [
              "str"
            ]
          },
          "metadata": {},
          "execution_count": 49
        }
      ]
    },
    {
      "cell_type": "code",
      "source": [
        "# __name__은 함수 이름을 알려준다.\n",
        "proc.__name__"
      ],
      "metadata": {
        "colab": {
          "base_uri": "https://localhost:8080/",
          "height": 35
        },
        "id": "NRyth2TT_pPY",
        "outputId": "714d87a0-1738-4f68-8ff8-ddb4dce6c309"
      },
      "execution_count": null,
      "outputs": [
        {
          "output_type": "execute_result",
          "data": {
            "text/plain": [
              "'proc'"
            ],
            "application/vnd.google.colaboratory.intrinsic+json": {
              "type": "string"
            }
          },
          "metadata": {},
          "execution_count": 50
        }
      ]
    },
    {
      "cell_type": "code",
      "source": [
        "# proc는 함수를 가져오고, proc()는 함수를 실행하라는 뜻이다.\n",
        "display = proc;\n",
        "print(display.__name__)\n",
        "display"
      ],
      "metadata": {
        "colab": {
          "base_uri": "https://localhost:8080/"
        },
        "id": "K0iOADeq_sjP",
        "outputId": "d076da65-5b95-42a0-9ccd-d12fa116b3ea"
      },
      "execution_count": null,
      "outputs": [
        {
          "output_type": "stream",
          "name": "stdout",
          "text": [
            "proc\n"
          ]
        },
        {
          "output_type": "execute_result",
          "data": {
            "text/plain": [
              "<function __main__.proc(a, b)>"
            ]
          },
          "metadata": {},
          "execution_count": 52
        }
      ]
    },
    {
      "cell_type": "code",
      "source": [
        "# python은 외부에서 함수 내부로 접근할 수 없다.\n",
        "# z는 함수 내에서 할당되었으므로 함수 밖에서 호출할 수 없다.\n",
        "def proc() :\n",
        "  z = 1\n",
        "\n",
        "z"
      ],
      "metadata": {
        "colab": {
          "base_uri": "https://localhost:8080/",
          "height": 211
        },
        "id": "txj8lbMwABAP",
        "outputId": "0d2f110b-6e8b-4886-b17d-daef4e6c51c9"
      },
      "execution_count": null,
      "outputs": [
        {
          "output_type": "error",
          "ename": "NameError",
          "evalue": "ignored",
          "traceback": [
            "\u001b[0;31m---------------------------------------------------------------------------\u001b[0m",
            "\u001b[0;31mNameError\u001b[0m                                 Traceback (most recent call last)",
            "\u001b[0;32m<ipython-input-53-f63f92830d8e>\u001b[0m in \u001b[0;36m<module>\u001b[0;34m\u001b[0m\n\u001b[1;32m      4\u001b[0m   \u001b[0mz\u001b[0m \u001b[0;34m=\u001b[0m \u001b[0;36m1\u001b[0m\u001b[0;34m\u001b[0m\u001b[0;34m\u001b[0m\u001b[0m\n\u001b[1;32m      5\u001b[0m \u001b[0;34m\u001b[0m\u001b[0m\n\u001b[0;32m----> 6\u001b[0;31m \u001b[0mz\u001b[0m\u001b[0;34m\u001b[0m\u001b[0;34m\u001b[0m\u001b[0m\n\u001b[0m",
            "\u001b[0;31mNameError\u001b[0m: name 'z' is not defined"
          ]
        }
      ]
    },
    {
      "cell_type": "code",
      "source": [
        "# 함수 내부에서는 외부에 접근할 수 있다.\n",
        "c = 10\n",
        "def display() :\n",
        "  print(c)\n",
        "\n",
        "display()"
      ],
      "metadata": {
        "colab": {
          "base_uri": "https://localhost:8080/"
        },
        "id": "5aCkJK7uAIwX",
        "outputId": "d869bdc7-6551-433c-d1e5-007eb7c52ed0"
      },
      "execution_count": null,
      "outputs": [
        {
          "output_type": "stream",
          "name": "stdout",
          "text": [
            "10\n"
          ]
        }
      ]
    },
    {
      "cell_type": "code",
      "source": [
        "# python은 함수 외부의 값을 접근 가능하지만 변경은 불가능하다.\n",
        "t = 3\n",
        "def prn() :\n",
        "  t = t + 1\n",
        "  print(t)\n",
        "\n",
        "prn()"
      ],
      "metadata": {
        "colab": {
          "base_uri": "https://localhost:8080/",
          "height": 339
        },
        "id": "ob8pkPH-AWuI",
        "outputId": "c1ac7f4a-39ff-42f1-d0af-aee720062686"
      },
      "execution_count": null,
      "outputs": [
        {
          "output_type": "error",
          "ename": "UnboundLocalError",
          "evalue": "ignored",
          "traceback": [
            "\u001b[0;31m---------------------------------------------------------------------------\u001b[0m",
            "\u001b[0;31mUnboundLocalError\u001b[0m                         Traceback (most recent call last)",
            "\u001b[0;32m<ipython-input-55-77c20376912d>\u001b[0m in \u001b[0;36m<module>\u001b[0;34m\u001b[0m\n\u001b[1;32m      5\u001b[0m   \u001b[0mprint\u001b[0m\u001b[0;34m(\u001b[0m\u001b[0mt\u001b[0m\u001b[0;34m)\u001b[0m\u001b[0;34m\u001b[0m\u001b[0;34m\u001b[0m\u001b[0m\n\u001b[1;32m      6\u001b[0m \u001b[0;34m\u001b[0m\u001b[0m\n\u001b[0;32m----> 7\u001b[0;31m \u001b[0mprn\u001b[0m\u001b[0;34m(\u001b[0m\u001b[0;34m)\u001b[0m\u001b[0;34m\u001b[0m\u001b[0;34m\u001b[0m\u001b[0m\n\u001b[0m",
            "\u001b[0;32m<ipython-input-55-77c20376912d>\u001b[0m in \u001b[0;36mprn\u001b[0;34m()\u001b[0m\n\u001b[1;32m      2\u001b[0m \u001b[0mt\u001b[0m \u001b[0;34m=\u001b[0m \u001b[0;36m3\u001b[0m\u001b[0;34m\u001b[0m\u001b[0;34m\u001b[0m\u001b[0m\n\u001b[1;32m      3\u001b[0m \u001b[0;32mdef\u001b[0m \u001b[0mprn\u001b[0m\u001b[0;34m(\u001b[0m\u001b[0;34m)\u001b[0m \u001b[0;34m:\u001b[0m\u001b[0;34m\u001b[0m\u001b[0;34m\u001b[0m\u001b[0m\n\u001b[0;32m----> 4\u001b[0;31m   \u001b[0mt\u001b[0m \u001b[0;34m=\u001b[0m \u001b[0mt\u001b[0m \u001b[0;34m+\u001b[0m \u001b[0;36m1\u001b[0m\u001b[0;34m\u001b[0m\u001b[0;34m\u001b[0m\u001b[0m\n\u001b[0m\u001b[1;32m      5\u001b[0m   \u001b[0mprint\u001b[0m\u001b[0;34m(\u001b[0m\u001b[0mt\u001b[0m\u001b[0;34m)\u001b[0m\u001b[0;34m\u001b[0m\u001b[0;34m\u001b[0m\u001b[0m\n\u001b[1;32m      6\u001b[0m \u001b[0;34m\u001b[0m\u001b[0m\n",
            "\u001b[0;31mUnboundLocalError\u001b[0m: local variable 't' referenced before assignment"
          ]
        }
      ]
    },
    {
      "cell_type": "code",
      "source": [
        "# global은 내부와 외부의 객체를 동기화(sync) 시켜준다.\n",
        "# global은 사용하기는 편하지만 언제 바뀌었는지 흐름을 힘들기 때문에 남용은 하지 않는다.\n",
        "t = 3\n",
        "def prn() :\n",
        "  global t\n",
        "  t = t + 1\n",
        "  print(t)\n",
        "\n",
        "prn()\n",
        "\n",
        "# 외부의 자원도 값이 변경이 되어서 출력이 된다.\n",
        "t"
      ],
      "metadata": {
        "colab": {
          "base_uri": "https://localhost:8080/"
        },
        "id": "V8z8EKFPAi55",
        "outputId": "ae348dfa-c2ff-4f9a-dffb-95946f6878bd"
      },
      "execution_count": null,
      "outputs": [
        {
          "output_type": "stream",
          "name": "stdout",
          "text": [
            "4\n"
          ]
        },
        {
          "output_type": "execute_result",
          "data": {
            "text/plain": [
              "4"
            ]
          },
          "metadata": {},
          "execution_count": 57
        }
      ]
    },
    {
      "cell_type": "markdown",
      "source": [
        "#### 중첩 함수 사용"
      ],
      "metadata": {
        "id": "8kkkTfSvBKMp"
      }
    },
    {
      "cell_type": "code",
      "source": [
        "# 완전히 함수 밖에서 선언된 변수는 global을 사용하고(전역 변수),\n",
        "# outer 함수 안에서 선언된 변수(지역 변수)를 inner함수에서 불러올 때는 nonlocal로 불러와서 사용한다.\n",
        "k = 1\n",
        "def outer() :\n",
        "  m = 1\n",
        "  def inner() :\n",
        "    global k\n",
        "    k = k + 1\n",
        "    nonlocal m\n",
        "    m = m + 1\n",
        "    return k, m\n",
        "  return inner()\n",
        "  \n",
        "outer()"
      ],
      "metadata": {
        "colab": {
          "base_uri": "https://localhost:8080/"
        },
        "id": "YfGCMDTKBMy-",
        "outputId": "118e7d89-99d8-46aa-dcdb-01234938177b"
      },
      "execution_count": null,
      "outputs": [
        {
          "output_type": "execute_result",
          "data": {
            "text/plain": [
              "(2, 2)"
            ]
          },
          "metadata": {},
          "execution_count": 59
        }
      ]
    },
    {
      "cell_type": "markdown",
      "source": [
        "## Module & Package"
      ],
      "metadata": {
        "id": "h4c9dKdaBu14"
      }
    },
    {
      "cell_type": "markdown",
      "source": [
        "### Module"
      ],
      "metadata": {
        "id": "BIdmpNLVB1Ce"
      }
    },
    {
      "cell_type": "markdown",
      "source": [
        "#### import\n",
        "\n",
        "1. import 방법\n",
        "  - import 모듈 : 모듈 전체를 가져오는 형식\n",
        "  - from 모듈 import * : 모듈 전체를 가져오는 형식\n",
        "  - from 모듈 import 변수 or 함수 or 클래스\n",
        "  - from 모듈 as 별칭\n",
        "  - from 모듈 import 변수 or 함수 or 클래스 as 별칭\n",
        "  - from 모듈   \n",
        "    import 변수 or 함수 or 클래스 as 별칭1  \n",
        "    import 변수 or 함수 or 클래스 as 별칭2\n",
        "  - from 모듈 import (변수 or 함수 or 클래스, ....)\n",
        "\n",
        "2. import 모듈 == from 모듈 import *\n",
        "\n",
        "3. from 패키지.모듈 import 변수, 함수, 클래스\n",
        "\n",
        "4. import 모듈 as alias == (ex) import numpy as np\n",
        "  "
      ],
      "metadata": {
        "id": "wC-4V1DyB5se"
      }
    },
    {
      "cell_type": "markdown",
      "source": [
        "#### name 변수\n",
        "```\n",
        "__name__ 변수\n",
        "```\n",
        "- 모듈은 모듈의 일름을 나타내는 내장 변수 name을 갖는다."
      ],
      "metadata": {
        "id": "qmOgmMwWCykG"
      }
    },
    {
      "cell_type": "code",
      "source": [
        "# 최상위 모듈\n",
        "print(__name__)"
      ],
      "metadata": {
        "colab": {
          "base_uri": "https://localhost:8080/"
        },
        "id": "DFAnCvmrLcKk",
        "outputId": "c7a7055c-5005-4c0a-9981-83eeea2228e0"
      },
      "execution_count": null,
      "outputs": [
        {
          "output_type": "stream",
          "name": "stdout",
          "text": [
            "__main__\n"
          ]
        }
      ]
    },
    {
      "cell_type": "code",
      "source": [
        "# 자신의 모듈 이름을 가진 경우\n",
        "import math\n",
        "\n",
        "print(math.__name__)"
      ],
      "metadata": {
        "colab": {
          "base_uri": "https://localhost:8080/"
        },
        "id": "tiUlsdk0Le18",
        "outputId": "d42244c2-5a7a-4b60-f280-2b168125abe9"
      },
      "execution_count": null,
      "outputs": [
        {
          "output_type": "stream",
          "name": "stdout",
          "text": [
            "math\n"
          ]
        }
      ]
    },
    {
      "cell_type": "markdown",
      "source": [
        "#### 함수나 클래스가 속한 모듈 알아내기\n",
        "\n",
        "- 파이썬을 실행하고 나서 한번이라도 가져온 모든 모듈은 sys.modules 변수에 저장된다."
      ],
      "metadata": {
        "id": "BBnE0ov6O-Cp"
      }
    },
    {
      "cell_type": "code",
      "source": [
        "import sys\n",
        "\n",
        "# 사전형\n",
        "print(type(sys.modules))\n",
        "\n",
        "# 가져온 모듈 이름들을 출력한다.\n",
        "print('\\n'.join(sys.modules.keys()))"
      ],
      "metadata": {
        "id": "Gt1n0KwwPEmt"
      },
      "execution_count": null,
      "outputs": []
    },
    {
      "cell_type": "markdown",
      "source": [
        "#### module 속성\n",
        "\n",
        "```\n",
        "__module__\n",
        "```\n",
        "- 파이썬 클래스나 함수는 그들이 속한 모듈 이름을 갖는 속성이다."
      ],
      "metadata": {
        "id": "eHHwMD8KPUPT"
      }
    },
    {
      "cell_type": "code",
      "source": [
        "from math import sin\n",
        "print(sin.__module__)\n",
        "\n",
        "from cmd import Cmd\n",
        "print(Cmd.__module__)"
      ],
      "metadata": {
        "colab": {
          "base_uri": "https://localhost:8080/"
        },
        "id": "cu2wTIffPZ0p",
        "outputId": "911c576d-b6fd-42c5-9342-06312b62953e"
      },
      "execution_count": null,
      "outputs": [
        {
          "output_type": "stream",
          "name": "stdout",
          "text": [
            "math\n",
            "cmd\n"
          ]
        }
      ]
    },
    {
      "cell_type": "markdown",
      "source": [
        "### Package\n",
        "- 패키지는 모듈을 모아 놓은 단위이다.\n",
        "\n",
        "- 관련된 여러개의 모듈을 계층적인 몇 개의 디렉토리로 분류해서 저장하고 계층화 한다.\n",
        "\n",
        "- 패키지 구조\n",
        "```\n",
        "  - 패키지를 생성하면 __init__.py 파일이 반드시 있어야 한다.(파이참 - 자동생성)\n",
        "  \n",
        "  - __init__.py 파일은 패키지를 가져올 때 자동으로 실행된다.\n",
        "\n",
        "```"
      ],
      "metadata": {
        "id": "FkXDom8APpKj"
      }
    },
    {
      "cell_type": "markdown",
      "source": [
        "## 함수형 프로그래밍"
      ],
      "metadata": {
        "id": "art74VgPP_BK"
      }
    },
    {
      "cell_type": "markdown",
      "source": [
        "### 함수형 프로그래밍의 정의\n",
        "\n",
        "- 자료 처리를 수학적 함수의 계산으로 취급하고 상태와 가변  데이터를 멀리하는 프로그래밍 패러다임의 하나이다.\n",
        "\n",
        "- Side Effect(부수효과)를 제거할 경우에 프로그래미으이 동작을 이해하고 예측하는 것이 훨씬 쉬워지기 때문에 Side Effect가 없는 Pure Function(순수함수)들로만 작성되어야 한다.\n",
        "\n",
        "- 함수형 프로그래밍은 함수를 수학적 함수로 그대로 정의한다.  \n",
        "  f(x) g(x) h(x) = f(g(h(x)))\n",
        "\n",
        "- 조건 : 함수를 수학적 함수로 그대로 정의한다(문 보다 식을 선호)\n",
        "\n",
        "- loop문, mutable(global, nonlocal) 사용 안함"
      ],
      "metadata": {
        "id": "_K6HbS30QAaB"
      }
    },
    {
      "cell_type": "markdown",
      "source": [
        "#### 함수형 프로그래밍의 기본 원리들\n",
        "\n",
        "1. 순수함수 : 변경 불가능한 값을 이용\n",
        "\n",
        "2. 람다 표현식\n",
        "\n",
        "3. 고차 함수\n",
        "\n",
        "4. 클로져\n",
        "\n",
        "5. 일급 객체 함수"
      ],
      "metadata": {
        "id": "eCRdmgmMQecp"
      }
    },
    {
      "cell_type": "markdown",
      "source": [
        "#### 순수 함수와 비 순수 함수\n",
        "\n",
        "1. 순수 함수\n",
        " - 순수함수는 함수의 실행이 외부 상태에 영향을 끼치지 않는 함수이다.\n",
        "\n",
        "2. 비 순수 함수\n",
        " - 비 순수 함수는 수정자 함수라고도 한다.\n",
        " \n",
        " - 함수의 실행이 외부 상태에 영향을 끼치는 함수이다."
      ],
      "metadata": {
        "id": "rfyxp_6GQqGJ"
      }
    },
    {
      "cell_type": "code",
      "source": [
        " # 비순수 함수\n",
        "number_list = [1, 2, 3]\n",
        "\n",
        "def append_number(n) :\n",
        "   number_list.append(n)\n",
        "\n",
        "append_number(4)\n",
        "print(number_list)\n",
        "\n",
        "# 함수 실행이 외부 상태에 영향을 끼침\n",
        "# 함수 외부에 있는 number_list의 상태가 바뀜"
      ],
      "metadata": {
        "colab": {
          "base_uri": "https://localhost:8080/"
        },
        "id": "6LQ_r02dPos8",
        "outputId": "4247c7d0-ee57-403f-976c-9e396dc26333"
      },
      "execution_count": null,
      "outputs": [
        {
          "output_type": "stream",
          "name": "stdout",
          "text": [
            "[1, 2, 3, 4]\n"
          ]
        }
      ]
    },
    {
      "cell_type": "markdown",
      "source": [
        "#### 람다 함수 (lambda)\n",
        "\n",
        "- 람다함수 = 람다표현식 = 익명함수\n",
        "\n",
        "- 재사용하지 않을 함수를 만들 때 사용한다.\n",
        "\n",
        "- 람다 표현식은 함수를 가편하게 작성할 수 있어서 다른 함수의 인수로 넣을 때 주로 사용한다."
      ],
      "metadata": {
        "id": "bdP6qyQ-RGK7"
      }
    },
    {
      "cell_type": "code",
      "source": [
        "# lambda 매개변수 : 식\n",
        "# lambda로 만든 익명 함수를 호출하려면 람다 표현식을 변수에 할당해야 한다.\n",
        "plus_ten = lambda x : x + 10\n",
        "plus_ten(1)"
      ],
      "metadata": {
        "colab": {
          "base_uri": "https://localhost:8080/"
        },
        "id": "I1kEaUYWPQGJ",
        "outputId": "8c405b0b-19c3-4bf8-b0bc-06a853f5ff96"
      },
      "execution_count": null,
      "outputs": [
        {
          "output_type": "execute_result",
          "data": {
            "text/plain": [
              "11"
            ]
          },
          "metadata": {},
          "execution_count": 70
        }
      ]
    },
    {
      "cell_type": "code",
      "source": [
        "# lambda 표현식은 변수에 할당하지 않고 람다 표현식 자체를 바로 호출 할 수 있다.\n",
        "# (lambda 매개변수들 : 식) (인수들)\n",
        "(lambda x : x + 10) (10)"
      ],
      "metadata": {
        "colab": {
          "base_uri": "https://localhost:8080/"
        },
        "id": "JqJRWigIRZUo",
        "outputId": "d02072cd-aa9e-47ab-dc6d-0a00a285d90b"
      },
      "execution_count": null,
      "outputs": [
        {
          "output_type": "execute_result",
          "data": {
            "text/plain": [
              "20"
            ]
          },
          "metadata": {},
          "execution_count": 71
        }
      ]
    },
    {
      "cell_type": "code",
      "source": [
        "# 람다 표현식 안에서는 변수를 만들 수 없다.\n",
        "(lambda x : y = 10; x + y) (1)"
      ],
      "metadata": {
        "colab": {
          "base_uri": "https://localhost:8080/",
          "height": 137
        },
        "id": "_5G207sXRjAU",
        "outputId": "78ce5c80-8c93-4ea6-91a7-eb9441c0e00e"
      },
      "execution_count": null,
      "outputs": [
        {
          "output_type": "error",
          "ename": "SyntaxError",
          "evalue": "ignored",
          "traceback": [
            "\u001b[0;36m  File \u001b[0;32m\"<ipython-input-72-bafcea4f350f>\"\u001b[0;36m, line \u001b[0;32m2\u001b[0m\n\u001b[0;31m    (lambda x : y = 10; x + y) (1)\u001b[0m\n\u001b[0m                  ^\u001b[0m\n\u001b[0;31mSyntaxError\u001b[0m\u001b[0;31m:\u001b[0m invalid syntax\n"
          ]
        }
      ]
    },
    {
      "cell_type": "code",
      "source": [
        "# 람다 표현식 바깥에 있는 변수는 사용 할 수 있다.\n",
        "y = 10\n",
        "(lambda x : x + y) (1)"
      ],
      "metadata": {
        "colab": {
          "base_uri": "https://localhost:8080/"
        },
        "id": "zFeyxhb7Ro58",
        "outputId": "9c4a0756-e0da-418b-bde4-ba2c34dc6c85"
      },
      "execution_count": null,
      "outputs": [
        {
          "output_type": "execute_result",
          "data": {
            "text/plain": [
              "11"
            ]
          },
          "metadata": {},
          "execution_count": 73
        }
      ]
    },
    {
      "cell_type": "markdown",
      "source": [
        "#### higher order function\n",
        "\n",
        "- 함수의 인자에 함수를 넣을 수 있고 함수의 결과가 함수일 수 있는 것\n",
        "  - function을 인자로 사용할 수 있다.\n",
        "\n",
        "  - fuction에 return을 사용할 수 있다."
      ],
      "metadata": {
        "id": "NoYU5U1DRuby"
      }
    },
    {
      "cell_type": "code",
      "source": [
        "def foo(func, a) :\n",
        "  return func(a)\n",
        "\n",
        "def ss(a) :\n",
        "  return a + 1\n",
        "\n",
        "foo(ss, 1)"
      ],
      "metadata": {
        "colab": {
          "base_uri": "https://localhost:8080/"
        },
        "id": "z49U_vm2R6S0",
        "outputId": "dc54761c-d551-41e2-ce10-7007b246f556"
      },
      "execution_count": null,
      "outputs": [
        {
          "output_type": "execute_result",
          "data": {
            "text/plain": [
              "2"
            ]
          },
          "metadata": {},
          "execution_count": 74
        }
      ]
    },
    {
      "cell_type": "markdown",
      "source": [
        "#### closuer\n",
        "\n",
        "- python 공식 문서에는 없는 용어\n",
        "\n",
        "- 다음과 같이 함수를 중첩해서 사용하는 기법을 closuer라고 한다.\n",
        "\n",
        "- 함수가 종료 되었어도 외부에서 사용하기 위해 사용한다.\n"
      ],
      "metadata": {
        "id": "YFX9Rr9nR_1I"
      }
    },
    {
      "cell_type": "code",
      "source": [
        "def x(n) :\n",
        "  def y(m) :\n",
        "    return n + m\n",
        "  return y\n",
        "k = x(3)"
      ],
      "metadata": {
        "id": "7957CO4GSGqL"
      },
      "execution_count": null,
      "outputs": []
    },
    {
      "cell_type": "code",
      "source": [
        "k"
      ],
      "metadata": {
        "colab": {
          "base_uri": "https://localhost:8080/"
        },
        "id": "XKbVp2ROSMOz",
        "outputId": "f368714f-fdc6-4459-e0b3-c6016ccbeccc"
      },
      "execution_count": null,
      "outputs": [
        {
          "output_type": "execute_result",
          "data": {
            "text/plain": [
              "<function __main__.x.<locals>.y(m)>"
            ]
          },
          "metadata": {},
          "execution_count": 76
        }
      ]
    },
    {
      "cell_type": "code",
      "source": [
        "k(4)"
      ],
      "metadata": {
        "colab": {
          "base_uri": "https://localhost:8080/"
        },
        "id": "L_PUaejfSNDM",
        "outputId": "d7afab5a-1d04-403c-f124-ce234f1466b5"
      },
      "execution_count": null,
      "outputs": [
        {
          "output_type": "execute_result",
          "data": {
            "text/plain": [
              "7"
            ]
          },
          "metadata": {},
          "execution_count": 77
        }
      ]
    },
    {
      "cell_type": "markdown",
      "source": [
        "#### 일급 객체 함수 (first class function)\n",
        "\n",
        "- python에서 가장 중요한 개념은 객체(object)이다.\n",
        "\n",
        "- first class를 직역하면 1급인데, 함수를 객체처럼 사용할 수 있는 패러다임을 말한다.\n",
        "  - 변수나 데이터 구조에 넣을 수 있어야 한다.\n",
        "\n",
        "  - 매개변수에 전달할 수 있어야 한다.\n",
        "\n",
        "  - 반환값으로 사용할 수 있어야 한다."
      ],
      "metadata": {
        "id": "c1mS4hX3ScAg"
      }
    },
    {
      "cell_type": "markdown",
      "source": [
        "### Loop\n",
        "\n",
        "- Loop을 쓰면 이해하기 쉬운 장점이 있다.\n",
        "\n",
        "- Loop은 논리적 흐름을 깨는 경우가 있어 프로그램의 버그를 만들기 쉬운 단점이 있다.\n",
        "\n",
        "- 코드를 이해하기 위해서 왔다 갔다 해야하므로 Loop는 속도가 느리다."
      ],
      "metadata": {
        "id": "p1rlYlxOSry6"
      }
    },
    {
      "cell_type": "markdown",
      "source": [
        "#### Loop를 사용하지 않는 기법\n",
        "\n",
        "- functional paradigm에서는 Loop를 사용하지 않는 기법을 선호한다.\n",
        "\n",
        "- Loop를 사용하지 않는 4가지 기법\n",
        "\n",
        "  (1) iterator, generator  \n",
        "  (2) recursion  \n",
        "  (3) comprehension  \n",
        "  (4) map, filter, reduce"
      ],
      "metadata": {
        "id": "E4zd32IGS-iI"
      }
    },
    {
      "cell_type": "markdown",
      "source": [
        "#### comprehension\n",
        "\n",
        "- iterable한 오브젝트를 생성하기 위한 방법 중 하나이다.\n",
        "\n",
        "- 파이썬에는 다음과 같은 3가지 종류의 comprehension이 있다.\n",
        "  1. List Comprehension (LC)\n",
        "  \n",
        "  2. Set Comprehension (SC)\n",
        "\n",
        "  3. Dict Comprehension (DC)"
      ],
      "metadata": {
        "id": "hankhahTbE_t"
      }
    },
    {
      "cell_type": "markdown",
      "source": [
        "##### List Comprehension\n",
        "\n",
        "- 리스트 정의 시 값을 정하지 않고 호출 시 리스트 내의 값들이 처리되도록 구성\n",
        "\n",
        "- A = [표현식 for i in sequence if 논리식]"
      ],
      "metadata": {
        "id": "SPiH_DSXbVdl"
      }
    },
    {
      "cell_type": "code",
      "source": [
        "squares = []\n",
        "for x in range(10) :\n",
        "  squares.append(x**2)\n",
        "\n",
        "print(squares)"
      ],
      "metadata": {
        "colab": {
          "base_uri": "https://localhost:8080/"
        },
        "id": "mK76MLqXS-Kc",
        "outputId": "fb2e921e-0874-4458-bd38-e6f6c9fd964b"
      },
      "execution_count": null,
      "outputs": [
        {
          "output_type": "stream",
          "name": "stdout",
          "text": [
            "[0, 1, 4, 9, 16, 25, 36, 49, 64, 81]\n"
          ]
        }
      ]
    },
    {
      "cell_type": "code",
      "source": [
        "# x**2 (x의 제곱근)\n",
        "squares = [x**2 for x in range(10)]\n",
        "print(squares)"
      ],
      "metadata": {
        "colab": {
          "base_uri": "https://localhost:8080/"
        },
        "id": "-NQQ3q64Betj",
        "outputId": "043eecef-874c-4e17-ac6e-43d5146613c8"
      },
      "execution_count": null,
      "outputs": [
        {
          "output_type": "stream",
          "name": "stdout",
          "text": [
            "[0, 1, 4, 9, 16, 25, 36, 49, 64, 81]\n"
          ]
        }
      ]
    },
    {
      "cell_type": "code",
      "source": [
        "# 리스트 내의 다중 for문을 이용해서 처리\n",
        "# a = [표현식 for i in sequences for j in sequence if 논리식]\n",
        "li = []\n",
        "for i in range(5) :\n",
        "  for j in range(5) :\n",
        "    if j % 2 == 0 :\n",
        "      li.append((i, j))\n",
        "print(li)\n",
        "\n",
        "l = [(x, y) for x in range(5) for y in range(5) if y % 2 ==0]\n",
        "print(l)\n",
        "print(li == l)"
      ],
      "metadata": {
        "colab": {
          "base_uri": "https://localhost:8080/"
        },
        "id": "lEio36YEBmez",
        "outputId": "882bfd19-760a-4d2f-918a-fc2e19534688"
      },
      "execution_count": null,
      "outputs": [
        {
          "output_type": "stream",
          "name": "stdout",
          "text": [
            "[(0, 0), (0, 2), (0, 4), (1, 0), (1, 2), (1, 4), (2, 0), (2, 2), (2, 4), (3, 0), (3, 2), (3, 4), (4, 0), (4, 2), (4, 4)]\n",
            "[(0, 0), (0, 2), (0, 4), (1, 0), (1, 2), (1, 4), (2, 0), (2, 2), (2, 4), (3, 0), (3, 2), (3, 4), (4, 0), (4, 2), (4, 4)]\n",
            "True\n"
          ]
        }
      ]
    },
    {
      "cell_type": "code",
      "source": [
        "# 리스트 컴프리 헨션에서 함수 내부 로직에서 외부변수를 참조할 때 모든 순환이 된 결과를 참조\n",
        "# range(5)를 for문을 이용하게 되면 맨 마지막의 값을 반환하여 4값이 나온다.\n",
        "lh = [lambda x : x + n for n in range(5)]\n",
        "print(lh)\n",
        "for i in lh :\n",
        "  print(i(0))"
      ],
      "metadata": {
        "colab": {
          "base_uri": "https://localhost:8080/"
        },
        "id": "GJjWHYtrB-_j",
        "outputId": "aa2fb10c-b1c5-45ed-98cb-5cba5806d664"
      },
      "execution_count": null,
      "outputs": [
        {
          "output_type": "stream",
          "name": "stdout",
          "text": [
            "[<function <listcomp>.<lambda> at 0x7f384f645b80>, <function <listcomp>.<lambda> at 0x7f384f645820>, <function <listcomp>.<lambda> at 0x7f384f645280>, <function <listcomp>.<lambda> at 0x7f384f6453a0>, <function <listcomp>.<lambda> at 0x7f384f6458b0>]\n",
            "4\n",
            "4\n",
            "4\n",
            "4\n",
            "4\n"
          ]
        }
      ]
    },
    {
      "cell_type": "code",
      "source": [
        "# 리스트 컴프리 헨션에 있는 변수를 함수의 파라미터 초기값으로 세팅하면 원하는 숫자대로 처리된다.\n",
        "lh = [lambda x, n = n : x + n for n in range(5)]\n",
        "print(lh)\n",
        "for i in lh :\n",
        "  print(i(0))"
      ],
      "metadata": {
        "colab": {
          "base_uri": "https://localhost:8080/"
        },
        "id": "ZAeeiBsiCPiO",
        "outputId": "7ed8236c-d695-410e-f048-5045e614a5a8"
      },
      "execution_count": null,
      "outputs": [
        {
          "output_type": "stream",
          "name": "stdout",
          "text": [
            "[<function <listcomp>.<lambda> at 0x7f384f68ff70>, <function <listcomp>.<lambda> at 0x7f384f68fdc0>, <function <listcomp>.<lambda> at 0x7f384f68fca0>, <function <listcomp>.<lambda> at 0x7f384f68f280>, <function <listcomp>.<lambda> at 0x7f384f68fd30>]\n",
            "0\n",
            "1\n",
            "2\n",
            "3\n",
            "4\n"
          ]
        }
      ]
    },
    {
      "cell_type": "code",
      "source": [
        "lh = [lambda x, m = n : x + m for n in range(5)]\n",
        "print(lh)\n",
        "for i in lh :\n",
        "  print(i(0))"
      ],
      "metadata": {
        "colab": {
          "base_uri": "https://localhost:8080/"
        },
        "id": "C3Y4s9qmCh6a",
        "outputId": "f4f82d4f-fda5-4bc1-fc64-b75451502b05"
      },
      "execution_count": null,
      "outputs": [
        {
          "output_type": "stream",
          "name": "stdout",
          "text": [
            "[<function <listcomp>.<lambda> at 0x7f384f648ca0>, <function <listcomp>.<lambda> at 0x7f384f6483a0>, <function <listcomp>.<lambda> at 0x7f384f6484c0>, <function <listcomp>.<lambda> at 0x7f384f6481f0>, <function <listcomp>.<lambda> at 0x7f384f648430>]\n",
            "0\n",
            "1\n",
            "2\n",
            "3\n",
            "4\n"
          ]
        }
      ]
    },
    {
      "cell_type": "markdown",
      "source": [
        "##### Dict Comprehension\n",
        "\n",
        "- 사전 정의 시 값을 정하지 않고 호출 시 사전 내의 값들이 처리되도록 구성\n",
        "\n",
        "- A = {표현식 for (k, y) in sequence if 논리식}"
      ],
      "metadata": {
        "id": "bp1m3Gl3CpPz"
      }
    },
    {
      "cell_type": "code",
      "source": [
        "d = {}\n",
        "for (k, v) in zip(range(9), range(9)) :\n",
        "  d[k] = v\n",
        "print(d)\n",
        "\n",
        "di = {x : y for (x, y) in zip(range(9), range(9))}\n",
        "print(di)"
      ],
      "metadata": {
        "colab": {
          "base_uri": "https://localhost:8080/"
        },
        "id": "b_lSKC8GCo16",
        "outputId": "ecd467af-456b-43d9-fe3b-aee15a015f7a"
      },
      "execution_count": null,
      "outputs": [
        {
          "output_type": "stream",
          "name": "stdout",
          "text": [
            "{0: 0, 1: 1, 2: 2, 3: 3, 4: 4, 5: 5, 6: 6, 7: 7, 8: 8}\n",
            "{0: 0, 1: 1, 2: 2, 3: 3, 4: 4, 5: 5, 6: 6, 7: 7, 8: 8}\n"
          ]
        }
      ]
    },
    {
      "cell_type": "code",
      "source": [
        "# dict타입에 대한 comprehension 생성\n",
        "# A = {표현식 for i in sequence if 논리식}\n",
        "a = {'x' : 1, 'y' : 2, 'z' : 3}\n",
        "b = {'w' : 10, 'x' : 11, 'y' : 2}\n",
        "print(a.keys() & b.keys())\n",
        "print(type(a.keys()))\n",
        "\n",
        "c = {key : a[key] for key in a.keys() - {'z', 'w'}}\n",
        "print(c)"
      ],
      "metadata": {
        "colab": {
          "base_uri": "https://localhost:8080/"
        },
        "id": "6eb-l0rZDJw_",
        "outputId": "102de7c8-476e-42fb-ffd7-d5c3e181b126"
      },
      "execution_count": null,
      "outputs": [
        {
          "output_type": "stream",
          "name": "stdout",
          "text": [
            "{'y', 'x'}\n",
            "<class 'dict_keys'>\n",
            "{'y': 2, 'x': 1}\n"
          ]
        }
      ]
    },
    {
      "cell_type": "code",
      "source": [
        "# dict 내의 다중 for 문을 이용해서 처리\n",
        "# A = {표현식 for in sequence for j in sequence if 논리식}\n",
        "# range는 제일 마지막 값으로 처리된다.\n",
        "li = {}\n",
        "for i in range(5) :\n",
        "  for j in range(5) :\n",
        "    if j % 2 == 0 :\n",
        "      li.setdefault(i, 4)\n",
        "print(li)\n",
        "\n",
        "l = {x : y for x in range(5) for y in range(5) if y % 2 == 0}\n",
        "print(l)\n",
        "\n",
        "print(li == l)"
      ],
      "metadata": {
        "colab": {
          "base_uri": "https://localhost:8080/"
        },
        "id": "wd_yS626DpmZ",
        "outputId": "33f393c8-15a4-4b6d-a1e1-c7c8abde5617"
      },
      "execution_count": null,
      "outputs": [
        {
          "output_type": "stream",
          "name": "stdout",
          "text": [
            "{0: 4, 1: 4, 2: 4, 3: 4, 4: 4}\n",
            "{0: 4, 1: 4, 2: 4, 3: 4, 4: 4}\n",
            "True\n"
          ]
        }
      ]
    },
    {
      "cell_type": "code",
      "source": [
        "l = {x : y for x in range(5) for y in range(7)}\n",
        "print(l)"
      ],
      "metadata": {
        "colab": {
          "base_uri": "https://localhost:8080/"
        },
        "id": "hA8-SmxEEEy1",
        "outputId": "e1becacb-1a78-461b-fb09-bb31d8f46d48"
      },
      "execution_count": null,
      "outputs": [
        {
          "output_type": "stream",
          "name": "stdout",
          "text": [
            "{0: 6, 1: 6, 2: 6, 3: 6, 4: 6}\n"
          ]
        }
      ]
    },
    {
      "cell_type": "markdown",
      "source": [
        "##### Set Comprehension\n",
        "\n",
        "- set 정의 시 값을 정하지 않고 호출 시 set내의 값들이 처리되도록 구성\n",
        "\n",
        "- A = {표현식 for i in sequence if 논리식}"
      ],
      "metadata": {
        "id": "gT4eCeiBEJ-i"
      }
    },
    {
      "cell_type": "code",
      "source": [
        "s = set()\n",
        "for i in range(10) :\n",
        "  s.add(i)\n",
        "print(s)\n",
        "\n",
        "si = {x for x in range(10)}\n",
        "print(si)"
      ],
      "metadata": {
        "colab": {
          "base_uri": "https://localhost:8080/"
        },
        "id": "FOTOgAocEJw0",
        "outputId": "f93add68-7285-4c12-ff59-160609e37e30"
      },
      "execution_count": null,
      "outputs": [
        {
          "output_type": "stream",
          "name": "stdout",
          "text": [
            "{0, 1, 2, 3, 4, 5, 6, 7, 8, 9}\n",
            "{0, 1, 2, 3, 4, 5, 6, 7, 8, 9}\n"
          ]
        }
      ]
    },
    {
      "cell_type": "code",
      "source": [
        "# set 내의 다중 for문을 이용해서 처리\n",
        "# A = {표현식 for i in sequence for j in sequence if 논리식}\n",
        "li = set()\n",
        "for i in range(5) :\n",
        "  for j in range(5) :\n",
        "    if j % 2 == 0 :\n",
        "      li.add((i, j))\n",
        "print(li)\n",
        "\n",
        "l = {(x, y) for x in range(5) for y in range(5) if y % 2 == 0}\n",
        "print(l)\n",
        "\n",
        "print(li == l)"
      ],
      "metadata": {
        "colab": {
          "base_uri": "https://localhost:8080/"
        },
        "id": "xev7HrnnEhnR",
        "outputId": "8ac5a9f7-4900-4691-ba76-36b6c740b731"
      },
      "execution_count": null,
      "outputs": [
        {
          "output_type": "stream",
          "name": "stdout",
          "text": [
            "{(4, 4), (2, 4), (1, 2), (0, 4), (3, 4), (4, 0), (0, 0), (2, 0), (1, 4), (3, 0), (4, 2), (0, 2), (2, 2), (1, 0), (3, 2)}\n",
            "{(4, 4), (2, 4), (1, 2), (0, 4), (3, 4), (4, 0), (0, 0), (2, 0), (1, 4), (3, 0), (4, 2), (0, 2), (2, 2), (1, 0), (3, 2)}\n",
            "True\n"
          ]
        }
      ]
    }
  ]
}