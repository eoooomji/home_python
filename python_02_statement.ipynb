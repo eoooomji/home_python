{
  "nbformat": 4,
  "nbformat_minor": 0,
  "metadata": {
    "colab": {
      "provenance": [],
      "authorship_tag": "ABX9TyPrGTik8JOX0ZrL31tlDstJ",
      "include_colab_link": true
    },
    "kernelspec": {
      "name": "python3",
      "display_name": "Python 3"
    },
    "language_info": {
      "name": "python"
    }
  },
  "cells": [
    {
      "cell_type": "markdown",
      "metadata": {
        "id": "view-in-github",
        "colab_type": "text"
      },
      "source": [
        "<a href=\"https://colab.research.google.com/github/eoooomji/home_python/blob/master/python_02_statement.ipynb\" target=\"_parent\"><img src=\"https://colab.research.google.com/assets/colab-badge.svg\" alt=\"Open In Colab\"/></a>"
      ]
    },
    {
      "cell_type": "markdown",
      "source": [
        "#Python 제어문\n",
        "\n",
        "1. 조건문 (if 문)\n",
        "\n",
        "2. 반복문 (for문) \n",
        "  - for ~ in을 사용한다.\n",
        "\n",
        "3. python에서 else는 세가지의 경우에서 사용이 된다. (조건문, 반복문, 예외처리)"
      ],
      "metadata": {
        "id": "z3X4UTi0X5iv"
      }
    },
    {
      "cell_type": "markdown",
      "source": [
        "### if 문"
      ],
      "metadata": {
        "id": "4kWheq7xYlFZ"
      }
    },
    {
      "cell_type": "code",
      "execution_count": null,
      "metadata": {
        "colab": {
          "base_uri": "https://localhost:8080/"
        },
        "id": "twmuInVSX0P8",
        "outputId": "afe50427-2ab8-4452-f2c5-464db376e93f"
      },
      "outputs": [
        {
          "output_type": "stream",
          "name": "stdout",
          "text": [
            "no\n"
          ]
        }
      ],
      "source": [
        "a = 1\n",
        "if a > 3 :\n",
        "  print('yes')\n",
        "else :\n",
        "  print('no')"
      ]
    },
    {
      "cell_type": "code",
      "source": [
        "if a > 0 :\n",
        "  print('yes')\n",
        "  print('ok')\n",
        "else :\n",
        "  prtin('no')"
      ],
      "metadata": {
        "colab": {
          "base_uri": "https://localhost:8080/"
        },
        "id": "8vnkIbJhY-MG",
        "outputId": "c3ef6b55-8bd7-4a7e-a04b-ffaca48c27c1"
      },
      "execution_count": null,
      "outputs": [
        {
          "output_type": "stream",
          "name": "stdout",
          "text": [
            "yes\n",
            "ok\n"
          ]
        }
      ]
    },
    {
      "cell_type": "code",
      "source": [
        "# jumsu가 80이상 '상', 80미만 60이상이면 '중', 60미만이면 '하'\n",
        "# else if 같은 경우 elif로 쓴다.\n",
        "jumsu = 55\n",
        "if jumsu >= 80 :\n",
        "  print('상')\n",
        "elif jumsu >= 60 :\n",
        "  print('중')\n",
        "else :\n",
        "  print('하')"
      ],
      "metadata": {
        "colab": {
          "base_uri": "https://localhost:8080/"
        },
        "id": "fB34d5o4ZE7I",
        "outputId": "b88056ce-1b2a-453a-9bd5-a1c724518d99"
      },
      "execution_count": null,
      "outputs": [
        {
          "output_type": "stream",
          "name": "stdout",
          "text": [
            "하\n"
          ]
        }
      ]
    },
    {
      "cell_type": "markdown",
      "source": [
        "#### existance\n",
        "\n",
        "- python에서 조건은 존재론적(existance)적이다. (truly, falsy)"
      ],
      "metadata": {
        "id": "iiKX5It1ZYkW"
      }
    },
    {
      "cell_type": "code",
      "source": [
        "# 0은 숫자가 없는 것과 같다.\n",
        "a = 0.0\n",
        "if a :\n",
        "  print('yes')\n",
        "else :\n",
        "  print('no')"
      ],
      "metadata": {
        "colab": {
          "base_uri": "https://localhost:8080/"
        },
        "id": "jNWooFdKZfYB",
        "outputId": "159baa08-da5b-451a-888c-6c8a03786d4f"
      },
      "execution_count": null,
      "outputs": [
        {
          "output_type": "stream",
          "name": "stdout",
          "text": [
            "no\n"
          ]
        }
      ]
    },
    {
      "cell_type": "code",
      "source": [
        "# None은 객체가 없는 것과 같다.\n",
        "a = None\n",
        "if a :\n",
        "  print('yes')\n",
        "else :\n",
        "  print('no')"
      ],
      "metadata": {
        "colab": {
          "base_uri": "https://localhost:8080/"
        },
        "id": "o8CDu180Zk39",
        "outputId": "26ab5e45-3fef-4694-f788-c4bdd9651418"
      },
      "execution_count": null,
      "outputs": [
        {
          "output_type": "stream",
          "name": "stdout",
          "text": [
            "no\n"
          ]
        }
      ]
    },
    {
      "cell_type": "code",
      "source": [
        "# 비어있는 dict는 없는 것과 같다\n",
        "a = {}\n",
        "if a :\n",
        "  print('yes')\n",
        "else :\n",
        "  print('no')"
      ],
      "metadata": {
        "colab": {
          "base_uri": "https://localhost:8080/"
        },
        "id": "wWbeJGL_ZWla",
        "outputId": "dd6e6c3a-f872-4ac8-d0f7-ecc7b2c07271"
      },
      "execution_count": null,
      "outputs": [
        {
          "output_type": "stream",
          "name": "stdout",
          "text": [
            "no\n"
          ]
        }
      ]
    },
    {
      "cell_type": "code",
      "source": [
        "# 인스턴스 방식으로 값을 만들 때 괄호 안이 비어있으면 비어있는 값을 만든다.\n",
        "# if에서 모두 false이다.\n",
        "a = int()\n",
        "b = float()\n",
        "c = complex()\n",
        "d = list()\n",
        "\n",
        "if a :\n",
        "  print('yes')\n",
        "else :\n",
        "  print('no')\n",
        "\n",
        "if b :\n",
        "  print('yes')\n",
        "else :\n",
        "  print('no')\n",
        "\n",
        "if c :\n",
        "  print('yes')\n",
        "else :\n",
        "  print('no')\n",
        "\n",
        "if d :\n",
        "  print('yes')\n",
        "else :\n",
        "  print('no')"
      ],
      "metadata": {
        "colab": {
          "base_uri": "https://localhost:8080/"
        },
        "id": "UPZCgw8fZxbf",
        "outputId": "171935d0-be8b-40d6-9089-cb2208810184"
      },
      "execution_count": null,
      "outputs": [
        {
          "output_type": "stream",
          "name": "stdout",
          "text": [
            "no\n",
            "no\n",
            "no\n",
            "no\n"
          ]
        }
      ]
    },
    {
      "cell_type": "code",
      "source": [
        "# and는 앞이 True이면 뒤에 값을 반환한다.\n",
        "# 3은 존재론적으로 True\n",
        "print(3 and 4)\n",
        "\n",
        "# and는 앞이 False이면 앞에 값을 반환한다.\n",
        "# 비어있는 문자열은 없는 것과 같다.\n",
        "print(\"\" and 4)\n",
        "print(\" \" and 4)\n",
        "# 공백 혹은 스페이스바는 문자열로 인식된다.(값이 있는 상태)"
      ],
      "metadata": {
        "colab": {
          "base_uri": "https://localhost:8080/"
        },
        "id": "esxMDjNVaCGd",
        "outputId": "d0ca9c3b-2dee-4ab4-ad6c-2e61fb5c1120"
      },
      "execution_count": null,
      "outputs": [
        {
          "output_type": "stream",
          "name": "stdout",
          "text": [
            "4\n",
            "\n",
            "4\n"
          ]
        }
      ]
    },
    {
      "cell_type": "code",
      "source": [
        "# or은 and의 반대\n",
        "# or은 앞이 True이면 앞에 값을, False이면 뒤의 값을 반환한다.\n",
        "print(3 or 4)\n",
        "print(2 < 4 or 3 < 1)\n",
        "print(3 < 2 or 4 < 5)\n",
        "print(\"\" or 4)\n",
        "print(\" \" or 2)"
      ],
      "metadata": {
        "colab": {
          "base_uri": "https://localhost:8080/"
        },
        "id": "RMrGcvc2aVoa",
        "outputId": "946b4622-7472-468d-afa6-c5a3f481ffef"
      },
      "execution_count": null,
      "outputs": [
        {
          "output_type": "stream",
          "name": "stdout",
          "text": [
            "3\n",
            "True\n",
            "True\n",
            "4\n",
            " \n"
          ]
        }
      ]
    },
    {
      "cell_type": "code",
      "source": [
        "# if 조건에 문장을 사용할 수 없다.\n",
        "if a = 4 :\n",
        "  print('yes')"
      ],
      "metadata": {
        "colab": {
          "base_uri": "https://localhost:8080/",
          "height": 137
        },
        "id": "0RJWjuuiaqqY",
        "outputId": "3c7b2d0a-5b7f-4456-fe5d-7720a4873361"
      },
      "execution_count": null,
      "outputs": [
        {
          "output_type": "error",
          "ename": "SyntaxError",
          "evalue": "ignored",
          "traceback": [
            "\u001b[0;36m  File \u001b[0;32m\"<ipython-input-16-fbaf2bb0bf85>\"\u001b[0;36m, line \u001b[0;32m2\u001b[0m\n\u001b[0;31m    if a = 4 :\u001b[0m\n\u001b[0m         ^\u001b[0m\n\u001b[0;31mSyntaxError\u001b[0m\u001b[0;31m:\u001b[0m invalid syntax\n"
          ]
        }
      ]
    },
    {
      "cell_type": "markdown",
      "source": [
        "### for 문"
      ],
      "metadata": {
        "id": "emgvwRp7a4bV"
      }
    },
    {
      "cell_type": "code",
      "source": [
        "# 범위를 지정하는 방법에는 두가지가 있다.\n",
        "\n",
        "# 첫번째 방법은 순서형 또는 딕셔너리를 사용하는 것이다.\n",
        "\n",
        "for v in [1, 2, 3, 4, 5] :\n",
        "  print(v)\n",
        "\n",
        "t = [('one', 1), ('two', 2)]\n",
        "for k, v in t :\n",
        "  print('{0} : {1}'.format(k, v))\n",
        "\n",
        "dic = {'a' : 1, 'b' : 2}\n",
        "for k in dic :\n",
        "  print('{0} : {1}'.format(k, dic[k]))"
      ],
      "metadata": {
        "colab": {
          "base_uri": "https://localhost:8080/"
        },
        "id": "mMra1Scna9X9",
        "outputId": "8ecd8c2d-12d3-4b69-82b0-c0d70605d56a"
      },
      "execution_count": null,
      "outputs": [
        {
          "output_type": "stream",
          "name": "stdout",
          "text": [
            "1\n",
            "2\n",
            "3\n",
            "4\n",
            "5\n",
            "one : 1\n",
            "two : 2\n",
            "a : 1\n",
            "b : 2\n"
          ]
        }
      ]
    },
    {
      "cell_type": "code",
      "source": [
        "print(dic)\n",
        "print(type(dic))\n",
        "print(len(dir(dict)), len(dir(dic)))\n",
        "dic.__doc__\n",
        "dict.__doc__"
      ],
      "metadata": {
        "colab": {
          "base_uri": "https://localhost:8080/",
          "height": 127
        },
        "id": "CruPZsYympbC",
        "outputId": "42a3e4e4-86b3-4389-d00b-fbb7e170a783"
      },
      "execution_count": null,
      "outputs": [
        {
          "output_type": "stream",
          "name": "stdout",
          "text": [
            "{'a': 1, 'b': 2}\n",
            "<class 'dict'>\n",
            "41 41\n"
          ]
        },
        {
          "output_type": "execute_result",
          "data": {
            "text/plain": [
              "\"dict() -> new empty dictionary\\ndict(mapping) -> new dictionary initialized from a mapping object's\\n    (key, value) pairs\\ndict(iterable) -> new dictionary initialized as if via:\\n    d = {}\\n    for k, v in iterable:\\n        d[k] = v\\ndict(**kwargs) -> new dictionary initialized with the name=value pairs\\n    in the keyword argument list.  For example:  dict(one=1, two=2)\""
            ],
            "application/vnd.google.colaboratory.intrinsic+json": {
              "type": "string"
            }
          },
          "metadata": {},
          "execution_count": 27
        }
      ]
    },
    {
      "cell_type": "code",
      "source": [
        "# 두번째 방법은 변수 자체를 출력하는 방법이다.\n",
        "# for 변수 in range(시작번호, 마지막번호, 증가값)\n",
        "# iterable : list처럼 순회 가능한 객체\n",
        "\n",
        "# range 함수\n",
        "# range(start, top, step) 함수는 주로 for 문과 같이 사용된다.\n",
        "# range 함수는 숫자 범위에 대하여 반복을 하거나 특정한 범위의 숫자를 나열하도록 해주는 특별한 함수\n",
        "\n",
        "for v in range(0, 10, 2) :\n",
        "  print(v)\n",
        "\n",
        "for i in range(1, 6) :\n",
        "  print(i)"
      ],
      "metadata": {
        "colab": {
          "base_uri": "https://localhost:8080/"
        },
        "id": "_lLxAdNsnV5y",
        "outputId": "7631952b-f7e8-4171-fac8-06a5171eac0e"
      },
      "execution_count": null,
      "outputs": [
        {
          "output_type": "stream",
          "name": "stdout",
          "text": [
            "0\n",
            "2\n",
            "4\n",
            "6\n",
            "8\n",
            "1\n",
            "2\n",
            "3\n",
            "4\n",
            "5\n"
          ]
        }
      ]
    },
    {
      "cell_type": "code",
      "source": [
        "# enumerate 함수\n",
        "# 인덱스와 객체를 동시에 저장할 수 있는 특징을 가진 for문을 좀 더 효율적으로 사용하기 위한 함수\n",
        "# 순서 자료형(리스트, 튜플, 문자열)을 입력으로 받아 인덱스를 포함하는 객체를 리턴한다.\n",
        "# enumerate([순서자료형], [시작값=0])의 형식을 가지며 순서자료형은 반복자가 가능한 객체가 입력되고\n",
        "# 시작값은 입력시 해당 수 부터 증가하며, 생략했을 경우 기본값은 0이다.\n",
        "\n",
        "# k = 인덱스, v = 요소\n",
        "for k, v in enumerate(['apple', 'python', 'microsoft']) :\n",
        "  print('{0} : {1}'.format(k, v))\n",
        "\n",
        "for j in enumerate(['apple', 'python', 'microsoft'], 1) :\n",
        "  print('{0}'.format(j))"
      ],
      "metadata": {
        "colab": {
          "base_uri": "https://localhost:8080/"
        },
        "id": "BngdQ4rtn4kR",
        "outputId": "a6509461-d746-4fd5-acc4-e03daa6f57a7"
      },
      "execution_count": null,
      "outputs": [
        {
          "output_type": "stream",
          "name": "stdout",
          "text": [
            "0 : apple\n",
            "1 : python\n",
            "2 : microsoft\n",
            "(1, 'apple')\n",
            "(2, 'python')\n",
            "(3, 'microsoft')\n"
          ]
        }
      ]
    },
    {
      "cell_type": "code",
      "source": [
        "# zip 함수\n",
        "# 매개 인자로 여러 목록을 받아 각 목록의 요소를 튜플에 담아 목록에 저장한다.\n",
        "a = [1, 2, 3, 4, 5]\n",
        "b = ['a', 'b', 'c', 'd', 'e']\n",
        "\n",
        "for x, y in zip(a, b) :\n",
        "  print(x, y)\n",
        "  t = x, y\n",
        "  print(t)\n",
        "print(type(t))"
      ],
      "metadata": {
        "colab": {
          "base_uri": "https://localhost:8080/"
        },
        "id": "atT2-RDSoVXJ",
        "outputId": "bf5ba634-ec2d-446c-d1e8-0ac28335087d"
      },
      "execution_count": null,
      "outputs": [
        {
          "output_type": "stream",
          "name": "stdout",
          "text": [
            "1 a\n",
            "(1, 'a')\n",
            "2 b\n",
            "(2, 'b')\n",
            "3 c\n",
            "(3, 'c')\n",
            "4 d\n",
            "(4, 'd')\n",
            "5 e\n",
            "(5, 'e')\n",
            "<class 'tuple'>\n"
          ]
        }
      ]
    },
    {
      "cell_type": "code",
      "source": [
        "# items 함수\n",
        "# dict의 내장함수로 키와 값을 동시게 검색한다.\n",
        "dic = {'애플':'www.apple.com', '파이썬':'www.python.org'}\n",
        "for k, v in dic.items() :\n",
        "  print('{0} : {1}'.format(k, v))\n",
        "  m = k, v\n",
        "  print(m)\n",
        "print(type(m))"
      ],
      "metadata": {
        "colab": {
          "base_uri": "https://localhost:8080/"
        },
        "id": "zbjXnne7pqyV",
        "outputId": "682ca77d-a78d-4c46-c3fc-8ccf4c01f9f6"
      },
      "execution_count": null,
      "outputs": [
        {
          "output_type": "stream",
          "name": "stdout",
          "text": [
            "애플 : www.apple.com\n",
            "('애플', 'www.apple.com')\n",
            "파이썬 : www.python.org\n",
            "('파이썬', 'www.python.org')\n",
            "<class 'tuple'>\n"
          ]
        }
      ]
    },
    {
      "cell_type": "markdown",
      "source": [
        "### while반복문\n",
        "\n",
        "- 반복문에서 else는 반복문이 완벽하게 끝났을 때 실행된다.\n",
        "- 대부분의 프로그래밍 언어는 while과 for을 지원한다."
      ],
      "metadata": {
        "id": "y6j6NqZAqZFQ"
      }
    },
    {
      "cell_type": "code",
      "source": [
        "# else 반복문 사용 경우(while과 함께 사용된다.)\n",
        "# 아래는 while문이 완벽히 실행되었으므로 end가 출력된다.\n",
        "\n",
        "a = 15\n",
        "\n",
        "while a > 10 :\n",
        "  a -= 1\n",
        "  print(a)\n",
        "else :\n",
        "  print('end')"
      ],
      "metadata": {
        "colab": {
          "base_uri": "https://localhost:8080/"
        },
        "id": "sOEKJIJJqiK7",
        "outputId": "8c3a37ea-f1a5-4ff9-85be-c7bb0dfe7eda"
      },
      "execution_count": null,
      "outputs": [
        {
          "output_type": "stream",
          "name": "stdout",
          "text": [
            "14\n",
            "13\n",
            "12\n",
            "11\n",
            "10\n",
            "end\n"
          ]
        }
      ]
    },
    {
      "cell_type": "code",
      "source": [
        "# break는 반복문을 중단시킨다.\n",
        "# break가 실행되면 반복문이 완벽하게 실행된 것이 아니므로 else가 실행되지 않는다.\n",
        "a = 10\n",
        "while a > 1 :\n",
        "  a -= 1\n",
        "  if a == 5 :\n",
        "    break # 중단\n",
        "  print(a)\n",
        "else :\n",
        "  print('end')"
      ],
      "metadata": {
        "colab": {
          "base_uri": "https://localhost:8080/"
        },
        "id": "V8v28BEiq8L6",
        "outputId": "cb14c367-ebb2-45d5-8231-746101f24323"
      },
      "execution_count": null,
      "outputs": [
        {
          "output_type": "stream",
          "name": "stdout",
          "text": [
            "9\n",
            "8\n",
            "7\n",
            "6\n"
          ]
        }
      ]
    },
    {
      "cell_type": "code",
      "source": [
        "# continue는 다음 루프로 바로 넘어간다.\n",
        "# 반복문을 중단하지는 않으므로 else문이 실행된다.\n",
        "a = 10\n",
        "while a > 1 :\n",
        "  a -= 1\n",
        "  if a == 5 :\n",
        "    continue\n",
        "  print(a)\n",
        "else :\n",
        "  print('end')"
      ],
      "metadata": {
        "colab": {
          "base_uri": "https://localhost:8080/"
        },
        "id": "0-ZG1OMarVF7",
        "outputId": "ab64b757-5642-419a-f35c-ddb07aa7f7d3"
      },
      "execution_count": null,
      "outputs": [
        {
          "output_type": "stream",
          "name": "stdout",
          "text": [
            "9\n",
            "8\n",
            "7\n",
            "6\n",
            "4\n",
            "3\n",
            "2\n",
            "1\n",
            "end\n"
          ]
        }
      ]
    },
    {
      "cell_type": "markdown",
      "source": [
        "### 예외(Exception)\n",
        "\n",
        "- 프로그램을 수행하다 보면 문법적으로 문제가 없는 코드를 실행하는 중에 더 이상 진행할 수 없는 상황이 발생하는 경우를 의미한다.\n",
        "\n",
        "- 모든 예외 클래스로 표현되며 최상위 클래스는 BaseException클래스이다.\n",
        "\n",
        "- 예외 상황 \n",
        "  - 0으로 숫자 나구기\n",
        "  - 문자열과 숫자 더하기\n",
        "  - 참조 범위를 넘어서 인덱스 참조하기\n",
        "  - 등록되어 있지 않은 키로사전 검색하기\n",
        "\n",
        "- exception 관련 사이트 :\n",
        "  [exception관련사이트](https://blog.naver.com/PostView.nhn?isHttpsRedirect=true&blogId=dudwo567890&logNo=130161392390)\n",
        "\n",
        "[exception](https://python.bakyeono.net/chapter-9-4.html)   \n",
        "![exception](https://python.bakyeono.net/img/img-9-4.png)"
      ],
      "metadata": {
        "id": "s2S6NCpprnjA"
      }
    },
    {
      "cell_type": "code",
      "source": [
        "# 예외 상황\n",
        "# 나누기 연산에서 ZeroDivisionError 에러 발생\n",
        "a, b = 5, 0\n",
        "c = a / b\n",
        "print(c)\n",
        "# ZeroDivisionError: division by zero"
      ],
      "metadata": {
        "colab": {
          "base_uri": "https://localhost:8080/",
          "height": 229
        },
        "id": "P4F5swDAsJIi",
        "outputId": "43801da0-1456-4823-8bab-413589dbe9e2"
      },
      "execution_count": null,
      "outputs": [
        {
          "output_type": "error",
          "ename": "ZeroDivisionError",
          "evalue": "ignored",
          "traceback": [
            "\u001b[0;31m---------------------------------------------------------------------------\u001b[0m",
            "\u001b[0;31mZeroDivisionError\u001b[0m                         Traceback (most recent call last)",
            "\u001b[0;32m<ipython-input-43-5ad1236f0968>\u001b[0m in \u001b[0;36m<module>\u001b[0;34m\u001b[0m\n\u001b[1;32m      2\u001b[0m \u001b[0;31m# 나누기 연산에서 ZeroDivisionError 에러 발생\u001b[0m\u001b[0;34m\u001b[0m\u001b[0;34m\u001b[0m\u001b[0;34m\u001b[0m\u001b[0m\n\u001b[1;32m      3\u001b[0m \u001b[0ma\u001b[0m\u001b[0;34m,\u001b[0m \u001b[0mb\u001b[0m \u001b[0;34m=\u001b[0m \u001b[0;36m5\u001b[0m\u001b[0;34m,\u001b[0m \u001b[0;36m0\u001b[0m\u001b[0;34m\u001b[0m\u001b[0;34m\u001b[0m\u001b[0m\n\u001b[0;32m----> 4\u001b[0;31m \u001b[0mc\u001b[0m \u001b[0;34m=\u001b[0m \u001b[0ma\u001b[0m \u001b[0;34m/\u001b[0m \u001b[0mb\u001b[0m\u001b[0;34m\u001b[0m\u001b[0;34m\u001b[0m\u001b[0m\n\u001b[0m\u001b[1;32m      5\u001b[0m \u001b[0mprint\u001b[0m\u001b[0;34m(\u001b[0m\u001b[0mc\u001b[0m\u001b[0;34m)\u001b[0m\u001b[0;34m\u001b[0m\u001b[0;34m\u001b[0m\u001b[0m\n",
            "\u001b[0;31mZeroDivisionError\u001b[0m: division by zero"
          ]
        }
      ]
    },
    {
      "cell_type": "code",
      "source": [
        "# 정의 되지 않은 변수를 사용하면 NameError 에러 발생\n",
        "4 + spam * 3\n",
        "# NameError: name 'spam' is not defined"
      ],
      "metadata": {
        "colab": {
          "base_uri": "https://localhost:8080/",
          "height": 193
        },
        "id": "v8JTsUSmsS0f",
        "outputId": "93546d60-b3a7-4099-e4c1-afc77cc52351"
      },
      "execution_count": null,
      "outputs": [
        {
          "output_type": "error",
          "ename": "NameError",
          "evalue": "ignored",
          "traceback": [
            "\u001b[0;31m---------------------------------------------------------------------------\u001b[0m",
            "\u001b[0;31mNameError\u001b[0m                                 Traceback (most recent call last)",
            "\u001b[0;32m<ipython-input-44-d451183dfc9c>\u001b[0m in \u001b[0;36m<module>\u001b[0;34m\u001b[0m\n\u001b[1;32m      1\u001b[0m \u001b[0;31m# 정의 되지 않은 변수를 사용하면 NameError 에러 발생\u001b[0m\u001b[0;34m\u001b[0m\u001b[0;34m\u001b[0m\u001b[0;34m\u001b[0m\u001b[0m\n\u001b[0;32m----> 2\u001b[0;31m \u001b[0;36m4\u001b[0m \u001b[0;34m+\u001b[0m \u001b[0mspam\u001b[0m \u001b[0;34m*\u001b[0m \u001b[0;36m3\u001b[0m\u001b[0;34m\u001b[0m\u001b[0;34m\u001b[0m\u001b[0m\n\u001b[0m",
            "\u001b[0;31mNameError\u001b[0m: name 'spam' is not defined"
          ]
        }
      ]
    },
    {
      "cell_type": "code",
      "source": [
        "# 숫자가 아닌 데이터를 int로 변형할 때 ValueError 에러 발생\n",
        "int(3)**int('abc')\n",
        "# ValueError: invalid literal for int() with base 10: 'abc'"
      ],
      "metadata": {
        "colab": {
          "base_uri": "https://localhost:8080/",
          "height": 193
        },
        "id": "fubKVg2msa0P",
        "outputId": "f56797a2-525f-4b6c-f01c-ffff536c51d0"
      },
      "execution_count": null,
      "outputs": [
        {
          "output_type": "error",
          "ename": "ValueError",
          "evalue": "ignored",
          "traceback": [
            "\u001b[0;31m---------------------------------------------------------------------------\u001b[0m",
            "\u001b[0;31mValueError\u001b[0m                                Traceback (most recent call last)",
            "\u001b[0;32m<ipython-input-45-83ccc4083dc6>\u001b[0m in \u001b[0;36m<module>\u001b[0;34m\u001b[0m\n\u001b[1;32m      1\u001b[0m \u001b[0;31m# 숫자가 아닌 데이터를 int로 변형할 때 ValueError 에러 발생\u001b[0m\u001b[0;34m\u001b[0m\u001b[0;34m\u001b[0m\u001b[0;34m\u001b[0m\u001b[0m\n\u001b[0;32m----> 2\u001b[0;31m \u001b[0mint\u001b[0m\u001b[0;34m(\u001b[0m\u001b[0;36m3\u001b[0m\u001b[0;34m)\u001b[0m\u001b[0;34m**\u001b[0m\u001b[0mint\u001b[0m\u001b[0;34m(\u001b[0m\u001b[0;34m'abc'\u001b[0m\u001b[0;34m)\u001b[0m\u001b[0;34m\u001b[0m\u001b[0;34m\u001b[0m\u001b[0m\n\u001b[0m",
            "\u001b[0;31mValueError\u001b[0m: invalid literal for int() with base 10: 'abc'"
          ]
        }
      ]
    },
    {
      "cell_type": "code",
      "source": [
        "# 연산 중에 인수의 타입이 맞지 않으면 TypeError 에러 발생\n",
        "'2' + 2\n",
        "# TypeError: can only concatenate str (not \"int\") to str"
      ],
      "metadata": {
        "colab": {
          "base_uri": "https://localhost:8080/",
          "height": 193
        },
        "id": "eJacFy7msjaD",
        "outputId": "9c4e0a3a-a4c3-4d33-f835-4034e5294398"
      },
      "execution_count": null,
      "outputs": [
        {
          "output_type": "error",
          "ename": "TypeError",
          "evalue": "ignored",
          "traceback": [
            "\u001b[0;31m---------------------------------------------------------------------------\u001b[0m",
            "\u001b[0;31mTypeError\u001b[0m                                 Traceback (most recent call last)",
            "\u001b[0;32m<ipython-input-46-262d6b46672d>\u001b[0m in \u001b[0;36m<module>\u001b[0;34m\u001b[0m\n\u001b[1;32m      1\u001b[0m \u001b[0;31m# 연산 중에 인수의 타입이 맞지 않으면 TypeError 에러 발생\u001b[0m\u001b[0;34m\u001b[0m\u001b[0;34m\u001b[0m\u001b[0;34m\u001b[0m\u001b[0m\n\u001b[0;32m----> 2\u001b[0;31m \u001b[0;34m'2'\u001b[0m \u001b[0;34m+\u001b[0m \u001b[0;36m2\u001b[0m\u001b[0;34m\u001b[0m\u001b[0;34m\u001b[0m\u001b[0m\n\u001b[0m",
            "\u001b[0;31mTypeError\u001b[0m: can only concatenate str (not \"int\") to str"
          ]
        }
      ]
    },
    {
      "cell_type": "markdown",
      "source": [
        "### 예외 처리\n",
        "- 예외 처리란 예외가 발생했을 때 프로그램이 정상적으로 종료 될 수 있도록 예외가 발생되는 곳에 해주는 기능이다.\n",
        "\n",
        "```\n",
        "try :  \n",
        "    <예외가 발생될 가능성이 있는 문장>  \n",
        "  except[발생 오류 [as 오류 메세지 변수] ] :  \n",
        "    <예외가 발생했을 때 실행되는 문장>  \n",
        "  else :  \n",
        "    <예외가 발생하지 않았을 때 실행되는 문장>  \n",
        "  finally :  \n",
        "    <예외 발생 여부에 상관없이 무조건 실행되는 문장> \n",
        "```\n",
        "\n",
        "try ~ except \n",
        "- try 절 안에 문제가 발생할 가능성이 있는 코드를 배치하고,   \n",
        "except 절에는 문제가 생겼을 때 뒤처리를 하는 코드 블록 배치 \n",
        "```  \n",
        "try :   \n",
        "   문제가 발생할 가능성이 있는 코드  \n",
        "except :  \n",
        "   문제가 생겼을 때 실행할 코드\n",
        "```\n",
        "\n",
        "복수개의 except\n",
        "- try블록 안에서 여러 종류의 예외가 발생하는 경우에 사용\n",
        "```\n",
        "try :  \n",
        "    문제가 없을 경우 실행할 코드\n",
        "except 예외형식 :  \n",
        "    문제가 생겼을 때 실행할 코드  \n",
        "except 예외형식 :  \n",
        "    문제가 생겼을 때 실행할 코드\n",
        "```\n",
        "\n",
        "복수개의 except\n",
        "- 예외의 인스턴스를 활용하는 방법 (as문 사용)\n",
        "```\n",
        "try :   \n",
        "    문제가 없을 경우 실행할 코드  \n",
        "except 예외형식 1 as err :  \n",
        "    문제가 생겼을 때 실행할 코드  \n",
        "except 예외형식 2 as err :  \n",
        "    문제가 생겼을 때 실행할 코드  \n",
        "```\n",
        "\n",
        "try ~ except ~ else\n",
        "- try와 함께 사용하는 else절은 try절에 있는 코드 블록 실행 중에 아무런 예외가 일어나지 않으면 실행된다.\n",
        "```\n",
        "try :  \n",
        "    실행할 코드 블록  \n",
        "except :  \n",
        "    예외 처리 코드 블록  \n",
        "else :  \n",
        "    except절을 만나지 않았을 경우 실행하는 코드 블록\n",
        "```\n",
        "\n",
        "raise\n",
        "- 프로그래머가 의도적으로 예외를 발생시켜야 하는 경우에 사용한다.\n",
        "\n",
        "- raise 구문은 해당 예외를 단순히 발생시키거나 예외 발생시 필요한 정보를 같이 전달하기 위해 인자로 넘겨줄 수 있다.\n",
        "\n",
        "- 또한 예외를 상위에서 처리하도록 그대로 전달할 수도 있다.\n",
        "\n",
        "- raise 구문의 예외로 올 수 있는것으로 내장 예외와 사용자 정의 예외가 있다.\n",
        "```\n",
        "raise [Exception] : 해당 예외를 발생함  \n",
        "raise [Exception] : 예외를 발생 시 관련 데이터를 전달함  \n",
        "raise : 발생된 예외를 상위로 전달함  \n",
        "```"
      ],
      "metadata": {
        "id": "WzFFX7sKsrfu"
      }
    },
    {
      "cell_type": "code",
      "source": [
        "def divide(x, y) :\n",
        "  return x / y\n",
        "\n",
        "try : \n",
        "  result = divide(1, 0)\n",
        "except ZeroDivisionError :\n",
        "  print('분모는 1 이상이여야 합니다.')\n",
        "  # divide 함수에서 0으로 나누려는 시도임을 파악하고 예외를 일으킨다.\n",
        "  # 발생한 예외를 처리할 곳을 찾다가 except절을 만나 프로그램 흐름을 변경한다.\n",
        "else :\n",
        "  print(result)\n",
        "finally :\n",
        "  print('문제 풀이 끝')"
      ],
      "metadata": {
        "colab": {
          "base_uri": "https://localhost:8080/"
        },
        "id": "NwP9-aUdupjf",
        "outputId": "de96d402-4d96-4039-c2b1-01ddc4a8162a"
      },
      "execution_count": null,
      "outputs": [
        {
          "output_type": "stream",
          "name": "stdout",
          "text": [
            "분모는 1 이상이여야 합니다.\n",
            "문제 풀이 끝\n"
          ]
        }
      ]
    },
    {
      "cell_type": "code",
      "source": [
        "my_list = [1, 2, 3]\n",
        "\n",
        "try :\n",
        "  print('첨자를 입력하세요 : ')\n",
        "  index = int(input())\n",
        "  print(my_list[index] / 0)\n",
        "except ZeroDivisionError :\n",
        "  # index가 0~2 사이로 입력된다면 ZeroDivisionError가 일어난다.\n",
        "  print('0으로 나눌 수 없습니다.')\n",
        "except IndexError :\n",
        "  # index가 0~2를 벗어나면 my_list[index]에서 IndexError가 발생한다.\n",
        "  print('잘못된 첨자입니다.')"
      ],
      "metadata": {
        "colab": {
          "base_uri": "https://localhost:8080/"
        },
        "id": "QaCevI4gvIRP",
        "outputId": "8e1d1d2a-0308-43fa-8378-54224a78e7af"
      },
      "execution_count": null,
      "outputs": [
        {
          "output_type": "stream",
          "name": "stdout",
          "text": [
            "첨자를 입력하세요 : \n",
            "2\n",
            "0으로 나눌 수 없습니다.\n"
          ]
        }
      ]
    },
    {
      "cell_type": "code",
      "source": [
        "my_list = [1, 2, 3]\n",
        "\n",
        "try :\n",
        "  print('첨자를 입력하세요')\n",
        "  index = int(input())\n",
        "  print('my_list[{0}] : {1} '.format(index, my_list[index]))\n",
        "  # try절에서 예외가 발생하면 프로그램 흐름을 except절로 보낸다.\n",
        "except IndexError :\n",
        "  print('잘못된 첨자입니다.')\n",
        "else :\n",
        "  print('리스트의 요소 출력에 성공했습니다.')\n",
        "  # try절에서 예외가 발생하지 않으면 프로그램 흐름을 else절로 보낸다."
      ],
      "metadata": {
        "colab": {
          "base_uri": "https://localhost:8080/"
        },
        "id": "7kQJuxeQwAFC",
        "outputId": "930589b3-fa29-4e08-a268-20e8bb215f96"
      },
      "execution_count": null,
      "outputs": [
        {
          "output_type": "stream",
          "name": "stdout",
          "text": [
            "첨자를 입력하세요\n",
            "1\n",
            "my_list[1] : 2 \n",
            "리스트의 요소 출력에 성공했습니다.\n"
          ]
        }
      ]
    },
    {
      "cell_type": "code",
      "source": [
        "def RaiseErrorFunc() :\n",
        "  raise NameError('NameError의 인자')\n",
        "  # 다짜고짜 raise문을 통해 예외를 일으킵니다.\n",
        "\n",
        "def PropagateError() :\n",
        "  try :\n",
        "    RaiseErrorFunc()\n",
        "  except :\n",
        "    print('에러전달 이전에 먼저 이 메세지가 출력됨')\n",
        "    # RaiseErrorFunc() 함수에 의해서 NameError에러가 발생하며,\n",
        "    # 처리하는 부분이 없기 때문에 발생하는 에러가 PropagateError() 함수로 전달된다.\n",
        "\n",
        "PropagateError()"
      ],
      "metadata": {
        "colab": {
          "base_uri": "https://localhost:8080/"
        },
        "id": "DXMN_DGow8tK",
        "outputId": "7ad2c4f6-2c8c-49a7-bbf6-667864a41bef"
      },
      "execution_count": null,
      "outputs": [
        {
          "output_type": "stream",
          "name": "stdout",
          "text": [
            "에러전달 이전에 먼저 이 메세지가 출력됨\n"
          ]
        }
      ]
    },
    {
      "cell_type": "code",
      "source": [
        "def RaiseErrorFunc() :\n",
        "  raise NameError(\"NameError의 인자\")\n",
        "\n",
        "def PropagateError() :\n",
        "  try : \n",
        "    RaiseErrorFunc()\n",
        "  except :\n",
        "    print('에러전달 이전에 먼저 이 메세지가 출력됨')\n",
        "  raise\n",
        "  # 예외를 받은 propagateError() 함수에서는 화면에 메세지를 출력하고 받은 예외를 그대로 상위로 전달함\n",
        "  # 전달된 예외는 처리하는 부분이 없기 때문에 출력결과에서 확인할 수 있듯이, 에러를 출력한다.\n",
        "\n",
        "PropagateError()"
      ],
      "metadata": {
        "colab": {
          "base_uri": "https://localhost:8080/",
          "height": 358
        },
        "id": "24zasIl9x9i1",
        "outputId": "539ad8d0-6ec2-47e8-b383-63de5c1f1213"
      },
      "execution_count": null,
      "outputs": [
        {
          "output_type": "stream",
          "name": "stdout",
          "text": [
            "에러전달 이전에 먼저 이 메세지가 출력됨\n"
          ]
        },
        {
          "output_type": "error",
          "ename": "RuntimeError",
          "evalue": "ignored",
          "traceback": [
            "\u001b[0;31m---------------------------------------------------------------------------\u001b[0m",
            "\u001b[0;31mRuntimeError\u001b[0m                              Traceback (most recent call last)",
            "\u001b[0;32m<ipython-input-54-ba33e8edcada>\u001b[0m in \u001b[0;36m<module>\u001b[0;34m\u001b[0m\n\u001b[1;32m     11\u001b[0m   \u001b[0;31m# 전달된 예외는 처리하는 부분이 없기 때문에 출력결과에서 확인할 수 있듯이, 에러를 출력한다.\u001b[0m\u001b[0;34m\u001b[0m\u001b[0;34m\u001b[0m\u001b[0;34m\u001b[0m\u001b[0m\n\u001b[1;32m     12\u001b[0m \u001b[0;34m\u001b[0m\u001b[0m\n\u001b[0;32m---> 13\u001b[0;31m \u001b[0mPropagateError\u001b[0m\u001b[0;34m(\u001b[0m\u001b[0;34m)\u001b[0m\u001b[0;34m\u001b[0m\u001b[0;34m\u001b[0m\u001b[0m\n\u001b[0m",
            "\u001b[0;32m<ipython-input-54-ba33e8edcada>\u001b[0m in \u001b[0;36mPropagateError\u001b[0;34m()\u001b[0m\n\u001b[1;32m      7\u001b[0m   \u001b[0;32mexcept\u001b[0m \u001b[0;34m:\u001b[0m\u001b[0;34m\u001b[0m\u001b[0;34m\u001b[0m\u001b[0m\n\u001b[1;32m      8\u001b[0m     \u001b[0mprint\u001b[0m\u001b[0;34m(\u001b[0m\u001b[0;34m'에러전달 이전에 먼저 이 메세지가 출력됨'\u001b[0m\u001b[0;34m)\u001b[0m\u001b[0;34m\u001b[0m\u001b[0;34m\u001b[0m\u001b[0m\n\u001b[0;32m----> 9\u001b[0;31m   \u001b[0;32mraise\u001b[0m\u001b[0;34m\u001b[0m\u001b[0;34m\u001b[0m\u001b[0m\n\u001b[0m\u001b[1;32m     10\u001b[0m   \u001b[0;31m# 예외를 받은 propagateError() 함수에서는 화면에 메세지를 출력하고 받은 예외를 그대로 상위로 전달함\u001b[0m\u001b[0;34m\u001b[0m\u001b[0;34m\u001b[0m\u001b[0;34m\u001b[0m\u001b[0m\n\u001b[1;32m     11\u001b[0m   \u001b[0;31m# 전달된 예외는 처리하는 부분이 없기 때문에 출력결과에서 확인할 수 있듯이, 에러를 출력한다.\u001b[0m\u001b[0;34m\u001b[0m\u001b[0;34m\u001b[0m\u001b[0;34m\u001b[0m\u001b[0m\n",
            "\u001b[0;31mRuntimeError\u001b[0m: No active exception to reraise"
          ]
        }
      ]
    },
    {
      "cell_type": "code",
      "source": [
        "def RaiseErrorFunc() :\n",
        "  raise NameError(\"NameError의 인자\")\n",
        "\n",
        "def PropagateError() :\n",
        "  try : \n",
        "    RaiseErrorFunc()\n",
        "  except :\n",
        "    print('에러전달 이전에 먼저 이 메세지가 출력됨')\n",
        "  raise\n",
        "try :\n",
        "  PropagateError()\n",
        "  # 예외를 받은 PropagateError() 함수에서는 화면에 메세지를 출력하고 받은 예외를 그대로 상위로 전달함\n",
        "except Exception as err :\n",
        "  print('{0} 예외가 발생했습니다.'.format(err))"
      ],
      "metadata": {
        "colab": {
          "base_uri": "https://localhost:8080/"
        },
        "id": "QxK7LrKLzHXt",
        "outputId": "6df9b891-3665-4bef-c1d7-d5660b728925"
      },
      "execution_count": null,
      "outputs": [
        {
          "output_type": "stream",
          "name": "stdout",
          "text": [
            "에러전달 이전에 먼저 이 메세지가 출력됨\n",
            "No active exception to reraise 예외가 발생했습니다.\n"
          ]
        }
      ]
    }
  ]
}