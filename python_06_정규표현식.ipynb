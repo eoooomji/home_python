{
  "nbformat": 4,
  "nbformat_minor": 0,
  "metadata": {
    "colab": {
      "provenance": [],
      "authorship_tag": "ABX9TyPmfnbT5/sRZZBNZlsAL/bg",
      "include_colab_link": true
    },
    "kernelspec": {
      "name": "python3",
      "display_name": "Python 3"
    },
    "language_info": {
      "name": "python"
    }
  },
  "cells": [
    {
      "cell_type": "markdown",
      "metadata": {
        "id": "view-in-github",
        "colab_type": "text"
      },
      "source": [
        "<a href=\"https://colab.research.google.com/github/eoooomji/home_python/blob/master/python_06_%EC%A0%95%EA%B7%9C%ED%91%9C%ED%98%84%EC%8B%9D.ipynb\" target=\"_parent\"><img src=\"https://colab.research.google.com/assets/colab-badge.svg\" alt=\"Open In Colab\"/></a>"
      ]
    },
    {
      "cell_type": "markdown",
      "source": [
        "# 정규표현식"
      ],
      "metadata": {
        "id": "gvuvpjYgouPe"
      }
    },
    {
      "cell_type": "markdown",
      "source": [
        "## 정의\n",
        "\n",
        "- 메타문자 : 원래 그 문자가 가진 뜻이 아닌 특별한 용도로 사용되는 문자\n",
        "\n",
        "- 정규 표현식에서 사용되는 문자  \n",
        "```\n",
        "   . ^ $ + ? { } ( ) [ ]\n",
        "```"
      ],
      "metadata": {
        "id": "gTFyBQWdowqN"
      }
    },
    {
      "cell_type": "code",
      "source": [
        "import re"
      ],
      "metadata": {
        "id": "mxr-a8vjpGSl"
      },
      "execution_count": 1,
      "outputs": []
    },
    {
      "cell_type": "code",
      "source": [
        "print(dir(re))"
      ],
      "metadata": {
        "colab": {
          "base_uri": "https://localhost:8080/"
        },
        "id": "Da-xU1yopX09",
        "outputId": "6908b99b-78a8-4d16-fdc4-5446d0dbd692"
      },
      "execution_count": null,
      "outputs": [
        {
          "output_type": "stream",
          "name": "stdout",
          "text": [
            "['A', 'ASCII', 'DEBUG', 'DOTALL', 'I', 'IGNORECASE', 'L', 'LOCALE', 'M', 'MULTILINE', 'Match', 'Pattern', 'RegexFlag', 'S', 'Scanner', 'T', 'TEMPLATE', 'U', 'UNICODE', 'VERBOSE', 'X', '_MAXCACHE', '__all__', '__builtins__', '__cached__', '__doc__', '__file__', '__loader__', '__name__', '__package__', '__spec__', '__version__', '_cache', '_compile', '_compile_repl', '_expand', '_locale', '_pickle', '_special_chars_map', '_subx', 'compile', 'copyreg', 'enum', 'error', 'escape', 'findall', 'finditer', 'fullmatch', 'functools', 'match', 'purge', 'search', 'split', 'sre_compile', 'sre_parse', 'sub', 'subn', 'template']\n"
          ]
        }
      ]
    },
    {
      "cell_type": "code",
      "source": [
        "# [ ] : or\n",
        "p = re.compile('[a-z]')\n",
        "\n",
        "m = p.match('python')\n",
        "\n",
        "print(m)"
      ],
      "metadata": {
        "colab": {
          "base_uri": "https://localhost:8080/"
        },
        "id": "0n92zHhPpZoY",
        "outputId": "cf42b075-a1c5-49e3-9cf1-3960966e6ad0"
      },
      "execution_count": null,
      "outputs": [
        {
          "output_type": "stream",
          "name": "stdout",
          "text": [
            "<re.Match object; span=(0, 1), match='p'>\n"
          ]
        }
      ]
    },
    {
      "cell_type": "code",
      "source": [
        "n = p.search('python')\n",
        "\n",
        "print(n)"
      ],
      "metadata": {
        "colab": {
          "base_uri": "https://localhost:8080/"
        },
        "id": "C_ZA8d5npkpw",
        "outputId": "7f3a6ca2-24b1-4168-e6b0-9ab48785a39f"
      },
      "execution_count": null,
      "outputs": [
        {
          "output_type": "stream",
          "name": "stdout",
          "text": [
            "<re.Match object; span=(0, 1), match='p'>\n"
          ]
        }
      ]
    },
    {
      "cell_type": "code",
      "source": [
        "p = re.compile('[a-z]')\n",
        "\n",
        "m = p.findall('3 life ti sto short')\n",
        "\n",
        "print(m)\n",
        "\n",
        "n = p.match('3 life ti sto short')\n",
        "\n",
        "print(n)\n",
        "\n",
        "o = p.search('3 life ti sto short')\n",
        "\n",
        "print(o)"
      ],
      "metadata": {
        "colab": {
          "base_uri": "https://localhost:8080/"
        },
        "id": "DKflSufapoEM",
        "outputId": "0d72ccc7-6f00-4281-c8f9-8cdcba5d866b"
      },
      "execution_count": null,
      "outputs": [
        {
          "output_type": "stream",
          "name": "stdout",
          "text": [
            "['l', 'i', 'f', 'e', 't', 'i', 's', 't', 'o', 's', 'h', 'o', 'r', 't']\n",
            "None\n",
            "<re.Match object; span=(2, 3), match='l'>\n"
          ]
        }
      ]
    },
    {
      "cell_type": "code",
      "source": [
        "p = re.compile('[a-z]+')\n",
        "\n",
        "m = p.findall('li2fe is %too short3 e')\n",
        "\n",
        "print(m)"
      ],
      "metadata": {
        "colab": {
          "base_uri": "https://localhost:8080/"
        },
        "id": "COL-WVFU0UH8",
        "outputId": "253af0e5-2ae4-4fad-80ae-144f34cd4efc"
      },
      "execution_count": null,
      "outputs": [
        {
          "output_type": "stream",
          "name": "stdout",
          "text": [
            "['li', 'fe', 'is', 'too', 'short', 'e']\n"
          ]
        }
      ]
    },
    {
      "cell_type": "code",
      "source": [
        "p = re.compile('[a-z]+')\n",
        "\n",
        "m = p.finditer('life is too short')\n",
        "\n",
        "print(m)\n",
        "\n",
        "for r in m :\n",
        "  print(r)\n",
        "\n",
        "print(type(r))\n",
        "\n",
        "print(dir(r))"
      ],
      "metadata": {
        "colab": {
          "base_uri": "https://localhost:8080/"
        },
        "id": "EPbivFFF0qaM",
        "outputId": "603dbc6e-4d97-481a-c719-0a3dc76661de"
      },
      "execution_count": null,
      "outputs": [
        {
          "output_type": "stream",
          "name": "stdout",
          "text": [
            "<callable_iterator object at 0x7f3baae05040>\n",
            "<re.Match object; span=(0, 4), match='life'>\n",
            "<re.Match object; span=(5, 7), match='is'>\n",
            "<re.Match object; span=(8, 11), match='too'>\n",
            "<re.Match object; span=(12, 17), match='short'>\n",
            "<class 're.Match'>\n",
            "['__class__', '__copy__', '__deepcopy__', '__delattr__', '__dir__', '__doc__', '__eq__', '__format__', '__ge__', '__getattribute__', '__getitem__', '__gt__', '__hash__', '__init__', '__init_subclass__', '__le__', '__lt__', '__ne__', '__new__', '__reduce__', '__reduce_ex__', '__repr__', '__setattr__', '__sizeof__', '__str__', '__subclasshook__', 'end', 'endpos', 'expand', 'group', 'groupdict', 'groups', 'lastgroup', 'lastindex', 'pos', 're', 'regs', 'span', 'start', 'string']\n"
          ]
        }
      ]
    },
    {
      "cell_type": "code",
      "source": [
        "p = re.compile('[a-z]+')\n",
        "\n",
        "m = p.finditer('life is too short')\n",
        "\n",
        "print(m)\n",
        "\n",
        "for r in m :\n",
        "  print(r.group(), r.start(), r.end(), r.span())"
      ],
      "metadata": {
        "colab": {
          "base_uri": "https://localhost:8080/"
        },
        "id": "i7f4fyl90__9",
        "outputId": "2be3815a-d84b-49c2-a693-4800312ba858"
      },
      "execution_count": null,
      "outputs": [
        {
          "output_type": "stream",
          "name": "stdout",
          "text": [
            "<callable_iterator object at 0x7f3baae09c10>\n",
            "life 0 4 (0, 4)\n",
            "is 5 7 (5, 7)\n",
            "too 8 11 (8, 11)\n",
            "short 12 17 (12, 17)\n"
          ]
        }
      ]
    },
    {
      "cell_type": "code",
      "source": [
        "# 문자클래스[] : 문자 a-z 아무거나 들어가도 매치\n",
        "# match : 처음 매치되는 문자 하나만 반환한다.\n",
        "p = re.compile('[a-z]')\n",
        "\n",
        "m = p.match('abc')\n",
        "\n",
        "print(m)\n",
        "\n",
        "print(m.group(), m.start(), m.pos, m.string) # pos는 현재 인덱스를 뜻함"
      ],
      "metadata": {
        "colab": {
          "base_uri": "https://localhost:8080/"
        },
        "id": "ZpCwjbSF1ZRf",
        "outputId": "b468d0df-0533-47ab-b41c-2171b8bd226e"
      },
      "execution_count": null,
      "outputs": [
        {
          "output_type": "stream",
          "name": "stdout",
          "text": [
            "<re.Match object; span=(0, 1), match='a'>\n",
            "a 0 0 abc\n"
          ]
        }
      ]
    },
    {
      "cell_type": "code",
      "source": [
        "# Dot(.) : a와 b사이에 줄바꿈 문자를 제외한 어떠한 문자도 매치\n",
        "p = re.compile('a.b')\n",
        "\n",
        "m = p.match('abc')\n",
        "\n",
        "print(m)\n",
        "\n",
        "n = p.match('awbc')\n",
        "\n",
        "print(n)"
      ],
      "metadata": {
        "colab": {
          "base_uri": "https://localhost:8080/"
        },
        "id": "P15jWZv11rL7",
        "outputId": "ed417ef3-9b09-40fd-a566-b1ec3655900b"
      },
      "execution_count": null,
      "outputs": [
        {
          "output_type": "stream",
          "name": "stdout",
          "text": [
            "None\n",
            "<re.Match object; span=(0, 3), match='awb'>\n"
          ]
        }
      ]
    },
    {
      "cell_type": "code",
      "source": [
        "# 반복(*) : * 문자 바로 앞에 있는 t가 0번 이상 반복되면 매치\n",
        "p = re.compile('cat*k')\n",
        "m = p.match('ck')\n",
        "print(m)\n",
        "\n",
        "m = p.match('cak')\n",
        "print(m)\n",
        "\n",
        "m = p.match('catttk')\n",
        "print(m)\n",
        "print(m.group(), m.start())"
      ],
      "metadata": {
        "colab": {
          "base_uri": "https://localhost:8080/"
        },
        "id": "EiXWG36B2I3r",
        "outputId": "0266ab09-dfc2-4a7a-c9c5-bbb5dce9601a"
      },
      "execution_count": null,
      "outputs": [
        {
          "output_type": "stream",
          "name": "stdout",
          "text": [
            "None\n",
            "<re.Match object; span=(0, 3), match='cak'>\n",
            "<re.Match object; span=(0, 6), match='catttk'>\n",
            "catttk 0\n"
          ]
        }
      ]
    },
    {
      "cell_type": "code",
      "source": [
        "# 반복(+) : +문자 바로 앞에 있는 t가 1번 이상 반복되면 매치\n",
        "p = re.compile('cat+k')\n",
        "m = p.match('ck')\n",
        "print(m)\n",
        "\n",
        "m = p.match('cak')\n",
        "print(m)\n",
        "\n",
        "m = p.match('catttk')\n",
        "print(m)\n",
        "print(m.group(), m.start())"
      ],
      "metadata": {
        "colab": {
          "base_uri": "https://localhost:8080/"
        },
        "id": "5GlhN1r82SJV",
        "outputId": "a8b3dae0-3ed9-4d5e-eab5-6622f811b176"
      },
      "execution_count": null,
      "outputs": [
        {
          "output_type": "stream",
          "name": "stdout",
          "text": [
            "None\n",
            "None\n",
            "<re.Match object; span=(0, 6), match='catttk'>\n",
            "catttk 0\n"
          ]
        }
      ]
    },
    {
      "cell_type": "code",
      "source": [
        "# 반복{{m, n}, ?} : 반복 횟수를 고정시킬 때 사용한다.\n",
        "p = re.compile('ca{2}t')\n",
        "m = p.match('cat')\n",
        "print(m)\n",
        "\n",
        "m = p.match('caat')\n",
        "print(m)\n",
        "print(m.group())\n",
        "\n",
        "m = p.match('caaat')\n",
        "print(m)"
      ],
      "metadata": {
        "colab": {
          "base_uri": "https://localhost:8080/"
        },
        "id": "dhpptPbn2qjQ",
        "outputId": "18b81389-6469-43e3-d907-60d929178716"
      },
      "execution_count": null,
      "outputs": [
        {
          "output_type": "stream",
          "name": "stdout",
          "text": [
            "None\n",
            "<re.Match object; span=(0, 4), match='caat'>\n",
            "caat\n",
            "None\n"
          ]
        }
      ]
    },
    {
      "cell_type": "code",
      "source": [
        "# ? : {0, 1}를 의미한다.\n",
        "p = re.compile('ca?t')\n",
        "m = p.match('cat')\n",
        "print(m)\n",
        "print(m.group())\n",
        "\n",
        "m = p.match('ct')\n",
        "print(m)\n",
        "print(m.group())\n",
        "\n",
        "m = p.match('caat')\n",
        "print(m)"
      ],
      "metadata": {
        "colab": {
          "base_uri": "https://localhost:8080/"
        },
        "id": "2eDEM1WA6rrk",
        "outputId": "44926b53-27c4-4489-e6d9-c3d925266e4c"
      },
      "execution_count": null,
      "outputs": [
        {
          "output_type": "stream",
          "name": "stdout",
          "text": [
            "<re.Match object; span=(0, 3), match='cat'>\n",
            "cat\n",
            "<re.Match object; span=(0, 2), match='ct'>\n",
            "ct\n",
            "None\n"
          ]
        }
      ]
    },
    {
      "cell_type": "markdown",
      "source": [
        "## 정규화 표현식 옵션"
      ],
      "metadata": {
        "id": "p1QaZDPHU8Hx"
      }
    },
    {
      "cell_type": "code",
      "source": [
        "# 줄 바꿈 문자를 포함하여 모든 문자와 매치할 수 있도록 한다.\n",
        "p = re.compile('a.b', re.DOTALL)\n",
        "m = p.match('a\\nb')\n",
        "print(m)\n",
        "print(m.group())"
      ],
      "metadata": {
        "colab": {
          "base_uri": "https://localhost:8080/"
        },
        "id": "igkAG-wmU7gh",
        "outputId": "bd5025bf-ad63-4c7d-83b2-67a29046e593"
      },
      "execution_count": 2,
      "outputs": [
        {
          "output_type": "stream",
          "name": "stdout",
          "text": [
            "<re.Match object; span=(0, 3), match='a\\nb'>\n",
            "a\n",
            "b\n"
          ]
        }
      ]
    },
    {
      "cell_type": "code",
      "source": [
        "# 대소문자에 관계 없이 매치할 수 있도록 한다.\n",
        "p = re.compile('[a-z]', re.I) # 대문자 I (ignore)\n",
        "m = p.match('Life is too short')\n",
        "print(m)\n",
        "print(m.group())"
      ],
      "metadata": {
        "colab": {
          "base_uri": "https://localhost:8080/"
        },
        "id": "GSzO4XnWVTdq",
        "outputId": "232dc576-41ed-4d20-c7af-ecb6711b0566"
      },
      "execution_count": 3,
      "outputs": [
        {
          "output_type": "stream",
          "name": "stdout",
          "text": [
            "<re.Match object; span=(0, 1), match='L'>\n",
            "L\n"
          ]
        }
      ]
    },
    {
      "cell_type": "code",
      "source": [
        "p = re.compile('^python\\s\\w+', re.M) # Multiline\n",
        "m = p.findall(\"\"\"python one\n",
        "list is too short\n",
        "python two\n",
        "tou need python\n",
        "python _\n",
        "python 0\n",
        "python s\n",
        "python sa\n",
        "python three\n",
        "\"\"\")\n",
        "\n",
        "print(m)\n",
        "print(type(m))"
      ],
      "metadata": {
        "colab": {
          "base_uri": "https://localhost:8080/"
        },
        "id": "RXWjsCXhVcO4",
        "outputId": "9fce5384-eeaa-4530-ade2-0591ed51840e"
      },
      "execution_count": 4,
      "outputs": [
        {
          "output_type": "stream",
          "name": "stdout",
          "text": [
            "['python one', 'python two', 'python _', 'python 0', 'python s', 'python sa', 'python three']\n",
            "<class 'list'>\n"
          ]
        }
      ]
    },
    {
      "cell_type": "markdown",
      "source": [
        "## findall vs finditer\n",
        "\n",
        "- 일치하는 검색 데이터를 모두 가져온다.\n",
        "\n",
        "- findall은 matchers로 리턴하고 캡처된 그룹이 있다면 튜플로 리턴한다.\n",
        "\n",
        "- finditer는 Match object로 리턴한다.  \n",
        "  - 리턴된 오브젝트를 가지고 m.group(1), m.group(2) 이런식으로 사용할 수 있다."
      ],
      "metadata": {
        "id": "soUWU98bgX75"
      }
    },
    {
      "cell_type": "code",
      "source": [
        "p = re.compile(\"([0-9]+)([^0-9]*)\")\n",
        "m = p.findall(\"abxs212350dvkj2akfl0435xksd\")\n",
        "print(m)"
      ],
      "metadata": {
        "colab": {
          "base_uri": "https://localhost:8080/"
        },
        "id": "s3aUkazwgXWy",
        "outputId": "d4425558-c46e-47ea-9c38-c52db6669592"
      },
      "execution_count": 9,
      "outputs": [
        {
          "output_type": "stream",
          "name": "stdout",
          "text": [
            "[('212350', 'dvkj'), ('2', 'akfl'), ('0435', 'xksd')]\n"
          ]
        }
      ]
    },
    {
      "cell_type": "code",
      "source": [
        "p = re.compile('&#(0[0-7]+|[0-9]+|x[0-9a-fA-F]+);')\n",
        "data = \"\"\"&#06;\n",
        "&#9;\n",
        "&#xa;\n",
        "\"\"\"\n",
        "m = p.findall(data)\n",
        "print(m)"
      ],
      "metadata": {
        "colab": {
          "base_uri": "https://localhost:8080/"
        },
        "id": "lSLQrPb5hWK5",
        "outputId": "9fc9bea2-575f-497d-bc18-73e0d3c9059f"
      },
      "execution_count": 10,
      "outputs": [
        {
          "output_type": "stream",
          "name": "stdout",
          "text": [
            "['06', '9', 'xa']\n"
          ]
        }
      ]
    },
    {
      "cell_type": "markdown",
      "source": [
        "## 부정적 전방 탐색 ( ?! )"
      ],
      "metadata": {
        "id": "Bh53VNYDiDEq"
      }
    },
    {
      "cell_type": "code",
      "source": [
        "p = re.compile('.*[.](?!bat$|exe$).*$')\n",
        "file = ['foo.bar', 'autoexec.bat', 'sendmail.cf']\n",
        "\n",
        "for item in file :\n",
        "  # print(item)\n",
        "  m = p.search(item)\n",
        "  # print(m)\n",
        "  if m :\n",
        "    print(m)\n",
        "    print(m.group(), m.start(), m.end())"
      ],
      "metadata": {
        "colab": {
          "base_uri": "https://localhost:8080/"
        },
        "id": "H0Gsb3ZgiFIx",
        "outputId": "697c223c-744a-44fe-f8d0-25771b76c0a9"
      },
      "execution_count": 13,
      "outputs": [
        {
          "output_type": "stream",
          "name": "stdout",
          "text": [
            "<re.Match object; span=(0, 7), match='foo.bar'>\n",
            "foo.bar 0 7\n",
            "<re.Match object; span=(0, 11), match='sendmail.cf'>\n",
            "sendmail.cf 0 11\n"
          ]
        }
      ]
    },
    {
      "cell_type": "markdown",
      "source": [
        "## sub( )\n",
        "- 문자열 바꾸기\n",
        "\n",
        "- sub( '바꿀 문자열', '대상 문자열' )"
      ],
      "metadata": {
        "id": "O2qy-glsijCa"
      }
    },
    {
      "cell_type": "code",
      "source": [
        "p = re.compile('(blue|white|red)')\n",
        "m = p.sub('color', 'blue socks and red socks')\n",
        "print(m)\n",
        "print(type(m))"
      ],
      "metadata": {
        "colab": {
          "base_uri": "https://localhost:8080/"
        },
        "id": "oBfmITsziC1x",
        "outputId": "788f291c-5f02-4ba1-ca86-c23b74fd1f5f"
      },
      "execution_count": 14,
      "outputs": [
        {
          "output_type": "stream",
          "name": "stdout",
          "text": [
            "color socks and color socks\n",
            "<class 'str'>\n"
          ]
        }
      ]
    },
    {
      "cell_type": "markdown",
      "source": [
        "## subn ( )\n",
        "\n",
        "- sub( )와 비슷하나 튜플로 리턴한다.\n",
        "\n",
        "- 수정된 갯수도 리턴한다."
      ],
      "metadata": {
        "id": "-q_laxsxi1Ta"
      }
    },
    {
      "cell_type": "code",
      "source": [
        "p = re.compile('(blue|white|red)')\n",
        "m = p.subn('color', 'blue socks and red socks')\n",
        "print(m)\n",
        "print(type(m))"
      ],
      "metadata": {
        "colab": {
          "base_uri": "https://localhost:8080/"
        },
        "id": "cVEdKCVvi6AC",
        "outputId": "001db900-4b96-4b02-8eb1-f5b7924003a2"
      },
      "execution_count": 15,
      "outputs": [
        {
          "output_type": "stream",
          "name": "stdout",
          "text": [
            "('color socks and color socks', 2)\n",
            "<class 'tuple'>\n"
          ]
        }
      ]
    }
  ]
}