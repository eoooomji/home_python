{
  "nbformat": 4,
  "nbformat_minor": 0,
  "metadata": {
    "colab": {
      "provenance": [],
      "authorship_tag": "ABX9TyOjVKFzqHORdk6dvf4v2dIv",
      "include_colab_link": true
    },
    "kernelspec": {
      "name": "python3",
      "display_name": "Python 3"
    },
    "language_info": {
      "name": "python"
    }
  },
  "cells": [
    {
      "cell_type": "markdown",
      "metadata": {
        "id": "view-in-github",
        "colab_type": "text"
      },
      "source": [
        "<a href=\"https://colab.research.google.com/github/eoooomji/home_python/blob/master/python_11_%EB%8D%B0%EC%9D%B4%ED%84%B0%EC%88%98%EC%A7%91.ipynb\" target=\"_parent\"><img src=\"https://colab.research.google.com/assets/colab-badge.svg\" alt=\"Open In Colab\"/></a>"
      ]
    },
    {
      "cell_type": "code",
      "execution_count": 2,
      "metadata": {
        "colab": {
          "base_uri": "https://localhost:8080/"
        },
        "id": "B2CVKA4Y89Se",
        "outputId": "e093420b-4402-4dd5-b2b3-ecf79ac60aa8"
      },
      "outputs": [
        {
          "output_type": "stream",
          "name": "stdout",
          "text": [
            "Mounted at /content/drive\n",
            "/content/drive/MyDrive/home_python\n",
            "/content/drive/MyDrive/home_python\n"
          ]
        }
      ],
      "source": [
        "# 구글 드라이브 연동\n",
        "from google.colab import drive\n",
        "drive.mount('/content/drive')\n",
        "\n",
        "#  경로 변경\n",
        "%cd /content/drive/MyDrive/home_python\n",
        "\n",
        "!pwd"
      ]
    },
    {
      "cell_type": "markdown",
      "source": [
        "# 데이터 수집"
      ],
      "metadata": {
        "id": "BkNRTVSDFAnq"
      }
    },
    {
      "cell_type": "markdown",
      "source": [
        "## 1. 크롤링(Crawling), 스크래핑(Scraping), 파싱(Parsing)\n",
        "\n",
        "- 크롤링 : 웹 문서의 하이퍼링크를 타고 들어가는 행위. 스파이더링(Spidering)이라고도 한다.\n",
        "\n",
        "- 스크래핑 : 웹 사이트에서 원하는 정보를 추출하는 기술\n",
        "\n",
        "- 파싱 : 추출한 정보를 분석하는 기술"
      ],
      "metadata": {
        "id": "WwteYCalFB6v"
      }
    },
    {
      "cell_type": "markdown",
      "source": [
        "### 정의 및 방식\n",
        "\n",
        "1. 파이썬에서 제공해주는 크롤링 라이브러리\n",
        "\n",
        "- urllib 모듈 : 파이썬 내장 모듈\n",
        "\n",
        "- requests 모듈 : 외부 모듈\n",
        "\n",
        "2. 외부 라이브러리\n",
        "\n",
        "- 정적 : BeautifulSoup\n",
        "\n",
        "  - HTML과 XML 문서의 parsing을 하기 위한 python 패키지이므로 이 라이브러리를 이용해 정보를 추출한다.\n",
        "\n",
        "  - https://beautiful-soup-4.readthedocs.io/en/latest/\n",
        "\n",
        "  - https://www.crummy.com/software/BeautifulSoup/bs4/doc/\n",
        "\n",
        "- 동적 : Selenium\n",
        "\n",
        "  - 'Web Application'의 테스트를 자동화하기 위한 도구이다.\n",
        "\n",
        "  - 'Selenium'에서는 웹 브라우저를 실행 시킨 후 클릭을 하거나, 텍스트를 입력하고 지우는 등의 조작에 해당하는 메서드를 지원한다.\n",
        "\n",
        "  - 팝업을 닫아줘야만 정상적으로 화면을 볼 수 있는 웹 사이트도 있다.  \n",
        "    그리고 사용하는 이유 중 가장 중요한 것이 바로 동적페이지(JavaScript)로 제공하는 HTML인 경우이다.\n",
        "\n",
        "  - 크롤링 하는 도구는 BeautifulSoup을 사용하지만 동적으로 제어해주는 도구는 Selenium을 사용한다.\n",
        "\n",
        "  - !pip install selenium\n",
        "\n",
        "  - https://www.selenium.dev\n",
        "\n",
        "  - chromdriver.exe 다운로드(https://chromedriver.chromium.org/downloads)\n",
        "\n",
        "3. 크롤러(crawler)\n",
        "\n",
        "- 자동으로 웹 페이지에 있는 정보를 수집하는 프로그램\n",
        "\n",
        "- 크롤러를 '봇', '로봇', '스파이더'라 한다.\n",
        "\n",
        "- 구글 등의 검색 엔진은 봇 크롤러를 사용해 전 세계에 있는 웹 페이지의 정보를 모아서 축적한다.\n",
        "\n",
        "- 그리고 사용자가 키워드를 검색하면 축적된 방대한 정보에서 적당한 웹 페이지를 찾아서 제공해준다.\n",
        "\n"
      ],
      "metadata": {
        "id": "2aTy-BbpFL7M"
      }
    },
    {
      "cell_type": "markdown",
      "source": [
        "## 2. urllib 모듈\n",
        "\n",
        "- URL 문자열과 웹 요청에 관련된 모듈 5개를 제공한다.\n",
        "\n",
        "  - urllib.request : URL 문자열을 가조고 요청 기능 제공\n",
        "\n",
        "  - urllib.response : urllib 모듈에 의해 사용되는 응답 클래스 제공\n",
        "\n",
        "  - urllib.parse : URL 문자열을 파싱하여 해석하는 기능 제공\n",
        "\n",
        "  - urllib.error : urllib.request에 의해 발생하는 예외 클래스 제공\n",
        "\n",
        "  - urllib.robotparser : robots.txt 파일을 구문 분석하는 기능 제공"
      ],
      "metadata": {
        "id": "ejgmltioH-GU"
      }
    },
    {
      "cell_type": "code",
      "source": [
        "import urllib.request\n",
        "from urllib.request import urlopen"
      ],
      "metadata": {
        "id": "jKowyUkJISag"
      },
      "execution_count": 3,
      "outputs": []
    },
    {
      "cell_type": "code",
      "source": [
        "url = 'https://www.naver.com'\n",
        "html = urlopen(url)\n",
        "print(html.status) # 응답코드 200 (정상적으로 응답을 받음)\n",
        "print(type(html))\n",
        "print(dir(html))\n",
        "\n",
        "# line = html.read() # byte형식으로 읽어온다.\n",
        "lines = html.read().decode('utf-8')\n",
        "\n",
        "# print(line)\n",
        "# print(lines)\n",
        "\n",
        "with open('./urllib_naver.txt', 'w', encoding = 'utf-8') as f :\n",
        "  f.write(lines)"
      ],
      "metadata": {
        "colab": {
          "base_uri": "https://localhost:8080/"
        },
        "id": "XP46szq8IX4f",
        "outputId": "ddf03f6c-b553-49f2-b434-3cd27f818985"
      },
      "execution_count": 22,
      "outputs": [
        {
          "output_type": "stream",
          "name": "stdout",
          "text": [
            "200\n",
            "<class 'http.client.HTTPResponse'>\n",
            "['__abstractmethods__', '__class__', '__del__', '__delattr__', '__dict__', '__dir__', '__doc__', '__enter__', '__eq__', '__exit__', '__format__', '__ge__', '__getattribute__', '__gt__', '__hash__', '__init__', '__init_subclass__', '__iter__', '__le__', '__lt__', '__module__', '__ne__', '__new__', '__next__', '__reduce__', '__reduce_ex__', '__repr__', '__setattr__', '__sizeof__', '__str__', '__subclasshook__', '_abc_impl', '_checkClosed', '_checkReadable', '_checkSeekable', '_checkWritable', '_check_close', '_close_conn', '_get_chunk_left', '_method', '_peek_chunked', '_read1_chunked', '_read_and_discard_trailer', '_read_next_chunk_size', '_read_status', '_readall_chunked', '_readinto_chunked', '_safe_read', '_safe_readinto', 'begin', 'chunk_left', 'chunked', 'close', 'closed', 'code', 'debuglevel', 'detach', 'fileno', 'flush', 'fp', 'getcode', 'getheader', 'getheaders', 'geturl', 'headers', 'info', 'isatty', 'isclosed', 'length', 'msg', 'peek', 'read', 'read1', 'readable', 'readinto', 'readinto1', 'readline', 'readlines', 'reason', 'seek', 'seekable', 'status', 'tell', 'truncate', 'url', 'version', 'will_close', 'writable', 'write', 'writelines']\n"
          ]
        }
      ]
    },
    {
      "cell_type": "code",
      "source": [
        "with open('./urllib_naver.txt', 'r') as f:\n",
        "  # print(f.read())\n",
        "  print(f.readline())\n",
        "  print(f.readline())\n",
        "  print(f.readline())"
      ],
      "metadata": {
        "colab": {
          "base_uri": "https://localhost:8080/"
        },
        "id": "O_zeEIMiI7yg",
        "outputId": "3746b0e4-f7eb-42ed-e77d-5bdb7eba47c4"
      },
      "execution_count": 25,
      "outputs": [
        {
          "output_type": "stream",
          "name": "stdout",
          "text": [
            "\n",
            "\n",
            "<!doctype html>                          <html lang=\"ko\" data-dark=\"false\"> <head> <meta charset=\"utf-8\"> <title>NAVER</title> <meta http-equiv=\"X-UA-Compatible\" content=\"IE=edge\"> <meta name=\"viewport\" content=\"width=1190\"> <meta name=\"apple-mobile-web-app-title\" content=\"NAVER\"/> <meta name=\"robots\" content=\"index,nofollow\"/> <meta name=\"description\" content=\"네이버 메인에서 다양한 정보와 유용한 컨텐츠를 만나 보세요\"/> <meta property=\"og:title\" content=\"네이버\"> <meta property=\"og:url\" content=\"https://www.naver.com/\"> <meta property=\"og:image\" content=\"https://s.pstatic.net/static/www/mobile/edit/2016/0705/mobile_212852414260.png\"> <meta property=\"og:description\" content=\"네이버 메인에서 다양한 정보와 유용한 컨텐츠를 만나 보세요\"/> <meta name=\"twitter:card\" content=\"summary\"> <meta name=\"twitter:title\" content=\"\"> <meta name=\"twitter:url\" content=\"https://www.naver.com/\"> <meta name=\"twitter:image\" content=\"https://s.pstatic.net/static/www/mobile/edit/2016/0705/mobile_212852414260.png\"> <meta name=\"twitter:description\" content=\"네이버 메인에서 다양한 정보와 유용한 컨텐츠를 만나 보세요\"/>  <link rel=\"stylesheet\" href=\"https://pm.pstatic.net/dist/css/nmain.20221110.css\"> <link rel=\"stylesheet\" href=\"https://ssl.pstatic.net/sstatic/search/pc/css/sp_autocomplete_220526.css\"> <link rel=\"shortcut icon\" type=\"image/x-icon\" href=\"/favicon.ico?1\"/>  <link rel=\"apple-touch-icon\" sizes=\"114x114\" href=\"https://s.pstatic.net/static/www/u/2014/0328/mma_204243574.png\"/> <link rel=\"apple-touch-icon\" href=\"https://s.pstatic.net/static/www/u/2014/0328/mma_20432863.png\"/> <script>window.nmain=window.nmain||{},window.nmain.supportFlicking=!1;var nsc=\"navertop.v4\",ua=navigator.userAgent,useIeJSFlag=\"1\";window.nmain.isIE=\"0\"===useIeJSFlag,document.getElementsByTagName(\"html\")[0].setAttribute(\"data-useragent\",ua),window.nmain.isIE&&(Object.create=function(n){function a(){}return a.prototype=n,new a})</script> <script>var darkmode= false;window.naver_corp_da=window.naver_corp_da||{main:{}},window.naver_corp_da.main=window.naver_corp_da.main||{},window.naver_corp_da.main.darkmode=darkmode,window.gladsdk=window.gladsdk||{cmd:[]},window.gladsdk.cmd.push((function(){window.gladsdk.setHostMeta(\"theme\",darkmode?\"dark\":\"light\")})),window.ndpsdk=window.ndpsdk||{cmd:[],polyfill:{cmd:[]}},window.ndpsdk.cmd.push((function(){window.ndpsdk.setHostMeta(\"theme\",darkmode?\"dark\":\"light\")}))</script>  <script async src=\"https://ssl.pstatic.net/tveta/libs/glad/prod/gfp-core.js\"></script> <script async src=\"https://ssl.pstatic.net/tveta/libs/ndpsdk/prod/ndp-loader.js\"></script>  <script> window.nmain.gv = {  isLogin: false,\n",
            "\n",
            "useId: null,   daInfo: {\"BEAUTY\":{\"menu\":\"BEAUTY\",\"childMenu\":\"\",\"adType\":\"singleDom\",\"multiDomAdUrl\":\"\",\"multiDomUnit\":\"\",\"infoList\":[{\"adposId\":\"1000163\",\"singleDomAdUrl\":\"https://siape.veta.naver.com/fxshow\",\"param\":{\"da_dom_id\":\"p_main_beauty_1\",\"tb\":\"BEAUTY_1\",\"unit\":\"SU10595\",\"calp\":\"-\"},\"type\":{\"position\":\"abs\",\"positionIndex\":4,\"subject\":\"contents\"},\"dom\":null},{\"adposId\":\"1000164\",\"singleDomAdUrl\":\"https://siape.veta.naver.com/fxshow\",\"param\":{\"da_dom_id\":\"p_main_beauty_2\",\"tb\":\"BEAUTY_1\",\"unit\":\"SU10596\",\"calp\":\"-\"},\"type\":{\"position\":\"abs\",\"positionIndex\":8,\"subject\":\"contents\"},\"dom\":null}]},\"LIVING\":{\"menu\":\"LIVING\",\"childMenu\":\"\",\"adType\":\"singleDom\",\"multiDomAdUrl\":\"\",\"multiDomUnit\":\"\",\"infoList\":[{\"adposId\":\"1000183\",\"singleDomAdUrl\":\"https://siape.veta.naver.com/fxshow\",\"param\":{\"da_dom_id\":\"p_main_living_1\",\"tb\":\"LIVING_1\",\"unit\":\"SU10597\",\"calp\":\"-\"},\"type\":{\"position\":\"abs\",\"positionIndex\":4,\"subject\":\"contents\"},\"dom\":null},{\"adposId\":\"1000184\",\"singleDomAdUrl\":\"https://siape.veta.naver.com/fxshow\",\"param\":{\"da_dom_id\":\"p_main_living_2\",\"tb\":\"LIVING_1\",\"unit\":\"SU10606\",\"calp\":\"-\"},\"type\":{\"position\":\"abs\",\"positionIndex\":8,\"subject\":\"contents\"},\"dom\":null}]},\"LIVINGHOME\":{\"menu\":\"LIVINGHOME\",\"childMenu\":\"\",\"adType\":\"singleDom\",\"multiDomAdUrl\":\"\",\"multiDomUnit\":\"\",\"infoList\":[{\"adposId\":\"1000185\",\"singleDomAdUrl\":\"https://siape.veta.naver.com/fxshow\",\"param\":{\"da_dom_id\":\"p_main_livinghome_1\",\"tb\":\"LIVINGHOME_1\",\"unit\":\"SU10571\",\"calp\":\"-\"},\"type\":{\"position\":\"abs\",\"positionIndex\":4,\"subject\":\"contents\"},\"dom\":null},{\"adposId\":\"1000186\",\"singleDomAdUrl\":\"https://siape.veta.naver.com/fxshow\",\"param\":{\"da_dom_id\":\"p_main_livinghome_2\",\"tb\":\"LIVINGHOME_1\",\"unit\":\"SU10572\",\"calp\":\"-\"},\"type\":{\"position\":\"abs\",\"positionIndex\":8,\"subject\":\"contents\"},\"dom\":null}]}},\n",
            "\n"
          ]
        }
      ]
    },
    {
      "cell_type": "markdown",
      "source": [
        "### http.client.HTTPResponse 객체의 read( ) 메서드\n",
        "\n",
        "- read( ) 메서드를 실행하면 웹 서버가 전달한 데이터(응답 바디)를 바이트 열로 읽어 들인다.\n",
        "\n",
        "- 바이트열\n",
        "  - 16진수로 이루어진 수열\n",
        "\n",
        "  - 읽기가 어려우므로 웹 서버가 보낸 한글을 포함한 텍스트 형식의 HTML문서의 내용을 읽을 때는 텍스트 형식으로 변환한다.\n",
        "\n",
        "  - 바이트열(bytes)와 문자셋(decode) 메서드를 실행하여 응답된 문자셋에 알맞은 문자로 변환한다."
      ],
      "metadata": {
        "id": "6AgFU_A0JcrY"
      }
    },
    {
      "cell_type": "markdown",
      "source": [
        "### 웹 페이지 인코딩 체크\n",
        "\n",
        "- 웹 크롤링 하려는 웹 페이지가 어떠한 문자셋으로 작성 되었는지 파악하는 것이 필수이다.\n",
        "\n",
        "- 페이지의 소스 내용에서 `<meta>` 태그의 charset정보를 체크하면 파악이 가능하다.  \n",
        "  `<meta charset = \"utf-8\">`\n",
        "\n",
        "- 웹 페이지의 문자셋 정보를 파이썬 프로그램으로도 파악할 수 있다.\n",
        "  \n",
        "  - urllib.request.urlopen( ) 함수의 리턴값인 http.client.HTTPResponse 객체의 info( ) 메소드 호출\n",
        "\n",
        "  - http.client.HTTPMessage 객체가 리턴\n",
        "\n",
        "  - get_content_charset( ) 메서드 호출\n",
        "\n",
        "  - 문자셋 정보를 문자열로 리턴"
      ],
      "metadata": {
        "id": "uWR5uOyUJ9Dp"
      }
    },
    {
      "cell_type": "code",
      "source": [
        "url = 'https://www.naver.com'\n",
        "f = urllib.request.urlopen(url)\n",
        "\n",
        "print(f)\n",
        "print(type(f))\n",
        "\n",
        "print(f.info)\n",
        "print(type(f.info))\n",
        "\n",
        "print(f.info())\n",
        "print(type(f.info()))\n",
        "print(dir(type(f.info())))\n",
        "\n",
        "encoding = f.info().get_content_charset()\n",
        "\n",
        "print(encoding)"
      ],
      "metadata": {
        "colab": {
          "base_uri": "https://localhost:8080/"
        },
        "id": "oFhOB654KidV",
        "outputId": "9a3b4e57-6650-4a78-ba77-633310337934"
      },
      "execution_count": 34,
      "outputs": [
        {
          "output_type": "stream",
          "name": "stdout",
          "text": [
            "<http.client.HTTPResponse object at 0x7f544c8148e0>\n",
            "<class 'http.client.HTTPResponse'>\n",
            "<bound method HTTPResponse.info of <http.client.HTTPResponse object at 0x7f544c8148e0>>\n",
            "<class 'method'>\n",
            "Server: NWS\n",
            "Content-Type: text/html; charset=UTF-8\n",
            "Cache-Control: no-cache, no-store, must-revalidate\n",
            "Pragma: no-cache\n",
            "P3P: CP=\"CAO DSP CURa ADMa TAIa PSAa OUR LAW STP PHY ONL UNI PUR FIN COM NAV INT DEM STA PRE\"\n",
            "X-Frame-Options: DENY\n",
            "X-XSS-Protection: 1; mode=block\n",
            "Strict-Transport-Security: max-age=63072000; includeSubdomains\n",
            "Referrer-Policy: unsafe-url\n",
            "Vary: Accept-Encoding\n",
            "Date: Sun, 11 Dec 2022 12:32:20 GMT\n",
            "Transfer-Encoding: chunked\n",
            "Connection: close\n",
            "Connection: Transfer-Encoding\n",
            "\n",
            "\n",
            "<class 'http.client.HTTPMessage'>\n",
            "['__bytes__', '__class__', '__contains__', '__delattr__', '__delitem__', '__dict__', '__dir__', '__doc__', '__eq__', '__format__', '__ge__', '__getattribute__', '__getitem__', '__gt__', '__hash__', '__init__', '__init_subclass__', '__iter__', '__le__', '__len__', '__lt__', '__module__', '__ne__', '__new__', '__reduce__', '__reduce_ex__', '__repr__', '__setattr__', '__setitem__', '__sizeof__', '__str__', '__subclasshook__', '__weakref__', '_get_params_preserve', 'add_header', 'as_bytes', 'as_string', 'attach', 'del_param', 'get', 'get_all', 'get_boundary', 'get_charset', 'get_charsets', 'get_content_charset', 'get_content_disposition', 'get_content_maintype', 'get_content_subtype', 'get_content_type', 'get_default_type', 'get_filename', 'get_param', 'get_params', 'get_payload', 'get_unixfrom', 'getallmatchingheaders', 'is_multipart', 'items', 'keys', 'raw_items', 'replace_header', 'set_boundary', 'set_charset', 'set_default_type', 'set_param', 'set_payload', 'set_raw', 'set_type', 'set_unixfrom', 'values', 'walk']\n",
            "utf-8\n"
          ]
        }
      ]
    },
    {
      "cell_type": "markdown",
      "source": [
        "## requests 모듈\n",
        "\n",
        "- Kenneth Reitz에 의해 개발된 파이썬 라이브러리\n",
        "\n",
        "- HTTP 프로토콜과 관련된 기능을 지원한다.\n",
        "\n",
        "- anaconda에서는 site-package로 설치되어 있다.\n",
        "  - !pip install reauests (설치 방법)\n",
        "\n",
        "- requests.request( ) 에서 제공해주는 함수\n",
        "\n",
        "  - method : 요청 방식 지정(GET, POST, HEAD, PUT, DELETE, OPTIONS)\n",
        "\n",
        "  - url : 요청할 대상 URL 문자열 지정\n",
        "\n",
        "  - params : [ 선택적 ] 요청시 전달 할 Querry 문자열 지정(딕셔너리, 튜플, 리스트, 바이트열 가능)\n",
        "\n",
        "  - data : [ 선택적 ] 요청 시 바디에 담아서 전달 할 요청 파라미터 지정(딕셔너리, 튜플, 리스트, 바이트열 가능)\n",
        "\n",
        "  - json : [ 선택적 ] 요청 시 바디에 담아서 전달 할 json 타입의 객체 지정\n",
        "\n",
        "  - auth : [ 선택적 ] 인증 처리(로그인)에 사용 할 튜플 지정\n",
        "\n",
        "- requests.request( ) 함수에 요청 방식을 지정하여 호출하는 것과 동일한 함수를 지원한다.\n",
        "  \n",
        "  - requests.get( url, params = None, **kwargs )\n",
        "\n",
        "  - requests.post( url, data = None, json = None )\n",
        "\n",
        "  - requests.delete( url, **kwargs )\n",
        "\n",
        "- requests.models.Response 객체( 응답객체 )\n",
        "\n",
        "  - text\n",
        "    - 문자열 형식으로 응답 컨텐츠 추출\n",
        "\n",
        "    - 추출 시 사용되는 문자셋은 'ISO-8859-1'이므로 ;utf-8'이나 'euc-kr'문자셋으로 작성된 컨텐츠 추출 시 한글이 깨지는 현상 발생\n",
        "\n",
        "    - 추출 전 응답되는 컨텐츠의 문자셋 정보를 파악하여 Response객체의 encoding 속성에 문자 셋 정보를 설정한 후 송출\n",
        "\n",
        "  - content\n",
        "    - 바이트열 형식으로 응답 컨텐츠 추출\n",
        "    \n",
        "    - 응답 컨텐츠가 이미지와 같은 바이너리 형식의 경우에 사용\n",
        "\n",
        "    - 한글이 들어간 문자열 형식인 경우 r.content.decod('utf-8')을 사용해서 디코드 해야한다."
      ],
      "metadata": {
        "id": "SdSxiz10LBQL"
      }
    },
    {
      "cell_type": "code",
      "source": [
        "import requests\n",
        "\n",
        "url = 'https://naver.com'\n",
        "cont = requests.get(url)\n",
        "print(cont) # <Response [200]>\n",
        "print(type(cont)) # <class 'requests.models.Response'>\n",
        "print(dir(cont))\n",
        "print(cont.status_code)\n",
        "print(type(cont.text)) # str\n",
        "# print(cont.text) # String 자료형으로 반환\n",
        "print(type(cont.content)) # bytes\n",
        "print(cont.content) # 바이트열 자료형으로 반환"
      ],
      "metadata": {
        "colab": {
          "base_uri": "https://localhost:8080/"
        },
        "id": "Gk7guHxhMtCB",
        "outputId": "87131570-e876-41b6-b7a8-449d1400c08a"
      },
      "execution_count": 41,
      "outputs": [
        {
          "output_type": "stream",
          "name": "stdout",
          "text": [
            "<Response [200]>\n",
            "<class 'requests.models.Response'>\n",
            "['__attrs__', '__bool__', '__class__', '__delattr__', '__dict__', '__dir__', '__doc__', '__enter__', '__eq__', '__exit__', '__format__', '__ge__', '__getattribute__', '__getstate__', '__gt__', '__hash__', '__init__', '__init_subclass__', '__iter__', '__le__', '__lt__', '__module__', '__ne__', '__new__', '__nonzero__', '__reduce__', '__reduce_ex__', '__repr__', '__setattr__', '__setstate__', '__sizeof__', '__str__', '__subclasshook__', '__weakref__', '_content', '_content_consumed', '_next', 'apparent_encoding', 'close', 'connection', 'content', 'cookies', 'elapsed', 'encoding', 'headers', 'history', 'is_permanent_redirect', 'is_redirect', 'iter_content', 'iter_lines', 'json', 'links', 'next', 'ok', 'raise_for_status', 'raw', 'reason', 'request', 'status_code', 'text', 'url']\n",
            "200\n",
            "<class 'str'>\n",
            "<class 'bytes'>\n",
            "b'\\n<!doctype html>                          <html lang=\"ko\" data-dark=\"false\"> <head> <meta charset=\"utf-8\"> <title>NAVER</title> <meta http-equiv=\"X-UA-Compatible\" content=\"IE=edge\"> <meta name=\"viewport\" content=\"width=1190\"> <meta name=\"apple-mobile-web-app-title\" content=\"NAVER\"/> <meta name=\"robots\" content=\"index,nofollow\"/> <meta name=\"description\" content=\"\\xeb\\x84\\xa4\\xec\\x9d\\xb4\\xeb\\xb2\\x84 \\xeb\\xa9\\x94\\xec\\x9d\\xb8\\xec\\x97\\x90\\xec\\x84\\x9c \\xeb\\x8b\\xa4\\xec\\x96\\x91\\xed\\x95\\x9c \\xec\\xa0\\x95\\xeb\\xb3\\xb4\\xec\\x99\\x80 \\xec\\x9c\\xa0\\xec\\x9a\\xa9\\xed\\x95\\x9c \\xec\\xbb\\xa8\\xed\\x85\\x90\\xec\\xb8\\xa0\\xeb\\xa5\\xbc \\xeb\\xa7\\x8c\\xeb\\x82\\x98 \\xeb\\xb3\\xb4\\xec\\x84\\xb8\\xec\\x9a\\x94\"/> <meta property=\"og:title\" content=\"\\xeb\\x84\\xa4\\xec\\x9d\\xb4\\xeb\\xb2\\x84\"> <meta property=\"og:url\" content=\"https://www.naver.com/\"> <meta property=\"og:image\" content=\"https://s.pstatic.net/static/www/mobile/edit/2016/0705/mobile_212852414260.png\"> <meta property=\"og:description\" content=\"\\xeb\\x84\\xa4\\xec\\x9d\\xb4\\xeb\\xb2\\x84 \\xeb\\xa9\\x94\\xec\\x9d\\xb8\\xec\\x97\\x90\\xec\\x84\\x9c \\xeb\\x8b\\xa4\\xec\\x96\\x91\\xed\\x95\\x9c \\xec\\xa0\\x95\\xeb\\xb3\\xb4\\xec\\x99\\x80 \\xec\\x9c\\xa0\\xec\\x9a\\xa9\\xed\\x95\\x9c \\xec\\xbb\\xa8\\xed\\x85\\x90\\xec\\xb8\\xa0\\xeb\\xa5\\xbc \\xeb\\xa7\\x8c\\xeb\\x82\\x98 \\xeb\\xb3\\xb4\\xec\\x84\\xb8\\xec\\x9a\\x94\"/> <meta name=\"twitter:card\" content=\"summary\"> <meta name=\"twitter:title\" content=\"\"> <meta name=\"twitter:url\" content=\"https://www.naver.com/\"> <meta name=\"twitter:image\" content=\"https://s.pstatic.net/static/www/mobile/edit/2016/0705/mobile_212852414260.png\"> <meta name=\"twitter:description\" content=\"\\xeb\\x84\\xa4\\xec\\x9d\\xb4\\xeb\\xb2\\x84 \\xeb\\xa9\\x94\\xec\\x9d\\xb8\\xec\\x97\\x90\\xec\\x84\\x9c \\xeb\\x8b\\xa4\\xec\\x96\\x91\\xed\\x95\\x9c \\xec\\xa0\\x95\\xeb\\xb3\\xb4\\xec\\x99\\x80 \\xec\\x9c\\xa0\\xec\\x9a\\xa9\\xed\\x95\\x9c \\xec\\xbb\\xa8\\xed\\x85\\x90\\xec\\xb8\\xa0\\xeb\\xa5\\xbc \\xeb\\xa7\\x8c\\xeb\\x82\\x98 \\xeb\\xb3\\xb4\\xec\\x84\\xb8\\xec\\x9a\\x94\"/>  <link rel=\"stylesheet\" href=\"https://pm.pstatic.net/dist/css/nmain.20221110.css\"> <link rel=\"stylesheet\" href=\"https://ssl.pstatic.net/sstatic/search/pc/css/sp_autocomplete_220526.css\"> <link rel=\"shortcut icon\" type=\"image/x-icon\" href=\"/favicon.ico?1\"/>  <link rel=\"apple-touch-icon\" sizes=\"114x114\" href=\"https://s.pstatic.net/static/www/u/2014/0328/mma_204243574.png\"/> <link rel=\"apple-touch-icon\" href=\"https://s.pstatic.net/static/www/u/2014/0328/mma_20432863.png\"/> <script>window.nmain=window.nmain||{},window.nmain.supportFlicking=!1;var nsc=\"navertop.v4\",ua=navigator.userAgent,useIeJSFlag=\"1\";window.nmain.isIE=\"0\"===useIeJSFlag,document.getElementsByTagName(\"html\")[0].setAttribute(\"data-useragent\",ua),window.nmain.isIE&&(Object.create=function(n){function a(){}return a.prototype=n,new a})</script> <script>var darkmode= false;window.naver_corp_da=window.naver_corp_da||{main:{}},window.naver_corp_da.main=window.naver_corp_da.main||{},window.naver_corp_da.main.darkmode=darkmode,window.gladsdk=window.gladsdk||{cmd:[]},window.gladsdk.cmd.push((function(){window.gladsdk.setHostMeta(\"theme\",darkmode?\"dark\":\"light\")})),window.ndpsdk=window.ndpsdk||{cmd:[],polyfill:{cmd:[]}},window.ndpsdk.cmd.push((function(){window.ndpsdk.setHostMeta(\"theme\",darkmode?\"dark\":\"light\")}))</script>  <script async src=\"https://ssl.pstatic.net/tveta/libs/glad/prod/gfp-core.js\"></script> <script async src=\"https://ssl.pstatic.net/tveta/libs/ndpsdk/prod/ndp-loader.js\"></script>  <script> window.nmain.gv = {  isLogin: false,\\nuseId: null,   daInfo: {\"BEAUTY\":{\"menu\":\"BEAUTY\",\"childMenu\":\"\",\"adType\":\"singleDom\",\"multiDomAdUrl\":\"\",\"multiDomUnit\":\"\",\"infoList\":[{\"adposId\":\"1000163\",\"singleDomAdUrl\":\"https://siape.veta.naver.com/fxshow\",\"param\":{\"da_dom_id\":\"p_main_beauty_1\",\"tb\":\"BEAUTY_1\",\"unit\":\"SU10595\",\"calp\":\"-\"},\"type\":{\"position\":\"abs\",\"positionIndex\":4,\"subject\":\"contents\"},\"dom\":null},{\"adposId\":\"1000164\",\"singleDomAdUrl\":\"https://siape.veta.naver.com/fxshow\",\"param\":{\"da_dom_id\":\"p_main_beauty_2\",\"tb\":\"BEAUTY_1\",\"unit\":\"SU10596\",\"calp\":\"-\"},\"type\":{\"position\":\"abs\",\"positionIndex\":8,\"subject\":\"contents\"},\"dom\":null}]},\"LIVING\":{\"menu\":\"LIVING\",\"childMenu\":\"\",\"adType\":\"singleDom\",\"multiDomAdUrl\":\"\",\"multiDomUnit\":\"\",\"infoList\":[{\"adposId\":\"1000183\",\"singleDomAdUrl\":\"https://siape.veta.naver.com/fxshow\",\"param\":{\"da_dom_id\":\"p_main_living_1\",\"tb\":\"LIVING_1\",\"unit\":\"SU10597\",\"calp\":\"-\"},\"type\":{\"position\":\"abs\",\"positionIndex\":4,\"subject\":\"contents\"},\"dom\":null},{\"adposId\":\"1000184\",\"singleDomAdUrl\":\"https://siape.veta.naver.com/fxshow\",\"param\":{\"da_dom_id\":\"p_main_living_2\",\"tb\":\"LIVING_1\",\"unit\":\"SU10606\",\"calp\":\"-\"},\"type\":{\"position\":\"abs\",\"positionIndex\":8,\"subject\":\"contents\"},\"dom\":null}]},\"LIVINGHOME\":{\"menu\":\"LIVINGHOME\",\"childMenu\":\"\",\"adType\":\"singleDom\",\"multiDomAdUrl\":\"\",\"multiDomUnit\":\"\",\"infoList\":[{\"adposId\":\"1000185\",\"singleDomAdUrl\":\"https://siape.veta.naver.com/fxshow\",\"param\":{\"da_dom_id\":\"p_main_livinghome_1\",\"tb\":\"LIVINGHOME_1\",\"unit\":\"SU10571\",\"calp\":\"-\"},\"type\":{\"position\":\"abs\",\"positionIndex\":4,\"subject\":\"contents\"},\"dom\":null},{\"adposId\":\"1000186\",\"singleDomAdUrl\":\"https://siape.veta.naver.com/fxshow\",\"param\":{\"da_dom_id\":\"p_main_livinghome_2\",\"tb\":\"LIVINGHOME_1\",\"unit\":\"SU10572\",\"calp\":\"-\"},\"type\":{\"position\":\"abs\",\"positionIndex\":8,\"subject\":\"contents\"},\"dom\":null}]}},\\nsvt: 20221211214142,\\n}; </script> <script> window.nmain.newsstand = {\\nrcode: \\'(none)\\',\\nnewsCastSubsInfo: \\'\\',\\nnewsStandSubsInfo: \\'\\'\\n};\\nwindow.etc = {  };\\nwindow.svr = \"<!--cvweb04-->\"; </script> <script src=\"https://ssl.pstatic.net/tveta/libs/assets/js/pc/main/min/pc.veta.core.min.js\" defer=\"defer\"></script>   <script src=\"https://pm.pstatic.net/dist/js/external.2961eaa5.js?o=www\" type=\"text/javascript\" crossorigin=\"anonymous\" defer=\"defer\"></script> <script src=\"https://pm.pstatic.net/dist/js/preload.5fe99fda.js?o=www\" type=\"text/javascript\" crossorigin=\"anonymous\" defer=\"defer\"></script> <script src=\"https://pm.pstatic.net/dist/js/polyfill.f3c68d2d.js?o=www\" type=\"text/javascript\" crossorigin=\"anonymous\" defer=\"defer\"></script>  <script src=\"https://pm.pstatic.net/dist/js/vendors~more~nmain~notice~search~sidebar_notice.40da85e0.js?o=www\" type=\"text/javascript\" crossorigin=\"anonymous\" defer=\"defer\"></script>   <script src=\"https://pm.pstatic.net/dist/js/search.607b49e4.js?o=www\" type=\"text/javascript\" crossorigin=\"anonymous\" defer=\"defer\"></script>  <script src=\"https://pm.pstatic.net/dist/js/vendors~more~nmain~sidebar_notice.7aad5e27.js?o=www\" type=\"text/javascript\" crossorigin=\"anonymous\" defer=\"defer\"></script> <script src=\"https://pm.pstatic.net/dist/js/nmain.e31af4db.js?o=www\" type=\"text/javascript\" crossorigin=\"anonymous\" defer=\"defer\"></script> <style>:root{color-scheme:light}#_nx_kbd .setkorhelp a{display:none}</style> </head> <body> <div id=\"u_skip\"> <a href=\"#newsstand\"><span>\\xeb\\x89\\xb4\\xec\\x8a\\xa4\\xec\\x8a\\xa4\\xed\\x83\\xa0\\xeb\\x93\\x9c \\xeb\\xb0\\x94\\xeb\\xa1\\x9c\\xea\\xb0\\x80\\xea\\xb8\\xb0</span></a> <a href=\"#themecast\"><span>\\xec\\xa3\\xbc\\xec\\xa0\\x9c\\xeb\\xb3\\x84\\xec\\xba\\x90\\xec\\x8a\\xa4\\xed\\x8a\\xb8 \\xeb\\xb0\\x94\\xeb\\xa1\\x9c\\xea\\xb0\\x80\\xea\\xb8\\xb0</span></a> <a href=\"#timesquare\"><span>\\xed\\x83\\x80\\xec\\x9e\\x84\\xec\\x8a\\xa4\\xed\\x80\\x98\\xec\\x96\\xb4 \\xeb\\xb0\\x94\\xeb\\xa1\\x9c\\xea\\xb0\\x80\\xea\\xb8\\xb0</span></a> <a href=\"#shopcast\"><span>\\xec\\x87\\xbc\\xed\\x95\\x91\\xec\\xba\\x90\\xec\\x8a\\xa4\\xed\\x8a\\xb8 \\xeb\\xb0\\x94\\xeb\\xa1\\x9c\\xea\\xb0\\x80\\xea\\xb8\\xb0</span></a> <a href=\"#account\"><span>\\xeb\\xa1\\x9c\\xea\\xb7\\xb8\\xec\\x9d\\xb8 \\xeb\\xb0\\x94\\xeb\\xa1\\x9c\\xea\\xb0\\x80\\xea\\xb8\\xb0</span></a> </div> <div id=\"wrap\">         <style>._1syGnXOL{padding-right:18px;font-size:14px;line-height:0;letter-spacing:-.25px;color:#000}._1syGnXOL span,._1syGnXOL strong{line-height:49px}._1syGnXOL:before{display:inline-block;content:\"\";vertical-align:top;background-image:url(https://static-whale.pstatic.net/main/sprite-20220527@2x.png);background-repeat:no-repeat;background-size:141px 112px;width:18px;height:18px;margin:16px 8px 0 0;background-position:-98px 0}[data-useragent*=\"MSIE 8\"] ._1syGnXOL:before{background-image:url(https://static-whale.pstatic.net/main/sprite-20220527.png)}._1syGnXOL._3dsvmZg2:before{background-position:-47px -85px}._1syGnXOL._1NBFx1WK:before{width:20px;height:20px;margin:15px 8px 0 0;background-position:-21px -89px}._1syGnXOL._2mcQEKCd:before{width:22px;height:22px;margin:14px 7px 0 0;background-position:-47px -63px}._1syGnXOL._36slsKuJ:before{width:21px;height:49px;margin:0 14px 0 0;background-position:0 -63px}._1syGnXOL._3qlJVWzR:before{width:24px;height:49px;margin:0 10px 0 0;background-position:-117px 0}._1syGnXOL._3VkgqBXB:before{width:26px;height:49px;margin:0 10px 0 0;background-position:-116px -54px}._1syGnXOL._3di88A4c{padding-right:12px;font-size:17px}._1syGnXOL._3di88A4c:before{content:none}._1syGnXOL ._19K4X1CD{text-decoration:underline}._2aeXMlrb{display:inline-block;position:relative;font-size:12px;height:49px;width:78px;text-decoration:none;color:#fff;font-weight:700;letter-spacing:-.5px;vertical-align:top}._2aeXMlrb span{text-align:center;margin:9px 0;height:31px;display:block;line-height:31px;border-radius:15px}._2aeXMlrb span:before{display:inline-block;content:\"\";vertical-align:top;background-image:url(https://static-whale.pstatic.net/main/sprite-20220527@2x.png);background-repeat:no-repeat;background-size:141px 112px}[data-useragent*=\"MSIE 8\"] ._2aeXMlrb span:before{background-image:url(https://static-whale.pstatic.net/main/sprite-20220527.png)}._2aeXMlrb.BMgpjddw{font-size:11px;width:94px}._2aeXMlrb.BMgpjddw span:before{margin:9px 3px 0 0;width:17px;height:13px;background-position:-89px -63px}._3h-N8T9V{position:absolute;top:0;left:0;right:0;bottom:0;background:rgba(0,0,0,0)}._1KncATpM{display:inline-block;content:\"\";vertical-align:top;background-image:url(https://static-whale.pstatic.net/main/sprite-20220527@2x.png);background-repeat:no-repeat;background-size:141px 112px;margin-top:14px;float:left;width:98px;height:21px;background-position:0 -21px}[data-useragent*=\"MSIE 8\"] ._1KncATpM{background-image:url(https://static-whale.pstatic.net/main/sprite-20220527.png)}._1KncATpM._2v3uxv2x{background-position:0 0}._1KncATpM._1yl_Ow6o{background-position:0 -42px}._20PYt6lT{font-size:11px;height:49px;cursor:pointer;position:absolute;top:0;right:0;color:#666;opacity:.7}._20PYt6lT:after{width:15px;height:15px;margin-left:4px;background-position:-98px -33px;display:inline-block;content:\"\";vertical-align:top;background-image:url(https://static-whale.pstatic.net/main/sprite-20220527@2x.png);background-repeat:no-repeat;background-size:141px 112px}[data-useragent*=\"MSIE 8\"] ._20PYt6lT:after{background-image:url(https://static-whale.pstatic.net/main/sprite-20220527.png)}._20PYt6lT._39oMCV2N:after{background-position:-98px -18px}._20PYt6lT._3MOWOORv{color:#c3c2c2}._20PYt6lT._3MOWOORv:after{background-position:-80px -85px}._20PYt6lT._3wm5EzmJ{color:#fff}._20PYt6lT._3wm5EzmJ:after{background-position:-65px -85px}._1hiMWemA{height:49px}._1hiMWemA .tY_u8r23{position:relative;width:1130px;margin:0 auto}._1hiMWemA .tY_u8r23 a{text-decoration:none}._1hiMWemA._23U_6TM_{position:relative}._1hiMWemA._23U_6TM_:after{position:absolute;z-index:1;content:\"\";display:block;width:100%;height:1px;bottom:0;background-color:rgba(0,0,0,.050980392156862744)}</style>\\n<div\\nid=\"NM_TOP_BANNER\"\\ndata-clk-prefix=\"top\"\\nclass=\"_1hiMWemA\"\\nstyle=\"background-color: #fff7e1\"\\n>\\n<div class=\"tY_u8r23\">\\n<a\\nclass=\"_3h-N8T9V\"\\nhref=\"https://whale.naver.com/banner/details/security/?=main&wpid=RydDy7\"\\ndata-clk=\"dropbanner1a\"\\n></a\\n><span\\nclass=\"_1syGnXOL _3VkgqBXB\"\\ndata-clk=\"dropbanner1a\"\\nstyle=\"padding-right: 20px; font-size: 17px; color: black\"\\n><span>\\xeb\\xa7\\xa4\\xec\\x9d\\xbc \\xec\\x93\\xb0\\xeb\\x8a\\x94 \\xeb\\xb8\\x8c\\xeb\\x9d\\xbc\\xec\\x9a\\xb0\\xec\\xa0\\x80 \\xeb\\xb3\\xb4\\xec\\x95\\x88\\xec\\x9d\\xb4 \\xea\\xb1\\xb1\\xec\\xa0\\x95\\xeb\\x90\\x9c\\xeb\\x8b\\xa4\\xeb\\xa9\\xb4, </span\\n><strong\\n>\\xec\\x95\\x88\\xec\\xa0\\x84\\xed\\x95\\x98\\xea\\xb3\\xa0 \\xeb\\xb9\\xa0\\xeb\\xa5\\xb8 \\xec\\xb5\\x9c\\xec\\x8b\\xa0 \\xeb\\xb8\\x8c\\xeb\\x9d\\xbc\\xec\\x9a\\xb0\\xec\\xa0\\x80 \\xec\\x9b\\xa8\\xec\\x9d\\xbc\\xeb\\xa1\\x9c \\xec\\x97\\x85\\xeb\\x8d\\xb0\\xec\\x9d\\xb4\\xed\\x8a\\xb8 \\xed\\x95\\x98\\xec\\x84\\xb8\\xec\\x9a\\x94.</strong\\n></span\\n><a\\nhref=\"https://installer-whale.pstatic.net/downloads/banner/RydDy7/WhaleSetup.exe\"\\nclass=\"_2aeXMlrb BMgpjddw\"\\nid=\"NM_whale_download_btn\"\\ndata-clk=\"dropdownload1a\"\\n><span style=\"background-color: #0436c7\">\\xeb\\x8b\\xa4\\xec\\x9a\\xb4\\xeb\\xa1\\x9c\\xeb\\x93\\x9c</span></a\\n><button\\ntype=\"button\"\\ndata-ui-cookie-exp-days=\"3\"\\ndata-ui-cookie-key=\"NM_TOP_PROMOTION\"\\ndata-ui-cookie-value=\"1\"\\ndata-ui-hide-target=\"#NM_TOP_BANNER\"\\ndata-clk=\"dropclose1a\"\\nclass=\"_20PYt6lT _39oMCV2N\"\\n>\\n3\\xec\\x9d\\xbc \\xeb\\x8f\\x99\\xec\\x95\\x88 \\xeb\\xb3\\xb4\\xec\\xa7\\x80 \\xec\\x95\\x8a\\xea\\xb8\\xb0\\n</button>\\n</div>\\n</div>\\n  <div id=\"header\" role=\"banner\">\\n\\n\\n\\n\\n\\n\\n\\n\\n<div class=\"special_bg\">\\n<div class=\"group_flex\">\\n<div class=\"logo_area\">\\n<h1 class=\"logo_default\">\\n<a href=\"/\" class=\"logo_naver\" data-clk=\"top.logo\"\\n><span class=\"blind\">\\xeb\\x84\\xa4\\xec\\x9d\\xb4\\xeb\\xb2\\x84</span></a\\n>\\n</h1>\\n</div>\\n<div class=\"service_area\">\\n<a id=\"NM_set_home_btn\" href=\"https://help.naver.com/support/welcomePage/guide.help\" class=\"link_set\" data-clk=\"top.mkhome\">\\xeb\\x84\\xa4\\xec\\x9d\\xb4\\xeb\\xb2\\x84\\xeb\\xa5\\xbc \\xec\\x8b\\x9c\\xec\\x9e\\x91\\xed\\x8e\\x98\\xec\\x9d\\xb4\\xec\\xa7\\x80\\xeb\\xa1\\x9c</a>\\n<i class=\"sa_bar\"></i>\\n<a href=\"https://jr.naver.com\" class=\"link_jrnaver\" data-clk=\"top.jrnaver\"><i class=\"ico_jrnaver\"></i><span class=\"blind\">\\xec\\xa5\\xac\\xeb\\x8b\\x88\\xec\\x96\\xb4\\xeb\\x84\\xa4\\xec\\x9d\\xb4\\xeb\\xb2\\x84</span></a>\\n<a href=\"https://happybean.naver.com\" class=\"link_happybin\" data-clk=\"top.happybean\"><i class=\"ico_happybin\"></i><span class=\"blind\">\\xed\\x95\\xb4\\xed\\x94\\xbc\\xeb\\xb9\\x88</span></a>\\n</div>\\n\\n<div id=\"search\" class=\"search_area\" data-clk-prefix=\"sch\">\\n<form id=\"sform\" name=\"sform\" action=\"https://search.naver.com/search.naver\" method=\"get\" role=\"search\">\\n<fieldset>\\n<legend class=\"blind\">\\xea\\xb2\\x80\\xec\\x83\\x89</legend>\\n<select id=\"where\" name=\"where\" title=\"\\xea\\xb2\\x80\\xec\\x83\\x89 \\xeb\\xb2\\x94\\xec\\x9c\\x84 \\xec\\x84\\xa0\\xed\\x83\\x9d\" class=\"blind\">\\n<option value=\"nexearch\" selected=\"selected\">\\xed\\x86\\xb5\\xed\\x95\\xa9\\xea\\xb2\\x80\\xec\\x83\\x89</option><option value=\"post\">\\xeb\\xb8\\x94\\xeb\\xa1\\x9c\\xea\\xb7\\xb8</option><option value=\"cafeblog\">\\xec\\xb9\\xb4\\xed\\x8e\\x98</option><option value=\"cafe\">- \\xec\\xb9\\xb4\\xed\\x8e\\x98\\xeb\\xaa\\x85</option><option value=\"article\">- \\xec\\xb9\\xb4\\xed\\x8e\\x98\\xea\\xb8\\x80</option><option value=\"kin\">\\xec\\xa7\\x80\\xec\\x8b\\x9diN</option><option value=\"news\">\\xeb\\x89\\xb4\\xec\\x8a\\xa4</option><option value=\"web\">\\xec\\x82\\xac\\xec\\x9d\\xb4\\xed\\x8a\\xb8</option><option value=\"category\">- \\xec\\xb9\\xb4\\xed\\x85\\x8c\\xea\\xb3\\xa0\\xeb\\xa6\\xac</option><option value=\"site\">- \\xec\\x82\\xac\\xec\\x9d\\xb4\\xed\\x8a\\xb8</option><option value=\"movie\">\\xec\\x98\\x81\\xed\\x99\\x94</option><option value=\"webkr\">\\xec\\x9b\\xb9\\xeb\\xac\\xb8\\xec\\x84\\x9c</option><option value=\"dic\">\\xec\\x82\\xac\\xec\\xa0\\x84</option><option value=\"100\">- \\xeb\\xb0\\xb1\\xea\\xb3\\xbc\\xec\\x82\\xac\\xec\\xa0\\x84</option><option value=\"endic\">- \\xec\\x98\\x81\\xec\\x96\\xb4\\xec\\x82\\xac\\xec\\xa0\\x84</option><option value=\"eedic\">- \\xec\\x98\\x81\\xec\\x98\\x81\\xec\\x82\\xac\\xec\\xa0\\x84</option><option value=\"krdic\">- \\xea\\xb5\\xad\\xec\\x96\\xb4\\xec\\x82\\xac\\xec\\xa0\\x84</option><option value=\"jpdic\">- \\xec\\x9d\\xbc\\xeb\\xb3\\xb8\\xec\\x96\\xb4\\xec\\x82\\xac\\xec\\xa0\\x84</option><option value=\"hanja\">- \\xed\\x95\\x9c\\xec\\x9e\\x90\\xec\\x82\\xac\\xec\\xa0\\x84</option><option value=\"terms\">- \\xec\\x9a\\xa9\\xec\\x96\\xb4\\xec\\x82\\xac\\xec\\xa0\\x84</option><option value=\"book\">\\xec\\xb1\\x85</option><option value=\"music\">\\xec\\x9d\\x8c\\xec\\x95\\x85</option><option value=\"doc\">\\xec\\xa0\\x84\\xeb\\xac\\xb8\\xec\\x9e\\x90\\xeb\\xa3\\x8c</option><option value=\"shop\">\\xec\\x87\\xbc\\xed\\x95\\x91</option><option value=\"local\">\\xec\\xa7\\x80\\xec\\x97\\xad</option><option value=\"video\">\\xeb\\x8f\\x99\\xec\\x98\\x81\\xec\\x83\\x81</option><option value=\"image\">\\xec\\x9d\\xb4\\xeb\\xaf\\xb8\\xec\\xa7\\x80</option><option value=\"mypc\">\\xeb\\x82\\xb4PC</option><optgroup label=\"\\xec\\x8a\\xa4\\xeb\\xa7\\x88\\xed\\x8a\\xb8 \\xed\\x8c\\x8c\\xec\\x9d\\xb8\\xeb\\x8d\\x94\"><option value=\"movie\">\\xec\\x98\\x81\\xed\\x99\\x94</option><option value=\"auto\">\\xec\\x9e\\x90\\xeb\\x8f\\x99\\xec\\xb0\\xa8</option><option value=\"game\">\\xea\\xb2\\x8c\\xec\\x9e\\x84</option><option value=\"health\">\\xea\\xb1\\xb4\\xea\\xb0\\x95</option><option value=\"people\">\\xec\\x9d\\xb8\\xeb\\xac\\xbc</option></optgroup><optgroup label=\"\\xeb\\x84\\xa4\\xec\\x9d\\xb4\\xeb\\xb2\\x84 \\xeb\\x9e\\xa9\"><option>\\xea\\xb8\\x8d\\xec\\xa0\\x95\\xeb\\xb6\\x80\\xec\\xa0\\x95\\xea\\xb2\\x80\\xec\\x83\\x89</option></optgroup>\\n</select>\\n<input type=\"hidden\" id=\"sm\" name=\"sm\" value=\"top_hty\" />\\n<input type=\"hidden\" id=\"fbm\" name=\"fbm\" value=\"0\" />\\n<input type=\"hidden\" id=\"acr\" name=\"acr\" value=\"\" disabled=\"disabled\" />\\n<input type=\"hidden\" id=\"acq\" name=\"acq\" value=\"\" disabled=\"disabled\" />\\n<input type=\"hidden\" id=\"qdt\" name=\"qdt\" value=\"\" disabled=\"disabled\" />\\n<input type=\"hidden\" id=\"ie\" name=\"ie\" value=\"utf8\" />\\n<input type=\"hidden\" id=\"acir\" name=\"acir\" value=\"\" disabled=\"disabled\" />\\n<input type=\"hidden\" id=\"os\" name=\"os\" value=\"\" disabled=\"disabled\" />\\n<input type=\"hidden\" id=\"bid\" name=\"bid\" value=\"\" disabled=\"disabled\" />\\n<input type=\"hidden\" id=\"pkid\" name=\"pkid\" value=\"\" disabled=\"disabled\" />\\n<input type=\"hidden\" id=\"eid\" name=\"eid\" value=\"\" disabled=\"disabled\" />\\n<input type=\"hidden\" id=\"mra\" name=\"mra\" value=\"\" disabled=\"disabled\" />\\n\\n\\n\\n<div class=\"green_window\" style=\\'\\'>\\n<!-- [AU] data-atcmp-element \\xec\\x97\\x90 \\xed\\x95\\xb4\\xeb\\x8b\\xb9\\xed\\x95\\x98\\xeb\\x8a\\x94 attribute\\xeb\\xa5\\xbc \\xec\\xb6\\x94\\xea\\xb0\\x80\\xed\\x95\\xb4\\xec\\xa3\\xbc\\xec\\x84\\xb8\\xec\\x9a\\x94. -->\\n<input id=\"query\" name=\"query\" type=\"text\" title=\"\\xea\\xb2\\x80\\xec\\x83\\x89\\xec\\x96\\xb4 \\xec\\x9e\\x85\\xeb\\xa0\\xa5\" maxlength=\"255\" class=\"input_text\" tabindex=\"1\" accesskey=\"s\" style=\"ime-mode:active;\" autocomplete=\"off\"  placeholder=\"\\xea\\xb2\\x80\\xec\\x83\\x89\\xec\\x96\\xb4\\xeb\\xa5\\xbc \\xec\\x9e\\x85\\xeb\\xa0\\xa5\\xed\\x95\\xb4 \\xec\\xa3\\xbc\\xec\\x84\\xb8\\xec\\x9a\\x94.\" onclick=\"document.getElementById(\\'fbm\\').value=1;\" value=\"\" data-atcmp-element>\\n</div>\\n<button id=\"search_btn\" type=\"submit\" title=\"\\xea\\xb2\\x80\\xec\\x83\\x89\" tabindex=\"3\" class=\"btn_submit\" onclick=\"window.nclick(this,\\'sch.action\\',\\'\\',\\'\\',event);\" style=\\'\\'>\\n<span class=\"blind\">\\xea\\xb2\\x80\\xec\\x83\\x89</span>\\n<span class=\"ico_search_submit\"></span>\\n</button>\\n</fieldset>\\n</form>\\n<!-- \\xed\\x95\\x9c\\xea\\xb8\\x80\\xec\\x9e\\x85\\xeb\\xa0\\xa5\\xea\\xb8\\xb0 -->\\n<a href=\"#\" id=\"ke_kbd_btn\" role=\"button\" class=\"btn_keyboard\" onclick=\"return false;\"><span class=\"blind\">\\xed\\x95\\x9c\\xea\\xb8\\x80 \\xec\\x9e\\x85\\xeb\\xa0\\xa5\\xea\\xb8\\xb0</span><span class=\"ico_keyboard\"></span></a>\\n<div id=\"_nx_kbd\" style=\"display:none;\"></div>\\n<div class=\"autocomplete\">\\n<!-- \\xec\\x9e\\x90\\xeb\\x8f\\x99\\xec\\x99\\x84\\xec\\x84\\xb1 \\xec\\x97\\xb4\\xeb\\xa6\\xb0 \\xea\\xb2\\xbd\\xec\\x9a\\xb0 fold \\xed\\x81\\xb4\\xeb\\x9e\\x98\\xec\\x8a\\xa4 \\xec\\xb6\\x94\\xea\\xb0\\x80, \\xeb\\x94\\xa4\\xeb\\x93\\x9c\\xec\\x9d\\xb8 \\xea\\xb2\\xbd\\xec\\x9a\\xb0 dim \\xec\\xb6\\x94\\xea\\xb0\\x80 -->\\n<a href=\"#\" role=\"button\" id=\"nautocomplete\" tabindex=\"2\" class=\"btn_arw _btn_arw fold\" aria-pressed=\"false\" data-atcmp-element><span class=\"blind\">\\xec\\x9e\\x90\\xeb\\x8f\\x99\\xec\\x99\\x84\\xec\\x84\\xb1 \\xeb\\xa0\\x88\\xec\\x9d\\xb4\\xec\\x96\\xb4</span><span class=\"ico_arr\"></span></a>\\n</div>\\n<!-- \\xec\\x9e\\x90\\xeb\\x8f\\x99\\xec\\x99\\x84\\xec\\x84\\xb1\\xeb\\xa0\\x88\\xec\\x9d\\xb4\\xec\\x96\\xb4 -->\\n<div id=\"autoFrame\" class=\"reatcmp\" style=\"display: none;\">\\n<!-- [AU] data-atcmp-element attribute\\xeb\\xa5\\xbc \\xec\\xb6\\x94\\xea\\xb0\\x80\\xed\\x95\\xb4\\xec\\xa3\\xbc\\xec\\x84\\xb8\\xec\\x9a\\x94. -->\\n<div class=\"ly_atcmp\" data-atcmp-element>\\n<div class=\"api_atcmp_wrap\">\\n<!-- \\xec\\xb5\\x9c\\xea\\xb7\\xbc\\xea\\xb2\\x80\\xec\\x83\\x89\\xec\\x96\\xb4 -->\\n<!-- [AU] _recent_layer \\xed\\x81\\xb4\\xeb\\x9e\\x98\\xec\\x8a\\xa4\\xeb\\xa5\\xbc \\xec\\xb6\\x94\\xea\\xb0\\x80\\xed\\x95\\xb4\\xec\\xa3\\xbc\\xec\\x84\\xb8\\xec\\x9a\\x94. -->\\n<div class=\"atcmp_fixer _recent_layer\" style=\"display:none;\">\\n<!-- [AU] _recent_header \\xed\\x81\\xb4\\xeb\\x9e\\x98\\xec\\x8a\\xa4\\xeb\\xa5\\xbc \\xec\\xb6\\x94\\xea\\xb0\\x80\\xed\\x95\\xb4\\xec\\xa3\\xbc\\xec\\x84\\xb8\\xec\\x9a\\x94. -->\\n<div class=\"atcmp_header _recent_header\">\\n<strong class=\"tit\">\\xec\\xb5\\x9c\\xea\\xb7\\xbc\\xea\\xb2\\x80\\xec\\x83\\x89\\xec\\x96\\xb4</strong>\\n<div class=\"option\">\\n<!-- [AU] _delAll \\xed\\x81\\xb4\\xeb\\x9e\\x98\\xec\\x8a\\xa4\\xeb\\xa5\\xbc \\xec\\xb6\\x94\\xea\\xb0\\x80\\xed\\x95\\xb4\\xec\\xa3\\xbc\\xec\\x84\\xb8\\xec\\x9a\\x94. -->\\n<a role=\"button\" href=\"#\" class=\"item _delAll\" aria-pressed=\"false\">\\xec\\xa0\\x84\\xec\\xb2\\xb4\\xec\\x82\\xad\\xec\\xa0\\x9c</a>\\n</div>\\n</div>\\n<div class=\"atcmp_container\">\\n<!-- [AU] _recent \\xed\\x81\\xb4\\xeb\\x9e\\x98\\xec\\x8a\\xa4\\xeb\\xa5\\xbc \\xec\\xb6\\x94\\xea\\xb0\\x80\\xed\\x95\\xb4\\xec\\xa3\\xbc\\xec\\x84\\xb8\\xec\\x9a\\x94. -->\\n<ul class=\"kwd_lst _recent\">\\n<!-- \\xec\\xb5\\x9c\\xea\\xb7\\xbc\\xea\\xb2\\x80\\xec\\x83\\x89\\xec\\x96\\xb4 \\xed\\x85\\x9c\\xed\\x94\\x8c\\xeb\\xa6\\xbf -->\\n<!-- [AU] _item \\xed\\x81\\xb4\\xeb\\x9e\\x98\\xec\\x8a\\xa4\\xeb\\xa5\\xbc \\xec\\xb6\\x94\\xea\\xb0\\x80\\xed\\x95\\xb4\\xec\\xa3\\xbc\\xec\\x84\\xb8\\xec\\x9a\\x94. -->\\n<!-- [AU] data-template-type=\"history\" data-keyword=\"@in_txt@\" attribute\\xeb\\xa5\\xbc \\xec\\xb6\\x94\\xea\\xb0\\x80\\xed\\x95\\xb4\\xec\\xa3\\xbc\\xec\\x84\\xb8\\xec\\x9a\\x94. -->\\n<li class=\"item _item\" data-rank=\"@rank@\" data-template-type=\"history\" data-keyword=\"@in_txt@\">\\n<a href=\"#\" class=\"kwd\">\\n<span class=\"fix\"><span class=\"common_ico_kwd\"><i class=\"imsc ico_search\"></i></span><span>@txt@</span></span>\\n</a>\\n<span class=\"etc\">\\n<em class=\"date\">@date@.</em>\\n<!-- [AU] _del \\xed\\x81\\xb4\\xeb\\x9e\\x98\\xec\\x8a\\xa4\\xeb\\xa5\\xbc \\xec\\xb6\\x94\\xea\\xb0\\x80\\xed\\x95\\xb4\\xec\\xa3\\xbc\\xec\\x84\\xb8\\xec\\x9a\\x94. -->\\n<a href=\"#\" role=\"button\" class=\"bt_item _del\" aria-pressed=\"false\"><i class=\"imsc ico_del\">\\xec\\x82\\xad\\xec\\xa0\\x9c</i></a>\\n</span>\\n</li>\\n</ul>\\n<!-- [D] \\xea\\xb2\\x80\\xec\\x83\\x89\\xec\\x96\\xb4 \\xec\\xa0\\x80\\xec\\x9e\\xa5 \\xea\\xba\\xbc\\xec\\xa7\\x84 \\xea\\xb2\\xbd\\xec\\x9a\\xb0 atcmp_fixer\\xec\\x97\\x90 type_off \\xec\\xb6\\x94\\xea\\xb0\\x80 -->\\n<!-- [AU] _offMsg \\xed\\x81\\xb4\\xeb\\x9e\\x98\\xec\\x8a\\xa4\\xeb\\xa5\\xbc \\xec\\xb6\\x94\\xea\\xb0\\x80\\xed\\x95\\xb4\\xec\\xa3\\xbc\\xec\\x84\\xb8\\xec\\x9a\\x94. -->\\n<div class=\"kwd_info kwd_off _offMsg\" style=\"display: none;\">\\xea\\xb2\\x80\\xec\\x83\\x89\\xec\\x96\\xb4 \\xec\\xa0\\x80\\xec\\x9e\\xa5 \\xea\\xb8\\xb0\\xeb\\x8a\\xa5\\xec\\x9d\\xb4 \\xea\\xba\\xbc\\xec\\xa0\\xb8 \\xec\\x9e\\x88\\xec\\x8a\\xb5\\xeb\\x8b\\x88\\xeb\\x8b\\xa4.<br><span class=\"kwd_dsc\">\\xec\\x84\\xa4\\xec\\xa0\\x95\\xec\\x9d\\xb4 \\xec\\xb4\\x88\\xea\\xb8\\xb0\\xed\\x99\\x94 \\xeb\\x90\\x9c\\xeb\\x8b\\xa4\\xeb\\xa9\\xb4 <a href=\"https://help.naver.com/support/alias/search/word/word_29.naver\" class=\"kwd_help\" data-clk=\"sly.help\" target=\"_blank\">\\xeb\\x8f\\x84\\xec\\x9b\\x80\\xeb\\xa7\\x90</a>\\xec\\x9d\\x84 \\xed\\x99\\x95\\xec\\x9d\\xb8\\xed\\x95\\xb4\\xec\\xa3\\xbc\\xec\\x84\\xb8\\xec\\x9a\\x94.</span></div>\\n<!-- [D] \\xea\\xb2\\x80\\xec\\x83\\x89\\xec\\x96\\xb4 \\xeb\\x82\\xb4\\xec\\x97\\xad \\xec\\x97\\x86\\xeb\\x8a\\x94 \\xea\\xb2\\xbd\\xec\\x9a\\xb0 atcmp_fixer\\xec\\x97\\x90 type_off \\xec\\xb6\\x94\\xea\\xb0\\x80 -->\\n<!-- [AU] _recentNone \\xed\\x81\\xb4\\xeb\\x9e\\x98\\xec\\x8a\\xa4\\xeb\\xa5\\xbc \\xec\\xb6\\x94\\xea\\xb0\\x80\\xed\\x95\\xb4\\xec\\xa3\\xbc\\xec\\x84\\xb8\\xec\\x9a\\x94. -->\\n<div class=\"kwd_info kwd_none _recentNone\" style=\"display: none;\">\\xec\\xb5\\x9c\\xea\\xb7\\xbc \\xea\\xb2\\x80\\xec\\x83\\x89\\xec\\x96\\xb4 \\xeb\\x82\\xb4\\xec\\x97\\xad\\xec\\x9d\\xb4 \\xec\\x97\\x86\\xec\\x8a\\xb5\\xeb\\x8b\\x88\\xeb\\x8b\\xa4.<br><span class=\"kwd_dsc\">\\xec\\x84\\xa4\\xec\\xa0\\x95\\xec\\x9d\\xb4 \\xec\\xb4\\x88\\xea\\xb8\\xb0\\xed\\x99\\x94 \\xeb\\x90\\x9c\\xeb\\x8b\\xa4\\xeb\\xa9\\xb4 <a href=\"https://help.naver.com/support/alias/search/word/word_29.naver\" class=\"kwd_help\" data-clk=\"sly.help\" target=\"_blank\">\\xeb\\x8f\\x84\\xec\\x9b\\x80\\xeb\\xa7\\x90</a>\\xec\\x9d\\x84 \\xed\\x99\\x95\\xec\\x9d\\xb8\\xed\\x95\\xb4\\xec\\xa3\\xbc\\xec\\x84\\xb8\\xec\\x9a\\x94.</span></div>\\n</div>\\n<div class=\"atcmp_footer\">\\n<span class=\"side_opt_area\">\\n<span class=\"opt_item\"><a href=\"https://help.naver.com/support/service/main.help?serviceNo=605&amp;categoryNo=1991\" data-clk=\"sly.help\" target=\"_blank\">\\xeb\\x8f\\x84\\xec\\x9b\\x80\\xeb\\xa7\\x90</a></span>\\n</span>\\n<span class=\"rside_opt_area\">\\n<span class=\"opt_item\">\\n<!-- [AU] _keywordOnOff \\xed\\x81\\xb4\\xeb\\x9e\\x98\\xec\\x8a\\xa4\\xeb\\xa5\\xbc \\xec\\xb6\\x94\\xea\\xb0\\x80\\xed\\x95\\xb4\\xec\\xa3\\xbc\\xec\\x84\\xb8\\xec\\x9a\\x94. -->\\n<a href=\"#\" class=\"close _keywordOnOff\">\\xec\\x9e\\x90\\xeb\\x8f\\x99\\xec\\xa0\\x80\\xec\\x9e\\xa5 \\xeb\\x81\\x84\\xea\\xb8\\xb0</a>\\n</span>\\n</span>\\n</div>\\n</div>\\n<!-- \\xec\\x9e\\x90\\xeb\\x8f\\x99\\xec\\x99\\x84\\xec\\x84\\xb1 -->\\n<!-- [AU] _atcmp_layer \\xed\\x81\\xb4\\xeb\\x9e\\x98\\xec\\x8a\\xa4\\xeb\\xa5\\xbc \\xec\\xb6\\x94\\xea\\xb0\\x80\\xed\\x95\\xb4\\xec\\xa3\\xbc\\xec\\x84\\xb8\\xec\\x9a\\x94. -->\\n<div class=\"atcmp_fixer _atcmp_layer\" style=\"display:none;\">\\n<!-- [AU] _words \\xed\\x81\\xb4\\xeb\\x9e\\x98\\xec\\x8a\\xa4\\xeb\\xa5\\xbc \\xec\\xb6\\x94\\xea\\xb0\\x80\\xed\\x95\\xb4\\xec\\xa3\\xbc\\xec\\x84\\xb8\\xec\\x9a\\x94. -->\\n<div class=\"atcmp_container _words\">\\n<!-- \\xec\\xa0\\x95\\xeb\\x8b\\xb5\\xed\\x98\\x95 \\xed\\x85\\x9c\\xed\\x94\\x8c\\xeb\\xa6\\xbf : \\xeb\\xa1\\x9c\\xeb\\x98\\x90\\xeb\\x8b\\xb9\\xec\\xb2\\xa8\\xeb\\xb2\\x88\\xed\\x98\\xb8 -->\\n<!-- [AU] _answer \\xed\\x81\\xb4\\xeb\\x9e\\x98\\xec\\x8a\\xa4\\xeb\\xa5\\xbc \\xec\\xb6\\x94\\xea\\xb0\\x80\\xed\\x95\\xb4\\xec\\xa3\\xbc\\xec\\x84\\xb8\\xec\\x9a\\x94. -->\\n<!-- [AU] data-template-type=\"answer_3\" data-code=\"@code@\" data-keyword=\"@1@\" attribute\\xeb\\xa5\\xbc \\xec\\xb6\\x94\\xea\\xb0\\x80\\xed\\x95\\xb4\\xec\\xa3\\xbc\\xec\\x84\\xb8\\xec\\x9a\\x94. -->\\n<div class=\"atcmp_correct type_lotto _answer\" data-template-type=\"answer_3\" data-code=\"@code@\" data-keyword=\"@1@\">\\n<a href=\"#\" class=\"link_item\">\\n<span class=\"common_ico_kwd\"><i class=\"imsc ico_search\"></i></span>\\n<div class=\"dsc_area\">\\n<span class=\"tit\">@5@\\xed\\x9a\\x8c\\xec\\xb0\\xa8 \\xeb\\x8b\\xb9\\xec\\xb2\\xa8\\xeb\\xb2\\x88\\xed\\x98\\xb8</span>\\n<span class=\"dsc\">\\n<span class=\"item\">\\xec\\xb6\\x94\\xec\\xb2\\xa8 @13@.</span><span class=\"item\">\\xec\\xa7\\x80\\xea\\xb8\\x89\\xea\\xb8\\xb0\\xed\\x95\\x9c 1\\xeb\\x85\\x84</span>\\n</span>\\n</div>\\n<span class=\"etc_area\">\\n<span class=\"etc lotto\">\\n<em class=\"n@6@\">@6@</em><em class=\"n@7@\">@7@</em><em class=\"n@8@\">@8@</em><em class=\"n@9@\">@9@</em><em class=\"n@10@\">@10@</em><em class=\"n@11@\">@11@</em><em class=\"imsc_bf bonus n@12@\">@12@</em>\\n</span>\\n</span>\\n</a>\\n</div>\\n<!-- \\xec\\xa0\\x95\\xeb\\x8b\\xb5\\xed\\x98\\x95 \\xed\\x85\\x9c\\xed\\x94\\x8c\\xeb\\xa6\\xbf : \\xed\\x99\\x98\\xec\\x9c\\xa8 -->\\n<!-- [AU] _answer \\xed\\x81\\xb4\\xeb\\x9e\\x98\\xec\\x8a\\xa4\\xeb\\xa5\\xbc \\xec\\xb6\\x94\\xea\\xb0\\x80\\xed\\x95\\xb4\\xec\\xa3\\xbc\\xec\\x84\\xb8\\xec\\x9a\\x94. -->\\n<!-- [AU] data-template-type=\"answer_9\" data-code=\"@code@\" data-keyword=\"@1@\" attribute\\xeb\\xa5\\xbc \\xec\\xb6\\x94\\xea\\xb0\\x80\\xed\\x95\\xb4\\xec\\xa3\\xbc\\xec\\x84\\xb8\\xec\\x9a\\x94. -->\\n<div class=\"atcmp_correct type_exchange _answer\" data-template-type=\"answer_9\" data-code=\"@code@\" data-keyword=\"@1@\">\\n<!-- [D] \\xec\\x83\\x81\\xec\\x8a\\xb9 up, \\xed\\x95\\x98\\xeb\\x9d\\xbd down \\xec\\xb6\\x94\\xea\\xb0\\x80 -->\\n<a href=\"#\" class=\"link_item @11@\">\\n<!-- [D] \\xea\\xb5\\xad\\xea\\xb0\\x80\\xeb\\xb3\\x84 class \\xea\\xb0\\x80\\xeb\\x82\\x98\\xeb\\x8b\\xa4\\xec\\x88\\x9c\\nZAR \\xeb\\x82\\xa8\\xec\\x95\\x84\\xed\\x94\\x84\\xeb\\xa6\\xac\\xec\\xb9\\xb4 \\xea\\xb3\\xb5\\xed\\x99\\x94\\xea\\xb5\\xad\\nNPR \\xeb\\x84\\xa4\\xed\\x8c\\x94\\nNOK \\xeb\\x85\\xb8\\xeb\\xa5\\xb4\\xec\\x9b\\xa8\\xec\\x9d\\xb4\\nNZD \\xeb\\x89\\xb4\\xec\\xa7\\x88\\xeb\\x9e\\x9c\\xeb\\x93\\x9c\\nTWD \\xeb\\x8c\\x80\\xeb\\xa7\\x8c\\nDKK \\xeb\\x8d\\xb4\\xeb\\xa7\\x88\\xed\\x81\\xac\\nRUB \\xeb\\x9f\\xac\\xec\\x8b\\x9c\\xec\\x95\\x84\\nMOP \\xeb\\xa7\\x88\\xec\\xb9\\xb4\\xec\\x98\\xa4\\nMYR \\xeb\\xa7\\x90\\xeb\\xa0\\x88\\xec\\x9d\\xb4\\xec\\x8b\\x9c\\xec\\x95\\x84\\nMXN \\xeb\\xa9\\x95\\xec\\x8b\\x9c\\xec\\xbd\\x94\\nMNT \\xeb\\xaa\\xbd\\xea\\xb3\\xa8\\nUSD \\xeb\\xaf\\xb8\\xea\\xb5\\xad\\nBHD \\xeb\\xb0\\x94\\xeb\\xa0\\x88\\xec\\x9d\\xb8\\nBDT \\xeb\\xb0\\xa9\\xea\\xb8\\x80\\xeb\\x9d\\xbc\\xeb\\x8d\\xb0\\xec\\x8b\\x9c\\nVND \\xeb\\xb2\\xa0\\xed\\x8a\\xb8\\xeb\\x82\\xa8\\nBRL \\xeb\\xb8\\x8c\\xeb\\x9d\\xbc\\xec\\xa7\\x88\\nSAR \\xec\\x82\\xac\\xec\\x9a\\xb0\\xeb\\x94\\x94\\xec\\x95\\x84\\xeb\\x9d\\xbc\\xeb\\xb9\\x84\\xec\\x95\\x84\\nSEK \\xec\\x8a\\xa4\\xec\\x9b\\xa8\\xeb\\x8d\\xb4\\nCHF \\xec\\x8a\\xa4\\xec\\x9c\\x84\\xec\\x8a\\xa4\\nSGD \\xec\\x8b\\xb1\\xea\\xb0\\x80\\xed\\x8f\\xac\\xeb\\xa5\\xb4\\nAED \\xec\\x95\\x84\\xeb\\x9e\\x8d\\xec\\x97\\x90\\xeb\\xaf\\xb8\\xeb\\xa6\\xac\\xed\\x8a\\xb8\\nGBP \\xec\\x98\\x81\\xea\\xb5\\xad\\nEUR \\xec\\x9c\\xa0\\xeb\\x9f\\xbd\\xec\\x97\\xb0\\xed\\x95\\xa9\\nILS \\xec\\x9d\\xb4\\xec\\x8a\\xa4\\xeb\\x9d\\xbc\\xec\\x97\\x98\\nEGP \\xec\\x9d\\xb4\\xec\\xa7\\x91\\xed\\x8a\\xb8\\nINR \\xec\\x9d\\xb8\\xeb\\x8f\\x84\\nIDR \\xec\\x9d\\xb8\\xeb\\x8f\\x84\\xeb\\x84\\xa4\\xec\\x8b\\x9c\\xec\\x95\\x84\\nJPY \\xec\\x9d\\xbc\\xeb\\xb3\\xb8\\nCNY \\xec\\xa4\\x91\\xea\\xb5\\xad\\nCZK \\xec\\xb2\\xb4\\xec\\xbd\\x94\\nCLP \\xec\\xb9\\xa0\\xeb\\xa0\\x88\\nKZT \\xec\\xb9\\xb4\\xec\\x9e\\x90\\xed\\x9d\\x90\\xec\\x8a\\xa4\\xed\\x83\\x84\\nQAR \\xec\\xb9\\xb4\\xed\\x83\\x80\\xeb\\xa5\\xb4\\nCAD \\xec\\xba\\x90\\xeb\\x82\\x98\\xeb\\x8b\\xa4\\nKWD \\xec\\xbf\\xa0\\xec\\x9b\\xa8\\xec\\x9d\\xb4\\xed\\x8a\\xb8\\nTHB \\xed\\x83\\x9c\\xea\\xb5\\xad\\nTRY \\xed\\x84\\xb0\\xed\\x82\\xa4\\nPKR \\xed\\x8c\\x8c\\xed\\x82\\xa4\\xec\\x8a\\xa4\\xed\\x83\\x84\\nPLN \\xed\\x8f\\xb4\\xeb\\x9e\\x80\\xeb\\x93\\x9c\\nPHP \\xed\\x95\\x84\\xeb\\xa6\\xac\\xed\\x95\\x80\\nHUF \\xed\\x97\\x9d\\xea\\xb0\\x80\\xeb\\xa6\\xac\\nAUD \\xed\\x98\\xb8\\xec\\xa3\\xbc\\nHKD \\xed\\x99\\x8d\\xec\\xbd\\xa9\\n-->\\n<span class=\"common_ico_kwd\"><i class=\"imsc ico @12@\">@14@</i></span>\\n<div class=\"dsc_area\">\\n<span class=\"tit\">@txt@<span class=\"sub\">@currency@</span></span>\\n<span class=\"dsc\">\\n<span class=\"item\"><i class=\"imsc ico_arr\"></i>@8@(@9@%)</span>\\n</span>\\n</div>\\n<span class=\"etc_area\">\\n<span class=\"etc\"><em class=\"num\">@6@</em>\\xec\\x9b\\x90</span>\\n</span>\\n</a>\\n</div>\\n<!-- \\xec\\xa0\\x95\\xeb\\x8b\\xb5\\xed\\x98\\x95 \\xed\\x85\\x9c\\xed\\x94\\x8c\\xeb\\xa6\\xbf : \\xeb\\x82\\xa0\\xec\\x94\\xa8(\\xea\\xb5\\xad\\xeb\\x82\\xb411, \\xed\\x95\\xb4\\xec\\x99\\xb812) -->\\n<!-- [AU] _answer \\xed\\x81\\xb4\\xeb\\x9e\\x98\\xec\\x8a\\xa4\\xeb\\xa5\\xbc \\xec\\xb6\\x94\\xea\\xb0\\x80\\xed\\x95\\xb4\\xec\\xa3\\xbc\\xec\\x84\\xb8\\xec\\x9a\\x94. -->\\n<!-- [AU] data-template-type=\"answer_11\" data-code=\"@code@\" data-keyword=\"@1@\" attribute\\xeb\\xa5\\xbc \\xec\\xb6\\x94\\xea\\xb0\\x80\\xed\\x95\\xb4\\xec\\xa3\\xbc\\xec\\x84\\xb8\\xec\\x9a\\x94. -->\\n<div class=\"atcmp_correct type_weather _answer\" data-template-type=\"answer_11\" data-code=\"@code@\" data-keyword=\"@1@\">\\n<!-- [D] \\xec\\x83\\x81\\xec\\x8a\\xb9 up, \\xed\\x95\\x98\\xeb\\x9d\\xbd down \\xec\\xb6\\x94\\xea\\xb0\\x80 -->\\n<a href=\"#\" class=\"link_item @12@\">\\n<span class=\"common_ico_kwd\"><i class=\"imsc ico_search\"></i></span>\\n<div class=\"dsc_area\">\\n<span class=\"tit\">@txt@</span>\\n<span class=\"dsc\">\\n<span class=\"item\">@7@, @message@</span>\\n</span>\\n</div>\\n<span class=\"etc_area\">\\n<span class=\"etc\">\\n<!-- [D] \\xeb\\x82\\xa0\\xec\\x94\\xa8\\xeb\\xb3\\x84 class\\nico1 \\xeb\\xa7\\x91\\xec\\x9d\\x8c(\\xeb\\x82\\xae)\\nico2 \\xeb\\xa7\\x91\\xec\\x9d\\x8c(\\xeb\\xb0\\xa4)\\nico3 \\xea\\xb5\\xac\\xeb\\xa6\\x84\\xec\\xa1\\xb0\\xea\\xb8\\x88(\\xeb\\x82\\xae)\\nico4 \\xea\\xb5\\xac\\xeb\\xa6\\x84\\xec\\xa1\\xb0\\xea\\xb8\\x88(\\xeb\\xb0\\xa4)\\nico5 \\xea\\xb5\\xac\\xeb\\xa6\\x84\\xeb\\xa7\\x8e\\xec\\x9d\\x8c(\\xeb\\x82\\xae)\\nico6 \\xea\\xb5\\xac\\xeb\\xa6\\x84\\xeb\\xa7\\x8e\\xec\\x9d\\x8c(\\xeb\\xb0\\xa4)\\nico7 \\xed\\x9d\\x90\\xeb\\xa6\\xbc\\nico8 \\xec\\x95\\xbd\\xed\\x95\\x9c\\xeb\\xb9\\x84\\nico9 \\xeb\\xb9\\x84\\nico10 \\xea\\xb0\\x95\\xed\\x95\\x9c\\xeb\\xb9\\x84\\nico11 \\xec\\x95\\xbd\\xed\\x95\\x9c\\xeb\\x88\\x88\\nico12 \\xeb\\x88\\x88\\nico13 \\xea\\xb0\\x95\\xed\\x95\\x9c\\xeb\\x88\\x88\\nico14 \\xec\\xa7\\x84\\xeb\\x88\\x88\\xea\\xb9\\xa8\\xeb\\xb9\\x84\\nico15 \\xec\\x86\\x8c\\xeb\\x82\\x98\\xea\\xb8\\xb0\\nico16 \\xec\\x95\\x88\\xea\\xb0\\x9c\\nico17 \\xec\\x86\\x8c\\xeb\\x82\\x99\\xeb\\x88\\x88\\nico18 \\xeb\\xb2\\x88\\xea\\xb0\\x9c\\xeb\\x87\\x8c\\xec\\x9a\\xb0\\nico19 \\xec\\x9a\\xb0\\xeb\\xb0\\x95\\nico20 \\xed\\x99\\xa9\\xec\\x82\\xac\\nico21 \\xeb\\xb9\\x84\\xeb\\x98\\x90\\xeb\\x8a\\x94\\xeb\\x88\\x88\\nico22 \\xea\\xb0\\x80\\xeb\\x81\\x94\\xeb\\xb9\\x84\\nico23 \\xea\\xb0\\x80\\xeb\\x81\\x94\\xeb\\x88\\x88\\nico24 \\xea\\xb0\\x80\\xeb\\x81\\x94\\xeb\\xb9\\x84\\xeb\\x98\\x90\\xeb\\x8a\\x94\\xeb\\x88\\x88\\nico25 \\xed\\x9d\\x90\\xeb\\xa6\\xb0\\xed\\x9b\\x84\\xea\\xb0\\xac\\nico26 \\xeb\\x87\\x8c\\xec\\x9a\\xb0\\xed\\x9b\\x84\\xea\\xb0\\xac\\nico27 \\xeb\\xb9\\x84\\xed\\x9b\\x84\\xea\\xb0\\xac\\nico28 \\xeb\\x88\\x88\\xed\\x9b\\x84\\xea\\xb0\\xac\\nico29 \\xed\\x9d\\x90\\xeb\\xa0\\xa4\\xec\\xa0\\xb8\\xeb\\xb9\\x84\\nico30 \\xed\\x9d\\x90\\xeb\\xa0\\xa4\\xec\\xa0\\xb8\\xeb\\x88\\x88\\n-->\\n<span class=\"ico_weather\"><i class=\"imsc ico ico@iconNo@\">@7@</i></span>\\n<em class=\"degree\">@8@<sup class=\"celsius\">\\xc2\\xb0</sup></em>\\n</span>\\n</span>\\n</a>\\n</div>\\n<!-- \\xec\\xa0\\x95\\xeb\\x8b\\xb5\\xed\\x98\\x95 \\xed\\x85\\x9c\\xed\\x94\\x8c\\xeb\\xa6\\xbf : \\xec\\x82\\xac\\xec\\x9d\\xb4\\xed\\x8a\\xb8 \\xeb\\xb0\\x94\\xeb\\xa1\\x9c\\xea\\xb0\\x80\\xea\\xb8\\xb0 -->\\n<!-- [AU] _answer \\xed\\x81\\xb4\\xeb\\x9e\\x98\\xec\\x8a\\xa4\\xeb\\xa5\\xbc \\xec\\xb6\\x94\\xea\\xb0\\x80\\xed\\x95\\xb4\\xec\\xa3\\xbc\\xec\\x84\\xb8\\xec\\x9a\\x94. -->\\n<!-- [AU] data-template-type=\"answer_17\" data-code=\"@code@\" data-keyword=\"@1@\" attribute\\xeb\\xa5\\xbc \\xec\\xb6\\x94\\xea\\xb0\\x80\\xed\\x95\\xb4\\xec\\xa3\\xbc\\xec\\x84\\xb8\\xec\\x9a\\x94. -->\\n<div class=\"atcmp_correct type_site _answer\" data-template-type=\"answer_17\" data-code=\"@code@\" data-keyword=\"@1@\">\\n<a href=\"@5@\" class=\"link_item\" target=\"_blank\">\\n<span class=\"common_ico_kwd\"><i class=\"imsc ico_url\"></i></span>\\n<div class=\"dsc_area\">\\n<span class=\"tit\">@txt@</span>\\n<span class=\"dsc\">\\n<span class=\"item\">@5@</span>\\n</span>\\n</div>\\n<span class=\"etc_area\">\\n<span class=\"etc\">\\xeb\\xb0\\x94\\xeb\\xa1\\x9c\\xea\\xb0\\x80\\xea\\xb8\\xb0</span>\\n</span>\\n</a>\\n</div>\\n<!-- [AU] _kwd_list \\xed\\x81\\xb4\\xeb\\x9e\\x98\\xec\\x8a\\xa4\\xeb\\xa5\\xbc \\xec\\xb6\\x94\\xea\\xb0\\x80\\xed\\x95\\xb4\\xec\\xa3\\xbc\\xec\\x84\\xb8\\xec\\x9a\\x94. -->\\n<ul class=\"kwd_lst _kwd_list\">\\n<!-- [AU] \\xec\\x9e\\x90\\xeb\\x8f\\x99\\xec\\x99\\x84\\xec\\x84\\xb1 \\xea\\xb2\\x80\\xec\\x83\\x89\\xec\\x96\\xb4 \\xed\\x85\\x9c\\xed\\x94\\x8c\\xeb\\xa6\\xbf -->\\n<!-- [AU] _item \\xed\\x81\\xb4\\xeb\\x9e\\x98\\xec\\x8a\\xa4\\xeb\\xa5\\xbc \\xec\\xb6\\x94\\xea\\xb0\\x80\\xed\\x95\\xb4\\xec\\xa3\\xbc\\xec\\x84\\xb8\\xec\\x9a\\x94. -->\\n<!-- [AU] data-rank=\"@rank@\" data-template-type=\"suggestion\" data-keyword=\"@in_txt@\" attribute\\xeb\\xa5\\xbc \\xec\\xb6\\x94\\xea\\xb0\\x80\\xed\\x95\\xb4\\xec\\xa3\\xbc\\xec\\x84\\xb8\\xec\\x9a\\x94. -->\\n<li class=\"item _item\" data-rank=\"@rank@\" data-template-type=\"suggestion\" data-keyword=\"@in_txt@\">\\n<a href=\"#\" class=\"kwd\">\\n<span class=\"fix\"><span class=\"common_ico_kwd\"><i class=\"imsc ico_search\"></i></span>@txt@</span>\\n</a>\\n<span class=\"etc\">\\n<a href=\"#\" role=\"button\" class=\"bt_item _add\" aria-pressed=\"false\"><i class=\"imsc ico_insert\">\\xec\\xb6\\x94\\xea\\xb0\\x80</i></a>\\n</span>\\n</li>\\n<!-- [AU] \\xec\\xb5\\x9c\\xea\\xb7\\xbc\\xea\\xb2\\x80\\xec\\x83\\x89\\xec\\x96\\xb4 \\xed\\x85\\x9c\\xed\\x94\\x8c\\xeb\\xa6\\xbf -->\\n<!-- [AU] _item \\xed\\x81\\xb4\\xeb\\x9e\\x98\\xec\\x8a\\xa4\\xeb\\xa5\\xbc \\xec\\xb6\\x94\\xea\\xb0\\x80\\xed\\x95\\xb4\\xec\\xa3\\xbc\\xec\\x84\\xb8\\xec\\x9a\\x94. -->\\n<!-- [AU] data-rank=\"@rank@\" data-template-type=\"history\" data-keyword=\"@in_txt@\" attribute\\xeb\\xa5\\xbc \\xec\\xb6\\x94\\xea\\xb0\\x80\\xed\\x95\\xb4\\xec\\xa3\\xbc\\xec\\x84\\xb8\\xec\\x9a\\x94. -->\\n<li class=\"item has_correct _item\" data-rank=\"@rank@\" data-template-type=\"history\" data-keyword=\"@in_txt@\">\\n<a href=\"#\" class=\"kwd\">\\n<span class=\"fix\"><span class=\"common_ico_kwd\"><i class=\"imsc ico_search\"></i></span>@txt@</span>\\n</a>\\n<span class=\"etc\">\\n<!-- \\xec\\xb5\\x9c\\xea\\xb7\\xbc\\xea\\xb2\\x80\\xec\\x83\\x89\\xec\\x96\\xb4 \\xec\\x9e\\x88\\xec\\x9c\\xbc\\xeb\\xa9\\xb4 \\xeb\\x82\\xa0\\xec\\xa7\\x9c \\xed\\x91\\x9c\\xec\\x8b\\x9c -->\\n<em class=\"date\">@date@.</em>\\n<a href=\"#\" role=\"button\" class=\"bt_item _add\" aria-pressed=\"false\"><i class=\"imsc ico_insert\">\\xec\\xb6\\x94\\xea\\xb0\\x80</i></a>\\n</span>\\n</li>\\n</ul>\\n<!-- [AU] \\xeb\\xac\\xb8\\xeb\\xa7\\xa5\\xea\\xb2\\x80\\xec\\x83\\x89 \\xed\\x85\\x9c\\xed\\x94\\x8c\\xeb\\xa6\\xbf -->\\n<!-- [AU] _item \\xed\\x81\\xb4\\xeb\\x9e\\x98\\xec\\x8a\\xa4\\xeb\\xa5\\xbc \\xec\\xb6\\x94\\xea\\xb0\\x80\\xed\\x95\\xb4\\xec\\xa3\\xbc\\xec\\x84\\xb8\\xec\\x9a\\x94. -->\\n<!-- [AU] data-rank=\"@rank@\" data-template-type=\"intend\" data-keyword=\"@transQuery@\" attribute\\xeb\\xa5\\xbc \\xec\\xb6\\x94\\xea\\xb0\\x80\\xed\\x95\\xb4\\xec\\xa3\\xbc\\xec\\x84\\xb8\\xec\\x9a\\x94. -->\\n<li class=\"item has_correct _item\" data-rank=\"@rank@\" data-intend-rank=\"@intendRank@\" data-template-type=\"intend\" data-keyword=\"@transQuery@\">\\n<a href=\"#\" class=\"kwd\">\\n<span class=\"fix\"><span class=\"common_ico_kwd\"><i class=\"imsc ico_search\"></i></span>@query@ <span class=\"context\">@intend@</span></span>\\n</a>\\n<span class=\"etc\">\\n<a href=\"#\" role=\"button\" class=\"bt_item _add\" aria-pressed=\"false\"><i class=\"imsc ico_insert\">\\xec\\xb6\\x94\\xea\\xb0\\x80</i></a>\\n</span>\\n</li>\\n<!-- [D] \\xec\\x84\\xa0\\xea\\xb1\\xb0\\xec\\x95\\x88\\xeb\\x82\\xb4\\xeb\\xac\\xb8\\xea\\xb5\\xac -->\\n<!-- [AU] _alert \\xed\\x81\\xb4\\xeb\\x9e\\x98\\xec\\x8a\\xa4\\xeb\\xa5\\xbc \\xec\\xb6\\x94\\xea\\xb0\\x80\\xed\\x95\\xb4\\xec\\xa3\\xbc\\xec\\x84\\xb8\\xec\\x9a\\x94. -->\\n<div class=\"atcmp_alert _alert\">\\n<div class=\"dsc_election\">\\n<p class=\"dsc\">\\n<i class=\"imsc ico_election\"></i><span class=\"_alert_passage\"></span>\\n</p>\\n<span class=\"dsc_inner\">\\n<!-- [AU] _alert_passage2 \\xed\\x81\\xb4\\xeb\\x9e\\x98\\xec\\x8a\\xa4\\xeb\\xa5\\xbc \\xec\\xb6\\x94\\xea\\xb0\\x80\\xed\\x95\\xb4\\xec\\xa3\\xbc\\xec\\x84\\xb8\\xec\\x9a\\x94. -->\\n<span class=\"_alert_passage2\"></span>\\n<!-- [AU] _alert_link \\xed\\x81\\xb4\\xeb\\x9e\\x98\\xec\\x8a\\xa4\\xeb\\xa5\\xbc \\xec\\xb6\\x94\\xea\\xb0\\x80\\xed\\x95\\xb4\\xec\\xa3\\xbc\\xec\\x84\\xb8\\xec\\x9a\\x94. -->\\n<a href=\"#\" class=\"link _alert_link\" target=\"_blank\">\\xec\\x9e\\x90\\xec\\x84\\xb8\\xed\\x9e\\x88\\xeb\\xb3\\xb4\\xea\\xb8\\xb0</a>\\n</span>\\n</div>\\n</div>\\n<!-- [AU] _plus \\xed\\x81\\xb4\\xeb\\x9e\\x98\\xec\\x8a\\xa4\\xeb\\xa5\\xbc \\xec\\xb6\\x94\\xea\\xb0\\x80\\xed\\x95\\xb4\\xec\\xa3\\xbc\\xec\\x84\\xb8\\xec\\x9a\\x94. -->\\n<div class=\"atcmp_plus _plus\">\\n<div class=\"dsc_plus\">\\n<a href=\"https://help.naver.com/support/alias/search/word/word_16.naver\" class=\"link_dsc\" data-clk=\"sug.cxhelp\" target=\"_blank\">\\xea\\xb4\\x80\\xec\\x8b\\xac\\xec\\x82\\xac\\xeb\\xa5\\xbc \\xeb\\xb0\\x98\\xec\\x98\\x81\\xed\\x95\\x9c \\xec\\xbb\\xa8\\xed\\x85\\x8d\\xec\\x8a\\xa4\\xed\\x8a\\xb8 \\xec\\x9e\\x90\\xeb\\x8f\\x99\\xec\\x99\\x84\\xec\\x84\\xb1<i class=\"imsc ico_help\">\\xeb\\x8f\\x84\\xec\\x9b\\x80\\xeb\\xa7\\x90</i></a>\\n</div>\\n<div class=\"switch\">\\n<!-- [D] \\xec\\x84\\xa0\\xed\\x83\\x9d\\xec\\x8b\\x9c aria-pressed=\"ture/false\" -->\\n<!-- [AU] _plus_btn \\xed\\x81\\xb4\\xeb\\x9e\\x98\\xec\\x8a\\xa4\\xeb\\xa5\\xbc \\xec\\xb6\\x94\\xea\\xb0\\x80\\xed\\x95\\xb4\\xec\\xa3\\xbc\\xec\\x84\\xb8\\xec\\x9a\\x94. -->\\n<a role=\"button\" href=\"#\" class=\"bt_switch active _plus_btn\" aria-pressed=\"false\"><i class=\"imsc ico_option\">\\xec\\xbb\\xa8\\xed\\x85\\x8d\\xec\\x8a\\xa4\\xed\\x8a\\xb8 \\xec\\x9e\\x90\\xeb\\x8f\\x99\\xec\\x99\\x84\\xec\\x84\\xb1</i></a>\\n</div>\\n<!-- [AU] _plus_layer \\xed\\x81\\xb4\\xeb\\x9e\\x98\\xec\\x8a\\xa4\\xeb\\xa5\\xbc \\xec\\xb6\\x94\\xea\\xb0\\x80\\xed\\x95\\xb4\\xec\\xa3\\xbc\\xec\\x84\\xb8\\xec\\x9a\\x94. -->\\n<div class=\"layer_plus _plus_layer\">\\n<strong class=\"tit\">\\xec\\xbb\\xa8\\xed\\x85\\x8d\\xec\\x8a\\xa4\\xed\\x8a\\xb8 \\xec\\x9e\\x90\\xeb\\x8f\\x99\\xec\\x99\\x84\\xec\\x84\\xb1</strong>\\n<!-- [AU] _plus_layer_isloggedin \\xed\\x81\\xb4\\xeb\\x9e\\x98\\xec\\x8a\\xa4\\xeb\\xa5\\xbc \\xec\\xb6\\x94\\xea\\xb0\\x80\\xed\\x95\\xb4\\xec\\xa3\\xbc\\xec\\x84\\xb8\\xec\\x9a\\x94. -->\\n<!-- [AU] style=\"display:none\" \\xec\\xb6\\x94\\xea\\xb0\\x80\\xed\\x95\\xb4\\xec\\xa3\\xbc\\xec\\x84\\xb8\\xec\\x9a\\x94. -->\\n<div class=\"_plus_layer_isloggedin\" style=\"display:none\">\\n<p class=\"dsc\">ON/OFF \\xec\\x84\\xa4\\xec\\xa0\\x95\\xec\\x9d\\x80<br>\\xed\\x95\\xb4\\xeb\\x8b\\xb9\\xea\\xb8\\xb0\\xea\\xb8\\xb0(\\xeb\\xb8\\x8c\\xeb\\x9d\\xbc\\xec\\x9a\\xb0\\xec\\xa0\\x80)\\xec\\x97\\x90 \\xec\\xa0\\x80\\xec\\x9e\\xa5\\xeb\\x90\\xa9\\xeb\\x8b\\x88\\xeb\\x8b\\xa4.</p>\\n<div class=\"btn_area\">\\n<a href=\"https://help.naver.com/support/alias/search/word/word_16.naver\" class=\"btn btn_view\" data-clk=\"sug.cxlink\" target=\"_blank\">\\xec\\x9e\\x90\\xec\\x84\\xb8\\xed\\x9e\\x88</a>\\n</div>\\n</div>\\n<!-- [AU] _plus_layer_isnotloggedin \\xed\\x81\\xb4\\xeb\\x9e\\x98\\xec\\x8a\\xa4\\xeb\\xa5\\xbc \\xec\\xb6\\x94\\xea\\xb0\\x80\\xed\\x95\\xb4\\xec\\xa3\\xbc\\xec\\x84\\xb8\\xec\\x9a\\x94. -->\\n<!-- [AU] style=\"display:none\" \\xec\\xb6\\x94\\xea\\xb0\\x80\\xed\\x95\\xb4\\xec\\xa3\\xbc\\xec\\x84\\xb8\\xec\\x9a\\x94. -->\\n<div class=\"_plus_layer_isnotloggedin\" style=\"display:none\">\\n<p class=\"dsc\"><em class=\"txt\">\\xeb\\x8f\\x99\\xec\\x9d\\xbc\\xed\\x95\\x9c \\xec\\x8b\\x9c\\xea\\xb0\\x84\\xeb\\x8c\\x80/\\xec\\x97\\xb0\\xeb\\xa0\\xb9/\\xeb\\x82\\xa8\\xeb\\x85\\x80\\xeb\\xb3\\x84</em> \\xec\\x82\\xac\\xec\\x9a\\xa9\\xec\\x9e\\x90 \\xea\\xb7\\xb8\\xeb\\xa3\\xb9\\xec\\x9d\\x98<br>\\xea\\xb4\\x80\\xec\\x8b\\xac\\xec\\x82\\xac\\xec\\x97\\x90 \\xeb\\xa7\\x9e\\xec\\xb6\\xb0 \\xec\\x9e\\x90\\xeb\\x8f\\x99\\xec\\x99\\x84\\xec\\x84\\xb1\\xec\\x9d\\x84 \\xec\\xa0\\x9c\\xea\\xb3\\xb5\\xed\\x95\\xa9\\xeb\\x8b\\x88\\xeb\\x8b\\xa4.</p>\\n<div class=\"btn_area\">\\n<a href=\"https://nid.naver.com/nidlogin.login\" class=\"btn btn_login\" data-clk=\"sug.cxlogin\">\\xeb\\xa1\\x9c\\xea\\xb7\\xb8\\xec\\x9d\\xb8</a>\\n<a href=\"https://help.naver.com/support/alias/search/word/word_16.naver\" class=\"btn btn_view\" data-clk=\"sug.cxlink\" target=\"_blank\">\\xec\\x9e\\x90\\xec\\x84\\xb8\\xed\\x9e\\x88</a>\\n</div>\\n</div>\\n<!-- [AU] _plus_layer_close \\xed\\x81\\xb4\\xeb\\x9e\\x98\\xec\\x8a\\xa4\\xeb\\xa5\\xbc \\xec\\xb6\\x94\\xea\\xb0\\x80\\xed\\x95\\xb4\\xec\\xa3\\xbc\\xec\\x84\\xb8\\xec\\x9a\\x94. -->\\n<a href=\"#\" role=\"button\" class=\"btn_close _plus_layer_close\"><i class=\"imsc ico_close\">\\xec\\xbb\\xa8\\xed\\x85\\x8d\\xec\\x8a\\xa4\\xed\\x8a\\xb8 \\xec\\x9e\\x90\\xeb\\x8f\\x99\\xec\\x99\\x84\\xec\\x84\\xb1 \\xeb\\xa0\\x88\\xec\\x9d\\xb4\\xec\\x96\\xb4 \\xeb\\x8b\\xab\\xea\\xb8\\xb0</i></a>\\n</div>\\n</div>\\n</div>\\n<div class=\"atcmp_footer\">\\n<span class=\"side_opt_area\">\\n<span class=\"opt_item\"><a href=\"https://help.naver.com/alias/search/word/word_17.naver\" data-clk=\"sug.help\" target=\"_blank\">\\xeb\\x8f\\x84\\xec\\x9b\\x80\\xeb\\xa7\\x90</a></span>\\n<span class=\"opt_item\"><a href=\"https://help.naver.com/support/contents/contents.help?serviceNo=605&categoryNo=18215\" class=\"report\" data-clk=\"sug.report\" target=\"_blank\">\\xec\\x8b\\xa0\\xea\\xb3\\xa0</a></span>\\n</span>\\n<span class=\"rside_opt_area\">\\n<span class=\"opt_item\">\\n<!-- [AU] _suggestOnOff \\xed\\x81\\xb4\\xeb\\x9e\\x98\\xec\\x8a\\xa4\\xeb\\xa5\\xbc \\xec\\xb6\\x94\\xea\\xb0\\x80\\xed\\x95\\xb4\\xec\\xa3\\xbc\\xec\\x84\\xb8\\xec\\x9a\\x94. -->\\n<a href=\"#\" class=\"close _suggestOnOff\">\\xec\\x9e\\x90\\xeb\\x8f\\x99\\xec\\x99\\x84\\xec\\x84\\xb1 \\xeb\\x81\\x84\\xea\\xb8\\xb0</a>\\n</span>\\n</span>\\n</div>\\n</div>\\n</div>\\n</div>\\n</div>\\n</div>\\n\\n</div>\\n</div>\\n\\n<!--EMPTY-->\\n<div id=\"gnb\" role=\"navigation\">\\n<div id=\"NM_FAVORITE\" class=\"gnb_inner\">\\n<div class=\"group_nav\">\\n<ul class=\"list_nav type_fix\">\\n<li class=\"nav_item\">\\n<a href=\"https://mail.naver.com/\" class=\"nav\" data-clk=\"svc.mail\"><i class=\"ico_mail\"></i>\\xeb\\xa9\\x94\\xec\\x9d\\xbc</a>\\n</li>\\n<li class=\"nav_item\"><a href=\"https://section.cafe.naver.com/\" class=\"nav\" data-clk=\"svc.cafe\">\\xec\\xb9\\xb4\\xed\\x8e\\x98</a></li>\\n<li class=\"nav_item\"><a href=\"https://section.blog.naver.com/\" class=\"nav\" data-clk=\"svc.blog\">\\xeb\\xb8\\x94\\xeb\\xa1\\x9c\\xea\\xb7\\xb8</a></li>\\n<li class=\"nav_item\"><a href=\"https://kin.naver.com/\" class=\"nav\" data-clk=\"svc.kin\">\\xec\\xa7\\x80\\xec\\x8b\\x9diN</a></li>\\n<li class=\"nav_item\"><a href=\"https://shopping.naver.com/\" class=\"nav shop\" data-clk=\"svc.shopping\"><span class=\"blind\">\\xec\\x87\\xbc\\xed\\x95\\x91</span></a></li>\\n<li class=\"nav_item\"><a href=\"https://shoppinglive.naver.com/home\" class=\"nav shoplive\"\\ndata-clk=\"svc.shoppinglive\"><span class=\"blind\">\\xec\\x87\\xbc\\xed\\x95\\x91LIVE</span></a></li>\\n<li class=\"nav_item\"><a href=\"https://order.pay.naver.com/home\" class=\"nav\" data-clk=\"svc.pay\">Pay</a></li>\\n<li class=\"nav_item\">\\n<a href=\"https://tv.naver.com/\" class=\"nav\" data-clk=\"svc.tvcast\"><i class=\"ico_tv\"></i>TV</a>\\n</li>\\n</ul>\\n<ul\\nclass=\"list_nav NM_FAVORITE_LIST\"\\n>\\n<li class=\"nav_item\"><a href=\"https://dict.naver.com/\" class=\"nav\" data-clk=\"svc.dic\">\\xec\\x82\\xac\\xec\\xa0\\x84</a></li>\\n<li class=\"nav_item\"><a href=\"https://news.naver.com/\" class=\"nav\" data-clk=\"svc.news\">\\xeb\\x89\\xb4\\xec\\x8a\\xa4</a></li>\\n<li class=\"nav_item\"><a href=\"https://finance.naver.com/\" class=\"nav\" data-clk=\"svc.stock\">\\xec\\xa6\\x9d\\xea\\xb6\\x8c</a></li>\\n<li class=\"nav_item\"><a href=\"https://land.naver.com/\" class=\"nav\" data-clk=\"svc.land\">\\xeb\\xb6\\x80\\xeb\\x8f\\x99\\xec\\x82\\xb0</a></li>\\n<li class=\"nav_item\"><a href=\"https://map.naver.com/\" class=\"nav\" data-clk=\"svc.map\">\\xec\\xa7\\x80\\xeb\\x8f\\x84</a></li>\\n<li class=\"nav_item\"><a href=\"https://vibe.naver.com/?from&#x3D;naver_main&amp;utm_source&#x3D;naver_main&amp;utm_medium&#x3D;naver_main_pcweb&amp;utm_campaign&#x3D;naver_main_redirect\" class=\"nav\" data-clk=\"svc.vibe\">VIBE</a></li>\\n<li class=\"nav_item\"><a href=\"https://search.shopping.naver.com/book/home\" class=\"nav\" data-clk=\"svc.book\">\\xeb\\x8f\\x84\\xec\\x84\\x9c</a></li>\\n<li class=\"nav_item\"><a href=\"https://comic.naver.com/\" class=\"nav\" data-clk=\"svc.webtoon\">\\xec\\x9b\\xb9\\xed\\x88\\xb0</a></li>\\n\\n</ul>\\n<ul class=\"list_nav type_empty\" style=\"display: none;\"></ul>\\n<a href=\"#\" role=\"button\" class=\"btn_more\" data-clk=\"svc.more\">\\xeb\\x8d\\x94\\xeb\\xb3\\xb4\\xea\\xb8\\xb0</a>\\n<div class=\"ly_btn_area\">\\n<a href=\"more.html\" class=\"btn NM_FAVORITE_ALL\" data-clk=\"map.svcmore\">\\xec\\x84\\x9c\\xeb\\xb9\\x84\\xec\\x8a\\xa4 \\xec\\xa0\\x84\\xec\\xb2\\xb4\\xeb\\xb3\\xb4\\xea\\xb8\\xb0</a>\\n<a href=\"#\" role=\"button\" class=\"btn btn_set\" data-clk=\"map.edit\">\\xeb\\xa9\\x94\\xeb\\x89\\xb4\\xec\\x84\\xa4\\xec\\xa0\\x95</a>\\n<a href=\"#\" role=\"button\" class=\"btn btn_reset\" data-clk=\"edt.reset\">\\xec\\xb4\\x88\\xea\\xb8\\xb0\\xed\\x99\\x94</a>\\n<a href=\"#\" role=\"button\" class=\"btn btn_save\" data-clk=\"edt.save\">\\xec\\xa0\\x80\\xec\\x9e\\xa5</a>\\n</div>\\n</div>\\n<div id=\"NM_WEATHER\" class=\"group_weather\">\\n<div>\\n<a data-clk=\"squ.weat\" href=\"https://weather.naver.com/today/WDJPN00047\" class=\"weather_area ico_w01\">\\n<div class=\"current_box\">\\n<strong class=\"current\" aria-label=\"\\xed\\x98\\x84\\xec\\x9e\\xac\\xea\\xb8\\xb0\\xec\\x98\\xa8\">8.0\\xc2\\xb0</strong><strong class=\"state\">\\xeb\\xa7\\x91\\xec\\x9d\\x8c(\\xeb\\x82\\xae)</strong>\\n</div>\\n<div class=\"degree_box\">\\n<span class=\"min\" aria-label=\"\\xec\\xb5\\x9c\\xec\\xa0\\x80\\xea\\xb8\\xb0\\xec\\x98\\xa8\">14.0\\xc2\\xb0</span><span class=\"max\" aria-label=\"\\xec\\xb5\\x9c\\xea\\xb3\\xa0\\xea\\xb8\\xb0\\xec\\x98\\xa8\">14.0\\xc2\\xb0</span>\\n</div>\\n<span class=\"location\">\\xeb\\x8f\\x84\\xec\\xbf\\x84</span>\\n</a>\\n</div>\\n</div>\\n</div>\\n<div class=\"ly_service\">\\n<div class=\"group_service NM_FAVORITE_ALL_LY\"></div>\\n<div class=\"group_service NM_FAVORITE_EDIT_LY\" style=\"display: none;\"></div>\\n</div>\\n</div>\\n</div>\\n <div id=\"container\" role=\"main\"> <div style=\"position:relative;width:1130px;margin:0 auto;z-index:11\"> <div id=\"da_top\"></div> <div id=\"da_expwide\"></div> </div> <div id=\"NM_INT_LEFT\" class=\"column_left\"> <div id=\"veta_top\"> <div id=\"veta_top_inner\" style=\"height:135px\"> </div> <span class=\"veta_bd_t\"></span> <span class=\"veta_bd_b\"></span> <span class=\"veta_bd_l\"></span> <span class=\"veta_bd_r\"></span> </div> <div id=\"newsstand\" class=\"sc_newscast\"> <h2 class=\"blind\">\\xeb\\x89\\xb4\\xec\\x8a\\xa4\\xec\\x8a\\xa4\\xed\\x83\\xa0\\xeb\\x93\\x9c</h2> <div id=\"NM_NEWSSTAND_HEADER\" class=\"group_issue\" data-clk-prefix=\"ncy\"> <div class=\"issue_area\"> <a class=\"link_media\" href=\"https://news.naver.com/main/list.naver?mode=LPOD&mid=sec&sid1=001&sid2=140&oid=001&isYeonhapFlash=Y\" data-clk=\"newsflash\">\\xec\\x97\\xb0\\xed\\x95\\xa9\\xeb\\x89\\xb4\\xec\\x8a\\xa4</a> <div id=\"NM_ONELINE_ROLLING\" class=\"list_issue\" data-nm-ui=\"rolling\"> <div><a href=\"https://news.naver.com/main/list.naver?mode=LPOD&mid=sec&sid1=001&sid2=140&oid=001&isYeonhapFlash=Y&aid=0013635852\" class=\"issue\" data-clk=\"quickarticle\">\\xe5\\xb0\\xb9\\xec\\xa0\\x95\\xeb\\xb6\\x80 \\xeb\\x91\\x90\\xeb\\xb2\\x88\\xec\\xa7\\xb8 \\'\\xec\\x9d\\xb4\\xec\\x83\\x81\\xeb\\xaf\\xbc \\xed\\x95\\xb4\\xec\\x9e\\x84\\xea\\xb1\\xb4\\xec\\x9d\\x98\\xec\\x95\\x88\\' \\xe9\\x87\\x8e \\xeb\\x8b\\xa8\\xeb\\x8f\\x85\\xec\\xb2\\x98\\xeb\\xa6\\xac\\xe2\\x80\\xa6\\xec\\xa0\\x95\\xea\\xb5\\xad \\xea\\xb8\\x89\\xeb\\x9e\\xad</a></div>\\n<div><a href=\"https://news.naver.com/main/list.naver?mode=LPOD&mid=sec&sid1=001&sid2=140&oid=001&isYeonhapFlash=Y&aid=0013635869\" class=\"issue\" data-clk=\"quickarticle\">38\\xe3\\x8e\\x9e \\xeb\\x96\\xa8\\xec\\x96\\xb4\\xec\\xa7\\x84 \\xe5\\x8c\\x97\\xeb\\xb0\\x94\\xeb\\x8b\\xa4\\xec\\x84\\x9c \\xed\\x94\\xbc\\xea\\xb2\\xa9\\xe2\\x80\\xa6\\xec\\x9e\\xac\\xed\\x8c\\x90\\xec\\x84\\x9c \\xec\\xa7\\x84\\xec\\x8b\\xa4 \\xeb\\x93\\x9c\\xeb\\x9f\\xac\\xeb\\x82\\xa0\\xea\\xb9\\x8c</a></div>\\n<div><a href=\"https://news.naver.com/main/list.naver?mode=LPOD&mid=sec&sid1=001&sid2=140&oid=001&isYeonhapFlash=Y&aid=0013635836\" class=\"issue\" data-clk=\"quickarticle\">\\xe7\\xbe\\x8e \\xeb\\x8f\\x99\\xec\\x95\\x84\\xed\\x83\\x9c\\xec\\xb0\\xa8\\xea\\xb4\\x80\\xeb\\xb3\\xb4 12\\xe2\\x88\\xbc14\\xec\\x9d\\xbc \\xeb\\xb0\\xa9\\xed\\x95\\x9c\\xe2\\x80\\xa6\\xe5\\x8c\\x97\\xc2\\xb7\\xec\\xa0\\x84\\xea\\xb8\\xb0\\xec\\xb0\\xa8 \\xec\\x9d\\xb4\\xec\\x8a\\x88 \\xeb\\x85\\xbc\\xec\\x9d\\x98\\xed\\x95\\xa0 \\xeb\\x93\\xaf</a></div>\\n<div><a href=\"https://news.naver.com/main/list.naver?mode=LPOD&mid=sec&sid1=001&sid2=140&oid=001&isYeonhapFlash=Y&aid=0013635658\" class=\"issue\" data-clk=\"quickarticle\">\\xec\\x98\\xac\\xed\\x95\\xb4\\xec\\x9d\\x98 \\xec\\x82\\xac\\xec\\x9e\\x90\\xec\\x84\\xb1\\xec\\x96\\xb4 \\'\\xea\\xb3\\xbc\\xec\\x9d\\xb4\\xeb\\xb6\\x88\\xea\\xb0\\x9c\\'\\xe2\\x80\\xa6\"\\xec\\x9e\\x98\\xeb\\xaa\\xbb\\xed\\x95\\x98\\xea\\xb3\\xa0\\xeb\\x8f\\x84 \\xea\\xb3\\xa0\\xec\\xb9\\x98\\xec\\xa7\\x80 \\xec\\x95\\x8a\\xeb\\x8a\\x94\\xeb\\x8b\\xa4\"</a></div>\\n<div><a href=\"https://news.naver.com/main/list.naver?mode=LPOD&mid=sec&sid1=001&sid2=140&oid=001&isYeonhapFlash=Y&aid=0013635681\" class=\"issue\" data-clk=\"quickarticle\">\\xeb\\xb2\\x95\\xec\\x9b\\x90, \\xeb\\x8d\\x94\\xed\\x83\\x90\\xec\\x82\\xac\\xec\\x97\\x90 \\xed\\x95\\x9c\\xeb\\x8f\\x99\\xed\\x9b\\x88 \\xec\\x95\\x84\\xed\\x8c\\x8c\\xed\\x8a\\xb8 100m \\xec\\xa0\\x91\\xea\\xb7\\xbc\\xea\\xb8\\x88\\xec\\xa7\\x80 \\xeb\\xaa\\x85\\xeb\\xa0\\xb9</a></div>\\n<div><a href=\"https://news.naver.com/main/list.naver?mode=LPOD&mid=sec&sid1=001&sid2=140&oid=001&isYeonhapFlash=Y&aid=0013635636\" class=\"issue\" data-clk=\"quickarticle\">\\xed\\x8a\\xb9\\xec\\x88\\x98\\xeb\\xb3\\xb8, \\xec\\xa0\\x84 \\xec\\x9a\\xa9\\xec\\x82\\xb0\\xec\\x84\\x9c\\xec\\x9e\\xa5 \\xec\\x9e\\xac\\xec\\x86\\x8c\\xed\\x99\\x98\\xe2\\x80\\xa6\\'\\xed\\x97\\x88\\xec\\x9c\\x84 \\xec\\x83\\x81\\xed\\x99\\xa9\\xeb\\xb3\\xb4\\xea\\xb3\\xa0\\' \\xec\\xb6\\x94\\xea\\xb6\\x81</a></div>\\n<div><a href=\"https://news.naver.com/main/list.naver?mode=LPOD&mid=sec&sid1=001&sid2=140&oid=001&isYeonhapFlash=Y&aid=0013635104\" class=\"issue\" data-clk=\"quickarticle\">\\xea\\xb8\\x88\\xeb\\xa6\\xac\\xec\\x9d\\xb8\\xec\\x83\\x81\\xec\\x97\\x90 \\xeb\\x91\\x90\\xeb\\x93\\x9c\\xeb\\x9f\\xac\\xec\\xa7\\x84 \\xec\\x9b\\x94\\xec\\x84\\xb8 \\xec\\x84\\xa0\\xed\\x98\\xb8\\xe2\\x80\\xa6\\xec\\x84\\x9c\\xec\\x9a\\xb8 \\xec\\x95\\x84\\xed\\x8c\\x8c\\xed\\x8a\\xb8 \\xec\\x9b\\x94\\xec\\x84\\xb8\\xeb\\xb9\\x84\\xec\\xa4\\x91 40% \\xeb\\x8f\\x8c\\xed\\x8c\\x8c</a></div>\\n<div><a href=\"https://news.naver.com/main/list.naver?mode=LPOD&mid=sec&sid1=001&sid2=140&oid=001&isYeonhapFlash=Y&aid=0013635717\" class=\"issue\" data-clk=\"quickarticle\">\\xed\\x99\\x9c\\xea\\xb8\\xb0 \\xeb\\x90\\x98\\xec\\xb0\\xbe\\xec\\x9d\\x80 \\xed\\x99\\x94\\xeb\\xac\\xbc \\xec\\x9a\\xb4\\xec\\x86\\xa1\\xe2\\x80\\xa6\\xec\\xa3\\xbc\\xec\\x9a\\x94 \\xec\\x82\\xb0\\xec\\x97\\x85 \\xec\\x86\\x8d\\xec\\x86\\x8d \\xec\\xa0\\x95\\xec\\x83\\x81\\xed\\x99\\x94</a></div>\\n<div><a href=\"https://news.naver.com/main/list.naver?mode=LPOD&mid=sec&sid1=001&sid2=140&oid=001&isYeonhapFlash=Y&aid=0013635748\" class=\"issue\" data-clk=\"quickarticle\">\"\\xea\\xb2\\xa8\\xec\\x9a\\xb8\\xec\\x9d\\xb4 \\xec\\xa2\\x8b\\xec\\x95\\x84\"\\xe2\\x80\\xa6\\xec\\x8a\\xa4\\xed\\x82\\xa4\\xec\\x9e\\xa5 \\xeb\\xb6\\x81\\xec\\xa0\\x81\\xc2\\xb7\\xeb\\x8f\\x99\\xeb\\xb0\\xb1\\xea\\xbd\\x83 \\xeb\\xaa\\x85\\xec\\x86\\x8c\\xec\\x97\\x90\\xeb\\x8f\\x84 \\xeb\\x82\\x98\\xeb\\x93\\xa4\\xec\\x9d\\xb4\\xea\\xb0\\x9d \\xeb\\xb0\\x9c\\xea\\xb8\\xb8</a></div>\\n<div><a href=\"https://news.naver.com/main/list.naver?mode=LPOD&mid=sec&sid1=001&sid2=140&oid=001&isYeonhapFlash=Y&aid=0013635941\" class=\"issue\" data-clk=\"quickarticle\">[\\xeb\\x82\\xa0\\xec\\x94\\xa8] \\xeb\\x82\\xb4\\xec\\x9d\\xbc \\xec\\xa4\\x91\\xeb\\xb6\\x80\\xec\\xa7\\x80\\xeb\\xb0\\xa9 \\xeb\\x88\\x88\\xec\\x9d\\xb4\\xeb\\x82\\x98 \\xeb\\xb9\\x84\\xe2\\x80\\xa6\\xec\\x84\\x9c\\xec\\x9a\\xb8 \\xec\\x95\\x84\\xec\\xb9\\xa8 \\xec\\xb5\\x9c\\xec\\xa0\\x80 -2\\xeb\\x8f\\x84</a></div> </div> </div> <div class=\"direct_area\"> <a href=\"https://m.sports.naver.com/qatar2022/index\" class=\"link_worldcup\" data-clk=\"qatar2022\"><span class=\"blind\">QATAR 2022</span></a> <a href=\"http://news.naver.com/\" class=\"link_news\" data-clk=\"newshome\">\\xeb\\x89\\xb4\\xec\\x8a\\xa4\\xed\\x99\\x88</a>\\n<a href=\"http://entertain.naver.com/home\" class=\"link_direct\" data-clk=\"entertainment\">\\xec\\x97\\xb0\\xec\\x98\\x88</a>\\n<a href=\"http://sports.news.naver.com/\" class=\"link_direct\" data-clk=\"sports\">\\xec\\x8a\\xa4\\xed\\x8f\\xac\\xec\\xb8\\xa0</a>\\n<a href=\"http://news.naver.com/main/main.naver?mode=LSD&mid=shm&sid1=101\" class=\"link_direct\" data-clk=\"economy\">\\xea\\xb2\\xbd\\xec\\xa0\\x9c</a> </div> </div>        <div id=\"NM_NEWSSTAND_TITLE\" class=\"group_title\" data-clk-prefix=\"nsd\"> <a href=\"http://newsstand.naver.com/\" class=\"link_newsstand\" data-clk=\"title\" target=\"_blank\">\\xeb\\x89\\xb4\\xec\\x8a\\xa4\\xec\\x8a\\xa4\\xed\\x83\\xa0\\xeb\\x93\\x9c</a> <div id=\"NM_NEWSSTAND_data_buttons\" class=\"sort_area\" role=\"tablist\">  <a href=\"#\" role=\"tab\" data-type=\"my\" data-clk=\"my\" class=\"btn_sort\" aria-controls=\"NM_NEWSSTAND_MY_LIST\" aria-selected=\"false\">\\xea\\xb5\\xac\\xeb\\x8f\\x85\\xed\\x95\\x9c \\xec\\x96\\xb8\\xeb\\xa1\\xa0\\xec\\x82\\xac</a> <a href=\"#\" role=\"tab\" data-type=\"all\" data-clk=\"all\" class=\"btn_sort\" aria-controls=\"NM_NEWSSTAND_DEFAULT_THUMB\" aria-selected=\"true\">\\xec\\xa0\\x84\\xec\\xb2\\xb4\\xec\\x96\\xb8\\xeb\\xa1\\xa0\\xec\\x82\\xac</a>  </div> <div id=\"NM_NEWSSTAND_view_buttons\" class=\"set_area\" role=\"tablist\">  <a href=\"#\" role=\"tab\" data-type=\"list\" data-clk=\"articleview\" class=\"btn_set\" aria-controls=\"NM_NEWSSTAND_DEFAULT_LIST\" aria-selected=\"false\"> <i class=\"ico_list\"><span class=\"blind\">\\xeb\\xa6\\xac\\xec\\x8a\\xa4\\xed\\x8a\\xb8\\xed\\x98\\x95</span></i></a> <a href=\"#\" role=\"tab\" data-type=\"thumb\" data-clk=\"pressview\" class=\"btn_set\" aria-controls=\"NM_NEWSSTAND_DEFAULT_THUMB\" aria-selected=\"true\"> <i class=\"ico_tile\"><span class=\"blind\">\\xec\\x8d\\xb8\\xeb\\x84\\xa4\\xec\\x9d\\xbc\\xed\\x98\\x95</span></i></a>  <a href=\"http://newsstand.naver.com/config.html\" class=\"btn_set\" data-clk=\"set\" target=\"_blank\"> <i class=\"ico_set\"><span class=\"blind\">\\xec\\x84\\xa4\\xec\\xa0\\x95</span></i></a> </div> </div> <div id=\"NM_NEWSSTAND_VIEW_CONTAINER\" style=\"position:relative\"> <div id=\"NM_NEWSSTAND_DEFAULT_LIST\" class=\"group_news\" role=\"tabpanel\" style=\"display:none\" data-clk-prefix=\"nsd_all\"> <a href=\"#\" role=\"button\" class=\"pm_btn_prev_l _NM_NEWSSTAND_LIST_prev_btn\" data-clk-custom=\"prev\"><i class=\"ico_btn\"><span class=\"blind\">\\xec\\x9d\\xb4\\xec\\xa0\\x84</span></i></a> <a href=\"#\" role=\"button\" class=\"pm_btn_next_l _NM_NEWSSTAND_LIST_next_btn\" data-clk-custom=\"next\"><i class=\"ico_btn\"><span class=\"blind\">\\xeb\\x8b\\xa4\\xec\\x9d\\x8c</span></i></a> <div class=\"list_view\"> <div class=\"option_area\"> <div class=\"list_option_wrap\"> <ul class=\"list_option\"> <li class=\"option_item\" data-cateid=\"ct2\"><a href=\"#\" class=\"option\" data-clk=\"daei\">\\xec\\xa2\\x85\\xed\\x95\\xa9/\\xea\\xb2\\xbd\\xec\\xa0\\x9c</a></li> <li class=\"option_item\" data-cateid=\"ct3\"><a href=\"#\" class=\"option\" data-clk=\"dtvcom\">\\xeb\\xb0\\xa9\\xec\\x86\\xa1/\\xed\\x86\\xb5\\xec\\x8b\\xa0</a></li> <li class=\"option_item\" data-cateid=\"ct4\"><a href=\"#\" class=\"option\" data-clk=\"dit\">IT</a></li> <li class=\"option_item\" data-cateid=\"ct5\"><a href=\"#\" class=\"option\" data-clk=\"deng\">\\xec\\x98\\x81\\xec\\x9e\\x90\\xec\\xa7\\x80</a></li> <li class=\"option_item\" data-cateid=\"ct6\"><a href=\"#\" class=\"option\" data-clk=\"dsporent\">\\xec\\x8a\\xa4\\xed\\x8f\\xac\\xec\\xb8\\xa0/\\xec\\x97\\xb0\\xec\\x98\\x88</a></li> <li class=\"option_item\" data-cateid=\"ct7\"><a href=\"#\" class=\"option\" data-clk=\"dmagtec\">\\xeb\\xa7\\xa4\\xea\\xb1\\xb0\\xec\\xa7\\x84/\\xec\\xa0\\x84\\xeb\\xac\\xb8\\xec\\xa7\\x80</a></li> <li class=\"option_item\" data-cateid=\"ct8\"><a href=\"#\" class=\"option\" data-clk=\"dloc\">\\xec\\xa7\\x80\\xec\\x97\\xad</a></li> </ul> </div> </div> <div class=\"_NM_NEWSSTAND_ARTICLE_CONTAINER\" data-clk-sub=\"*a\"></div> </div> <div class=\"ly_popup NM_NEWSSTAND_POPUP NM_NEWSSTAND_invalid\" style=\"display:none\" data-clk-sub=\"*a\"> <a href=\"#\" role=\"button\" class=\"btn_close NM_NEWSSTAND_POPUP_CLOSE\"><i class=\"ico_close\"></i><span class=\"blind\">\\xeb\\x8b\\xab\\xea\\xb8\\xb0</span></a> <p class=\"popup_msg\">\\xed\\x95\\xb4\\xeb\\x8b\\xb9 \\xec\\x96\\xb8\\xeb\\xa1\\xa0\\xec\\x82\\xac \\xec\\x82\\xac\\xec\\xa0\\x95\\xec\\x9c\\xbc\\xeb\\xa1\\x9c \\xec\\xa0\\x91\\xea\\xb7\\xbc\\xec\\x9d\\xb4 \\xec\\xa0\\x9c\\xed\\x95\\x9c\\xeb\\x90\\xa9\\xeb\\x8b\\x88\\xeb\\x8b\\xa4.</p> <div class=\"popup_btn\"> <a href=\"#\" role=\"button\" class=\"btn_confirm NM_NEWSSTAND_POPUP_CLOSE\">\\xed\\x99\\x95\\xec\\x9d\\xb8</a> </div> </div> <div class=\"ly_popup NM_NEWSSTAND_POPUP NM_NEWSSTAND_undescribe_confirm\" style=\"display:none\" data-clk-sub=\"*a\"> <a href=\"#\" role=\"button\" class=\"btn_close NM_NEWSSTAND_POPUP_CLOSE\" data-clk=\"usclose\"><i class=\"ico_close\"></i><span class=\"blind\">\\xeb\\x8b\\xab\\xea\\xb8\\xb0</span></a> <p class=\"popup_msg\"><strong class=\"NM_NEWSSTAND_POPUP_PNAME\"></strong>\\xec\\x9d\\x84(\\xeb\\xa5\\xbc)<br>\\xea\\xb5\\xac\\xeb\\x8f\\x85\\xed\\x95\\xb4\\xec\\xa7\\x80 \\xed\\x95\\x98\\xec\\x8b\\x9c\\xea\\xb2\\xa0\\xec\\x8a\\xb5\\xeb\\x8b\\x88\\xea\\xb9\\x8c?</p> <div class=\"popup_btn\"> <a href=\"#\" role=\"button\" class=\"btn_confirm NM_NEWSSTAND_POPUP_CONFIRM\" data-clk=\"usdone\">\\xed\\x99\\x95\\xec\\x9d\\xb8</a> <a href=\"#\" role=\"button\" class=\"btn_confirm NM_NEWSSTAND_POPUP_CLOSE\" data-clk=\"uscancel\">\\xec\\xb7\\xa8\\xec\\x86\\x8c</a> </div> </div> <div class=\"ly_toast NM_NEWSSTAND_TOAST\" style=\"display:none\"> <p class=\"toast_msg\">\\xea\\xb5\\xac\\xeb\\x8f\\x85\\xed\\x95\\x9c \\xec\\x96\\xb8\\xeb\\xa1\\xa0\\xec\\x82\\xac\\xec\\x97\\x90 \\xec\\xb6\\x94\\xea\\xb0\\x80\\xeb\\x90\\x98\\xec\\x97\\x88\\xec\\x8a\\xb5\\xeb\\x8b\\x88\\xeb\\x8b\\xa4.</p> </div> </div>   <div id=\"NM_NEWSSTAND_DEFAULT_THUMB\" class=\"group_news\" role=\"tabpanel\" style=\"display:block\" data-clk-prefix=\"nsd_all\"> <a href=\"#\" role=\"button\" class=\"pm_btn_prev_l _NM_UI_PAGE_PREV\" data-clk-custom=\"prev\"><i class=\"ico_btn\"><span class=\"blind\">\\xec\\x9d\\xb4\\xec\\xa0\\x84</span></i></a> <a href=\"#\" role=\"button\" class=\"pm_btn_next_l _NM_UI_PAGE_NEXT\" data-clk-custom=\"next\"><i class=\"ico_btn\"><span class=\"blind\">\\xeb\\x8b\\xa4\\xec\\x9d\\x8c</span></i></a> <div class=\"_NM_UI_PAGE_CONTAINER\" style=\"height:100%;overflow:hidden\" data-clk-sub=\"*p\">   <div style=\"width: 750px; float: left;\">\\n<div class=\"tile_view\">\\n<div class=\"frame_area\">\\n<i class=\"line to_right1\"></i>\\n<i class=\"line to_right2\"></i>\\n<i class=\"line to_right3\"></i>\\n<i class=\"line to_bottom1\"></i>\\n<i class=\"line to_bottom2\"></i>\\n<i class=\"line to_bottom3\"></i>\\n<i class=\"line to_bottom4\"></i>\\n<i class=\"line to_bottom5\"></i>\\n</div>\\n<div class=\"thumb_area\">\\n<div\\nclass=\"thumb_box _NM_NEWSSTAND_THUMB _NM_NEWSSTAND_THUMB_press_valid\"\\ndata-pid=\"277\"\\n>\\n<a href=\"#\" class=\"thumb\">\\n<img\\nsrc=\"https://s.pstatic.net/static/newsstand/2020/logo/light/0604/277.png\"\\nheight=\"20\"\\nalt=\"\\xec\\x95\\x84\\xec\\x8b\\x9c\\xec\\x95\\x84\\xea\\xb2\\xbd\\xec\\xa0\\x9c\"\\nclass=\"news_logo\"\\n/>\\n<span class=\"thumb_dim\"></span\\n></a>\\n<div class=\"popup_wrap\">\\n<a\\nhref=\"#\"\\nrole=\"button\"\\nclass=\"btn_popup _NM_NEWSSTAND_THUMB_subscribe_press\"\\ndata-pid=\"277\"\\ndata-clk=\"sub\"\\n>\\xea\\xb5\\xac\\xeb\\x8f\\x85</a\\n>\\n<a\\nhref=\"#\"\\nrole=\"button\"\\nclass=\"btn_popup _NM_NEWSSTAND_THUMB_unsubscribe_press\"\\ndata-pid=\"277\"\\ndata-clk=\"unsub\"\\n>\\xed\\x95\\xb4\\xec\\xa7\\x80</a\\n>\\n<a\\nhref=\"http://newsstand.naver.com/?list=&pcode=277\"\\ntarget=\"_blank\"\\nclass=\"btn_popup\"\\ndata-clk=\"logo\"\\ndata-pid=\"277\"\\n>\\xea\\xb8\\xb0\\xec\\x82\\xac\\xeb\\xb3\\xb4\\xea\\xb8\\xb0</a\\n>\\n</div>\\n</div>\\n<div\\nclass=\"thumb_box _NM_NEWSSTAND_THUMB _NM_NEWSSTAND_THUMB_press_valid\"\\ndata-pid=\"022\"\\n>\\n<a href=\"#\" class=\"thumb\">\\n<img\\nsrc=\"https://s.pstatic.net/static/newsstand/2020/logo/light/0604/022.png\"\\nheight=\"20\"\\nalt=\"\\xec\\x84\\xb8\\xea\\xb3\\x84\\xec\\x9d\\xbc\\xeb\\xb3\\xb4\"\\nclass=\"news_logo\"\\n/>\\n<span class=\"thumb_dim\"></span\\n></a>\\n<div class=\"popup_wrap\">\\n<a\\nhref=\"#\"\\nrole=\"button\"\\nclass=\"btn_popup _NM_NEWSSTAND_THUMB_subscribe_press\"\\ndata-pid=\"022\"\\ndata-clk=\"sub\"\\n>\\xea\\xb5\\xac\\xeb\\x8f\\x85</a\\n>\\n<a\\nhref=\"#\"\\nrole=\"button\"\\nclass=\"btn_popup _NM_NEWSSTAND_THUMB_unsubscribe_press\"\\ndata-pid=\"022\"\\ndata-clk=\"unsub\"\\n>\\xed\\x95\\xb4\\xec\\xa7\\x80</a\\n>\\n<a\\nhref=\"http://newsstand.naver.com/?list=&pcode=022\"\\ntarget=\"_blank\"\\nclass=\"btn_popup\"\\ndata-clk=\"logo\"\\ndata-pid=\"022\"\\n>\\xea\\xb8\\xb0\\xec\\x82\\xac\\xeb\\xb3\\xb4\\xea\\xb8\\xb0</a\\n>\\n</div>\\n</div>\\n<div\\nclass=\"thumb_box _NM_NEWSSTAND_THUMB _NM_NEWSSTAND_THUMB_press_valid\"\\ndata-pid=\"293\"\\n>\\n<a href=\"#\" class=\"thumb\">\\n<img\\nsrc=\"https://s.pstatic.net/static/newsstand/2020/logo/light/0604/293.png\"\\nheight=\"20\"\\nalt=\"\\xeb\\xb8\\x94\\xeb\\xa1\\x9c\\xed\\x84\\xb0\"\\nclass=\"news_logo\"\\n/>\\n<span class=\"thumb_dim\"></span\\n></a>\\n<div class=\"popup_wrap\">\\n<a\\nhref=\"#\"\\nrole=\"button\"\\nclass=\"btn_popup _NM_NEWSSTAND_THUMB_subscribe_press\"\\ndata-pid=\"293\"\\ndata-clk=\"sub\"\\n>\\xea\\xb5\\xac\\xeb\\x8f\\x85</a\\n>\\n<a\\nhref=\"#\"\\nrole=\"button\"\\nclass=\"btn_popup _NM_NEWSSTAND_THUMB_unsubscribe_press\"\\ndata-pid=\"293\"\\ndata-clk=\"unsub\"\\n>\\xed\\x95\\xb4\\xec\\xa7\\x80</a\\n>\\n<a\\nhref=\"http://newsstand.naver.com/?list=&pcode=293\"\\ntarget=\"_blank\"\\nclass=\"btn_popup\"\\ndata-clk=\"logo\"\\ndata-pid=\"293\"\\n>\\xea\\xb8\\xb0\\xec\\x82\\xac\\xeb\\xb3\\xb4\\xea\\xb8\\xb0</a\\n>\\n</div>\\n</div>\\n<div\\nclass=\"thumb_box _NM_NEWSSTAND_THUMB _NM_NEWSSTAND_THUMB_press_valid\"\\ndata-pid=\"014\"\\n>\\n<a href=\"#\" class=\"thumb\">\\n<img\\nsrc=\"https://s.pstatic.net/static/newsstand/2020/logo/light/0604/014.png\"\\nheight=\"20\"\\nalt=\"\\xed\\x8c\\x8c\\xec\\x9d\\xb4\\xeb\\x82\\xb8\\xec\\x85\\x9c\\xeb\\x89\\xb4\\xec\\x8a\\xa4\"\\nclass=\"news_logo\"\\n/>\\n<span class=\"thumb_dim\"></span\\n></a>\\n<div class=\"popup_wrap\">\\n<a\\nhref=\"#\"\\nrole=\"button\"\\nclass=\"btn_popup _NM_NEWSSTAND_THUMB_subscribe_press\"\\ndata-pid=\"014\"\\ndata-clk=\"sub\"\\n>\\xea\\xb5\\xac\\xeb\\x8f\\x85</a\\n>\\n<a\\nhref=\"#\"\\nrole=\"button\"\\nclass=\"btn_popup _NM_NEWSSTAND_THUMB_unsubscribe_press\"\\ndata-pid=\"014\"\\ndata-clk=\"unsub\"\\n>\\xed\\x95\\xb4\\xec\\xa7\\x80</a\\n>\\n<a\\nhref=\"http://newsstand.naver.com/?list=&pcode=014\"\\ntarget=\"_blank\"\\nclass=\"btn_popup\"\\ndata-clk=\"logo\"\\ndata-pid=\"014\"\\n>\\xea\\xb8\\xb0\\xec\\x82\\xac\\xeb\\xb3\\xb4\\xea\\xb8\\xb0</a\\n>\\n</div>\\n</div>\\n<div\\nclass=\"thumb_box _NM_NEWSSTAND_THUMB _NM_NEWSSTAND_THUMB_press_valid\"\\ndata-pid=\"052\"\\n>\\n<a href=\"#\" class=\"thumb\">\\n<img\\nsrc=\"https://s.pstatic.net/static/newsstand/2020/logo/light/0604/052.png\"\\nheight=\"20\"\\nalt=\"YTN\"\\nclass=\"news_logo\"\\n/>\\n<span class=\"thumb_dim\"></span\\n></a>\\n<div class=\"popup_wrap\">\\n<a\\nhref=\"#\"\\nrole=\"button\"\\nclass=\"btn_popup _NM_NEWSSTAND_THUMB_subscribe_press\"\\ndata-pid=\"052\"\\ndata-clk=\"sub\"\\n>\\xea\\xb5\\xac\\xeb\\x8f\\x85</a\\n>\\n<a\\nhref=\"#\"\\nrole=\"button\"\\nclass=\"btn_popup _NM_NEWSSTAND_THUMB_unsubscribe_press\"\\ndata-pid=\"052\"\\ndata-clk=\"unsub\"\\n>\\xed\\x95\\xb4\\xec\\xa7\\x80</a\\n>\\n<a\\nhref=\"http://newsstand.naver.com/?list=&pcode=052\"\\ntarget=\"_blank\"\\nclass=\"btn_popup\"\\ndata-clk=\"logo\"\\ndata-pid=\"052\"\\n>\\xea\\xb8\\xb0\\xec\\x82\\xac\\xeb\\xb3\\xb4\\xea\\xb8\\xb0</a\\n>\\n</div>\\n</div>\\n<div\\nclass=\"thumb_box _NM_NEWSSTAND_THUMB _NM_NEWSSTAND_THUMB_press_valid\"\\ndata-pid=\"314\"\\n>\\n<a href=\"#\" class=\"thumb\">\\n<img\\nsrc=\"https://s.pstatic.net/static/newsstand/2020/logo/light/0604/314.png\"\\nheight=\"20\"\\nalt=\"\\xec\\x8a\\xa4\\xed\\x8f\\xac\\xec\\xb8\\xa0\\xeb\\x8f\\x99\\xec\\x95\\x84\"\\nclass=\"news_logo\"\\n/>\\n<span class=\"thumb_dim\"></span\\n></a>\\n<div class=\"popup_wrap\">\\n<a\\nhref=\"#\"\\nrole=\"button\"\\nclass=\"btn_popup _NM_NEWSSTAND_THUMB_subscribe_press\"\\ndata-pid=\"314\"\\ndata-clk=\"sub\"\\n>\\xea\\xb5\\xac\\xeb\\x8f\\x85</a\\n>\\n<a\\nhref=\"#\"\\nrole=\"button\"\\nclass=\"btn_popup _NM_NEWSSTAND_THUMB_unsubscribe_press\"\\ndata-pid=\"314\"\\ndata-clk=\"unsub\"\\n>\\xed\\x95\\xb4\\xec\\xa7\\x80</a\\n>\\n<a\\nhref=\"http://newsstand.naver.com/?list=&pcode=314\"\\ntarget=\"_blank\"\\nclass=\"btn_popup\"\\ndata-clk=\"logo\"\\ndata-pid=\"314\"\\n>\\xea\\xb8\\xb0\\xec\\x82\\xac\\xeb\\xb3\\xb4\\xea\\xb8\\xb0</a\\n>\\n</div>\\n</div>\\n<div\\nclass=\"thumb_box _NM_NEWSSTAND_THUMB _NM_NEWSSTAND_THUMB_press_valid\"\\ndata-pid=\"031\"\\n>\\n<a href=\"#\" class=\"thumb\">\\n<img\\nsrc=\"https://s.pstatic.net/static/newsstand/2020/logo/light/0604/031.png\"\\nheight=\"20\"\\nalt=\"\\xec\\x95\\x84\\xec\\x9d\\xb4\\xeb\\x89\\xb4\\xec\\x8a\\xa424\"\\nclass=\"news_logo\"\\n/>\\n<span class=\"thumb_dim\"></span\\n></a>\\n<div class=\"popup_wrap\">\\n<a\\nhref=\"#\"\\nrole=\"button\"\\nclass=\"btn_popup _NM_NEWSSTAND_THUMB_subscribe_press\"\\ndata-pid=\"031\"\\ndata-clk=\"sub\"\\n>\\xea\\xb5\\xac\\xeb\\x8f\\x85</a\\n>\\n<a\\nhref=\"#\"\\nrole=\"button\"\\nclass=\"btn_popup _NM_NEWSSTAND_THUMB_unsubscribe_press\"\\ndata-pid=\"031\"\\ndata-clk=\"unsub\"\\n>\\xed\\x95\\xb4\\xec\\xa7\\x80</a\\n>\\n<a\\nhref=\"http://newsstand.naver.com/?list=&pcode=031\"\\ntarget=\"_blank\"\\nclass=\"btn_popup\"\\ndata-clk=\"logo\"\\ndata-pid=\"031\"\\n>\\xea\\xb8\\xb0\\xec\\x82\\xac\\xeb\\xb3\\xb4\\xea\\xb8\\xb0</a\\n>\\n</div>\\n</div>\\n<div\\nclass=\"thumb_box _NM_NEWSSTAND_THUMB _NM_NEWSSTAND_THUMB_press_valid\"\\ndata-pid=\"326\"\\n>\\n<a href=\"#\" class=\"thumb\">\\n<img\\nsrc=\"https://s.pstatic.net/static/newsstand/2020/logo/light/0604/326.png\"\\nheight=\"20\"\\nalt=\"KBS World\"\\nclass=\"news_logo\"\\n/>\\n<span class=\"thumb_dim\"></span\\n></a>\\n<div class=\"popup_wrap\">\\n<a\\nhref=\"#\"\\nrole=\"button\"\\nclass=\"btn_popup _NM_NEWSSTAND_THUMB_subscribe_press\"\\ndata-pid=\"326\"\\ndata-clk=\"sub\"\\n>\\xea\\xb5\\xac\\xeb\\x8f\\x85</a\\n>\\n<a\\nhref=\"#\"\\nrole=\"button\"\\nclass=\"btn_popup _NM_NEWSSTAND_THUMB_unsubscribe_press\"\\ndata-pid=\"326\"\\ndata-clk=\"unsub\"\\n>\\xed\\x95\\xb4\\xec\\xa7\\x80</a\\n>\\n<a\\nhref=\"http://newsstand.naver.com/?list=&pcode=326\"\\ntarget=\"_blank\"\\nclass=\"btn_popup\"\\ndata-clk=\"logo\"\\ndata-pid=\"326\"\\n>\\xea\\xb8\\xb0\\xec\\x82\\xac\\xeb\\xb3\\xb4\\xea\\xb8\\xb0</a\\n>\\n</div>\\n</div>\\n<div\\nclass=\"thumb_box _NM_NEWSSTAND_THUMB _NM_NEWSSTAND_THUMB_press_valid\"\\ndata-pid=\"025\"\\n>\\n<a href=\"#\" class=\"thumb\">\\n<img\\nsrc=\"https://s.pstatic.net/static/newsstand/up/2021/0824/nsd115034872.png\"\\nheight=\"20\"\\nalt=\"\\xec\\xa4\\x91\\xec\\x95\\x99\\xec\\x9d\\xbc\\xeb\\xb3\\xb4\"\\nclass=\"news_logo\"\\n/>\\n<span class=\"thumb_dim\"></span\\n></a>\\n<div class=\"popup_wrap\">\\n<a\\nhref=\"#\"\\nrole=\"button\"\\nclass=\"btn_popup _NM_NEWSSTAND_THUMB_subscribe_press\"\\ndata-pid=\"025\"\\ndata-clk=\"sub\"\\n>\\xea\\xb5\\xac\\xeb\\x8f\\x85</a\\n>\\n<a\\nhref=\"#\"\\nrole=\"button\"\\nclass=\"btn_popup _NM_NEWSSTAND_THUMB_unsubscribe_press\"\\ndata-pid=\"025\"\\ndata-clk=\"unsub\"\\n>\\xed\\x95\\xb4\\xec\\xa7\\x80</a\\n>\\n<a\\nhref=\"http://newsstand.naver.com/?list=&pcode=025\"\\ntarget=\"_blank\"\\nclass=\"btn_popup\"\\ndata-clk=\"logo\"\\ndata-pid=\"025\"\\n>\\xea\\xb8\\xb0\\xec\\x82\\xac\\xeb\\xb3\\xb4\\xea\\xb8\\xb0</a\\n>\\n</div>\\n</div>\\n<div\\nclass=\"thumb_box _NM_NEWSSTAND_THUMB _NM_NEWSSTAND_THUMB_press_valid\"\\ndata-pid=\"308\"\\n>\\n<a href=\"#\" class=\"thumb\">\\n<img\\nsrc=\"https://s.pstatic.net/static/newsstand/2020/logo/light/0604/308.png\"\\nheight=\"20\"\\nalt=\"\\xec\\x8b\\x9c\\xec\\x82\\xac\\xec\\x9d\\xb8\"\\nclass=\"news_logo\"\\n/>\\n<span class=\"thumb_dim\"></span\\n></a>\\n<div class=\"popup_wrap\">\\n<a\\nhref=\"#\"\\nrole=\"button\"\\nclass=\"btn_popup _NM_NEWSSTAND_THUMB_subscribe_press\"\\ndata-pid=\"308\"\\ndata-clk=\"sub\"\\n>\\xea\\xb5\\xac\\xeb\\x8f\\x85</a\\n>\\n<a\\nhref=\"#\"\\nrole=\"button\"\\nclass=\"btn_popup _NM_NEWSSTAND_THUMB_unsubscribe_press\"\\ndata-pid=\"308\"\\ndata-clk=\"unsub\"\\n>\\xed\\x95\\xb4\\xec\\xa7\\x80</a\\n>\\n<a\\nhref=\"http://newsstand.naver.com/?list=&pcode=308\"\\ntarget=\"_blank\"\\nclass=\"btn_popup\"\\ndata-clk=\"logo\"\\ndata-pid=\"308\"\\n>\\xea\\xb8\\xb0\\xec\\x82\\xac\\xeb\\xb3\\xb4\\xea\\xb8\\xb0</a\\n>\\n</div>\\n</div>\\n<div\\nclass=\"thumb_box _NM_NEWSSTAND_THUMB _NM_NEWSSTAND_THUMB_press_valid\"\\ndata-pid=\"139\"\\n>\\n<a href=\"#\" class=\"thumb\">\\n<img\\nsrc=\"https://s.pstatic.net/static/newsstand/2020/logo/light/0604/139.png\"\\nheight=\"20\"\\nalt=\"\\xec\\x8a\\xa4\\xed\\x8f\\xac\\xed\\x83\\x88\\xec\\xbd\\x94\\xeb\\xa6\\xac\\xec\\x95\\x84\"\\nclass=\"news_logo\"\\n/>\\n<span class=\"thumb_dim\"></span\\n></a>\\n<div class=\"popup_wrap\">\\n<a\\nhref=\"#\"\\nrole=\"button\"\\nclass=\"btn_popup _NM_NEWSSTAND_THUMB_subscribe_press\"\\ndata-pid=\"139\"\\ndata-clk=\"sub\"\\n>\\xea\\xb5\\xac\\xeb\\x8f\\x85</a\\n>\\n<a\\nhref=\"#\"\\nrole=\"button\"\\nclass=\"btn_popup _NM_NEWSSTAND_THUMB_unsubscribe_press\"\\ndata-pid=\"139\"\\ndata-clk=\"unsub\"\\n>\\xed\\x95\\xb4\\xec\\xa7\\x80</a\\n>\\n<a\\nhref=\"http://newsstand.naver.com/?list=&pcode=139\"\\ntarget=\"_blank\"\\nclass=\"btn_popup\"\\ndata-clk=\"logo\"\\ndata-pid=\"139\"\\n>\\xea\\xb8\\xb0\\xec\\x82\\xac\\xeb\\xb3\\xb4\\xea\\xb8\\xb0</a\\n>\\n</div>\\n</div>\\n<div\\nclass=\"thumb_box _NM_NEWSSTAND_THUMB _NM_NEWSSTAND_THUMB_press_valid\"\\ndata-pid=\"366\"\\n>\\n<a href=\"#\" class=\"thumb\">\\n<img\\nsrc=\"https://s.pstatic.net/static/newsstand/2020/logo/light/0604/366.png\"\\nheight=\"20\"\\nalt=\"\\xec\\xa1\\xb0\\xec\\x84\\xa0\\xeb\\xb9\\x84\\xec\\xa6\\x88\"\\nclass=\"news_logo\"\\n/>\\n<span class=\"thumb_dim\"></span\\n></a>\\n<div class=\"popup_wrap\">\\n<a\\nhref=\"#\"\\nrole=\"button\"\\nclass=\"btn_popup _NM_NEWSSTAND_THUMB_subscribe_press\"\\ndata-pid=\"366\"\\ndata-clk=\"sub\"\\n>\\xea\\xb5\\xac\\xeb\\x8f\\x85</a\\n>\\n<a\\nhref=\"#\"\\nrole=\"button\"\\nclass=\"btn_popup _NM_NEWSSTAND_THUMB_unsubscribe_press\"\\ndata-pid=\"366\"\\ndata-clk=\"unsub\"\\n>\\xed\\x95\\xb4\\xec\\xa7\\x80</a\\n>\\n<a\\nhref=\"http://newsstand.naver.com/?list=&pcode=366\"\\ntarget=\"_blank\"\\nclass=\"btn_popup\"\\ndata-clk=\"logo\"\\ndata-pid=\"366\"\\n>\\xea\\xb8\\xb0\\xec\\x82\\xac\\xeb\\xb3\\xb4\\xea\\xb8\\xb0</a\\n>\\n</div>\\n</div>\\n<div\\nclass=\"thumb_box _NM_NEWSSTAND_THUMB _NM_NEWSSTAND_THUMB_press_valid\"\\ndata-pid=\"005\"\\n>\\n<a href=\"#\" class=\"thumb\">\\n<img\\nsrc=\"https://s.pstatic.net/static/newsstand/2020/logo/light/0604/005.png\"\\nheight=\"20\"\\nalt=\"\\xea\\xb5\\xad\\xeb\\xaf\\xbc\\xec\\x9d\\xbc\\xeb\\xb3\\xb4\"\\nclass=\"news_logo\"\\n/>\\n<span class=\"thumb_dim\"></span\\n></a>\\n<div class=\"popup_wrap\">\\n<a\\nhref=\"#\"\\nrole=\"button\"\\nclass=\"btn_popup _NM_NEWSSTAND_THUMB_subscribe_press\"\\ndata-pid=\"005\"\\ndata-clk=\"sub\"\\n>\\xea\\xb5\\xac\\xeb\\x8f\\x85</a\\n>\\n<a\\nhref=\"#\"\\nrole=\"button\"\\nclass=\"btn_popup _NM_NEWSSTAND_THUMB_unsubscribe_press\"\\ndata-pid=\"005\"\\ndata-clk=\"unsub\"\\n>\\xed\\x95\\xb4\\xec\\xa7\\x80</a\\n>\\n<a\\nhref=\"http://newsstand.naver.com/?list=&pcode=005\"\\ntarget=\"_blank\"\\nclass=\"btn_popup\"\\ndata-clk=\"logo\"\\ndata-pid=\"005\"\\n>\\xea\\xb8\\xb0\\xec\\x82\\xac\\xeb\\xb3\\xb4\\xea\\xb8\\xb0</a\\n>\\n</div>\\n</div>\\n<div\\nclass=\"thumb_box _NM_NEWSSTAND_THUMB _NM_NEWSSTAND_THUMB_press_valid\"\\ndata-pid=\"214\"\\n>\\n<a href=\"#\" class=\"thumb\">\\n<img\\nsrc=\"https://s.pstatic.net/static/newsstand/2020/logo/light/0604/214.png\"\\nheight=\"20\"\\nalt=\"MBC\"\\nclass=\"news_logo\"\\n/>\\n<span class=\"thumb_dim\"></span\\n></a>\\n<div class=\"popup_wrap\">\\n<a\\nhref=\"#\"\\nrole=\"button\"\\nclass=\"btn_popup _NM_NEWSSTAND_THUMB_subscribe_press\"\\ndata-pid=\"214\"\\ndata-clk=\"sub\"\\n>\\xea\\xb5\\xac\\xeb\\x8f\\x85</a\\n>\\n<a\\nhref=\"#\"\\nrole=\"button\"\\nclass=\"btn_popup _NM_NEWSSTAND_THUMB_unsubscribe_press\"\\ndata-pid=\"214\"\\ndata-clk=\"unsub\"\\n>\\xed\\x95\\xb4\\xec\\xa7\\x80</a\\n>\\n<a\\nhref=\"http://newsstand.naver.com/?list=&pcode=214\"\\ntarget=\"_blank\"\\nclass=\"btn_popup\"\\ndata-clk=\"logo\"\\ndata-pid=\"214\"\\n>\\xea\\xb8\\xb0\\xec\\x82\\xac\\xeb\\xb3\\xb4\\xea\\xb8\\xb0</a\\n>\\n</div>\\n</div>\\n<div\\nclass=\"thumb_box _NM_NEWSSTAND_THUMB _NM_NEWSSTAND_THUMB_press_valid\"\\ndata-pid=\"117\"\\n>\\n<a href=\"#\" class=\"thumb\">\\n<img\\nsrc=\"https://s.pstatic.net/static/newsstand/2020/logo/light/0604/117.png\"\\nheight=\"20\"\\nalt=\"\\xeb\\xa7\\x88\\xec\\x9d\\xb4\\xeb\\x8d\\xb0\\xec\\x9d\\xbc\\xeb\\xa6\\xac\"\\nclass=\"news_logo\"\\n/>\\n<span class=\"thumb_dim\"></span\\n></a>\\n<div class=\"popup_wrap\">\\n<a\\nhref=\"#\"\\nrole=\"button\"\\nclass=\"btn_popup _NM_NEWSSTAND_THUMB_subscribe_press\"\\ndata-pid=\"117\"\\ndata-clk=\"sub\"\\n>\\xea\\xb5\\xac\\xeb\\x8f\\x85</a\\n>\\n<a\\nhref=\"#\"\\nrole=\"button\"\\nclass=\"btn_popup _NM_NEWSSTAND_THUMB_unsubscribe_press\"\\ndata-pid=\"117\"\\ndata-clk=\"unsub\"\\n>\\xed\\x95\\xb4\\xec\\xa7\\x80</a\\n>\\n<a\\nhref=\"http://newsstand.naver.com/?list=&pcode=117\"\\ntarget=\"_blank\"\\nclass=\"btn_popup\"\\ndata-clk=\"logo\"\\ndata-pid=\"117\"\\n>\\xea\\xb8\\xb0\\xec\\x82\\xac\\xeb\\xb3\\xb4\\xea\\xb8\\xb0</a\\n>\\n</div>\\n</div>\\n<div\\nclass=\"thumb_box _NM_NEWSSTAND_THUMB _NM_NEWSSTAND_THUMB_press_valid\"\\ndata-pid=\"901\"\\n>\\n<a href=\"#\" class=\"thumb\">\\n<img\\nsrc=\"https://s.pstatic.net/static/newsstand/up/2020/1119/nsd213345745.png\"\\nheight=\"20\"\\nalt=\"\\xec\\xa0\\x9c\\xeb\\xaf\\xbc\\xec\\x9d\\xbc\\xeb\\xb3\\xb4\"\\nclass=\"news_logo\"\\n/>\\n<span class=\"thumb_dim\"></span\\n></a>\\n<div class=\"popup_wrap\">\\n<a\\nhref=\"#\"\\nrole=\"button\"\\nclass=\"btn_popup _NM_NEWSSTAND_THUMB_subscribe_press\"\\ndata-pid=\"901\"\\ndata-clk=\"sub\"\\n>\\xea\\xb5\\xac\\xeb\\x8f\\x85</a\\n>\\n<a\\nhref=\"#\"\\nrole=\"button\"\\nclass=\"btn_popup _NM_NEWSSTAND_THUMB_unsubscribe_press\"\\ndata-pid=\"901\"\\ndata-clk=\"unsub\"\\n>\\xed\\x95\\xb4\\xec\\xa7\\x80</a\\n>\\n<a\\nhref=\"http://newsstand.naver.com/?list=&pcode=901\"\\ntarget=\"_blank\"\\nclass=\"btn_popup\"\\ndata-clk=\"logo\"\\ndata-pid=\"901\"\\n>\\xea\\xb8\\xb0\\xec\\x82\\xac\\xeb\\xb3\\xb4\\xea\\xb8\\xb0</a\\n>\\n</div>\\n</div>\\n<div\\nclass=\"thumb_box _NM_NEWSSTAND_THUMB _NM_NEWSSTAND_THUMB_press_valid\"\\ndata-pid=\"688\"\\n>\\n<a href=\"#\" class=\"thumb\">\\n<img\\nsrc=\"https://s.pstatic.net/static/newsstand/up/2022/1017/nsd202616515.png\"\\nheight=\"20\"\\nalt=\"\\xea\\xb2\\xbd\\xea\\xb8\\xb0\\xec\\x8b\\xa0\\xeb\\xac\\xb8\"\\nclass=\"news_logo\"\\n/>\\n<span class=\"thumb_dim\"></span\\n></a>\\n<div class=\"popup_wrap\">\\n<a\\nhref=\"#\"\\nrole=\"button\"\\nclass=\"btn_popup _NM_NEWSSTAND_THUMB_subscribe_press\"\\ndata-pid=\"688\"\\ndata-clk=\"sub\"\\n>\\xea\\xb5\\xac\\xeb\\x8f\\x85</a\\n>\\n<a\\nhref=\"#\"\\nrole=\"button\"\\nclass=\"btn_popup _NM_NEWSSTAND_THUMB_unsubscribe_press\"\\ndata-pid=\"688\"\\ndata-clk=\"unsub\"\\n>\\xed\\x95\\xb4\\xec\\xa7\\x80</a\\n>\\n<a\\nhref=\"http://newsstand.naver.com/?list=&pcode=688\"\\ntarget=\"_blank\"\\nclass=\"btn_popup\"\\ndata-clk=\"logo\"\\ndata-pid=\"688\"\\n>\\xea\\xb8\\xb0\\xec\\x82\\xac\\xeb\\xb3\\xb4\\xea\\xb8\\xb0</a\\n>\\n</div>\\n</div>\\n<div\\nclass=\"thumb_box _NM_NEWSSTAND_THUMB _NM_NEWSSTAND_THUMB_press_valid\"\\ndata-pid=\"082\"\\n>\\n<a href=\"#\" class=\"thumb\">\\n<img\\nsrc=\"https://s.pstatic.net/static/newsstand/up/2021/0322/nsd21527882.png\"\\nheight=\"20\"\\nalt=\"\\xeb\\xb6\\x80\\xec\\x82\\xb0\\xec\\x9d\\xbc\\xeb\\xb3\\xb4\"\\nclass=\"news_logo\"\\n/>\\n<span class=\"thumb_dim\"></span\\n></a>\\n<div class=\"popup_wrap\">\\n<a\\nhref=\"#\"\\nrole=\"button\"\\nclass=\"btn_popup _NM_NEWSSTAND_THUMB_subscribe_press\"\\ndata-pid=\"082\"\\ndata-clk=\"sub\"\\n>\\xea\\xb5\\xac\\xeb\\x8f\\x85</a\\n>\\n<a\\nhref=\"#\"\\nrole=\"button\"\\nclass=\"btn_popup _NM_NEWSSTAND_THUMB_unsubscribe_press\"\\ndata-pid=\"082\"\\ndata-clk=\"unsub\"\\n>\\xed\\x95\\xb4\\xec\\xa7\\x80</a\\n>\\n<a\\nhref=\"http://newsstand.naver.com/?list=&pcode=082\"\\ntarget=\"_blank\"\\nclass=\"btn_popup\"\\ndata-clk=\"logo\"\\ndata-pid=\"082\"\\n>\\xea\\xb8\\xb0\\xec\\x82\\xac\\xeb\\xb3\\xb4\\xea\\xb8\\xb0</a\\n>\\n</div>\\n</div>\\n<div\\nclass=\"thumb_box _NM_NEWSSTAND_THUMB _NM_NEWSSTAND_THUMB_press_valid\"\\ndata-pid=\"943\"\\n>\\n<a href=\"#\" class=\"thumb\">\\n<img\\nsrc=\"https://s.pstatic.net/static/newsstand/up/2021/0329/nsd101654480.png\"\\nheight=\"20\"\\nalt=\"\\xeb\\xb9\\x84\\xec\\xa6\\x88\\xeb\\x8b\\x88\\xec\\x8a\\xa4\\xec\\x9b\\x8c\\xec\\xb9\\x98\"\\nclass=\"news_logo\"\\n/>\\n<span class=\"thumb_dim\"></span\\n></a>\\n<div class=\"popup_wrap\">\\n<a\\nhref=\"#\"\\nrole=\"button\"\\nclass=\"btn_popup _NM_NEWSSTAND_THUMB_subscribe_press\"\\ndata-pid=\"943\"\\ndata-clk=\"sub\"\\n>\\xea\\xb5\\xac\\xeb\\x8f\\x85</a\\n>\\n<a\\nhref=\"#\"\\nrole=\"button\"\\nclass=\"btn_popup _NM_NEWSSTAND_THUMB_unsubscribe_press\"\\ndata-pid=\"943\"\\ndata-clk=\"unsub\"\\n>\\xed\\x95\\xb4\\xec\\xa7\\x80</a\\n>\\n<a\\nhref=\"http://newsstand.naver.com/?list=&pcode=943\"\\ntarget=\"_blank\"\\nclass=\"btn_popup\"\\ndata-clk=\"logo\"\\ndata-pid=\"943\"\\n>\\xea\\xb8\\xb0\\xec\\x82\\xac\\xeb\\xb3\\xb4\\xea\\xb8\\xb0</a\\n>\\n</div>\\n</div>\\n<div\\nclass=\"thumb_box _NM_NEWSSTAND_THUMB _NM_NEWSSTAND_THUMB_press_valid\"\\ndata-pid=\"955\"\\n>\\n<a href=\"#\" class=\"thumb\">\\n<img\\nsrc=\"https://s.pstatic.net/static/newsstand/2020/logo/light/0604/955.png\"\\nheight=\"20\"\\nalt=\"\\xeb\\x8f\\x85\\xec\\x84\\x9c\\xec\\x8b\\xa0\\xeb\\xac\\xb8\"\\nclass=\"news_logo\"\\n/>\\n<span class=\"thumb_dim\"></span\\n></a>\\n<div class=\"popup_wrap\">\\n<a\\nhref=\"#\"\\nrole=\"button\"\\nclass=\"btn_popup _NM_NEWSSTAND_THUMB_subscribe_press\"\\ndata-pid=\"955\"\\ndata-clk=\"sub\"\\n>\\xea\\xb5\\xac\\xeb\\x8f\\x85</a\\n>\\n<a\\nhref=\"#\"\\nrole=\"button\"\\nclass=\"btn_popup _NM_NEWSSTAND_THUMB_unsubscribe_press\"\\ndata-pid=\"955\"\\ndata-clk=\"unsub\"\\n>\\xed\\x95\\xb4\\xec\\xa7\\x80</a\\n>\\n<a\\nhref=\"http://newsstand.naver.com/?list=&pcode=955\"\\ntarget=\"_blank\"\\nclass=\"btn_popup\"\\ndata-clk=\"logo\"\\ndata-pid=\"955\"\\n>\\xea\\xb8\\xb0\\xec\\x82\\xac\\xeb\\xb3\\xb4\\xea\\xb8\\xb0</a\\n>\\n</div>\\n</div>\\n<div\\nclass=\"thumb_box _NM_NEWSSTAND_THUMB _NM_NEWSSTAND_THUMB_press_valid\"\\ndata-pid=\"911\"\\n>\\n<a href=\"#\" class=\"thumb\">\\n<img\\nsrc=\"https://s.pstatic.net/static/newsstand/2020/logo/light/0604/911.png\"\\nheight=\"20\"\\nalt=\"\\xeb\\x86\\x8d\\xeb\\xaf\\xbc\\xec\\x8b\\xa0\\xeb\\xac\\xb8\"\\nclass=\"news_logo\"\\n/>\\n<span class=\"thumb_dim\"></span\\n></a>\\n<div class=\"popup_wrap\">\\n<a\\nhref=\"#\"\\nrole=\"button\"\\nclass=\"btn_popup _NM_NEWSSTAND_THUMB_subscribe_press\"\\ndata-pid=\"911\"\\ndata-clk=\"sub\"\\n>\\xea\\xb5\\xac\\xeb\\x8f\\x85</a\\n>\\n<a\\nhref=\"#\"\\nrole=\"button\"\\nclass=\"btn_popup _NM_NEWSSTAND_THUMB_unsubscribe_press\"\\ndata-pid=\"911\"\\ndata-clk=\"unsub\"\\n>\\xed\\x95\\xb4\\xec\\xa7\\x80</a\\n>\\n<a\\nhref=\"http://newsstand.naver.com/?list=&pcode=911\"\\ntarget=\"_blank\"\\nclass=\"btn_popup\"\\ndata-clk=\"logo\"\\ndata-pid=\"911\"\\n>\\xea\\xb8\\xb0\\xec\\x82\\xac\\xeb\\xb3\\xb4\\xea\\xb8\\xb0</a\\n>\\n</div>\\n</div>\\n<div\\nclass=\"thumb_box _NM_NEWSSTAND_THUMB _NM_NEWSSTAND_THUMB_press_valid\"\\ndata-pid=\"140\"\\n>\\n<a href=\"#\" class=\"thumb\">\\n<img\\nsrc=\"https://s.pstatic.net/static/newsstand/2020/logo/light/0604/140.png\"\\nheight=\"20\"\\nalt=\"\\xec\\x94\\xa8\\xeb\\x84\\xa421\"\\nclass=\"news_logo\"\\n/>\\n<span class=\"thumb_dim\"></span\\n></a>\\n<div class=\"popup_wrap\">\\n<a\\nhref=\"#\"\\nrole=\"button\"\\nclass=\"btn_popup _NM_NEWSSTAND_THUMB_subscribe_press\"\\ndata-pid=\"140\"\\ndata-clk=\"sub\"\\n>\\xea\\xb5\\xac\\xeb\\x8f\\x85</a\\n>\\n<a\\nhref=\"#\"\\nrole=\"button\"\\nclass=\"btn_popup _NM_NEWSSTAND_THUMB_unsubscribe_press\"\\ndata-pid=\"140\"\\ndata-clk=\"unsub\"\\n>\\xed\\x95\\xb4\\xec\\xa7\\x80</a\\n>\\n<a\\nhref=\"http://newsstand.naver.com/?list=&pcode=140\"\\ntarget=\"_blank\"\\nclass=\"btn_popup\"\\ndata-clk=\"logo\"\\ndata-pid=\"140\"\\n>\\xea\\xb8\\xb0\\xec\\x82\\xac\\xeb\\xb3\\xb4\\xea\\xb8\\xb0</a\\n>\\n</div>\\n</div>\\n<div\\nclass=\"thumb_box _NM_NEWSSTAND_THUMB _NM_NEWSSTAND_THUMB_press_valid\"\\ndata-pid=\"903\"\\n>\\n<a href=\"#\" class=\"thumb\">\\n<img\\nsrc=\"https://s.pstatic.net/static/newsstand/2020/logo/light/0604/903.png\"\\nheight=\"20\"\\nalt=\"\\xec\\xb1\\x84\\xeb\\x84\\x90\\xec\\x97\\x90\\xec\\x9d\\xb4\"\\nclass=\"news_logo\"\\n/>\\n<span class=\"thumb_dim\"></span\\n></a>\\n<div class=\"popup_wrap\">\\n<a\\nhref=\"#\"\\nrole=\"button\"\\nclass=\"btn_popup _NM_NEWSSTAND_THUMB_subscribe_press\"\\ndata-pid=\"903\"\\ndata-clk=\"sub\"\\n>\\xea\\xb5\\xac\\xeb\\x8f\\x85</a\\n>\\n<a\\nhref=\"#\"\\nrole=\"button\"\\nclass=\"btn_popup _NM_NEWSSTAND_THUMB_unsubscribe_press\"\\ndata-pid=\"903\"\\ndata-clk=\"unsub\"\\n>\\xed\\x95\\xb4\\xec\\xa7\\x80</a\\n>\\n<a\\nhref=\"http://newsstand.naver.com/?list=&pcode=903\"\\ntarget=\"_blank\"\\nclass=\"btn_popup\"\\ndata-clk=\"logo\"\\ndata-pid=\"903\"\\n>\\xea\\xb8\\xb0\\xec\\x82\\xac\\xeb\\xb3\\xb4\\xea\\xb8\\xb0</a\\n>\\n</div>\\n</div>\\n<div\\nclass=\"thumb_box _NM_NEWSSTAND_THUMB _NM_NEWSSTAND_THUMB_press_valid\"\\ndata-pid=\"974\"\\n>\\n<a href=\"#\" class=\"thumb\">\\n<img\\nsrc=\"https://s.pstatic.net/static/newsstand/2020/logo/light/0604/974.png\"\\nheight=\"20\"\\nalt=\"BBS NEWS\"\\nclass=\"news_logo\"\\n/>\\n<span class=\"thumb_dim\"></span\\n></a>\\n<div class=\"popup_wrap\">\\n<a\\nhref=\"#\"\\nrole=\"button\"\\nclass=\"btn_popup _NM_NEWSSTAND_THUMB_subscribe_press\"\\ndata-pid=\"974\"\\ndata-clk=\"sub\"\\n>\\xea\\xb5\\xac\\xeb\\x8f\\x85</a\\n>\\n<a\\nhref=\"#\"\\nrole=\"button\"\\nclass=\"btn_popup _NM_NEWSSTAND_THUMB_unsubscribe_press\"\\ndata-pid=\"974\"\\ndata-clk=\"unsub\"\\n>\\xed\\x95\\xb4\\xec\\xa7\\x80</a\\n>\\n<a\\nhref=\"http://newsstand.naver.com/?list=&pcode=974\"\\ntarget=\"_blank\"\\nclass=\"btn_popup\"\\ndata-clk=\"logo\"\\ndata-pid=\"974\"\\n>\\xea\\xb8\\xb0\\xec\\x82\\xac\\xeb\\xb3\\xb4\\xea\\xb8\\xb0</a\\n>\\n</div>\\n</div>\\n</div>\\n</div>\\n</div>\\n  </div> <div class=\"ly_popup NM_NEWSSTAND_POPUP NM_NEWSSTAND_invalid\" style=\"display:none\"> <a href=\"#\" role=\"button\" class=\"btn_close NM_NEWSSTAND_POPUP_CLOSE\"><i class=\"ico_close\"></i><span class=\"blind\">\\xeb\\x8b\\xab\\xea\\xb8\\xb0</span></a> <p class=\"popup_msg\">\\xed\\x95\\xb4\\xeb\\x8b\\xb9 \\xec\\x96\\xb8\\xeb\\xa1\\xa0\\xec\\x82\\xac \\xec\\x82\\xac\\xec\\xa0\\x95\\xec\\x9c\\xbc\\xeb\\xa1\\x9c \\xec\\xa0\\x91\\xea\\xb7\\xbc\\xec\\x9d\\xb4 \\xec\\xa0\\x9c\\xed\\x95\\x9c\\xeb\\x90\\xa9\\xeb\\x8b\\x88\\xeb\\x8b\\xa4.</p> <div class=\"popup_btn\"> <a href=\"#\" role=\"button\" class=\"btn_confirm NM_NEWSSTAND_POPUP_CLOSE\">\\xed\\x99\\x95\\xec\\x9d\\xb8</a> </div> </div> <div class=\"ly_popup NM_NEWSSTAND_POPUP NM_NEWSSTAND_undescribe_confirm\" style=\"display:none\" data-clk-sub=\"*a\"> <a href=\"#\" role=\"button\" class=\"btn_close NM_NEWSSTAND_POPUP_CLOSE\" data-clk=\"usclose\"><i class=\"ico_close\"></i><span class=\"blind\">\\xeb\\x8b\\xab\\xea\\xb8\\xb0</span></a> <p class=\"popup_msg\"><strong class=\"NM_NEWSSTAND_POPUP_PNAME\"></strong>\\xec\\x9d\\x84(\\xeb\\xa5\\xbc)<br/>\\xea\\xb5\\xac\\xeb\\x8f\\x85\\xed\\x95\\xb4\\xec\\xa7\\x80 \\xed\\x95\\x98\\xec\\x8b\\x9c\\xea\\xb2\\xa0\\xec\\x8a\\xb5\\xeb\\x8b\\x88\\xea\\xb9\\x8c?</p> <div class=\"popup_btn\"> <a href=\"#\" role=\"button\" class=\"btn_confirm NM_NEWSSTAND_POPUP_CONFIRM\" data-clk=\"usdone\">\\xed\\x99\\x95\\xec\\x9d\\xb8</a> <a href=\"#\" role=\"button\" class=\"btn_confirm NM_NEWSSTAND_POPUP_CLOSE\" data-clk=\"uscancel\">\\xec\\xb7\\xa8\\xec\\x86\\x8c</a> </div> </div> <div class=\"ly_toast NM_NEWSSTAND_TOAST\" style=\"display:none\"> <p class=\"toast_msg\">\\xea\\xb5\\xac\\xeb\\x8f\\x85\\xed\\x95\\x9c \\xec\\x96\\xb8\\xeb\\xa1\\xa0\\xec\\x82\\xac\\xec\\x97\\x90 \\xec\\xb6\\x94\\xea\\xb0\\x80\\xeb\\x90\\x98\\xec\\x97\\x88\\xec\\x8a\\xb5\\xeb\\x8b\\x88\\xeb\\x8b\\xa4.</p> </div> </div> <div id=\"NM_NEWSSTAND_MY_LIST\" class=\"group_news\" role=\"tabpanel\" style=\"display:none\" data-clk-prefix=\"nsd_myn\"> <a href=\"#\" role=\"button\" class=\"pm_btn_prev_l _NM_NEWSSTAND_LIST_prev_btn\" data-clk-custom=\"prev\"><i class=\"ico_btn\"></i><span class=\"blind\">\\xec\\x9d\\xb4\\xec\\xa0\\x84</span></a> <a href=\"#\" role=\"button\" class=\"pm_btn_next_l _NM_NEWSSTAND_LIST_next_btn\" data-clk-custom=\"next\"><i class=\"ico_btn\"></i><span class=\"blind\">\\xeb\\x8b\\xa4\\xec\\x9d\\x8c</span><span class=\"blind\">\\xeb\\x8b\\xa4\\xec\\x9d\\x8c</span></a> <div class=\"list_view\"> <div class=\"option_area\"> <div class=\"list_option_wrap\"> <ul class=\"list_option _NM_NEWSSTAND_MY_presslist\"> <!-- nvpaperlist:empty --> </ul> </div> </div> <div class=\"_NM_NEWSSTAND_ARTICLE_CONTAINER\" data-clk-sub=\"*a\">  </div> </div> <div class=\"ly_popup NM_NEWSSTAND_POPUP NM_NEWSSTAND_invalid\" style=\"display:none\"> <a href=\"#\" role=\"button\" class=\"btn_close NM_NEWSSTAND_POPUP_CLOSE\"><i class=\"ico_close\"></i><span class=\"blind\">\\xeb\\x8b\\xab\\xea\\xb8\\xb0</span></a> <p class=\"popup_msg\">\\xed\\x95\\xb4\\xeb\\x8b\\xb9 \\xec\\x96\\xb8\\xeb\\xa1\\xa0\\xec\\x82\\xac \\xec\\x82\\xac\\xec\\xa0\\x95\\xec\\x9c\\xbc\\xeb\\xa1\\x9c \\xec\\xa0\\x91\\xea\\xb7\\xbc\\xec\\x9d\\xb4 \\xec\\x9d\\xbc\\xec\\x8b\\x9c \\xec\\xa0\\x9c\\xed\\x95\\x9c\\xeb\\x90\\xa9\\xeb\\x8b\\x88\\xeb\\x8b\\xa4.</p> <div class=\"popup_btn\"> <a href=\"#\" role=\"button\" class=\"btn_confirm NM_NEWSSTAND_POPUP_CLOSE\">\\xed\\x99\\x95\\xec\\x9d\\xb8</a> </div> </div> <div class=\"ly_popup NM_NEWSSTAND_POPUP NM_NEWSSTAND_undescribe_confirm\" style=\"display:none\" data-clk-sub=\"*a\"> <a href=\"#\" role=\"button\" class=\"btn_close NM_NEWSSTAND_POPUP_CLOSE\" data-clk=\"usclose\"><i class=\"ico_close\"></i><span class=\"blind\">\\xeb\\x8b\\xab\\xea\\xb8\\xb0</span></a> <p class=\"popup_msg\"><strong class=\"NM_NEWSSTAND_POPUP_PNAME\"></strong>\\xec\\x9d\\x84(\\xeb\\xa5\\xbc)<br>\\xea\\xb5\\xac\\xeb\\x8f\\x85\\xed\\x95\\xb4\\xec\\xa7\\x80 \\xed\\x95\\x98\\xec\\x8b\\x9c\\xea\\xb2\\xa0\\xec\\x8a\\xb5\\xeb\\x8b\\x88\\xea\\xb9\\x8c?</p> <div class=\"popup_btn\"> <a href=\"#\" role=\"button\" class=\"btn_confirm NM_NEWSSTAND_POPUP_CONFIRM\" data-clk=\"usdone\">\\xed\\x99\\x95\\xec\\x9d\\xb8</a> <a href=\"#\" role=\"button\" class=\"btn_confirm NM_NEWSSTAND_POPUP_CLOSE\" data-clk=\"uscancel\">\\xec\\xb7\\xa8\\xec\\x86\\x8c</a> </div> </div> </div> <div id=\"NM_NEWSSTAND_MY_THUMB\" class=\"group_news\" role=\"tabpanel\" style=\"display:none\" data-clk-prefix=\"nsd_myn\"> <a href=\"#\" role=\"button\" class=\"pm_btn_prev_l _NM_UI_PAGE_PREV\" data-clk-custom=\"prev\"><i class=\"ico_btn\"><span class=\"blind\">\\xec\\x9d\\xb4\\xec\\xa0\\x84</span></i></a> <a href=\"#\" role=\"button\" class=\"pm_btn_next_l _NM_UI_PAGE_NEXT\" data-clk-custom=\"next\"><i class=\"ico_btn\"><span class=\"blind\">\\xeb\\x8b\\xa4\\xec\\x9d\\x8c</span></i></a> <div class=\"_NM_UI_PAGE_CONTAINER\" data-clk-sub=\"*p\"></div> <div class=\"ly_popup NM_NEWSSTAND_POPUP NM_NEWSSTAND_invalid\" style=\"display:none\"> <a href=\"#\" role=\"button\" class=\"btn_close NM_NEWSSTAND_POPUP_CLOSE\"><i class=\"ico_close\"></i><span class=\"blind\">\\xeb\\x8b\\xab\\xea\\xb8\\xb0</span></a> <p class=\"popup_msg\">\\xed\\x95\\xb4\\xeb\\x8b\\xb9 \\xec\\x96\\xb8\\xeb\\xa1\\xa0\\xec\\x82\\xac \\xec\\x82\\xac\\xec\\xa0\\x95\\xec\\x9c\\xbc\\xeb\\xa1\\x9c \\xec\\xa0\\x91\\xea\\xb7\\xbc\\xec\\x9d\\xb4 \\xec\\xa0\\x9c\\xed\\x95\\x9c\\xeb\\x90\\xa9\\xeb\\x8b\\x88\\xeb\\x8b\\xa4.</p> <div class=\"popup_btn\"> <a href=\"#\" role=\"button\" class=\"btn_confirm NM_NEWSSTAND_POPUP_CLOSE\">\\xed\\x99\\x95\\xec\\x9d\\xb8</a> </div> </div> <div class=\"ly_popup NM_NEWSSTAND_POPUP NM_NEWSSTAND_undescribe_confirm\" style=\"display:none\" data-clk-sub=\"*a\"> <a href=\"#\" role=\"button\" class=\"btn_close NM_NEWSSTAND_POPUP_CLOSE\" data-clk=\"usclose\"><i class=\"ico_close\"></i><span class=\"blind\">\\xeb\\x8b\\xab\\xea\\xb8\\xb0</span></a> <p class=\"popup_msg\"><strong class=\"NM_NEWSSTAND_POPUP_PNAME\"></strong>\\xec\\x9d\\x84(\\xeb\\xa5\\xbc)<br>\\xea\\xb5\\xac\\xeb\\x8f\\x85\\xed\\x95\\xb4\\xec\\xa7\\x80 \\xed\\x95\\x98\\xec\\x8b\\x9c\\xea\\xb2\\xa0\\xec\\x8a\\xb5\\xeb\\x8b\\x88\\xea\\xb9\\x8c?</p> <div class=\"popup_btn\"> <a href=\"#\" role=\"button\" class=\"btn_confirm NM_NEWSSTAND_POPUP_CONFIRM\" data-clk=\"usdone\">\\xed\\x99\\x95\\xec\\x9d\\xb8</a> <a href=\"#\" role=\"button\" class=\"btn_confirm NM_NEWSSTAND_POPUP_CLOSE\" data-clk=\"uscancel\">\\xec\\xb7\\xa8\\xec\\x86\\x8c</a> </div> </div> </div> <div id=\"NM_NEWSSTAND_MY_EMPTY\" class=\"group_news\" role=\"tabpanel\" style=\"display:none\"> <div class=\"error_view\"> <div class=\"error_area\"> <strong class=\"error_msg\">\\xea\\xb5\\xac\\xeb\\x8f\\x85\\xed\\x95\\x9c \\xec\\x96\\xb8\\xeb\\xa1\\xa0\\xec\\x82\\xac\\xea\\xb0\\x80 \\xec\\x97\\x86\\xec\\x8a\\xb5\\xeb\\x8b\\x88\\xeb\\x8b\\xa4.</strong> <p class=\"dsc_msg\">\\xec\\x96\\xb8\\xeb\\xa1\\xa0\\xec\\x82\\xac \\xea\\xb5\\xac\\xeb\\x8f\\x85 \\xec\\x84\\xa4\\xec\\xa0\\x95\\xec\\x97\\x90\\xec\\x84\\x9c \\xea\\xb4\\x80\\xec\\x8b\\xac\\xec\\x9e\\x88\\xeb\\x8a\\x94 \\xec\\x96\\xb8\\xeb\\xa1\\xa0\\xec\\x82\\xac\\xeb\\xa5\\xbc \\xea\\xb5\\xac\\xeb\\x8f\\x85\\xed\\x95\\x98\\xec\\x8b\\x9c\\xeb\\xa9\\xb4<br>\\xec\\x96\\xb8\\xeb\\xa1\\xa0\\xec\\x82\\xac\\xea\\xb0\\x80 \\xec\\xa7\\x81\\xec\\xa0\\x91 \\xed\\x8e\\xb8\\xec\\xa7\\x91\\xed\\x95\\x9c \\xeb\\x89\\xb4\\xec\\x8a\\xa4\\xeb\\x93\\xa4\\xec\\x9d\\x84 \\xeb\\x84\\xa4\\xec\\x9d\\xb4\\xeb\\xb2\\x84 \\xed\\x99\\x88\\xec\\x97\\x90\\xec\\x84\\x9c \\xeb\\xb0\\x94\\xeb\\xa1\\x9c \\xeb\\xb3\\xb4\\xec\\x8b\\xa4 \\xec\\x88\\x98 \\xec\\x9e\\x88\\xec\\x8a\\xb5\\xeb\\x8b\\x88\\xeb\\x8b\\xa4.</p> <a href=\"http://newsstand.naver.com/config.html\" class=\"link_redirect\" target=\"_blank\">\\xec\\x96\\xb8\\xeb\\xa1\\xa0\\xec\\x82\\xac \\xea\\xb5\\xac\\xeb\\x8f\\x85 \\xec\\x84\\xa4\\xec\\xa0\\x95\\xed\\x95\\x98\\xea\\xb8\\xb0</a> </div> </div> </div> </div> </div> <!-- EMPTY -->  <div id=\"NM_THEMECAST_CONTENTS_CONTAINER\"> <div id=\"themecast\" class=\"sc_themecast id_livinghome\" >\\n\\t<h2 class=\"blind\">\\xec\\xa3\\xbc\\xec\\xa0\\x9c\\xeb\\xb3\\x84 \\xec\\xba\\x90\\xec\\x8a\\xa4\\xed\\x8a\\xb8</h2>\\n\\t<div class=\"theme_head\">\\n\\t\\t<div class=\"group_title\">\\n\\t<div class=\"title_area\">\\n\\t\\t<strong class=\"title\">\\xec\\x98\\xa4\\xeb\\x8a\\x98 \\xec\\x9d\\xbd\\xec\\x9d\\x84\\xeb\\xa7\\x8c\\xed\\x95\\x9c \\xea\\xb8\\x80</strong><span class=\"dsc\">\\xec\\xa3\\xbc\\xec\\xa0\\x9c\\xeb\\xb3\\x84\\xeb\\xa1\\x9c \\xeb\\xb6\\x84\\xeb\\xa5\\x98\\xeb\\x90\\x9c \\xeb\\x8b\\xa4\\xec\\x96\\x91\\xed\\x95\\x9c \\xea\\xb8\\x80 \\xeb\\xaa\\xa8\\xec\\x9d\\x8c</span>\\n\\t</div>\\n\\t<div class=\"info_area\">\\n\\t\\t\\n\\t\\t\\t<span class=\"info\"><strong class=\"new\">684</strong> \\xea\\xb0\\x9c\\xec\\x9d\\x98 \\xea\\xb8\\x80</span>\\n\\t\\t\\n\\t\\t<a id=\"NM_THEME_EDIT_SET\" href=\"#\" role=\"button\" class=\"btn_set\" data-clk=\"tca.like\">\\xea\\xb4\\x80\\xec\\x8b\\xac\\xec\\xa3\\xbc\\xec\\xa0\\x9c \\xec\\x84\\xa4\\xec\\xa0\\x95</a>\\n\\t</div>\\n</div>\\n<div id=\"NM_THEME_CATE_GROUPS\" class=\"group_category\" data-demo-key=\"default\">\\n\\t<div class=\"main_category\">\\n\\t\\t<a href=\"#\" role=\"button\" class=\"pm_btn_prev NM_THEME_PREV\" data-clk=\"tct.prev\" style=\"display: none;\">\\n\\t\\t\\t<i class=\"ico_btn\"><span class=\"blind\">\\xec\\x9d\\xb4\\xec\\xa0\\x84</span></i>\\n\\t\\t</a>\\n\\t\\t<a href=\"#\" role=\"button\" class=\"pm_btn_next NM_THEME_NEXT\" data-clk=\"tct.next\" style=\"display: none;\">\\n\\t\\t\\t<i class=\"ico_btn\"><span class=\"blind\">\\xeb\\x8b\\xa4\\xec\\x9d\\x8c</span></i>\\n\\t\\t</a>\\n\\t\\t<div class=\"list_category_wrap\">\\n\\t\\t\\t<ul id=\"NM_THEME_CATE_LIST\" class=\"list_category\" role=\"tablist\" data-index=\"0\">\\n\\t\\t\\t\\t\\n\\t\\t\\t\\t\\t<li class=\"category_item\" role=\"presentation\">\\n\\t\\t\\t\\t\\t\\t\\n\\t\\t\\t\\t\\t\\t\\n\\t\\t\\t\\t\\t\\t<a href=\"#\" role=\"tab\" class=\"_NM_THEME_CATE tab id_enter\"\\n\\t\\t\\t\\t\\t\\t   aria-selected=\"false\"\\n\\t\\t\\t\\t\\t\\t   aria-controls=\"NM_THEME_CONTAINER\"\\n\\t\\t\\t\\t\\t\\t   data-clk=\"tct.tvc\" data-panel-code=\"ENTER\">\\xec\\x97\\x94\\xed\\x84\\xb0</a>\\n\\t\\t\\t\\t\\t</li>\\n\\t\\t\\t\\t\\n\\t\\t\\t\\t\\t<li class=\"category_item\" role=\"presentation\">\\n\\t\\t\\t\\t\\t\\t\\n\\t\\t\\t\\t\\t\\t\\n\\t\\t\\t\\t\\t\\t<a href=\"#\" role=\"tab\" class=\"_NM_THEME_CATE tab id_sports\"\\n\\t\\t\\t\\t\\t\\t   aria-selected=\"false\"\\n\\t\\t\\t\\t\\t\\t   aria-controls=\"NM_THEME_CONTAINER\"\\n\\t\\t\\t\\t\\t\\t   data-clk=\"tct.spo\" data-panel-code=\"SPORTS\">\\xec\\x8a\\xa4\\xed\\x8f\\xac\\xec\\xb8\\xa0</a>\\n\\t\\t\\t\\t\\t</li>\\n\\t\\t\\t\\t\\n\\t\\t\\t\\t\\t<li class=\"category_item\" role=\"presentation\">\\n\\t\\t\\t\\t\\t\\t\\n\\t\\t\\t\\t\\t\\t\\n\\t\\t\\t\\t\\t\\t<a href=\"#\" role=\"tab\" class=\"_NM_THEME_CATE tab id_cargame\"\\n\\t\\t\\t\\t\\t\\t   aria-selected=\"false\"\\n\\t\\t\\t\\t\\t\\t   aria-controls=\"NM_THEME_CONTAINER\"\\n\\t\\t\\t\\t\\t\\t   data-clk=\"tct.aut\" data-panel-code=\"CARGAME\">\\xec\\x9e\\x90\\xeb\\x8f\\x99\\xec\\xb0\\xa8</a>\\n\\t\\t\\t\\t\\t</li>\\n\\t\\t\\t\\t\\n\\t\\t\\t\\t\\t<li class=\"category_item\" role=\"presentation\">\\n\\t\\t\\t\\t\\t\\t\\n\\t\\t\\t\\t\\t\\t\\n\\t\\t\\t\\t\\t\\t<a href=\"#\" role=\"tab\" class=\"_NM_THEME_CATE tab id_bboom\"\\n\\t\\t\\t\\t\\t\\t   aria-selected=\"false\"\\n\\t\\t\\t\\t\\t\\t   aria-controls=\"NM_THEME_CONTAINER\"\\n\\t\\t\\t\\t\\t\\t   data-clk=\"tct.web\" data-panel-code=\"BBOOM\">\\xec\\x9b\\xb9\\xed\\x88\\xb0</a>\\n\\t\\t\\t\\t\\t</li>\\n\\t\\t\\t\\t\\n\\t\\t\\t\\t\\t<li class=\"category_item\" role=\"presentation\">\\n\\t\\t\\t\\t\\t\\t\\n\\t\\t\\t\\t\\t\\t\\n\\t\\t\\t\\t\\t\\t<a href=\"#\" role=\"tab\" class=\"_NM_THEME_CATE tab id_finance\"\\n\\t\\t\\t\\t\\t\\t   aria-selected=\"false\"\\n\\t\\t\\t\\t\\t\\t   aria-controls=\"NM_THEME_CONTAINER\"\\n\\t\\t\\t\\t\\t\\t   data-clk=\"tct.fin\" data-panel-code=\"FINANCE\">\\xea\\xb2\\xbd\\xec\\xa0\\x9c</a>\\n\\t\\t\\t\\t\\t</li>\\n\\t\\t\\t\\t\\n\\t\\t\\t\\t\\t<li class=\"category_item\" role=\"presentation\">\\n\\t\\t\\t\\t\\t\\t\\n\\t\\t\\t\\t\\t\\t\\n\\t\\t\\t\\t\\t\\t<a href=\"#\" role=\"tab\" class=\"_NM_THEME_CATE tab id_myfeed\"\\n\\t\\t\\t\\t\\t\\t   aria-selected=\"false\"\\n\\t\\t\\t\\t\\t\\t   aria-controls=\"NM_THEME_CONTAINER\"\\n\\t\\t\\t\\t\\t\\t   data-clk=\"tct.sub\" data-panel-code=\"MYFEED\">\\xec\\xb6\\x94\\xec\\xb2\\x9c<span class=\\'ico_middot\\'></span>\\xea\\xb5\\xac\\xeb\\x8f\\x85</a>\\n\\t\\t\\t\\t\\t</li>\\n\\t\\t\\t\\t\\n\\t\\t\\t\\t\\t<li class=\"category_item\" role=\"presentation\">\\n\\t\\t\\t\\t\\t\\t\\n\\t\\t\\t\\t\\t\\t\\n\\t\\t\\t\\t\\t\\t<a href=\"#\" role=\"tab\" class=\"_NM_THEME_CATE tab id_living\"\\n\\t\\t\\t\\t\\t\\t   aria-selected=\"false\"\\n\\t\\t\\t\\t\\t\\t   aria-controls=\"NM_THEME_CONTAINER\"\\n\\t\\t\\t\\t\\t\\t   data-clk=\"tct.fod\" data-panel-code=\"LIVING\">\\xeb\\xa0\\x88\\xec\\x8b\\x9c\\xed\\x94\\xbc</a>\\n\\t\\t\\t\\t\\t</li>\\n\\t\\t\\t\\t\\n\\t\\t\\t\\t\\t<li class=\"category_item\" role=\"presentation\">\\n\\t\\t\\t\\t\\t\\t\\n\\t\\t\\t\\t\\t\\t\\n\\t\\t\\t\\t\\t\\t<a href=\"#\" role=\"tab\" class=\"_NM_THEME_CATE tab id_livinghome\"\\n\\t\\t\\t\\t\\t\\t   aria-selected=\"true\"\\n\\t\\t\\t\\t\\t\\t   aria-controls=\"NM_THEME_CONTAINER\"\\n\\t\\t\\t\\t\\t\\t   data-clk=\"tct.lif\" data-panel-code=\"LIVINGHOME\">\\xeb\\xa6\\xac\\xeb\\xb9\\x99</a>\\n\\t\\t\\t\\t\\t</li>\\n\\t\\t\\t\\t\\n\\t\\t\\t\\t\\t<li class=\"category_item\" role=\"presentation\">\\n\\t\\t\\t\\t\\t\\t\\n\\t\\t\\t\\t\\t\\t\\n\\t\\t\\t\\t\\t\\t<a href=\"#\" role=\"tab\" class=\"_NM_THEME_CATE tab id_culture\"\\n\\t\\t\\t\\t\\t\\t   aria-selected=\"false\"\\n\\t\\t\\t\\t\\t\\t   aria-controls=\"NM_THEME_CONTAINER\"\\n\\t\\t\\t\\t\\t\\t   data-clk=\"tct.bok\" data-panel-code=\"CULTURE\">\\xec\\xb1\\x85\\xeb\\xb0\\xa9</a>\\n\\t\\t\\t\\t\\t</li>\\n\\t\\t\\t\\t\\n\\t\\t\\t\\t\\t<li class=\"category_item\" role=\"presentation\">\\n\\t\\t\\t\\t\\t\\t\\n\\t\\t\\t\\t\\t\\t\\n\\t\\t\\t\\t\\t\\t<a href=\"#\" role=\"tab\" class=\"_NM_THEME_CATE tab id_beauty\"\\n\\t\\t\\t\\t\\t\\t   aria-selected=\"false\"\\n\\t\\t\\t\\t\\t\\t   aria-controls=\"NM_THEME_CONTAINER\"\\n\\t\\t\\t\\t\\t\\t   data-clk=\"tct.bty\" data-panel-code=\"BEAUTY\">\\xed\\x8c\\xa8\\xec\\x85\\x98\\xeb\\xb7\\xb0\\xed\\x8b\\xb0</a>\\n\\t\\t\\t\\t\\t</li>\\n\\t\\t\\t\\t\\n\\t\\t\\t</ul>\\n\\t\\t</div>\\n\\t</div>\\n</div>\\n\\n\\t</div>\\n\\t<div id=\"NM_THEME_CONTAINER\" class=\"theme_cont\" role=\"tabpanel\" data-panel-code=\"LIVINGHOME\" data-parent-code=\"\">\\n\\t\\t\\n<div class=\"group_theme\" data-block-id=\"\" data-block-code=\"PC-THEME-LIVINGHOME-MOBILE-RANKING-DEFAULT-0\" data-block-type=\"MATERIALS\" data-template-code=\"MOBILE-RANKING-LIST\"\\n\\n\\t data-da=\"container\"\\n\\t data-index=\"\"\\n     data-page=\"1\"\\n\\t >\\n\\n\\t<div class=\"list_theme_wrap\">\\n\\t\\t<ul class=\"list_theme\">\\n\\t\\t\\t\\n\\t\\t\\t\\t<li class=\"theme_item\" data-gdid=\"638dcbff2ea39d00530906c3\" data-da-position=\"true\">\\n\\t\\t\\t\\t\\t<a href=\"https://blog.naver.com/dmswl720/222919616001\" class=\"theme_thumb\" data-clk=\"tcc_lif.list1cont1\" target=\"_blank\">\\n\\t\\t\\t\\t\\t\\t<img src=\"https://s.pstatic.net/dthumb.phinf/?src&#x3D;%22https%3A%2F%2Fs.pstatic.net%2Fshop.phinf%2F20221205_185%2F16702371819656jXov_JPEG%2Ffw.jpg%22&amp;type&#x3D;nf340_228\" data-src=\"https://s.pstatic.net/dthumb.phinf/?src&#x3D;%22https%3A%2F%2Fs.pstatic.net%2Fshop.phinf%2F20221205_185%2F16702371819656jXov_JPEG%2Ffw.jpg%22&amp;type&#x3D;nf340_228\" alt=\"\\xed\\x98\\x84\\xea\\xb4\\x80\\xeb\\xb6\\x80\\xed\\x84\\xb0 \\xec\\xa3\\xbc\\xeb\\xb0\\xa9\\xea\\xb9\\x8c\\xec\\xa7\\x80 \\xeb\\xa6\\xac\\xeb\\xaa\\xa8\\xeb\\x8d\\xb8\\xeb\\xa7\\x81\" width=\"170\" height=\"114\" onerror=\"this.outerHTML=\\'<span class=\\\\\\'pm_noimg\\\\\\'><span class=\\\\\\'noimg_text\\\\\\'>\\xec\\x9d\\xb4\\xeb\\xaf\\xb8\\xec\\xa7\\x80 \\xec\\xa4\\x80\\xeb\\xb9\\x84\\xec\\xa4\\x91</span></span>\\'\">\\n\\t\\t\\t\\t\\t\\t<span class=\"thumb_bd\"></span>\\n                        \\n\\t\\t\\t\\t\\t</a>\\n\\t\\t\\t\\t\\t<a href=\"https://blog.naver.com/dmswl720/222919616001\" class=\"theme_info\" data-clk=\"tcc_lif.list1cont1\" target=\"_blank\">\\n\\t\\t\\t\\t\\t\\t<em class=\"theme_category\"> \\xeb\\xa6\\xac\\xeb\\xb9\\x99</em>\\n\\t\\t\\t\\t\\t\\t<strong class=\"title elss\">\\xed\\x98\\x84\\xea\\xb4\\x80\\xeb\\xb6\\x80\\xed\\x84\\xb0 \\xec\\xa3\\xbc\\xeb\\xb0\\xa9\\xea\\xb9\\x8c\\xec\\xa7\\x80 \\xeb\\xa6\\xac\\xeb\\xaa\\xa8\\xeb\\x8d\\xb8\\xeb\\xa7\\x81</strong>\\n                        <p class=\"desc\">\\xec\\x9d\\xb4\\xeb\\xa0\\x87\\xea\\xb2\\x8c \\xec\\x8b\\x9c\\xea\\xb5\\xad\\xec\\x9d\\xb4 \\xec\\x96\\xb4\\xeb\\xa0\\xa4\\xec\\x9a\\xb8 \\xeb\\x95\\x8c, \\xec\\x9a\\xb0\\xeb\\xa6\\xac\\xec\\x97\\x90\\xea\\xb2\\x8c \\xec\\x9a\\xb0\\xeb\\xa6\\xac\\xec\\xa7\\x91\\xec\\x9d\\xb4 \\xec\\x83\\x9d\\xea\\xb2\\xbc\\xeb\\x8b\\xa4. 2\\xeb\\x85\\x84 \\xec\\xa0\\x84\\xec\\x97\\x90 \\xec\\x8b\\xa4\\xea\\xb1\\xb0\\xec\\xa3\\xbc \\xeb\\xaa\\xa9\\xec\\xa0\\x81\\xec\\x9c\\xbc\\xeb\\xa1\\x9c \\xea\\xb5\\xac\\xec\\x9e\\x85\\xed\\x95\\x9c \\xec\\x95\\x84\\xed\\x8c\\x8c\\xed\\x8a\\xb8\\xec\\x97\\x90 \\xec\\xa0\\x84\\xec\\x84\\xb8 \\xea\\xb8\\xb0\\xea\\xb0\\x84\\xec\\x9d\\xb4 \\xeb\\x81\\x9d\\xeb\\x82\\x98 \\xeb\\x93\\xa4\\xec\\x96\\xb4\\xea\\xb0\\x80\\xea\\xb2\\x8c \\xeb\\x90\\x98\\xec\\x97\\x88\\xeb\\x8b\\xa4. \\xea\\xb2\\xbd\\xec\\xa0\\x9c\\xea\\xb0\\x80 \\xec\\x96\\xb4\\xeb\\xa0\\xa4\\xec\\x9b\\x8c\\xec\\xa7\\x80\\xeb\\x8a\\x94 \\xec\\x8b\\x9c\\xea\\xb5\\xad\\xec\\x9d\\xb4\\xeb\\x9d\\xbc... \\xec\\x97\\x84\\xec\\xb2\\xad \\xec\\x8b\\xac\\xeb\\x9e\\x80\\xed\\x95\\x9c \\xeb\\xa7\\x88\\xec\\x9d\\x8c\\xec\\x9c\\xbc\\xeb\\xa1\\x9c \\xeb\\xa6\\xac\\xeb\\xaa\\xa8\\xeb\\x8d\\xb8\\xeb\\xa7\\x81\\xea\\xb9\\x8c\\xec\\xa7\\x80 \\xeb\\xa7\\x88\\xec\\xb3\\xa4\\xeb\\x8a\\x94\\xeb\\x8d\\xb0, \\xeb\\xad\\x90 \\xeb\\xaf\\xb8\\xeb\\x9e\\x98\\xec\\x9d\\x98 \\xeb\\x82\\xb4\\xea\\xb0\\x80 \\xec\\x97\\xb4\\xec\\x8b\\xac\\xed\\x9e\\x88 \\xeb\\xb2\\x8c\\xec\\x96\\xb4\\xec\\x84\\x9c \\xea\\xb0\\x9a\\xec\\x95\\x84\\xec\\x95\\xbc\\xec\\xa7\\x80 \\xec\\x96\\xb4\\xec\\xa9\\x8c\\xea\\xb2\\xa0\\xeb\\x82\\x98. \\xec\\x9d\\xb4\\xeb\\x9f\\xb4\\xeb\\x95\\x90 \\xea\\xb7\\xb8\\xeb\\x83\\xa5 \\xec\\x97\\xb4\\xec\\x8b\\xac\\xed\\x9e\\x88 \\xec\\x9d\\xbc\\xed\\x95\\x98\\xeb\\xa9\\xb0, \\xed\\x96\\x89\\xeb\\xb3\\xb5\\xed\\x95\\x98\\xea\\xb2\\x8c \\xeb\\x88\\x84\\xeb\\xa6\\xac\\xeb\\x8a\\x94\\xea\\xb2\\x8c \\xec\\xa0\\x95\\xeb\\x8b\\xb5\\xec\\x9d\\xb4\\xec\\xa7\\x80 \\xec\\x8b\\xb6\\xeb\\x8b\\xa4. \\xea\\xb7\\x80\\xec\\x97\\xbc\\xeb\\x91\\xa5\\xec\\x9d\\xb4 \\xea\\xb0\\x90\\xec\\x9e\\x90\\xec\\x99\\x80 \\xed\\x95\\xa8\\xea\\xbb\\x98\\xed\\x95\\x98\\xeb\\x8a\\x94 \\xed\\x96\\x89\\xeb\\xb3\\xb5\\xed\\x95\\x9c \\xec\\x9a\\xb0\\xeb\\xa6\\xac</p>\\n\\t\\t\\t\\t\\t\\t<div class=\"source_box\">\\n\\t\\t\\t\\t\\t\\t\\t<span class=\"date\">1\\xea\\xb0\\x9c\\xec\\x9b\\x94 \\xec\\xa0\\x84</span>\\n\\t\\t\\t\\t\\t\\t\\t<span class=\"source\">\\n                                \\n                                <span class=\"source_inner\">resamong</span>\\n                            </span>\\n\\t\\t\\t\\t\\t\\t</div>\\n\\t\\t\\t\\t\\t</a>\\n\\t\\t\\t\\t</li>\\n\\t\\t\\t\\n\\t\\t\\t\\t<li class=\"theme_item\" data-gdid=\"638ed5dec7a0ae0065275cb2-c0522bb8-ce79-4fbc-9bfc-5d91d58ede19\" data-da-position=\"true\">\\n\\t\\t\\t\\t\\t<a href=\"https://post.naver.com/viewer/postView.naver?volumeNo&#x3D;34844170&amp;memberNo&#x3D;24659848\" class=\"theme_thumb\" data-clk=\"tcc_lif.list1cont2\" target=\"_blank\">\\n\\t\\t\\t\\t\\t\\t<img src=\"https://s.pstatic.net/dthumb.phinf/?src&#x3D;%22https%3A%2F%2Fs.pstatic.net%2Fshop.phinf%2F20221205_43%2F1670237440068Isena_JPEG%2Fws.jpg%22&amp;type&#x3D;nf340_228\" data-src=\"https://s.pstatic.net/dthumb.phinf/?src&#x3D;%22https%3A%2F%2Fs.pstatic.net%2Fshop.phinf%2F20221205_43%2F1670237440068Isena_JPEG%2Fws.jpg%22&amp;type&#x3D;nf340_228\" alt=\"\\xec\\x86\\x8c\\xec\\xa4\\x91\\xed\\x95\\x98\\xea\\xb3\\xa0 \\xec\\x98\\x88\\xec\\x81\\x9c \\xeb\\xb3\\xb4\\xea\\xb8\\x88\\xec\\x9e\\x90\\xeb\\xa6\\xac, \\xec\\x95\\x84\\xec\\x9d\\xb4\\xeb\\x93\\xa4\\xec\\x9d\\x84 \\xec\\x9c\\x84\\xed\\x95\\x9c \\xec\\xa3\\xbc\\xed\\x83\\x9d\" width=\"170\" height=\"114\" onerror=\"this.outerHTML=\\'<span class=\\\\\\'pm_noimg\\\\\\'><span class=\\\\\\'noimg_text\\\\\\'>\\xec\\x9d\\xb4\\xeb\\xaf\\xb8\\xec\\xa7\\x80 \\xec\\xa4\\x80\\xeb\\xb9\\x84\\xec\\xa4\\x91</span></span>\\'\">\\n\\t\\t\\t\\t\\t\\t<span class=\"thumb_bd\"></span>\\n                        \\n\\t\\t\\t\\t\\t</a>\\n\\t\\t\\t\\t\\t<a href=\"https://post.naver.com/viewer/postView.naver?volumeNo&#x3D;34844170&amp;memberNo&#x3D;24659848\" class=\"theme_info\" data-clk=\"tcc_lif.list1cont2\" target=\"_blank\">\\n\\t\\t\\t\\t\\t\\t<em class=\"theme_category\"> \\xeb\\xa6\\xac\\xeb\\xb9\\x99</em>\\n\\t\\t\\t\\t\\t\\t<strong class=\"title elss\">\\xec\\x86\\x8c\\xec\\xa4\\x91\\xed\\x95\\x98\\xea\\xb3\\xa0 \\xec\\x98\\x88\\xec\\x81\\x9c \\xeb\\xb3\\xb4\\xea\\xb8\\x88\\xec\\x9e\\x90\\xeb\\xa6\\xac, \\xec\\x95\\x84\\xec\\x9d\\xb4\\xeb\\x93\\xa4\\xec\\x9d\\x84 \\xec\\x9c\\x84\\xed\\x95\\x9c \\xec\\xa3\\xbc\\xed\\x83\\x9d</strong>\\n                        <p class=\"desc\">\\xe2\\x80\\x98\\xec\\x86\\x8c\\xec\\xa4\\x91\\xed\\x95\\x98\\xea\\xb3\\xa0 \\xec\\x98\\x88\\xec\\x81\\x9c \\xeb\\xb3\\xb4\\xea\\xb8\\x88\\xec\\x9e\\x90\\xeb\\xa6\\xac\\xe2\\x80\\x99\\xeb\\x9d\\xbc\\xeb\\x8a\\x94 \\xec\\x9d\\xb4\\xeb\\xa6\\x84\\xec\\x9d\\x98 \\xea\\xb5\\xb0\\xec\\x82\\xb0 \\xec\\xa3\\xbc\\xed\\x83\\x9d \\xec\\x86\\x8c\\xec\\x98\\x88\\xeb\\xb3\\xb4\\xeb\\x8a\\x94 \\xea\\xb5\\xb0\\xec\\x82\\xb0 \\xec\\x8b\\x9c\\xeb\\x82\\xb4 \\xec\\xa4\\x91\\xec\\x8b\\xac\\xec\\x97\\x90 \\xec\\x9c\\x84\\xec\\xb9\\x98\\xed\\x95\\x9c \\xeb\\x8b\\xa8\\xeb\\x8f\\x85\\xec\\xa3\\xbc\\xed\\x83\\x9d \\xeb\\x8b\\xa8\\xec\\xa7\\x80\\xec\\x97\\x90 \\xec\\x9e\\x88\\xeb\\x8b\\xa4. \\xea\\xb5\\xb0\\xec\\x82\\xb0 \\xec\\x8b\\x9c\\xec\\xb2\\xad, \\xeb\\xa7\\x88\\xed\\x8a\\xb8, \\xeb\\xb3\\x91\\xec\\x9b\\x90 \\xeb\\x93\\xb1 \\xed\\x8e\\xb8\\xec\\x9d\\x98\\xec\\x8b\\x9c\\xec\\x84\\xa4\\xec\\x9d\\xb4 \\xeb\\xaa\\xa8\\xeb\\x91\\x90 \\xec\\x9e\\x98 \\xea\\xb0\\x96\\xec\\xb6\\xb0\\xec\\xa7\\x84 \\xed\\x9b\\x8c\\xeb\\xa5\\xad\\xed\\x95\\x9c \\xec\\x9e\\x85\\xec\\xa7\\x80\\xec\\xa1\\xb0\\xea\\xb1\\xb4\\xec\\x9d\\xb4\\xeb\\x8b\\xa4. \\xec\\x95\\x84\\xec\\x9d\\xb4 \\xeb\\x91\\x98\\xec\\x9d\\x84 \\xeb\\x91\\x94 \\xeb\\xa7\\x9e\\xeb\\xb2\\x8c\\xec\\x9d\\xb4\\xec\\x9d\\xb8 \\xea\\xb1\\xb4\\xec\\xb6\\x95\\xec\\xa3\\xbc \\xeb\\xb6\\x80\\xeb\\xb6\\x80\\xeb\\x8a\\x94 \\xec\\xa3\\xbc\\xeb\\xb3\\x80 \\xed\\x92\\x8d\\xea\\xb2\\xbd\\xec\\x9d\\xb4 \\xec\\x95\\x84\\xeb\\xa6\\x84\\xeb\\x8b\\xa4\\xec\\x9a\\xb4 \\xec\\xa0\\x84\\xec\\x9b\\x90\\xec\\xa3\\xbc\\xed\\x83\\x9d\\xec\\x9d\\x84 \\xec\\x95\\x8c\\xec\\x95\\x84\\xeb\\xb3\\xb4\\xea\\xb8\\xb0\\xeb\\x8f\\x84 \\xed\\x96\\x88\\xec\\x9c\\xbc\\xeb\\x82\\x98 \\xec\\x97\\xac\\xeb\\x9f\\xac \\xec\\x97\\xac\\xea\\xb1\\xb4\\xec\\x9d\\x84 \\xea\\xb3\\xa0\\xeb\\xa0\\xa4\\xed\\x95\\xb4 \\xeb\\x8f\\x84\\xec\\x8b\\xac\\xec\\x97\\x90 \\xec\\x9e\\x88\\xeb\\x8a\\x94 \\xeb\\xaf\\xb8\\xec\\x9e\\xa5\\xeb\\x8f\\x99 \\xeb\\x8b\\xa8\\xeb\\x8f\\x85\\xec\\xa3\\xbc\\xed\\x83\\x9d\\xeb\\x8b\\xa8\\xec\\xa7\\x80\\xeb\\xa5\\xbc \\xec\\x84\\xa0\\xed\\x83\\x9d\\xed\\x96\\x88\\xeb\\x8b\\xa4. \\xec\\x9d\\xb4</p>\\n\\t\\t\\t\\t\\t\\t<div class=\"source_box\">\\n\\t\\t\\t\\t\\t\\t\\t<span class=\"date\">6\\xec\\x9d\\xbc \\xec\\xa0\\x84</span>\\n\\t\\t\\t\\t\\t\\t\\t<span class=\"source\">\\n                                \\n                                <span class=\"source_inner\">\\xec\\xa0\\x84\\xec\\x9b\\x90\\xec\\xa3\\xbc\\xed\\x83\\x9d\\xeb\\x9d\\xbc\\xec\\x9d\\xb4\\xed\\x94\\x84</span>\\n                            </span>\\n\\t\\t\\t\\t\\t\\t</div>\\n\\t\\t\\t\\t\\t</a>\\n\\t\\t\\t\\t</li>\\n\\t\\t\\t\\n\\t\\t\\t\\t<li class=\"theme_item\" data-gdid=\"638dcbff2ea39d00530906c5\" data-da-position=\"true\">\\n\\t\\t\\t\\t\\t<a href=\"https://blog.naver.com/prettylilac/222937119131\" class=\"theme_thumb\" data-clk=\"tcc_lif.list1cont3\" target=\"_blank\">\\n\\t\\t\\t\\t\\t\\t<img src=\"https://s.pstatic.net/dthumb.phinf/?src&#x3D;%22https%3A%2F%2Fs.pstatic.net%2Fshop.phinf%2F20221205_171%2F1670237167044CnlX0_JPEG%2Frfsh.jpg%22&amp;type&#x3D;nf340_228\" data-src=\"https://s.pstatic.net/dthumb.phinf/?src&#x3D;%22https%3A%2F%2Fs.pstatic.net%2Fshop.phinf%2F20221205_171%2F1670237167044CnlX0_JPEG%2Frfsh.jpg%22&amp;type&#x3D;nf340_228\" alt=\"\\xec\\x96\\xb4\\xea\\xb9\\xa8 \\xeb\\x8a\\x98\\xec\\x96\\xb4\\xeb\\x82\\xa8 \\xeb\\xb0\\xa9\\xec\\xa7\\x80, \\xeb\\x8b\\x88\\xed\\x8a\\xb8 \\xec\\x98\\xb7\\xea\\xb1\\xb8\\xec\\x9d\\xb4 \\xea\\xb1\\xb0\\xeb\\x8a\\x94 \\xeb\\xb0\\xa9\\xeb\\xb2\\x95\" width=\"170\" height=\"114\" onerror=\"this.outerHTML=\\'<span class=\\\\\\'pm_noimg\\\\\\'><span class=\\\\\\'noimg_text\\\\\\'>\\xec\\x9d\\xb4\\xeb\\xaf\\xb8\\xec\\xa7\\x80 \\xec\\xa4\\x80\\xeb\\xb9\\x84\\xec\\xa4\\x91</span></span>\\'\">\\n\\t\\t\\t\\t\\t\\t<span class=\"thumb_bd\"></span>\\n                        \\n\\t\\t\\t\\t\\t</a>\\n\\t\\t\\t\\t\\t<a href=\"https://blog.naver.com/prettylilac/222937119131\" class=\"theme_info\" data-clk=\"tcc_lif.list1cont3\" target=\"_blank\">\\n\\t\\t\\t\\t\\t\\t<em class=\"theme_category\"> \\xeb\\xa6\\xac\\xeb\\xb9\\x99</em>\\n\\t\\t\\t\\t\\t\\t<strong class=\"title elss\">\\xec\\x96\\xb4\\xea\\xb9\\xa8 \\xeb\\x8a\\x98\\xec\\x96\\xb4\\xeb\\x82\\xa8 \\xeb\\xb0\\xa9\\xec\\xa7\\x80, \\xeb\\x8b\\x88\\xed\\x8a\\xb8 \\xec\\x98\\xb7\\xea\\xb1\\xb8\\xec\\x9d\\xb4 \\xea\\xb1\\xb0\\xeb\\x8a\\x94 \\xeb\\xb0\\xa9\\xeb\\xb2\\x95</strong>\\n                        <p class=\"desc\">\\xeb\\x8b\\x88\\xed\\x8a\\xb8 \\xec\\x98\\xb7\\xea\\xb1\\xb8\\xec\\x9d\\xb4 \\xea\\xb1\\xb0\\xeb\\x8a\\x94\\xeb\\xb2\\x95 \\xec\\xa0\\x9c\\xea\\xb0\\x80 \\xec\\xa2\\x8b\\xec\\x95\\x84\\xed\\x95\\x98\\xeb\\x8a\\x94 \\xeb\\x8b\\x88\\xed\\x8a\\xb8\\xeb\\xa5\\xbc \\xec\\x8b\\xa4\\xec\\xbb\\xb7 \\xec\\x9e\\x85\\xec\\x9d\\x84 \\xec\\x88\\x98 \\xec\\x9e\\x88\\xeb\\x8a\\x94 \\xea\\xb3\\x84\\xec\\xa0\\x88\\xec\\x9d\\xb8 \\xea\\xb2\\xa8\\xec\\x9a\\xb8\\xec\\x9d\\xb4 \\xec\\x84\\xb1\\xed\\x81\\xbc \\xec\\xb0\\xbe\\xec\\x95\\x84\\xec\\x99\\x94\\xeb\\x84\\xa4\\xec\\x9a\\x94. \\xe3\\x85\\x8e \\xec\\xb6\\x94\\xec\\x9a\\xb4 \\xea\\xb1\\xb4 \\xec\\x8b\\xab\\xec\\xa7\\x80\\xeb\\xa7\\x8c \\xeb\\xb3\\xb4\\xeb\\x93\\xa4\\xed\\x95\\x98\\xea\\xb3\\xa0 \\xeb\\x94\\xb0\\xec\\x88\\x98\\xec\\x9a\\xb4 \\xeb\\x8a\\x90\\xeb\\x82\\x8c\\xec\\x9d\\x98 \\xeb\\x8b\\x88\\xed\\x8a\\xb8\\xeb\\xa5\\xbc \\xec\\x9e\\x85\\xec\\x9d\\x84 \\xec\\x88\\x98 \\xec\\x9e\\x88\\xeb\\x8b\\xa4\\xeb\\x8a\\x94 \\xea\\xb2\\x83 \\xed\\x95\\x98\\xeb\\x82\\x98\\xeb\\xa7\\x8c\\xed\\x81\\xbc\\xec\\x9d\\x80 \\xec\\x95\\x84\\xec\\xa3\\xbc \\xeb\\xa7\\x88\\xec\\x9d\\x8c\\xec\\x97\\x90 \\xeb\\x93\\xa4\\xec\\x96\\xb4\\xec\\x9a\\x94. \\xe3\\x85\\x8b \\xea\\xb7\\xb8\\xeb\\x9e\\x98\\xec\\x84\\x9c \\xea\\xb2\\xa8\\xec\\x9a\\xb8\\xec\\x9d\\xb4 \\xec\\x8b\\x9c\\xec\\x9e\\x91\\xeb\\x90\\x98\\xec\\x9e\\x90 \\xeb\\xa7\\x88\\xec\\x9e\\x90 \\xec\\x95\\xbc\\xea\\xb8\\x88\\xec\\x95\\xbc\\xea\\xb8\\x88 \\xed\\x95\\x98\\xeb\\x82\\x98\\xec\\x94\\xa9 \\xeb\\x8b\\x88\\xed\\x8a\\xb8\\xec\\x87\\xbc\\xed\\x95\\x91\\xec\\x9d\\x84 \\xed\\x95\\x98\\xea\\xb3\\xa0 \\xec\\x9e\\x88\\xeb\\x8a\\x94 \\xec\\x9a\\x94\\xec\\xa6\\x98\\xec\\x9d\\xb4\\xec\\x97\\x90\\xec\\x9a\\x94. \\xe3\\x85\\x8b \\xec\\x9d\\xb4\\xeb\\xb2\\x88\\xec\\x97\\x90 \\xea\\xb5\\xac\\xec\\x9e\\x85\\xed\\x95\\x9c \\xec\\x83\\x81\\xec\\xbd\\xa4\\xed\\x95\\x9c \\xec\\x83\\x89\\xea\\xb0\\x90\\xec\\x9d\\x98 \\xec\\xb4\\x88\\xeb\\xa1\\x9d\\xec\\xa4\\x84\\xeb\\xac\\xb4\\xeb\\x8a\\xac \\xec\\xb9\\xb4\\xeb\\x9d\\xbc \\xec\\x98\\xb7! \\xec\\x98\\xac\\xed\\x95\\xb4\\xec\\x97\\x90\\xeb\\x8a\\x94 \\xec\\x9d\\xb4\\xec\\x83\\x81\\xed\\x95\\x98\\xea\\xb2\\x8c \\xec\\xb4\\x88\\xeb\\xa1\\x9d\\xec\\x83\\x89\\xec\\x97\\x90 </p>\\n\\t\\t\\t\\t\\t\\t<div class=\"source_box\">\\n\\t\\t\\t\\t\\t\\t\\t<span class=\"date\">2\\xec\\xa3\\xbc\\xec\\x9d\\xbc \\xec\\xa0\\x84</span>\\n\\t\\t\\t\\t\\t\\t\\t<span class=\"source\">\\n                                \\n                                <span class=\"source_inner\">\\xec\\xb5\\x9c\\xec\\x86\\x8c\\xec\\x82\\xb4\\xeb\\xa6\\xac\\xeb\\xaf\\xb8</span>\\n                            </span>\\n\\t\\t\\t\\t\\t\\t</div>\\n\\t\\t\\t\\t\\t</a>\\n\\t\\t\\t\\t</li>\\n\\t\\t\\t\\n\\t\\t\\t\\t<li class=\"theme_item\" data-gdid=\"6390097e9197cb005abbde64\" data-da-position=\"true\">\\n\\t\\t\\t\\t\\t<a href=\"https://blog.naver.com/hajhjh01/222882677027\" class=\"theme_thumb\" data-clk=\"tcc_lif.list1cont4\" target=\"_blank\">\\n\\t\\t\\t\\t\\t\\t<img src=\"https://s.pstatic.net/dthumb.phinf/?src&#x3D;%22https%3A%2F%2Fs.pstatic.net%2Fshop.phinf%2F20221206_141%2F1670305101431l3B5h_PNG%2Fher.PNG%22&amp;type&#x3D;nf340_228\" data-src=\"https://s.pstatic.net/dthumb.phinf/?src&#x3D;%22https%3A%2F%2Fs.pstatic.net%2Fshop.phinf%2F20221206_141%2F1670305101431l3B5h_PNG%2Fher.PNG%22&amp;type&#x3D;nf340_228\" alt=\"\\xeb\\x82\\x98\\xeb\\xa7\\x8c\\xec\\x9d\\x98 \\xec\\x95\\x84\\xea\\xb8\\xb0\\xec\\x9e\\x90\\xea\\xb8\\xb0\\xed\\x95\\x9c \\xed\\x99\\x88 \\xec\\xb9\\xb4\\xed\\x8e\\x98\" width=\"170\" height=\"114\" onerror=\"this.outerHTML=\\'<span class=\\\\\\'pm_noimg\\\\\\'><span class=\\\\\\'noimg_text\\\\\\'>\\xec\\x9d\\xb4\\xeb\\xaf\\xb8\\xec\\xa7\\x80 \\xec\\xa4\\x80\\xeb\\xb9\\x84\\xec\\xa4\\x91</span></span>\\'\">\\n\\t\\t\\t\\t\\t\\t<span class=\"thumb_bd\"></span>\\n                        \\n\\t\\t\\t\\t\\t</a>\\n\\t\\t\\t\\t\\t<a href=\"https://blog.naver.com/hajhjh01/222882677027\" class=\"theme_info\" data-clk=\"tcc_lif.list1cont4\" target=\"_blank\">\\n\\t\\t\\t\\t\\t\\t<em class=\"theme_category\"> \\xeb\\xa6\\xac\\xeb\\xb9\\x99</em>\\n\\t\\t\\t\\t\\t\\t<strong class=\"title elss\">\\xeb\\x82\\x98\\xeb\\xa7\\x8c\\xec\\x9d\\x98 \\xec\\x95\\x84\\xea\\xb8\\xb0\\xec\\x9e\\x90\\xea\\xb8\\xb0\\xed\\x95\\x9c \\xed\\x99\\x88 \\xec\\xb9\\xb4\\xed\\x8e\\x98</strong>\\n                        <p class=\"desc\">\\xec\\x98\\xa4\\xeb\\x9e\\x9c \\xec\\xb7\\xa8\\xeb\\xaf\\xb8\\xec\\x9d\\xb8 \\xed\\x99\\x88\\xec\\xb9\\xb4\\xed\\x8e\\x98 \\xec\\xa2\\x8b\\xec\\x95\\x84\\xed\\x95\\x98\\xeb\\x8a\\x94 \\xea\\xb2\\x83\\xeb\\x93\\xa4\\xec\\x9d\\x84 \\xec\\x95\\xbc\\xea\\xb8\\x88\\xec\\x95\\xbc\\xea\\xb8\\x88 \\xec\\x82\\xac\\xeb\\xaa\\xa8\\xec\\x9c\\xbc\\xeb\\x8b\\x88 , \\xec\\x9a\\x94\\xeb\\xa6\\xac\\xec\\xa1\\xb0\\xeb\\xa6\\xac \\xeb\\x91\\x98\\xeb\\x9f\\xac\\xeb\\xb4\\x90\\xeb\\x8f\\x84 \\xec\\xa2\\x8b\\xec\\x95\\x84\\xed\\x95\\x98\\xeb\\x8a\\x94 \\xea\\xb2\\x83\\xeb\\x93\\xa4 \\xec\\xb2\\x9c\\xec\\xa7\\x80\\xeb\\x8b\\xa4. \\xec\\xa1\\xb0\\xea\\xb8\\x88\\xec\\x94\\xa9 \\xeb\\xb0\\x94\\xeb\\x80\\x8c\\xea\\xb8\\xb4 \\xed\\x96\\x88\\xec\\xa7\\x80\\xeb\\xa7\\x8c \\xea\\xb7\\xb8\\xeb\\x9e\\x98\\xeb\\x8f\\x84 \\xea\\xb7\\xb8 \\xeb\\xb6\\x84\\xec\\x9c\\x84\\xea\\xb8\\xb0\\xeb\\x8a\\x94 \\xeb\\xb3\\x80\\xed\\x95\\x98\\xec\\xa7\\x80 \\xec\\x95\\x8a\\xeb\\x8a\\x94\\xea\\xb2\\x8c \\xec\\xb7\\xa8\\xed\\x96\\xa5\\xec\\x9d\\x98 \\xed\\x9e\\x98\\xec\\x9d\\xb8\\xea\\xb0\\x80 \\xec\\x98\\x88\\xec\\x81\\x9c \\xed\\x94\\x8c\\xeb\\xa0\\x88\\xec\\x9d\\xb4\\xed\\x8a\\xb8 , \\xec\\xbb\\xb5 \\xeb\\x93\\xb1 \\xec\\x8b\\x9d\\xea\\xb8\\xb0\\xeb\\xa5\\x98\\xeb\\x93\\xa4 \\xeb\\xb3\\xb4\\xeb\\xa9\\xb4 \\xec\\x96\\xb4\\xeb\\x8a\\x90\\xec\\x83\\x88 \\xea\\xb2\\xb0\\xec\\xa0\\x9c \\xea\\xb2\\xb0\\xec\\xa0\\x9c \\xed\\x95\\x98\\xea\\xb3\\xa0 \\xec\\x9e\\x88\\xeb\\x8a\\x94 \\xeb\\x82\\x98\\xeb\\xa5\\xbc \\xeb\\xb0\\x9c\\xea\\xb2\\xac \\xe3\\x85\\xa0\\xe3\\x85\\xa0 \\xec\\x86\\x8c\\xea\\xb8\\x88\\xeb\\xb9\\xb5 \\xec\\x8a\\xa4\\xed\\x83\\x80\\xec\\x9d\\xbc \\xeb\\xb2\\xa0\\xec\\x9d\\xb4\\xea\\xb8\\x80\\xec\\x97\\x90 \\xeb\\x8b\\xb9\\xea\\xb7\\xbc\\xeb\\x9d\\xbc\\xed\\x8e\\x98 \\xec\\x96\\xb9\\xec\\x96\\xb4 \\xea\\xb0\\x84\\xeb\\x8b\\xa8\\xed\\x95\\x98\\xea\\xb2\\x8c \\xec\\x83\\x8c\\xeb\\x93\\x9c\\xec\\x9c\\x84\\xec\\xb9\\x98 \\xed\\x95\\xb4 \\xeb\\xa8\\xb9\\xea\\xb3\\xa0 , \\xec\\xbb\\xa4\\xed\\x94\\xbc \\xeb\\x82\\xb4\\xeb\\xa0\\xa4 \\xed\\x98\\xbc\\xec\\x9e\\x90\\xeb\\xa7\\x8c\\xec\\x9d\\x98 \\xed\\x99\\x88\\xec\\xb9\\xb4\\xed\\x8e\\x98 \\xec\\x99\\x84\\xec\\x84\\xb1 \\xec\\x9a\\xb0\\xeb\\x93\\x9c\\xec\\x9a\\xb0</p>\\n\\t\\t\\t\\t\\t\\t<div class=\"source_box\">\\n\\t\\t\\t\\t\\t\\t\\t<span class=\"date\">2\\xea\\xb0\\x9c\\xec\\x9b\\x94 \\xec\\xa0\\x84</span>\\n\\t\\t\\t\\t\\t\\t\\t<span class=\"source\">\\n                                \\n                                <span class=\"source_inner\">\\xed\\x9d\\x90\\xec\\x9d\\xb4</span>\\n                            </span>\\n\\t\\t\\t\\t\\t\\t</div>\\n\\t\\t\\t\\t\\t</a>\\n\\t\\t\\t\\t</li>\\n\\t\\t\\t\\n\\t\\t</ul>\\n\\t</div>\\n</div>\\n<div class=\"group_theme\" data-block-id=\"\" data-block-code=\"PC-THEME-LIVINGHOME-MOBILE-RANKING-DEFAULT-1\" data-block-type=\"MATERIALS\" data-template-code=\"MOBILE-RANKING-LIST\"\\n\\n\\t data-da=\"container\"\\n\\t data-index=\"\"\\n     data-page=\"1\"\\n\\t >\\n\\n\\t<div class=\"list_theme_wrap\">\\n\\t\\t<ul class=\"list_theme\">\\n\\t\\t\\t\\n\\t\\t\\t\\t<li class=\"theme_item\" data-gdid=\"6390097e9197cb005abbde66\" data-da-position=\"true\">\\n\\t\\t\\t\\t\\t<a href=\"https://blog.naver.com/sarange2016/222878969382\" class=\"theme_thumb\" data-clk=\"tcc_lif.list2cont1\" target=\"_blank\">\\n\\t\\t\\t\\t\\t\\t<img src=\"https://s.pstatic.net/dthumb.phinf/?src&#x3D;%22https%3A%2F%2Fs.pstatic.net%2Fshop.phinf%2F20221205_283%2F1670236916282P8FLq_JPEG%2Feth.jpg%22&amp;type&#x3D;nf340_228\" data-src=\"https://s.pstatic.net/dthumb.phinf/?src&#x3D;%22https%3A%2F%2Fs.pstatic.net%2Fshop.phinf%2F20221205_283%2F1670236916282P8FLq_JPEG%2Feth.jpg%22&amp;type&#x3D;nf340_228\" alt=\"\\xea\\xb9\\x80\\xec\\xb9\\x98\\xed\\x86\\xb5 &amp; \\xeb\\xb0\\x98\\xec\\xb0\\xac\\xed\\x86\\xb5 \\xeb\\x83\\x84\\xec\\x83\\x88\\xec\\xa0\\x9c\\xea\\xb1\\xb0 3\\xea\\xb0\\x80\\xec\\xa7\\x80 \\xeb\\xb9\\x84\\xea\\xb5\\x90, \\xea\\xb2\\xb0\\xea\\xb3\\xbc\\xeb\\x8a\\x94?\" width=\"170\" height=\"114\" onerror=\"this.outerHTML=\\'<span class=\\\\\\'pm_noimg\\\\\\'><span class=\\\\\\'noimg_text\\\\\\'>\\xec\\x9d\\xb4\\xeb\\xaf\\xb8\\xec\\xa7\\x80 \\xec\\xa4\\x80\\xeb\\xb9\\x84\\xec\\xa4\\x91</span></span>\\'\">\\n\\t\\t\\t\\t\\t\\t<span class=\"thumb_bd\"></span>\\n                        \\n\\t\\t\\t\\t\\t</a>\\n\\t\\t\\t\\t\\t<a href=\"https://blog.naver.com/sarange2016/222878969382\" class=\"theme_info\" data-clk=\"tcc_lif.list2cont1\" target=\"_blank\">\\n\\t\\t\\t\\t\\t\\t<em class=\"theme_category\"> \\xeb\\xa6\\xac\\xeb\\xb9\\x99</em>\\n\\t\\t\\t\\t\\t\\t<strong class=\"title elss\">\\xea\\xb9\\x80\\xec\\xb9\\x98\\xed\\x86\\xb5 & \\xeb\\xb0\\x98\\xec\\xb0\\xac\\xed\\x86\\xb5 \\xeb\\x83\\x84\\xec\\x83\\x88\\xec\\xa0\\x9c\\xea\\xb1\\xb0 3\\xea\\xb0\\x80\\xec\\xa7\\x80 \\xeb\\xb9\\x84\\xea\\xb5\\x90, \\xea\\xb2\\xb0\\xea\\xb3\\xbc\\xeb\\x8a\\x94?</strong>\\n                        <p class=\"desc\">\\xeb\\xb0\\x98\\xec\\xb0\\xac\\xed\\x86\\xb5 \\xeb\\x83\\x84\\xec\\x83\\x88\\xec\\xa0\\x9c\\xea\\xb1\\xb0 \\xc2\\xa9 \\xec\\x86\\x8c\\xec\\x86\\x8c\\xec\\x98\\x88 \\xea\\xb7\\xb8\\xeb\\x8f\\x99\\xec\\x95\\x88 \\xeb\\x84\\xa3\\xec\\x96\\xb4\\xeb\\x91\\x90\\xec\\x97\\x88\\xeb\\x8d\\x98 \\xea\\xb9\\x80\\xec\\xb9\\x98\\xed\\x86\\xb5\\xec\\x9d\\x84 \\xec\\x97\\xb4\\xec\\x97\\x88\\xeb\\x8d\\x94\\xeb\\x8b\\x88 \\xec\\x9c\\xbd..;; \\xec\\x83\\x88\\xeb\\xa1\\x9c \\xeb\\xa7\\x8c\\xeb\\x93\\xa0 \\xeb\\xb0\\x98\\xec\\xb0\\xac\\xec\\x9d\\x84 \\xeb\\x83\\x84\\xec\\x83\\x88\\xeb\\x82\\x98\\xeb\\x8a\\x94 \\xed\\x86\\xb5\\xec\\x97\\x90 \\xeb\\x8b\\xb4\\xec\\x9d\\x84 \\xec\\x88\\x98 \\xec\\x97\\x86\\xec\\xa3\\xa0. \\xec\\xa3\\xbc\\xeb\\xb0\\xa9 \\xec\\x84\\xb8\\xec\\xa0\\x9c\\xeb\\xa1\\x9c \\xec\\x95\\x84\\xeb\\xac\\xb4\\xeb\\xa6\\xac \\xec\\x94\\xbb\\xec\\x96\\xb4\\xeb\\x8f\\x84 \\xed\\x95\\xb4\\xea\\xb2\\xb0\\xec\\x9d\\xb4 \\xec\\x95\\x88 \\xeb\\x8f\\xbc\\xec\\x9a\\x94. \\xea\\xb7\\xb8\\xeb\\x9e\\x98\\xec\\x84\\x9c \\xeb\\xa7\\x8e\\xec\\x9d\\xb4 \\xed\\x95\\x98\\xeb\\x8a\\x94 3\\xea\\xb0\\x80\\xec\\xa7\\x80 \\xeb\\xb0\\xa9\\xeb\\xb2\\x95\\xec\\x9c\\xbc\\xeb\\xa1\\x9c \\xec\\x94\\xbb\\xec\\x96\\xb4\\xeb\\xb4\\xa4\\xec\\x96\\xb4\\xec\\x9a\\x94. \\xea\\xb3\\xbc\\xec\\x97\\xb0 \\xec\\x96\\xb4\\xeb\\x96\\xa4 \\xeb\\xb0\\xa9\\xeb\\xb2\\x95\\xec\\x9d\\xb4 \\xea\\xb0\\x80\\xec\\x9e\\xa5 \\xed\\x9a\\xa8\\xea\\xb3\\xbc\\xea\\xb0\\x80 \\xec\\xa2\\x8b\\xec\\x95\\x98\\xec\\x9d\\x84\\xea\\xb9\\x8c\\xec\\x9a\\x94? \\xea\\xb9\\x80\\xec\\xb9\\x98\\xed\\x86\\xb5 \\xec\\x99\\xb8\\xec\\x97\\x90\\xeb\\x8f\\x84 \\xea\\xbe\\xb8\\xeb\\xa6\\xac \\xed\\x95\\x9c \\xed\\x96\\xa5\\xec\\x9d\\xb4 \\xeb\\xb0\\xb0\\xec\\x9d\\xb8 \\xeb\\x8b\\xa4\\xeb\\xa5\\xb8 \\xed\\x86\\xb5\\xeb\\x93\\xa4\\xeb\\x8f\\x84 \\xeb\\x8d\\x94 \\xeb\\x93\\xa4\\xea\\xb3\\xa0 \\xec\\x99\\x94\\xec\\x96\\xb4\\xec\\x9a\\x94. \\xec\\x97\\xac\\xeb\\x9f\\xac \\xea\\xb0\\x80\\xec\\xa7\\x80 \\xec\\x9d\\x8c\\xec\\x8b\\x9d\\xec\\x9d\\x84 \\xeb\\x8b\\xb4\\xeb\\x8b\\xa4 \\xeb\\xb3\\xb4\\xeb\\x8b\\x88 \\xeb\\x8b\\xa4 \\xec\\x84\\x9e\\xec\\x97\\xac\\xec\\x84\\x9c</p>\\n\\t\\t\\t\\t\\t\\t<div class=\"source_box\">\\n\\t\\t\\t\\t\\t\\t\\t<span class=\"date\">2\\xea\\xb0\\x9c\\xec\\x9b\\x94 \\xec\\xa0\\x84</span>\\n\\t\\t\\t\\t\\t\\t\\t<span class=\"source\">\\n                                \\n                                <span class=\"source_inner\">\\xec\\x86\\x8c\\xec\\x86\\x8c\\xec\\x98\\x88</span>\\n                            </span>\\n\\t\\t\\t\\t\\t\\t</div>\\n\\t\\t\\t\\t\\t</a>\\n\\t\\t\\t\\t</li>\\n\\t\\t\\t\\n\\t\\t\\t\\t<li class=\"theme_item\" data-gdid=\"6390095093445a005372763f\" data-da-position=\"true\">\\n\\t\\t\\t\\t\\t<a href=\"https://blog.naver.com/shkm0507/222864451957\" class=\"theme_thumb\" data-clk=\"tcc_lif.list2cont2\" target=\"_blank\">\\n\\t\\t\\t\\t\\t\\t<img src=\"https://s.pstatic.net/dthumb.phinf/?src&#x3D;%22https%3A%2F%2Fs.pstatic.net%2Fshop.phinf%2F20221206_20%2F1670314317652VbWhw_JPEG%2FIMG_6078.jpg%22&amp;type&#x3D;nf340_228\" data-src=\"https://s.pstatic.net/dthumb.phinf/?src&#x3D;%22https%3A%2F%2Fs.pstatic.net%2Fshop.phinf%2F20221206_20%2F1670314317652VbWhw_JPEG%2FIMG_6078.jpg%22&amp;type&#x3D;nf340_228\" alt=\"\\xeb\\x8b\\xa4\\xec\\x96\\x91\\xed\\x95\\x9c \\xec\\x86\\x8c\\xed\\x92\\x88\\xeb\\x93\\xa4\\xeb\\xa1\\x9c \\xec\\xb1\\x84\\xec\\x9a\\xb4 \\xea\\xb1\\xb0\\xec\\x8b\\xa4\" width=\"170\" height=\"114\" onerror=\"this.outerHTML=\\'<span class=\\\\\\'pm_noimg\\\\\\'><span class=\\\\\\'noimg_text\\\\\\'>\\xec\\x9d\\xb4\\xeb\\xaf\\xb8\\xec\\xa7\\x80 \\xec\\xa4\\x80\\xeb\\xb9\\x84\\xec\\xa4\\x91</span></span>\\'\">\\n\\t\\t\\t\\t\\t\\t<span class=\"thumb_bd\"></span>\\n                        \\n\\t\\t\\t\\t\\t</a>\\n\\t\\t\\t\\t\\t<a href=\"https://blog.naver.com/shkm0507/222864451957\" class=\"theme_info\" data-clk=\"tcc_lif.list2cont2\" target=\"_blank\">\\n\\t\\t\\t\\t\\t\\t<em class=\"theme_category\"> \\xeb\\xa6\\xac\\xeb\\xb9\\x99</em>\\n\\t\\t\\t\\t\\t\\t<strong class=\"title elss\">\\xeb\\x8b\\xa4\\xec\\x96\\x91\\xed\\x95\\x9c \\xec\\x86\\x8c\\xed\\x92\\x88\\xeb\\x93\\xa4\\xeb\\xa1\\x9c \\xec\\xb1\\x84\\xec\\x9a\\xb4 \\xea\\xb1\\xb0\\xec\\x8b\\xa4</strong>\\n                        <p class=\"desc\">\\xec\\xa7\\x91\\xea\\xbe\\xb8\\xeb\\xaf\\xb8\\xea\\xb8\\xb0 \\xec\\x95\\x88\\xeb\\x85\\x95\\xed\\x95\\x98\\xec\\x84\\xb8\\xec\\x9a\\x94. \\xed\\x9d\\xac\\xed\\x9d\\xac\\xed\\x9d\\xac\\xeb\\x84\\xa4 \\xec\\x9e\\x85\\xeb\\x8b\\x88\\xeb\\x8b\\xa4 :) \\xec\\x9d\\xb4\\xeb\\xb2\\x88\\xec\\x97\\x90\\xeb\\x8a\\x94 \\xea\\xb1\\xb0\\xec\\x8b\\xa4 \\xeb\\xaa\\xa8\\xec\\x8a\\xb5\\xec\\x9d\\x84 \\xea\\xb8\\xb0\\xeb\\xa1\\x9d\\xed\\x95\\xb4\\xeb\\xb3\\xb4\\xeb\\xa0\\xa4\\xea\\xb3\\xa0\\xed\\x95\\xb4\\xec\\x9a\\x94. \\xec\\x9e\\x85\\xec\\xa3\\xbc\\xeb\\xa5\\xbc \\xed\\x95\\x98\\xea\\xb3\\xa0 1\\xeb\\x85\\x84\\xec\\x9d\\xb4 \\xed\\x9b\\x84\\xeb\\x8b\\xa4\\xeb\\x8b\\xa5 \\xec\\xa7\\x80\\xeb\\x82\\x98\\xea\\xb0\\x94\\xeb\\x84\\xa4\\xec\\x9a\\x94. \\xea\\xb7\\xb8\\xeb\\xa7\\x8c\\xed\\x81\\xbc \\xeb\\xb3\\x80\\xed\\x99\\x94\\xed\\x95\\x98\\xeb\\xa9\\xb0 \\xec\\xb0\\xbe\\xec\\x95\\x84\\xea\\xb0\\x80\\xeb\\x8a\\x94 \\xec\\xa0\\x9c \\xec\\xb7\\xa8\\xed\\x96\\xa5\\xeb\\x8f\\x84 \\xec\\xa7\\x84\\xed\\x95\\xb4\\xec\\xa7\\x80\\xea\\xb3\\xa0\\xec\\x9e\\x88\\xec\\x96\\xb4\\xec\\x9a\\x94. \\xec\\xa7\\x91 \\xea\\xb8\\xb0\\xeb\\xa1\\x9d\\xec\\x9d\\x84 \\xed\\x95\\x98\\xea\\xb8\\xb0 \\xec\\x8b\\x9c\\xec\\x9e\\x91\\xed\\x95\\x98\\xeb\\xa9\\xb4\\xec\\x84\\x9c \\xec\\xa2\\x8b\\xec\\x9d\\x80 \\xea\\xb8\\xb0\\xed\\x9a\\x8c\\xea\\xb0\\x80 \\xeb\\xa7\\x8e\\xec\\x9d\\xb4 \\xec\\x83\\x9d\\xea\\xb2\\xbc\\xeb\\x8d\\x98 \\xea\\xb2\\x83 \\xea\\xb0\\x99\\xec\\x95\\x84\\xec\\x9a\\x94. \\xeb\\x84\\xa4\\xec\\x9d\\xb4\\xeb\\xb2\\x84 \\xeb\\xa6\\xac\\xeb\\xb9\\x99\\xed\\x8c\\x90 \\xeb\\xa9\\x94\\xec\\x9d\\xb8 \\xec\\xa7\\x91\\xea\\xbe\\xb8\\xeb\\xaf\\xb8\\xea\\xb8\\xb0 \\xec\\xa7\\x91\\xec\\x86\\x8c\\xea\\xb0\\x9c \\xec\\x98\\xa4\\xeb\\x8a\\x98\\xec\\x9d\\x98\\xec\\xa7\\x91 \\xeb\\x85\\xb8\\xed\\x95\\x98\\xec\\x9a\\xb0 \\xec\\x86\\x8c\\xea\\xb0\\x9c\\xea\\xb9\\x8c\\xec\\xa7\\x80! \\xec\\x98\\xa4\\xed\\x95\\x98\\xec\\x9a\\xb0\\xec\\x8a\\xa4 \\xec\\x8b\\x9c\\xec\\xa6\\x8c6,7 \\xeb\\xa9\\xa4\\xeb\\xb2\\x84\\xeb\\xa1\\x9c \\xed\\x99\\x9c\\xeb\\x8f\\x99\\xeb\\x8f\\x84 \\xed\\x95\\x98\\xea\\xb2\\x8c\\xeb\\x90\\x98\\xec\\x96\\xb4 \\xea\\xb8\\xb0\\xeb\\xa1\\x9d\\xec\\x9d\\xb4 \\xec\\x9d\\xbc\\xec\\x83\\x81\\xec\\x9d\\xb4\\xeb\\x90\\x98</p>\\n\\t\\t\\t\\t\\t\\t<div class=\"source_box\">\\n\\t\\t\\t\\t\\t\\t\\t<span class=\"date\">3\\xea\\xb0\\x9c\\xec\\x9b\\x94 \\xec\\xa0\\x84</span>\\n\\t\\t\\t\\t\\t\\t\\t<span class=\"source\">\\n                                \\n                                <span class=\"source_inner\">\\xed\\x9d\\xac</span>\\n                            </span>\\n\\t\\t\\t\\t\\t\\t</div>\\n\\t\\t\\t\\t\\t</a>\\n\\t\\t\\t\\t</li>\\n\\t\\t\\t\\n\\t\\t\\t\\t<li class=\"theme_item\" data-gdid=\"6390095093445a0053727640\" data-da-position=\"true\">\\n\\t\\t\\t\\t\\t<a href=\"https://blog.naver.com/dlawls3429/222944133829\" class=\"theme_thumb\" data-clk=\"tcc_lif.list2cont3\" target=\"_blank\">\\n\\t\\t\\t\\t\\t\\t<img src=\"https://s.pstatic.net/dthumb.phinf/?src&#x3D;%22https%3A%2F%2Fs.pstatic.net%2Fshop.phinf%2F20221206_258%2F1670314320675TLqat_JPEG%2F19.jpg%22&amp;type&#x3D;nf340_228\" data-src=\"https://s.pstatic.net/dthumb.phinf/?src&#x3D;%22https%3A%2F%2Fs.pstatic.net%2Fshop.phinf%2F20221206_258%2F1670314320675TLqat_JPEG%2F19.jpg%22&amp;type&#x3D;nf340_228\" alt=\"1.5\\xeb\\xa3\\xb8 \\xed\\x95\\x98\\xec\\x9a\\xb0\\xec\\x8a\\xa4\\xeb\\xa5\\xbc \\xed\\x9a\\xa8\\xec\\x9c\\xa8\\xec\\xa0\\x81\\xec\\x9c\\xbc\\xeb\\xa1\\x9c \\xec\\x93\\xb0\\xea\\xb8\\xb0 \\xec\\x9c\\x84\\xed\\x95\\x9c \\xea\\xb3\\xb5\\xea\\xb0\\x84 \\xeb\\xb6\\x84\\xeb\\xa6\\xac \\xed\\x8c\\x81\" width=\"170\" height=\"114\" onerror=\"this.outerHTML=\\'<span class=\\\\\\'pm_noimg\\\\\\'><span class=\\\\\\'noimg_text\\\\\\'>\\xec\\x9d\\xb4\\xeb\\xaf\\xb8\\xec\\xa7\\x80 \\xec\\xa4\\x80\\xeb\\xb9\\x84\\xec\\xa4\\x91</span></span>\\'\">\\n\\t\\t\\t\\t\\t\\t<span class=\"thumb_bd\"></span>\\n                        \\n\\t\\t\\t\\t\\t</a>\\n\\t\\t\\t\\t\\t<a href=\"https://blog.naver.com/dlawls3429/222944133829\" class=\"theme_info\" data-clk=\"tcc_lif.list2cont3\" target=\"_blank\">\\n\\t\\t\\t\\t\\t\\t<em class=\"theme_category\"> \\xeb\\xa6\\xac\\xeb\\xb9\\x99</em>\\n\\t\\t\\t\\t\\t\\t<strong class=\"title elss\">1.5\\xeb\\xa3\\xb8 \\xed\\x95\\x98\\xec\\x9a\\xb0\\xec\\x8a\\xa4\\xeb\\xa5\\xbc \\xed\\x9a\\xa8\\xec\\x9c\\xa8\\xec\\xa0\\x81\\xec\\x9c\\xbc\\xeb\\xa1\\x9c \\xec\\x93\\xb0\\xea\\xb8\\xb0 \\xec\\x9c\\x84\\xed\\x95\\x9c \\xea\\xb3\\xb5\\xea\\xb0\\x84 \\xeb\\xb6\\x84\\xeb\\xa6\\xac \\xed\\x8c\\x81</strong>\\n                        <p class=\"desc\">\\xec\\x98\\xa4\\xeb\\x8a\\x98\\xec\\x9d\\x80 \\xec\\xa0\\x80\\xed\\x9d\\xac\\xec\\xa7\\x91 \\xec\\x9d\\xb8\\xed\\x85\\x8c\\xeb\\xa6\\xac\\xec\\x96\\xb4\\xeb\\xa5\\xbc \\xeb\\xb3\\xb4\\xec\\x97\\xac\\xeb\\x93\\x9c\\xeb\\xa6\\xac\\xeb\\xa0\\xa4\\xea\\xb3\\xa0 \\xed\\x95\\xb4\\xec\\x9a\\x94~! \\xec\\x9a\\xb0\\xec\\x84\\xa0 \\xec\\x9d\\xb4\\xec\\xa7\\x91\\xec\\x9d\\x84 \\xec\\x98\\xa4\\xea\\xb2\\x8c \\xeb\\x90\\x9c \\xea\\xb1\\xb4 1\\xeb\\x85\\x84\\xec\\xa0\\x84\\xec\\x9d\\xb4\\xec\\x97\\x90\\xec\\x9a\\x94 \\xe3\\x85\\x8e\\xe3\\x85\\x8e \\xea\\xb7\\xb8\\xeb\\x8f\\x99\\xec\\x95\\x88 \\xec\\xa0\\x95\\xeb\\xa7\\x90 \\xeb\\xa7\\x8e\\xec\\x9d\\x80 \\xec\\x9d\\xb8\\xed\\x85\\x8c\\xeb\\xa6\\xac\\xec\\x96\\xb4\\xea\\xb0\\x80 \\xeb\\xb0\\x94\\xeb\\x80\\x8c\\xec\\x97\\x88\\xea\\xb3\\xa0 \\xed\\x8c\\x8c\\xed\\x8b\\xb0\\xec\\x85\\x98\\xec\\x9d\\x84 \\xec\\x9d\\xb4\\xec\\x9a\\xa9\\xed\\x95\\xb4\\xec\\x84\\x9c \\xeb\\x8b\\xa4\\xec\\x9d\\xb4\\xeb\\x8b\\x9d\\xeb\\xa3\\xb8\\xea\\xb3\\xbc \\xeb\\xaf\\xb8\\xeb\\x8b\\x88\\xec\\x9e\\x91\\xec\\x97\\x85\\xec\\x8b\\xa4\\xec\\x9d\\x84 \\xeb\\x82\\x98\\xeb\\x88\\x84\\xec\\x97\\x88\\xec\\x96\\xb4\\xec\\x9a\\x94 \\xea\\xb3\\xb5\\xea\\xb0\\x84\\xec\\x9d\\xb4 \\xed\\x81\\xac\\xec\\xa7\\x80\\xeb\\x8a\\x94 \\xec\\x95\\x8a\\xec\\xa7\\x80\\xeb\\xa7\\x8c \\xec\\x99\\x84\\xec\\x84\\xb1\\xec\\x8b\\x9c\\xed\\x82\\xa8 \\xea\\xb8\\xb0\\xec\\x81\\xa8\\xec\\x9d\\x80 \\xec\\xa0\\x95\\xeb\\xa7\\x90 \\xed\\x81\\xb0 \\xea\\xb2\\x83 \\xea\\xb0\\x99\\xec\\x95\\x84\\xec\\x9a\\x94. \\xec\\xa0\\x80\\xed\\x9d\\xac\\xec\\xa7\\x91\\xec\\x97\\x90 \\xec\\xb2\\x98\\xec\\x9d\\x8c\\xec\\x99\\x94\\xec\\x9d\\x84 \\xeb\\x95\\x8c \\xeb\\xaa\\xa8\\xec\\x8a\\xb5\\xec\\x9d\\xb4\\xec\\x97\\x90\\xec\\x9a\\x94. \\xec\\xa0\\x80\\xed\\x9d\\xac\\xec\\xa7\\x91\\xec\\x9d\\x80 1.5\\xeb\\xa3\\xb8\\xec\\x9d\\xb8\\xeb\\x8d\\xb0 \\xec\\x95\\x88\\xeb\\xb0\\xa9\\xea\\xb3\\xbc \\xea\\xb1\\xb0\\xec\\x8b\\xa4\\xeb\\xaa\\xa8\\xeb\\x91\\x90 \\xeb\\xa9\\x8b\\xec\\xa7\\x84 \\xeb\\xb7\\xb0\\xea\\xb0\\x80 \\xec\\x9e\\x88\\xec\\x96\\xb4\\xec\\x84\\x9c \\xec\\x98\\xa4\\xec\\x9e\\x90\\xeb\\xa7\\x88\\xec\\x9e\\x90 \\xeb\\xb0\\x98\\xed\\x96\\x88\\xeb\\x8b\\xb5\\xeb\\x8b\\x88\\xeb\\x8b\\xa4. \\xea\\xb8\\xb0\\xec\\xa1\\xb4\\xec\\x97\\x90 \\xec\\x82\\xb4</p>\\n\\t\\t\\t\\t\\t\\t<div class=\"source_box\">\\n\\t\\t\\t\\t\\t\\t\\t<span class=\"date\">1\\xec\\xa3\\xbc\\xec\\x9d\\xbc \\xec\\xa0\\x84</span>\\n\\t\\t\\t\\t\\t\\t\\t<span class=\"source\">\\n                                \\n                                <span class=\"source_inner\">\\xea\\xb0\\x93\\xec\\xb0\\x8c\\xeb\\x87\\xbd</span>\\n                            </span>\\n\\t\\t\\t\\t\\t\\t</div>\\n\\t\\t\\t\\t\\t</a>\\n\\t\\t\\t\\t</li>\\n\\t\\t\\t\\n\\t\\t\\t\\t<li class=\"theme_item\" data-gdid=\"6390095093445a0053727641\" data-da-position=\"true\">\\n\\t\\t\\t\\t\\t<a href=\"https://blog.naver.com/s_yuni/222943365117\" class=\"theme_thumb\" data-clk=\"tcc_lif.list2cont4\" target=\"_blank\">\\n\\t\\t\\t\\t\\t\\t<img src=\"https://s.pstatic.net/dthumb.phinf/?src&#x3D;%22https%3A%2F%2Fs.pstatic.net%2Fshop.phinf%2F20221205_89%2F1670236567238Ozteh_JPEG%2Fop.jpg%22&amp;type&#x3D;nf340_228\" data-src=\"https://s.pstatic.net/dthumb.phinf/?src&#x3D;%22https%3A%2F%2Fs.pstatic.net%2Fshop.phinf%2F20221205_89%2F1670236567238Ozteh_JPEG%2Fop.jpg%22&amp;type&#x3D;nf340_228\" alt=\"\\xec\\x9e\\x90\\xec\\xb7\\xa8\\xec\\x83\\x9d\\xec\\x9d\\xb4 \\xec\\xb6\\x94\\xec\\xb2\\x9c\\xed\\x95\\x98\\xeb\\x8a\\x94 \\xec\\x86\\x8c\\xec\\x86\\x8c\\xed\\x95\\x9c \\xeb\\xa6\\xac\\xeb\\xb9\\x99\\xec\\x9e\\x87\\xed\\x85\\x9c #\\xec\\x83\\x9d\\xed\\x99\\x9c\\xec\\x9a\\xa9\\xed\\x92\\x88\" width=\"170\" height=\"114\" onerror=\"this.outerHTML=\\'<span class=\\\\\\'pm_noimg\\\\\\'><span class=\\\\\\'noimg_text\\\\\\'>\\xec\\x9d\\xb4\\xeb\\xaf\\xb8\\xec\\xa7\\x80 \\xec\\xa4\\x80\\xeb\\xb9\\x84\\xec\\xa4\\x91</span></span>\\'\">\\n\\t\\t\\t\\t\\t\\t<span class=\"thumb_bd\"></span>\\n                        \\n\\t\\t\\t\\t\\t</a>\\n\\t\\t\\t\\t\\t<a href=\"https://blog.naver.com/s_yuni/222943365117\" class=\"theme_info\" data-clk=\"tcc_lif.list2cont4\" target=\"_blank\">\\n\\t\\t\\t\\t\\t\\t<em class=\"theme_category\"> \\xeb\\xa6\\xac\\xeb\\xb9\\x99</em>\\n\\t\\t\\t\\t\\t\\t<strong class=\"title elss\">\\xec\\x9e\\x90\\xec\\xb7\\xa8\\xec\\x83\\x9d\\xec\\x9d\\xb4 \\xec\\xb6\\x94\\xec\\xb2\\x9c\\xed\\x95\\x98\\xeb\\x8a\\x94 \\xec\\x86\\x8c\\xec\\x86\\x8c\\xed\\x95\\x9c \\xeb\\xa6\\xac\\xeb\\xb9\\x99\\xec\\x9e\\x87\\xed\\x85\\x9c #\\xec\\x83\\x9d\\xed\\x99\\x9c\\xec\\x9a\\xa9\\xed\\x92\\x88</strong>\\n                        <p class=\"desc\">FYI \\xec\\x9d\\xb4 \\xed\\x8f\\xac\\xec\\x8a\\xa4\\xed\\x8c\\x85\\xec\\x9d\\x80 1\\xeb\\x85\\x84 \\xec\\xa0\\x84.. \\xeb\\x84\\xa4\\xec\\x9d\\xb4\\xeb\\xb2\\x84\\xec\\x97\\x90\\xec\\x84\\x9c \\xeb\\xa6\\xac\\xeb\\xb9\\x99\\xec\\x9e\\x87\\xed\\x85\\x9c\\xec\\x9d\\x84 \\xec\\xa3\\xbc\\xec\\xa0\\x9c\\xeb\\xa1\\x9c \\xec\\x9d\\xb4\\xeb\\xb2\\xa4\\xed\\x8a\\xb8\\xea\\xb0\\x80 \\xec\\x9e\\x88\\xec\\x96\\xb4\\xec\\x84\\x9c \\xec\\x9e\\x91\\xec\\x84\\xb1\\xed\\x95\\x9c \\xea\\xb8\\x80\\xec\\x9d\\xb8\\xeb\\x8d\\xb0, \\xec\\x96\\xb4\\xec\\xa9\\x90\\xec\\x9d\\xbc\\xec\\x9d\\xb8\\xec\\xa7\\x80 \\xec\\x93\\xb0\\xeb\\x8b\\xa4\\xea\\xb0\\x80 \\xeb\\xa7\\x88\\xea\\xb0\\x90\\xec\\x8b\\x9c\\xea\\xb0\\x84\\xec\\x9d\\x84 \\xeb\\x86\\x93\\xec\\xb3\\xa4\\xeb\\x82\\x98? \\xed\\x95\\x98\\xec\\x97\\xac\\xed\\x8a\\xbc \\xea\\xb7\\xb8\\xeb\\x9e\\x98\\xec\\x84\\x9c \\xec\\x9e\\x84\\xec\\x8b\\x9c\\xeb\\xb3\\xb4\\xea\\xb4\\x80\\xed\\x95\\xa8\\xec\\x97\\x90 \\xeb\\xac\\xb5\\xed\\x98\\x80\\xec\\x9e\\x88\\xeb\\x8d\\x98 \\xea\\xb8\\x80\\xec\\x9d\\xb4\\xeb\\x8b\\xa4^^; \\xed\\x98\\x84\\xec\\x9e\\xac\\xeb\\x8a\\x94 \\xed\\x96\\x89\\xeb\\xb3\\xb5\\xec\\xa3\\xbc\\xed\\x83\\x9d\\xec\\x9d\\x84 \\xeb\\x96\\xa0\\xeb\\x82\\x98 \\xeb\\xb3\\xb8\\xea\\xb0\\x80\\xeb\\xa1\\x9c \\xeb\\x8f\\x8c\\xec\\x95\\x84\\xec\\x99\\x94\\xeb\\x8b\\xa4. \\xec\\x9e\\x90\\xec\\xb7\\xa8 \\xeb\\x8b\\xb9\\xec\\x8b\\x9c\\xec\\x9d\\x98 \\xec\\x9d\\xb4\\xec\\x95\\xbc\\xea\\xb8\\xb0\\xea\\xb0\\x80 \\xeb\\x8b\\xb4\\xea\\xb8\\xb4 \\xea\\xb8\\x80\\xec\\x9d\\xb4\\xeb\\x9d\\xbc \\xec\\xa7\\x80\\xea\\xb8\\x88 \\xec\\x99\\x80\\xec\\x84\\x9c \\xeb\\xb3\\xb4\\xeb\\x8b\\x88 \\xec\\x9e\\xac\\xeb\\xb0\\x8c\\xeb\\x8b\\xa4. \\xec\\x95\\x84\\xeb\\xac\\xb4\\xed\\x8a\\xbc \\xec\\x9e\\x84\\xec\\x8b\\x9c\\xeb\\xb3\\xb4\\xea\\xb4\\x80\\xed\\x95\\xa8 \\xec\\xa0\\x95\\xeb\\xa6\\xac\\xeb\\x8f\\x84 \\xed\\x95\\xa0 \\xea\\xb2\\xb8 \\xec\\x98\\xac\\xeb\\xa0\\xa4\\xeb\\xb4\\x85\\xeb\\x8b\\x88\\xeb\\x8b\\xa4. ^-^ \\xec\\x86\\x8c\\xec\\x86\\x8c\\xed\\x95\\x9c \\xec\\x9e\\x90\\xec\\xb7\\xa8\\xed\\x85\\x9c \\xec\\xb6\\x94\\xec\\xb2\\x9c\\xea\\xb8\\x80 \\xea\\xb2\\xb8 \\xec\\xa7\\x80</p>\\n\\t\\t\\t\\t\\t\\t<div class=\"source_box\">\\n\\t\\t\\t\\t\\t\\t\\t<span class=\"date\">1\\xec\\xa3\\xbc\\xec\\x9d\\xbc \\xec\\xa0\\x84</span>\\n\\t\\t\\t\\t\\t\\t\\t<span class=\"source\">\\n                                \\n                                <span class=\"source_inner\">\\xec\\x9c\\xa0\\xeb\\x8b\\x88</span>\\n                            </span>\\n\\t\\t\\t\\t\\t\\t</div>\\n\\t\\t\\t\\t\\t</a>\\n\\t\\t\\t\\t</li>\\n\\t\\t\\t\\n\\t\\t</ul>\\n\\t</div>\\n</div>\\n<div class=\"group_theme _NM_API_UI\" data-ui-circular=\"false\" data-block-id=\"5edf1cb2d6902f284e3b826d\" data-block-code=\"\" data-block-type=\"BLOCKS\" data-template-code=\"FLICKING-IMAGE3\"\\n\\n    >\\n    <div class=\"theme_title\">\\n        <a href=\"https://happybean.naver.com/\" class=\"title\" target=\"_blank\"\\n            data-clk=\"tcc_lif.happytitle\">\\xec\\x98\\xa4\\xeb\\x8a\\x98 \\xea\\xb0\\x80\\xec\\x9e\\xa5 \\xeb\\x94\\xb0\\xeb\\x9c\\xbb\\xed\\x95\\x9c \\xed\\x81\\xb4\\xeb\\xa6\\xad</a>\\n    </div>\\n    <div class=\" media_view_wrap type_flick\">\\n        <a href=\"#\" role=\"button\" class=\"pm_btn_prev _NM_UI_PAGE_PREV\" data-clk=\"tcc_lif.happypre\"><i\\n                class=\"ico_btn\"><span class=\"blind\">\\xec\\x9d\\xb4\\xec\\xa0\\x84</span></i></a>\\n        <a href=\"#\" role=\"button\" class=\"pm_btn_next _NM_UI_PAGE_NEXT\" data-clk=\"tcc_lif.happynext\"><i\\n                class=\"ico_btn\"><span class=\"blind\">\\xeb\\x8b\\xa4\\xec\\x9d\\x8c</span></i></a>\\n        <div class=\"_NM_UI_PAGE_CONTAINER\" style=\"overflow: hidden; height: 240px;\">\\n            \\n            <div style=\"width:750px\">\\n                <div class=\"media_view\">\\n                    \\n                    <a href=\"https://happybean.naver.com/fundings/detail/F745?p&#x3D;p&amp;s&#x3D;nmlp\" target=\"_blank\" class=\"media_area\" data-gdid=\"F745\"\\n                        data-clk=\"tcc_lif.happycon1\">\\n                        <div class=\"media_thumb\">\\n                            <img src=\"https://happybean-phinf.pstatic.net/20221209_99/16705782083565Enf5_JPEG/BBEB_01.jpg?type&#x3D;f464_260\" alt=\"\" width=\"232\" height=\"130\" onerror=\"this.outerHTML=\\'<span class=\\\\\\'pm_noimg\\\\\\'><span class=\\\\\\'noimg_text\\\\\\'>\\xec\\x9d\\xb4\\xeb\\xaf\\xb8\\xec\\xa7\\x80 \\xec\\xa4\\x80\\xeb\\xb9\\x84\\xec\\xa4\\x91</span></span>\\'\">\\n                            <span class=\"thumb_bd\"></span>\\n                            <em class=\"theme_badge\"><span class=\"badge_inner\">\\xed\\x8e\\x80\\xeb\\x94\\xa9</span></em>\\n                        </div>\\n                        <div class=\"media_info\">\\n                            <div class=\"info_box\">\\n                                <strong class=\"title\">\\xec\\x95\\x84\\xed\\x94\\x84\\xeb\\xa6\\xac\\xec\\xb9\\xb4\\xec\\x97\\x90 \\xeb\\xac\\xbc\\xec\\x9d\\x84 \\xec\\xa0\\x84\\xed\\x95\\x98\\xeb\\x8a\\x94 \\xec\\xb9\\x9c\\xed\\x99\\x98\\xea\\xb2\\xbd \\xeb\\x8b\\xa4\\xec\\x9d\\xb4\\xec\\x96\\xb4\\xeb\\xa6\\xac</strong>\\n                                <div class=\"source_wrap\">\\n                                    <span class=\"dsc\"><em class=\"theme_hl\">429%</em> \\xeb\\x8b\\xac\\xec\\x84\\xb1</span>\\n                                    <span class=\"source\"><span class=\"source_inner\">\\xed\\x8c\\x80\\xec\\x95\\xa4\\xed\\x8c\\x80</span></span>\\n                                </div>\\n                            </div>\\n                        </div>\\n                    </a>\\n                    \\n                    <a href=\"https://happybean.naver.com/fundings/detail/F744?p&#x3D;p&amp;s&#x3D;nmlp\" target=\"_blank\" class=\"media_area\" data-gdid=\"F744\"\\n                        data-clk=\"tcc_lif.happycon2\">\\n                        <div class=\"media_thumb\">\\n                            <img src=\"https://happybean-phinf.pstatic.net/20221122_45/16690941109452oezd_JPEG/th.jpg?type&#x3D;f464_260\" alt=\"\" width=\"232\" height=\"130\" onerror=\"this.outerHTML=\\'<span class=\\\\\\'pm_noimg\\\\\\'><span class=\\\\\\'noimg_text\\\\\\'>\\xec\\x9d\\xb4\\xeb\\xaf\\xb8\\xec\\xa7\\x80 \\xec\\xa4\\x80\\xeb\\xb9\\x84\\xec\\xa4\\x91</span></span>\\'\">\\n                            <span class=\"thumb_bd\"></span>\\n                            <em class=\"theme_badge\"><span class=\"badge_inner\">\\xed\\x8e\\x80\\xeb\\x94\\xa9</span></em>\\n                        </div>\\n                        <div class=\"media_info\">\\n                            <div class=\"info_box\">\\n                                <strong class=\"title\">\\xed\\x95\\x9c \\xeb\\x8b\\xac\\xec\\x97\\x90 \\xed\\x95\\x9c \\xeb\\xb2\\x88, \\xeb\\x8d\\x94 \\xeb\\x82\\x98\\xec\\x9d\\x80 \\xed\\x96\\x89\\xeb\\x8f\\x99\\xec\\x9d\\x84 \\xea\\xb5\\xac\\xeb\\x8f\\x85\\xed\\x95\\x98\\xec\\x84\\xb8\\xec\\x9a\\x94</strong>\\n                                <div class=\"source_wrap\">\\n                                    <span class=\"dsc\"><em class=\"theme_hl\">10%</em> \\xeb\\x8b\\xac\\xec\\x84\\xb1</span>\\n                                    <span class=\"source\"><span class=\"source_inner\">\\xec\\x98\\xa4\\xeb\\x8a\\x98\\xec\\x9d\\x98\\xed\\x96\\x89\\xeb\\x8f\\x99 \\xec\\x82\\xac\\xed\\x9a\\x8c\\xec\\xa0\\x81\\xed\\x98\\x91\\xeb\\x8f\\x99\\xec\\xa1\\xb0\\xed\\x95\\xa9</span></span>\\n                                </div>\\n                            </div>\\n                        </div>\\n                    </a>\\n                    \\n                    <a href=\"https://happybean.naver.com/donations/H000000187662?p&#x3D;p&amp;s&#x3D;nmlp\" target=\"_blank\" class=\"media_area\" data-gdid=\"H000000187662\"\\n                        data-clk=\"tcc_lif.happycon3\">\\n                        <div class=\"media_thumb\">\\n                            <img src=\"https://happybean-phinf.pstatic.net/20221208_249/1670491888288ph2dE_JPEG/%EB%A63.jpg?type&#x3D;f464_260\" alt=\"\" width=\"232\" height=\"130\" onerror=\"this.outerHTML=\\'<span class=\\\\\\'pm_noimg\\\\\\'><span class=\\\\\\'noimg_text\\\\\\'>\\xec\\x9d\\xb4\\xeb\\xaf\\xb8\\xec\\xa7\\x80 \\xec\\xa4\\x80\\xeb\\xb9\\x84\\xec\\xa4\\x91</span></span>\\'\">\\n                            <span class=\"thumb_bd\"></span>\\n                            <em class=\"theme_badge\"><span class=\"badge_inner\">\\xea\\xb8\\xb0\\xeb\\xb6\\x80</span></em>\\n                        </div>\\n                        <div class=\"media_info\">\\n                            <div class=\"info_box\">\\n                                <strong class=\"title\">\\xec\\xa7\\x80\\xec\\xa7\\x84\\xec\\x9c\\xbc\\xeb\\xa1\\x9c \\xec\\x8a\\xac\\xed\\x94\\x94\\xec\\x97\\x90 \\xeb\\xb9\\xa0\\xec\\xa7\\x84 \\xec\\x9d\\xb8\\xeb\\x8f\\x84\\xeb\\x84\\xa4\\xec\\x8b\\x9c\\xec\\x95\\x84 \\xec\\x95\\x84\\xec\\x9d\\xb4\\xeb\\x93\\xa4\\xec\\x9d\\x84 \\xea\\xb5\\xac\\xed\\x95\\xb4\\xec\\xa3\\xbc\\xec\\x84\\xb8\\xec\\x9a\\x94</strong>\\n                                <div class=\"source_wrap\">\\n                                    <span class=\"dsc\"><em class=\"theme_hl\">1,338,000\\xec\\x9b\\x90</em> \\xea\\xb8\\xb0\\xeb\\xb6\\x80</span>\\n                                    <span class=\"source\"><span class=\"source_inner\">\\xeb\\xb0\\x80\\xec\\x95\\x8c\\xeb\\xb3\\xb5\\xec\\xa7\\x80\\xec\\x9e\\xac\\xeb\\x8b\\xa8</span></span>\\n                                </div>\\n                            </div>\\n                        </div>\\n                    </a>\\n                    \\n                </div>\\n            </div>\\n            \\n            <div style=\"width:750px\">\\n                <div class=\"media_view\">\\n                    \\n                    <a href=\"https://happybean.naver.com/fundings/detail/F747?p&#x3D;p&amp;s&#x3D;nmlp\" target=\"_blank\" class=\"media_area\" data-gdid=\"F747\"\\n                        data-clk=\"tcc_lif.happycon4\">\\n                        <div class=\"media_thumb\">\\n                            <img src=\"https://happybean-phinf.pstatic.net/20221123_136/1669190326727ssHgn_JPEG/%B8%EB%A4%EC213315436.jpg?type&#x3D;f464_260\" alt=\"\" width=\"232\" height=\"130\" onerror=\"this.outerHTML=\\'<span class=\\\\\\'pm_noimg\\\\\\'><span class=\\\\\\'noimg_text\\\\\\'>\\xec\\x9d\\xb4\\xeb\\xaf\\xb8\\xec\\xa7\\x80 \\xec\\xa4\\x80\\xeb\\xb9\\x84\\xec\\xa4\\x91</span></span>\\'\">\\n                            <span class=\"thumb_bd\"></span>\\n                            <em class=\"theme_badge\"><span class=\"badge_inner\">\\xed\\x8e\\x80\\xeb\\x94\\xa9</span></em>\\n                        </div>\\n                        <div class=\"media_info\">\\n                            <div class=\"info_box\">\\n                                <strong class=\"title\">\\xec\\x9e\\xa5\\xec\\x95\\xa0 \\xec\\x96\\xb4\\xeb\\xa6\\xb0\\xec\\x9d\\xb4\\xec\\x9d\\x98 \\xec\\xb9\\x98\\xeb\\xa3\\x8c\\xeb\\xa5\\xbc \\xeb\\x8f\\x95\\xeb\\x8a\\x94 \\xea\\xb3\\xa0\\xec\\x96\\x91\\xec\\x9d\\xb4 \\xec\\x9d\\xb8\\xed\\x98\\x95</strong>\\n                                <div class=\"source_wrap\">\\n                                    <span class=\"dsc\"><em class=\"theme_hl\">405%</em> \\xeb\\x8b\\xac\\xec\\x84\\xb1</span>\\n                                    <span class=\"source\"><span class=\"source_inner\">\\xec\\x97\\x94\\xec\\xa0\\xa4\\xec\\x8a\\xa4\\xed\\x97\\xa4\\xec\\x9d\\xb4\\xeb\\xb8\\x90</span></span>\\n                                </div>\\n                            </div>\\n                        </div>\\n                    </a>\\n                    \\n                    <a href=\"https://happybean.naver.com/fundings/detail/F742?p&#x3D;p&amp;s&#x3D;nmlp\" target=\"_blank\" class=\"media_area\" data-gdid=\"F742\"\\n                        data-clk=\"tcc_lif.happycon5\">\\n                        <div class=\"media_thumb\">\\n                            <img src=\"https://happybean-phinf.pstatic.net/20221209_268/1670578244477aNxjK_JPEG/DSC_0525_E1E1.jpg?type&#x3D;f464_260\" alt=\"\" width=\"232\" height=\"130\" onerror=\"this.outerHTML=\\'<span class=\\\\\\'pm_noimg\\\\\\'><span class=\\\\\\'noimg_text\\\\\\'>\\xec\\x9d\\xb4\\xeb\\xaf\\xb8\\xec\\xa7\\x80 \\xec\\xa4\\x80\\xeb\\xb9\\x84\\xec\\xa4\\x91</span></span>\\'\">\\n                            <span class=\"thumb_bd\"></span>\\n                            <em class=\"theme_badge\"><span class=\"badge_inner\">\\xed\\x8e\\x80\\xeb\\x94\\xa9</span></em>\\n                        </div>\\n                        <div class=\"media_info\">\\n                            <div class=\"info_box\">\\n                                <strong class=\"title\">\\xeb\\x8f\\x8c\\xec\\x95\\x84\\xec\\x84\\x9c\\xeb\\xa9\\xb4 \\xec\\x83\\x9d\\xea\\xb0\\x81\\xeb\\x82\\x98\\xeb\\x8a\\x94 \\xeb\\x8b\\xac\\xec\\xbd\\xa4\\xed\\x95\\x9c \\xec\\x84\\x9c\\xea\\xb7\\x80\\xed\\x8f\\xac \\xeb\\x82\\xa8\\xec\\x9b\\x90\\xea\\xb0\\x90\\xea\\xb7\\xa4</strong>\\n                                <div class=\"source_wrap\">\\n                                    <span class=\"dsc\"><em class=\"theme_hl\">497%</em> \\xeb\\x8b\\xac\\xec\\x84\\xb1</span>\\n                                    <span class=\"source\"><span class=\"source_inner\">\\xed\\x8f\\xb4\\xea\\xb0\\x9c\\xed\\x98\\x91\\xeb\\x8f\\x99\\xec\\xa1\\xb0\\xed\\x95\\xa9</span></span>\\n                                </div>\\n                            </div>\\n                        </div>\\n                    </a>\\n                    \\n                    <a href=\"https://happybean.naver.com/donations/H000000187741?p&#x3D;p&amp;s&#x3D;nmlp\" target=\"_blank\" class=\"media_area\" data-gdid=\"H000000187741\"\\n                        data-clk=\"tcc_lif.happycon6\">\\n                        <div class=\"media_thumb\">\\n                            <img src=\"https://happybean-phinf.pstatic.net/20221208_55/16704919906934TadS_JPEG/%EB%A66.jpg?type&#x3D;f464_260\" alt=\"\" width=\"232\" height=\"130\" onerror=\"this.outerHTML=\\'<span class=\\\\\\'pm_noimg\\\\\\'><span class=\\\\\\'noimg_text\\\\\\'>\\xec\\x9d\\xb4\\xeb\\xaf\\xb8\\xec\\xa7\\x80 \\xec\\xa4\\x80\\xeb\\xb9\\x84\\xec\\xa4\\x91</span></span>\\'\">\\n                            <span class=\"thumb_bd\"></span>\\n                            <em class=\"theme_badge\"><span class=\"badge_inner\">\\xea\\xb8\\xb0\\xeb\\xb6\\x80</span></em>\\n                        </div>\\n                        <div class=\"media_info\">\\n                            <div class=\"info_box\">\\n                                <strong class=\"title\">\\xec\\x95\\x84\\xec\\xa7\\x81 \\xec\\x97\\xb0\\xed\\x83\\x84\\xec\\x9c\\xbc\\xeb\\xa1\\x9c \\xec\\xb6\\x94\\xec\\x9a\\xb4 \\xea\\xb2\\xa8\\xec\\x9a\\xb8\\xec\\x9d\\x84 \\xeb\\x82\\x98\\xeb\\x8a\\x94 \\xea\\xb0\\x80\\xec\\xa0\\x95\\xec\\x9d\\xb4 \\xec\\x9e\\x88\\xec\\x8a\\xb5\\xeb\\x8b\\x88\\xeb\\x8b\\xa4.</strong>\\n                                <div class=\"source_wrap\">\\n                                    <span class=\"dsc\"><em class=\"theme_hl\">401,400\\xec\\x9b\\x90</em> \\xea\\xb8\\xb0\\xeb\\xb6\\x80</span>\\n                                    <span class=\"source\"><span class=\"source_inner\">\\xec\\x9b\\x94\\xeb\\x93\\x9c\\xed\\x94\\x84\\xeb\\xa0\\x8c\\xec\\xa6\\x88</span></span>\\n                                </div>\\n                            </div>\\n                        </div>\\n                    </a>\\n                    \\n                </div>\\n            </div>\\n            \\n        </div>\\n    </div>\\n</div>\\n\\n<div class=\"group_theme\" data-block-id=\"\" data-block-code=\"PC-THEME-LIVINGHOME-MOBILE-RANKING-DEFAULT-2\" data-block-type=\"MATERIALS\" data-template-code=\"MOBILE-RANKING-LIST\"\\n\\n\\t data-da=\"container\"\\n\\t data-index=\"\"\\n     data-page=\"2\"\\n\\t style=\"display:none\">\\n\\n\\t<div class=\"list_theme_wrap\">\\n\\t\\t<ul class=\"list_theme\">\\n\\t\\t\\t\\n\\t\\t\\t\\t<li class=\"theme_item\" data-gdid=\"63885d499197cb005aba2b29\" data-da-position=\"true\">\\n\\t\\t\\t\\t\\t<a href=\"https://blog.naver.com/skoene/222941228772\" class=\"theme_thumb\" data-clk=\"tcc_lif.list3cont1\" target=\"_blank\">\\n\\t\\t\\t\\t\\t\\t<img  data-src=\"https://s.pstatic.net/dthumb.phinf/?src&#x3D;%22https%3A%2F%2Fs.pstatic.net%2Fshop.phinf%2F20221130_10%2F1669806378522zt9Tl_JPEG%2FDSC00019.jpg%22&amp;type&#x3D;nf340_228\" alt=\"\\xeb\\xb2\\x84\\xeb\\xa0\\xa4\\xec\\xa7\\x84 \\xea\\xb3\\xb5\\xea\\xb0\\x84\\xec\\x9d\\xb4\\xeb\\x8d\\x98 \\xec\\xb9\\xa8\\xec\\x8b\\xa4, \\xed\\x9c\\xb4\\xec\\x96\\x91\\xec\\xa7\\x80 \\xeb\\x8a\\x90\\xeb\\x82\\x8c\\xec\\x9c\\xbc\\xeb\\xa1\\x9c \\xea\\xbe\\xb8\\xeb\\xaf\\xb8\\xea\\xb8\\xb0\" width=\"170\" height=\"114\" onerror=\"this.outerHTML=\\'<span class=\\\\\\'pm_noimg\\\\\\'><span class=\\\\\\'noimg_text\\\\\\'>\\xec\\x9d\\xb4\\xeb\\xaf\\xb8\\xec\\xa7\\x80 \\xec\\xa4\\x80\\xeb\\xb9\\x84\\xec\\xa4\\x91</span></span>\\'\">\\n\\t\\t\\t\\t\\t\\t<span class=\"thumb_bd\"></span>\\n                        \\n\\t\\t\\t\\t\\t</a>\\n\\t\\t\\t\\t\\t<a href=\"https://blog.naver.com/skoene/222941228772\" class=\"theme_info\" data-clk=\"tcc_lif.list3cont1\" target=\"_blank\">\\n\\t\\t\\t\\t\\t\\t<em class=\"theme_category\"> \\xeb\\xa6\\xac\\xeb\\xb9\\x99</em>\\n\\t\\t\\t\\t\\t\\t<strong class=\"title elss\">\\xeb\\xb2\\x84\\xeb\\xa0\\xa4\\xec\\xa7\\x84 \\xea\\xb3\\xb5\\xea\\xb0\\x84\\xec\\x9d\\xb4\\xeb\\x8d\\x98 \\xec\\xb9\\xa8\\xec\\x8b\\xa4, \\xed\\x9c\\xb4\\xec\\x96\\x91\\xec\\xa7\\x80 \\xeb\\x8a\\x90\\xeb\\x82\\x8c\\xec\\x9c\\xbc\\xeb\\xa1\\x9c \\xea\\xbe\\xb8\\xeb\\xaf\\xb8\\xea\\xb8\\xb0</strong>\\n                        <p class=\"desc\">\\xec\\x95\\x88\\xeb\\x85\\x95\\xed\\x95\\x98\\xec\\x84\\xb8\\xec\\x9a\\x94 \\xec\\x98\\xa4\\xeb\\x8a\\x98\\xec\\x9d\\x80 \\xeb\\xb2\\x84\\xeb\\xa0\\xa4\\xec\\xa7\\x84 \\xea\\xb3\\xb5\\xea\\xb0\\x84\\xec\\x9d\\xb4\\xeb\\x8d\\x98 \\xec\\xb9\\xa8\\xec\\x8b\\xa4\\xec\\x9d\\x84 \\xec\\x9e\\x90\\xea\\xbe\\xb8\\xeb\\xa7\\x8c \\xeb\\x88\\x95\\xea\\xb3\\xa0 \\xec\\x8b\\xb6\\xec\\x9d\\x80 \\xea\\xb3\\xb5\\xea\\xb0\\x84\\xec\\x9c\\xbc\\xeb\\xa1\\x9c \\xeb\\xb0\\x94\\xea\\xbe\\xbc \\xea\\xb8\\xb0\\xeb\\xa1\\x9d\\xec\\x9d\\x84 \\xea\\xb3\\xb5\\xec\\x9c\\xa0\\xed\\x95\\xa9\\xeb\\x8b\\x88\\xeb\\x8b\\xa4! \\xeb\\x82\\xa8\\xeb\\x93\\xa4\\xec\\x9d\\x80 \\xec\\x95\\x84\\xeb\\x8a\\x91\\xed\\x95\\x98\\xea\\xb3\\xa0 \\xea\\xb9\\x94\\xeb\\x81\\x94\\xed\\x95\\x98\\xea\\xb2\\x8c \\xec\\xb9\\xa8\\xec\\x8b\\xa4\\xec\\x9d\\x84 \\xea\\xbe\\xb8\\xeb\\xaf\\xb8\\xec\\xa7\\x80\\xeb\\xa7\\x8c \\xeb\\x82\\x98\\xeb\\x8a\\x94 \\xec\\xa7\\x91\\xeb\\xac\\xb4\\xec\\x8b\\xa4 (\\xec\\xa7\\x91+\\xec\\x82\\xac\\xeb\\xac\\xb4\\xec\\x8b\\xa4) \\xec\\x9d\\xb4\\xeb\\x8b\\x88\\xea\\xb9\\x8c \\xec\\xb4\\xac\\xec\\x98\\x81 \\xeb\\xb0\\xb0\\xea\\xb2\\xbd\\xec\\x9d\\xb4 \\xeb\\x90\\x98\\xeb\\x8a\\x94 \\xec\\x84\\x9c\\xec\\x9e\\xac\\xec\\x99\\x80 \\xea\\xb1\\xb0\\xec\\x8b\\xa4\\xeb\\xa7\\x8c \\xec\\x9e\\x98 \\xea\\xbe\\xb8\\xeb\\xa9\\xb0\\xeb\\x86\\x93\\xea\\xb3\\xa0 \\xec\\xb9\\xa8\\xec\\x8b\\xa4\\xec\\x9d\\x80 \\xec\\x82\\xac\\xec\\x8b\\xa4\\xec\\x83\\x81 \\xeb\\xb2\\x84\\xeb\\xa6\\xb0(?)\\xea\\xb3\\xb5\\xea\\xb0\\x84\\xec\\x9d\\xb4\\xec\\x97\\x88\\xeb\\x8a\\x94\\xeb\\x8d\\xb0 \\xea\\xb0\\x91\\xec\\x9e\\x90\\xea\\xb8\\xb0 \\xeb\\xac\\xb4\\xec\\x8a\\xa8 \\xeb\\xb0\\x94\\xeb\\x9e\\x8c\\xec\\x9d\\xb4 \\xeb\\xb6\\x88\\xec\\x97\\x88\\xeb\\x8a\\x94\\xec\\xa7\\x80 \\xec\\x9e\\x98 \\xeb\\x95\\x8c \\xeb\\xa7\\x8c\\xed\\x81\\xbc\\xec\\x9d\\x80 \\xec\\x97\\xac\\xed\\x96\\x89\\xec\\x98\\xa8 \\xeb\\x8a\\x90\\xeb\\x82\\x8c\\xec\\x9c\\xbc\\xeb\\xa1\\x9c \\xec\\x9e\\xa0\\xeb\\x93\\xa4\\xec\\x9e\\x90\\xeb\\xa9\\xb0 \\xec\\xb9\\xa8\\xec\\x8b\\xa4 \\xea\\xbe\\xb8\\xeb\\xaf\\xb8\\xea\\xb8\\xb0\\xec\\x97\\x90 \\xeb\\x8f\\x8c\\xec\\x9e\\x85!! \\xec\\xb9\\xa8\\xec\\x8b\\xa4 BEFORE </p>\\n\\t\\t\\t\\t\\t\\t<div class=\"source_box\">\\n\\t\\t\\t\\t\\t\\t\\t<span class=\"date\">1\\xec\\xa3\\xbc\\xec\\x9d\\xbc \\xec\\xa0\\x84</span>\\n\\t\\t\\t\\t\\t\\t\\t<span class=\"source\">\\n                                \\n                                <span class=\"source_inner\">\\xed\\x95\\xb4\\xec\\xa3\\xbd\\xec\\x9d\\xb4</span>\\n                            </span>\\n\\t\\t\\t\\t\\t\\t</div>\\n\\t\\t\\t\\t\\t</a>\\n\\t\\t\\t\\t</li>\\n\\t\\t\\t\\n\\t\\t\\t\\t<li class=\"theme_item\" data-gdid=\"63885d499197cb005aba2b2a\" data-da-position=\"true\">\\n\\t\\t\\t\\t\\t<a href=\"https://blog.naver.com/murum4/222931811869\" class=\"theme_thumb\" data-clk=\"tcc_lif.list3cont2\" target=\"_blank\">\\n\\t\\t\\t\\t\\t\\t<img  data-src=\"https://s.pstatic.net/dthumb.phinf/?src&#x3D;%22https%3A%2F%2Fs.pstatic.net%2Fshop.phinf%2F20221130_224%2F16698063702581YJoR_JPEG%2F19.jpg%22&amp;type&#x3D;nf340_228\" alt=\"\\xeb\\xb6\\x80\\xeb\\x8b\\xb4 \\xec\\x97\\x86\\xec\\x9d\\xb4 \\xed\\x95\\x98\\xeb\\x82\\x98\\xec\\x94\\xa9 \\xeb\\xaa\\xa8\\xec\\x9d\\x80 \\xeb\\x82\\xb4\\xeb\\x8f\\x88\\xeb\\x82\\xb4\\xec\\x82\\xb0 \\xea\\xb7\\xb8\\xeb\\xa6\\x87\\xeb\\x93\\xa4 \\xeb\\xaa\\x87 \\xea\\xb0\\x80\\xec\\xa7\\x80\" width=\"170\" height=\"114\" onerror=\"this.outerHTML=\\'<span class=\\\\\\'pm_noimg\\\\\\'><span class=\\\\\\'noimg_text\\\\\\'>\\xec\\x9d\\xb4\\xeb\\xaf\\xb8\\xec\\xa7\\x80 \\xec\\xa4\\x80\\xeb\\xb9\\x84\\xec\\xa4\\x91</span></span>\\'\">\\n\\t\\t\\t\\t\\t\\t<span class=\"thumb_bd\"></span>\\n                        \\n\\t\\t\\t\\t\\t</a>\\n\\t\\t\\t\\t\\t<a href=\"https://blog.naver.com/murum4/222931811869\" class=\"theme_info\" data-clk=\"tcc_lif.list3cont2\" target=\"_blank\">\\n\\t\\t\\t\\t\\t\\t<em class=\"theme_category\"> \\xeb\\xa6\\xac\\xeb\\xb9\\x99</em>\\n\\t\\t\\t\\t\\t\\t<strong class=\"title elss\">\\xeb\\xb6\\x80\\xeb\\x8b\\xb4 \\xec\\x97\\x86\\xec\\x9d\\xb4 \\xed\\x95\\x98\\xeb\\x82\\x98\\xec\\x94\\xa9 \\xeb\\xaa\\xa8\\xec\\x9d\\x80 \\xeb\\x82\\xb4\\xeb\\x8f\\x88\\xeb\\x82\\xb4\\xec\\x82\\xb0 \\xea\\xb7\\xb8\\xeb\\xa6\\x87\\xeb\\x93\\xa4 \\xeb\\xaa\\x87 \\xea\\xb0\\x80\\xec\\xa7\\x80</strong>\\n                        <p class=\"desc\">\\xeb\\x82\\x98 \\xec\\x9e\\x90\\xec\\x8b\\xa0\\xeb\\xb3\\xb4\\xeb\\x8b\\xa4\\xeb\\x8a\\x94 \\xea\\xb0\\x80\\xec\\xa1\\xb1\\xeb\\x93\\xa4\\xec\\x9d\\x84 \\xeb\\xa8\\xbc\\xec\\xa0\\x80 \\xec\\xb1\\x99\\xea\\xb8\\xb0\\xeb\\x8a\\x94 \\xec\\x95\\x84\\xeb\\x82\\xb4\\xec\\x9d\\xb4\\xec\\x9e\\x90 \\xec\\x97\\x84\\xeb\\xa7\\x88\\xeb\\xa1\\x9c \\xec\\x82\\xb4\\xec\\x95\\x84\\xea\\xb0\\x80\\xeb\\x8a\\x94 \\xec\\xa3\\xbc\\xeb\\xb6\\x80, \\xeb\\x82\\x98 \\xec\\x8a\\xa4\\xec\\x8a\\xa4\\xeb\\xa1\\x9c\\xeb\\xa5\\xbc \\xec\\x9c\\x84\\xed\\x95\\x98\\xeb\\x8a\\x94 \\xea\\xb0\\x80\\xec\\x9e\\xa5 \\xec\\x89\\xac\\xec\\x9a\\xb4 \\xeb\\xb0\\xa9\\xeb\\xb2\\x95\\xec\\x9d\\x80 \\xeb\\x82\\x98\\xeb\\xa5\\xbc \\xec\\x9c\\x84\\xed\\x95\\xb4 \\xea\\xb7\\xbc\\xec\\x82\\xac\\xed\\x95\\x9c \\xed\\x95\\x9c \\xeb\\x81\\xbc\\xeb\\xa5\\xbc \\xeb\\x8c\\x80\\xec\\xa0\\x91\\xed\\x95\\x98\\xeb\\x8a\\x94 \\xea\\xb2\\x83. \\xeb\\x98\\x90\\xed\\x95\\x9c \\xec\\xa0\\x95\\xec\\x84\\xb1 \\xeb\\x93\\xa4\\xec\\x97\\xac \\xeb\\xa7\\x8c\\xeb\\x93\\xa0 \\xec\\x9d\\x8c\\xec\\x8b\\x9d\\xec\\x9d\\x84 \\xec\\xa2\\x8b\\xec\\x95\\x84\\xed\\x95\\x98\\xeb\\x8a\\x94 \\xec\\x98\\x88\\xec\\x81\\x9c \\xea\\xb7\\xb8\\xeb\\xa6\\x87\\xec\\x97\\x90 \\xeb\\x8b\\xb4\\xec\\x95\\x84\\xeb\\x82\\xb4\\xeb\\xa9\\xb4 \\xed\\x9b\\xa8\\xec\\x94\\xac \\xeb\\x8d\\x94 \\xea\\xb7\\xbc\\xec\\x82\\xac\\xed\\x95\\xb4\\xec\\xa7\\x84\\xeb\\x8b\\xa4. \\xea\\xb7\\xb8\\xeb\\xa0\\x87\\xea\\xb2\\x8c \\xeb\\xb6\\x80\\xeb\\x8b\\xb4 \\xec\\x97\\x86\\xec\\x9d\\xb4 \\xed\\x95\\x98\\xeb\\x82\\x98\\xec\\x94\\xa9 \\xeb\\xaa\\xa8\\xec\\x95\\x84\\xec\\x98\\xa8 \\xea\\xb7\\xb8\\xeb\\xa6\\x87\\xeb\\x93\\xa4 \\xeb\\xaa\\x87 \\xea\\xb0\\x80\\xec\\xa7\\x80\\xeb\\xa5\\xbc \\xeb\\x8b\\xb4\\xec\\x95\\x84\\xeb\\xb3\\xb4\\xec\\x95\\x98\\xeb\\x8b\\xa4 :) \\xeb\\xaa\\xa8\\xeb\\x91\\x90 #\\xeb\\x82\\xb4\\xeb\\x8f\\x88\\xeb\\x82\\xb4\\xec\\x82\\xb0 \\xeb\\x93\\x80\\xeb\\x9d\\xbc\\xeb\\xa0\\x89\\xec\\x8a\\xa4 \\xeb\\x82\\xb4\\xea\\xb0\\x80 \\xec\\x86\\x8c\\xec\\x9e\\xa5\\xed\\x95\\x9c \\xeb\\x93\\x80\\xeb\\x9d\\xbc\\xeb\\xa0\\x89\\xec\\x8a\\xa4\\xeb\\x8a\\x94 \\xec\\xb4\\x9d 4\\xea\\xb0\\x80\\xec\\xa7\\x80 \\xec\\xa2\\x85\\xeb\\xa5\\x98.</p>\\n\\t\\t\\t\\t\\t\\t<div class=\"source_box\">\\n\\t\\t\\t\\t\\t\\t\\t<span class=\"date\">3\\xec\\xa3\\xbc\\xec\\x9d\\xbc \\xec\\xa0\\x84</span>\\n\\t\\t\\t\\t\\t\\t\\t<span class=\"source\">\\n                                \\n                                <span class=\"source_inner\">\\xec\\xb6\\x94\\xeb\\x8b\\xb4</span>\\n                            </span>\\n\\t\\t\\t\\t\\t\\t</div>\\n\\t\\t\\t\\t\\t</a>\\n\\t\\t\\t\\t</li>\\n\\t\\t\\t\\n\\t\\t\\t\\t<li class=\"theme_item\" data-gdid=\"63885d099197cb005aba2b1e\" data-da-position=\"true\">\\n\\t\\t\\t\\t\\t<a href=\"https://blog.naver.com/gr8912/222928191687\" class=\"theme_thumb\" data-clk=\"tcc_lif.list3cont3\" target=\"_blank\">\\n\\t\\t\\t\\t\\t\\t<img  data-src=\"https://s.pstatic.net/dthumb.phinf/?src&#x3D;%22https%3A%2F%2Fs.pstatic.net%2Fshop.phinf%2F20221130_285%2F16698060974439JdtL_JPEG%2Fsfg.jpg%22&amp;type&#x3D;nf340_228\" alt=\"\\xeb\\xaf\\xb8\\xeb\\x8b\\x88\\xeb\\xa9\\x80 \\xeb\\x9d\\xbc\\xec\\x9d\\xb4\\xed\\x94\\x84 \\xec\\x9d\\xb8\\xed\\x85\\x8c\\xeb\\xa6\\xac\\xec\\x96\\xb4 \\xea\\xb8\\xb0\\xeb\\xa1\\x9d\" width=\"170\" height=\"114\" onerror=\"this.outerHTML=\\'<span class=\\\\\\'pm_noimg\\\\\\'><span class=\\\\\\'noimg_text\\\\\\'>\\xec\\x9d\\xb4\\xeb\\xaf\\xb8\\xec\\xa7\\x80 \\xec\\xa4\\x80\\xeb\\xb9\\x84\\xec\\xa4\\x91</span></span>\\'\">\\n\\t\\t\\t\\t\\t\\t<span class=\"thumb_bd\"></span>\\n                        \\n\\t\\t\\t\\t\\t</a>\\n\\t\\t\\t\\t\\t<a href=\"https://blog.naver.com/gr8912/222928191687\" class=\"theme_info\" data-clk=\"tcc_lif.list3cont3\" target=\"_blank\">\\n\\t\\t\\t\\t\\t\\t<em class=\"theme_category\"> \\xeb\\xa6\\xac\\xeb\\xb9\\x99</em>\\n\\t\\t\\t\\t\\t\\t<strong class=\"title elss\">\\xeb\\xaf\\xb8\\xeb\\x8b\\x88\\xeb\\xa9\\x80 \\xeb\\x9d\\xbc\\xec\\x9d\\xb4\\xed\\x94\\x84 \\xec\\x9d\\xb8\\xed\\x85\\x8c\\xeb\\xa6\\xac\\xec\\x96\\xb4 \\xea\\xb8\\xb0\\xeb\\xa1\\x9d</strong>\\n                        <p class=\"desc\">\\xec\\x9d\\xb4\\xed\\x8b\\x80 \\xeb\\x92\\xa4\\xeb\\xa9\\xb4 \\xeb\\x8f\\x99\\xec\\x83\\x9d \\xeb\\xb6\\x80\\xeb\\xb6\\x80\\xea\\xb0\\x80 \\xed\\x95\\x9c\\xea\\xb5\\xad\\xec\\x97\\x90 \\xec\\x98\\xa8\\xeb\\x8b\\xa4. 2\\xec\\xa3\\xbc\\xea\\xb0\\x84 \\xec\\x9a\\xb0\\xeb\\xa6\\xac \\xec\\xa7\\x91\\xec\\x97\\x90 \\xeb\\xa8\\xb8\\xeb\\xac\\xb4\\xeb\\xa5\\xb4\\xea\\xb8\\xb0\\xeb\\xa1\\x9c \\xed\\x95\\xb4\\xec\\x84\\x9c \\xec\\xa7\\x80\\xeb\\x82\\xb4\\xeb\\x8a\\x94 \\xeb\\x8f\\x99\\xec\\x95\\x88 \\xec\\x93\\xb0\\xea\\xb2\\x8c \\xeb\\x90\\xa0 \\xeb\\xb0\\xa9\\xec\\x9d\\x84 \\xec\\xa0\\x95\\xeb\\xa6\\xac\\xed\\x95\\x98\\xea\\xb3\\xa0 \\xec\\x98\\xa8 \\xec\\xa7\\x91\\xec\\x95\\x88 \\xec\\xb2\\xad\\xec\\x86\\x8c\\xeb\\xa5\\xbc \\xeb\\xa7\\x88\\xec\\xb3\\xa4\\xeb\\x8b\\xa4. \\xec\\xb2\\xad\\xec\\x86\\x8c\\xed\\x95\\x9c \\xea\\xb9\\x80\\xec\\x97\\x90 \\xeb\\x82\\xa8\\xea\\xb2\\xa8\\xeb\\xb3\\xb4\\xeb\\x8a\\x94 \\xec\\x9a\\xb0\\xeb\\xa6\\xac \\xec\\xa7\\x91 \\xea\\xb8\\xb0\\xeb\\xa1\\x9d. \\xeb\\x8b\\xa8\\xec\\x88\\x9c\\xed\\x95\\x98\\xea\\xb2\\x8c \\xec\\x82\\xb4\\xea\\xb3\\xa0 \\xec\\x8b\\xb6\\xec\\x96\\xb4 \\xeb\\xac\\xbc\\xea\\xb1\\xb4 \\xeb\\x8a\\x98\\xeb\\xa6\\xac\\xeb\\x8a\\x94 \\xec\\x9d\\xbc\\xec\\x9d\\x80 \\xec\\xa1\\xb0\\xec\\x8b\\xac\\xed\\x95\\x98\\xec\\xa7\\x80\\xeb\\xa7\\x8c \\xec\\x9d\\xb4 \\xec\\xa7\\x91\\xec\\x9c\\xbc\\xeb\\xa1\\x9c \\xec\\x9d\\xb4\\xec\\x82\\xac \\xec\\x98\\xa4\\xea\\xb3\\xa0 \\xeb\\x82\\x98\\xec\\x84\\x9c \\xec\\x95\\x84\\xec\\x9d\\xb4\\xeb\\x8f\\x84 \\xeb\\xa7\\x8e\\xec\\x9d\\xb4 \\xec\\x9e\\x90\\xeb\\x9e\\x90\\xea\\xb3\\xa0 \\xec\\x9e\\x90\\xec\\x97\\xb0\\xec\\x8a\\xa4\\xeb\\xa0\\x88 \\xec\\xa7\\x90\\xeb\\x8f\\x84 \\xeb\\x8a\\x98\\xec\\x96\\xb4 \\xec\\x9e\\x88\\xec\\x97\\x88\\xeb\\x8b\\xa4. \\xec\\x95\\x84\\xec\\x9d\\xb4\\xea\\xb0\\x80 \\xec\\x9c\\xa0\\xec\\xb9\\x98\\xec\\x9b\\x90\\xec\\x9d\\x84 \\xeb\\x8b\\xa4\\xeb\\x8b\\x88\\xeb\\xa9\\xb0 \\xeb\\xa7\\x8c\\xeb\\x93\\xa4\\xec\\x96\\xb4 \\xec\\x99\\x94\\xeb\\x8d\\x98 \\xec\\x9e\\x91\\xed\\x92\\x88\\xeb\\x93\\xa4\\xeb\\x8f\\x84 \\xea\\xbd\\xa4 \\xec\\x8c\\x93\\xec\\x97\\xac \\xec\\x9e\\x88\\xec\\x97\\x88\\xeb\\x8a\\x94\\xeb\\x8d\\xb0 \\xec\\x98\\xa4</p>\\n\\t\\t\\t\\t\\t\\t<div class=\"source_box\">\\n\\t\\t\\t\\t\\t\\t\\t<span class=\"date\">3\\xec\\xa3\\xbc\\xec\\x9d\\xbc \\xec\\xa0\\x84</span>\\n\\t\\t\\t\\t\\t\\t\\t<span class=\"source\">\\n                                \\n                                <span class=\"source_inner\">\\xeb\\x8b\\xac\\xeb\\xa7\\x81</span>\\n                            </span>\\n\\t\\t\\t\\t\\t\\t</div>\\n\\t\\t\\t\\t\\t</a>\\n\\t\\t\\t\\t</li>\\n\\t\\t\\t\\n\\t\\t\\t\\t<li class=\"theme_item\" data-gdid=\"63885d099197cb005aba2b1f\" data-da-position=\"true\">\\n\\t\\t\\t\\t\\t<a href=\"https://blog.naver.com/9997716/222925338837\" class=\"theme_thumb\" data-clk=\"tcc_lif.list3cont4\" target=\"_blank\">\\n\\t\\t\\t\\t\\t\\t<img  data-src=\"https://s.pstatic.net/dthumb.phinf/?src&#x3D;%22https%3A%2F%2Fs.pstatic.net%2Fshop.phinf%2F20221130_93%2F1669806082285LzxHe_JPEG%2Fww.jpg%22&amp;type&#x3D;nf340_228\" alt=\"\\xeb\\xb0\\x80\\xeb\\x9e\\x8d\\xeb\\x9e\\xa9 \\xeb\\xa7\\x8c\\xeb\\x93\\xa4\\xea\\xb8\\xb0 \\xeb\\xb0\\x8f \\xec\\x82\\xac\\xec\\x9a\\xa9 \\xeb\\xb0\\xa9\\xeb\\xb2\\x95 #\\xec\\xa0\\x9c\\xeb\\xa1\\x9c\\xec\\x9b\\xa8\\xec\\x9d\\xb4\\xec\\x8a\\xa4\\xed\\x8a\\xb8\\xec\\x8b\\xa4\\xec\\xb2\\x9c\" width=\"170\" height=\"114\" onerror=\"this.outerHTML=\\'<span class=\\\\\\'pm_noimg\\\\\\'><span class=\\\\\\'noimg_text\\\\\\'>\\xec\\x9d\\xb4\\xeb\\xaf\\xb8\\xec\\xa7\\x80 \\xec\\xa4\\x80\\xeb\\xb9\\x84\\xec\\xa4\\x91</span></span>\\'\">\\n\\t\\t\\t\\t\\t\\t<span class=\"thumb_bd\"></span>\\n                        \\n\\t\\t\\t\\t\\t</a>\\n\\t\\t\\t\\t\\t<a href=\"https://blog.naver.com/9997716/222925338837\" class=\"theme_info\" data-clk=\"tcc_lif.list3cont4\" target=\"_blank\">\\n\\t\\t\\t\\t\\t\\t<em class=\"theme_category\"> \\xeb\\xa6\\xac\\xeb\\xb9\\x99</em>\\n\\t\\t\\t\\t\\t\\t<strong class=\"title elss\">\\xeb\\xb0\\x80\\xeb\\x9e\\x8d\\xeb\\x9e\\xa9 \\xeb\\xa7\\x8c\\xeb\\x93\\xa4\\xea\\xb8\\xb0 \\xeb\\xb0\\x8f \\xec\\x82\\xac\\xec\\x9a\\xa9 \\xeb\\xb0\\xa9\\xeb\\xb2\\x95 #\\xec\\xa0\\x9c\\xeb\\xa1\\x9c\\xec\\x9b\\xa8\\xec\\x9d\\xb4\\xec\\x8a\\xa4\\xed\\x8a\\xb8\\xec\\x8b\\xa4\\xec\\xb2\\x9c</strong>\\n                        <p class=\"desc\">\\xec\\xa0\\x9c\\xeb\\xa1\\x9c\\xec\\x9b\\xa8\\xec\\x9d\\xb4\\xec\\x8a\\xa4\\xed\\x8a\\xb8 \\xea\\xb4\\x80\\xeb\\xa0\\xa8\\xed\\x95\\xb4\\xec\\x84\\x9c \\xec\\xb0\\xbe\\xec\\x95\\x84\\xeb\\xb3\\xb4\\xeb\\x8b\\xa4\\xea\\xb0\\x80 \\xec\\x9a\\xb0\\xec\\x97\\xb0\\xed\\x9e\\x88 \\xeb\\xb0\\x80\\xeb\\x9e\\x8d\\xeb\\x9e\\xa9 \\xeb\\xa7\\x8c\\xeb\\x93\\xa4\\xea\\xb8\\xb0 \\xec\\x98\\x81\\xec\\x83\\x81\\xec\\x9d\\x84 \\xeb\\xb0\\x9c\\xea\\xb2\\xac\\xed\\x96\\x88\\xeb\\x8a\\x94\\xeb\\x8d\\xb0\\xec\\x9a\\x94. \\xeb\\xa7\\x8c\\xeb\\x93\\x9c\\xeb\\x8a\\x94 \\xeb\\xb0\\xa9\\xeb\\xb2\\x95\\xeb\\x8f\\x84 \\xea\\xb0\\x84\\xed\\x8e\\xb8\\xed\\x95\\xb4 \\xeb\\xb3\\xb4\\xec\\x9d\\xb4\\xea\\xb3\\xa0 \\xec\\x8b\\xa4\\xec\\x83\\x9d\\xed\\x99\\x9c\\xec\\x97\\x90\\xeb\\x8f\\x84 \\xec\\x9c\\xa0\\xec\\x9a\\xa9\\xed\\x95\\x98\\xea\\xb2\\x8c \\xec\\x93\\xb0\\xec\\x9d\\xb4\\xea\\xb3\\xa0 \\xeb\\xac\\xb4\\xec\\x97\\x87\\xeb\\xb3\\xb4\\xeb\\x8b\\xa4 \\xec\\x86\\x90\\xec\\x89\\xbd\\xea\\xb2\\x8c \\xec\\xa0\\x9c\\xeb\\xa1\\x9c\\xec\\x9b\\xa8\\xec\\x9d\\xb4\\xec\\x8a\\xa4\\xed\\x8a\\xb8 \\xec\\x8b\\xa4\\xec\\xb2\\x9c\\xec\\x9d\\xb4 \\xea\\xb0\\x80\\xeb\\x8a\\xa5\\xed\\x95\\x98\\xeb\\x8b\\xa4\\xeb\\x8a\\x94 \\xec\\xa0\\x90\\xec\\x9d\\xb4 \\xeb\\xa7\\x88\\xec\\x9d\\x8c\\xec\\x97\\x90 \\xeb\\x93\\xa4\\xeb\\x8d\\x94\\xeb\\x9d\\xbc\\xea\\xb3\\xa0\\xec\\x9a\\x94. \\xea\\xb7\\xb8\\xeb\\x9e\\x98\\xec\\x84\\x9c \\xec\\x98\\xa4\\xeb\\x8a\\x98\\xec\\x9d\\x80 \\xeb\\xb0\\x80\\xeb\\x9e\\x8d\\xeb\\x9e\\xa9 \\xeb\\xa7\\x8c\\xeb\\x93\\xa4\\xea\\xb8\\xb0, \\xec\\x82\\xac\\xec\\x9a\\xa9\\xeb\\xb0\\xa9\\xeb\\xb2\\x95, \\xec\\x84\\xb8\\xec\\xb2\\x99\\xeb\\xb2\\x95 \\xeb\\x93\\xb1\\xec\\x9d\\x84 \\xec\\x95\\x8c\\xec\\x95\\x84\\xeb\\xb3\\xb4\\xeb\\x8f\\x84\\xeb\\xa1\\x9d \\xed\\x95\\x98\\xea\\xb2\\xa0\\xec\\x8a\\xb5\\xeb\\x8b\\x88\\xeb\\x8b\\xa4. \\xeb\\xb0\\x80\\xeb\\x9e\\x8d\\xeb\\x9e\\xa9\\xec\\x9d\\xb4\\xeb\\x9e\\x80? \\xeb\\xb0\\x80\\xeb\\x9e\\x8d\\xec\\x9d\\x80 \\xeb\\xb2\\x8c\\xec\\xa7\\x91\\xec\\x97\\x90\\xec\\x84\\x9c \\xec\\xb1\\x84\\xec\\xb7\\xa8\\xed\\x95\\x98\\xeb\\x8a\\x94 \\xeb\\x8f\\x99\\xeb\\xac\\xbc\\xec\\x84\\xb1 \\xea\\xb3\\xa0\\xec\\xb2\\xb4\\xec\\x98\\x88\\xec\\x9a\\x94. \\xeb\\xb9\\x84\\xec\\xa6\\x88\\xec\\x99\\x81\\xec\\x8a\\xa4\\xeb\\x9d\\xbc\\xea\\xb3\\xa0\\xeb\\x8f\\x84 \\xed\\x95\\x98\\xeb\\xa9\\xb0 \\xeb\\xb2\\x8c.</p>\\n\\t\\t\\t\\t\\t\\t<div class=\"source_box\">\\n\\t\\t\\t\\t\\t\\t\\t<span class=\"date\">1\\xea\\xb0\\x9c\\xec\\x9b\\x94 \\xec\\xa0\\x84</span>\\n\\t\\t\\t\\t\\t\\t\\t<span class=\"source\">\\n                                \\n                                <span class=\"source_inner\">\\xec\\xa2\\x85\\xec\\x9d\\xb4\\xeb\\xb3\\xb4\\xed\\x96\\x89\\xea\\xb8\\xb0</span>\\n                            </span>\\n\\t\\t\\t\\t\\t\\t</div>\\n\\t\\t\\t\\t\\t</a>\\n\\t\\t\\t\\t</li>\\n\\t\\t\\t\\n\\t\\t\\t\\t<li class=\"theme_item\" data-gdid=\"63885d099197cb005aba2b20\" data-da-position=\"true\">\\n\\t\\t\\t\\t\\t<a href=\"https://post.naver.com/viewer/postView.naver?volumeNo&#x3D;34760816&amp;memberNo&#x3D;35665182\" class=\"theme_thumb\" data-clk=\"tcc_lif.list3cont5\" target=\"_blank\">\\n\\t\\t\\t\\t\\t\\t<img  data-src=\"https://s.pstatic.net/dthumb.phinf/?src&#x3D;%22https%3A%2F%2Fs.pstatic.net%2Fshop.phinf%2F20221130_50%2F1669806073311yu874_JPEG%2Fg.jpg%22&amp;type&#x3D;nf340_228\" alt=\"\\xeb\\x8b\\xa4\\xec\\x84\\xaf \\xeb\\xb2\\x88\\xec\\x9d\\x98 \\xec\\x9d\\xb4\\xec\\x82\\xac \\xeb\\x81\\x9d\\xec\\x97\\x90 \\xec\\x99\\x84\\xec\\x84\\xb1\\xeb\\x90\\x9c \\xeb\\x82\\x98\\xec\\x9d\\x98 \\xec\\xb7\\xa8\\xed\\x96\\xa5\\xec\\x9d\\xb4 \\xeb\\x8b\\xb4\\xea\\xb8\\xb4 \\xec\\xa7\\x91\" width=\"170\" height=\"114\" onerror=\"this.outerHTML=\\'<span class=\\\\\\'pm_noimg\\\\\\'><span class=\\\\\\'noimg_text\\\\\\'>\\xec\\x9d\\xb4\\xeb\\xaf\\xb8\\xec\\xa7\\x80 \\xec\\xa4\\x80\\xeb\\xb9\\x84\\xec\\xa4\\x91</span></span>\\'\">\\n\\t\\t\\t\\t\\t\\t<span class=\"thumb_bd\"></span>\\n                        \\n\\t\\t\\t\\t\\t</a>\\n\\t\\t\\t\\t\\t<a href=\"https://post.naver.com/viewer/postView.naver?volumeNo&#x3D;34760816&amp;memberNo&#x3D;35665182\" class=\"theme_info\" data-clk=\"tcc_lif.list3cont5\" target=\"_blank\">\\n\\t\\t\\t\\t\\t\\t<em class=\"theme_category\"> \\xeb\\xa6\\xac\\xeb\\xb9\\x99</em>\\n\\t\\t\\t\\t\\t\\t<strong class=\"title elss\">\\xeb\\x8b\\xa4\\xec\\x84\\xaf \\xeb\\xb2\\x88\\xec\\x9d\\x98 \\xec\\x9d\\xb4\\xec\\x82\\xac \\xeb\\x81\\x9d\\xec\\x97\\x90 \\xec\\x99\\x84\\xec\\x84\\xb1\\xeb\\x90\\x9c \\xeb\\x82\\x98\\xec\\x9d\\x98 \\xec\\xb7\\xa8\\xed\\x96\\xa5\\xec\\x9d\\xb4 \\xeb\\x8b\\xb4\\xea\\xb8\\xb4 \\xec\\xa7\\x91</strong>\\n                        <p class=\"desc\">\\xeb\\x8b\\xa4\\xec\\x84\\xaf \\xeb\\xb2\\x88\\xec\\x9d\\x98 \\xec\\x9d\\xb4\\xec\\x82\\xac\\xeb\\xa5\\xbc \\xea\\xb1\\xb0\\xec\\xb9\\x98\\xeb\\xa9\\xb0 \\xec\\x85\\x80\\xed\\x94\\x84 \\xec\\x9d\\xb8\\xed\\x85\\x8c\\xeb\\xa6\\xac\\xec\\x96\\xb4\\xec\\x9d\\x98 \\xeb\\x8b\\xac\\xec\\x9d\\xb8\\xec\\x9d\\xb4 \\xeb\\x90\\x9c \\xed\\x98\\x9c\\xec\\xa0\\x95 \\xec\\x94\\xa8\\xeb\\x8a\\x94 \\xec\\x9d\\xb4 \\xec\\xa7\\x91\\xec\\x9c\\xbc\\xeb\\xa1\\x9c \\xec\\x9d\\xb4\\xec\\x82\\xac\\xed\\x95\\x98\\xeb\\xa9\\xb0 \\xec\\x9d\\xb8\\xed\\x85\\x8c\\xeb\\xa6\\xac\\xec\\x96\\xb4\\xec\\x97\\x90 \\xeb\\x8c\\x80\\xed\\x95\\x9c \\xed\\x99\\x95\\xea\\xb3\\xa0\\xed\\x95\\x9c \\xec\\x83\\x9d\\xea\\xb0\\x81\\xec\\x9d\\xb4 \\xec\\x9e\\x88\\xec\\x97\\x88\\xeb\\x8b\\xa4. \\xec\\x97\\xac\\xeb\\x9f\\xac \\xeb\\xb2\\x88\\xec\\x9d\\x98 \\xec\\x9d\\xb4\\xec\\x82\\xac\\xec\\x99\\x80 \\xec\\x9d\\xb8\\xed\\x85\\x8c\\xeb\\xa6\\xac\\xec\\x96\\xb4\\xeb\\xa5\\xbc \\xec\\xa7\\x81\\xec\\xa0\\x91 \\xed\\x95\\xb4\\xec\\x98\\xa4\\xeb\\xa9\\xb4\\xec\\x84\\x9c \\xea\\xb9\\xa8\\xeb\\x8b\\xac\\xec\\x9d\\x80 \\xed\\x98\\x9c\\xec\\xa0\\x95 \\xec\\x94\\xa8\\xec\\x9d\\x98 \\xec\\xb7\\xa8\\xed\\x96\\xa5\\xec\\x9d\\x80 \\xea\\xb5\\xb0\\xeb\\x8d\\x94\\xeb\\x8d\\x94\\xea\\xb8\\xb0 \\xec\\x97\\x86\\xeb\\x8a\\x94, \\xed\\x95\\x9c\\xed\\x8e\\xb8\\xec\\x9c\\xbc\\xeb\\xa1\\x9c\\xeb\\x8a\\x94 \\xed\\x88\\xac\\xeb\\xb0\\x95\\xed\\x95\\x98\\xec\\xa7\\x80\\xeb\\xa7\\x8c \\xec\\x9e\\x90\\xec\\x97\\xb0\\xec\\x8a\\xa4\\xeb\\x9f\\xac\\xec\\x9b\\x80\\xec\\x9d\\xb4 \\xeb\\xac\\xbb\\xec\\x96\\xb4\\xeb\\x82\\x98\\xeb\\x8a\\x94 \\xea\\xb3\\xb5\\xea\\xb0\\x84\\xec\\x9d\\xb4\\xec\\x97\\x88\\xeb\\x8b\\xa4. \\xec\\xa7\\x91\\xec\\x9d\\x98 \\xec\\xa0\\x84\\xec\\xb2\\xb4\\xec\\xa0\\x81\\xec\\x9d\\xb8 \\xeb\\xb6\\x84\\xec\\x9c\\x84\\xea\\xb8\\xb0\\xeb\\x8a\\x94 \\xec\\x9d\\xbc\\xeb\\xb3\\xb8\\xec\\x9d\\x98 \\xed\\x95\\x9c \\xeb\\xa6\\xac\\xeb\\xb9\\x99 \\xeb\\xb8\\x8c\\xeb\\x9e\\x9c\\xeb\\x93\\x9c \\xec\\xbd\\x98\\xec\\x85\\x89\\xed\\x8a\\xb8\\xeb\\xa5\\xbc \\xec\\x98\\xa4\\xeb\\xa7\\x88\\xec\\xa3\\xbc\\xed\\x95\\xb4 \\xeb\\x94\\xb0\\xec\\x8a\\xa4\\xed\\x95\\x98\\xea\\xb3\\xa0 \\xec\\x95\\x84\\xeb\\x8a\\x91\\xed\\x95\\x9c \\xeb\\xb6\\x84\\xec\\x9c\\x84\\xea\\xb8\\xb0\\xea\\xb0\\x80 \\xea\\xb9\\x94\\xeb\\xa0\\xa4 \\xec\\x9e\\x88</p>\\n\\t\\t\\t\\t\\t\\t<div class=\"source_box\">\\n\\t\\t\\t\\t\\t\\t\\t<span class=\"date\">1\\xea\\xb0\\x9c\\xec\\x9b\\x94 \\xec\\xa0\\x84</span>\\n\\t\\t\\t\\t\\t\\t\\t<span class=\"source\">\\n                                \\n                                <span class=\"source_inner\">\\xec\\x95\\x84\\xec\\x9d\\xb4\\xec\\x97\\x91\\xec\\x8a\\xa4\\xeb\\x94\\x94\\xec\\x9e\\x90\\xec\\x9d\\xb8</span>\\n                            </span>\\n\\t\\t\\t\\t\\t\\t</div>\\n\\t\\t\\t\\t\\t</a>\\n\\t\\t\\t\\t</li>\\n\\t\\t\\t\\n\\t\\t</ul>\\n\\t</div>\\n</div>\\n<div class=\"group_theme\" data-block-id=\"\" data-block-code=\"PC-THEME-LIVINGHOME-MOBILE-RANKING-DEFAULT-3\" data-block-type=\"MATERIALS\" data-template-code=\"MOBILE-RANKING-LIST\"\\n\\n\\t data-da=\"container\"\\n\\t data-index=\"\"\\n     data-page=\"2\"\\n\\t style=\"display:none\">\\n\\n\\t<div class=\"list_theme_wrap\">\\n\\t\\t<ul class=\"list_theme\">\\n\\t\\t\\t\\n\\t\\t\\t\\t<li class=\"theme_item\" data-gdid=\"6392c733b4b8050076f6be55\" data-da-position=\"true\">\\n\\t\\t\\t\\t\\t<a href=\"https://blog.naver.com/living_food/222932188994\" class=\"theme_thumb\" data-clk=\"tcc_lif.list4cont1\" target=\"_blank\">\\n\\t\\t\\t\\t\\t\\t<img  data-src=\"https://s.pstatic.net/dthumb.phinf/?src&#x3D;%22https%3A%2F%2Fs.pstatic.net%2Fshop.phinf%2F20221122_262%2F1669108048234NPjhh_JPEG%2Fgarlic-2556022_1920.jpg%22&amp;type&#x3D;nf340_228\" alt=\"\\xec\\x9e\\x90\\xeb\\x9e\\x91\\xed\\x95\\x98\\xea\\xb3\\xa0 \\xec\\x8b\\xb6\\xec\\x9d\\x80 \\xec\\x82\\xb4\\xeb\\xa6\\xbc\\xeb\\x85\\xb8\\xed\\x95\\x98\\xec\\x9a\\xb0, \\xeb\\xa6\\xac\\xeb\\xb9\\x99\\xec\\x9e\\x87\\xed\\x85\\x9c\\xec\\x9d\\x84 \\xec\\x86\\x8c\\xea\\xb0\\x9c\\xed\\x95\\xb4\\xec\\xa3\\xbc\\xec\\x84\\xb8\\xec\\x9a\\x94\" width=\"170\" height=\"114\" onerror=\"this.outerHTML=\\'<span class=\\\\\\'pm_noimg\\\\\\'><span class=\\\\\\'noimg_text\\\\\\'>\\xec\\x9d\\xb4\\xeb\\xaf\\xb8\\xec\\xa7\\x80 \\xec\\xa4\\x80\\xeb\\xb9\\x84\\xec\\xa4\\x91</span></span>\\'\">\\n\\t\\t\\t\\t\\t\\t<span class=\"thumb_bd\"></span>\\n                        \\n\\t\\t\\t\\t\\t</a>\\n\\t\\t\\t\\t\\t<a href=\"https://blog.naver.com/living_food/222932188994\" class=\"theme_info\" data-clk=\"tcc_lif.list4cont1\" target=\"_blank\">\\n\\t\\t\\t\\t\\t\\t<em class=\"theme_category\"> \\xeb\\xa6\\xac\\xeb\\xb9\\x99</em>\\n\\t\\t\\t\\t\\t\\t<strong class=\"title elss\">\\xec\\x9e\\x90\\xeb\\x9e\\x91\\xed\\x95\\x98\\xea\\xb3\\xa0 \\xec\\x8b\\xb6\\xec\\x9d\\x80 \\xec\\x82\\xb4\\xeb\\xa6\\xbc\\xeb\\x85\\xb8\\xed\\x95\\x98\\xec\\x9a\\xb0, \\xeb\\xa6\\xac\\xeb\\xb9\\x99\\xec\\x9e\\x87\\xed\\x85\\x9c\\xec\\x9d\\x84 \\xec\\x86\\x8c\\xea\\xb0\\x9c\\xed\\x95\\xb4\\xec\\xa3\\xbc\\xec\\x84\\xb8\\xec\\x9a\\x94</strong>\\n                        <p class=\"desc\">\\xeb\\x84\\xa4\\xec\\x9d\\xb4\\xeb\\xb2\\x84 \\xeb\\xa6\\xac\\xeb\\xb9\\x99\\xea\\xb3\\xbc \\xed\\x95\\xa8\\xea\\xbb\\x98\\xed\\x95\\x98\\xeb\\x8a\\x94 \\xeb\\xa9\\x94\\xec\\x9d\\xb8 \\xeb\\x8f\\x84\\xec\\xa0\\x84 \\xeb\\xa6\\xac\\xeb\\xb9\\x99&amp;\\xeb\\xa0\\x88\\xec\\x8b\\x9c\\xed\\x94\\xbc\\xec\\x99\\x80 \\xec\\x9d\\xb4\\xec\\x9b\\x83 \\xec\\xb6\\x94\\xea\\xb0\\x80\\xed\\x95\\x98\\xea\\xb3\\xa0 \\xeb\\xb8\\x94\\xeb\\xa1\\x9c\\xea\\xb7\\xb8 \\xed\\x98\\xb9\\xec\\x9d\\x80 \\xed\\x8f\\xac\\xec\\x8a\\xa4\\xed\\x8c\\x85 url\\xec\\x9d\\x84 \\xeb\\xb9\\x84\\xea\\xb3\\xb5\\xea\\xb0\\x9c \\xeb\\x8c\\x93\\xea\\xb8\\x80\\xeb\\xa1\\x9c \\xeb\\x82\\xa8\\xea\\xb2\\xa8\\xec\\xa3\\xbc\\xec\\x84\\xb8\\xec\\x9a\\x94. \\xeb\\xa7\\x90\\xeb\\xa8\\xb8\\xeb\\xa6\\xac\\xec\\x97\\x90 [\\xec\\x82\\xb4\\xeb\\xa6\\xbc] [\\xeb\\xa6\\xac\\xeb\\xb9\\x99\\xec\\x9e\\x87\\xed\\x85\\x9c] \\xeb\\xa5\\xbc \\xeb\\xb6\\x99\\xec\\x97\\xac \\xec\\xa3\\xbc\\xec\\x8b\\x9c\\xea\\xb3\\xa0, \\xed\\x8f\\xac\\xec\\x8a\\xa4\\xed\\x8c\\x85\\xec\\x9d\\x98 \\xea\\xb0\\x84\\xeb\\x9e\\xb5\\xed\\x95\\x9c \\xeb\\x82\\xb4\\xec\\x9a\\xa9 \\xec\\x84\\xa4\\xeb\\xaa\\x85\\xeb\\x8f\\x84 \\xeb\\xb6\\x80\\xed\\x83\\x81\\xeb\\x93\\x9c\\xeb\\xa6\\xb4\\xea\\xb2\\x8c\\xec\\x9a\\x94. \\xec\\x82\\xb4\\xeb\\xa6\\xbc \\xec\\xb6\\x94\\xec\\xb2\\x9c \\xed\\x82\\xa4\\xec\\x9b\\x8c\\xeb\\x93\\x9c #\\xea\\xb2\\xa8\\xec\\x9a\\xb8\\xeb\\xa7\\x9e\\xec\\x9d\\xb4\\xec\\x82\\xb4\\xeb\\xa6\\xbc #\\xec\\x98\\xb7\\xec\\x9e\\xa5\\xec\\xa0\\x95\\xeb\\xa6\\xac #\\xec\\x8b\\xa4\\xeb\\x82\\xb4\\xec\\x98\\xa8\\xeb\\x8f\\x84\\xeb\\x86\\x92\\xec\\x9d\\xb4\\xeb\\x8a\\x94\\xeb\\xb2\\x95 #\\xec\\x88\\x98\\xeb\\x82\\xa9\\xeb\\x85\\xb8\\xed\\x95\\x98\\xec\\x9a\\xb0 #\\xed\\x8c\\xac\\xed\\x8a\\xb8\\xeb\\xa6\\xac\\xec\\xa0\\x95\\xeb\\xa6\\xac #\\xec\\xb2\\x9c\\xec\\x97\\xb0\\xec\\x84\\xb8\\xec\\xa0\\x9c\\xeb\\xa7\\x8c\\xeb\\x93\\xa4\\xea\\xb8\\xb0 #\\xec\\xb9\\x9c\\xed\\x99\\x98\\xea\\xb2\\xbd\\xec\\x82\\xb4\\xeb\\xa6\\xbc\\xeb\\xb2\\x95 #\\xec\\xa0\\x9c\\xeb\\xa1\\x9c\\xec\\x9b\\xa8\\xec\\x9d\\xb4\\xec\\x8a\\xa4\\xed\\x8a\\xb8\\xeb\\x8f\\x84\\xec\\xa0\\x84\\xea\\xb8\\xb0 #\\xed\\x94\\x8c\\xeb\\x9d\\xbc\\xec\\x8a\\xa4\\xed\\x8b\\xb1\\xed\\x94\\x84\\xeb\\xa6\\xac</p>\\n\\t\\t\\t\\t\\t\\t<div class=\"source_box\">\\n\\t\\t\\t\\t\\t\\t\\t<span class=\"date\">3\\xec\\xa3\\xbc\\xec\\x9d\\xbc \\xec\\xa0\\x84</span>\\n\\t\\t\\t\\t\\t\\t\\t<span class=\"source\">\\n                                \\n                                <span class=\"source_inner\">\\xeb\\xa6\\xac\\xeb\\xb9\\x99N\\xeb\\xa0\\x88\\xec\\x8b\\x9c\\xed\\x94\\xbc</span>\\n                            </span>\\n\\t\\t\\t\\t\\t\\t</div>\\n\\t\\t\\t\\t\\t</a>\\n\\t\\t\\t\\t</li>\\n\\t\\t\\t\\n\\t\\t\\t\\t<li class=\"theme_item\" data-gdid=\"63885cb754d83700652e0357\" data-da-position=\"true\">\\n\\t\\t\\t\\t\\t<a href=\"https://blog.naver.com/todaysen/222942303799\" class=\"theme_thumb\" data-clk=\"tcc_lif.list4cont2\" target=\"_blank\">\\n\\t\\t\\t\\t\\t\\t<img  data-src=\"https://s.pstatic.net/dthumb.phinf/?src&#x3D;%22https%3A%2F%2Fs.pstatic.net%2Fshop.phinf%2F20221205_43%2F1670219620314bLHjU_JPEG%2F%25C8%25AD%25B8%25E9_%25C4%25B8%25C3%25B3_2022-12-05_144932.jpg%22&amp;type&#x3D;nf340_228\" alt=\"\\xec\\x8b\\xa0\\xed\\x98\\xbc\\xec\\xa7\\x91 \\xec\\xb9\\xa8\\xec\\x8b\\xa4 \\xea\\xb3\\xb5\\xea\\xb0\\x84 \\xeb\\xa3\\xb8 \\xed\\x88\\xac\\xec\\x96\\xb4\" width=\"170\" height=\"114\" onerror=\"this.outerHTML=\\'<span class=\\\\\\'pm_noimg\\\\\\'><span class=\\\\\\'noimg_text\\\\\\'>\\xec\\x9d\\xb4\\xeb\\xaf\\xb8\\xec\\xa7\\x80 \\xec\\xa4\\x80\\xeb\\xb9\\x84\\xec\\xa4\\x91</span></span>\\'\">\\n\\t\\t\\t\\t\\t\\t<span class=\"thumb_bd\"></span>\\n                        \\n\\t\\t\\t\\t\\t</a>\\n\\t\\t\\t\\t\\t<a href=\"https://blog.naver.com/todaysen/222942303799\" class=\"theme_info\" data-clk=\"tcc_lif.list4cont2\" target=\"_blank\">\\n\\t\\t\\t\\t\\t\\t<em class=\"theme_category\"> \\xeb\\xa6\\xac\\xeb\\xb9\\x99</em>\\n\\t\\t\\t\\t\\t\\t<strong class=\"title elss\">\\xec\\x8b\\xa0\\xed\\x98\\xbc\\xec\\xa7\\x91 \\xec\\xb9\\xa8\\xec\\x8b\\xa4 \\xea\\xb3\\xb5\\xea\\xb0\\x84 \\xeb\\xa3\\xb8 \\xed\\x88\\xac\\xec\\x96\\xb4</strong>\\n                        <p class=\"desc\">\\xed\\x95\\x9c\\xeb\\x8f\\x99\\xec\\x95\\x88 \\xec\\xb9\\xa8\\xec\\x8b\\xa4\\xec\\x97\\x90 \\xec\\xb9\\xa8\\xeb\\x8c\\x80\\xeb\\xa7\\x8c \\xec\\x9e\\x88\\xeb\\x8b\\xa4\\xea\\xb0\\x80 \\xec\\x8b\\x9c\\xea\\xb0\\x84\\xec\\x9d\\xb4 \\xec\\xa7\\x80\\xeb\\x82\\x98\\xeb\\x8b\\x88 \\xec\\x97\\xac\\xeb\\x9f\\xac \\xec\\x86\\x8c\\xed\\x92\\x88\\xeb\\x93\\xa4\\xeb\\xa1\\x9c \\xed\\x95\\x98\\xeb\\x82\\x98\\xec\\x94\\xa9 \\xec\\xb1\\x84\\xec\\x9b\\x8c\\xec\\xa1\\x8c\\xeb\\x8b\\xa4 \\xec\\x9d\\xb4 \\xed\\x9c\\x91\\xed\\x95\\x9c \\xea\\xb3\\xb5\\xea\\xb0\\x84\\xec\\x9d\\x84 \\xec\\x96\\xb8\\xec\\xa0\\x9c \\xeb\\x8b\\xa4 \\xec\\xb1\\x84\\xec\\x9a\\xb0\\xeb\\x82\\x98 \\xed\\x96\\x88\\xec\\x97\\x88\\xeb\\x8a\\x94\\xeb\\x8d\\xb0 \\xec\\x9d\\xb4\\xec\\xa0\\x9c \\xec\\x96\\xb4\\xeb\\x8a\\x90 \\xec\\xa0\\x95\\xeb\\x8f\\x84 \\xeb\\xa7\\x88\\xec\\x9d\\x8c\\xec\\x97\\x90 \\xeb\\x93\\xa4\\xea\\xb2\\x8c \\xeb\\x90\\x98\\xec\\x97\\x88\\xeb\\x8b\\xa4 \\xea\\xb7\\xb8\\xeb\\x9e\\x98\\xec\\x84\\x9c \\xed\\x8f\\xac\\xec\\x8a\\xa4\\xed\\x8c\\x85\\xed\\x95\\x98\\xea\\xb2\\x8c \\xeb\\x90\\x9c \\xec\\xb9\\xa8\\xec\\x8b\\xa4 \\xeb\\xa3\\xb8\\xed\\x88\\xac\\xec\\x96\\xb4! \\xec\\xa7\\x91\\xec\\x97\\x90 \\xeb\\x93\\xa4\\xec\\x96\\xb4\\xec\\x99\\x94\\xec\\x9d\\x84 \\xeb\\x95\\x8c \\xeb\\xac\\xb8\\xec\\x9d\\x84 \\xec\\x97\\xb4\\xec\\x96\\xb4 \\xeb\\x91\\x90\\xeb\\xa9\\xb4 \\xeb\\xb3\\xb4\\xec\\x9d\\xb4\\xeb\\x8a\\x94 \\xec\\xb9\\xa8\\xec\\x8b\\xa4 \\xed\\x92\\x8d\\xea\\xb2\\xbd \\xeb\\xac\\xb8 \\xeb\\x84\\x88\\xeb\\xa8\\xb8\\xeb\\xa1\\x9c \\xeb\\xb3\\xb4\\xec\\x9d\\xb4\\xeb\\x8a\\x94 \\xec\\x9d\\xb4 \\xea\\xb3\\xb5\\xea\\xb0\\x84 \\xeb\\x8a\\x90\\xeb\\x82\\x8c\\xec\\x9d\\x84 \\xec\\xa2\\x8b\\xec\\x95\\x84\\xed\\x95\\xb4 \\xeb\\xb0\\xa9\\xeb\\xac\\xb8\\xec\\x9d\\x84 \\xed\\x95\\xad\\xec\\x83\\x81 \\xec\\x97\\xb4\\xec\\x96\\xb4\\xeb\\x91\\x90\\xeb\\x8a\\x94 \\xed\\x8e\\xb8\\xec\\x9d\\xb4\\xeb\\x8b\\xa4 -\\xea\\xb4\\x80\\xeb\\xa0\\xa8 \\xeb\\xa6\\xac\\xeb\\xb7\\xb0- \\xed\\x99\\x94\\xec\\x9d\\xb4\\xed\\x8a\\xb8 \\xea\\xb3\\x84\\xec\\x97\\xb4\\xec\\x9d\\x98 \\xeb\\xb0\\x9d\\xec\\x9d\\x80 \\xea\\xb1\\xb0\\xec\\x8b\\xa4\\xea\\xb3\\xbc \\xeb\\x8b\\xa4\\xeb\\xa5\\xb4\\xea\\xb2\\x8c \\xec\\xb9\\xa8</p>\\n\\t\\t\\t\\t\\t\\t<div class=\"source_box\">\\n\\t\\t\\t\\t\\t\\t\\t<span class=\"date\">1\\xec\\xa3\\xbc\\xec\\x9d\\xbc \\xec\\xa0\\x84</span>\\n\\t\\t\\t\\t\\t\\t\\t<span class=\"source\">\\n                                \\n                                <span class=\"source_inner\">\\xec\\x98\\xa4\\xeb\\x8a\\x98\\xed\\x95\\x98\\xeb\\xa3\\xa8 \\xec\\x84\\xbc</span>\\n                            </span>\\n\\t\\t\\t\\t\\t\\t</div>\\n\\t\\t\\t\\t\\t</a>\\n\\t\\t\\t\\t</li>\\n\\t\\t\\t\\n\\t\\t\\t\\t<li class=\"theme_item\" data-gdid=\"63885cb754d83700652e0359\" data-da-position=\"true\">\\n\\t\\t\\t\\t\\t<a href=\"https://blog.naver.com/hui_home/222942215560\" class=\"theme_thumb\" data-clk=\"tcc_lif.list4cont3\" target=\"_blank\">\\n\\t\\t\\t\\t\\t\\t<img  data-src=\"https://s.pstatic.net/dthumb.phinf/?src&#x3D;%22https%3A%2F%2Fs.pstatic.net%2Fshop.phinf%2F20221130_205%2F1669805673493IxoNv_JPEG%2FSE-B51FC5B1-710E-41E1-B831-9FA9D0ACEAD7.jpg%22&amp;type&#x3D;nf340_228\" alt=\"\\xeb\\x82\\x98\\xec\\x9d\\x98 \\xec\\xb5\\x9c\\xec\\x95\\xa0 \\xea\\xb3\\xb5\\xea\\xb0\\x84, \\xec\\x84\\x9c\\xec\\x9e\\xac \\xeb\\x98\\x90\\xeb\\x8a\\x94 \\xec\\xb7\\xa8\\xeb\\xaf\\xb8\\xeb\\xb0\\xa9 \\xec\\x9d\\xb8\\xed\\x85\\x8c\\xeb\\xa6\\xac\\xec\\x96\\xb4\" width=\"170\" height=\"114\" onerror=\"this.outerHTML=\\'<span class=\\\\\\'pm_noimg\\\\\\'><span class=\\\\\\'noimg_text\\\\\\'>\\xec\\x9d\\xb4\\xeb\\xaf\\xb8\\xec\\xa7\\x80 \\xec\\xa4\\x80\\xeb\\xb9\\x84\\xec\\xa4\\x91</span></span>\\'\">\\n\\t\\t\\t\\t\\t\\t<span class=\"thumb_bd\"></span>\\n                        \\n\\t\\t\\t\\t\\t</a>\\n\\t\\t\\t\\t\\t<a href=\"https://blog.naver.com/hui_home/222942215560\" class=\"theme_info\" data-clk=\"tcc_lif.list4cont3\" target=\"_blank\">\\n\\t\\t\\t\\t\\t\\t<em class=\"theme_category\"> \\xeb\\xa6\\xac\\xeb\\xb9\\x99</em>\\n\\t\\t\\t\\t\\t\\t<strong class=\"title elss\">\\xeb\\x82\\x98\\xec\\x9d\\x98 \\xec\\xb5\\x9c\\xec\\x95\\xa0 \\xea\\xb3\\xb5\\xea\\xb0\\x84, \\xec\\x84\\x9c\\xec\\x9e\\xac \\xeb\\x98\\x90\\xeb\\x8a\\x94 \\xec\\xb7\\xa8\\xeb\\xaf\\xb8\\xeb\\xb0\\xa9 \\xec\\x9d\\xb8\\xed\\x85\\x8c\\xeb\\xa6\\xac\\xec\\x96\\xb4</strong>\\n                        <p class=\"desc\">\\xea\\xb5\\xac\\xec\\xa1\\xb0\\xeb\\xa9\\xb0 \\xea\\xb0\\x80\\xea\\xb5\\xac\\xeb\\xa9\\xb0 \\xea\\xb0\\x80\\xec\\x9e\\xa5 \\xea\\xb3\\xa0\\xeb\\xaf\\xbc\\xec\\x9d\\x84 \\xeb\\xa7\\x8e\\xec\\x9d\\xb4 \\xed\\x96\\x88\\xeb\\x8d\\x98 \\xec\\x84\\x9c\\xec\\x9e\\xac\\xeb\\x8a\\x94 \\xea\\xb7\\xb8\\xeb\\xa7\\x8c\\xed\\x81\\xbc \\xeb\\x82\\x98\\xec\\x9d\\x98 \\xec\\xb5\\x9c\\xec\\x95\\xa0 \\xea\\xb3\\xb5\\xea\\xb0\\x84\\xec\\x9d\\xb4 \\xeb\\x90\\x98\\xec\\x97\\x88\\xeb\\x8b\\xa4. \\xf0\\x9f\\x92\\x9b \\xec\\x9e\\x85\\xec\\xa3\\xbc\\xed\\x95\\x9c\\xec\\xa7\\x80 1\\xeb\\x85\\x84\\xec\\x9d\\xb4 \\xec\\xa7\\x80\\xeb\\x82\\x9c \\xed\\x98\\x84\\xec\\x9e\\xac, \\xec\\xb5\\x9c\\xea\\xb7\\xbc \\xea\\xb5\\xac\\xec\\xa1\\xb0\\xeb\\xa5\\xbc \\xeb\\xb3\\x80\\xea\\xb2\\xbd\\xed\\x95\\x9c \\xeb\\x82\\x98\\xec\\x9d\\x98 \\xec\\xb5\\x9c\\xec\\x95\\xa0\\xea\\xb3\\xb5\\xea\\xb0\\x84\\xec\\x9d\\x84 \\xec\\x86\\x8c\\xea\\xb0\\x9c\\xed\\x95\\xb4\\xeb\\xb3\\xbc \\xea\\xb2\\xb8, \\xec\\x9d\\xb4 \\xeb\\xb0\\xa9\\xec\\x9d\\x98 \\xeb\\xb3\\x80\\xec\\xb2\\x9c\\xec\\x82\\xac\\xeb\\xa5\\xbc \\xea\\xb8\\xb0\\xeb\\xa1\\x9d\\xeb\\x8f\\x84 \\xed\\x95\\xb4\\xeb\\x91\\x98 \\xea\\xb2\\xb8 \\xed\\x8f\\xac\\xec\\x8a\\xa4\\xed\\x8c\\x85\\xec\\x9d\\x84 \\xec\\x8b\\x9c\\xec\\x9e\\x91\\xed\\x95\\xb4\\xeb\\xb3\\xb8\\xeb\\x8b\\xa4. \\xea\\xb4\\x80\\xeb\\xa0\\xa8 \\xec\\x83\\x81\\xed\\x92\\x88 \\xec\\xa0\\x95\\xeb\\xb3\\xb4\\xeb\\x8f\\x84 \\xea\\xb8\\x80 \\xed\\x95\\x98\\xeb\\x8b\\xa8\\xec\\x97\\x90 \\xea\\xb3\\xb5\\xec\\x9c\\xa0\\xed\\x95\\xb4\\xeb\\xb3\\xb4\\xea\\xb2\\xa0\\xec\\x8a\\xb4\\xeb\\x91\\xa5. \\xeb\\xa7\\x88\\xec\\xa3\\xbc\\xeb\\xb3\\xb4\\xea\\xb3\\xa0 \\xec\\x95\\x89\\xeb\\x8a\\x94 \\xea\\xb5\\xac\\xec\\xa1\\xb0 feat. \\xec\\x9e\\xac\\xed\\x83\\x9d\\xea\\xb7\\xbc\\xeb\\xac\\xb4, \\xed\\x99\\x88\\xec\\x98\\xa4\\xed\\x94\\xbc\\xec\\x8a\\xa4 \\xec\\x9a\\xb0\\xeb\\xa6\\xac\\xec\\xa7\\x91 \\xec\\x84\\x9c\\xec\\x9e\\xac\\xeb\\xb0\\xa9\\xec\\x9d\\x98 \\xec\\x8b\\x9c\\xec\\xb4\\x88\\xeb\\x8a\\x94 \\xec\\x9d\\xb4\\xeb\\x9f\\xb0 \\xeb\\xaa\\xa8\\xec\\x96\\x91\\xec\\x9d\\xb4\\xec\\x97\\x88\\xeb\\x8b\\xa4. \\xec\\x84\\x9c\\xec\\x9e\\xac</p>\\n\\t\\t\\t\\t\\t\\t<div class=\"source_box\">\\n\\t\\t\\t\\t\\t\\t\\t<span class=\"date\">1\\xec\\xa3\\xbc\\xec\\x9d\\xbc \\xec\\xa0\\x84</span>\\n\\t\\t\\t\\t\\t\\t\\t<span class=\"source\">\\n                                \\n                                <span class=\"source_inner\">\\xed\\x9b\\x84\\xec\\x9d\\xb4\\xed\\x99\\x88</span>\\n                            </span>\\n\\t\\t\\t\\t\\t\\t</div>\\n\\t\\t\\t\\t\\t</a>\\n\\t\\t\\t\\t</li>\\n\\t\\t\\t\\n\\t\\t\\t\\t<li class=\"theme_item\" data-gdid=\"6385cb982ea39d005306cfeb\" data-da-position=\"true\">\\n\\t\\t\\t\\t\\t<a href=\"https://blog.naver.com/luvsoop87/222932730452\" class=\"theme_thumb\" data-clk=\"tcc_lif.list4cont4\" target=\"_blank\">\\n\\t\\t\\t\\t\\t\\t<img  data-src=\"https://s.pstatic.net/dthumb.phinf/?src&#x3D;%22https%3A%2F%2Fs.pstatic.net%2Fshop.phinf%2F20221128_93%2F1669633538789apJW6_JPEG%2Frtj.jpg%22&amp;type&#x3D;nf340_228\" alt=\"\\xeb\\xb0\\x98\\xeb\\xa0\\xa4\\xea\\xb2\\xac\\xea\\xb3\\xbc \\xed\\x95\\xa8\\xea\\xbb\\x98 \\xec\\x82\\xac\\xeb\\x8a\\x94 \\xec\\x84\\xb8 \\xec\\x8b\\x9d\\xea\\xb5\\xac\\xec\\x9d\\x98 \\xec\\xa7\\x91\" width=\"170\" height=\"114\" onerror=\"this.outerHTML=\\'<span class=\\\\\\'pm_noimg\\\\\\'><span class=\\\\\\'noimg_text\\\\\\'>\\xec\\x9d\\xb4\\xeb\\xaf\\xb8\\xec\\xa7\\x80 \\xec\\xa4\\x80\\xeb\\xb9\\x84\\xec\\xa4\\x91</span></span>\\'\">\\n\\t\\t\\t\\t\\t\\t<span class=\"thumb_bd\"></span>\\n                        \\n\\t\\t\\t\\t\\t</a>\\n\\t\\t\\t\\t\\t<a href=\"https://blog.naver.com/luvsoop87/222932730452\" class=\"theme_info\" data-clk=\"tcc_lif.list4cont4\" target=\"_blank\">\\n\\t\\t\\t\\t\\t\\t<em class=\"theme_category\"> \\xeb\\xa6\\xac\\xeb\\xb9\\x99</em>\\n\\t\\t\\t\\t\\t\\t<strong class=\"title elss\">\\xeb\\xb0\\x98\\xeb\\xa0\\xa4\\xea\\xb2\\xac\\xea\\xb3\\xbc \\xed\\x95\\xa8\\xea\\xbb\\x98 \\xec\\x82\\xac\\xeb\\x8a\\x94 \\xec\\x84\\xb8 \\xec\\x8b\\x9d\\xea\\xb5\\xac\\xec\\x9d\\x98 \\xec\\xa7\\x91</strong>\\n                        <p class=\"desc\">2020\\xeb\\x85\\x84 \\xec\\x98\\xa4\\xeb\\x8a\\x98\\xec\\x9d\\x98\\xec\\xa7\\x91\\xec\\x97\\x90 \\xeb\\xb0\\x9c\\xed\\x96\\x89\\xeb\\x90\\x98\\xec\\x97\\x88\\xeb\\x8d\\x98 \\xec\\x9a\\xb0\\xeb\\xa6\\xac\\xec\\xa7\\x91 \\xec\\x88\\x98\\xeb\\x8f\\x99\\xec\\xa0\\x9c\\xed\\x95\\x98\\xec\\x9a\\xb0\\xec\\x8a\\xa4 \\xec\\x98\\xa8\\xeb\\x9d\\xbc\\xec\\x9d\\xb8 \\xec\\xa7\\x91\\xeb\\x93\\xa4\\xec\\x9d\\xb4. https://ozip.me/8djDFX1 2\\xeb\\x85\\x84\\xec\\x9d\\xb4 \\xec\\xa7\\x80\\xeb\\x82\\x9c \\xec\\xa7\\x80\\xea\\xb8\\x88\\xec\\x9d\\x80 \\xec\\xa0\\x95\\xeb\\xa7\\x90 \\xeb\\x8b\\xa4\\xeb\\xa5\\xb8 \\xeb\\xaa\\xa8\\xec\\x8a\\xb5. \\xeb\\xb0\\x98\\xeb\\xa0\\xa4\\xec\\x8b\\x9d\\xeb\\xac\\xbc\\xec\\x9d\\xb4 \\xeb\\xa7\\x8e\\xec\\x9d\\xb4 \\xec\\x83\\x9d\\xea\\xb2\\xbc\\xea\\xb3\\xa0, \\xeb\\xb9\\x88\\xed\\x8b\\xb0\\xec\\xa7\\x80 \\xeb\\x8a\\x90\\xeb\\x82\\x8c\\xec\\x9d\\x98 \\xec\\xa7\\x80\\xeb\\xa5\\x98\\xed\\x95\\xa8\\xea\\xb3\\xbc \\xec\\x9d\\xb4\\xeb\\x9e\\x98\\xec\\xa0\\x80\\xeb\\x9e\\x98 \\xea\\xb5\\xac\\xec\\xa1\\xb0\\xeb\\xb3\\x80\\xea\\xb2\\xbd\\xec\\x9d\\x84 \\xeb\\xa7\\x8e\\xec\\x9d\\xb4 \\xed\\x95\\x9c \\xed\\x83\\x93\\xec\\x97\\x90 \\xeb\\x8b\\xa4\\xeb\\xa5\\xb8 \\xeb\\xb6\\x84\\xec\\x9c\\x84\\xea\\xb8\\xb0. \\xea\\xb7\\xb8\\xeb\\x9e\\x98\\xec\\x84\\x9c \\xec\\x97\\xac\\xed\\x83\\x9c \\xec\\xb0\\x8d\\xec\\x96\\xb4\\xeb\\x92\\x80\\xeb\\x8d\\x98 \\xea\\xb1\\xb0\\xec\\x8b\\xa4, \\xec\\xb9\\xa8\\xec\\x8b\\xa4, \\xeb\\xb0\\xa9 \\xea\\xb0\\x80\\xea\\xb5\\xac\\xeb\\xb0\\xb0\\xec\\xb9\\x98\\xeb\\xa5\\xbc \\xeb\\xb0\\x94\\xea\\xbe\\xbc \\xec\\x82\\xac\\xec\\xa7\\x84\\xeb\\x93\\xa4\\xec\\x9d\\x84 \\xea\\xb8\\xb0\\xeb\\xa1\\x9d\\xed\\x95\\x98\\xeb\\xa0\\xa4\\xea\\xb3\\xa0 \\xed\\x96\\x88\\xeb\\x8a\\x94\\xeb\\x8d\\xb0 \\xec\\x82\\xac\\xec\\xa7\\x84\\xec\\x96\\x91\\xec\\x9d\\xb4 \\xeb\\x84\\x88\\xeb\\xac\\xb4 \\xeb\\xa7\\x8e\\xec\\x95\\x84\\xec\\x84\\x9c \\xec\\xb5\\x9c\\xea\\xb7\\xbc \\xeb\\xaa\\x87\\xea\\xb0\\x9c</p>\\n\\t\\t\\t\\t\\t\\t<div class=\"source_box\">\\n\\t\\t\\t\\t\\t\\t\\t<span class=\"date\">3\\xec\\xa3\\xbc\\xec\\x9d\\xbc \\xec\\xa0\\x84</span>\\n\\t\\t\\t\\t\\t\\t\\t<span class=\"source\">\\n                                \\n                                <span class=\"source_inner\">\\xec\\x88\\x98\\xed\\x94\\xbc</span>\\n                            </span>\\n\\t\\t\\t\\t\\t\\t</div>\\n\\t\\t\\t\\t\\t</a>\\n\\t\\t\\t\\t</li>\\n\\t\\t\\t\\n\\t\\t\\t\\t<li class=\"theme_item\" data-gdid=\"6385cb982ea39d005306cfec\" data-da-position=\"true\">\\n\\t\\t\\t\\t\\t<a href=\"https://post.naver.com/viewer/postView.naver?volumeNo&#x3D;34845788&amp;memberNo&#x3D;954004\" class=\"theme_thumb\" data-clk=\"tcc_lif.list4cont5\" target=\"_blank\">\\n\\t\\t\\t\\t\\t\\t<img  data-src=\"https://s.pstatic.net/dthumb.phinf/?src&#x3D;%22https%3A%2F%2Fs.pstatic.net%2Fshop.phinf%2F20221128_45%2F1669633530760hmYvo_JPEG%2Fgg.jpg%22&amp;type&#x3D;nf340_228\" alt=\"\\xeb\\xaa\\xa8\\xeb\\x91\\x90\\xeb\\xa5\\xbc \\xec\\x9c\\x84\\xed\\x95\\xb4 \\xeb\\xb0\\x94\\xeb\\x8b\\xa4\\xeb\\xa5\\xbc \\xeb\\x8b\\xb4\\xec\\x9d\\x80 \\xeb\\x84\\xa4\\xeb\\xaa\\xa8\\xeb\\x82\\x9c \\xed\\x9c\\xb4\\xec\\x8b\\x9d\\xec\\x9d\\x98 \\xec\\xa7\\x91\" width=\"170\" height=\"114\" onerror=\"this.outerHTML=\\'<span class=\\\\\\'pm_noimg\\\\\\'><span class=\\\\\\'noimg_text\\\\\\'>\\xec\\x9d\\xb4\\xeb\\xaf\\xb8\\xec\\xa7\\x80 \\xec\\xa4\\x80\\xeb\\xb9\\x84\\xec\\xa4\\x91</span></span>\\'\">\\n\\t\\t\\t\\t\\t\\t<span class=\"thumb_bd\"></span>\\n                        \\n\\t\\t\\t\\t\\t</a>\\n\\t\\t\\t\\t\\t<a href=\"https://post.naver.com/viewer/postView.naver?volumeNo&#x3D;34845788&amp;memberNo&#x3D;954004\" class=\"theme_info\" data-clk=\"tcc_lif.list4cont5\" target=\"_blank\">\\n\\t\\t\\t\\t\\t\\t<em class=\"theme_category\"> \\xeb\\xa6\\xac\\xeb\\xb9\\x99</em>\\n\\t\\t\\t\\t\\t\\t<strong class=\"title elss\">\\xeb\\xaa\\xa8\\xeb\\x91\\x90\\xeb\\xa5\\xbc \\xec\\x9c\\x84\\xed\\x95\\xb4 \\xeb\\xb0\\x94\\xeb\\x8b\\xa4\\xeb\\xa5\\xbc \\xeb\\x8b\\xb4\\xec\\x9d\\x80 \\xeb\\x84\\xa4\\xeb\\xaa\\xa8\\xeb\\x82\\x9c \\xed\\x9c\\xb4\\xec\\x8b\\x9d\\xec\\x9d\\x98 \\xec\\xa7\\x91</strong>\\n                        <p class=\"desc\">\\xeb\\xb0\\x94\\xeb\\x8b\\xb7\\xea\\xb0\\x80\\xec\\x97\\x90\\xc2\\xa0\\xea\\xb5\\xac\\xeb\\xa6\\x84\\xec\\xb2\\x98\\xeb\\x9f\\xbc\\xc2\\xa0\\xec\\x96\\xb9\\xec\\x96\\xb4\\xec\\xa7\\x84\\xc2\\xa0\\xeb\\xaa\\xa8\\xeb\\x91\\x90\\xec\\x9d\\x98\\xc2\\xa0\\xec\\x89\\xbc\\xed\\x84\\xb0,\\xc2\\xa0\\xe3\\x85\\x81\\xe3\\x85\\x81\\xe3\\x85\\x81\\xe3\\x85\\x81\\xec\\xa7\\x91 \\xeb\\xb0\\x94\\xeb\\x8b\\xa4\\xc2\\xa0\\xea\\xb7\\xbc\\xec\\xb2\\x98\\xc2\\xa0\\xed\\x95\\x9c\\xec\\xa0\\x81\\xed\\x95\\x9c\\xc2\\xa0\\xeb\\xa7\\x88\\xec\\x9d\\x84\\xec\\x97\\x90\\xc2\\xa0\\xec\\xa7\\x80\\xec\\x96\\xb4\\xec\\xa7\\x84\\xc2\\xa0\\xed\\x95\\x98\\xec\\x96\\x80\\xc2\\xa0\\xec\\xa7\\x91.\\xc2\\xa0\\xeb\\xaa\\xa8\\xeb\\x91\\x90\\xea\\xb0\\x80\\xc2\\xa0\\xed\\x8e\\xb8\\xed\\x95\\x98\\xea\\xb2\\x8c\\xc2\\xa0\\xec\\xa6\\x90\\xea\\xb8\\xb0\\xea\\xb3\\xa0\\xc2\\xa0\\xeb\\x8f\\x8c\\xec\\x95\\x84\\xea\\xb0\\x88\\xc2\\xa0\\xec\\x88\\x98\\xc2\\xa0\\xec\\x9e\\x88\\xeb\\x8f\\x84\\xeb\\xa1\\x9d\\xc2\\xa0\\xeb\\xb9\\x84\\xec\\x9a\\xb0\\xea\\xb3\\xa0\\xc2\\xa0\\xec\\x97\\xb4\\xec\\x96\\xb4\\xc2\\xa0\\xed\\x91\\xb8\\xeb\\xa6\\x84\\xec\\x9d\\x84\\xc2\\xa0\\xea\\xb0\\x80\\xeb\\x93\\x9d\\xc2\\xa0\\xec\\x95\\x88\\xec\\x95\\x98\\xeb\\x8b\\xa4. \\xed\\x91\\xb8\\xeb\\xa5\\xb8 \\xeb\\xb0\\x94\\xeb\\x8b\\xa4\\xea\\xb0\\x80 \\xeb\\x82\\xb4\\xeb\\x8b\\xa4 \\xeb\\xb3\\xb4\\xec\\x9d\\xb4\\xeb\\x8a\\x94 \\xed\\x95\\x9c\\xec\\xa0\\x81\\xed\\x95\\x9c \\xeb\\xa7\\x88\\xec\\x9d\\x84. \\xec\\x9d\\xb4\\xea\\xb3\\xb3\\xec\\x97\\x90 \\xea\\xb1\\xb4\\xec\\xb6\\x95\\xec\\xa3\\xbc \\xeb\\xb6\\x80\\xeb\\xb6\\x80\\xeb\\x8a\\x94 \\xea\\xb7\\xb8\\xeb\\x93\\xa4\\xeb\\xbf\\x90\\xeb\\xa7\\x8c \\xec\\x95\\x84\\xeb\\x8b\\x88\\xeb\\x9d\\xbc \\xed\\x95\\xa8\\xea\\xbb\\x98 \\xec\\x9b\\x83\\xea\\xb3\\xa0 \\xec\\x9a\\xb8\\xeb\\xa9\\xb0 \\xeb\\x95\\x80\\xec\\x9d\\x84 \\xed\\x9d\\x98\\xeb\\xa0\\xa4\\xec\\x98\\xa8 \\xea\\xb0\\x80\\xec\\xa1\\xb1 \\xea\\xb0\\x99\\xec\\x9d\\x80 \\xec\\xa7\\x81\\xec\\x9b\\x90\\xeb\\x93\\xa4\\xea\\xb9\\x8c\\xec\\xa7\\x80, \\xeb\\xaa\\xa8\\xeb\\x91\\x90\\xeb\\xa5\\xbc \\xec\\x9c\\x84\\xed\\x95\\x9c \\xec\\xa7\\x91\\xec\\x9d\\x84 \\xec\\xa7\\x93\\xea\\xb8\\xb0\\xeb\\xa1\\x9c \\xed\\x96\\x88\\xeb\\x8b\\xa4.\\xeb\\x8b\\xa8\\xec\\x88\\x9c\\xed\\x9e\\x88 \\xec\\xa3\\xbc\\xea\\xb1\\xb0\\xeb\\xa7\\x8c\\xec\\x9d\\x84 \\xeb\\xa7\\x8c\\xec\\xa1\\xb1\\xec\\x8b\\x9c\\xed\\x82\\xa4\\xeb\\x8a\\x94 \\xec\\xa7\\x91\\xec\\x9d\\xb4 </p>\\n\\t\\t\\t\\t\\t\\t<div class=\"source_box\">\\n\\t\\t\\t\\t\\t\\t\\t<span class=\"date\">2\\xec\\xa3\\xbc\\xec\\x9d\\xbc \\xec\\xa0\\x84</span>\\n\\t\\t\\t\\t\\t\\t\\t<span class=\"source\">\\n                                \\n                                <span class=\"source_inner\">\\xec\\x9b\\x94\\xea\\xb0\\x84 \\xec\\xa0\\x84\\xec\\x9b\\x90\\xec\\x86\\x8d\\xec\\x9d\\x98 \\xeb\\x82\\xb4\\xec\\xa7\\x91</span>\\n                            </span>\\n\\t\\t\\t\\t\\t\\t</div>\\n\\t\\t\\t\\t\\t</a>\\n\\t\\t\\t\\t</li>\\n\\t\\t\\t\\n\\t\\t</ul>\\n\\t</div>\\n</div>\\n<div class=\"group_theme\" data-block-id=\"\" data-block-code=\"PC-THEME-LIVINGHOME-MOBILE-RANKING-DEFAULT-4\" data-block-type=\"MATERIALS\" data-template-code=\"MOBILE-RANKING-LIST\"\\n\\n\\t data-da=\"container\"\\n\\t data-index=\"\"\\n     data-page=\"3\"\\n\\t style=\"display:none\">\\n\\n\\t<div class=\"list_theme_wrap\">\\n\\t\\t<ul class=\"list_theme\">\\n\\t\\t\\t\\n\\t\\t\\t\\t<li class=\"theme_item\" data-gdid=\"6385cb982ea39d005306cfed\" data-da-position=\"true\">\\n\\t\\t\\t\\t\\t<a href=\"https://blog.naver.com/viah/222937105194\" class=\"theme_thumb\" data-clk=\"tcc_lif.list5cont1\" target=\"_blank\">\\n\\t\\t\\t\\t\\t\\t<img  data-src=\"https://s.pstatic.net/dthumb.phinf/?src&#x3D;%22https%3A%2F%2Fs.pstatic.net%2Fshop.phinf%2F20221128_197%2F1669633520408rYBzC_JPEG%2FSE-9cdcf34f-9f11-4e96-ad0f-fd555fa0ca44.jpg%22&amp;type&#x3D;nf340_228\" alt=\"\\xea\\xb7\\xb8\\xeb\\x8f\\x99\\xec\\x95\\x88 \\xec\\x97\\xac\\xed\\x96\\x89 \\xeb\\x8b\\xa4\\xeb\\x8b\\x88\\xeb\\xa9\\xb4\\xec\\x84\\x9c \\xeb\\xaa\\xa8\\xec\\x95\\x84\\xec\\x98\\xa8 \\xeb\\xb9\\x88\\xed\\x8b\\xb0\\xec\\xa7\\x80 \\xea\\xb7\\xb8\\xeb\\xa6\\x87\\xea\\xb3\\xbc \\xec\\xbb\\xb5\\xeb\\x93\\xa4\" width=\"170\" height=\"114\" onerror=\"this.outerHTML=\\'<span class=\\\\\\'pm_noimg\\\\\\'><span class=\\\\\\'noimg_text\\\\\\'>\\xec\\x9d\\xb4\\xeb\\xaf\\xb8\\xec\\xa7\\x80 \\xec\\xa4\\x80\\xeb\\xb9\\x84\\xec\\xa4\\x91</span></span>\\'\">\\n\\t\\t\\t\\t\\t\\t<span class=\"thumb_bd\"></span>\\n                        \\n\\t\\t\\t\\t\\t</a>\\n\\t\\t\\t\\t\\t<a href=\"https://blog.naver.com/viah/222937105194\" class=\"theme_info\" data-clk=\"tcc_lif.list5cont1\" target=\"_blank\">\\n\\t\\t\\t\\t\\t\\t<em class=\"theme_category\"> \\xeb\\xa6\\xac\\xeb\\xb9\\x99</em>\\n\\t\\t\\t\\t\\t\\t<strong class=\"title elss\">\\xea\\xb7\\xb8\\xeb\\x8f\\x99\\xec\\x95\\x88 \\xec\\x97\\xac\\xed\\x96\\x89 \\xeb\\x8b\\xa4\\xeb\\x8b\\x88\\xeb\\xa9\\xb4\\xec\\x84\\x9c \\xeb\\xaa\\xa8\\xec\\x95\\x84\\xec\\x98\\xa8 \\xeb\\xb9\\x88\\xed\\x8b\\xb0\\xec\\xa7\\x80 \\xea\\xb7\\xb8\\xeb\\xa6\\x87\\xea\\xb3\\xbc \\xec\\xbb\\xb5\\xeb\\x93\\xa4</strong>\\n                        <p class=\"desc\">\\xec\\x8b\\xb1\\xea\\xb8\\x80\\xec\\x9d\\xbc\\xeb\\x95\\x8c\\xeb\\xb6\\x80\\xed\\x84\\xb0, \\xec\\xa0\\x80\\xeb\\x8a\\x94 \\xea\\xb7\\xb8\\xeb\\xa6\\x87 \\xec\\x9a\\x95\\xec\\x8b\\xac\\xec\\x9d\\xb4 \\xeb\\xa7\\x8e\\xec\\x95\\x98\\xec\\x96\\xb4\\xec\\x9a\\x94. \\xed\\x98\\xbc\\xec\\x9e\\x90\\xec\\x82\\xac\\xeb\\x8a\\x94 \\xec\\x98\\xa4\\xed\\x94\\xbc\\xec\\x8a\\xa4\\xed\\x85\\x94\\xec\\x9d\\x98 \\xec\\x83\\x81\\xeb\\xb6\\x80\\xec\\x9e\\xa5\\xec\\x9d\\x80, 4\\xec\\x9d\\xb8\\xea\\xb0\\x80\\xec\\xa1\\xb1\\xec\\x9d\\xb4\\xeb\\x9d\\xbc\\xea\\xb3\\xa0 \\xed\\x95\\xb4\\xeb\\x8f\\x84 \\xeb\\xaf\\xbf\\xec\\x9d\\x84\\xeb\\xa7\\x8c\\xed\\x81\\xbc, \\xea\\xb7\\xb8\\xeb\\xa6\\x87\\xec\\x9d\\xb4 \\xea\\xb0\\x80\\xeb\\x93\\x9d \\xed\\x96\\x88\\xea\\xb5\\xac\\xec\\x9a\\x94. \\xec\\xa3\\xbc\\xeb\\xa7\\x90\\xec\\x9d\\xb4\\xeb\\xa9\\xb4 \\xec\\x95\\x9e\\xec\\xb9\\x98\\xeb\\xa7\\x88\\xeb\\xa5\\xbc \\xeb\\xa7\\xa4\\xea\\xb3\\xa0 \\xec\\x9d\\xb4\\xea\\xb2\\x83 \\xec\\xa0\\x80\\xea\\xb2\\x83 \\xeb\\xa7\\x8c\\xeb\\x93\\xa4\\xec\\x96\\xb4, \\xec\\x98\\x88\\xec\\x81\\x9c \\xea\\xb7\\xb8\\xeb\\xa6\\x87\\xec\\x97\\x90 \\xeb\\x8b\\xb4\\xec\\x95\\x84 \\xeb\\xa8\\xb9\\xeb\\x8a\\x94\\xea\\xb1\\xb8 \\xec\\xa2\\x8b\\xec\\x95\\x84\\xed\\x96\\x88\\xec\\x96\\xb4\\xec\\x9a\\x94. \\xec\\x97\\xac\\xed\\x96\\x89\\xec\\x9d\\x84 \\xea\\xb0\\x80\\xeb\\xa9\\xb4 \\xeb\\x88\\x84\\xea\\xb5\\xb0\\xea\\xb0\\x80\\xeb\\x8a\\x94 \\xec\\x97\\xac\\xed\\x96\\x89\\xec\\xa7\\x80\\xec\\x97\\x90\\xec\\x84\\x9c\\xec\\x9d\\x98 \\xea\\xb8\\xb0\\xec\\x96\\xb5\\xec\\x9d\\x84, \\xec\\x82\\xac\\xec\\xa7\\x84\\xec\\x9c\\xbc\\xeb\\xa1\\x9c \\xeb\\x82\\xa8\\xea\\xb8\\xb0\\xea\\xb8\\xb0\\xeb\\x8f\\x84 \\xed\\x95\\x98\\xeb\\x8a\\x94\\xeb\\x8d\\xb0, \\xec\\xa0\\x80\\xeb\\x8a\\x94 \\xeb\\x8a\\x98. \\xeb\\xac\\xb4\\xec\\x96\\xb8\\xea\\xb0\\x80\\xeb\\xa5\\xbc \\xec\\x82\\xac\\xea\\xb0\\x80\\xec\\xa7\\x80\\xea\\xb3\\xa0 \\xec\\x99\\x94\\xec\\x97\\x88\\xec\\x96\\xb4\\xec\\x9a\\x94. \\xea\\xb7\\xb8\\xea\\xb2\\x83\\xeb\\x8f\\x84 \\xeb\\x8a\\x98. \\xec\\xa3\\xbc\\xeb\\xb0\\xa9\\xec\\x97\\x90 \\xec\\x96\\xb4\\xec\\x9a\\xb8\\xeb\\xa6\\xb4 \\xeb\\xb2\\x95\\xed\\x95\\x9c \\xeb\\xac\\xb4\\xec\\x97\\x87\\xec\\x9d\\xb8\\xea\\xb0\\x80\\xeb\\xa5\\xbc\\xec\\x9a\\x94</p>\\n\\t\\t\\t\\t\\t\\t<div class=\"source_box\">\\n\\t\\t\\t\\t\\t\\t\\t<span class=\"date\">2\\xec\\xa3\\xbc\\xec\\x9d\\xbc \\xec\\xa0\\x84</span>\\n\\t\\t\\t\\t\\t\\t\\t<span class=\"source\">\\n                                \\n                                <span class=\"source_inner\">\\xeb\\x9d\\xbc\\xeb\\xaf\\xb8</span>\\n                            </span>\\n\\t\\t\\t\\t\\t\\t</div>\\n\\t\\t\\t\\t\\t</a>\\n\\t\\t\\t\\t</li>\\n\\t\\t\\t\\n\\t\\t\\t\\t<li class=\"theme_item\" data-gdid=\"6385cb5d2ea39d005306cfdd\" data-da-position=\"true\">\\n\\t\\t\\t\\t\\t<a href=\"https://blog.naver.com/mmfave/222884810413\" class=\"theme_thumb\" data-clk=\"tcc_lif.list5cont2\" target=\"_blank\">\\n\\t\\t\\t\\t\\t\\t<img  data-src=\"https://s.pstatic.net/dthumb.phinf/?src&#x3D;%22https%3A%2F%2Fs.pstatic.net%2Fshop.phinf%2F20221128_200%2F1669633243126llDJJ_JPEG%2F1.jpg%22&amp;type&#x3D;nf340_228\" alt=\"\\xed\\x98\\xb8\\xed\\x85\\x94 \\xeb\\x9d\\xbc\\xec\\x9a\\xb4\\xec\\xa7\\x80\\xec\\xb2\\x98\\xeb\\x9f\\xbc \\xea\\xbe\\xb8\\xeb\\xaf\\xbc \\xea\\xb1\\xb0\\xec\\x8b\\xa4\" width=\"170\" height=\"114\" onerror=\"this.outerHTML=\\'<span class=\\\\\\'pm_noimg\\\\\\'><span class=\\\\\\'noimg_text\\\\\\'>\\xec\\x9d\\xb4\\xeb\\xaf\\xb8\\xec\\xa7\\x80 \\xec\\xa4\\x80\\xeb\\xb9\\x84\\xec\\xa4\\x91</span></span>\\'\">\\n\\t\\t\\t\\t\\t\\t<span class=\"thumb_bd\"></span>\\n                        \\n\\t\\t\\t\\t\\t</a>\\n\\t\\t\\t\\t\\t<a href=\"https://blog.naver.com/mmfave/222884810413\" class=\"theme_info\" data-clk=\"tcc_lif.list5cont2\" target=\"_blank\">\\n\\t\\t\\t\\t\\t\\t<em class=\"theme_category\"> \\xeb\\xa6\\xac\\xeb\\xb9\\x99</em>\\n\\t\\t\\t\\t\\t\\t<strong class=\"title elss\">\\xed\\x98\\xb8\\xed\\x85\\x94 \\xeb\\x9d\\xbc\\xec\\x9a\\xb4\\xec\\xa7\\x80\\xec\\xb2\\x98\\xeb\\x9f\\xbc \\xea\\xbe\\xb8\\xeb\\xaf\\xbc \\xea\\xb1\\xb0\\xec\\x8b\\xa4</strong>\\n                        <p class=\"desc\">\\xec\\xa0\\x80\\xed\\x9d\\xac \\xeb\\xb6\\x80\\xeb\\xb6\\x80\\xeb\\x8a\\x94 \\xec\\xa2\\x85\\xec\\xa2\\x85 \\xec\\xa7\\x91\\xec\\x97\\x90 \\xec\\x9e\\x88\\xeb\\x8a\\x94 \\xea\\xb0\\x80\\xea\\xb5\\xac\\xeb\\x82\\x98 \\xec\\x86\\x8c\\xed\\x92\\x88 \\xec\\x9c\\x84\\xec\\xb9\\x98\\xeb\\xa5\\xbc \\xeb\\xb0\\x94\\xea\\xbe\\xb8\\xea\\xb3\\xa4 \\xed\\x95\\x9c\\xeb\\x8b\\xb5\\xeb\\x8b\\x88\\xeb\\x8b\\xa4. \\xec\\x82\\xac\\xeb\\x9e\\x8c\\xeb\\x93\\xa4\\xec\\x9d\\xb4 \\xeb\\xb3\\xb4\\xeb\\xa9\\xb4 &quot;\\xec\\x99\\x9c \\xec\\x82\\xac\\xec\\x84\\x9c \\xea\\xb3\\xa0\\xec\\x83\\x9d\\xed\\x95\\x98\\xeb\\x83\\x90?&quot;\\xeb\\x9d\\xbc\\xea\\xb3\\xa0 \\xed\\x95\\xa0 \\xec\\x88\\x98\\xeb\\x8f\\x84 \\xec\\x9e\\x88\\xec\\xa7\\x80\\xeb\\xa7\\x8c, \\xeb\\xac\\xb4\\xea\\xb1\\xb0\\xec\\x9a\\xb4 \\xec\\x86\\x8c\\xed\\x8c\\x8c\\xec\\x99\\x80 \\xec\\xb9\\xa8\\xeb\\x8c\\x80, \\xed\\x85\\x8c\\xec\\x9d\\xb4\\xeb\\xb8\\x94\\xec\\x9d\\x84 \\xec\\x98\\xae\\xea\\xb8\\xb0\\xea\\xb3\\xa0 \\xec\\x9d\\xb4\\xeb\\xa6\\xac\\xec\\xa0\\x80\\xeb\\xa6\\xac \\xeb\\xb0\\xb0\\xec\\xb9\\x98\\xed\\x95\\xb4 \\xeb\\xb3\\xb4\\xeb\\xa9\\xb4\\xec\\x84\\x9c \\xea\\xb8\\xb0\\xec\\xa1\\xb4\\xec\\x97\\x90 \\xeb\\xb0\\x9c\\xea\\xb2\\xac\\xed\\x95\\x98\\xec\\xa7\\x80 \\xeb\\xaa\\xbb\\xed\\x96\\x88\\xeb\\x8d\\x98 \\xec\\x83\\x88\\xeb\\xa1\\x9c\\xec\\x9a\\xb4 \\xec\\x9a\\xb0\\xeb\\xa6\\xac \\xec\\xa7\\x91\\xec\\x9d\\x98 \\xeb\\xa7\\xa4\\xeb\\xa0\\xa5\\xec\\x9d\\x84 \\xec\\xb0\\xbe\\xec\\x95\\x84\\xeb\\x82\\xb4\\xeb\\x8a\\x94 \\xea\\xb3\\xbc\\xec\\xa0\\x95\\xec\\x9d\\xb4 \\xec\\xa0\\x95\\xeb\\xa7\\x90 \\xec\\xa6\\x90\\xea\\xb2\\x81\\xeb\\x8b\\xb5\\xeb\\x8b\\x88\\xeb\\x8b\\xa4. \\xeb\\xaa\\xb8\\xec\\x9d\\x80 \\xed\\x9e\\x98\\xeb\\x93\\xa4\\xec\\xa7\\x80\\xeb\\xa7\\x8c \\xea\\xb0\\x80\\xea\\xb5\\xac\\xeb\\x82\\x98 \\xec\\x86\\x8c\\xed\\x92\\x88\\xec\\x9d\\x84 \\xec\\x83\\x88\\xeb\\xa1\\xad\\xea\\xb2\\x8c \\xeb\\xb0\\xb0\\xec\\xb9\\x98\\xed\\x95\\xb4 \\xea\\xb3\\xb5\\xea\\xb0\\x84\\xec\\x9d\\x84 \\xea\\xbe\\xb8\\xeb\\xa9\\xb0 \\xeb\\x86\\xa8\\xec\\x9d\\x84 \\xeb\\x95\\x8c\\xec\\x9d\\x98 \\xeb\\xbf\\x8c\\xeb\\x93\\xaf\\xed\\x95\\xa8\\xec\\x9d\\x80 \\xeb\\xa7\\x90\\xeb\\xa1\\x9c \\xec\\x84\\xa4\\xeb\\xaa\\x85\\xed\\x95\\x98\\xea\\xb8\\xb0.</p>\\n\\t\\t\\t\\t\\t\\t<div class=\"source_box\">\\n\\t\\t\\t\\t\\t\\t\\t<span class=\"date\">2\\xea\\xb0\\x9c\\xec\\x9b\\x94 \\xec\\xa0\\x84</span>\\n\\t\\t\\t\\t\\t\\t\\t<span class=\"source\">\\n                                \\n                                <span class=\"source_inner\">Megan</span>\\n                            </span>\\n\\t\\t\\t\\t\\t\\t</div>\\n\\t\\t\\t\\t\\t</a>\\n\\t\\t\\t\\t</li>\\n\\t\\t\\t\\n\\t\\t\\t\\t<li class=\"theme_item\" data-gdid=\"6385cb5d2ea39d005306cfdf\" data-da-position=\"true\">\\n\\t\\t\\t\\t\\t<a href=\"https://blog.naver.com/asella_home/222924884299\" class=\"theme_thumb\" data-clk=\"tcc_lif.list5cont3\" target=\"_blank\">\\n\\t\\t\\t\\t\\t\\t<img  data-src=\"https://s.pstatic.net/dthumb.phinf/?src&#x3D;%22https%3A%2F%2Fs.pstatic.net%2Fshop.phinf%2F20221128_70%2F1669633226346T82Ob_JPEG%2Fgre.jpg%22&amp;type&#x3D;nf340_228\" alt=\"\\xec\\x9d\\x80\\xec\\x9d\\x80\\xed\\x95\\x98\\xec\\xa7\\x80\\xeb\\xa7\\x8c \\xec\\xa1\\xb4\\xec\\x9e\\xac\\xea\\xb0\\x90 \\xed\\x99\\x95\\xec\\x8b\\xa4\\xed\\x95\\x9c \\xec\\x9d\\xb8\\xed\\x85\\x8c\\xeb\\xa6\\xac\\xec\\x96\\xb4 \\xec\\xa1\\xb0\\xeb\\xaa\\x85 \\xec\\xb6\\x94\\xec\\xb2\\x9c\" width=\"170\" height=\"114\" onerror=\"this.outerHTML=\\'<span class=\\\\\\'pm_noimg\\\\\\'><span class=\\\\\\'noimg_text\\\\\\'>\\xec\\x9d\\xb4\\xeb\\xaf\\xb8\\xec\\xa7\\x80 \\xec\\xa4\\x80\\xeb\\xb9\\x84\\xec\\xa4\\x91</span></span>\\'\">\\n\\t\\t\\t\\t\\t\\t<span class=\"thumb_bd\"></span>\\n                        \\n\\t\\t\\t\\t\\t</a>\\n\\t\\t\\t\\t\\t<a href=\"https://blog.naver.com/asella_home/222924884299\" class=\"theme_info\" data-clk=\"tcc_lif.list5cont3\" target=\"_blank\">\\n\\t\\t\\t\\t\\t\\t<em class=\"theme_category\"> \\xeb\\xa6\\xac\\xeb\\xb9\\x99</em>\\n\\t\\t\\t\\t\\t\\t<strong class=\"title elss\">\\xec\\x9d\\x80\\xec\\x9d\\x80\\xed\\x95\\x98\\xec\\xa7\\x80\\xeb\\xa7\\x8c \\xec\\xa1\\xb4\\xec\\x9e\\xac\\xea\\xb0\\x90 \\xed\\x99\\x95\\xec\\x8b\\xa4\\xed\\x95\\x9c \\xec\\x9d\\xb8\\xed\\x85\\x8c\\xeb\\xa6\\xac\\xec\\x96\\xb4 \\xec\\xa1\\xb0\\xeb\\xaa\\x85 \\xec\\xb6\\x94\\xec\\xb2\\x9c</strong>\\n                        <p class=\"desc\">\\xec\\xa1\\xb0\\xeb\\xaa\\x85\\xec\\x9d\\x80 \\xec\\xa7\\x91\\xec\\x95\\x88\\xec\\x9d\\x98 \\xec\\xa1\\xb0\\xeb\\x8f\\x84\\xeb\\xa5\\xbc \\xec\\xa1\\xb0\\xec\\xa0\\x88\\xed\\x95\\xb4\\xec\\xa4\\x84 \\xeb\\xbf\\x90 \\xec\\x95\\x84\\xeb\\x8b\\x88\\xeb\\x9d\\xbc \\xec\\x9d\\xb8\\xed\\x85\\x8c\\xeb\\xa6\\xac\\xec\\x96\\xb4 \\xed\\x9a\\xa8\\xea\\xb3\\xbc\\xec\\x97\\x90\\xeb\\x8f\\x84 \\xed\\x81\\xac\\xeb\\x82\\x98\\xed\\x81\\xb0 \\xec\\x98\\x81\\xed\\x96\\xa5\\xec\\x9d\\x84 \\xec\\xa4\\x80\\xeb\\x8b\\xa4. \\xeb\\x95\\x8c\\xeb\\xac\\xb8\\xec\\x97\\x90 \\xec\\x9d\\x98\\xec\\x9e\\x90, \\xec\\x8a\\xa4\\xed\\x88\\xb4\\xec\\x97\\x90 \\xec\\x9d\\xb4\\xec\\x96\\xb4\\xec\\x84\\x9c \\xec\\xa1\\xb0\\xeb\\xaa\\x85\\xeb\\x98\\x90\\xed\\x95\\x9c \\xed\\x97\\x88\\xed\\x88\\xac\\xeb\\xa3\\xa8 \\xea\\xb3\\xa0\\xeb\\xa5\\xbc \\xec\\x88\\x9c \\xec\\x97\\x86\\xec\\x97\\x88\\xeb\\x8b\\xa4. \\xec\\x97\\xb4\\xec\\x8b\\xac\\xed\\x9e\\x88 \\xea\\xb3\\xa0\\xec\\x8b\\xac\\xeb\\x81\\x9d\\xec\\x97\\x90 \\xea\\xb5\\xac\\xeb\\xa7\\xa4\\xed\\x95\\x9c \\xec\\xa0\\x9c\\xed\\x92\\x88\\xeb\\x93\\xa4\\xec\\x9d\\xb4\\xeb\\x9d\\xbc \\xea\\xb7\\xb8\\xeb\\x9f\\xb0\\xec\\xa7\\x80 \\xea\\xb5\\x89\\xec\\x9e\\xa5\\xed\\x9e\\x88 \\xeb\\xa7\\x8c\\xec\\xa1\\xb1\\xeb\\x8f\\x84\\xea\\xb0\\x80 \\xeb\\x86\\x92\\xea\\xb3\\xa0 \\xed\\x99\\x9c\\xec\\x9a\\xa9\\xec\\x84\\xb1\\xec\\x9d\\xb4 \\xed\\x81\\xb0 \\xec\\x9a\\xb0\\xeb\\xa6\\xac\\xec\\xa7\\x91 \\xec\\x9d\\xb8\\xed\\x85\\x8c\\xeb\\xa6\\xac\\xec\\x96\\xb4 \\xec\\xa1\\xb0\\xeb\\xaa\\x85\\xeb\\x93\\xa4. \\xec\\x98\\xa4\\xeb\\x8a\\x98\\xec\\x9d\\x80 \\xeb\\xb6\\x81\\xec\\x9c\\xa0\\xeb\\x9f\\xbd, \\xeb\\xaf\\xb8\\xeb\\x93\\x9c\\xec\\x84\\xbc\\xec\\xb8\\x84\\xeb\\xa6\\xac\\xeb\\xaa\\xa8\\xeb\\x8d\\x98 \\xeb\\x93\\xb1\\xec\\x9d\\x98 \\xea\\xb0\\x90\\xec\\x84\\xb1\\xec\\x9d\\x84 \\xec\\xa2\\x8b\\xec\\x95\\x84\\xed\\x95\\x98\\xeb\\x8a\\x94 \\xeb\\xb6\\x84\\xeb\\x93\\xa4\\xec\\x9d\\xb4\\xeb\\x9d\\xbc\\xeb\\xa9\\xb4 \\xeb\\x88\\x84\\xea\\xb5\\xac\\xeb\\x9d\\xbc\\xeb\\x8f\\x84 \\xec\\xa2\\x8b\\xec\\x95\\x84\\xed\\x95\\xa0\\xeb\\xa7\\x8c\\xed\\x95\\x9c &#x27;\\xec\\x9d\\x80\\xec\\x9d\\x80\\xed\\x95\\x98\\xec\\xa7\\x80\\xeb\\xa7\\x8c \\xec\\xa1\\xb4\\xec\\x9e\\xac\\xea\\xb0\\x90\\xec\\x9d\\xb4 \\xed\\x99\\x95\\xec\\x8b\\xa4\\xed\\x95\\x9c, .</p>\\n\\t\\t\\t\\t\\t\\t<div class=\"source_box\">\\n\\t\\t\\t\\t\\t\\t\\t<span class=\"date\">1\\xea\\xb0\\x9c\\xec\\x9b\\x94 \\xec\\xa0\\x84</span>\\n\\t\\t\\t\\t\\t\\t\\t<span class=\"source\">\\n                                \\n                                <span class=\"source_inner\">Asella</span>\\n                            </span>\\n\\t\\t\\t\\t\\t\\t</div>\\n\\t\\t\\t\\t\\t</a>\\n\\t\\t\\t\\t</li>\\n\\t\\t\\t\\n\\t\\t\\t\\t<li class=\"theme_item\" data-gdid=\"6385cb272ea39d005306cfd8\" data-da-position=\"true\">\\n\\t\\t\\t\\t\\t<a href=\"https://blog.naver.com/serotonin912/222936488665\" class=\"theme_thumb\" data-clk=\"tcc_lif.list5cont4\" target=\"_blank\">\\n\\t\\t\\t\\t\\t\\t<img  data-src=\"https://s.pstatic.net/dthumb.phinf/?src&#x3D;%22https%3A%2F%2Fs.pstatic.net%2Fshop.phinf%2F20221129_95%2F1669702272364jGePQ_JPEG%2FIMG_1193.jpg%22&amp;type&#x3D;nf340_228\" alt=\"30\\xed\\x8f\\x89\\xeb\\x8c\\x80 \\xed\\x83\\x80\\xec\\x9b\\x8c\\xed\\x98\\x95 \\xec\\x95\\x84\\xed\\x8c\\x8c\\xed\\x8a\\xb8\\xec\\x9d\\x98 \\xeb\\x8c\\x80\\xeb\\xb3\\x80\\xec\\x8b\\xa0\" width=\"170\" height=\"114\" onerror=\"this.outerHTML=\\'<span class=\\\\\\'pm_noimg\\\\\\'><span class=\\\\\\'noimg_text\\\\\\'>\\xec\\x9d\\xb4\\xeb\\xaf\\xb8\\xec\\xa7\\x80 \\xec\\xa4\\x80\\xeb\\xb9\\x84\\xec\\xa4\\x91</span></span>\\'\">\\n\\t\\t\\t\\t\\t\\t<span class=\"thumb_bd\"></span>\\n                        \\n\\t\\t\\t\\t\\t</a>\\n\\t\\t\\t\\t\\t<a href=\"https://blog.naver.com/serotonin912/222936488665\" class=\"theme_info\" data-clk=\"tcc_lif.list5cont4\" target=\"_blank\">\\n\\t\\t\\t\\t\\t\\t<em class=\"theme_category\"> \\xeb\\xa6\\xac\\xeb\\xb9\\x99</em>\\n\\t\\t\\t\\t\\t\\t<strong class=\"title elss\">30\\xed\\x8f\\x89\\xeb\\x8c\\x80 \\xed\\x83\\x80\\xec\\x9b\\x8c\\xed\\x98\\x95 \\xec\\x95\\x84\\xed\\x8c\\x8c\\xed\\x8a\\xb8\\xec\\x9d\\x98 \\xeb\\x8c\\x80\\xeb\\xb3\\x80\\xec\\x8b\\xa0</strong>\\n                        <p class=\"desc\">\\xe2\\x80\\x9d\\xec\\x98\\xa8\\xeb\\x9d\\xbc\\xec\\x9d\\xb8 \\xec\\xa7\\x91\\xeb\\x93\\xa4\\xec\\x9d\\xb4\\xe2\\x80\\x9c \\xeb\\x93\\x9c\\xeb\\x94\\x94\\xec\\x96\\xb4 \\xed\\x95\\xa9\\xeb\\x8b\\x88\\xeb\\x8b\\xa4!! \\xec\\x95\\x88\\xeb\\x85\\x95\\xed\\x95\\x98\\xec\\x84\\xb8\\xec\\x9a\\x94:) 2021\\xeb\\x85\\x84 12\\xec\\x9b\\x94 \\xec\\xbd\\x94\\xeb\\xa1\\x9c\\xeb\\x82\\x98\\xeb\\xa5\\xbc \\xeb\\x9a\\xab\\xea\\xb3\\xa0 \\xec\\x8b\\x9d\\xec\\x9d\\x84 \\xec\\x98\\xac\\xeb\\xa6\\xb0 \\xed\\x96\\x87\\xec\\x88\\x98\\xeb\\xa1\\x9c 2\\xeb\\x85\\x84 \\xec\\xb0\\xa8 \\xec\\x8b\\xa0\\xed\\x98\\xbc\\xeb\\xb6\\x80\\xeb\\xb6\\x80\\xec\\x97\\x90\\xec\\x9a\\x94. \\xea\\xb2\\xb0\\xed\\x98\\xbc \\xec\\xa0\\x84 \\xec\\xa0\\x84\\xec\\x84\\xb8 \\xeb\\x81\\xbc\\xea\\xb3\\xa0 \\xec\\x84\\xa0\\xeb\\xa7\\xa4\\xec\\x88\\x98\\xed\\x95\\x9c \\xec\\xbc\\x80\\xec\\x9d\\xb4\\xec\\x8a\\xa4\\xeb\\x9d\\xbc \\xec\\x9e\\x85\\xec\\xa3\\xbc \\xec\\xa0\\x84\\xea\\xb9\\x8c\\xec\\xa7\\x80\\xeb\\x8a\\x94 \\xec\\xa0\\x9c \\xec\\x9e\\x90\\xec\\xb7\\xa8\\xeb\\xb0\\xa9\\xec\\x97\\x90\\xec\\x84\\x9c \\xec\\x8b\\xa0\\xed\\x98\\xbc\\xec\\x83\\x9d\\xed\\x99\\x9c\\xec\\x9d\\x84 \\xec\\x8b\\x9c\\xec\\x9e\\x91\\xed\\x96\\x88\\xec\\x96\\xb4\\xec\\x9a\\x94. \\xec\\x8b\\xa0\\xeb\\x9e\\x91\\xeb\\x8f\\x84 \\xec\\xa0\\x80\\xeb\\x8f\\x84 \\xec\\xb2\\x98\\xec\\x9d\\x8c \\xec\\x82\\xb4\\xec\\x95\\x84\\xeb\\xb3\\xb4\\xeb\\x8a\\x94 30\\xed\\x8f\\x89\\xeb\\x8c\\x80 \\xec\\xa7\\x91\\xec\\x9d\\xb4\\xeb\\x9d\\xbc \\xed\\x95\\x98\\xeb\\xa3\\xa8\\xed\\x95\\x98\\xeb\\xa3\\xa8 \\xed\\x96\\x89\\xeb\\xb3\\xb5\\xed\\x95\\x9c \\xeb\\x82\\x98\\xeb\\x82\\xa0\\xeb\\x93\\xa4\\xec\\x9d\\x84 \\xeb\\xb3\\xb4\\xeb\\x82\\xb4\\xea\\xb3\\xa0 \\xec\\x9e\\x88\\xeb\\x8b\\xb5\\xeb\\x8b\\x88\\xeb\\x8b\\xa4. \\xea\\xb3\\xb5\\xec\\x82\\xac\\xec\\xa0\\x84 \\xed\\x9b\\x84 \\xeb\\xaa\\xa8\\xec\\x8a\\xb5\\xea\\xb3\\xbc \\xec\\xa7\\x91\\xec\\x95\\x88 \\xea\\xb3\\xb3\\xea\\xb3\\xb3\\xec\\x9d\\x84 \\xeb\\xb3\\xb4\\xec\\x97\\xac\\xeb\\x93\\x9c\\xeb\\xa6\\xac\\xeb\\x8a\\x94 \\xeb\\xa7\\x8c\\xed\\x81\\xbc \\xeb\\x82\\xb4\\xec\\x9a\\xa9\\xec\\x9d\\xb4 \\xeb\\xa7\\x8e\\xec\\x9d\\xb4 </p>\\n\\t\\t\\t\\t\\t\\t<div class=\"source_box\">\\n\\t\\t\\t\\t\\t\\t\\t<span class=\"date\">2\\xec\\xa3\\xbc\\xec\\x9d\\xbc \\xec\\xa0\\x84</span>\\n\\t\\t\\t\\t\\t\\t\\t<span class=\"source\">\\n                                \\n                                <span class=\"source_inner\">\\xec\\x84\\xb8\\xeb\\xa1\\x9c\\xed\\x86\\xa0\\xeb\\x8b\\x8c</span>\\n                            </span>\\n\\t\\t\\t\\t\\t\\t</div>\\n\\t\\t\\t\\t\\t</a>\\n\\t\\t\\t\\t</li>\\n\\t\\t\\t\\n\\t\\t\\t\\t<li class=\"theme_item\" data-gdid=\"6385cb272ea39d005306cfd9\" data-da-position=\"true\">\\n\\t\\t\\t\\t\\t<a href=\"https://blog.naver.com/bisousphoto/222938427744\" class=\"theme_thumb\" data-clk=\"tcc_lif.list5cont5\" target=\"_blank\">\\n\\t\\t\\t\\t\\t\\t<img  data-src=\"https://s.pstatic.net/dthumb.phinf/?src&#x3D;%22https%3A%2F%2Fs.pstatic.net%2Fshop.phinf%2F20221128_272%2F1669632943509pRlQT_JPEG%2Fadw.jpg%22&amp;type&#x3D;nf340_228\" alt=\"\\xeb\\x8b\\xa4\\xec\\x9d\\xb4\\xeb\\x8b\\x9d\\xeb\\xa3\\xb8\\xec\\x97\\x90 \\xec\\x82\\xac\\xea\\xb0\\x81 \\xed\\x94\\x84\\xeb\\xa0\\x88\\xec\\x9e\\x84 \\xeb\\xaa\\xb0\\xeb\\x94\\xa9 \\xec\\x85\\x80\\xed\\x94\\x84 \\xec\\x8b\\x9c\\xea\\xb3\\xb5\\xed\\x96\\x88\\xec\\x96\\xb4\\xec\\x9a\\x94\" width=\"170\" height=\"114\" onerror=\"this.outerHTML=\\'<span class=\\\\\\'pm_noimg\\\\\\'><span class=\\\\\\'noimg_text\\\\\\'>\\xec\\x9d\\xb4\\xeb\\xaf\\xb8\\xec\\xa7\\x80 \\xec\\xa4\\x80\\xeb\\xb9\\x84\\xec\\xa4\\x91</span></span>\\'\">\\n\\t\\t\\t\\t\\t\\t<span class=\"thumb_bd\"></span>\\n                        \\n\\t\\t\\t\\t\\t</a>\\n\\t\\t\\t\\t\\t<a href=\"https://blog.naver.com/bisousphoto/222938427744\" class=\"theme_info\" data-clk=\"tcc_lif.list5cont5\" target=\"_blank\">\\n\\t\\t\\t\\t\\t\\t<em class=\"theme_category\"> \\xeb\\xa6\\xac\\xeb\\xb9\\x99</em>\\n\\t\\t\\t\\t\\t\\t<strong class=\"title elss\">\\xeb\\x8b\\xa4\\xec\\x9d\\xb4\\xeb\\x8b\\x9d\\xeb\\xa3\\xb8\\xec\\x97\\x90 \\xec\\x82\\xac\\xea\\xb0\\x81 \\xed\\x94\\x84\\xeb\\xa0\\x88\\xec\\x9e\\x84 \\xeb\\xaa\\xb0\\xeb\\x94\\xa9 \\xec\\x85\\x80\\xed\\x94\\x84 \\xec\\x8b\\x9c\\xea\\xb3\\xb5\\xed\\x96\\x88\\xec\\x96\\xb4\\xec\\x9a\\x94</strong>\\n                        <p class=\"desc\">\\xec\\x82\\xac\\xeb\\xb6\\x80\\xec\\x9e\\x91 \\xec\\x82\\xac\\xeb\\xb6\\x80\\xec\\x9e\\x91 \\xec\\x9d\\xbc\\xeb\\xb2\\x8c\\xeb\\xa6\\xac\\xeb\\x8a\\x94 \\xea\\xb1\\xb8 \\xec\\xa2\\x8b\\xec\\x95\\x84\\xed\\x95\\x98\\xeb\\x8a\\x94 \\xec\\x9a\\xb0\\xeb\\xa6\\xac\\xeb\\xb6\\x80\\xeb\\xb6\\x80\\xeb\\x8a\\x94 \\xed\\x95\\xa8\\xea\\xbb\\x98 \\xec\\xa7\\x91\\xec\\x9d\\x84 \\xea\\xbe\\xb8\\xeb\\xaf\\xb8\\xea\\xb3\\xa0 \\xec\\x98\\x88\\xec\\x81\\x98\\xea\\xb2\\x8c \\xeb\\xa7\\x8c\\xeb\\x93\\x9c\\xeb\\x8a\\x94\\xea\\xb2\\x83\\xec\\x9d\\x84 \\xec\\xb0\\xb8 \\xec\\xa2\\x8b\\xec\\x95\\x84\\xed\\x95\\x9c\\xeb\\x8b\\xa4. \\xec\\x82\\xac\\xec\\xa7\\x84\\xec\\xa0\\x95\\xeb\\xa6\\xac\\xeb\\xa5\\xbc \\xeb\\xaa\\xbb\\xed\\x95\\xb4\\xec\\x84\\x9c \\xed\\x8f\\xac\\xec\\x8a\\xa4\\xed\\x8c\\x85\\xec\\x9d\\xb4 \\xec\\xa1\\xb0\\xea\\xb8\\x88 \\xeb\\xaf\\xb8\\xeb\\xa3\\xa8\\xec\\x96\\xb4\\xec\\xa1\\x8c\\xeb\\x8a\\x94\\xeb\\x8d\\xb0 \\xec\\x8b\\xa0\\xeb\\x9e\\x91\\xec\\x9d\\xb4\\xeb\\x9e\\x91 \\xec\\xb5\\x9c\\xea\\xb7\\xbc\\xec\\x97\\x90 \\xec\\x9e\\x91\\xec\\x97\\x85\\xed\\x95\\x9c \\xeb\\x8b\\xa4\\xec\\x9d\\xb4\\xeb\\x8b\\x9d \\xeb\\xa3\\xb8 \\xeb\\xb2\\xbd\\xec\\x97\\x90 \\xec\\x82\\xac\\xea\\xb0\\x81 \\xed\\x94\\x84\\xeb\\xa0\\x88\\xec\\x9e\\x84 \\xeb\\xaa\\xb0\\xeb\\x94\\xa9\\xec\\x9d\\x84 \\xeb\\x8d\\x94\\xed\\x95\\xb4\\xec\\xa4\\x80 \\xed\\x94\\x84\\xeb\\xa1\\x9c\\xec\\xa0\\x9d\\xed\\x8a\\xb8\\xeb\\xa5\\xbc \\xec\\x98\\xac\\xeb\\xa0\\xa4\\xeb\\xb3\\xb4\\xeb\\xa0\\xa4\\xea\\xb3\\xa0 \\xed\\x95\\x9c\\xeb\\x8b\\xa4. \\xed\\x81\\xac\\xea\\xb2\\x8c \\xeb\\x8b\\xac\\xeb\\x9d\\xbc\\xec\\xa7\\x84\\xea\\xb2\\x8c \\xec\\x97\\x86\\xeb\\x8a\\x94\\xea\\xb2\\x83 \\xea\\xb0\\x99\\xea\\xb8\\xb0\\xeb\\x8f\\x84 \\xed\\x95\\x98\\xec\\xa7\\x80\\xeb\\xa7\\x8c \\xed\\x99\\x95\\xec\\x8b\\xa4\\xed\\x9e\\x88 \\xeb\\xb2\\xbd\\xec\\x97\\x90 \\xeb\\xaa\\xb0\\xeb\\x94\\xa9\\xec\\x9d\\x84 \\xeb\\x8d\\x94\\xed\\x95\\xb4\\xec\\xa3\\xbc\\xeb\\xa9\\xb4 \\xed\\x8f\\xac\\xec\\x9d\\xb8\\xed\\x8a\\xb8\\xeb\\x8f\\x84 \\xeb\\x90\\x98\\xea\\xb3\\xa0 \\xec\\xa0\\x84\\xec\\xb2\\xb4\\xec\\xa0\\x81\\xec\\x9c\\xbc\\xeb\\xa1\\x9c \\xea\\xb3\\xa0\\xea\\xb8\\x89\\xec\\x8a\\xa4\\xeb\\x9f\\xac\\xec\\x9a\\xb4 \\xeb\\xb6\\x84\\xec\\x9c\\x84\\xea\\xb8\\xb0\\xea\\xb0\\x80 \\xeb\\xa7\\x8c\\xeb\\x93\\xa4\\xec\\x96\\xb4\\xec\\xa7\\x80\\xeb\\x8a\\x94\\xea\\xb2\\x83 </p>\\n\\t\\t\\t\\t\\t\\t<div class=\"source_box\">\\n\\t\\t\\t\\t\\t\\t\\t<span class=\"date\">2\\xec\\xa3\\xbc\\xec\\x9d\\xbc \\xec\\xa0\\x84</span>\\n\\t\\t\\t\\t\\t\\t\\t<span class=\"source\">\\n                                \\n                                <span class=\"source_inner\">\\xec\\x97\\x98\\xeb\\x9d\\xbc\\xeb\\xb0\\x80\\xeb\\x9d\\xbc\\xeb\\xa7\\x98</span>\\n                            </span>\\n\\t\\t\\t\\t\\t\\t</div>\\n\\t\\t\\t\\t\\t</a>\\n\\t\\t\\t\\t</li>\\n\\t\\t\\t\\n\\t\\t</ul>\\n\\t</div>\\n</div>\\n<div class=\"group_theme\" data-block-id=\"\" data-block-code=\"PC-THEME-LIVINGHOME-MOBILE-RANKING-DEFAULT-5\" data-block-type=\"MATERIALS\" data-template-code=\"MOBILE-RANKING-LIST\"\\n\\n\\t data-da=\"container\"\\n\\t data-index=\"\"\\n     data-page=\"3\"\\n\\t style=\"display:none\">\\n\\n\\t<div class=\"list_theme_wrap\">\\n\\t\\t<ul class=\"list_theme\">\\n\\t\\t\\t\\n\\t\\t\\t\\t<li class=\"theme_item\" data-gdid=\"6385caef93445a005371012d\" data-da-position=\"true\">\\n\\t\\t\\t\\t\\t<a href=\"https://blog.naver.com/mjsin93/222925724250\" class=\"theme_thumb\" data-clk=\"tcc_lif.list6cont1\" target=\"_blank\">\\n\\t\\t\\t\\t\\t\\t<img  data-src=\"https://s.pstatic.net/dthumb.phinf/?src&#x3D;%22https%3A%2F%2Fs.pstatic.net%2Fshop.phinf%2F20221129_207%2F1669699538728l4brn_JPEG%2FIMG_9924.jpg%22&amp;type&#x3D;nf340_228\" alt=\"\\xed\\x99\\x94\\xec\\x9d\\xb4\\xed\\x8a\\xb8\\xed\\x86\\xa4 \\xeb\\xaf\\xb8\\xeb\\x8b\\x88\\xeb\\xa9\\x80 \\xec\\xa3\\xbc\\xeb\\xb0\\xa9 \\xec\\x99\\x84\\xec\\x84\\xb1\" width=\"170\" height=\"114\" onerror=\"this.outerHTML=\\'<span class=\\\\\\'pm_noimg\\\\\\'><span class=\\\\\\'noimg_text\\\\\\'>\\xec\\x9d\\xb4\\xeb\\xaf\\xb8\\xec\\xa7\\x80 \\xec\\xa4\\x80\\xeb\\xb9\\x84\\xec\\xa4\\x91</span></span>\\'\">\\n\\t\\t\\t\\t\\t\\t<span class=\"thumb_bd\"></span>\\n                        \\n\\t\\t\\t\\t\\t</a>\\n\\t\\t\\t\\t\\t<a href=\"https://blog.naver.com/mjsin93/222925724250\" class=\"theme_info\" data-clk=\"tcc_lif.list6cont1\" target=\"_blank\">\\n\\t\\t\\t\\t\\t\\t<em class=\"theme_category\"> \\xeb\\xa6\\xac\\xeb\\xb9\\x99</em>\\n\\t\\t\\t\\t\\t\\t<strong class=\"title elss\">\\xed\\x99\\x94\\xec\\x9d\\xb4\\xed\\x8a\\xb8\\xed\\x86\\xa4 \\xeb\\xaf\\xb8\\xeb\\x8b\\x88\\xeb\\xa9\\x80 \\xec\\xa3\\xbc\\xeb\\xb0\\xa9 \\xec\\x99\\x84\\xec\\x84\\xb1</strong>\\n                        <p class=\"desc\">Home Interior \\xf0\\x9f\\x92\\x9b 49\\xed\\x8f\\x89 \\xec\\xa3\\xbc\\xec\\x83\\x81\\xeb\\xb3\\xb5\\xed\\x95\\xa9 \\xeb\\xb0\\x98\\xec\\x85\\x80\\xed\\x94\\x84 \\xec\\x9d\\xb8\\xed\\x85\\x8c\\xeb\\xa6\\xac\\xec\\x96\\xb4 \\xeb\\xb6\\x80\\xec\\x97\\x8c \\xec\\x9d\\xb8\\xed\\x85\\x8c\\xeb\\xa6\\xac\\xec\\x96\\xb4 \\xec\\x8b\\xb1\\xed\\x81\\xac\\xeb\\x8c\\x80 \\xea\\xb5\\x90\\xec\\xb2\\xb4 \\xec\\xa3\\xbc\\xeb\\xb0\\xa9 \\xed\\x8f\\xac\\xec\\x9d\\xb8\\xed\\x8a\\xb8 \\xec\\x86\\x8c\\xed\\x92\\x88 \\xec\\x84\\xb8\\xeb\\x9d\\xbc\\xeb\\xaf\\xb9 \\xec\\x8b\\x9d\\xed\\x83\\x81 Home Sweet home\\xf0\\x9f\\x92\\x95 \\xec\\x84\\xb8\\xeb\\xb2\\x88\\xec\\xa7\\xb8 \\xec\\x9d\\xb4\\xec\\x95\\xbc\\xea\\xb8\\xb0 \\xed\\x99\\x94\\xec\\x9d\\xb4\\xed\\x8a\\xb8\\xed\\x86\\xa4 \\xec\\xa3\\xbc\\xeb\\xb0\\xa9\\xec\\x97\\x90 \\xed\\x8f\\xac\\xec\\x9d\\xb8\\xed\\x8a\\xb8 \\xec\\xbb\\xac\\xeb\\x9f\\xac\\xeb\\xa1\\x9c \\xec\\x99\\x84\\xec\\x84\\xb1\\xed\\x95\\x9c \\xec\\xa3\\xbc\\xeb\\xb0\\xa9 \\xec\\x9d\\xb8\\xed\\x85\\x8c\\xeb\\xa6\\xac\\xec\\x96\\xb4 \\xed\\x8e\\xb8 \\xec\\x9a\\x94\\xeb\\xa6\\xac\\xea\\xb0\\x80 \\xed\\x95\\x98\\xea\\xb3\\xa0 \\xec\\x8b\\xb6\\xec\\x96\\xb4\\xec\\xa7\\x80\\xeb\\x8a\\x94 \\xea\\xb3\\xb5\\xea\\xb0\\x84, \\xea\\xb0\\x80\\xec\\xa1\\xb1\\xeb\\x93\\xa4\\xea\\xb3\\xbc \\xec\\x8b\\x9d\\xed\\x83\\x81\\xec\\x97\\x90 \\xec\\x95\\x89\\xec\\x95\\x84 \\xeb\\xa7\\x9b\\xec\\x9e\\x88\\xeb\\x8a\\x94 \\xec\\x9d\\x8c\\xec\\x8b\\x9d\\xec\\x9d\\x84 \\xeb\\xa8\\xb9\\xec\\x9c\\xbc\\xeb\\xa9\\xb4 \\xed\\x96\\x89\\xeb\\xb3\\xb5\\xed\\x95\\xb4\\xec\\xa7\\x80\\xeb\\x8a\\x94 \\xeb\\x94\\xb0\\xeb\\x9c\\xbb\\xed\\x95\\x9c \\xea\\xb3\\xb5\\xea\\xb0\\x84, \\xec\\x9a\\xb0\\xeb\\xa6\\xac\\xec\\xa7\\x91 \\xec\\xa3\\xbc\\xeb\\xb0\\xa9\\xec\\x9d\\x84 \\xec\\x86\\x8c\\xea\\xb0\\x9c\\xed\\x95\\xa9\\xeb\\x8b\\x88\\xeb\\x8b\\xa4 \\xf0\\x9f\\xa4\\x8d \\xec\\x9a\\xb0\\xeb\\xa6\\xac\\xec\\xa7\\x91 \\xeb\\xb6\\x80</p>\\n\\t\\t\\t\\t\\t\\t<div class=\"source_box\">\\n\\t\\t\\t\\t\\t\\t\\t<span class=\"date\">1\\xea\\xb0\\x9c\\xec\\x9b\\x94 \\xec\\xa0\\x84</span>\\n\\t\\t\\t\\t\\t\\t\\t<span class=\"source\">\\n                                \\n                                <span class=\"source_inner\">\\xeb\\xad\\x89\\xeb\\x94\\x94</span>\\n                            </span>\\n\\t\\t\\t\\t\\t\\t</div>\\n\\t\\t\\t\\t\\t</a>\\n\\t\\t\\t\\t</li>\\n\\t\\t\\t\\n\\t\\t\\t\\t<li class=\"theme_item\" data-gdid=\"6385caef93445a005371012e\" data-da-position=\"true\">\\n\\t\\t\\t\\t\\t<a href=\"https://blog.naver.com/qw2558/222939745506\" class=\"theme_thumb\" data-clk=\"tcc_lif.list6cont2\" target=\"_blank\">\\n\\t\\t\\t\\t\\t\\t<img  data-src=\"https://s.pstatic.net/dthumb.phinf/?src&#x3D;%22https%3A%2F%2Fs.pstatic.net%2Fshop.phinf%2F20221128_222%2F16696325965094TwuF_JPEG%2Fth.jpg%22&amp;type&#x3D;nf340_228\" alt=\"\\xeb\\xb2\\x84\\xeb\\xa6\\xac\\xec\\xa7\\x80 \\xeb\\xa7\\x88\\xec\\x84\\xb8\\xec\\x9a\\x94, \\xeb\\xa8\\xb9\\xea\\xb3\\xa0 \\xeb\\x82\\xa8\\xec\\x9d\\x80 \\xea\\xb7\\xa4\\xea\\xbb\\x8d\\xec\\xa7\\x88 \\xed\\x99\\x9c\\xec\\x9a\\xa9\\xeb\\xb2\\x95 4\\xea\\xb0\\x80\\xec\\xa7\\x80\" width=\"170\" height=\"114\" onerror=\"this.outerHTML=\\'<span class=\\\\\\'pm_noimg\\\\\\'><span class=\\\\\\'noimg_text\\\\\\'>\\xec\\x9d\\xb4\\xeb\\xaf\\xb8\\xec\\xa7\\x80 \\xec\\xa4\\x80\\xeb\\xb9\\x84\\xec\\xa4\\x91</span></span>\\'\">\\n\\t\\t\\t\\t\\t\\t<span class=\"thumb_bd\"></span>\\n                        \\n\\t\\t\\t\\t\\t</a>\\n\\t\\t\\t\\t\\t<a href=\"https://blog.naver.com/qw2558/222939745506\" class=\"theme_info\" data-clk=\"tcc_lif.list6cont2\" target=\"_blank\">\\n\\t\\t\\t\\t\\t\\t<em class=\"theme_category\"> \\xeb\\xa6\\xac\\xeb\\xb9\\x99</em>\\n\\t\\t\\t\\t\\t\\t<strong class=\"title elss\">\\xeb\\xb2\\x84\\xeb\\xa6\\xac\\xec\\xa7\\x80 \\xeb\\xa7\\x88\\xec\\x84\\xb8\\xec\\x9a\\x94, \\xeb\\xa8\\xb9\\xea\\xb3\\xa0 \\xeb\\x82\\xa8\\xec\\x9d\\x80 \\xea\\xb7\\xa4\\xea\\xbb\\x8d\\xec\\xa7\\x88 \\xed\\x99\\x9c\\xec\\x9a\\xa9\\xeb\\xb2\\x95 4\\xea\\xb0\\x80\\xec\\xa7\\x80</strong>\\n                        <p class=\"desc\">\\xea\\xb2\\xa8\\xec\\x9a\\xb8 \\xea\\xb5\\xad\\xeb\\xaf\\xbc \\xea\\xb3\\xbc\\xec\\x9d\\xbc \\xea\\xb7\\xa4 \\xea\\xb2\\xa8\\xec\\x9a\\xb8\\xec\\x9d\\xb4 \\xeb\\x90\\x98\\xeb\\xa9\\xb4 \\xeb\\x94\\xb0\\xeb\\x9c\\xbb\\xed\\x95\\x9c \\xec\\x9e\\xa5\\xed\\x8c\\x90\\xec\\x97\\x90 \\xec\\x95\\x89\\xec\\x95\\x84\\xec\\x84\\x9c \\xec\\x95\\x89\\xec\\x9d\\x80 \\xec\\x9e\\x90\\xeb\\xa6\\xac\\xec\\x97\\x90\\xec\\x84\\x9c \\xea\\xb7\\xa4\\xec\\x9d\\x84 5-6\\xea\\xb0\\x9c\\xeb\\x8a\\x94 \\xea\\xb8\\xb0\\xeb\\xb3\\xb8\\xec\\x9c\\xbc\\xeb\\xa1\\x9c \\xea\\xb9\\x8c\\xeb\\xa8\\xb9\\xeb\\x8a\\x94\\xea\\xb1\\xb0 \\xea\\xb0\\x99\\xec\\x95\\x84\\xec\\x9a\\x94 \\xea\\xb7\\xb8\\xec\\xb5\\xb8 ? \\xea\\xb7\\xa4\\xeb\\xa8\\xb9\\xeb\\x8a\\x94\\xeb\\x8d\\xb0 \\xea\\xb1\\xb8\\xeb\\xa6\\xac\\xeb\\x8a\\x94 \\xec\\x8b\\x9c\\xea\\xb0\\x84\\xec\\x9d\\x80 1\\xec\\xb4\\x88 \\xec\\xbb\\xb7\\xec\\x9d\\xb8\\xeb\\x8d\\xb0, \\xeb\\xa7\\x89\\xec\\x83\\x81 \\xea\\xb7\\xa4\\xea\\xbb\\x8d\\xec\\xa7\\x88\\xec\\x9d\\x84 \\xeb\\xb3\\xb4\\xeb\\xa9\\xb4 \\xec\\xb2\\x98\\xec\\xb9\\x98\\xea\\xb3\\xa4\\xeb\\x9e\\x80\\xed\\x95\\x98\\xec\\x97\\xac \\xeb\\xad\\x98 \\xed\\x95\\xb4\\xec\\x95\\xbc\\xed\\x95\\xa0\\xec\\xa7\\x80 \\xeb\\xaa\\xa8\\xeb\\xa5\\xb4\\xec\\x85\\xa8\\xeb\\x8d\\x98 \\xeb\\xb6\\x84\\xeb\\x93\\xa4 ! \\xec\\x9d\\xb4\\xeb\\xb2\\x88\\xec\\x97\\x90 \\xea\\xb7\\xa4\\xea\\xbb\\x8d\\xec\\xa7\\x88\\xec\\x9d\\x84 \\xec\\x9d\\xb4\\xec\\x9a\\xa9\\xed\\x95\\x98\\xec\\x97\\xac \\xea\\xb7\\xa4\\xea\\xbb\\x8d\\xec\\xa7\\x88\\xec\\xb2\\xad\\xec\\x86\\x8c\\xec\\x84\\xb8\\xec\\xa0\\x95\\xec\\xa0\\x9c\\xeb\\xa5\\xbc \\xeb\\xa7\\x8c\\xeb\\x93\\xa4\\xec\\x96\\xb4 \\xec\\x82\\xac\\xec\\x9a\\xa9\\xed\\x95\\x98\\xeb\\x8a\\x94 #\\xec\\x82\\xb4\\xeb\\xa6\\xbc\\xea\\xbf\\x80\\xed\\x8c\\x81 \\xec\\x95\\x8c\\xeb\\xa0\\xa4 \\xeb\\x93\\x9c\\xeb\\xa6\\xb4\\xea\\xbb\\x98\\xec\\x9a\\x94! \\xea\\xb7\\xa4\\xea\\xbb\\x8d\\xec\\xa7\\x88\\xed\\x99\\x9c\\xec\\x9a\\xa9\\xeb\\xb2\\x95 #\\xea\\xb7\\xa4\\xea\\xbb\\x8d\\xec\\xa7\\x88\\xec\\xb2\\xad\\xec\\x86\\x8c\\xec\\x84\\xb8\\xec\\xa0\\x95\\xec\\xa0\\x9c \\xeb\\xa8\\xbc\\xec\\xa0\\x80 \\xea\\xb7\\xa4\\xea\\xbb\\x8d\\xec\\xa7\\x88\\xec\\x9d\\x84 \\xed\\x95\\x9c\\xeb\\xb2\\x88 \\xec\\x84\\xb8\\xec\\xb2\\x99</p>\\n\\t\\t\\t\\t\\t\\t<div class=\"source_box\">\\n\\t\\t\\t\\t\\t\\t\\t<span class=\"date\">1\\xec\\xa3\\xbc\\xec\\x9d\\xbc \\xec\\xa0\\x84</span>\\n\\t\\t\\t\\t\\t\\t\\t<span class=\"source\">\\n                                \\n                                <span class=\"source_inner\">\\xec\\x96\\x80\\xeb\\x93\\x80\\xeb\\xa6\\xac</span>\\n                            </span>\\n\\t\\t\\t\\t\\t\\t</div>\\n\\t\\t\\t\\t\\t</a>\\n\\t\\t\\t\\t</li>\\n\\t\\t\\t\\n\\t\\t\\t\\t<li class=\"theme_item\" data-gdid=\"6385caef93445a005371012f\" data-da-position=\"true\">\\n\\t\\t\\t\\t\\t<a href=\"https://blog.naver.com/ojeongyun/222938030785\" class=\"theme_thumb\" data-clk=\"tcc_lif.list6cont3\" target=\"_blank\">\\n\\t\\t\\t\\t\\t\\t<img  data-src=\"https://s.pstatic.net/dthumb.phinf/?src&#x3D;%22https%3A%2F%2Fs.pstatic.net%2Fshop.phinf%2F20221129_64%2F1669705480056U2XnG_JPEG%2Frt.jpg%22&amp;type&#x3D;nf340_228\" alt=\"\\xed\\x8b\\xb0\\xed\\x83\\x80\\xec\\x9e\\x84 \\xea\\xb3\\xb5\\xea\\xb0\\x84\\xea\\xb9\\x8c\\xec\\xa7\\x80? \\xec\\x9e\\x91\\xec\\xa7\\x80\\xeb\\xa7\\x8c \\xec\\x95\\x84\\xeb\\x8a\\x91\\xed\\x95\\x9c \\xed\\x9e\\x90\\xeb\\xa7\\x81 \\xeb\\xa3\\xb8 \\xea\\xbe\\xb8\\xeb\\xaf\\xb8\\xea\\xb8\\xb0\" width=\"170\" height=\"114\" onerror=\"this.outerHTML=\\'<span class=\\\\\\'pm_noimg\\\\\\'><span class=\\\\\\'noimg_text\\\\\\'>\\xec\\x9d\\xb4\\xeb\\xaf\\xb8\\xec\\xa7\\x80 \\xec\\xa4\\x80\\xeb\\xb9\\x84\\xec\\xa4\\x91</span></span>\\'\">\\n\\t\\t\\t\\t\\t\\t<span class=\"thumb_bd\"></span>\\n                        \\n\\t\\t\\t\\t\\t</a>\\n\\t\\t\\t\\t\\t<a href=\"https://blog.naver.com/ojeongyun/222938030785\" class=\"theme_info\" data-clk=\"tcc_lif.list6cont3\" target=\"_blank\">\\n\\t\\t\\t\\t\\t\\t<em class=\"theme_category\"> \\xeb\\xa6\\xac\\xeb\\xb9\\x99</em>\\n\\t\\t\\t\\t\\t\\t<strong class=\"title elss\">\\xed\\x8b\\xb0\\xed\\x83\\x80\\xec\\x9e\\x84 \\xea\\xb3\\xb5\\xea\\xb0\\x84\\xea\\xb9\\x8c\\xec\\xa7\\x80? \\xec\\x9e\\x91\\xec\\xa7\\x80\\xeb\\xa7\\x8c \\xec\\x95\\x84\\xeb\\x8a\\x91\\xed\\x95\\x9c \\xed\\x9e\\x90\\xeb\\xa7\\x81 \\xeb\\xa3\\xb8 \\xea\\xbe\\xb8\\xeb\\xaf\\xb8\\xea\\xb8\\xb0</strong>\\n                        <p class=\"desc\">\\xec\\xb1\\x85\\xec\\x83\\x81-209\\xec\\x95\\xa0\\xeb\\xb9\\x84\\xeb\\x89\\xb4(\\xed\\x98\\x91\\xec\\xb0\\xac) \\xec\\x9d\\xb4 \\xeb\\xb0\\xa9\\xec\\x9d\\x80 \\xec\\x9e\\x85\\xea\\xb5\\xac\\xec\\x97\\x90 \\xec\\x9e\\x88\\xeb\\x8a\\x94 \\xeb\\xb6\\x99\\xeb\\xb0\\x95\\xec\\x9d\\xb4\\xec\\x9e\\xa5\\xec\\x9d\\xb4 \\xeb\\xb6\\x99\\xec\\x96\\xb4\\xec\\x9e\\x88\\xeb\\x8a\\x94 \\xea\\xb3\\xb3\\xec\\x9d\\xb4\\xeb\\x9d\\xbc\\xec\\x84\\x9c \\xec\\x95\\xa0\\xec\\xa0\\x95\\xec\\x9d\\xb4 \\xec\\x95\\x88\\xea\\xb0\\x80 \\xeb\\xa7\\xa4\\xeb\\xb2\\x88 \\xec\\xb0\\xbd\\xea\\xb3\\xa0\\xec\\x9a\\xa9\\xec\\x9c\\xbc\\xeb\\xa1\\x9c\\xeb\\xa7\\x8c \\xec\\x93\\xb0\\xeb\\x8b\\xa4\\xea\\xb0\\x80 \\xec\\xb1\\x85\\xec\\x83\\x81\\xec\\x9d\\x84 \\xed\\x98\\x91\\xec\\xb0\\xac \\xeb\\xb0\\x9b\\xea\\xb3\\xa0 \\xeb\\x8d\\xb0\\xec\\x8a\\xa4\\xed\\x81\\xac\\xec\\xa1\\xb4\\xec\\x9d\\x84 \\xeb\\xa7\\x8c\\xeb\\x93\\xa0 \\xec\\x9d\\xb4\\xed\\x9b\\x84\\xec\\x97\\x90 \\xec\\xa1\\xb0\\xea\\xb8\\x88\\xec\\x94\\xa9 \\xec\\x82\\xac\\xec\\x9a\\xa9\\xed\\x95\\x98\\xeb\\x8b\\xa4\\xea\\xb0\\x80 \\xec\\xa0\\x95\\xec\\x9d\\xb4 \\xeb\\x93\\xa0... \\xeb\\xb0\\x98\\xeb\\x8c\\x80\\xed\\x8e\\xb8 \\xeb\\xb9\\x84\\xec\\x96\\xb4\\xec\\x9e\\x88\\xeb\\x8a\\x94 \\xea\\xb3\\xb5\\xea\\xb0\\x84\\xec\\x97\\x90 \\xeb\\x9f\\xac\\xea\\xb7\\xb8\\xeb\\xa5\\xbc \\xea\\xb9\\x94\\xec\\x95\\x84\\xec\\x84\\x9c \\xec\\x8a\\xa4\\xed\\x8a\\xb8\\xeb\\xa0\\x88\\xec\\xb9\\xad\\xeb\\x8f\\x84 \\xed\\x95\\x98\\xea\\xb3\\xa0 \\xec\\xa0\\x80\\xeb\\x85\\x81\\xec\\x97\\x90 \\xeb\\x85\\xb8\\xeb\\x8b\\xa5 \\xeb\\x85\\xb8\\xeb\\x8b\\xa5 \\xea\\xb1\\xb0\\xeb\\xa6\\xac\\xeb\\xa9\\xb0 \\xec\\x89\\xac\\xeb\\x8b\\xa4\\xea\\xb0\\x80 \\xec\\x96\\xb4? \\xec\\x9d\\xb4 \\xeb\\xb0\\xa9 \\xec\\x9d\\x80\\xea\\xb7\\xbc \\xec\\x95\\x84\\xeb\\x8a\\x91\\xed\\x95\\x98\\xea\\xb3\\xa0 \\xeb\\x84\\x98 \\xec\\xa2\\x8b\\xec\\x9d\\x80\\xeb\\x8d\\xb0 \\xed\\x95\\x98\\xea\\xb3\\xa0 &#x27;\\xec\\x89\\xac\\xeb\\x8a\\x94 \\xeb\\xb0\\xa9&#x27; \\xeb\\xa7\\x8c\\xeb\\x93\\xa4\\xec\\x96\\xb4\\xeb\\xb3\\xb4\\xec\\x9e\\x90! \\xed\\x95\\x98\\xea\\xb3\\xa0 \\xeb\\x8f\\x8c\\xec\\x9e\\x85 \\xe3\\x85\\x8b\\xe3\\x85\\x8b\\xe3\\x85\\x8b\\xe3\\x85\\x8b</p>\\n\\t\\t\\t\\t\\t\\t<div class=\"source_box\">\\n\\t\\t\\t\\t\\t\\t\\t<span class=\"date\">2\\xec\\xa3\\xbc\\xec\\x9d\\xbc \\xec\\xa0\\x84</span>\\n\\t\\t\\t\\t\\t\\t\\t<span class=\"source\">\\n                                \\n                                <span class=\"source_inner\">viche</span>\\n                            </span>\\n\\t\\t\\t\\t\\t\\t</div>\\n\\t\\t\\t\\t\\t</a>\\n\\t\\t\\t\\t</li>\\n\\t\\t\\t\\n\\t\\t\\t\\t<li class=\"theme_item\" data-gdid=\"638035b693445a005370ae04\" data-da-position=\"true\">\\n\\t\\t\\t\\t\\t<a href=\"https://blog.naver.com/woriboom/222920230376\" class=\"theme_thumb\" data-clk=\"tcc_lif.list6cont4\" target=\"_blank\">\\n\\t\\t\\t\\t\\t\\t<img  data-src=\"https://s.pstatic.net/dthumb.phinf/?src&#x3D;%22https%3A%2F%2Fs.pstatic.net%2Fshop.phinf%2F20221123_166%2F1669202499069IPSRY_JPEG%2Fad.jpg%22&amp;type&#x3D;nf340_228\" alt=\"\\xec\\x95\\x88 \\xec\\x9e\\x85\\xeb\\x8a\\x94 \\xed\\x97\\x8c \\xec\\x98\\xb7 \\xec\\x9e\\xac\\xed\\x99\\x9c\\xec\\x9a\\xa9\\xed\\x95\\x98\\xea\\xb8\\xb0 #\\xec\\x97\\x85\\xec\\x82\\xac\\xec\\x9d\\xb4\\xed\\x81\\xb4\\xeb\\xa7\\x81 #\\xeb\\x8b\\x88\\xed\\x8a\\xb8\\xeb\\xa6\\xac\\xed\\x8f\\xbc\" width=\"170\" height=\"114\" onerror=\"this.outerHTML=\\'<span class=\\\\\\'pm_noimg\\\\\\'><span class=\\\\\\'noimg_text\\\\\\'>\\xec\\x9d\\xb4\\xeb\\xaf\\xb8\\xec\\xa7\\x80 \\xec\\xa4\\x80\\xeb\\xb9\\x84\\xec\\xa4\\x91</span></span>\\'\">\\n\\t\\t\\t\\t\\t\\t<span class=\"thumb_bd\"></span>\\n                        \\n\\t\\t\\t\\t\\t</a>\\n\\t\\t\\t\\t\\t<a href=\"https://blog.naver.com/woriboom/222920230376\" class=\"theme_info\" data-clk=\"tcc_lif.list6cont4\" target=\"_blank\">\\n\\t\\t\\t\\t\\t\\t<em class=\"theme_category\"> \\xeb\\xa6\\xac\\xeb\\xb9\\x99</em>\\n\\t\\t\\t\\t\\t\\t<strong class=\"title elss\">\\xec\\x95\\x88 \\xec\\x9e\\x85\\xeb\\x8a\\x94 \\xed\\x97\\x8c \\xec\\x98\\xb7 \\xec\\x9e\\xac\\xed\\x99\\x9c\\xec\\x9a\\xa9\\xed\\x95\\x98\\xea\\xb8\\xb0 #\\xec\\x97\\x85\\xec\\x82\\xac\\xec\\x9d\\xb4\\xed\\x81\\xb4\\xeb\\xa7\\x81 #\\xeb\\x8b\\x88\\xed\\x8a\\xb8\\xeb\\xa6\\xac\\xed\\x8f\\xbc</strong>\\n                        <p class=\"desc\">UPCYCLING \\xeb\\xaa\\xbb\\xec\\x9e\\x85\\xea\\xb2\\x8c\\xeb\\x90\\x9c \\xeb\\x8b\\x88\\xed\\x8a\\xb8\\xec\\x9d\\x98 \\xec\\x83\\x88\\xeb\\xa1\\x9c\\xec\\x9a\\xb4 \\xeb\\xb3\\x80\\xec\\x8b\\xa0 \\xea\\xb8\\x80/\\xec\\x82\\xac\\xec\\xa7\\x84 \\xeb\\x82\\x9c\\xeb\\x82\\x98\\xea\\xb2\\xb0 \\xeb\\x82\\xa0\\xec\\x94\\xa8\\xea\\xb0\\x80 \\xea\\xb0\\x91\\xec\\x9e\\x90\\xea\\xb8\\xb0 \\xed\\x9b\\x85 \\xe3\\x85\\xa1 \\xec\\xb6\\x94\\xec\\x9b\\x8c\\xec\\xa1\\x8c\\xec\\x96\\xb4\\xec\\x9a\\x94 \\xeb\\x82\\xad\\xeb\\xa7\\x8c\\xec\\xa0\\x81\\xec\\x9d\\xb4\\xeb\\x8d\\x98 \\xea\\xb0\\x80\\xec\\x9d\\x84\\xec\\x9d\\xb4 \\xeb\\xa9\\x80\\xec\\x96\\xb4\\xec\\xa7\\x80\\xeb\\x8a\\x94\\xea\\xb1\\xb0 \\xea\\xb0\\x99\\xec\\x95\\x84 \\xec\\x95\\x84\\xec\\x89\\xbd\\xec\\xa7\\x80\\xeb\\xa7\\x8c, \\xed\\x95\\x9c\\xed\\x8e\\xb8\\xec\\x9c\\xbc\\xeb\\xa1\\xa0 \\xeb\\x8b\\xa4\\xea\\xb0\\x80\\xec\\x98\\xa4\\xeb\\x8a\\x94 \\xea\\xb2\\xa8\\xec\\x9a\\xb8\\xec\\x97\\x90 \\xeb\\x8c\\x80\\xed\\x95\\x9c \\xea\\xb8\\xb0\\xeb\\x8c\\x80\\xea\\xb0\\x80 \\xec\\x9e\\x88\\xec\\x96\\xb4\\xec\\x9a\\x94 \\xec\\xa0\\x9c\\xea\\xb0\\x80 \\xec\\xa2\\x8b\\xec\\x95\\x84\\xed\\x95\\x98\\xeb\\x8a\\x94 \\xeb\\x8b\\x88\\xed\\x8a\\xb8\\xec\\x9d\\x98 \\xea\\xb3\\x84\\xec\\xa0\\x88\\xec\\x9d\\xb4 \\xec\\x98\\xa8\\xeb\\x8b\\xa4\\xea\\xb5\\xac\\xec\\x9a\\x94! \\xec\\x84\\xa4\\xeb\\xa0\\x88\\xec\\x9d\\xb4\\xeb\\x8a\\x94 \\xeb\\xa7\\x88\\xec\\x9d\\x8c\\xec\\x9c\\xbc\\xeb\\xa1\\x9c \\xec\\x98\\xb7\\xec\\xa0\\x95\\xeb\\xa6\\xac\\xeb\\xa5\\xbc \\xed\\x95\\x98\\xeb\\x8b\\xa4\\xeb\\xb3\\xb4\\xeb\\x8b\\x88 \\xec\\x98\\x88\\xec\\xa0\\x84\\xec\\x97\\x90 \\xec\\xb0\\xb8 \\xec\\xa2\\x8b\\xec\\x95\\x84\\xed\\x95\\x98\\xeb\\x8d\\x98 \\xec\\x98\\xb7\\xec\\x9d\\xb8\\xeb\\x8d\\xb0 \\xed\\x95\\x9c\\xeb\\x8f\\x99\\xec\\x95\\x88 \\xec\\x95\\x88\\xec\\x9e\\x85\\xea\\xb3\\xa0 \\xeb\\x84\\xa3\\xec\\x96\\xb4\\xeb\\x91\\x94\\xea\\xb2\\x8c \\xeb\\xb3\\xb4\\xec\\x9d\\xb4\\xeb\\x8d\\x94\\xeb\\x9d\\xbc\\xea\\xb5\\xac\\xec\\x9a\\x94 \\xea\\xb7\\xb8\\xeb\\x9f\\xb0\\xeb\\x8d\\xb0, \\xec\\x99\\x9c.......\\xec\\x9e\\x91\\xec\\x9d\\x80\\xea\\xb1\\xb0\\xec\\xa7\\x80? \\xec\\xab\\x99</p>\\n\\t\\t\\t\\t\\t\\t<div class=\"source_box\">\\n\\t\\t\\t\\t\\t\\t\\t<span class=\"date\">1\\xea\\xb0\\x9c\\xec\\x9b\\x94 \\xec\\xa0\\x84</span>\\n\\t\\t\\t\\t\\t\\t\\t<span class=\"source\">\\n                                \\n                                <span class=\"source_inner\">\\xeb\\x82\\x9c\\xeb\\x82\\x98\\xea\\xb2\\xb0</span>\\n                            </span>\\n\\t\\t\\t\\t\\t\\t</div>\\n\\t\\t\\t\\t\\t</a>\\n\\t\\t\\t\\t</li>\\n\\t\\t\\t\\n\\t\\t\\t\\t<li class=\"theme_item\" data-gdid=\"638035b693445a005370ae05\" data-da-position=\"true\">\\n\\t\\t\\t\\t\\t<a href=\"https://post.naver.com/viewer/postView.naver?volumeNo&#x3D;34769927&amp;memberNo&#x3D;29772279\" class=\"theme_thumb\" data-clk=\"tcc_lif.list6cont5\" target=\"_blank\">\\n\\t\\t\\t\\t\\t\\t<img  data-src=\"https://s.pstatic.net/dthumb.phinf/?src&#x3D;%22https%3A%2F%2Fs.pstatic.net%2Fshop.phinf%2F20221124_80%2F166926445825270Tau_JPEG%2Ffds.jpg%22&amp;type&#x3D;nf340_228\" alt=\"\\xeb\\x84\\x93\\xec\\x9d\\x80 \\xec\\xb0\\xbd\\xec\\x9c\\xbc\\xeb\\xa1\\x9c \\xec\\x8b\\x9c\\xec\\x9b\\x90\\xed\\x95\\x9c \\xea\\xb0\\x9c\\xeb\\xb0\\xa9\\xea\\xb0\\x90, \\xec\\xa0\\x95\\xeb\\x82\\xa8\\xed\\x96\\xa5 \\xec\\xa0\\x84\\xec\\x9b\\x90\\xec\\xa3\\xbc\\xed\\x83\\x9d\" width=\"170\" height=\"114\" onerror=\"this.outerHTML=\\'<span class=\\\\\\'pm_noimg\\\\\\'><span class=\\\\\\'noimg_text\\\\\\'>\\xec\\x9d\\xb4\\xeb\\xaf\\xb8\\xec\\xa7\\x80 \\xec\\xa4\\x80\\xeb\\xb9\\x84\\xec\\xa4\\x91</span></span>\\'\">\\n\\t\\t\\t\\t\\t\\t<span class=\"thumb_bd\"></span>\\n                        \\n\\t\\t\\t\\t\\t</a>\\n\\t\\t\\t\\t\\t<a href=\"https://post.naver.com/viewer/postView.naver?volumeNo&#x3D;34769927&amp;memberNo&#x3D;29772279\" class=\"theme_info\" data-clk=\"tcc_lif.list6cont5\" target=\"_blank\">\\n\\t\\t\\t\\t\\t\\t<em class=\"theme_category\"> \\xeb\\xa6\\xac\\xeb\\xb9\\x99</em>\\n\\t\\t\\t\\t\\t\\t<strong class=\"title elss\">\\xeb\\x84\\x93\\xec\\x9d\\x80 \\xec\\xb0\\xbd\\xec\\x9c\\xbc\\xeb\\xa1\\x9c \\xec\\x8b\\x9c\\xec\\x9b\\x90\\xed\\x95\\x9c \\xea\\xb0\\x9c\\xeb\\xb0\\xa9\\xea\\xb0\\x90, \\xec\\xa0\\x95\\xeb\\x82\\xa8\\xed\\x96\\xa5 \\xec\\xa0\\x84\\xec\\x9b\\x90\\xec\\xa3\\xbc\\xed\\x83\\x9d</strong>\\n                        <p class=\"desc\">\\xec\\x9e\\x90\\xeb\\x85\\x80\\xeb\\x93\\xa4\\xec\\x9d\\xb4 \\xeb\\xaa\\xa8\\xeb\\x91\\x90 \\xec\\xb6\\x9c\\xea\\xb0\\x80\\xed\\x95\\xb4\\xec\\x84\\x9c \\xec\\x86\\x90\\xec\\xa3\\xbc\\xeb\\x93\\xa4\\xec\\x9d\\xb4 \\xec\\x9e\\x88\\xeb\\x8a\\x94 \\xea\\xb1\\xb4\\xec\\xb6\\x95\\xec\\xa3\\xbc\\xeb\\xb6\\x80\\xeb\\xb6\\x80\\xeb\\x8a\\x94 \\xec\\xb6\\xa9\\xeb\\x82\\xa8 \\xec\\x95\\x84\\xec\\x82\\xb0 \\xed\\x95\\x9c\\xec\\xa0\\x81\\xed\\x95\\x9c \\xeb\\x95\\x85\\xec\\x97\\x90 \\xec\\xa0\\x95\\xeb\\x82\\xa8\\xed\\x96\\xa5 \\xec\\xa0\\x84\\xec\\x9b\\x90\\xec\\xa3\\xbc\\xed\\x83\\x9d\\xec\\x9d\\x84 \\xec\\xa7\\x80\\xec\\x97\\x88\\xeb\\x8b\\xa4. \\xea\\xb1\\xb0\\xec\\x8b\\xa4\\xea\\xb3\\xbc \\xec\\xa3\\xbc\\xeb\\xb0\\xa9\\xec\\x9d\\x84 \\xed\\x86\\xb5\\xed\\x95\\xa9\\xed\\x95\\xb4 \\xec\\x8b\\x9c\\xec\\x9b\\x90\\xed\\x95\\x9c \\xea\\xb0\\x9c\\xeb\\xb0\\xa9\\xea\\xb0\\x90\\xea\\xb3\\xbc \\xec\\xa0\\x84\\xeb\\xa9\\xb4\\xec\\x97\\x90 \\xec\\x84\\xa4\\xec\\xb9\\x98\\xed\\x95\\x9c \\xec\\xb0\\xbd\\xeb\\xac\\xb8\\xeb\\x8f\\x84 \\xec\\xb6\\xa9\\xeb\\xb6\\x84\\xed\\x9e\\x88 \\xeb\\x84\\x90\\xec\\xb0\\x8d\\xed\\x95\\x98\\xea\\xb2\\x8c \\xed\\x95\\xa8\\xec\\x9c\\xbc\\xeb\\xa1\\x9c\\xec\\x8d\\xa8 \\xec\\x9d\\xbc\\xec\\xa1\\xb0\\xeb\\x9f\\x89\\xec\\x9d\\x84 \\xeb\\x84\\x89\\xeb\\x84\\x89\\xed\\x9e\\x88 \\xed\\x99\\x95\\xeb\\xb3\\xb4\\xed\\x96\\x88\\xeb\\x8b\\xa4. \\xec\\x9d\\xb4\\xeb\\x8a\\x94 \\xeb\\x98\\x90 \\xea\\xb3\\xb5\\xec\\x9a\\xa9\\xea\\xb3\\xb5\\xea\\xb0\\x84 \\xec\\x96\\xb4\\xeb\\x94\\x94\\xec\\x97\\x90\\xec\\x84\\x9c\\xeb\\x82\\x98 \\xed\\x99\\x95 \\xed\\x8a\\xb8\\xec\\x9d\\xb8 \\xeb\\xa7\\x88\\xec\\x9a\\xb4\\xed\\x8b\\xb4 \\xeb\\xb7\\xb0\\xeb\\xa5\\xbc \\xec\\x84\\xa0\\xec\\x82\\xac\\xed\\x95\\x98\\xea\\xb3\\xa0 \\xec\\x9e\\x88\\xeb\\x8b\\xa4. 2\\xec\\xb8\\xb5\\xec\\x9d\\x80 \\xec\\xb6\\x9c\\xea\\xb0\\x80\\xed\\x95\\x9c \\xec\\x9e\\x90\\xeb\\x85\\x80\\xeb\\x93\\xa4\\xea\\xb3\\xbc \\xec\\x86\\x90\\xec\\xa3\\xbc\\xeb\\x93\\xa4\\xec\\x9d\\x84 \\xec\\x9c\\x84\\xed\\x95\\x9c \\xeb\\xb0\\xb0\\xeb\\xa0\\xa4\\xea\\xb0\\x80 \\xeb\\x8f\\x8b\\xeb\\xb3\\xb4\\xec\\x9d\\xb4\\xeb\\x8a\\x94 \\xea\\xb3\\xb5\\xea\\xb0\\x84\\xec\\x9d\\xb4\\xeb\\x8b\\xa4. \\xec\\x9e\\x90\\xeb\\x85\\x80\\xeb\\x93\\xa4\\xec\\x9d\\xb4 \\xec\\x96\\xb8\\xec\\xa0\\x9c\\xeb\\x93\\xa0 </p>\\n\\t\\t\\t\\t\\t\\t<div class=\"source_box\">\\n\\t\\t\\t\\t\\t\\t\\t<span class=\"date\">1\\xea\\xb0\\x9c\\xec\\x9b\\x94 \\xec\\xa0\\x84</span>\\n\\t\\t\\t\\t\\t\\t\\t<span class=\"source\">\\n                                \\n                                <span class=\"source_inner\">\\xeb\\x82\\x98\\xeb\\xac\\xb4\\xec\\x8b\\xa0\\xeb\\xac\\xb8</span>\\n                            </span>\\n\\t\\t\\t\\t\\t\\t</div>\\n\\t\\t\\t\\t\\t</a>\\n\\t\\t\\t\\t</li>\\n\\t\\t\\t\\n\\t\\t</ul>\\n\\t</div>\\n</div>\\n\\n\\n\\n\\n\\t<div class=\"btn_more_wrap\">\\n\\t\\t<button type=\"button\" class=\"btn_more\" data-clk-custom=\"tcc_lif.more\" data-next-page=\"2\"><i class=\"ico_more\"></i>\\xec\\x83\\x88\\xeb\\xa1\\x9c\\xec\\x9a\\xb4 \\xea\\xb8\\x80 \\xeb\\x8d\\x94\\xeb\\xb3\\xb4\\xea\\xb8\\xb0</button>\\n\\t</div>\\n\\n\\n<div class=\"NM_THEME_META\" style=\"display: none\" data-panel-code=\"LIVINGHOME\" data-parent-code=\"\"></div>\\n\\n\\t</div>\\n</div>\\n </div> </div> <div id=\"NM_INT_RIGHT\" class=\"column_right\"> <div class=\"column_fix_wrap\"> <div id=\"da_brand\"></div> \\n\\n\\n\\n\\n\\n<div id=\"account\" class=\"sc_login\">\\n<h2 class=\"blind\">Sign in</h2>\\n<p class=\"login_msg\">Connect with people</p>\\n<a href=\"https://nid.naver.com/nidlogin.login?mode=form&url=https%3A%2F%2Fwww.naver.com\" class=\"link_login\" data-clk=\"log_off.login\"><i class=\"ico_naver\"><span class=\"blind\">NAVER</span></i>Sign in</a>\\n<div class=\"sub_area\">\\n<div class=\"look_box\">\\n<a href=\"https://nid.naver.com/user/help.nhn?todo=idinquiry\" class=\"link_look\" data-clk=\"log_off.searchid\">Forgot Username</a>\\n<a href=\"https://nid.naver.com/nidreminder.form\" class=\"link_look\" data-clk=\"log_off.searchpass\">Password</a>\\n</div>\\n<a href=\"https://nid.naver.com/nidregister.form?url=https%3A%2F%2Fwww.naver.com\" class=\"link_join\" data-clk=\"log_off.registration\">Sign up</a>\\n</div>\\n</div>\\n\\n\\n\\n <div id=\"timesquare\" class=\"sc_timesquare\"> <h2 class=\"blind\">\\xed\\x83\\x80\\xec\\x9e\\x84\\xec\\x8a\\xa4\\xed\\x80\\x98\\xec\\x96\\xb4</h2> <div class=\"card_wrap\">\\n<div class=\"card_nav\">\\n<a href=\"#\" role=\"button\" class=\"btn_nav btn_prev\" data-clk=\"squ.pre\"><span class=\"blind\">\\xec\\x9d\\xb4\\xec\\xa0\\x84</span></a>\\n<a href=\"#\" role=\"button\" class=\"btn_nav btn_next\" data-clk=\"squ.next\"><span class=\"blind\">\\xeb\\x8b\\xa4\\xec\\x9d\\x8c</span></a>\\n</div>\\n<div id=\"NM_TS_ROLLING_WRAP\" style=\"height: 100%;\">\\n<div>\\n<a href=\"https://news.naver.com/main/tv/index.naver?mid=tvh\" class=\"card_news\" data-clk=\"squ.line1\"><i class=\"news_badge type_live\">LIVE</i><span class=\"news\">\\xec\\xa0\\x80\\xeb\\x85\\x81\\xeb\\xb0\\xa9\\xec\\x86\\xa1 \\xeb\\xa9\\x94\\xec\\x9d\\xb8\\xeb\\x89\\xb4\\xec\\x8a\\xa4 \\xeb\\xb3\\xb4\\xea\\xb8\\xb0</span></a>\\n</div>\\n<div>\\n<a href=\"https://search.naver.com/search.naver?sm=top_hty&amp;fbm=0&amp;ie=utf8&amp;query=%EC%BD%94%EB%A1%9C%EB%82%9819\" class=\"card_news\" data-clk=\"squ.line3\"><i class=\"news_badge\">\\xec\\x9d\\xb4\\xec\\x8a\\x88</i><span class=\"news\">\\xec\\xbd\\x94\\xeb\\xa1\\x9c\\xeb\\x82\\x98\\xeb\\xb0\\x94\\xec\\x9d\\xb4\\xeb\\x9f\\xac\\xec\\x8a\\xa4\\xea\\xb0\\x90\\xec\\x97\\xbc\\xec\\xa6\\x9d-19 \\xed\\x98\\x84\\xed\\x99\\xa9</span></a>\\n</div>\\n\\n</div>\\n</div> <!-- EMPTY --> </div> <div id=\"veta_branding\"> <span class=\"blind\"> <script id=\"veta_service_check\"></script> </span> <div id=\"veta_branding_inner\" style=\"width:350px;height:200px\"> </div> <span class=\"veta_bd_t\"></span> <span class=\"veta_bd_b\"></span> <span class=\"veta_bd_l\"></span> <span class=\"veta_bd_r\"></span> </div> <div id=\"shopcast\" class=\"sc_shopcast\"> <iframe id=\"shopcast_iframe\" data-iframe-src=\"/shoppingbox/shoppingboxnew/main.nhn?mode=plusdeal&domain=N\" title=\"\\xec\\x87\\xbc\\xed\\x95\\x91\\xec\\xba\\x90\\xec\\x8a\\xa4\\xed\\x8a\\xb8\" width=\"350\" height=\"1809\" marginheight=\"0\" marginwidth=\"0\" scrolling=\"no\" frameborder=\"0\"></iframe> </div> </div> </div> <a id=\"NM_scroll_top_btn\" href=\"#wrap\" class=\"content_top\"><span class=\"blind\">TOP</span></a> <button id=\"NM_darkmode_btn\" type=\"button\" role=\"button\" class=\"btn_theme\" aria-pressed=\"false\"  > <span class=\"blind\">\\xeb\\x9d\\xbc\\xec\\x9d\\xb4\\xed\\x8a\\xb8 \\xeb\\xaa\\xa8\\xeb\\x93\\x9c\\xeb\\xa1\\x9c \\xeb\\xb3\\xb4\\xea\\xb8\\xb0</span> </button> </div> <div id=\"footer\" role=\"contentinfo\"> <div class=\"footer_inner\"> <div id=\"NM-FOOTER-AD\" class=\"banner_area\"> <div class=\"da_box_wrap\"> <div id=\"da_public_left\"> </div> <div id=\"da_public_right\"> </div> <div id=\"veta_time2\"> </div> </div> </div> <div class=\"notice_area\" data-clk-prefix=\"ntc\"> <div class=\"notice_box\"> <h3 class=\"title\"><a href=\"https://www.naver.com/NOTICE\">\\xea\\xb3\\xb5\\xec\\xa7\\x80\\xec\\x82\\xac\\xed\\x95\\xad</a> </h3> <a data-clk=\"notice\" href=\"https://notice.naver.com/notices/wwwpc/8960\" class=\"notice_msg\" >\\n\\xeb\\x84\\xa4\\xec\\x9d\\xb4\\xeb\\xb2\\x84\\xec\\x97\\x90\\xec\\x84\\x9c \\xed\\x98\\xb8\\xed\\x85\\x94\\xec\\x9d\\x84 \\xeb\\x8d\\x94\\xec\\x9a\\xb1 \\xed\\x8e\\xb8\\xeb\\xa6\\xac\\xed\\x95\\x98\\xea\\xb2\\x8c \\xec\\x9d\\xb4\\xec\\x9a\\xa9\\xed\\x95\\xb4\\xeb\\xb3\\xb4\\xec\\x84\\xb8\\xec\\x9a\\x94.\\n</a> </div> <a href=\"more.html\" class=\"link_all\" data-clk=\"svcmap\">\\xec\\x84\\x9c\\xeb\\xb9\\x84\\xec\\x8a\\xa4 \\xec\\xa0\\x84\\xec\\xb2\\xb4\\xeb\\xb3\\xb4\\xea\\xb8\\xb0</a> </div> <div class=\"aside_area\"> <div class=\"partner_box_wrap\"> <div class=\"partner_box\" data-clk-prefix=\"crt\"> <h3 class=\"title\">Creators</h3> <a href=\"https://www.navercorp.com/service/creators\" class=\"link_partner\" data-clk=\"creator\">\\xed\\x81\\xac\\xeb\\xa6\\xac\\xec\\x97\\x90\\xec\\x9d\\xb4\\xed\\x84\\xb0</a> <a href=\"https://www.navercorp.com/service/business\" class=\"link_partner\" data-clk=\"smbusiness\">\\xec\\x8a\\xa4\\xeb\\xaa\\xb0\\xeb\\xb9\\x84\\xec\\xa6\\x88\\xeb\\x8b\\x88\\xec\\x8a\\xa4</a> </div> <div class=\"partner_box\" data-clk-prefix=\"crt\"> <h3 class=\"title\">Partners</h3> <a href=\"https://campaign.naver.com/smefullcare/online/\" class=\"link_partner\" data-clk=\"sme\">SME \\xed\\x92\\x80\\xec\\xbc\\x80\\xec\\x96\\xb4 \\xec\\x8b\\x9c\\xec\\x8a\\xa4\\xed\\x85\\x9c</a> <a href=\"https://business.naver.com/service.html\" class=\"link_partner\" data-clk=\"service\">\\xeb\\xb9\\x84\\xec\\xa6\\x88\\xeb\\x8b\\x88\\xec\\x8a\\xa4 \\xc2\\xb7 \\xea\\xb4\\x91\\xea\\xb3\\xa0</a> <a href=\"https://sell.storefarm.naver.com/#/home/about\" class=\"link_partner\" data-clk=\"store\">\\xec\\x8a\\xa4\\xed\\x86\\xa0\\xec\\x96\\xb4 \\xea\\xb0\\x9c\\xec\\x84\\xa4</a> <a href=\"https://smartplace.naver.com\" class=\"link_partner\" data-clk=\"place\">\\xec\\xa7\\x80\\xec\\x97\\xad\\xec\\x97\\x85\\xec\\xb2\\xb4 \\xeb\\x93\\xb1\\xeb\\xa1\\x9d</a> <a href=\"https://expert.naver.com/expert/introduction?tab=guide#join\" class=\"link_partner\" data-clk=\"expert\">\\xec\\x97\\x91\\xec\\x8a\\xa4\\xed\\x8d\\xbc\\xed\\x8a\\xb8 \\xeb\\x93\\xb1\\xeb\\xa1\\x9d</a> </div> <div class=\"partner_box\" data-clk-prefix=\"crt\"> <h3 class=\"title\">Developers</h3> <a href=\"https://developers.naver.com\" class=\"link_partner\" data-clk=\"center\">\\xeb\\x84\\xa4\\xec\\x9d\\xb4\\xeb\\xb2\\x84 \\xea\\xb0\\x9c\\xeb\\xb0\\x9c\\xec\\x9e\\x90 \\xec\\x84\\xbc\\xed\\x84\\xb0</a> <a href=\"https://developers.naver.com/docs/common/openapiguide/#/apilist.md\" class=\"link_partner\" data-clk=\"openapi\">\\xec\\x98\\xa4\\xed\\x94\\x88 API</a> <a href=\"https://naver.github.io\" class=\"link_partner\" data-clk=\"opensource\">\\xec\\x98\\xa4\\xed\\x94\\x88\\xec\\x86\\x8c\\xec\\x8a\\xa4</a> <a href=\"https://d2.naver.com\" class=\"link_partner\" data-clk=\"d2\">\\xeb\\x84\\xa4\\xec\\x9d\\xb4\\xeb\\xb2\\x84 D2</a> <a href=\"http://d2startup.com\" class=\"link_partner\" data-clk=\"naverD2SF\">\\xeb\\x84\\xa4\\xec\\x9d\\xb4\\xeb\\xb2\\x84 D2SF</a> <a href=\"https://www.naverlabs.com\" class=\"link_partner\" data-clk=\"labs\">\\xeb\\x84\\xa4\\xec\\x9d\\xb4\\xeb\\xb2\\x84 \\xeb\\x9e\\xa9\\xec\\x8a\\xa4</a> </div> </div> <div class=\"service_box_wrap\"> <div class=\"service_box\" data-clk-prefix=\"wbd\"> <a href=\"http://whale.naver.com/\" class=\"service_logo\" data-clk=\"bt\"> <img src=\"data:image/png;base64,iVBORw0KGgoAAAANSUhEUgAAAGAAAABgCAMAAADVRocKAAAC91BMVEUAAACE1dAbf6jE1Nq/z9e82drQ3OG7ytOzws+6x9QNs7MeLpQSx60QrLAfL50gMakTxKyzwc8fMacSr6yywc8fMKIdLYzJ1d4KrrW6ydMJrrUbr6QgMKW2xNEcr6W7ydUfL5cIr7XBztgMtbMeL50fMaQQzrI0tK4cLIQUvqsVvqofMKLL0eGzxM+4xtIZuKcJr7XCyNt0xsILsLW1w9AdLYZwvL8gMaoeLY6CzMceLYyxz9fI1d0JwLMeLY4KrbXFzeAgMqvN2OEIrLUGsrVIurMfLpAcLIIIsbVWs7MeLpXIzt0UvakgMqwfL5x4wcEJsLYfMagWt6k6qqoil6DV2+UdK4EeMoEfLpOzws4/s7YgMacXvqoC27QcK38B17TE1dobKW0bKnID0bTP3OACzrQcKngcLIMbKXAD07QeLYfi6uzY4+YfLpDN2+DK2d0cK3zU4eTS3+IFzLQeL5ccKnXk7O7G19wgMJ3R3uHa5ejL2t7c5unI2Nzg6esBxrMfMKPp7vEeLYrr8fMNr7X2+PkeLYzt8vQE2LTx9fYfLpPz9/gHyLMOsrUHr7UCybQLs7YKu7UIuLUFvLQGwbUIxbQGw7QcKnTZ5OfV4uUJv67e5+rd5+rl7e8Ju6z3+vvm7vDp8PHs8vPw9fbv9PUgMaj6/PwgMqwJs6kNw7AFubULtrUGtbUJvrQEv7QAwq8MrqYKuKsKtqn+/v4Osaf7/P0K1rMHq6UeqKQNqKQhNoIgSH0Vvqoie5MhWIdV3cAcsaYhhZoglJkdLXnJ7+ia5tU61rgp1rceoKIhb4whZYgcM3fj9vJw3sdJx7xtd6sXt6hCT5AvPpAfPYQbKIMcJ34fP3q+8uSy49ux0tWd2NKYzM+A48yE08t6xchdv8FP0b1zfbcSpKIgToEbJ3nE5OG12Nmn19WM5tGKk8ehqMZlxcJJuLwgtLcbvbYc2bUTtaknNpA1Q4bZ7uuzuNuP3M9p0cNfbLUKtq5IVqk8Sp8jZpxaZZrUCA9eAAAAXXRSTlMABAj99BcO6IpfLhj9hPLp5ryyq6ZzXDnd2cuYkHtzbFFOQj0yJv76+ebc29fXx8TCuJuVlIqHgX5gPS0kEvn49/f08O3t6+fj2tLR0MzGeGNfWvbz7sXBpYN4PB4CDkIdAAAFcUlEQVRo3q3TdVwTYRjA8eeI0SKgYnd3d3d362tgO7u7Y4rd3d2K4pwwQkAQJUSxu7vbPzwYg9vufe+eO/neP9vtPr/n7t53gFMobxXPVu719pu4t/LM2a4gBwioeGZP9/0U9TyrFEyHepUSeyW45+wB/8GmXetZskpkdlGbz+w+CyVDThdV+QyT0FSMyFtikiIZMnOggIvnOMWaFwS0LBkkQj/q/mL8UpVDvv2ui6V89XvF+qm1C2rnNx8u6ferq8zfGlcHWdUbD/8PtbPI7p7aC5R49Mn6TFWZ5Z2jzKNPolOVJPtD04HEhLxFh6YH5lsqWHQQ1dVBCjFW2qUJo+8Xq3BAUeputenci27Qo6u9FGpC+8dV6pUODAZDQkKCwdAFRNz+s2wMiYwbQkwi7oWVBCvOHUep9yQkTkfMIsIv+/HygKVigaPoYuMFX+InGEQXJIS4kjRBN/b5JZutAaHcxDhQ3gVD7AWrU0a9TpgPO5OqnMUOciWJA9O8jh+IYwwmAhE39gnMrwFpchByQXCjn/kvCOf1ROil7z4LgnWuVZiQ8UpFh/gTgYs3tlvzFj4AiVbYN7oSoaDL20VaQAou6drE9UpcCCUWruyeL+ZbM3UL8Yw+YrHD4n2ozgdY9X3n05g3UnHCC6R0Xvv9pfaj/ImFoN3zqbQcJOlJkugpofWfafnoSGIp4rIvg5N5iXn+0aIS7vUQ/zBfFtMyFyPJogajXOpHrIQvYprNJf0JiEkAJu8TQqwF7VnE5mTaQyaX5PvRwUQkbLeEpH1UhqRw9ZHrP3ElInf3SOkEABmJWWhfaVG9iciHywulzNWAjY6kuiSV9wklFOELpeWHAsINZ2T3+d1JcXHrLmkVITcRGMJ8hsDehCZ8rozSkINYCKTmn8QRQn8AuQElwYtYCj4vyieG6gjdy51y6kMZYkUXmmj58kP9CcOHL7PlaKElEdEFR5031wPjCNvd2fKgOKHqF6CP1AeI7j1k+PA/aSfDdsiDjESBgDm8SJIiaCuCsgH6a7xAkuLmBASFA67zzAMuanEDdAoUHvX06dNgncldLQYU763Ex6hLkebPz7TaCfIHtOyt0kMtCpRROyAc1R8GXvy1Q1Qc/htmYNQFtyHqXEH1N2eD9ioH3NyM4gHO/VSJ2IKTC7ixqgZ8m4bjDVBMTb/waFx/IwfgNUCFK1NwHACgvZoBN5EDMgGAzRJWZSyz/3ADkjfwGo1V7PYwnPoc8MovZ2Dll18cjRzgAUnsDy5hYE24NwwpPyRrNJNuOcOSZxtx7MCk2kG6JQzfRyM5Qooix2lmsjxH9qdqIEX5TTRrGR6OQcoEZlwRSp/5BC/GjEYdI+whVfltYgfX0sXgH0CgiKh/fB3D7ck4thoQqHbS2kFGP2YyUi6w0OyUpW1rGG73x3HgwIJ98AGhU0cZ/Rhkf2oNsNLGYsC2YwwvkAMcQaTZ6TQfjzK8QfazcSDCdTiRajXD++cjUOzsgaKG3tz/uZLhHq4/PT9QVTt3NtmB1QwxI3EDnIChzeNzvLMrGd7fmoriCEyVH/P9Qyx3cP2KAJITDq9iuD8SxREkdT/C6j+Yjup3A0nOTQ8zPJiIyds6gaQCDY8wvJk4HcHOGyS1XbqC4f50jNL2IMWmwlKGd3cmItjmknn92VcwvL2F6ZeqKX37bszbv98HwU5mdfNlncfw4FYf3kSpg887aqQ3T1lW/u2dPnLk8/nKLmMoW9nDVjZfyomTzjdl1BtWcAYA+zylpGY4ONYEOc5u2evMs5a1QoHU+9I4ZXKwpcU98tgDDufc1s0re9YGdZYta5A1u5dbvlpgReOdp6JHNgc7fpCtnUO20ply5UfG/wEFXaai/lOVTwAAAABJRU5ErkJggg==\" alt=\"\\xec\\x9b\\xa8\\xec\\x9d\\xbc\" width=\"48\" height=\"48\"> </a> <div class=\"service_info\"> <strong class=\"title\">\\xec\\x9b\\xa8\\xec\\x9d\\xbc \\xeb\\xb8\\x8c\\xeb\\x9d\\xbc\\xec\\x9a\\xb0\\xec\\xa0\\x80</strong> <a href=\"http://whale.naver.com/\" class=\"dsc\" data-clk=\"bt\">\\xeb\\x8b\\xa4\\xec\\x9a\\xb4\\xeb\\xb0\\x9b\\xea\\xb8\\xb0</a> </div> </div> <div class=\"service_box\" data-clk-prefix=\"prj\"> <a href=\"https://search.naver.com/search.naver?where=nexearch&sm=top_hty&fbm=1&ie=utf8&query=%ED%94%84%EB%A1%9C%EC%A0%9D%ED%8A%B8%EA%BD%83\" class=\"service_logo\" data-clk=\"link\"> <img src=\"data:image/png;base64,iVBORw0KGgoAAAANSUhEUgAAAF4AAABkCAMAAAA47XeXAAAAgVBMVEUAAADN5PdGm99Gm99Gm99Gm99Gm95Gm99Gm99Gm99Gm99Gm99Gm99Gm99Gm99Gm99Gm99Gm99Gm99Gm99Gm99Gm99Gm99Gmt9Gm99Gm99Gm99Gm95Gm99Gm99Gm95Gm99Hm99Gm99Gm9/////3+/5cp+LO5PfR5/fO5fdcp+P7/f/zv5GhAAAAInRSTlMA/v7vH9u5qJNgGwb6l8a9uqF9WFUyLxYMCtbVmLCwe4OCj8gzEgAAA0NJREFUaN7NmmFz4iAQhkkwMTHGWrWtWvWuq8mF+/8/8Ey2nb0OhSwQZnw+MHQ7pbjAy2s2gsuiLPJMLpcyy4tyISZltnmHbxw3MzEVr/MUNNL5q5iCt2ccXCN9fhPB7CQYkTsRRlWDlboSAexzGCHfC28OKxhldfDOzBMwePLNTw0sauHFFphshQcLCUwkaQRfXYBPSkrEUBdv3jezcXXhw1ciUhc+fCUidQlH7qzqEk5d2dQlnHxvU5dwVgdXdSGclaiGyamt6hLO1qIu4ZASzcFE092SBprk1jagulvXAAw/qb5N7m176xQYmOPoLymYaK/X65/PNhlagE6LGUhfRM8FjNzuf/73//bHmInzoJEpjMyeWpp9RzGz/PT6+QvMNO2Q+67PPeYZY5h7jDVg5OM+/BGikd13JfDAj/Ad1WLMyEyUwKPT00ypN1GKAljQJtFiFgqRe86eYhbWIvPPPR5d+9pKiIgUwKNJdHXBvW9jyRye1EWLWYfnJcd141Byspizz7gbUyWDuqiW0v15D9g3ZgF86JwyKUgUHJaATUmS5rsEdkkTZLjZS8Alw+skFr8Nl6H6uosShaKOp3Zo+/jgFTDe+wcSfv0yFGfQaLX7tDO0reXOPRuMCG4Q11Y3IiYblWgzS7R+h31qdRtlGB7zikeUckz+AB3a8FuMqD7Cd2nhUHLOEIkLubQIkEuLxIdwEwUy3HyXxsbgPMJcGuGox+TSIugxuTQ+KHIaAS5N92eIIuMT5tJoPfHy5q9yKoXLelLuKRri0mjMQdhwTPw6Sv8pzKXhFyhNilEwkSCXRrnAnaPnJdyl0UrqXircpeHVglnv+62K4NJo3lFcGmWd79KO7OQoXAE8XNO6tIQGxj7fpfHTwk8RubQLWEGvgTNGKzj01fixunCMCCYcvSSlaFwUyKVx86J3bczpUR3zimq1LqdosAUbJF54ar+uk5Gju436mPTk8ZAXFdO93HRYTesUVgf3B+y0XdxLfdVputmfKp/iBtNjyl3c0kzUwtJIWewIPvAL9LOyWLsV9WAps3VRzh6hJBm3oOqsRKfHLGYzS/GP+iLBuBKdqkd+iWPkFZTHf4Em4us/uhI5qss/6zK5u8+AXpwAAAAASUVORK5CYII=\" alt=\"\\xea\\xbd\\x83\" width=\"47\" height=\"50\"> </a> <div class=\"service_info\"> <strong class=\"title\">\\xed\\x94\\x84\\xeb\\xa1\\x9c\\xec\\xa0\\x9d\\xed\\x8a\\xb8 \\xea\\xbd\\x83</strong> <a href=\"https://search.naver.com/search.naver?where=nexearch&sm=top_hty&fbm=1&ie=utf8&query=%ED%94%84%EB%A1%9C%EC%A0%9D%ED%8A%B8%EA%BD%83\" class=\"dsc\" data-clk=\"link\">\\xeb\\xb0\\x94\\xeb\\xa1\\x9c\\xea\\xb0\\x80\\xea\\xb8\\xb0</a> </div> </div> </div> </div> <div class=\"corp_area\" data-clk-prefix=\"plc\"> <h3 class=\"blind\">\\xeb\\x84\\xa4\\xec\\x9d\\xb4\\xeb\\xb2\\x84 \\xec\\xa0\\x95\\xec\\xb1\\x85 \\xeb\\xb0\\x8f \\xec\\x95\\xbd\\xea\\xb4\\x80</h3> <ul class=\"list_corp\"> <li class=\"corp_item\"><a href=\"https://www.navercorp.com\" data-clk=\"intronhn\">\\xed\\x9a\\x8c\\xec\\x82\\xac\\xec\\x86\\x8c\\xea\\xb0\\x9c</a></li> <li class=\"corp_item\"><a href=\"https://recruit.navercorp.com/\" data-clk=\"recruit\">\\xec\\x9d\\xb8\\xec\\x9e\\xac\\xec\\xb1\\x84\\xec\\x9a\\xa9</a></li> <li class=\"corp_item\"><a href=\"https://www.navercorp.com/naver/proposalGuide\" data-clk=\"contact\">\\xec\\xa0\\x9c\\xed\\x9c\\xb4\\xec\\xa0\\x9c\\xec\\x95\\x88</a></li> <li class=\"corp_item\"><a href=\"/policy/service.html\" data-clk=\"service\">\\xec\\x9d\\xb4\\xec\\x9a\\xa9\\xec\\x95\\xbd\\xea\\xb4\\x80</a></li> <li class=\"corp_item\"><a href=\"/policy/privacy.html\" data-clk=\"privacy\"><strong>\\xea\\xb0\\x9c\\xec\\x9d\\xb8\\xec\\xa0\\x95\\xeb\\xb3\\xb4\\xec\\xb2\\x98\\xeb\\xa6\\xac\\xeb\\xb0\\xa9\\xec\\xb9\\xa8</strong></a></li> <li class=\"corp_item\"><a href=\"/policy/youthpolicy.html\" data-clk=\"youth\">\\xec\\xb2\\xad\\xec\\x86\\x8c\\xeb\\x85\\x84\\xeb\\xb3\\xb4\\xed\\x98\\xb8\\xec\\xa0\\x95\\xec\\xb1\\x85</a></li> <li class=\"corp_item\"><a href=\"https://policy.naver.com/policy/service_group.html\" data-clk=\"policy\">\\xeb\\x84\\xa4\\xec\\x9d\\xb4\\xeb\\xb2\\x84 \\xec\\xa0\\x95\\xec\\xb1\\x85</a></li> <li class=\"corp_item\"><a href=\"https://help.naver.com/\" data-clk=\"helpcenter\">\\xea\\xb3\\xa0\\xea\\xb0\\x9d\\xec\\x84\\xbc\\xed\\x84\\xb0</a></li> </ul> <address class=\"addr\"><a href=\"https://www.navercorp.com\" target=\"_blank\" data-clk=\"nhn\">\\xe2\\x93\\x92 NAVER Corp.</a></address> </div> </div> </div> </div> <div id=\"adscript\" style=\"display:none\"></div> </body> </html>\\n'\n"
          ]
        }
      ]
    },
    {
      "cell_type": "markdown",
      "source": [
        "## urllib vs requests\n",
        "\n",
        "- urllib\n",
        "\n",
        "  - 인코딩하여 바이너리 형태로 데이터 전송\n",
        "\n",
        "  - 데이터 전달 방식에 따라 GET요청, POST요청을 구분\n",
        "\n",
        "- requests\n",
        "  \n",
        "  - 딕셔너리 형태로 데이터 전송\n",
        "\n",
        "  - 요청메서드(GET, POST)를 명시하여 요청"
      ],
      "metadata": {
        "id": "Eer7J0t9NQmT"
      }
    },
    {
      "cell_type": "markdown",
      "source": [
        "## BeautifulSoup\n",
        "\n",
        "- BeautifulSoup( parsing할 데이터, parsing 방법 )\n",
        "\n",
        "- HTML 및 XML 파일에서 데이터를 추출하기 위한 파이썬 라이브러리다.\n",
        "\n",
        "- 파이썬에서 기본적으로 제공하는 라이브러리가 아니므로 별도 설치가 필요하다.\n",
        "\n",
        "  - Anaconda에는 BeautifulSoup 패키지가 Site-package로 설치되어 있다.\n",
        "\n",
        "  - !pip install beautifulSoup4\n",
        "\n",
        "- HTML 및 XML 파일의 내용을 읽을 때 다음 파서(Parser)를 이용한다.\n",
        "  \n",
        "  - html.parser, lxml, lxml-xml, html5lib\n",
        "\n",
        "  - 파이썬이 내장하고 있는 파서 사용 가능\n",
        "\n",
        "  - 성능이 좋은 파서를 추가로 설치하여 사용 가능\n",
        "\n",
        "  - 파서 라이브러리( Parser Library ) 비교\n",
        "  ![parser](https://img1.daumcdn.net/thumb/R1280x0/?scode=mtistory2&fname=https%3A%2F%2Fblog.kakaocdn.net%2Fdn%2Fc28GWb%2FbtqCtX7fBRN%2FnRwJ7DSP8dtjjBxGwfGv10%2Fimg.png)\n",
        "\n",
        "- HTML 파싱\n",
        "  \n",
        "  - BeautifulSoup의 메인 페키지인 bs 패키지에서 BeautifulSoup( ) 함수 임포트\n",
        "\n",
        "  - 파싱할 HTML문서와 파싱에 사용할 파서(구문분석기)를 지정하여 호출\n",
        "\n",
        "  - HTML 문서에 대한 파싱이 끝나면 트리 구조형식으로 DOM 객체 생성\n",
        "\n",
        "- bs4.BeautifulSoup 객체의 태그 접근 방법\n",
        "\n",
        "  - HTML 문서를 파싱하고 bs4.BeautifulSoup 객체생성\n",
        "  \n",
        "  - `<html>`, `<head>` 태그와 `<body>`태그는 제외하고 접근하려는 태그에 계층 구조를 적용\n",
        "\n",
        "  - 태그명을 `.` 연산자와 함께 사용\n",
        "    - bs.태그명\n",
        "    - bs.태그명.태그명\n",
        "    - bs.태그명.태그명.태그명 ...  \n",
        "      (ex : bs.html.body.h1)\n",
        "\n",
        "- bs4.element.Tag 객체의 주요 속성과 메서드\n",
        "\n",
        "  - 태그명 추출\n",
        "    - bs.태그명.name\n",
        "\n",
        "  - 속성 추출\n",
        "    - bs.태그명[ '속성명' ]\n",
        "    - bs.태그명.attrs\n",
        "  \n",
        "  - 컨텐츠 추출\n",
        "    - bs.태그명.string\n",
        "    - bs.태그명.text\n",
        "    - bs.태그명.contents\n",
        "    - bs.태그명.strings\n",
        "    - bs.태그명.get_text( )\n",
        "\n",
        "- 태그로부터 다른 태그로 이동\n",
        "  \n",
        "  - 부모 태그 추출\n",
        "    - bs.태그명.parent\n",
        "\n",
        "  - 자식 태그 추출  \n",
        "    - bs.태그명.children\n",
        "  \n",
        "  - 형제 태그 추출\n",
        "    - bs.태그명.next_sibling\n",
        "    - bs.태그명.previous_sibling\n",
        "    - bs.태그명.next_siblings\n",
        "    - bs.태그명.previous_siblings\n",
        "\n",
        "  - 자손 태그 추출\n",
        "    - bs.태그명.descendants\n",
        "\n",
        "- bs4.BeautifulSoup 객체의 주요 메서드\n",
        "\n",
        " - HTML 문서에 대한 파싱이 끝나고 생성된 트리 구조 형식의 DOM객체\n",
        "\n",
        " - 태그 찾기 기능의 주요 메서드\n",
        "   - find_all( ) - 3버전 / findAll( ) - 2버전\n",
        "   - find( )\n",
        "   - select( )\n",
        "   - find_parents( ) 및 find_parent( )\n",
        "   - find_next_siblings( ) 및 find_next_sibling( )\n",
        "   - find_previous_siblings( ) 및 find_previous_sibling( )\n",
        "   - find_all_next( ) 및 find_next( )\n",
        "   - first_all_previous( ) 및 first_previous( )\n",
        "   "
      ],
      "metadata": {
        "id": "dEK4PLFaNdmk"
      }
    },
    {
      "cell_type": "markdown",
      "source": [
        "### bs.find( )\n",
        "\n",
        "- 주어진 기준에 맞는 태그 한 개만 리턴\n",
        "\n",
        "- 결과는 존재하면 bs4.element.Tag, 존재하지 않으면 None을 리턴\n",
        "\n",
        "- find( )는 find_all( )에 limit = 1 로 설정한 것과 동일하게 수행"
      ],
      "metadata": {
        "id": "qBL_g7jMOP9U"
      }
    },
    {
      "cell_type": "code",
      "source": [
        "import requests\n",
        "import bs4\n",
        "\n",
        "url = 'http://www.naver.com'\n",
        "res = requests.get(url)\n",
        "\n",
        "# print(res.text)\n",
        "\n",
        "# BeautifulSoup(parsing할 데이터, parsing방법)\n",
        "# res.text를 html로 파싱\n",
        "bs_obj = bs4.BeautifulSoup(res.text, 'html.parser')\n",
        "# print(bs_obj)\n",
        "print(type(bs_obj)) # bs4.BeautifulSoup\n",
        "\n",
        "print(bs_obj.find('div'))\n",
        "\n",
        "bs_obj2 = bs4.BeautifulSoup(res.text, 'lxml')\n",
        "print(type(bs_obj2))\n",
        "print(bs_obj.find('div')) # 태그명으로 접근\n",
        "print(type(bs_obj2.find('div'))) # bs4.element.Tag\n",
        "print(bs_obj2.find('xk')) # 결과값이 없으면 None"
      ],
      "metadata": {
        "colab": {
          "base_uri": "https://localhost:8080/"
        },
        "id": "lqJ2lR4MOjw4",
        "outputId": "986679df-c8e2-45d1-e2d4-39aa9c88b118"
      },
      "execution_count": 50,
      "outputs": [
        {
          "output_type": "stream",
          "name": "stdout",
          "text": [
            "<class 'bs4.BeautifulSoup'>\n",
            "<div id=\"u_skip\"> <a href=\"#newsstand\"><span>뉴스스탠드 바로가기</span></a> <a href=\"#themecast\"><span>주제별캐스트 바로가기</span></a> <a href=\"#timesquare\"><span>타임스퀘어 바로가기</span></a> <a href=\"#shopcast\"><span>쇼핑캐스트 바로가기</span></a> <a href=\"#account\"><span>로그인 바로가기</span></a> </div>\n",
            "<class 'bs4.BeautifulSoup'>\n",
            "<div id=\"u_skip\"> <a href=\"#newsstand\"><span>뉴스스탠드 바로가기</span></a> <a href=\"#themecast\"><span>주제별캐스트 바로가기</span></a> <a href=\"#timesquare\"><span>타임스퀘어 바로가기</span></a> <a href=\"#shopcast\"><span>쇼핑캐스트 바로가기</span></a> <a href=\"#account\"><span>로그인 바로가기</span></a> </div>\n",
            "<class 'bs4.element.Tag'>\n",
            "None\n"
          ]
        }
      ]
    },
    {
      "cell_type": "markdown",
      "source": [
        "### 소스 예제"
      ],
      "metadata": {
        "id": "UPvLdTo9POxR"
      }
    },
    {
      "cell_type": "code",
      "source": [
        "html_str = \"\"\"\n",
        "<!DOCTYPE html>\n",
        "<html>\n",
        "  <body>\n",
        "    <ul class=\"ko\">\n",
        "      <li>\n",
        "        <p> Previous Element1 </p>\n",
        "        <p> Previous Element2 </p>\n",
        "        <a href=\"https://www.naver.com\"> 네이버 </a>\n",
        "        <p> Next Element1 </p>\n",
        "        <p> Next Element2 </p>\n",
        "      </li>\n",
        "      <li>\n",
        "        <a href=\"https://www.daum.net\"> 다음 </a>\n",
        "      </li>\n",
        "    </ul>\n",
        "\n",
        "    <ul class=\"sns\">\n",
        "      <li>\n",
        "        <a href=\"https://www.google.com\"> 구글 </a>\n",
        "      </li>\n",
        "      <li>\n",
        "        <a href=\"https://www.facebook.com\"> 페이스북 </a>\n",
        "      </li>\n",
        "    </ul>\n",
        "    <div id=\"result\">page</div>\n",
        "  </body>\n",
        "</html>\n",
        "\"\"\""
      ],
      "metadata": {
        "id": "S-cZVuLQPQa4"
      },
      "execution_count": 52,
      "outputs": []
    },
    {
      "cell_type": "code",
      "source": [
        "bs_obj = bs4.BeautifulSoup(html_str, 'lxml')"
      ],
      "metadata": {
        "id": "Rcqshu2fPW0V"
      },
      "execution_count": 53,
      "outputs": []
    },
    {
      "cell_type": "markdown",
      "source": [
        "#### find( )"
      ],
      "metadata": {
        "id": "0zMA1XpSPapU"
      }
    },
    {
      "cell_type": "code",
      "source": [
        "print(type(bs_obj))"
      ],
      "metadata": {
        "colab": {
          "base_uri": "https://localhost:8080/"
        },
        "id": "o9rbrjcrPcTc",
        "outputId": "f79226f7-f38b-46bb-c851-dfabbd662731"
      },
      "execution_count": 54,
      "outputs": [
        {
          "output_type": "stream",
          "name": "stdout",
          "text": [
            "<class 'bs4.BeautifulSoup'>\n"
          ]
        }
      ]
    },
    {
      "cell_type": "code",
      "source": [
        "print(bs_obj.find('div'))\n",
        "print(type(bs_obj.find('div'))) \n",
        "print(dir(bs_obj.find('div')))\n",
        "print(bs_obj.find('div').text) # page"
      ],
      "metadata": {
        "colab": {
          "base_uri": "https://localhost:8080/"
        },
        "id": "qVjfa52MPmyR",
        "outputId": "782789fd-81d1-4034-f559-5c929eed5133"
      },
      "execution_count": 56,
      "outputs": [
        {
          "output_type": "stream",
          "name": "stdout",
          "text": [
            "<div id=\"result\">page</div>\n",
            "<class 'bs4.element.Tag'>\n",
            "['HTML_FORMATTERS', 'XML_FORMATTERS', '__bool__', '__call__', '__class__', '__contains__', '__copy__', '__delattr__', '__delitem__', '__dict__', '__dir__', '__doc__', '__eq__', '__format__', '__ge__', '__getattr__', '__getattribute__', '__getitem__', '__gt__', '__hash__', '__init__', '__init_subclass__', '__iter__', '__le__', '__len__', '__lt__', '__module__', '__ne__', '__new__', '__reduce__', '__reduce_ex__', '__repr__', '__setattr__', '__setitem__', '__sizeof__', '__str__', '__subclasshook__', '__unicode__', '__weakref__', '_all_strings', '_attr_value_as_string', '_attribute_checker', '_find_all', '_find_one', '_formatter_for_name', '_is_xml', '_lastRecursiveChild', '_last_descendant', '_select_debug', '_selector_combinators', '_should_pretty_print', '_tag_name_matches_and', 'append', 'attribselect_re', 'attrs', 'can_be_empty_element', 'childGenerator', 'children', 'clear', 'contents', 'decode', 'decode_contents', 'decompose', 'descendants', 'encode', 'encode_contents', 'extract', 'fetchNextSiblings', 'fetchParents', 'fetchPrevious', 'fetchPreviousSiblings', 'find', 'findAll', 'findAllNext', 'findAllPrevious', 'findChild', 'findChildren', 'findNext', 'findNextSibling', 'findNextSiblings', 'findParent', 'findParents', 'findPrevious', 'findPreviousSibling', 'findPreviousSiblings', 'find_all', 'find_all_next', 'find_all_previous', 'find_next', 'find_next_sibling', 'find_next_siblings', 'find_parent', 'find_parents', 'find_previous', 'find_previous_sibling', 'find_previous_siblings', 'format_string', 'get', 'getText', 'get_attribute_list', 'get_text', 'has_attr', 'has_key', 'hidden', 'index', 'insert', 'insert_after', 'insert_before', 'isSelfClosing', 'is_empty_element', 'known_xml', 'name', 'namespace', 'next', 'nextGenerator', 'nextSibling', 'nextSiblingGenerator', 'next_element', 'next_elements', 'next_sibling', 'next_siblings', 'parent', 'parentGenerator', 'parents', 'parserClass', 'parser_class', 'prefix', 'preserve_whitespace_tags', 'prettify', 'previous', 'previousGenerator', 'previousSibling', 'previousSiblingGenerator', 'previous_element', 'previous_elements', 'previous_sibling', 'previous_siblings', 'quoted_colon', 'recursiveChildGenerator', 'renderContents', 'replaceWith', 'replaceWithChildren', 'replace_with', 'replace_with_children', 'select', 'select_one', 'setup', 'string', 'strings', 'stripped_strings', 'tag_name_re', 'text', 'unwrap', 'wrap']\n",
            "page\n"
          ]
        }
      ]
    },
    {
      "cell_type": "code",
      "source": [
        "ul = bs_obj.find('ul')\n",
        "print(ul)"
      ],
      "metadata": {
        "colab": {
          "base_uri": "https://localhost:8080/"
        },
        "id": "Exbtc6ZDPxPN",
        "outputId": "755179c9-bd96-42c4-a0f6-7a7fefe1de78"
      },
      "execution_count": 57,
      "outputs": [
        {
          "output_type": "stream",
          "name": "stdout",
          "text": [
            "<ul class=\"ko\">\n",
            "<li>\n",
            "<p> Previous Element1 </p>\n",
            "<p> Previous Element2 </p>\n",
            "<a href=\"https://www.naver.com\"> 네이버 </a>\n",
            "<p> Next Element1 </p>\n",
            "<p> Next Element2 </p>\n",
            "</li>\n",
            "<li>\n",
            "<a href=\"https://www.daum.net\"> 다음 </a>\n",
            "</li>\n",
            "</ul>\n"
          ]
        }
      ]
    },
    {
      "cell_type": "code",
      "source": [
        "ulEle = bs_obj.find('ul')\n",
        "print(ulEle)\n",
        "print('-----------------')\n",
        "ul_li = ulEle.find('li')\n",
        "print(ul_li)\n",
        "print(type(ul_li))\n",
        "print(ul_li.text)"
      ],
      "metadata": {
        "colab": {
          "base_uri": "https://localhost:8080/"
        },
        "id": "y3hertIDP6vN",
        "outputId": "035b5919-bc86-4d71-c0e4-bd4ad60d125b"
      },
      "execution_count": 60,
      "outputs": [
        {
          "output_type": "stream",
          "name": "stdout",
          "text": [
            "<ul class=\"ko\">\n",
            "<li>\n",
            "<p> Previous Element1 </p>\n",
            "<p> Previous Element2 </p>\n",
            "<a href=\"https://www.naver.com\"> 네이버 </a>\n",
            "<p> Next Element1 </p>\n",
            "<p> Next Element2 </p>\n",
            "</li>\n",
            "<li>\n",
            "<a href=\"https://www.daum.net\"> 다음 </a>\n",
            "</li>\n",
            "</ul>\n",
            "-----------------\n",
            "<li>\n",
            "<p> Previous Element1 </p>\n",
            "<p> Previous Element2 </p>\n",
            "<a href=\"https://www.naver.com\"> 네이버 </a>\n",
            "<p> Next Element1 </p>\n",
            "<p> Next Element2 </p>\n",
            "</li>\n",
            "<class 'bs4.element.Tag'>\n",
            "\n",
            " Previous Element1 \n",
            " Previous Element2 \n",
            " 네이버 \n",
            " Next Element1 \n",
            " Next Element2 \n",
            "\n"
          ]
        }
      ]
    },
    {
      "cell_type": "markdown",
      "source": [
        "#### find_all( )\n",
        "\n",
        "- 주어진 기준에 맞는 모든 태그를 가져온다.\n",
        "\n",
        "- 결과는 bs4.element.ResultSet 객체로 리턴\n",
        "\n",
        "- 호출 방법\n",
        "  \n",
        "  - find_all( 'div' )\n",
        "\n",
        "  - find_all( [ 'p', 'img ] )\n",
        "\n",
        "  - find_all( True )\n",
        "\n",
        "  - find_all( re.compile ( '^b' ) ) # b로 시작하는\n",
        "\n",
        "  - find_all( id = 'link' )\n",
        "\n",
        "  - find_all( src = re.compile ( 'png$' ), id = 'fid' )\n",
        "\n",
        "  - find_all( 'a', limint = 2 )"
      ],
      "metadata": {
        "id": "WREIHWyPQLMI"
      }
    },
    {
      "cell_type": "code",
      "source": [
        "ul = bs_obj.find('ul')\n",
        "ul_li = ul.find_all('li')\n",
        "#print(ul_li)\n",
        "print(type(ul_li)) # bs4.element.ResultSet (ResultSet도 iterable이다.)\n",
        "\n",
        "print(ul_li[0])\n",
        "print(ul_li[1])\n",
        "\n",
        "for element in ul_li :\n",
        "  print(element.text)"
      ],
      "metadata": {
        "colab": {
          "base_uri": "https://localhost:8080/"
        },
        "id": "-VUremyIQoip",
        "outputId": "4d8c966b-7fa4-4805-df9d-6321fdf3b803"
      },
      "execution_count": 69,
      "outputs": [
        {
          "output_type": "stream",
          "name": "stdout",
          "text": [
            "<class 'bs4.element.ResultSet'>\n",
            "<li>\n",
            "<p> Previous Element1 </p>\n",
            "<p> Previous Element2 </p>\n",
            "<a href=\"https://www.naver.com\"> 네이버 </a>\n",
            "<p> Next Element1 </p>\n",
            "<p> Next Element2 </p>\n",
            "</li>\n",
            "<li>\n",
            "<a href=\"https://www.daum.net\"> 다음 </a>\n",
            "</li>\n",
            "\n",
            " Previous Element1 \n",
            " Previous Element2 \n",
            " 네이버 \n",
            " Next Element1 \n",
            " Next Element2 \n",
            "\n",
            "\n",
            " 다음 \n",
            "\n"
          ]
        }
      ]
    },
    {
      "cell_type": "markdown",
      "source": [
        "#### 클래스 속성 attrs 이용하기\n",
        "\n",
        "tag_and_property"
      ],
      "metadata": {
        "id": "Z60gNkHnRMml"
      }
    },
    {
      "cell_type": "code",
      "source": [
        "ul_reply = bs_obj.find('ul')\n",
        "print(ul_reply)\n",
        "\n",
        "print('------------------------------')\n",
        "\n",
        "ul_ko = bs_obj.find('ul', attrs = {'class' : 'ko'})\n",
        "print(ul_ko)\n",
        "\n",
        "print('------------------------------')\n",
        "\n",
        "ul_sns = bs_obj.find('ul', {'class' : 'sns'})\n",
        "print(ul_sns)\n",
        "\n",
        "print('------------------------------')\n",
        "\n",
        "ul_li = ul_sns.find_all('li')\n",
        "for li in ul_li :\n",
        "  print(li.text)\n"
      ],
      "metadata": {
        "colab": {
          "base_uri": "https://localhost:8080/"
        },
        "id": "1rnapSaGRQvf",
        "outputId": "ccb9017c-4282-4243-8ace-96224a2457d0"
      },
      "execution_count": 71,
      "outputs": [
        {
          "output_type": "stream",
          "name": "stdout",
          "text": [
            "<ul class=\"ko\">\n",
            "<li>\n",
            "<p> Previous Element1 </p>\n",
            "<p> Previous Element2 </p>\n",
            "<a href=\"https://www.naver.com\"> 네이버 </a>\n",
            "<p> Next Element1 </p>\n",
            "<p> Next Element2 </p>\n",
            "</li>\n",
            "<li>\n",
            "<a href=\"https://www.daum.net\"> 다음 </a>\n",
            "</li>\n",
            "</ul>\n",
            "------------------------------\n",
            "<ul class=\"ko\">\n",
            "<li>\n",
            "<p> Previous Element1 </p>\n",
            "<p> Previous Element2 </p>\n",
            "<a href=\"https://www.naver.com\"> 네이버 </a>\n",
            "<p> Next Element1 </p>\n",
            "<p> Next Element2 </p>\n",
            "</li>\n",
            "<li>\n",
            "<a href=\"https://www.daum.net\"> 다음 </a>\n",
            "</li>\n",
            "</ul>\n",
            "------------------------------\n",
            "<ul class=\"sns\">\n",
            "<li>\n",
            "<a href=\"https://www.google.com\"> 구글 </a>\n",
            "</li>\n",
            "<li>\n",
            "<a href=\"https://www.facebook.com\"> 페이스북 </a>\n",
            "</li>\n",
            "</ul>\n",
            "------------------------------\n",
            "\n",
            " 구글 \n",
            "\n",
            "\n",
            " 페이스북 \n",
            "\n"
          ]
        }
      ]
    },
    {
      "cell_type": "markdown",
      "source": [
        "#### 속성 값 가져오기\n",
        "\n",
        "property_href"
      ],
      "metadata": {
        "id": "QtA5j1s5QvGN"
      }
    },
    {
      "cell_type": "code",
      "source": [
        "atag = bs_obj.find('a')\n",
        "print(atag)\n",
        "print(type(atag))\n",
        "print(atag['href'])\n",
        "print(type(atag['href'])) # str 문자열"
      ],
      "metadata": {
        "colab": {
          "base_uri": "https://localhost:8080/"
        },
        "id": "yB5dDM5FR3yg",
        "outputId": "a4780ad1-c97f-4d0a-da57-87646c92160d"
      },
      "execution_count": 74,
      "outputs": [
        {
          "output_type": "stream",
          "name": "stdout",
          "text": [
            "<a href=\"https://www.naver.com\"> 네이버 </a>\n",
            "<class 'bs4.element.Tag'>\n",
            "https://www.naver.com\n",
            "<class 'str'>\n"
          ]
        }
      ]
    },
    {
      "cell_type": "code",
      "source": [
        "atag = bs_obj.find_all('a')\n",
        "print(atag)\n",
        "print(len(atag))\n",
        "\n",
        "for atn in atag :\n",
        "  print(atn['href'])"
      ],
      "metadata": {
        "colab": {
          "base_uri": "https://localhost:8080/"
        },
        "id": "4VR6FKNISAhn",
        "outputId": "e34fb5aa-aac7-4366-faca-385c95711f84"
      },
      "execution_count": 76,
      "outputs": [
        {
          "output_type": "stream",
          "name": "stdout",
          "text": [
            "[<a href=\"https://www.naver.com\"> 네이버 </a>, <a href=\"https://www.daum.net\"> 다음 </a>, <a href=\"https://www.google.com\"> 구글 </a>, <a href=\"https://www.facebook.com\"> 페이스북 </a>]\n",
            "4\n",
            "https://www.naver.com\n",
            "https://www.daum.net\n",
            "https://www.google.com\n",
            "https://www.facebook.com\n"
          ]
        }
      ]
    },
    {
      "cell_type": "code",
      "source": [
        "a = bs_obj.find('a').attrs\n",
        "print(a)\n",
        "print(type(a)) # dict"
      ],
      "metadata": {
        "colab": {
          "base_uri": "https://localhost:8080/"
        },
        "id": "Wplp3K2KSIom",
        "outputId": "f812e38c-0432-4703-f9db-0e4f578aace6"
      },
      "execution_count": 78,
      "outputs": [
        {
          "output_type": "stream",
          "name": "stdout",
          "text": [
            "{'href': 'https://www.naver.com'}\n",
            "<class 'dict'>\n"
          ]
        }
      ]
    },
    {
      "cell_type": "code",
      "source": [
        "# id속성 값이 'result'인 태그를 가져온다.\n",
        "dv = bs_obj.find(id = 'result')\n",
        "print(dv)\n",
        "print(type(dv))"
      ],
      "metadata": {
        "colab": {
          "base_uri": "https://localhost:8080/"
        },
        "id": "ndecmxcpSPD3",
        "outputId": "59fb3443-671e-49b3-d8e3-d741d7c90f34"
      },
      "execution_count": 79,
      "outputs": [
        {
          "output_type": "stream",
          "name": "stdout",
          "text": [
            "<div id=\"result\">page</div>\n",
            "<class 'bs4.element.Tag'>\n"
          ]
        }
      ]
    },
    {
      "cell_type": "code",
      "source": [
        "# uclass = bs_obj.find(class = 'ko')  오류. class자체의 메서드 및 클래스 존재\n",
        "# uclass = bs_obj.find(class_ = 'ko') 언더바를 붙여주면 된다.\n",
        "# 태그명을 가져오기 않고 논리값을 주어 중괄호로 대입하여 값 갖고오기\n",
        "uclass = bs_obj.find(True, {'class' : 'ko'})\n",
        "print(uclass)\n",
        "\n",
        "print('------------------------------')\n",
        "\n",
        "uclass = bs_obj.find(False, {'class' : 'ko'})\n",
        "print(uclass)\n",
        "\n",
        "print('------------------------------')\n",
        "\n",
        "uclass = bs_obj.find('*', {'class' : 'ko'})\n",
        "print(uclass)"
      ],
      "metadata": {
        "colab": {
          "base_uri": "https://localhost:8080/"
        },
        "id": "iAno5wfcSXoH",
        "outputId": "cbca99b1-3862-441d-cf04-a8c40f7e022a"
      },
      "execution_count": 82,
      "outputs": [
        {
          "output_type": "stream",
          "name": "stdout",
          "text": [
            "<ul class=\"ko\">\n",
            "<li>\n",
            "<p> Previous Element1 </p>\n",
            "<p> Previous Element2 </p>\n",
            "<a href=\"https://www.naver.com\"> 네이버 </a>\n",
            "<p> Next Element1 </p>\n",
            "<p> Next Element2 </p>\n",
            "</li>\n",
            "<li>\n",
            "<a href=\"https://www.daum.net\"> 다음 </a>\n",
            "</li>\n",
            "</ul>\n",
            "------------------------------\n",
            "<ul class=\"ko\">\n",
            "<li>\n",
            "<p> Previous Element1 </p>\n",
            "<p> Previous Element2 </p>\n",
            "<a href=\"https://www.naver.com\"> 네이버 </a>\n",
            "<p> Next Element1 </p>\n",
            "<p> Next Element2 </p>\n",
            "</li>\n",
            "<li>\n",
            "<a href=\"https://www.daum.net\"> 다음 </a>\n",
            "</li>\n",
            "</ul>\n",
            "------------------------------\n",
            "None\n"
          ]
        }
      ]
    },
    {
      "cell_type": "code",
      "source": [
        "# single element\n",
        "print(bs_obj.find('a'))\n",
        "print(bs_obj.a)\n",
        "\n",
        "print('------------------------------')\n",
        "\n",
        "print(bs_obj.find('a').get_text())\n",
        "print(type(bs_obj.find('a').get_text()))\n",
        "print(bs_obj.a.get_text())\n",
        "print(type(bs_obj.a.get_text()))"
      ],
      "metadata": {
        "colab": {
          "base_uri": "https://localhost:8080/"
        },
        "id": "RXiz7XO2S0m-",
        "outputId": "e10534b0-6bcb-4e42-92fb-ccde86fd7eb2"
      },
      "execution_count": 85,
      "outputs": [
        {
          "output_type": "stream",
          "name": "stdout",
          "text": [
            "<a href=\"https://www.naver.com\"> 네이버 </a>\n",
            "<a href=\"https://www.naver.com\"> 네이버 </a>\n",
            "------------------------------\n",
            " 네이버 \n",
            "<class 'str'>\n",
            " 네이버 \n",
            "<class 'str'>\n"
          ]
        }
      ]
    },
    {
      "cell_type": "code",
      "source": [
        "# multi element\n",
        "print(bs_obj.find_all('a'))\n",
        "\n",
        "print(bs_obj.find_all('a')[0].get_text())\n",
        "print(bs_obj.find_all('a')[1].get_text())\n",
        "print(bs_obj.find_all('a')[2].get_text())\n",
        "print(bs_obj.find_all('a')[3].get_text())\n",
        "\n",
        "print(type(bs_obj.find_all('a')))\n",
        "print(type(bs_obj.find('a')))"
      ],
      "metadata": {
        "colab": {
          "base_uri": "https://localhost:8080/"
        },
        "id": "H14HhWYVS4cp",
        "outputId": "3dacc97d-1f57-49a9-b63f-f5cf048cf8ba"
      },
      "execution_count": 87,
      "outputs": [
        {
          "output_type": "stream",
          "name": "stdout",
          "text": [
            "[<a href=\"https://www.naver.com\"> 네이버 </a>, <a href=\"https://www.daum.net\"> 다음 </a>, <a href=\"https://www.google.com\"> 구글 </a>, <a href=\"https://www.facebook.com\"> 페이스북 </a>]\n",
            " 네이버 \n",
            " 다음 \n",
            " 구글 \n",
            " 페이스북 \n",
            "<class 'bs4.element.ResultSet'>\n",
            "<class 'bs4.element.Tag'>\n"
          ]
        }
      ]
    },
    {
      "cell_type": "code",
      "source": [
        "# attribute\n",
        "print(bs_obj.attrs)\n",
        "print(bs_obj.find('a').attrs) # a의 속성\n",
        "print(bs_obj.a['href']) # 속성 안의 값\n",
        "print(bs_obj.a.attrs['href']) # a의 속성 중 href의 속성 값"
      ],
      "metadata": {
        "colab": {
          "base_uri": "https://localhost:8080/"
        },
        "id": "bJ8ME7mTTQHI",
        "outputId": "1dbcadbb-e839-4442-c3b9-16f4fda75c20"
      },
      "execution_count": 90,
      "outputs": [
        {
          "output_type": "stream",
          "name": "stdout",
          "text": [
            "{}\n",
            "{'href': 'https://www.naver.com'}\n",
            "https://www.naver.com\n",
            "https://www.naver.com\n"
          ]
        }
      ]
    },
    {
      "cell_type": "code",
      "source": [
        "# 자식\n",
        "print(bs_obj.ul.children)\n",
        "print(type(bs_obj.ul.children)) # list_iterator\n",
        "\n",
        "for sub in bs_obj.ul.children :\n",
        "  print(sub)\n",
        "\n",
        "print('---------------------------')\n",
        "\n",
        "for sub in bs_obj.find_all('ul')[1].children :\n",
        "  print(sub)"
      ],
      "metadata": {
        "colab": {
          "base_uri": "https://localhost:8080/"
        },
        "id": "2-JV6QIsTeJp",
        "outputId": "5061adb4-42b4-4d36-f935-2b27b42b6bc0"
      },
      "execution_count": 98,
      "outputs": [
        {
          "output_type": "stream",
          "name": "stdout",
          "text": [
            "<list_iterator object at 0x7f54402fa400>\n",
            "<class 'list_iterator'>\n",
            "\n",
            "\n",
            "<li>\n",
            "<p> Previous Element1 </p>\n",
            "<p> Previous Element2 </p>\n",
            "<a href=\"https://www.naver.com\"> 네이버 </a>\n",
            "<p> Next Element1 </p>\n",
            "<p> Next Element2 </p>\n",
            "</li>\n",
            "\n",
            "\n",
            "<li>\n",
            "<a href=\"https://www.daum.net\"> 다음 </a>\n",
            "</li>\n",
            "\n",
            "\n",
            "---------------------------\n",
            "\n",
            "\n",
            "<li>\n",
            "<a href=\"https://www.google.com\"> 구글 </a>\n",
            "</li>\n",
            "\n",
            "\n",
            "<li>\n",
            "<a href=\"https://www.facebook.com\"> 페이스북 </a>\n",
            "</li>\n",
            "\n",
            "\n"
          ]
        }
      ]
    },
    {
      "cell_type": "code",
      "source": [
        "# siblings\n",
        "print(bs_obj.find('a').next_siblings)\n",
        "print(type(bs_obj.find('a').next_siblings)) # generator\n",
        "\n",
        "ele = bs_obj.find('a').next_siblings\n",
        "print(ele)\n",
        "\n",
        "cnt = 0\n",
        "for subNext in ele :\n",
        "  cnt += 1\n",
        "  print(subNext)\n",
        "print(cnt)"
      ],
      "metadata": {
        "colab": {
          "base_uri": "https://localhost:8080/"
        },
        "id": "zG1kpAkkUFBl",
        "outputId": "67806006-3381-40d7-8de8-7256a397bfa5"
      },
      "execution_count": 102,
      "outputs": [
        {
          "output_type": "stream",
          "name": "stdout",
          "text": [
            "<generator object PageElement.next_siblings at 0x7f5441653ac0>\n",
            "<class 'generator'>\n",
            "<generator object PageElement.next_siblings at 0x7f5441653ac0>\n",
            "\n",
            "\n",
            "<p> Next Element1 </p>\n",
            "\n",
            "\n",
            "<p> Next Element2 </p>\n",
            "\n",
            "\n",
            "5\n"
          ]
        }
      ]
    },
    {
      "cell_type": "code",
      "source": [
        "# 정규 표현식과 람다식\n",
        "import re\n",
        "\n",
        "# . 임의의 문자 하나 / * 여러문자 / $ 앞에 글자로 끝나는\n",
        "\n",
        "print(bs_obj.find('a', {'href' : 'https://www.naver.com'}))\n",
        "print(bs_obj.find('a', {'href' : re.compile('.*com')}))\n",
        "print(bs_obj.find('a', {'href' : re.compile('.*co')}))\n",
        "print(bs_obj.find('a', {'href' : re.compile('.*com$')}))\n",
        "\n",
        "print('---------------------------')\n",
        "\n",
        "print(bs_obj.find_all('a', {'href' : re.compile('.*com$')}))\n",
        "print(bs_obj.find_all('a', {'href' : re.compile('.*naver.*')}))\n",
        "print(bs_obj.find_all('a', {'href' : re.compile('naver')}))\n",
        "\n",
        "print('---------------------------')\n",
        "\n",
        "print(bs_obj.find(href = lambda val : val))\n",
        "print(bs_obj.find(href = lambda val : val and 'naver' in val))\n",
        "print(bs_obj.find(href = lambda val : val and 'daum' in val))\n",
        "\n",
        "print('---------------------------')\n",
        "\n",
        "print(bs_obj.find(class_ = lambda val : val))\n",
        "\n",
        "print(bs_obj.find(class_ = lambda val : val and 'sns' in val))"
      ],
      "metadata": {
        "colab": {
          "base_uri": "https://localhost:8080/"
        },
        "id": "ACKx4S6ZUh01",
        "outputId": "c3c86584-a16c-453a-a376-d48905439d92"
      },
      "execution_count": 106,
      "outputs": [
        {
          "output_type": "stream",
          "name": "stdout",
          "text": [
            "<a href=\"https://www.naver.com\"> 네이버 </a>\n",
            "<a href=\"https://www.naver.com\"> 네이버 </a>\n",
            "<a href=\"https://www.naver.com\"> 네이버 </a>\n",
            "<a href=\"https://www.naver.com\"> 네이버 </a>\n",
            "---------------------------\n",
            "[<a href=\"https://www.naver.com\"> 네이버 </a>, <a href=\"https://www.google.com\"> 구글 </a>, <a href=\"https://www.facebook.com\"> 페이스북 </a>]\n",
            "[<a href=\"https://www.naver.com\"> 네이버 </a>]\n",
            "[<a href=\"https://www.naver.com\"> 네이버 </a>]\n",
            "---------------------------\n",
            "<a href=\"https://www.naver.com\"> 네이버 </a>\n",
            "<a href=\"https://www.naver.com\"> 네이버 </a>\n",
            "<a href=\"https://www.daum.net\"> 다음 </a>\n",
            "---------------------------\n",
            "<ul class=\"ko\">\n",
            "<li>\n",
            "<p> Previous Element1 </p>\n",
            "<p> Previous Element2 </p>\n",
            "<a href=\"https://www.naver.com\"> 네이버 </a>\n",
            "<p> Next Element1 </p>\n",
            "<p> Next Element2 </p>\n",
            "</li>\n",
            "<li>\n",
            "<a href=\"https://www.daum.net\"> 다음 </a>\n",
            "</li>\n",
            "</ul>\n",
            "<ul class=\"sns\">\n",
            "<li>\n",
            "<a href=\"https://www.google.com\"> 구글 </a>\n",
            "</li>\n",
            "<li>\n",
            "<a href=\"https://www.facebook.com\"> 페이스북 </a>\n",
            "</li>\n",
            "</ul>\n"
          ]
        }
      ]
    },
    {
      "cell_type": "markdown",
      "source": [
        "#### select( ) vs select_one( )\n",
        "\n",
        "- 주어진 css 선택자에 맞는 모든 태그를 가져온다.\n",
        "\n",
        "- 결과는 list 객체로 리턴\n",
        "\n",
        "- css 선택자를 적용한 호출\n",
        "  - select('태그명')\n",
        "\n",
        "  - select('.클래스명')\n",
        "\n",
        "  - select('#아이디명')\n",
        "\n",
        "  - select('태그명.클래스명')\n",
        "\n",
        "  - select('상위태그명 > 자식태그명 > 손자태그명')\n",
        "\n",
        "  - select('태그명:nth-of-type(2)')\n",
        "  \n",
        "  - select('태그명[속성]')"
      ],
      "metadata": {
        "id": "bnCvi2BbVf9m"
      }
    },
    {
      "cell_type": "code",
      "source": [
        "ul = bs_obj.select_one('ul')\n",
        "print(ul)\n",
        "print(type(ul))\n",
        "\n",
        "ul_li = bs_obj.select_one('ul > li') \n",
        "print(ul_li)"
      ],
      "metadata": {
        "colab": {
          "base_uri": "https://localhost:8080/"
        },
        "id": "kUdEE-sDVr9g",
        "outputId": "4e71011e-eb59-4aa1-8748-e496d99bc695"
      },
      "execution_count": 107,
      "outputs": [
        {
          "output_type": "stream",
          "name": "stdout",
          "text": [
            "<ul class=\"ko\">\n",
            "<li>\n",
            "<p> Previous Element1 </p>\n",
            "<p> Previous Element2 </p>\n",
            "<a href=\"https://www.naver.com\"> 네이버 </a>\n",
            "<p> Next Element1 </p>\n",
            "<p> Next Element2 </p>\n",
            "</li>\n",
            "<li>\n",
            "<a href=\"https://www.daum.net\"> 다음 </a>\n",
            "</li>\n",
            "</ul>\n",
            "<class 'bs4.element.Tag'>\n",
            "<li>\n",
            "<p> Previous Element1 </p>\n",
            "<p> Previous Element2 </p>\n",
            "<a href=\"https://www.naver.com\"> 네이버 </a>\n",
            "<p> Next Element1 </p>\n",
            "<p> Next Element2 </p>\n",
            "</li>\n"
          ]
        }
      ]
    },
    {
      "cell_type": "code",
      "source": [
        "print(bs_obj.select('a'))\n",
        "print(type(bs_obj.select('a')))"
      ],
      "metadata": {
        "colab": {
          "base_uri": "https://localhost:8080/"
        },
        "id": "sauZwn0bV8P9",
        "outputId": "3f7adc7a-8703-469b-9b44-d8e61ea06d3b"
      },
      "execution_count": 108,
      "outputs": [
        {
          "output_type": "stream",
          "name": "stdout",
          "text": [
            "[<a href=\"https://www.naver.com\"> 네이버 </a>, <a href=\"https://www.daum.net\"> 다음 </a>, <a href=\"https://www.google.com\"> 구글 </a>, <a href=\"https://www.facebook.com\"> 페이스북 </a>]\n",
            "<class 'list'>\n"
          ]
        }
      ]
    },
    {
      "cell_type": "code",
      "source": [
        "bs_obj.select('#result')"
      ],
      "metadata": {
        "colab": {
          "base_uri": "https://localhost:8080/"
        },
        "id": "lHquZEk0WBJV",
        "outputId": "29c74e4e-89aa-4c67-fe70-fc1e03ddb02a"
      },
      "execution_count": 111,
      "outputs": [
        {
          "output_type": "execute_result",
          "data": {
            "text/plain": [
              "[<div id=\"result\">page</div>]"
            ]
          },
          "metadata": {},
          "execution_count": 111
        }
      ]
    },
    {
      "cell_type": "code",
      "source": [
        "# nth-of-type(n) : 부모 요소의 특정 요소 중 n번째\n",
        "# nth-child(n) : 부모 요소의 모든 자식 요소 중 n번째\n",
        "bs_obj.select('ul.sns > li:nth-of-type(2)')"
      ],
      "metadata": {
        "colab": {
          "base_uri": "https://localhost:8080/"
        },
        "id": "Bp-dEa19WIJK",
        "outputId": "ccde88b7-88e1-48b7-ba08-6acb4a02f20b"
      },
      "execution_count": 114,
      "outputs": [
        {
          "output_type": "execute_result",
          "data": {
            "text/plain": [
              "[<li>\n",
              " <a href=\"https://www.facebook.com\"> 페이스북 </a>\n",
              " </li>]"
            ]
          },
          "metadata": {},
          "execution_count": 114
        }
      ]
    },
    {
      "cell_type": "code",
      "source": [
        "ul_li = bs_obj.select('ul > li')\n",
        "print(ul_li)\n",
        "\n",
        "for liElement in ul_li :\n",
        "  print(liElement.text)"
      ],
      "metadata": {
        "colab": {
          "base_uri": "https://localhost:8080/"
        },
        "id": "Dkd-uxArYgyN",
        "outputId": "6ba88b51-7f47-425d-b80f-e2d647c8a1d0"
      },
      "execution_count": 117,
      "outputs": [
        {
          "output_type": "stream",
          "name": "stdout",
          "text": [
            "[<li>\n",
            "<p> Previous Element1 </p>\n",
            "<p> Previous Element2 </p>\n",
            "<a href=\"https://www.naver.com\"> 네이버 </a>\n",
            "<p> Next Element1 </p>\n",
            "<p> Next Element2 </p>\n",
            "</li>, <li>\n",
            "<a href=\"https://www.daum.net\"> 다음 </a>\n",
            "</li>, <li>\n",
            "<a href=\"https://www.google.com\"> 구글 </a>\n",
            "</li>, <li>\n",
            "<a href=\"https://www.facebook.com\"> 페이스북 </a>\n",
            "</li>]\n",
            "\n",
            " Previous Element1 \n",
            " Previous Element2 \n",
            " 네이버 \n",
            " Next Element1 \n",
            " Next Element2 \n",
            "\n",
            "\n",
            " 다음 \n",
            "\n",
            "\n",
            " 구글 \n",
            "\n",
            "\n",
            " 페이스북 \n",
            "\n"
          ]
        }
      ]
    },
    {
      "cell_type": "code",
      "source": [
        "print(bs_obj.select_one('a'))\n",
        "\n",
        "print(type(bs_obj.select_one('a'))) # find('a')와 같은 타입\n",
        "\n",
        "print(type(bs_obj.select('a')))"
      ],
      "metadata": {
        "colab": {
          "base_uri": "https://localhost:8080/"
        },
        "id": "fhG2m5VXYz_w",
        "outputId": "9b46801e-cc10-4d21-e2d6-798391fd6834"
      },
      "execution_count": 118,
      "outputs": [
        {
          "output_type": "stream",
          "name": "stdout",
          "text": [
            "<a href=\"https://www.naver.com\"> 네이버 </a>\n",
            "<class 'bs4.element.Tag'>\n",
            "<class 'list'>\n"
          ]
        }
      ]
    },
    {
      "cell_type": "markdown",
      "source": [
        "## 응답 코드가 406일 때 문제 해결 방법\n",
        "\n",
        "- 웹 url을 통해서 데이터를 가져올 때 요청에 유저(사용자) 에이전트 헤더를 검사한다.\n",
        "\n",
        "- 그리고 urllib, request, urlopen은 SSL 인증서 에러가 생긴다.\n",
        "\n",
        "- 문제 해결 방법 : requests.get( url headers = header )"
      ],
      "metadata": {
        "id": "wBFmTX6TY-I4"
      }
    },
    {
      "cell_type": "code",
      "source": [
        "url = 'https://www.melon.com'\n",
        "h = {\"User-Agent\": \"Mozilla/5.0 (Windows NT 10.0; Win64; x64) AppleWebKit/537.36 (KHTML, like Gecko) Chrome/108.0.0.0 Safari/537.36\"}\n",
        "res = requests.get(url, headers = h)\n",
        "print(res)\n",
        "\n",
        "bs_melon = bs4.BeautifulSoup(res.text, 'html.parser')\n",
        "print(type(bs_melon))"
      ],
      "metadata": {
        "colab": {
          "base_uri": "https://localhost:8080/"
        },
        "id": "sjACnQlqZLLg",
        "outputId": "ed260163-f90f-4826-9c1e-fb1ffdcf21a6"
      },
      "execution_count": 120,
      "outputs": [
        {
          "output_type": "stream",
          "name": "stdout",
          "text": [
            "<Response [200]>\n",
            "<class 'bs4.BeautifulSoup'>\n"
          ]
        }
      ]
    },
    {
      "cell_type": "markdown",
      "source": [
        "## GET 방식의 request\n",
        "\n"
      ],
      "metadata": {
        "id": "HLGJ1OmnZj4N"
      }
    },
    {
      "cell_type": "code",
      "source": [
        "def getDownload( url, param = None, retries = 5 ):\n",
        "    resp = None\n",
        "    try:\n",
        "        resp = requests.get( url, params = param )\n",
        "        resp.raise_for_status()\n",
        "    except requests.exceptions.HTTPError as e:\n",
        "        if 500 <= resp.status_code < 600 and retries > 0:\n",
        "            print( 'Retries : {0}'.format( retries ) )\n",
        "            return getDownload( url, param, retries - 1 )\n",
        "        else:\n",
        "            print( resp.status_code )\n",
        "            print( resp.reason )\n",
        "            print( resp.request.headers )\n",
        "    return resp"
      ],
      "metadata": {
        "id": "vYn3fVn0ZmWY"
      },
      "execution_count": 121,
      "outputs": []
    },
    {
      "cell_type": "code",
      "source": [
        "url = 'http://www.crawler-test.com/status_codes/status_500'\n",
        "getDownload( url )"
      ],
      "metadata": {
        "colab": {
          "base_uri": "https://localhost:8080/"
        },
        "id": "Pxu3eBVzZuVM",
        "outputId": "1949cc8e-bdf8-435b-ad25-4c26a520b630"
      },
      "execution_count": 122,
      "outputs": [
        {
          "output_type": "stream",
          "name": "stdout",
          "text": [
            "Retries : 5\n",
            "Retries : 4\n",
            "Retries : 3\n",
            "Retries : 2\n",
            "Retries : 1\n",
            "500\n",
            "Internal Server Error\n",
            "{'User-Agent': 'python-requests/2.23.0', 'Accept-Encoding': 'gzip, deflate', 'Accept': '*/*', 'Connection': 'keep-alive'}\n"
          ]
        },
        {
          "output_type": "execute_result",
          "data": {
            "text/plain": [
              "<Response [500]>"
            ]
          },
          "metadata": {},
          "execution_count": 122
        }
      ]
    },
    {
      "cell_type": "markdown",
      "source": [
        "## POST 방식 request\n"
      ],
      "metadata": {
        "id": "dhdidgXcZwbQ"
      }
    },
    {
      "cell_type": "code",
      "source": [
        "def postDownload( url, data = None, param = None, retries = 3 ):\n",
        "    resp = None\n",
        "    try:\n",
        "        resp = requests.post( url, data, params = param )\n",
        "        resp.raise_for_status()\n",
        "    except requests.exceptions.HTTPError as e:\n",
        "        if 500 <= resp.status_code < 600 and retries > 0:\n",
        "            print( 'Retries : {0}'.format( retries ) )\n",
        "            return postDownload( url, param, retries - 1 )\n",
        "        else:\n",
        "            print( resp.status_code )\n",
        "            print( resp.reason )\n",
        "            print( resp.request.headers )\n",
        "    return resp"
      ],
      "metadata": {
        "id": "KlBlS0qkZyxW"
      },
      "execution_count": 123,
      "outputs": []
    },
    {
      "cell_type": "code",
      "source": [
        "url = 'http://pythonscraping.com/pages/files/processing.php'\n",
        "data = { 'firstname':'테스트', 'lastname':1234 }"
      ],
      "metadata": {
        "id": "l_eLmoDnZ0CQ"
      },
      "execution_count": 124,
      "outputs": []
    },
    {
      "cell_type": "code",
      "source": [
        "html = postDownload( url, data )\n",
        "print( html.request.body )\n",
        "print( '------------------------------' )\n",
        "print( html.request.headers )\n",
        "html.text"
      ],
      "metadata": {
        "colab": {
          "base_uri": "https://localhost:8080/",
          "height": 90
        },
        "id": "aMb3QHX6Z01Y",
        "outputId": "89695aea-6b83-4a37-95ef-81622d8a5bb8"
      },
      "execution_count": 125,
      "outputs": [
        {
          "output_type": "stream",
          "name": "stdout",
          "text": [
            "None\n",
            "------------------------------\n",
            "{'User-Agent': 'python-requests/2.23.0', 'Accept-Encoding': 'gzip, deflate', 'Accept': '*/*', 'Connection': 'keep-alive'}\n"
          ]
        },
        {
          "output_type": "execute_result",
          "data": {
            "text/plain": [
              "'Hello there,  !'"
            ],
            "application/vnd.google.colaboratory.intrinsic+json": {
              "type": "string"
            }
          },
          "metadata": {},
          "execution_count": 125
        }
      ]
    },
    {
      "cell_type": "markdown",
      "source": [
        "## naver에서 class 속성의 값이 2개 이상일 때\n"
      ],
      "metadata": {
        "id": "CRfS3yezZ4MR"
      }
    },
    {
      "cell_type": "code",
      "source": [
        "url = requests.get('https://news.naver.com')\n",
        "\n",
        "print(url)\n",
        "\n",
        "html = bs4.BeautifulSoup(url.text, 'html.parser')\n",
        "\n",
        "newsnow = html.find('div', {'class' : 'cjs_journal_wrap _item_contents'})\n",
        "\n",
        "print(newsnow)\n",
        "\n",
        "print(re.findall('[a-z가-힣]+', newsnow.text))"
      ],
      "metadata": {
        "colab": {
          "base_uri": "https://localhost:8080/"
        },
        "id": "uFENMcLZZ66A",
        "outputId": "5294be8d-87dd-4fca-bba2-3fb7321c1319"
      },
      "execution_count": 128,
      "outputs": [
        {
          "output_type": "stream",
          "name": "stdout",
          "text": [
            "<Response [200]>\n",
            "<div class=\"cjs_journal_wrap _item_contents\">\n",
            "<a class=\"cjs_news_a _cds_link _editn_link\" href=\"https://n.news.naver.com/article/025/0003245137\" onclick=\"nclk(event, 'home.editnfimg', '', '')\">\n",
            "<div class=\"cjs_news_mw\">\n",
            "<img alt=\"\" loading=\"lazy\" onerror=\"showNoImage(this)\" src=\"https://mimgnews.pstatic.net/image/origin/025/2022/12/11/3245137.jpg?type=nf264_176&amp;ut=20221211195501\" width=\"100%\"/>\n",
            "</div>\n",
            "<div class=\"cjs_news_tw\">\n",
            "<div class=\"cjs_t\">경광봉 번쩍 \"안됩니다!\"…성탄절 트리 앞이 삼엄해진 이유</div>\n",
            "<p class=\"cjs_d\">백화점 외관에 걸린 스크린 속 무도회장의 문이 열리자 시민들은 휴대전화를 치켜들고 카메라 셔터를 누르기 바빴다. 금요일인 지난 9일 오후 8시, 서울 중구 신세계백화점 본점 본관 앞 풍경이다. 이날 건너편 인도는 백</p>\n",
            "</div>\n",
            "</a>\n",
            "</div>\n",
            "['경광봉', '번쩍', '안됩니다', '성탄절', '트리', '앞이', '삼엄해진', '이유', '백화점', '외관에', '걸린', '스크린', '속', '무도회장의', '문이', '열리자', '시민들은', '휴대전화를', '치켜들고', '카메라', '셔터를', '누르기', '바빴다', '금요일인', '지난', '일', '오후', '시', '서울', '중구', '신세계백화점', '본점', '본관', '앞', '풍경이다', '이날', '건너편', '인도는', '백']\n"
          ]
        }
      ]
    }
  ]
}